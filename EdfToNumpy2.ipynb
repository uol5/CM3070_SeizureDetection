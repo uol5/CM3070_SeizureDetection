{
 "cells": [
  {
   "cell_type": "code",
   "id": "initial_id",
   "metadata": {
    "collapsed": true,
    "ExecuteTime": {
     "end_time": "2025-02-10T07:58:59.155639Z",
     "start_time": "2025-02-10T07:58:58.437583Z"
    }
   },
   "source": [
    "import numpy as np\n",
    "import re\n",
    "import mne\n",
    "import random\n",
    "import glob\n",
    "import os\n",
    "import wfdb\n",
    "from matplotlib import pyplot as plt\n",
    "from scipy.signal import butter, filtfilt"
   ],
   "outputs": [],
   "execution_count": 1
  },
  {
   "metadata": {},
   "cell_type": "markdown",
   "source": [
    "### Create dataset with a more balanced seizure and non-seizure class sample\n",
    "\n",
    "1. \"more_balanced_signals.npy\": Contains EEG signal data with 10-second windows for each sample.\n",
    "2. \"more_balanced_labels.npy\": Corresponding labels for the EEG signal data, where 1 indicates seizure and 0 indicates non-seizure."
   ],
   "id": "5f493cdae2e4be14"
  },
  {
   "metadata": {
    "ExecuteTime": {
     "end_time": "2025-02-10T07:59:00.777680Z",
     "start_time": "2025-02-10T07:59:00.752357Z"
    }
   },
   "cell_type": "code",
   "source": [
    "# Each directory is assigned an integer ranging from 0 to 24. There are 23 patients.\n",
    "# 22 have a single directory, and 1 has two directories.\n",
    "# Retrieve the assigned directory numbers from the files.\n",
    "\n",
    "path = r'data\\raw_data\\chb-mit-scalp-eeg-database-1.0.0'\n",
    "data_folders = sorted(glob.glob(os.path.join(path, '*[0-9]')))\n",
    "\n",
    "def file_id(folder):\n",
    "    return [ name[-2:] for name in [file.rsplit('\\\\',2)[-1] for file in folder]]\n",
    "print(\"Case ID: \")\n",
    "print(file_id(data_folders))"
   ],
   "id": "4880670d677deac8",
   "outputs": [
    {
     "name": "stdout",
     "output_type": "stream",
     "text": [
      "Case ID: \n",
      "['01', '02', '03', '04', '05', '06', '07', '08', '09', '10', '11', '12', '13', '14', '15', '16', '17', '18', '19', '20', '21', '22', '23', '24']\n"
     ]
    }
   ],
   "execution_count": 2
  },
  {
   "metadata": {
    "ExecuteTime": {
     "end_time": "2025-02-10T07:59:07.570160Z",
     "start_time": "2025-02-10T07:59:07.538230Z"
    }
   },
   "cell_type": "code",
   "source": [
    "\n",
    "class EdfToNpy:\n",
    "    # Constants\n",
    "    WINDOW_TIME = 10  # segment size in seconds\n",
    "    STEP_TIME = 5     # Step size in seconds\n",
    "    SEIZURE_PROPORTION = 0.005    # proportion of non-seizure\n",
    "    TO_MICROVOLTS = 1e6\n",
    "    channel_labels = ['FP1-F7', 'F7-T7', 'T7-P7', 'P7-O1', 'FP1-F3', 'F3-C3', 'C3-P3', 'P3-O1',\n",
    "                      'FP2-F4', 'F4-C4', 'C4-P4', 'P4-O2', 'FP2-F8', 'F8-T8', 'T8-P8', 'P8-O2',\n",
    "                      'FZ-CZ', 'CZ-PZ', 'P7-T7', 'T7-FT9', 'FT9-FT10', 'FT10-T8', 'T8-P8-1']\n",
    "\n",
    "    def __init__(self, folder, save_to):\n",
    "        self.save_to = save_to\n",
    "        self.folder = folder\n",
    "\n",
    "    def bandpass_filter(self, data, lowcut=0.5, highcut=50.0, fs=256.0, order=5):\n",
    "        \"\"\"\n",
    "        Applies a bandpass filter to the input data.\n",
    "\n",
    "        Parameters:\n",
    "        data (array): The input EEG signal data.\n",
    "        lowcut (float): The lower cutoff frequency for the filter in Hz.\n",
    "        highcut (float): The upper cutoff frequency for the filter in Hz.\n",
    "        fs (float): The sampling frequency of the data in Hz.\n",
    "        order (int): The order of the Butterworth filter.\n",
    "\n",
    "         Returns:\n",
    "        array: The filtered EEG data.\n",
    "        \"\"\"\n",
    "        nyquist = 0.5 * fs\n",
    "        low = lowcut / nyquist\n",
    "        high = highcut / nyquist\n",
    "        b, a = butter(order, [low, high], btype='band')\n",
    "        return filtfilt(b, a, data, axis=-1)\n",
    "\n",
    "    def read_edf(self):\n",
    "        \"\"\"\n",
    "        Processes EDF files to extract EEG data and calculate seizure proportions.\n",
    "\n",
    "        Returns:\n",
    "        count (int): The total number of EEG windows processed.\n",
    "        num_channels (int): The total number of EEG channels.\n",
    "        window_size (int): The size of the window in data points.\n",
    "        \"\"\"\n",
    "        count = 0  # initialize the count variable\n",
    "        window_size = 0  # initialize the window_size variable\n",
    "\n",
    "        for file in self.folder:\n",
    "            edf_data = mne.io.read_raw_edf(file, preload=False)\n",
    "            edf_labels = edf_data.ch_names\n",
    "\n",
    "            # Validate channel labels\n",
    "\n",
    "            if sum([any([0 if re.match(c, l) is None else 1 for l in edf_labels]) for c in EdfToNpy.channel_labels]) == len(EdfToNpy.channel_labels):\n",
    "                sampling_freq = int(1 / (edf_data.times[1] - edf_data.times[0]))\n",
    "                window_size = sampling_freq * EdfToNpy.WINDOW_TIME\n",
    "                window_stride = sampling_freq * EdfToNpy.STEP_TIME\n",
    "\n",
    "                # Seizure annotation handling\n",
    "\n",
    "                has_seizure = np.zeros((edf_data.n_times,))\n",
    "                if os.path.exists(file + '.seizures'):\n",
    "                    has_annotation = wfdb.rdann(file, 'seizures')\n",
    "                    for idx in range(int(has_annotation.sample.size / 2)):\n",
    "                        has_seizure[has_annotation.sample[idx * 2]:has_annotation.sample[idx * 2 + 1]] = 1\n",
    "\n",
    "                # Calculate seizure proportions in sliding windows\n",
    "\n",
    "                has_seizure_idx = np.array([has_seizure[idx * window_stride:idx * window_stride + window_size].sum() / window_size for idx in range((edf_data.n_times - window_size) // window_stride)])\n",
    "\n",
    "                # Calculate non-seizure and seizure window counts\n",
    "\n",
    "                noseizure_n_size = round(EdfToNpy.SEIZURE_PROPORTION * np.where(has_seizure_idx == 0)[0].size)\n",
    "                seizure_n_size = np.where(has_seizure_idx > 0)[0].size\n",
    "                count = count + noseizure_n_size + seizure_n_size  # increment count to tally total samples\n",
    "\n",
    "            edf_data.close()\n",
    "\n",
    "        return count, len(EdfToNpy.channel_labels), window_size\n",
    "\n",
    "    def extract_edf(self, n_samples, n_channel_labels, window_size):\n",
    "        \"\"\"\n",
    "        Extracts EEG signals and labels from EDF files, processes them, and saves the data as NumPy arrays.\n",
    "\n",
    "        Parameters:\n",
    "        n_samples (int): The total number of samples to process.\n",
    "        n_channel_labels (int): The number of EEG channels.\n",
    "        window_size (int): The size of the window in data points.\n",
    "\n",
    "        Saves:\n",
    "        _signals.npy: Processed EEG signals.\n",
    "        _labels.npy: Corresponding seizure and non-seizure labels.\n",
    "        \"\"\"\n",
    "        signals_np = np.zeros((n_samples, n_channel_labels, window_size), dtype=np.float32)\n",
    "        labels_np = np.zeros(n_samples, dtype=np.int32)\n",
    "        count = 0  # initialize count variable\n",
    "\n",
    "        for number, file in enumerate(self.folder):\n",
    "            edf_data = mne.io.read_raw_edf(file, preload=False)\n",
    "\n",
    "            # Check for matching channel labels\n",
    "\n",
    "            n_label_match = sum([any([0 if re.match(ch, ch_name) is None else 1 for ch_name in edf_data.ch_names]) for ch in EdfToNpy.channel_labels])\n",
    "            if n_label_match == len(EdfToNpy.channel_labels):\n",
    "                # Rename channels to standardised labels\n",
    "                dict_ch_name = {sorted([ch_name for ch_name in edf_data.ch_names if re.match(ch, ch_name) is not None])[0]: ch for ch in EdfToNpy.channel_labels}\n",
    "                edf_data.rename_channels(dict_ch_name)\n",
    "\n",
    "                has_seizure = np.zeros((edf_data.n_times,))\n",
    "                signals_ = edf_data.get_data(picks=EdfToNpy.channel_labels) * EdfToNpy.TO_MICROVOLTS\n",
    "\n",
    "                # Apply bandpass filter to clean the signal\n",
    "                signals_ = np.array([self.bandpass_filter(signal) for signal in signals_])\n",
    "\n",
    "                # Process seizure annotations if available\n",
    "\n",
    "                if os.path.exists(file + '.seizures'):\n",
    "                    has_annotation = wfdb.rdann(file, 'seizures')\n",
    "                    for idx in range(int(has_annotation.sample.size / 2)):\n",
    "                        has_seizure[has_annotation.sample[idx * 2]:has_annotation.sample[idx * 2 + 1]] = 1\n",
    "\n",
    "                # Calculate seizure proportions and windows\n",
    "\n",
    "                sampling_freq = int(1 / (edf_data.times[1] - edf_data.times[0]))\n",
    "                window_size = sampling_freq * EdfToNpy.WINDOW_TIME\n",
    "                window_stride = sampling_freq * EdfToNpy.STEP_TIME\n",
    "                has_seizure_idx = np.array([has_seizure[idx * window_stride:idx * window_stride + window_size].sum() / window_size for idx in range((edf_data.n_times - window_size) // window_stride)])\n",
    "\n",
    "                # Select random non-seizure windows\n",
    "\n",
    "                noseizure_n_size = round(EdfToNpy.SEIZURE_PROPORTION * np.where(has_seizure_idx == 0)[0].size)\n",
    "\n",
    "                # Non-seizure data (random sampling)\n",
    "                temp_negative = random.sample(list(np.where(has_seizure_idx == 0)[0]), noseizure_n_size)\n",
    "                for value in temp_negative:\n",
    "                    start_index = value * window_stride\n",
    "                    stop_index = value * window_stride + window_size\n",
    "                    signals_np[count, :, :] = signals_[:, start_index:stop_index]\n",
    "                    labels_np[count] = 0\n",
    "                    count = count + 1\n",
    "\n",
    "                # Seizure data\n",
    "                temp_positive = list(np.where(has_seizure_idx > 0)[0])\n",
    "                for value in temp_positive:\n",
    "                    start_index = value * window_stride\n",
    "                    stop_index = value * window_stride + window_size\n",
    "                    signals_np[count, :, :] = signals_[:, start_index:stop_index]\n",
    "                    labels_np[count] = 1\n",
    "                    count = count + 1\n",
    "            else:\n",
    "                print(f\"Unable to read {file}\")\n",
    "\n",
    "            edf_data.close()\n",
    "\n",
    "        # Save the processed data\n",
    "        np.save(self.save_to + '_signals', signals_np)\n",
    "        np.save(self.save_to + '_labels', labels_np)\n",
    "\n",
    "    def show_eeg(self, signals):\n",
    "        \"\"\"\n",
    "        Visualises EEG signals by plotting each channel vertically with an offset for easier differentiation.\n",
    "\n",
    "        Parameters:\n",
    "        signals (array): A NumPy array containing EEG signal data\n",
    "        \"\"\"\n",
    "        # Define vertical spacing between channels in the plot\n",
    "        vertical_width = 250\n",
    "\n",
    "        # Sampling frequency of the EEG signal in Hz\n",
    "        fs = 256\n",
    "\n",
    "        # Create a new figure and axis for the plot\n",
    "\n",
    "        fig, ax = plt.subplots()\n",
    "        for i in range(signals.shape[0]):\n",
    "            # Plot the signal for the current channel with time on the x-axis\n",
    "            ax.plot(np.arange(signals.shape[-1]) / fs, signals[i, :] + i * vertical_width, linewidth=0.5, color='tab:blue')\n",
    "            # Annotate the channel label next to its corresponding signal\n",
    "            ax.annotate(EdfToNpy.channel_labels[i], xy=(0, i * vertical_width))\n",
    "\n",
    "        # Invert the y-axis so that the topmost channel appears first\n",
    "        ax.invert_yaxis()\n",
    "        plt.show()"
   ],
   "id": "6db9fdd1028eabd4",
   "outputs": [],
   "execution_count": 3
  },
  {
   "metadata": {
    "ExecuteTime": {
     "end_time": "2025-02-10T07:59:16.942022Z",
     "start_time": "2025-02-10T07:59:16.921418Z"
    }
   },
   "cell_type": "code",
   "source": [
    "# Verify that NumPy files are readable.\n",
    "# Retrieve all EDF files contained within the parent folder: \"data_folders\".\n",
    "\n",
    "all_edf = [ file for folder in data_folders for file in glob.glob(folder + '/*.edf')]\n",
    "print(f\"Total number of files is {len(all_edf)}\")"
   ],
   "id": "8a7713051e54225b",
   "outputs": [
    {
     "name": "stdout",
     "output_type": "stream",
     "text": [
      "Total number of files is 686\n"
     ]
    }
   ],
   "execution_count": 4
  },
  {
   "metadata": {},
   "cell_type": "code",
   "source": [
    "# Execution time: approximately 8-9 minutes to complete the cell.\n",
    "# Instantiate the class to process EDF files.\n",
    "data_npy = EdfToNpy(all_edf, 'more_balanced')\n",
    "\n",
    "# Export all EDF file data into a single NumPy file, with 10-second windows per sample:\n",
    "# - \"10sec_signals.npy\": Contains processed EEG signals.\n",
    "# - \"10sec_labels.npy\": Contains corresponding annotations, where 1 indicates seizure and 0 indicates non-seizure.\n",
    "# Each label corresponds to its associated signal sample.\n",
    "\n",
    "# Extract relevant data from the EDF files.\n",
    "sample_length, channel_length, window_length = data_npy.read_edf()\n",
    "data_npy.extract_edf(sample_length, channel_length, window_length)"
   ],
   "id": "b8c1f3593b92d672",
   "outputs": [],
   "execution_count": null
  },
  {
   "metadata": {},
   "cell_type": "markdown",
   "source": "#### show file shape",
   "id": "a79c9be781b25ffa"
  },
  {
   "metadata": {
    "ExecuteTime": {
     "end_time": "2025-02-10T08:13:48.277809Z",
     "start_time": "2025-02-10T08:13:47.828884Z"
    }
   },
   "cell_type": "code",
   "source": [
    "# Verify that NumPy files are readable and contain the expected data.\n",
    "# Define the file paths for signals and labels.\n",
    "path_signal = 'more_balanced_signals.npy'\n",
    "path_label = 'more_balanced_labels.npy'\n",
    "\n",
    "# Check if both signal and label files exist.\n",
    "if os.path.exists(path_signal) and os.path.exists(path_label):\n",
    "    full_data = np.load(path_signal)\n",
    "    full_labels = np.load(path_label)\n",
    "\n",
    "    # Retrieve unique labels and their respective counts.\n",
    "\n",
    "    unique, count = np.unique(full_labels, return_counts=True)\n",
    "\n",
    "    # Display the label distribution and data shapes.\n",
    "\n",
    "    print(f\"Labels contain {count[0]} non-seizure samples and {count[1]} seizure samples\")\n",
    "    print(f\"Data shape is {full_data.shape}\")\n",
    "    print(f\"Labels' shape is {full_labels.shape}\")"
   ],
   "id": "78ca8f3d8b6504ee",
   "outputs": [
    {
     "name": "stdout",
     "output_type": "stream",
     "text": [
      "Labels contain 3558 non-seizure samples and 2606 seizure samples\n",
      "Data shape is (6164, 23, 2560)\n",
      "Labels' shape is (6164,)\n"
     ]
    }
   ],
   "execution_count": 6
  },
  {
   "metadata": {},
   "cell_type": "markdown",
   "source": [
    "\n",
    "#### Summary table for `more_balanced_labels.npy`:\n",
    "\n",
    "| **File Name**               | **Non-Seizure Samples (0)** | **Seizure Samples (1)** | **Total Samples** |\n",
    "|------------------------------|-----------------------------|--------------------------|--------------------|\n",
    "| `more_balanced_labels.npy`   | 3558                        | 2606                     | 6164               |\n",
    "\n",
    "---\n",
    "#### Summary of all 10-second long context window datasets\n",
    "\n",
    "#### Combined Table from `edf_to_numpy.ipynb` and `EdfToNumpy2.ipynb` notebooks.\n",
    "\n",
    "| **File Name**               | **Non-Seizure Samples (0)** | **Seizure Samples (1)** | **Total Samples** |\n",
    "|------------------------------|-----------------------------|--------------------------|--------------------|\n",
    "| `train_10sec_labels.npy`     | 9190                        | 119                      | 9309               |\n",
    "| `test_10sec_labels.npy`      | 2307                        | 186                      | 2493               |\n",
    "| `10sec_labels.npy`           | 6744                        | 2606                     | 9350               |\n",
    "| `more_balanced_labels.npy`   | 3558                        | 2606                     | 6164               |\n",
    "\n"
   ],
   "id": "7d309b58401d56bd"
  },
  {
   "metadata": {},
   "cell_type": "markdown",
   "source": "#### END",
   "id": "898a97273c657d5a"
  }
 ],
 "metadata": {
  "kernelspec": {
   "display_name": "Python 3",
   "language": "python",
   "name": "python3"
  },
  "language_info": {
   "codemirror_mode": {
    "name": "ipython",
    "version": 2
   },
   "file_extension": ".py",
   "mimetype": "text/x-python",
   "name": "python",
   "nbconvert_exporter": "python",
   "pygments_lexer": "ipython2",
   "version": "2.7.6"
  }
 },
 "nbformat": 4,
 "nbformat_minor": 5
}
