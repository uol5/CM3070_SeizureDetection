{
 "cells": [
  {
   "metadata": {},
   "cell_type": "raw",
   "source": [
    "Raw data are 42.6 GB in Edf format. Convert to csv for smaller size, and easier processing.\n",
    "1 Import mne and pandas library.\n",
    "2 mne.io.read_raw_edf to read each Edf file.\n",
    "3 mne.io.read_raw_edf.get_data to retrive read data.\n",
    "4 convert to numpy using  numpy.vstack. Vertical stack converts dimenstions into ssamples x features. This allow preprocessing\n",
    "5 save as csv using pandas.DataFrame.to_csv"
   ],
   "id": "9d8f5429570529c"
  },
  {
   "metadata": {
    "ExecuteTime": {
     "end_time": "2024-12-11T14:59:16.845103Z",
     "start_time": "2024-12-11T14:59:16.770112Z"
    }
   },
   "cell_type": "code",
   "source": [
    "import os\n",
    "import pandas as pd\n",
    "import matplotlib.pyplot as plt\n",
    "import numpy as np\n",
    "import mne # reads edf format\n",
    "import glob\n",
    "import random\n",
    "import re\n",
    "import wfdb # waveform database library wfdb.rdann reads annotation of physiology annotated data in ECG, EEG etc"
   ],
   "id": "9e3119ec8ee92a61",
   "outputs": [],
   "execution_count": 18
  },
  {
   "metadata": {},
   "cell_type": "raw",
   "source": [
    "Retrive data from Edf file. EEG files are a montage of amplitudes from channels. Each channel represents scalp electrode detection of brain signal amplitude. The montage is arranged from left to right, and front of scalp to back.\n",
    "The channels are labelled as\n",
    "['FP1-F7', 'F7-T7', 'T7-P7', 'P7-O1', 'FP1-F3', 'F3-C3', 'C3-P3','P3-O1',\n",
    " 'FP2-F4', 'F4-C4', 'C4-P4', 'P4-O2', 'FP2-F8', 'F8-T8', 'T8-P8', 'P8-O2',\n",
    " 'FZ-CZ', 'CZ-PZ']\n"
   ],
   "id": "765460765ea4c7d4"
  },
  {
   "metadata": {
    "ExecuteTime": {
     "end_time": "2024-12-11T13:38:56.816797Z",
     "start_time": "2024-12-11T13:38:56.793547Z"
    }
   },
   "cell_type": "code",
   "source": [
    "channel_labels = ['FP1-F7', 'F7-T7', 'T7-P7', 'P7-O1', 'FP1-F3', 'F3-C3', 'C3-P3','P3-O1',\n",
    "                  'FP2-F4', 'F4-C4', 'C4-P4', 'P4-O2', 'FP2-F8', 'F8-T8', 'T8-P8', 'P8-O2',\n",
    "                  'FZ-CZ', 'CZ-PZ']"
   ],
   "id": "d5fc00441f77703f",
   "outputs": [],
   "execution_count": 2
  },
  {
   "metadata": {},
   "cell_type": "raw",
   "source": [
    "raw_data = \"raw_CHB-Mit\"\n",
    "patient name in filename ending with digit from chb01 - chb24"
   ],
   "id": "101877bfd0bfca0"
  },
  {
   "metadata": {
    "ExecuteTime": {
     "end_time": "2024-12-11T13:39:00.128832Z",
     "start_time": "2024-12-11T13:39:00.115079Z"
    }
   },
   "cell_type": "code",
   "source": [
    "path = r'data\\raw_data\\chb-mit-scalp-eeg-database-1.0.0'\n",
    "data_folders = sorted(glob.glob(os.path.join(path, '*[0-9]')))\n",
    "\n",
    "def file_id(folder):\n",
    "    return [ name[-2:] for name in [file.rsplit('\\\\',2)[-1] for file in folder]]\n",
    "print(\"ID: \")\n",
    "print(file_id(data_folders))"
   ],
   "id": "b797d0c19547718a",
   "outputs": [
    {
     "name": "stdout",
     "output_type": "stream",
     "text": [
      "ID: \n",
      "['01', '02', '03', '04', '05', '06', '07', '08', '09', '10', '11', '12', '13', '14', '15', '16', '17', '18', '19', '20', '21', '22', '23', '24']\n"
     ]
    }
   ],
   "execution_count": 3
  },
  {
   "metadata": {
    "ExecuteTime": {
     "end_time": "2024-12-11T13:39:04.734856Z",
     "start_time": "2024-12-11T13:39:04.722400Z"
    }
   },
   "cell_type": "code",
   "source": [
    "# seizure  marking is in name of edf file, not a separate file\n",
    "# split files for training and testing\n",
    "train_test_ratio = 0.8\n",
    "random.seed(80)\n",
    "train_folders = sorted(random.sample(data_folders, round(len(data_folders) * train_test_ratio)))\n",
    "test_folders = sorted([ file for file in data_folders if file not in train_folders])\n",
    "print(f\"Training files ID: {file_id(train_folders)}\")\n",
    "print(f\"Test files ID: {file_id(test_folders)}\")\n",
    "\n"
   ],
   "id": "2bc6e28cdb2717b3",
   "outputs": [
    {
     "name": "stdout",
     "output_type": "stream",
     "text": [
      "Training files ID: ['01', '02', '04', '07', '08', '09', '10', '12', '13', '14', '15', '16', '17', '18', '19', '20', '22', '23', '24']\n",
      "Test files ID: ['03', '05', '06', '11', '21']\n"
     ]
    }
   ],
   "execution_count": 4
  },
  {
   "metadata": {
    "ExecuteTime": {
     "end_time": "2024-12-11T13:39:08.060838Z",
     "start_time": "2024-12-11T13:39:08.033386Z"
    }
   },
   "cell_type": "code",
   "source": [
    "# Retrieve edf files\n",
    "\n",
    "train_files = [ file for folder in train_folders for file in glob.glob(folder+'/*.edf')]\n",
    "test_files = [ file for folder in test_folders for file in glob.glob(folder+'/*.edf')]\n",
    "\n",
    "print(f\"Train_files contains {len(train_files)} files\")\n",
    "print(f\"Test_files contains {len(test_files)} files\")"
   ],
   "id": "c918f7ef2f9a282f",
   "outputs": [
    {
     "name": "stdout",
     "output_type": "stream",
     "text": [
      "Train_files contains 523 files\n",
      "Test_files contains 163 files\n"
     ]
    }
   ],
   "execution_count": 5
  },
  {
   "metadata": {
    "ExecuteTime": {
     "end_time": "2024-12-11T14:29:51.078478Z",
     "start_time": "2024-12-11T14:29:51.050798Z"
    }
   },
   "cell_type": "code",
   "source": [
    "# MEG and EEG library (mne) reads neurophysiological data\n",
    "sample_edf = mne.io.read_raw_edf(train_files[0], preload=False) #110-15 seconds\n",
    "# dir(sample_edf)  # show all attributes and methods\n",
    "sample_edf.info"
   ],
   "id": "569762c98a1f7205",
   "outputs": [
    {
     "name": "stdout",
     "output_type": "stream",
     "text": [
      "Extracting EDF parameters from C:\\Users\\mspla\\Documents\\repos\\py_basic_310_Au24\\seizurePy3.9\\data\\raw_data\\chb-mit-scalp-eeg-database-1.0.0\\chb01\\chb01_01.edf...\n",
      "EDF file detected\n",
      "Setting channel info structure...\n",
      "Creating raw.info structure...\n"
     ]
    },
    {
     "name": "stderr",
     "output_type": "stream",
     "text": [
      "C:\\Users\\mspla\\AppData\\Local\\Temp\\ipykernel_12772\\1770090686.py:2: RuntimeWarning: Channel names are not unique, found duplicates for: {'T8-P8'}. Applying running numbers for duplicates.\n",
      "  sample_edf = mne.io.read_raw_edf(train_files[0], preload=False) #110-15 seconds\n"
     ]
    },
    {
     "data": {
      "text/plain": [
       "<Info | 8 non-empty values\n",
       " bads: []\n",
       " ch_names: FP1-F7, F7-T7, T7-P7, P7-O1, FP1-F3, F3-C3, C3-P3, P3-O1, ...\n",
       " chs: 23 EEG\n",
       " custom_ref_applied: False\n",
       " highpass: 0.0 Hz\n",
       " lowpass: 128.0 Hz\n",
       " meas_date: 2076-11-06 11:42:54 UTC\n",
       " nchan: 23\n",
       " projs: []\n",
       " sfreq: 256.0 Hz\n",
       " subject_info: 1 item (dict)\n",
       ">"
      ],
      "text/html": [
       "<script type=\"text/javascript\">\n",
       "    const toggleVisibility = (className) => {\n",
       "\n",
       "  const elements = document.querySelectorAll(`.${className}`)\n",
       "\n",
       "  elements.forEach(element => {\n",
       "    if (element.classList.contains('repr-section-header')) {\n",
       "      // Don't collapse the section header row.\n",
       "       return\n",
       "    }\n",
       "    if (element.classList.contains('repr-element-collapsed')) {\n",
       "      // Force a reflow to ensure the display change takes effect before removing the class\n",
       "      element.classList.remove('repr-element-collapsed')\n",
       "      element.offsetHeight // This forces the browser to recalculate layout\n",
       "      element.classList.remove('repr-element-faded')\n",
       "    } else {\n",
       "      // Start transition to hide the element\n",
       "      element.classList.add('repr-element-faded')\n",
       "      element.addEventListener('transitionend', handler = (e) => {\n",
       "        if (e.propertyName === 'opacity' && getComputedStyle(element).opacity === '0.2') {\n",
       "          element.classList.add('repr-element-collapsed')\n",
       "          element.removeEventListener('transitionend', handler)\n",
       "        }\n",
       "      });\n",
       "    }\n",
       "  });\n",
       "\n",
       "  // Take care of button (adjust caret)\n",
       "  const button = document.querySelectorAll(`.repr-section-header.${className} > th.repr-section-toggle-col > button`)[0]\n",
       "  button.classList.toggle('collapsed')\n",
       "\n",
       "  // Take care of the tooltip of the section header row\n",
       "  const sectionHeaderRow = document.querySelectorAll(`tr.repr-section-header.${className}`)[0]\n",
       "  sectionHeaderRow.classList.toggle('collapsed')\n",
       "  sectionHeaderRow.title = sectionHeaderRow.title === 'Hide section' ? 'Show section' : 'Hide section'\n",
       "}\n",
       "</script>\n",
       "\n",
       "<style type=\"text/css\">\n",
       "    table.repr.table.table-hover.table-striped.table-sm.table-responsive.small {\n",
       "  /* Don't make rows wider than they need to be. */\n",
       "  display: inline;\n",
       "}\n",
       "\n",
       "table > tbody > tr.repr-element > td {\n",
       "  /* Apply a tighter layout to the table cells. */\n",
       "  padding-top: 0.1rem;\n",
       "  padding-bottom: 0.1rem;\n",
       "  padding-right: 1rem;\n",
       "}\n",
       "\n",
       "table > tbody > tr > td.repr-section-toggle-col {\n",
       "  /* Remove background and border of the first cell in every row\n",
       "     (this row is only used for the collapse / uncollapse caret)\n",
       "\n",
       "     TODO: Need to find a good solution for VS Code that works in both\n",
       "           light and dark mode. */\n",
       "  border-color: transparent;\n",
       "  --bs-table-accent-bg: transparent;\n",
       "}\n",
       "\n",
       "tr.repr-section-header {\n",
       "  /* Remove stripes from section header rows */\n",
       "  background-color: transparent;\n",
       "  border-color: transparent;\n",
       "  --bs-table-striped-bg: transparent;\n",
       "  cursor: pointer;\n",
       "}\n",
       "\n",
       "tr.repr-section-header > th {\n",
       "  text-align: left !important;\n",
       "  vertical-align: middle;\n",
       "}\n",
       "\n",
       ".repr-element, tr.repr-element > td {\n",
       "  opacity: 1;\n",
       "  text-align: left !important;\n",
       "}\n",
       "\n",
       ".repr-element-faded {\n",
       "  transition: 0.3s ease;\n",
       "  opacity: 0.2;\n",
       "}\n",
       "\n",
       ".repr-element-collapsed {\n",
       "  display: none;\n",
       "}\n",
       "\n",
       "/* Collapse / uncollapse button and the caret it contains. */\n",
       ".repr-section-toggle-col button {\n",
       "  cursor: pointer;\n",
       "  width: 1rem;\n",
       "  background-color: transparent;\n",
       "  border-color: transparent;\n",
       "}\n",
       "\n",
       "span.collapse-uncollapse-caret {\n",
       "  width: 1rem;\n",
       "  height: 1rem;\n",
       "  display: block;\n",
       "  background-repeat: no-repeat;\n",
       "  background-position: left;\n",
       "  background-size: contain;\n",
       "}\n",
       "\n",
       "/* The collapse / uncollapse carets were copied from the free Font Awesome collection and adjusted. */\n",
       "\n",
       "/* Default to black carets for light mode */\n",
       ".repr-section-toggle-col > button.collapsed > span.collapse-uncollapse-caret {\n",
       "  background-image: url('data:image/svg+xml;charset=utf8,<svg xmlns=\"http://www.w3.org/2000/svg\" viewBox=\"0 0 256 512\"><!--!Font Awesome Free 6.5.2 by @fontawesome - https://fontawesome.com License - https://fontawesome.com/license/free Copyright 2024 Fonticons, Inc.--><path fill=\"black\" d=\"M246.6 278.6c12.5-12.5 12.5-32.8 0-45.3l-128-128c-9.2-9.2-22.9-11.9-34.9-6.9s-19.8 16.6-19.8 29.6l0 256c0 12.9 7.8 24.6 19.8 29.6s25.7 2.2 34.9-6.9l128-128z\"/></svg>');\n",
       "}\n",
       "\n",
       ".repr-section-toggle-col\n",
       "  > button:not(.collapsed)\n",
       "  > span.collapse-uncollapse-caret {\n",
       "  background-image: url('data:image/svg+xml;charset=utf8,<svg xmlns=\"http://www.w3.org/2000/svg\" viewBox=\"0 0 320 512\"><!--!Font Awesome Free 6.5.2 by @fontawesome - https://fontawesome.com License - https://fontawesome.com/license/free Copyright 2024 Fonticons, Inc.--><path fill=\"black\" d=\"M137.4 374.6c12.5 12.5 32.8 12.5 45.3 0l128-128c9.2-9.2 11.9-22.9 6.9-34.9s-16.6-19.8-29.6-19.8L32 192c-12.9 0-24.6 7.8-29.6 19.8s-2.2 25.7 6.9 34.9l128 128z\"/></svg>');\n",
       "}\n",
       "\n",
       "/* Use white carets for dark mode */\n",
       "@media (prefers-color-scheme: dark) {\n",
       "  .repr-section-toggle-col > button.collapsed > span.collapse-uncollapse-caret {\n",
       "    background-image: url('data:image/svg+xml;charset=utf8,<svg xmlns=\"http://www.w3.org/2000/svg\" viewBox=\"0 0 256 512\"><!--!Font Awesome Free 6.5.2 by @fontawesome - https://fontawesome.com License - https://fontawesome.com/license/free Copyright 2024 Fonticons, Inc.--><path fill=\"white\" d=\"M246.6 278.6c12.5-12.5 12.5-32.8 0-45.3l-128-128c-9.2-9.2-22.9-11.9-34.9-6.9s-19.8 16.6-19.8 29.6l0 256c0 12.9 7.8 24.6 19.8 29.6s25.7 2.2 34.9-6.9l128-128z\"/></svg>');\n",
       "  }\n",
       "\n",
       "  .repr-section-toggle-col\n",
       "    > button:not(.collapsed)\n",
       "    > span.collapse-uncollapse-caret {\n",
       "    background-image: url('data:image/svg+xml;charset=utf8,<svg xmlns=\"http://www.w3.org/2000/svg\" viewBox=\"0 0 320 512\"><!--!Font Awesome Free 6.5.2 by @fontawesome - https://fontawesome.com License - https://fontawesome.com/license/free Copyright 2024 Fonticons, Inc.--><path fill=\"white\" d=\"M137.4 374.6c12.5 12.5 32.8 12.5 45.3 0l128-128c9.2-9.2 11.9-22.9 6.9-34.9s-16.6-19.8-29.6-19.8L32 192c-12.9 0-24.6 7.8-29.6 19.8s-2.2 25.7 6.9 34.9l128 128z\"/></svg>');\n",
       "  }\n",
       "}\n",
       "\n",
       ".channel-names-btn {\n",
       "  padding: 0;\n",
       "  border: none;\n",
       "  background: none;\n",
       "  text-decoration: underline;\n",
       "  text-decoration-style: dashed;\n",
       "  cursor: pointer;\n",
       "  color: #0d6efd;\n",
       "}\n",
       "\n",
       ".channel-names-btn:hover {\n",
       "  color: #0a58ca;\n",
       "}\n",
       "</style>\n",
       "\n",
       "\n",
       "\n",
       "<table class=\"repr table table-hover table-striped table-sm table-responsive small\">\n",
       "    \n",
       "\n",
       "\n",
       "\n",
       "\n",
       "\n",
       "\n",
       "\n",
       "<tr class=\"repr-section-header general-0f7c8f5f-b33e-41cf-aa87-c6644cb2995f\"  title=\"Hide section\" \n",
       "    onclick=\"toggleVisibility('general-0f7c8f5f-b33e-41cf-aa87-c6644cb2995f')\">\n",
       "    <th class=\"repr-section-toggle-col\">\n",
       "        <button>\n",
       "            \n",
       "            <span class=\"collapse-uncollapse-caret\"></span>\n",
       "        </button>\n",
       "    </th>\n",
       "    <th colspan=\"2\">\n",
       "        <strong>General</strong>\n",
       "    </th>\n",
       "</tr>\n",
       "\n",
       "<tr class=\"repr-element general-0f7c8f5f-b33e-41cf-aa87-c6644cb2995f \">\n",
       "    <td class=\"repr-section-toggle-col\"></td>\n",
       "    <td>MNE object type</td>\n",
       "    <td>Info</td>\n",
       "</tr>\n",
       "<tr class=\"repr-element general-0f7c8f5f-b33e-41cf-aa87-c6644cb2995f \">\n",
       "    <td class=\"repr-section-toggle-col\"></td>\n",
       "    <td>Measurement date</td>\n",
       "    \n",
       "    <td>2076-11-06 at 11:42:54 UTC</td>\n",
       "    \n",
       "</tr>\n",
       "<tr class=\"repr-element general-0f7c8f5f-b33e-41cf-aa87-c6644cb2995f \">\n",
       "    <td class=\"repr-section-toggle-col\"></td>\n",
       "    <td>Participant</td>\n",
       "    \n",
       "    \n",
       "    <td>Surrogate</td>\n",
       "    \n",
       "    \n",
       "</tr>\n",
       "<tr class=\"repr-element general-0f7c8f5f-b33e-41cf-aa87-c6644cb2995f \">\n",
       "    <td class=\"repr-section-toggle-col\"></td>\n",
       "    <td>Experimenter</td>\n",
       "    \n",
       "    <td>Unknown</td>\n",
       "    \n",
       "</tr>\n",
       "    \n",
       "\n",
       "\n",
       "\n",
       "\n",
       "\n",
       "\n",
       "\n",
       "<tr class=\"repr-section-header acquisition-a224bd11-0a59-4839-a6fc-5b72ee588b67\" \n",
       "    title=\"Hide section\"  onclick=\"toggleVisibility('acquisition-a224bd11-0a59-4839-a6fc-5b72ee588b67')\">\n",
       "    <th class=\"repr-section-toggle-col\">\n",
       "        <button>\n",
       "            \n",
       "            <span class=\"collapse-uncollapse-caret\"></span>\n",
       "        </button>\n",
       "    </th>\n",
       "    <th colspan=\"2\">\n",
       "        <strong>Acquisition</strong>\n",
       "    </th>\n",
       "</tr>\n",
       "\n",
       "\n",
       "\n",
       "\n",
       "\n",
       "\n",
       "\n",
       "\n",
       "<tr class=\"repr-element acquisition-a224bd11-0a59-4839-a6fc-5b72ee588b67 \">\n",
       "    <td class=\"repr-section-toggle-col\"></td>\n",
       "    <td>Sampling frequency</td>\n",
       "    <td>256.00 Hz</td>\n",
       "</tr>\n",
       "\n",
       "\n",
       "\n",
       "    \n",
       "\n",
       "\n",
       "\n",
       "\n",
       "\n",
       "\n",
       "\n",
       "<tr class=\"repr-section-header channels-84ce7a1f-bd80-4445-ba8e-071c74031e9c\"  title=\"Hide section\" \n",
       "    onclick=\"toggleVisibility('channels-84ce7a1f-bd80-4445-ba8e-071c74031e9c')\">\n",
       "    <th class=\"repr-section-toggle-col\">\n",
       "        <button>\n",
       "            \n",
       "            <span class=\"collapse-uncollapse-caret\"></span>\n",
       "        </button>\n",
       "    </th>\n",
       "    <th colspan=\"2\">\n",
       "        <strong>Channels</strong>\n",
       "    </th>\n",
       "</tr>\n",
       "\n",
       "\n",
       "<tr class=\"repr-element channels-84ce7a1f-bd80-4445-ba8e-071c74031e9c \">\n",
       "    <td class=\"repr-section-toggle-col\"></td>\n",
       "    <td>EEG</td>\n",
       "    <td>\n",
       "        <button class=\"channel-names-btn\" onclick=\"alert('Good EEG:\\n\\nFP1-F7, F7-T7, T7-P7, P7-O1, FP1-F3, F3-C3, C3-P3, P3-O1, FP2-F4, F4-C4, C4-P4, P4-O2, FP2-F8, F8-T8, T8-P8-0, P8-O2, FZ-CZ, CZ-PZ, P7-T7, T7-FT9, FT9-FT10, FT10-T8, T8-P8-1')\" title=\"(Click to open in popup)&#13;&#13;FP1-F7, F7-T7, T7-P7, P7-O1, FP1-F3, F3-C3, C3-P3, P3-O1, FP2-F4, F4-C4, C4-P4, P4-O2, FP2-F8, F8-T8, T8-P8-0, P8-O2, FZ-CZ, CZ-PZ, P7-T7, T7-FT9, FT9-FT10, FT10-T8, T8-P8-1\">\n",
       "            23\n",
       "        </button>\n",
       "\n",
       "        \n",
       "    </td>\n",
       "</tr>\n",
       "\n",
       "\n",
       "<tr class=\"repr-element channels-84ce7a1f-bd80-4445-ba8e-071c74031e9c \">\n",
       "    <td class=\"repr-section-toggle-col\"></td>\n",
       "    <td>Head & sensor digitization</td>\n",
       "    \n",
       "    <td>Not available</td>\n",
       "    \n",
       "</tr>\n",
       "    \n",
       "\n",
       "\n",
       "\n",
       "\n",
       "\n",
       "\n",
       "\n",
       "<tr class=\"repr-section-header filters-107ef1ac-9361-4d18-bc9a-7c33492066d3\"  title=\"Hide section\" \n",
       "    onclick=\"toggleVisibility('filters-107ef1ac-9361-4d18-bc9a-7c33492066d3')\">\n",
       "    <th class=\"repr-section-toggle-col\">\n",
       "        <button>\n",
       "            \n",
       "            <span class=\"collapse-uncollapse-caret\"></span>\n",
       "        </button>\n",
       "    </th>\n",
       "    <th colspan=\"2\">\n",
       "        <strong>Filters</strong>\n",
       "    </th>\n",
       "</tr>\n",
       "\n",
       "<tr class=\"repr-element filters-107ef1ac-9361-4d18-bc9a-7c33492066d3 \">\n",
       "    <td class=\"repr-section-toggle-col\"></td>\n",
       "    <td>Highpass</td>\n",
       "    <td>0.00 Hz</td>\n",
       "</tr>\n",
       "\n",
       "\n",
       "<tr class=\"repr-element filters-107ef1ac-9361-4d18-bc9a-7c33492066d3 \">\n",
       "    <td class=\"repr-section-toggle-col\"></td>\n",
       "    <td>Lowpass</td>\n",
       "    <td>128.00 Hz</td>\n",
       "</tr>\n",
       "\n",
       "\n",
       "</table>"
      ]
     },
     "execution_count": 13,
     "metadata": {},
     "output_type": "execute_result"
    }
   ],
   "execution_count": 13
  },
  {
   "metadata": {},
   "cell_type": "raw",
   "source": "Signal Extraction",
   "id": "b34f04b5a1b9c3e3"
  },
  {
   "metadata": {
    "ExecuteTime": {
     "end_time": "2024-12-11T15:39:12.346533Z",
     "start_time": "2024-12-11T15:39:12.313729Z"
    }
   },
   "cell_type": "code",
   "source": [
    "'''\n",
    "Reading EEG data, modified from cell 60 of notebook by Masahiro Gotoh   [available at https://www.kaggle.com/code/hemangjindal/chb-mit-eeg-dataset-my-notebook#CHB-MIT-eeg-dataset-seizure-detection-demo]\n",
    "'''\n",
    "window_time = 10  # segment size in second\n",
    "step_time = 5     # Step size in second\n",
    "sampling_rate = 16  # EEGb Sampling rate (Hz)\n",
    "no_seizure_portion = 0.01    # proportion of non seizure\n",
    "counter = 0\n",
    "preictal_label = 1\n",
    "interictal_label = 0\n",
    "\n",
    "\n",
    "def read_edf(folder):\n",
    "    for file in folder:\n",
    "        edf_data = mne.io.read_raw_edf(file, preload=False)\n",
    "        edf_labels = edf_data.ch_names\n",
    "        # check all channel labels appear in edf_labels\n",
    "        if sum([any([0 if re.match(c, l) is None else 1 for l in edf_labels]) for c in channel_labels]) == len(channel_labels):\n",
    "            segment_ = 10\n",
    "            stride = 5\n",
    "            sampling_freq = 1/(edf_data.times[1]-edf_data.times[0])\n",
    "            window_size = sampling_freq * window_time\n",
    "            window_stride = sampling_freq * step_time\n",
    "\n",
    "            # identity EEG signal with seizure. 'Seizure' appended to file name, and marked at time point of seizure activity inside file.\n",
    "            # has seizure marks seizure/non-seizure as (1/0) for every data point\n",
    "            has_seizure = np.zeros((edf_data.n_times,))\n",
    "            if os.path.exists(file + '.seizures'):\n",
    "                has_annotation = wfdb.rdann(file, 'seizures')\n",
    "                # has_annotation.sample e.g [10,20, 300,400] means marked seizure from sample 10-20 , and 300-400\n",
    "                for idx in range(int(has_annotation.sample.size / 2)):\n",
    "                    has_seizure[has_annotation.sample[idx * 2]:has_annotation.sample[idx * 2 + 1]] = 1\n",
    "\n",
    "            # ensure remains integer\n",
    "            window_size = int(window_size)\n",
    "            window_stride = int(window_stride)\n",
    "            #creawte seizure index, and calculate proportion of signal which shows seizures\n",
    "            is_seizure_idx = np.array([has_seizure[idx * window_stride:idx * window_stride + window_size].sum() / window_size for idx in range((edf_data.n_times - window_size) // window_stride)])\n",
    "\n",
    "\n",
    "\n",
    "\n",
    "\n",
    "\n",
    "\n",
    "\n",
    "\n",
    "\n",
    "\n",
    "\n",
    "\n",
    "\n",
    "#\n",
    "#\n",
    "# # Derived parameters\n",
    "# window_size = window_size_sec * sampling_rate  # Convert to samples\n",
    "# step_size = step_size_sec * sampling_rate  # Convert to samples\n",
    "#\n",
    "# # Function to load and prepare data\n",
    "# def load_and_prepare_data(csv_file):\n",
    "#     \"\"\"\n",
    "#     Load the merged CSV data and prepare it for LSTM model training.\n",
    "#     \"\"\"\n",
    "#     data = pd.read_csv(csv_file)\n",
    "#\n",
    "#     # Normalize the EEG data (Min-Max scaling)\n",
    "#     scaler = MinMaxScaler()\n",
    "#     eeg_data = data[eeg_channels].values\n",
    "#     eeg_data_scaled = scaler.fit_transform(eeg_data)\n",
    "#\n",
    "#     # Get the labels\n",
    "#     labels = data['Label'].values\n",
    "#\n",
    "#     # Create sliding windows\n",
    "#     windows, window_labels = create_windows(eeg_data_scaled, labels, window_size, step_size)\n",
    "#\n",
    "#     return windows, window_labels, scaler\n",
    "#\n",
    "# # Function to create windows from the data\n",
    "# def create_windows(data, labels, window_size, step_size):\n",
    "#     \"\"\"\n",
    "#     Create overlapping windows from EEG data and corresponding labels.\n",
    "#     \"\"\"\n",
    "#     windows = []\n",
    "#     window_labels = []\n",
    "#\n",
    "#     for start in range(0, len(data) - window_size + 1, step_size):\n",
    "#         end = start + window_size\n",
    "#         window = data[start:end, :]\n",
    "#         label = labels[start:end]\n",
    "#\n",
    "#         # Assign label based on majority class in the window\n",
    "#         window_label = preictal_label if np.sum(label == preictal_label) > len(label) // 2 else interictal_label\n",
    "#         windows.append(window)\n",
    "#         window_labels.append(window_label)\n",
    "#\n",
    "#     return np.array(windows), np.array(window_labels)\n",
    "#\n",
    "# # Function to build the LSTM model\n",
    "# def build_lstm_model(input_shape):\n",
    "#     \"\"\"\n",
    "#     Build and compile an LSTM model.\n",
    "#     \"\"\"\n",
    "#     print('Input shape-',input_shape)\n",
    "#     model = Sequential()\n",
    "#     model.add(LSTM(units=64, return_sequences=True, input_shape=input_shape))\n",
    "#     model.add(Dropout(0.2))\n",
    "#     model.add(LSTM(units=32, return_sequences=False))\n",
    "#     model.add(Dropout(0.2))\n",
    "#     model.add(Dense(units=1, activation='sigmoid'))  # Output layer with sigmoid for binary classification\n",
    "#     model.compile(optimizer=Adam(learning_rate=0.001), loss='binary_crossentropy', metrics=['accuracy'])\n",
    "#     return model\n",
    "#\n",
    "# # Function to train the LSTM model\n",
    "# def train_lstm_model(windows, window_labels):\n",
    "#     \"\"\"\n",
    "#     Train the LSTM model using the provided windows and labels.\n",
    "#     \"\"\"\n",
    "#     # Split data into training and testing sets\n",
    "#     X_train, X_test, y_train, y_test = train_test_split(windows, window_labels, test_size=0.2, random_state=42)\n",
    "#\n",
    "#     # Build and train the model\n",
    "#     model = build_lstm_model((X_train.shape[1], X_train.shape[2]))\n",
    "#     model.fit(X_train, y_train, epochs=10, batch_size=64, validation_split=0.2)\n",
    "#\n",
    "#     # Evaluate the model on the test set\n",
    "#     y_pred = model.predict(X_test)\n",
    "#     y_pred = (y_pred > 0.5).astype(int)  # Convert probabilities to binary labels\n",
    "#\n",
    "#     # Print classification report\n",
    "#     print(\"Classification Report on Test Data:\")\n",
    "#     print(classification_report(y_test, y_pred))\n",
    "#\n",
    "#     # Return the trained model\n",
    "#     return model, scaler\n",
    "#\n",
    "# # Real-time prediction function\n",
    "# def real_time_prediction(model, scaler, window_size, interval=30):\n",
    "#     \"\"\"\n",
    "#     Simulate real-time predictions every `interval` seconds using the trained LSTM model.\n",
    "#     \"\"\"\n",
    "#     print(f\"Starting real-time prediction... (Interval: {interval}s)\")\n",
    "#\n",
    "#     # Simulate receiving new data (use the merged data as a placeholder)\n",
    "#     while True:\n",
    "#         # Simulate receiving data\n",
    "#         # Replace this with real-time data fetching process\n",
    "#         # For now, we assume the data is available in 'merged_df'\n",
    "#         # Here we can simulate a chunk of data for prediction\n",
    "#         simulated_data = np.random.rand(window_size, len(eeg_channels))  # Simulating new data\n",
    "#\n",
    "#         # Normalize the new data\n",
    "#         scaled_data = scaler.transform(simulated_data)\n",
    "#\n",
    "#         # Reshape data to match LSTM input shape\n",
    "#         X_input = scaled_data.reshape(1, window_size, len(eeg_channels))\n",
    "#\n",
    "#         # Predict the probability of seizure (preictal)\n",
    "#         prediction = model.predict(X_input)\n",
    "#         print(f\"Predicted probability of seizure: {prediction[0][0]:.4f}\")\n",
    "#\n",
    "#         # Sleep for the specified interval (simulate 30 seconds)\n",
    "#         time.sleep(interval)\n",
    "#\n",
    "# # Main function\n",
    "# if __name__ == \"__main__\":\n",
    "#     # Load the merged data\n",
    "#     csv_file = '/kaggle/working/csv_files/merged_data.csv'\n",
    "#     windows, window_labels, scaler = load_and_prepare_data(csv_file)\n",
    "#\n",
    "#     # Train the LSTM model and evaluate on the test data\n",
    "#     model, scaler = train_lstm_model(windows, window_labels)\n",
    "#\n",
    "#     # Save the model for later use\n",
    "#     model.save('/kaggle/working/lstm_model.h5')\n",
    "#     print(\"Model saved to /kaggle/working/lstm_model.h5\")\n",
    "#\n",
    "#     # Start real-time prediction\n",
    "#     real_time_prediction(model, scaler, window_size, interval=30)"
   ],
   "id": "170c4f7d5af46834",
   "outputs": [],
   "execution_count": 33
  },
  {
   "metadata": {
    "ExecuteTime": {
     "end_time": "2024-12-11T15:45:07.893436Z",
     "start_time": "2024-12-11T15:39:14.836180Z"
    }
   },
   "cell_type": "code",
   "source": "read_edf(train_files)",
   "id": "9882507e4466fa14",
   "outputs": [
    {
     "name": "stdout",
     "output_type": "stream",
     "text": [
      "Extracting EDF parameters from C:\\Users\\mspla\\Documents\\repos\\py_basic_310_Au24\\seizurePy3.9\\data\\raw_data\\chb-mit-scalp-eeg-database-1.0.0\\chb01\\chb01_01.edf...\n",
      "EDF file detected\n",
      "Setting channel info structure...\n",
      "Creating raw.info structure...\n",
      "Reading 0 ... 921599  =      0.000 ...  3599.996 secs...\n"
     ]
    },
    {
     "name": "stderr",
     "output_type": "stream",
     "text": [
      "C:\\Users\\mspla\\AppData\\Local\\Temp\\ipykernel_12772\\2212051881.py:15: RuntimeWarning: Channel names are not unique, found duplicates for: {'T8-P8'}. Applying running numbers for duplicates.\n",
      "  edf_data = mne.io.read_raw_edf(file, preload=True)\n"
     ]
    },
    {
     "name": "stdout",
     "output_type": "stream",
     "text": [
      "Extracting EDF parameters from C:\\Users\\mspla\\Documents\\repos\\py_basic_310_Au24\\seizurePy3.9\\data\\raw_data\\chb-mit-scalp-eeg-database-1.0.0\\chb01\\chb01_02.edf...\n",
      "EDF file detected\n",
      "Setting channel info structure...\n",
      "Creating raw.info structure...\n",
      "Reading 0 ... 921599  =      0.000 ...  3599.996 secs...\n"
     ]
    },
    {
     "name": "stderr",
     "output_type": "stream",
     "text": [
      "C:\\Users\\mspla\\AppData\\Local\\Temp\\ipykernel_12772\\2212051881.py:15: RuntimeWarning: Channel names are not unique, found duplicates for: {'T8-P8'}. Applying running numbers for duplicates.\n",
      "  edf_data = mne.io.read_raw_edf(file, preload=True)\n"
     ]
    },
    {
     "name": "stdout",
     "output_type": "stream",
     "text": [
      "Extracting EDF parameters from C:\\Users\\mspla\\Documents\\repos\\py_basic_310_Au24\\seizurePy3.9\\data\\raw_data\\chb-mit-scalp-eeg-database-1.0.0\\chb01\\chb01_03.edf...\n",
      "EDF file detected\n",
      "Setting channel info structure...\n",
      "Creating raw.info structure...\n",
      "Reading 0 ... 921599  =      0.000 ...  3599.996 secs...\n"
     ]
    },
    {
     "name": "stderr",
     "output_type": "stream",
     "text": [
      "C:\\Users\\mspla\\AppData\\Local\\Temp\\ipykernel_12772\\2212051881.py:15: RuntimeWarning: Channel names are not unique, found duplicates for: {'T8-P8'}. Applying running numbers for duplicates.\n",
      "  edf_data = mne.io.read_raw_edf(file, preload=True)\n"
     ]
    },
    {
     "name": "stdout",
     "output_type": "stream",
     "text": [
      "Extracting EDF parameters from C:\\Users\\mspla\\Documents\\repos\\py_basic_310_Au24\\seizurePy3.9\\data\\raw_data\\chb-mit-scalp-eeg-database-1.0.0\\chb01\\chb01_04.edf...\n",
      "EDF file detected\n",
      "Setting channel info structure...\n",
      "Creating raw.info structure...\n",
      "Reading 0 ... 921599  =      0.000 ...  3599.996 secs...\n"
     ]
    },
    {
     "name": "stderr",
     "output_type": "stream",
     "text": [
      "C:\\Users\\mspla\\AppData\\Local\\Temp\\ipykernel_12772\\2212051881.py:15: RuntimeWarning: Channel names are not unique, found duplicates for: {'T8-P8'}. Applying running numbers for duplicates.\n",
      "  edf_data = mne.io.read_raw_edf(file, preload=True)\n"
     ]
    },
    {
     "name": "stdout",
     "output_type": "stream",
     "text": [
      "Extracting EDF parameters from C:\\Users\\mspla\\Documents\\repos\\py_basic_310_Au24\\seizurePy3.9\\data\\raw_data\\chb-mit-scalp-eeg-database-1.0.0\\chb01\\chb01_05.edf...\n",
      "EDF file detected\n",
      "Setting channel info structure...\n",
      "Creating raw.info structure...\n",
      "Reading 0 ... 921599  =      0.000 ...  3599.996 secs...\n"
     ]
    },
    {
     "name": "stderr",
     "output_type": "stream",
     "text": [
      "C:\\Users\\mspla\\AppData\\Local\\Temp\\ipykernel_12772\\2212051881.py:15: RuntimeWarning: Channel names are not unique, found duplicates for: {'T8-P8'}. Applying running numbers for duplicates.\n",
      "  edf_data = mne.io.read_raw_edf(file, preload=True)\n"
     ]
    },
    {
     "name": "stdout",
     "output_type": "stream",
     "text": [
      "Extracting EDF parameters from C:\\Users\\mspla\\Documents\\repos\\py_basic_310_Au24\\seizurePy3.9\\data\\raw_data\\chb-mit-scalp-eeg-database-1.0.0\\chb01\\chb01_06.edf...\n",
      "EDF file detected\n",
      "Setting channel info structure...\n",
      "Creating raw.info structure...\n",
      "Reading 0 ... 921599  =      0.000 ...  3599.996 secs...\n"
     ]
    },
    {
     "name": "stderr",
     "output_type": "stream",
     "text": [
      "C:\\Users\\mspla\\AppData\\Local\\Temp\\ipykernel_12772\\2212051881.py:15: RuntimeWarning: Channel names are not unique, found duplicates for: {'T8-P8'}. Applying running numbers for duplicates.\n",
      "  edf_data = mne.io.read_raw_edf(file, preload=True)\n"
     ]
    },
    {
     "name": "stdout",
     "output_type": "stream",
     "text": [
      "Extracting EDF parameters from C:\\Users\\mspla\\Documents\\repos\\py_basic_310_Au24\\seizurePy3.9\\data\\raw_data\\chb-mit-scalp-eeg-database-1.0.0\\chb01\\chb01_07.edf...\n",
      "EDF file detected\n",
      "Setting channel info structure...\n",
      "Creating raw.info structure...\n",
      "Reading 0 ... 921599  =      0.000 ...  3599.996 secs...\n"
     ]
    },
    {
     "name": "stderr",
     "output_type": "stream",
     "text": [
      "C:\\Users\\mspla\\AppData\\Local\\Temp\\ipykernel_12772\\2212051881.py:15: RuntimeWarning: Channel names are not unique, found duplicates for: {'T8-P8'}. Applying running numbers for duplicates.\n",
      "  edf_data = mne.io.read_raw_edf(file, preload=True)\n"
     ]
    },
    {
     "name": "stdout",
     "output_type": "stream",
     "text": [
      "Extracting EDF parameters from C:\\Users\\mspla\\Documents\\repos\\py_basic_310_Au24\\seizurePy3.9\\data\\raw_data\\chb-mit-scalp-eeg-database-1.0.0\\chb01\\chb01_08.edf...\n",
      "EDF file detected\n",
      "Setting channel info structure...\n",
      "Creating raw.info structure...\n",
      "Reading 0 ... 921599  =      0.000 ...  3599.996 secs...\n"
     ]
    },
    {
     "name": "stderr",
     "output_type": "stream",
     "text": [
      "C:\\Users\\mspla\\AppData\\Local\\Temp\\ipykernel_12772\\2212051881.py:15: RuntimeWarning: Channel names are not unique, found duplicates for: {'T8-P8'}. Applying running numbers for duplicates.\n",
      "  edf_data = mne.io.read_raw_edf(file, preload=True)\n"
     ]
    },
    {
     "name": "stdout",
     "output_type": "stream",
     "text": [
      "Extracting EDF parameters from C:\\Users\\mspla\\Documents\\repos\\py_basic_310_Au24\\seizurePy3.9\\data\\raw_data\\chb-mit-scalp-eeg-database-1.0.0\\chb01\\chb01_09.edf...\n",
      "EDF file detected\n",
      "Setting channel info structure...\n",
      "Creating raw.info structure...\n",
      "Reading 0 ... 921599  =      0.000 ...  3599.996 secs...\n"
     ]
    },
    {
     "name": "stderr",
     "output_type": "stream",
     "text": [
      "C:\\Users\\mspla\\AppData\\Local\\Temp\\ipykernel_12772\\2212051881.py:15: RuntimeWarning: Channel names are not unique, found duplicates for: {'T8-P8'}. Applying running numbers for duplicates.\n",
      "  edf_data = mne.io.read_raw_edf(file, preload=True)\n"
     ]
    },
    {
     "name": "stdout",
     "output_type": "stream",
     "text": [
      "Extracting EDF parameters from C:\\Users\\mspla\\Documents\\repos\\py_basic_310_Au24\\seizurePy3.9\\data\\raw_data\\chb-mit-scalp-eeg-database-1.0.0\\chb01\\chb01_10.edf...\n",
      "EDF file detected\n",
      "Setting channel info structure...\n",
      "Creating raw.info structure...\n",
      "Reading 0 ... 921599  =      0.000 ...  3599.996 secs...\n"
     ]
    },
    {
     "name": "stderr",
     "output_type": "stream",
     "text": [
      "C:\\Users\\mspla\\AppData\\Local\\Temp\\ipykernel_12772\\2212051881.py:15: RuntimeWarning: Channel names are not unique, found duplicates for: {'T8-P8'}. Applying running numbers for duplicates.\n",
      "  edf_data = mne.io.read_raw_edf(file, preload=True)\n"
     ]
    },
    {
     "name": "stdout",
     "output_type": "stream",
     "text": [
      "Extracting EDF parameters from C:\\Users\\mspla\\Documents\\repos\\py_basic_310_Au24\\seizurePy3.9\\data\\raw_data\\chb-mit-scalp-eeg-database-1.0.0\\chb01\\chb01_11.edf...\n",
      "EDF file detected\n",
      "Setting channel info structure...\n",
      "Creating raw.info structure...\n",
      "Reading 0 ... 921599  =      0.000 ...  3599.996 secs...\n"
     ]
    },
    {
     "name": "stderr",
     "output_type": "stream",
     "text": [
      "C:\\Users\\mspla\\AppData\\Local\\Temp\\ipykernel_12772\\2212051881.py:15: RuntimeWarning: Channel names are not unique, found duplicates for: {'T8-P8'}. Applying running numbers for duplicates.\n",
      "  edf_data = mne.io.read_raw_edf(file, preload=True)\n"
     ]
    },
    {
     "name": "stdout",
     "output_type": "stream",
     "text": [
      "Extracting EDF parameters from C:\\Users\\mspla\\Documents\\repos\\py_basic_310_Au24\\seizurePy3.9\\data\\raw_data\\chb-mit-scalp-eeg-database-1.0.0\\chb01\\chb01_12.edf...\n",
      "EDF file detected\n",
      "Setting channel info structure...\n",
      "Creating raw.info structure...\n",
      "Reading 0 ... 921599  =      0.000 ...  3599.996 secs...\n"
     ]
    },
    {
     "name": "stderr",
     "output_type": "stream",
     "text": [
      "C:\\Users\\mspla\\AppData\\Local\\Temp\\ipykernel_12772\\2212051881.py:15: RuntimeWarning: Channel names are not unique, found duplicates for: {'T8-P8'}. Applying running numbers for duplicates.\n",
      "  edf_data = mne.io.read_raw_edf(file, preload=True)\n"
     ]
    },
    {
     "name": "stdout",
     "output_type": "stream",
     "text": [
      "Extracting EDF parameters from C:\\Users\\mspla\\Documents\\repos\\py_basic_310_Au24\\seizurePy3.9\\data\\raw_data\\chb-mit-scalp-eeg-database-1.0.0\\chb01\\chb01_13.edf...\n",
      "EDF file detected\n",
      "Setting channel info structure...\n",
      "Creating raw.info structure...\n",
      "Reading 0 ... 921599  =      0.000 ...  3599.996 secs...\n"
     ]
    },
    {
     "name": "stderr",
     "output_type": "stream",
     "text": [
      "C:\\Users\\mspla\\AppData\\Local\\Temp\\ipykernel_12772\\2212051881.py:15: RuntimeWarning: Channel names are not unique, found duplicates for: {'T8-P8'}. Applying running numbers for duplicates.\n",
      "  edf_data = mne.io.read_raw_edf(file, preload=True)\n"
     ]
    },
    {
     "name": "stdout",
     "output_type": "stream",
     "text": [
      "Extracting EDF parameters from C:\\Users\\mspla\\Documents\\repos\\py_basic_310_Au24\\seizurePy3.9\\data\\raw_data\\chb-mit-scalp-eeg-database-1.0.0\\chb01\\chb01_14.edf...\n",
      "EDF file detected\n",
      "Setting channel info structure...\n",
      "Creating raw.info structure...\n",
      "Reading 0 ... 921599  =      0.000 ...  3599.996 secs...\n"
     ]
    },
    {
     "name": "stderr",
     "output_type": "stream",
     "text": [
      "C:\\Users\\mspla\\AppData\\Local\\Temp\\ipykernel_12772\\2212051881.py:15: RuntimeWarning: Channel names are not unique, found duplicates for: {'T8-P8'}. Applying running numbers for duplicates.\n",
      "  edf_data = mne.io.read_raw_edf(file, preload=True)\n"
     ]
    },
    {
     "name": "stdout",
     "output_type": "stream",
     "text": [
      "Extracting EDF parameters from C:\\Users\\mspla\\Documents\\repos\\py_basic_310_Au24\\seizurePy3.9\\data\\raw_data\\chb-mit-scalp-eeg-database-1.0.0\\chb01\\chb01_15.edf...\n",
      "EDF file detected\n",
      "Setting channel info structure...\n",
      "Creating raw.info structure...\n",
      "Reading 0 ... 921599  =      0.000 ...  3599.996 secs...\n"
     ]
    },
    {
     "name": "stderr",
     "output_type": "stream",
     "text": [
      "C:\\Users\\mspla\\AppData\\Local\\Temp\\ipykernel_12772\\2212051881.py:15: RuntimeWarning: Channel names are not unique, found duplicates for: {'T8-P8'}. Applying running numbers for duplicates.\n",
      "  edf_data = mne.io.read_raw_edf(file, preload=True)\n"
     ]
    },
    {
     "name": "stdout",
     "output_type": "stream",
     "text": [
      "Extracting EDF parameters from C:\\Users\\mspla\\Documents\\repos\\py_basic_310_Au24\\seizurePy3.9\\data\\raw_data\\chb-mit-scalp-eeg-database-1.0.0\\chb01\\chb01_16.edf...\n",
      "EDF file detected\n",
      "Setting channel info structure...\n",
      "Creating raw.info structure...\n",
      "Reading 0 ... 921599  =      0.000 ...  3599.996 secs...\n"
     ]
    },
    {
     "name": "stderr",
     "output_type": "stream",
     "text": [
      "C:\\Users\\mspla\\AppData\\Local\\Temp\\ipykernel_12772\\2212051881.py:15: RuntimeWarning: Channel names are not unique, found duplicates for: {'T8-P8'}. Applying running numbers for duplicates.\n",
      "  edf_data = mne.io.read_raw_edf(file, preload=True)\n"
     ]
    },
    {
     "name": "stdout",
     "output_type": "stream",
     "text": [
      "Extracting EDF parameters from C:\\Users\\mspla\\Documents\\repos\\py_basic_310_Au24\\seizurePy3.9\\data\\raw_data\\chb-mit-scalp-eeg-database-1.0.0\\chb01\\chb01_17.edf...\n",
      "EDF file detected\n",
      "Setting channel info structure...\n",
      "Creating raw.info structure...\n",
      "Reading 0 ... 921599  =      0.000 ...  3599.996 secs...\n"
     ]
    },
    {
     "name": "stderr",
     "output_type": "stream",
     "text": [
      "C:\\Users\\mspla\\AppData\\Local\\Temp\\ipykernel_12772\\2212051881.py:15: RuntimeWarning: Channel names are not unique, found duplicates for: {'T8-P8'}. Applying running numbers for duplicates.\n",
      "  edf_data = mne.io.read_raw_edf(file, preload=True)\n"
     ]
    },
    {
     "name": "stdout",
     "output_type": "stream",
     "text": [
      "Extracting EDF parameters from C:\\Users\\mspla\\Documents\\repos\\py_basic_310_Au24\\seizurePy3.9\\data\\raw_data\\chb-mit-scalp-eeg-database-1.0.0\\chb01\\chb01_18.edf...\n",
      "EDF file detected\n",
      "Setting channel info structure...\n",
      "Creating raw.info structure...\n",
      "Reading 0 ... 921599  =      0.000 ...  3599.996 secs...\n"
     ]
    },
    {
     "name": "stderr",
     "output_type": "stream",
     "text": [
      "C:\\Users\\mspla\\AppData\\Local\\Temp\\ipykernel_12772\\2212051881.py:15: RuntimeWarning: Channel names are not unique, found duplicates for: {'T8-P8'}. Applying running numbers for duplicates.\n",
      "  edf_data = mne.io.read_raw_edf(file, preload=True)\n"
     ]
    },
    {
     "name": "stdout",
     "output_type": "stream",
     "text": [
      "Extracting EDF parameters from C:\\Users\\mspla\\Documents\\repos\\py_basic_310_Au24\\seizurePy3.9\\data\\raw_data\\chb-mit-scalp-eeg-database-1.0.0\\chb01\\chb01_19.edf...\n",
      "EDF file detected\n",
      "Setting channel info structure...\n",
      "Creating raw.info structure...\n",
      "Reading 0 ... 921599  =      0.000 ...  3599.996 secs...\n"
     ]
    },
    {
     "name": "stderr",
     "output_type": "stream",
     "text": [
      "C:\\Users\\mspla\\AppData\\Local\\Temp\\ipykernel_12772\\2212051881.py:15: RuntimeWarning: Channel names are not unique, found duplicates for: {'T8-P8'}. Applying running numbers for duplicates.\n",
      "  edf_data = mne.io.read_raw_edf(file, preload=True)\n"
     ]
    },
    {
     "name": "stdout",
     "output_type": "stream",
     "text": [
      "Extracting EDF parameters from C:\\Users\\mspla\\Documents\\repos\\py_basic_310_Au24\\seizurePy3.9\\data\\raw_data\\chb-mit-scalp-eeg-database-1.0.0\\chb01\\chb01_20.edf...\n",
      "EDF file detected\n",
      "Setting channel info structure...\n",
      "Creating raw.info structure...\n",
      "Reading 0 ... 681727  =      0.000 ...  2662.996 secs...\n"
     ]
    },
    {
     "name": "stderr",
     "output_type": "stream",
     "text": [
      "C:\\Users\\mspla\\AppData\\Local\\Temp\\ipykernel_12772\\2212051881.py:15: RuntimeWarning: Channel names are not unique, found duplicates for: {'T8-P8'}. Applying running numbers for duplicates.\n",
      "  edf_data = mne.io.read_raw_edf(file, preload=True)\n"
     ]
    },
    {
     "name": "stdout",
     "output_type": "stream",
     "text": [
      "Extracting EDF parameters from C:\\Users\\mspla\\Documents\\repos\\py_basic_310_Au24\\seizurePy3.9\\data\\raw_data\\chb-mit-scalp-eeg-database-1.0.0\\chb01\\chb01_21.edf...\n",
      "EDF file detected\n",
      "Setting channel info structure...\n",
      "Creating raw.info structure...\n",
      "Reading 0 ... 921599  =      0.000 ...  3599.996 secs...\n"
     ]
    },
    {
     "name": "stderr",
     "output_type": "stream",
     "text": [
      "C:\\Users\\mspla\\AppData\\Local\\Temp\\ipykernel_12772\\2212051881.py:15: RuntimeWarning: Channel names are not unique, found duplicates for: {'T8-P8'}. Applying running numbers for duplicates.\n",
      "  edf_data = mne.io.read_raw_edf(file, preload=True)\n"
     ]
    },
    {
     "name": "stdout",
     "output_type": "stream",
     "text": [
      "Extracting EDF parameters from C:\\Users\\mspla\\Documents\\repos\\py_basic_310_Au24\\seizurePy3.9\\data\\raw_data\\chb-mit-scalp-eeg-database-1.0.0\\chb01\\chb01_22.edf...\n",
      "EDF file detected\n",
      "Setting channel info structure...\n",
      "Creating raw.info structure...\n",
      "Reading 0 ... 921599  =      0.000 ...  3599.996 secs...\n"
     ]
    },
    {
     "name": "stderr",
     "output_type": "stream",
     "text": [
      "C:\\Users\\mspla\\AppData\\Local\\Temp\\ipykernel_12772\\2212051881.py:15: RuntimeWarning: Channel names are not unique, found duplicates for: {'T8-P8'}. Applying running numbers for duplicates.\n",
      "  edf_data = mne.io.read_raw_edf(file, preload=True)\n"
     ]
    },
    {
     "name": "stdout",
     "output_type": "stream",
     "text": [
      "Extracting EDF parameters from C:\\Users\\mspla\\Documents\\repos\\py_basic_310_Au24\\seizurePy3.9\\data\\raw_data\\chb-mit-scalp-eeg-database-1.0.0\\chb01\\chb01_23.edf...\n",
      "EDF file detected\n",
      "Setting channel info structure...\n",
      "Creating raw.info structure...\n",
      "Reading 0 ... 921599  =      0.000 ...  3599.996 secs...\n"
     ]
    },
    {
     "name": "stderr",
     "output_type": "stream",
     "text": [
      "C:\\Users\\mspla\\AppData\\Local\\Temp\\ipykernel_12772\\2212051881.py:15: RuntimeWarning: Channel names are not unique, found duplicates for: {'T8-P8'}. Applying running numbers for duplicates.\n",
      "  edf_data = mne.io.read_raw_edf(file, preload=True)\n"
     ]
    },
    {
     "name": "stdout",
     "output_type": "stream",
     "text": [
      "Extracting EDF parameters from C:\\Users\\mspla\\Documents\\repos\\py_basic_310_Au24\\seizurePy3.9\\data\\raw_data\\chb-mit-scalp-eeg-database-1.0.0\\chb01\\chb01_24.edf...\n",
      "EDF file detected\n",
      "Setting channel info structure...\n",
      "Creating raw.info structure...\n",
      "Reading 0 ... 921599  =      0.000 ...  3599.996 secs...\n"
     ]
    },
    {
     "name": "stderr",
     "output_type": "stream",
     "text": [
      "C:\\Users\\mspla\\AppData\\Local\\Temp\\ipykernel_12772\\2212051881.py:15: RuntimeWarning: Channel names are not unique, found duplicates for: {'T8-P8'}. Applying running numbers for duplicates.\n",
      "  edf_data = mne.io.read_raw_edf(file, preload=True)\n"
     ]
    },
    {
     "name": "stdout",
     "output_type": "stream",
     "text": [
      "Extracting EDF parameters from C:\\Users\\mspla\\Documents\\repos\\py_basic_310_Au24\\seizurePy3.9\\data\\raw_data\\chb-mit-scalp-eeg-database-1.0.0\\chb01\\chb01_25.edf...\n",
      "EDF file detected\n",
      "Setting channel info structure...\n",
      "Creating raw.info structure...\n",
      "Reading 0 ... 921599  =      0.000 ...  3599.996 secs...\n"
     ]
    },
    {
     "name": "stderr",
     "output_type": "stream",
     "text": [
      "C:\\Users\\mspla\\AppData\\Local\\Temp\\ipykernel_12772\\2212051881.py:15: RuntimeWarning: Channel names are not unique, found duplicates for: {'T8-P8'}. Applying running numbers for duplicates.\n",
      "  edf_data = mne.io.read_raw_edf(file, preload=True)\n"
     ]
    },
    {
     "name": "stdout",
     "output_type": "stream",
     "text": [
      "Extracting EDF parameters from C:\\Users\\mspla\\Documents\\repos\\py_basic_310_Au24\\seizurePy3.9\\data\\raw_data\\chb-mit-scalp-eeg-database-1.0.0\\chb01\\chb01_26.edf...\n",
      "EDF file detected\n",
      "Setting channel info structure...\n",
      "Creating raw.info structure...\n",
      "Reading 0 ... 595199  =      0.000 ...  2324.996 secs...\n"
     ]
    },
    {
     "name": "stderr",
     "output_type": "stream",
     "text": [
      "C:\\Users\\mspla\\AppData\\Local\\Temp\\ipykernel_12772\\2212051881.py:15: RuntimeWarning: Channel names are not unique, found duplicates for: {'T8-P8'}. Applying running numbers for duplicates.\n",
      "  edf_data = mne.io.read_raw_edf(file, preload=True)\n"
     ]
    },
    {
     "name": "stdout",
     "output_type": "stream",
     "text": [
      "Extracting EDF parameters from C:\\Users\\mspla\\Documents\\repos\\py_basic_310_Au24\\seizurePy3.9\\data\\raw_data\\chb-mit-scalp-eeg-database-1.0.0\\chb01\\chb01_27.edf...\n",
      "EDF file detected\n",
      "Setting channel info structure...\n",
      "Creating raw.info structure...\n",
      "Reading 0 ... 153599  =      0.000 ...   599.996 secs...\n",
      "Extracting EDF parameters from C:\\Users\\mspla\\Documents\\repos\\py_basic_310_Au24\\seizurePy3.9\\data\\raw_data\\chb-mit-scalp-eeg-database-1.0.0\\chb01\\chb01_29.edf...\n",
      "EDF file detected\n",
      "Setting channel info structure...\n",
      "Creating raw.info structure...\n",
      "Reading 0 ... 921599  =      0.000 ...  3599.996 secs...\n"
     ]
    },
    {
     "name": "stderr",
     "output_type": "stream",
     "text": [
      "C:\\Users\\mspla\\AppData\\Local\\Temp\\ipykernel_12772\\2212051881.py:15: RuntimeWarning: Channel names are not unique, found duplicates for: {'T8-P8'}. Applying running numbers for duplicates.\n",
      "  edf_data = mne.io.read_raw_edf(file, preload=True)\n",
      "C:\\Users\\mspla\\AppData\\Local\\Temp\\ipykernel_12772\\2212051881.py:15: RuntimeWarning: Channel names are not unique, found duplicates for: {'T8-P8'}. Applying running numbers for duplicates.\n",
      "  edf_data = mne.io.read_raw_edf(file, preload=True)\n"
     ]
    },
    {
     "name": "stdout",
     "output_type": "stream",
     "text": [
      "Extracting EDF parameters from C:\\Users\\mspla\\Documents\\repos\\py_basic_310_Au24\\seizurePy3.9\\data\\raw_data\\chb-mit-scalp-eeg-database-1.0.0\\chb01\\chb01_30.edf...\n",
      "EDF file detected\n",
      "Setting channel info structure...\n",
      "Creating raw.info structure...\n",
      "Reading 0 ... 921599  =      0.000 ...  3599.996 secs...\n"
     ]
    },
    {
     "name": "stderr",
     "output_type": "stream",
     "text": [
      "C:\\Users\\mspla\\AppData\\Local\\Temp\\ipykernel_12772\\2212051881.py:15: RuntimeWarning: Channel names are not unique, found duplicates for: {'T8-P8'}. Applying running numbers for duplicates.\n",
      "  edf_data = mne.io.read_raw_edf(file, preload=True)\n"
     ]
    },
    {
     "name": "stdout",
     "output_type": "stream",
     "text": [
      "Extracting EDF parameters from C:\\Users\\mspla\\Documents\\repos\\py_basic_310_Au24\\seizurePy3.9\\data\\raw_data\\chb-mit-scalp-eeg-database-1.0.0\\chb01\\chb01_31.edf...\n",
      "EDF file detected\n",
      "Setting channel info structure...\n",
      "Creating raw.info structure...\n",
      "Reading 0 ... 921599  =      0.000 ...  3599.996 secs...\n"
     ]
    },
    {
     "name": "stderr",
     "output_type": "stream",
     "text": [
      "C:\\Users\\mspla\\AppData\\Local\\Temp\\ipykernel_12772\\2212051881.py:15: RuntimeWarning: Channel names are not unique, found duplicates for: {'T8-P8'}. Applying running numbers for duplicates.\n",
      "  edf_data = mne.io.read_raw_edf(file, preload=True)\n"
     ]
    },
    {
     "name": "stdout",
     "output_type": "stream",
     "text": [
      "Extracting EDF parameters from C:\\Users\\mspla\\Documents\\repos\\py_basic_310_Au24\\seizurePy3.9\\data\\raw_data\\chb-mit-scalp-eeg-database-1.0.0\\chb01\\chb01_32.edf...\n",
      "EDF file detected\n",
      "Setting channel info structure...\n",
      "Creating raw.info structure...\n",
      "Reading 0 ... 921599  =      0.000 ...  3599.996 secs...\n"
     ]
    },
    {
     "name": "stderr",
     "output_type": "stream",
     "text": [
      "C:\\Users\\mspla\\AppData\\Local\\Temp\\ipykernel_12772\\2212051881.py:15: RuntimeWarning: Channel names are not unique, found duplicates for: {'T8-P8'}. Applying running numbers for duplicates.\n",
      "  edf_data = mne.io.read_raw_edf(file, preload=True)\n"
     ]
    },
    {
     "name": "stdout",
     "output_type": "stream",
     "text": [
      "Extracting EDF parameters from C:\\Users\\mspla\\Documents\\repos\\py_basic_310_Au24\\seizurePy3.9\\data\\raw_data\\chb-mit-scalp-eeg-database-1.0.0\\chb01\\chb01_33.edf...\n",
      "EDF file detected\n",
      "Setting channel info structure...\n",
      "Creating raw.info structure...\n",
      "Reading 0 ... 921599  =      0.000 ...  3599.996 secs...\n"
     ]
    },
    {
     "name": "stderr",
     "output_type": "stream",
     "text": [
      "C:\\Users\\mspla\\AppData\\Local\\Temp\\ipykernel_12772\\2212051881.py:15: RuntimeWarning: Channel names are not unique, found duplicates for: {'T8-P8'}. Applying running numbers for duplicates.\n",
      "  edf_data = mne.io.read_raw_edf(file, preload=True)\n"
     ]
    },
    {
     "name": "stdout",
     "output_type": "stream",
     "text": [
      "Extracting EDF parameters from C:\\Users\\mspla\\Documents\\repos\\py_basic_310_Au24\\seizurePy3.9\\data\\raw_data\\chb-mit-scalp-eeg-database-1.0.0\\chb01\\chb01_34.edf...\n",
      "EDF file detected\n",
      "Setting channel info structure...\n",
      "Creating raw.info structure...\n",
      "Reading 0 ... 921599  =      0.000 ...  3599.996 secs...\n"
     ]
    },
    {
     "name": "stderr",
     "output_type": "stream",
     "text": [
      "C:\\Users\\mspla\\AppData\\Local\\Temp\\ipykernel_12772\\2212051881.py:15: RuntimeWarning: Channel names are not unique, found duplicates for: {'T8-P8'}. Applying running numbers for duplicates.\n",
      "  edf_data = mne.io.read_raw_edf(file, preload=True)\n"
     ]
    },
    {
     "name": "stdout",
     "output_type": "stream",
     "text": [
      "Extracting EDF parameters from C:\\Users\\mspla\\Documents\\repos\\py_basic_310_Au24\\seizurePy3.9\\data\\raw_data\\chb-mit-scalp-eeg-database-1.0.0\\chb01\\chb01_36.edf...\n",
      "EDF file detected\n",
      "Setting channel info structure...\n",
      "Creating raw.info structure...\n",
      "Reading 0 ... 921599  =      0.000 ...  3599.996 secs...\n"
     ]
    },
    {
     "name": "stderr",
     "output_type": "stream",
     "text": [
      "C:\\Users\\mspla\\AppData\\Local\\Temp\\ipykernel_12772\\2212051881.py:15: RuntimeWarning: Channel names are not unique, found duplicates for: {'T8-P8'}. Applying running numbers for duplicates.\n",
      "  edf_data = mne.io.read_raw_edf(file, preload=True)\n"
     ]
    },
    {
     "name": "stdout",
     "output_type": "stream",
     "text": [
      "Extracting EDF parameters from C:\\Users\\mspla\\Documents\\repos\\py_basic_310_Au24\\seizurePy3.9\\data\\raw_data\\chb-mit-scalp-eeg-database-1.0.0\\chb01\\chb01_37.edf...\n",
      "EDF file detected\n",
      "Setting channel info structure...\n",
      "Creating raw.info structure...\n",
      "Reading 0 ... 921599  =      0.000 ...  3599.996 secs...\n"
     ]
    },
    {
     "name": "stderr",
     "output_type": "stream",
     "text": [
      "C:\\Users\\mspla\\AppData\\Local\\Temp\\ipykernel_12772\\2212051881.py:15: RuntimeWarning: Channel names are not unique, found duplicates for: {'T8-P8'}. Applying running numbers for duplicates.\n",
      "  edf_data = mne.io.read_raw_edf(file, preload=True)\n"
     ]
    },
    {
     "name": "stdout",
     "output_type": "stream",
     "text": [
      "Extracting EDF parameters from C:\\Users\\mspla\\Documents\\repos\\py_basic_310_Au24\\seizurePy3.9\\data\\raw_data\\chb-mit-scalp-eeg-database-1.0.0\\chb01\\chb01_38.edf...\n",
      "EDF file detected\n",
      "Setting channel info structure...\n",
      "Creating raw.info structure...\n",
      "Reading 0 ... 921599  =      0.000 ...  3599.996 secs...\n"
     ]
    },
    {
     "name": "stderr",
     "output_type": "stream",
     "text": [
      "C:\\Users\\mspla\\AppData\\Local\\Temp\\ipykernel_12772\\2212051881.py:15: RuntimeWarning: Channel names are not unique, found duplicates for: {'T8-P8'}. Applying running numbers for duplicates.\n",
      "  edf_data = mne.io.read_raw_edf(file, preload=True)\n"
     ]
    },
    {
     "name": "stdout",
     "output_type": "stream",
     "text": [
      "Extracting EDF parameters from C:\\Users\\mspla\\Documents\\repos\\py_basic_310_Au24\\seizurePy3.9\\data\\raw_data\\chb-mit-scalp-eeg-database-1.0.0\\chb01\\chb01_39.edf...\n",
      "EDF file detected\n",
      "Setting channel info structure...\n",
      "Creating raw.info structure...\n",
      "Reading 0 ... 921599  =      0.000 ...  3599.996 secs...\n"
     ]
    },
    {
     "name": "stderr",
     "output_type": "stream",
     "text": [
      "C:\\Users\\mspla\\AppData\\Local\\Temp\\ipykernel_12772\\2212051881.py:15: RuntimeWarning: Channel names are not unique, found duplicates for: {'T8-P8'}. Applying running numbers for duplicates.\n",
      "  edf_data = mne.io.read_raw_edf(file, preload=True)\n"
     ]
    },
    {
     "name": "stdout",
     "output_type": "stream",
     "text": [
      "Extracting EDF parameters from C:\\Users\\mspla\\Documents\\repos\\py_basic_310_Au24\\seizurePy3.9\\data\\raw_data\\chb-mit-scalp-eeg-database-1.0.0\\chb01\\chb01_40.edf...\n",
      "EDF file detected\n",
      "Setting channel info structure...\n",
      "Creating raw.info structure...\n",
      "Reading 0 ... 921599  =      0.000 ...  3599.996 secs...\n"
     ]
    },
    {
     "name": "stderr",
     "output_type": "stream",
     "text": [
      "C:\\Users\\mspla\\AppData\\Local\\Temp\\ipykernel_12772\\2212051881.py:15: RuntimeWarning: Channel names are not unique, found duplicates for: {'T8-P8'}. Applying running numbers for duplicates.\n",
      "  edf_data = mne.io.read_raw_edf(file, preload=True)\n"
     ]
    },
    {
     "name": "stdout",
     "output_type": "stream",
     "text": [
      "Extracting EDF parameters from C:\\Users\\mspla\\Documents\\repos\\py_basic_310_Au24\\seizurePy3.9\\data\\raw_data\\chb-mit-scalp-eeg-database-1.0.0\\chb01\\chb01_41.edf...\n",
      "EDF file detected\n",
      "Setting channel info structure...\n",
      "Creating raw.info structure...\n",
      "Reading 0 ... 921599  =      0.000 ...  3599.996 secs...\n"
     ]
    },
    {
     "name": "stderr",
     "output_type": "stream",
     "text": [
      "C:\\Users\\mspla\\AppData\\Local\\Temp\\ipykernel_12772\\2212051881.py:15: RuntimeWarning: Channel names are not unique, found duplicates for: {'T8-P8'}. Applying running numbers for duplicates.\n",
      "  edf_data = mne.io.read_raw_edf(file, preload=True)\n"
     ]
    },
    {
     "name": "stdout",
     "output_type": "stream",
     "text": [
      "Extracting EDF parameters from C:\\Users\\mspla\\Documents\\repos\\py_basic_310_Au24\\seizurePy3.9\\data\\raw_data\\chb-mit-scalp-eeg-database-1.0.0\\chb01\\chb01_42.edf...\n",
      "EDF file detected\n",
      "Setting channel info structure...\n",
      "Creating raw.info structure...\n",
      "Reading 0 ... 921599  =      0.000 ...  3599.996 secs...\n"
     ]
    },
    {
     "name": "stderr",
     "output_type": "stream",
     "text": [
      "C:\\Users\\mspla\\AppData\\Local\\Temp\\ipykernel_12772\\2212051881.py:15: RuntimeWarning: Channel names are not unique, found duplicates for: {'T8-P8'}. Applying running numbers for duplicates.\n",
      "  edf_data = mne.io.read_raw_edf(file, preload=True)\n"
     ]
    },
    {
     "name": "stdout",
     "output_type": "stream",
     "text": [
      "Extracting EDF parameters from C:\\Users\\mspla\\Documents\\repos\\py_basic_310_Au24\\seizurePy3.9\\data\\raw_data\\chb-mit-scalp-eeg-database-1.0.0\\chb01\\chb01_43.edf...\n",
      "EDF file detected\n",
      "Setting channel info structure...\n",
      "Creating raw.info structure...\n",
      "Reading 0 ... 921599  =      0.000 ...  3599.996 secs...\n"
     ]
    },
    {
     "name": "stderr",
     "output_type": "stream",
     "text": [
      "C:\\Users\\mspla\\AppData\\Local\\Temp\\ipykernel_12772\\2212051881.py:15: RuntimeWarning: Channel names are not unique, found duplicates for: {'T8-P8'}. Applying running numbers for duplicates.\n",
      "  edf_data = mne.io.read_raw_edf(file, preload=True)\n"
     ]
    },
    {
     "name": "stdout",
     "output_type": "stream",
     "text": [
      "Extracting EDF parameters from C:\\Users\\mspla\\Documents\\repos\\py_basic_310_Au24\\seizurePy3.9\\data\\raw_data\\chb-mit-scalp-eeg-database-1.0.0\\chb01\\chb01_46.edf...\n",
      "EDF file detected\n",
      "Setting channel info structure...\n",
      "Creating raw.info structure...\n",
      "Reading 0 ... 921599  =      0.000 ...  3599.996 secs...\n"
     ]
    },
    {
     "name": "stderr",
     "output_type": "stream",
     "text": [
      "C:\\Users\\mspla\\AppData\\Local\\Temp\\ipykernel_12772\\2212051881.py:15: RuntimeWarning: Channel names are not unique, found duplicates for: {'T8-P8'}. Applying running numbers for duplicates.\n",
      "  edf_data = mne.io.read_raw_edf(file, preload=True)\n"
     ]
    },
    {
     "name": "stdout",
     "output_type": "stream",
     "text": [
      "Extracting EDF parameters from C:\\Users\\mspla\\Documents\\repos\\py_basic_310_Au24\\seizurePy3.9\\data\\raw_data\\chb-mit-scalp-eeg-database-1.0.0\\chb02\\chb02_01.edf...\n",
      "EDF file detected\n",
      "Setting channel info structure...\n",
      "Creating raw.info structure...\n",
      "Reading 0 ... 921599  =      0.000 ...  3599.996 secs...\n"
     ]
    },
    {
     "name": "stderr",
     "output_type": "stream",
     "text": [
      "C:\\Users\\mspla\\AppData\\Local\\Temp\\ipykernel_12772\\2212051881.py:15: RuntimeWarning: Channel names are not unique, found duplicates for: {'T8-P8'}. Applying running numbers for duplicates.\n",
      "  edf_data = mne.io.read_raw_edf(file, preload=True)\n"
     ]
    },
    {
     "name": "stdout",
     "output_type": "stream",
     "text": [
      "Extracting EDF parameters from C:\\Users\\mspla\\Documents\\repos\\py_basic_310_Au24\\seizurePy3.9\\data\\raw_data\\chb-mit-scalp-eeg-database-1.0.0\\chb02\\chb02_02.edf...\n",
      "EDF file detected\n",
      "Setting channel info structure...\n",
      "Creating raw.info structure...\n",
      "Reading 0 ... 921599  =      0.000 ...  3599.996 secs...\n"
     ]
    },
    {
     "name": "stderr",
     "output_type": "stream",
     "text": [
      "C:\\Users\\mspla\\AppData\\Local\\Temp\\ipykernel_12772\\2212051881.py:15: RuntimeWarning: Channel names are not unique, found duplicates for: {'T8-P8'}. Applying running numbers for duplicates.\n",
      "  edf_data = mne.io.read_raw_edf(file, preload=True)\n"
     ]
    },
    {
     "name": "stdout",
     "output_type": "stream",
     "text": [
      "Extracting EDF parameters from C:\\Users\\mspla\\Documents\\repos\\py_basic_310_Au24\\seizurePy3.9\\data\\raw_data\\chb-mit-scalp-eeg-database-1.0.0\\chb02\\chb02_03.edf...\n",
      "EDF file detected\n",
      "Setting channel info structure...\n",
      "Creating raw.info structure...\n",
      "Reading 0 ... 921599  =      0.000 ...  3599.996 secs...\n"
     ]
    },
    {
     "name": "stderr",
     "output_type": "stream",
     "text": [
      "C:\\Users\\mspla\\AppData\\Local\\Temp\\ipykernel_12772\\2212051881.py:15: RuntimeWarning: Channel names are not unique, found duplicates for: {'T8-P8'}. Applying running numbers for duplicates.\n",
      "  edf_data = mne.io.read_raw_edf(file, preload=True)\n"
     ]
    },
    {
     "name": "stdout",
     "output_type": "stream",
     "text": [
      "Extracting EDF parameters from C:\\Users\\mspla\\Documents\\repos\\py_basic_310_Au24\\seizurePy3.9\\data\\raw_data\\chb-mit-scalp-eeg-database-1.0.0\\chb02\\chb02_04.edf...\n",
      "EDF file detected\n",
      "Setting channel info structure...\n",
      "Creating raw.info structure...\n",
      "Reading 0 ... 921599  =      0.000 ...  3599.996 secs...\n"
     ]
    },
    {
     "name": "stderr",
     "output_type": "stream",
     "text": [
      "C:\\Users\\mspla\\AppData\\Local\\Temp\\ipykernel_12772\\2212051881.py:15: RuntimeWarning: Channel names are not unique, found duplicates for: {'T8-P8'}. Applying running numbers for duplicates.\n",
      "  edf_data = mne.io.read_raw_edf(file, preload=True)\n"
     ]
    },
    {
     "name": "stdout",
     "output_type": "stream",
     "text": [
      "Extracting EDF parameters from C:\\Users\\mspla\\Documents\\repos\\py_basic_310_Au24\\seizurePy3.9\\data\\raw_data\\chb-mit-scalp-eeg-database-1.0.0\\chb02\\chb02_05.edf...\n",
      "EDF file detected\n",
      "Setting channel info structure...\n",
      "Creating raw.info structure...\n",
      "Reading 0 ... 921599  =      0.000 ...  3599.996 secs...\n"
     ]
    },
    {
     "name": "stderr",
     "output_type": "stream",
     "text": [
      "C:\\Users\\mspla\\AppData\\Local\\Temp\\ipykernel_12772\\2212051881.py:15: RuntimeWarning: Channel names are not unique, found duplicates for: {'T8-P8'}. Applying running numbers for duplicates.\n",
      "  edf_data = mne.io.read_raw_edf(file, preload=True)\n"
     ]
    },
    {
     "name": "stdout",
     "output_type": "stream",
     "text": [
      "Extracting EDF parameters from C:\\Users\\mspla\\Documents\\repos\\py_basic_310_Au24\\seizurePy3.9\\data\\raw_data\\chb-mit-scalp-eeg-database-1.0.0\\chb02\\chb02_06.edf...\n",
      "EDF file detected\n",
      "Setting channel info structure...\n",
      "Creating raw.info structure...\n",
      "Reading 0 ... 921599  =      0.000 ...  3599.996 secs...\n"
     ]
    },
    {
     "name": "stderr",
     "output_type": "stream",
     "text": [
      "C:\\Users\\mspla\\AppData\\Local\\Temp\\ipykernel_12772\\2212051881.py:15: RuntimeWarning: Channel names are not unique, found duplicates for: {'T8-P8'}. Applying running numbers for duplicates.\n",
      "  edf_data = mne.io.read_raw_edf(file, preload=True)\n"
     ]
    },
    {
     "name": "stdout",
     "output_type": "stream",
     "text": [
      "Extracting EDF parameters from C:\\Users\\mspla\\Documents\\repos\\py_basic_310_Au24\\seizurePy3.9\\data\\raw_data\\chb-mit-scalp-eeg-database-1.0.0\\chb02\\chb02_07.edf...\n",
      "EDF file detected\n",
      "Setting channel info structure...\n",
      "Creating raw.info structure...\n",
      "Reading 0 ... 921599  =      0.000 ...  3599.996 secs...\n"
     ]
    },
    {
     "name": "stderr",
     "output_type": "stream",
     "text": [
      "C:\\Users\\mspla\\AppData\\Local\\Temp\\ipykernel_12772\\2212051881.py:15: RuntimeWarning: Channel names are not unique, found duplicates for: {'T8-P8'}. Applying running numbers for duplicates.\n",
      "  edf_data = mne.io.read_raw_edf(file, preload=True)\n"
     ]
    },
    {
     "name": "stdout",
     "output_type": "stream",
     "text": [
      "Extracting EDF parameters from C:\\Users\\mspla\\Documents\\repos\\py_basic_310_Au24\\seizurePy3.9\\data\\raw_data\\chb-mit-scalp-eeg-database-1.0.0\\chb02\\chb02_08.edf...\n",
      "EDF file detected\n",
      "Setting channel info structure...\n",
      "Creating raw.info structure...\n",
      "Reading 0 ... 921599  =      0.000 ...  3599.996 secs...\n"
     ]
    },
    {
     "name": "stderr",
     "output_type": "stream",
     "text": [
      "C:\\Users\\mspla\\AppData\\Local\\Temp\\ipykernel_12772\\2212051881.py:15: RuntimeWarning: Channel names are not unique, found duplicates for: {'T8-P8'}. Applying running numbers for duplicates.\n",
      "  edf_data = mne.io.read_raw_edf(file, preload=True)\n"
     ]
    },
    {
     "name": "stdout",
     "output_type": "stream",
     "text": [
      "Extracting EDF parameters from C:\\Users\\mspla\\Documents\\repos\\py_basic_310_Au24\\seizurePy3.9\\data\\raw_data\\chb-mit-scalp-eeg-database-1.0.0\\chb02\\chb02_09.edf...\n",
      "EDF file detected\n",
      "Setting channel info structure...\n",
      "Creating raw.info structure...\n",
      "Reading 0 ... 921599  =      0.000 ...  3599.996 secs...\n"
     ]
    },
    {
     "name": "stderr",
     "output_type": "stream",
     "text": [
      "C:\\Users\\mspla\\AppData\\Local\\Temp\\ipykernel_12772\\2212051881.py:15: RuntimeWarning: Channel names are not unique, found duplicates for: {'T8-P8'}. Applying running numbers for duplicates.\n",
      "  edf_data = mne.io.read_raw_edf(file, preload=True)\n"
     ]
    },
    {
     "name": "stdout",
     "output_type": "stream",
     "text": [
      "Extracting EDF parameters from C:\\Users\\mspla\\Documents\\repos\\py_basic_310_Au24\\seizurePy3.9\\data\\raw_data\\chb-mit-scalp-eeg-database-1.0.0\\chb02\\chb02_10.edf...\n",
      "EDF file detected\n",
      "Setting channel info structure...\n",
      "Creating raw.info structure...\n",
      "Reading 0 ... 921599  =      0.000 ...  3599.996 secs...\n"
     ]
    },
    {
     "name": "stderr",
     "output_type": "stream",
     "text": [
      "C:\\Users\\mspla\\AppData\\Local\\Temp\\ipykernel_12772\\2212051881.py:15: RuntimeWarning: Channel names are not unique, found duplicates for: {'T8-P8'}. Applying running numbers for duplicates.\n",
      "  edf_data = mne.io.read_raw_edf(file, preload=True)\n"
     ]
    },
    {
     "name": "stdout",
     "output_type": "stream",
     "text": [
      "Extracting EDF parameters from C:\\Users\\mspla\\Documents\\repos\\py_basic_310_Au24\\seizurePy3.9\\data\\raw_data\\chb-mit-scalp-eeg-database-1.0.0\\chb02\\chb02_11.edf...\n",
      "EDF file detected\n",
      "Setting channel info structure...\n",
      "Creating raw.info structure...\n",
      "Reading 0 ... 921599  =      0.000 ...  3599.996 secs...\n"
     ]
    },
    {
     "name": "stderr",
     "output_type": "stream",
     "text": [
      "C:\\Users\\mspla\\AppData\\Local\\Temp\\ipykernel_12772\\2212051881.py:15: RuntimeWarning: Channel names are not unique, found duplicates for: {'T8-P8'}. Applying running numbers for duplicates.\n",
      "  edf_data = mne.io.read_raw_edf(file, preload=True)\n"
     ]
    },
    {
     "name": "stdout",
     "output_type": "stream",
     "text": [
      "Extracting EDF parameters from C:\\Users\\mspla\\Documents\\repos\\py_basic_310_Au24\\seizurePy3.9\\data\\raw_data\\chb-mit-scalp-eeg-database-1.0.0\\chb02\\chb02_12.edf...\n",
      "EDF file detected\n",
      "Setting channel info structure...\n",
      "Creating raw.info structure...\n",
      "Reading 0 ... 921599  =      0.000 ...  3599.996 secs...\n"
     ]
    },
    {
     "name": "stderr",
     "output_type": "stream",
     "text": [
      "C:\\Users\\mspla\\AppData\\Local\\Temp\\ipykernel_12772\\2212051881.py:15: RuntimeWarning: Channel names are not unique, found duplicates for: {'T8-P8'}. Applying running numbers for duplicates.\n",
      "  edf_data = mne.io.read_raw_edf(file, preload=True)\n"
     ]
    },
    {
     "name": "stdout",
     "output_type": "stream",
     "text": [
      "Extracting EDF parameters from C:\\Users\\mspla\\Documents\\repos\\py_basic_310_Au24\\seizurePy3.9\\data\\raw_data\\chb-mit-scalp-eeg-database-1.0.0\\chb02\\chb02_13.edf...\n",
      "EDF file detected\n",
      "Setting channel info structure...\n",
      "Creating raw.info structure...\n",
      "Reading 0 ... 921599  =      0.000 ...  3599.996 secs...\n"
     ]
    },
    {
     "name": "stderr",
     "output_type": "stream",
     "text": [
      "C:\\Users\\mspla\\AppData\\Local\\Temp\\ipykernel_12772\\2212051881.py:15: RuntimeWarning: Channel names are not unique, found duplicates for: {'T8-P8'}. Applying running numbers for duplicates.\n",
      "  edf_data = mne.io.read_raw_edf(file, preload=True)\n"
     ]
    },
    {
     "name": "stdout",
     "output_type": "stream",
     "text": [
      "Extracting EDF parameters from C:\\Users\\mspla\\Documents\\repos\\py_basic_310_Au24\\seizurePy3.9\\data\\raw_data\\chb-mit-scalp-eeg-database-1.0.0\\chb02\\chb02_14.edf...\n",
      "EDF file detected\n",
      "Setting channel info structure...\n",
      "Creating raw.info structure...\n",
      "Reading 0 ... 921599  =      0.000 ...  3599.996 secs...\n"
     ]
    },
    {
     "name": "stderr",
     "output_type": "stream",
     "text": [
      "C:\\Users\\mspla\\AppData\\Local\\Temp\\ipykernel_12772\\2212051881.py:15: RuntimeWarning: Channel names are not unique, found duplicates for: {'T8-P8'}. Applying running numbers for duplicates.\n",
      "  edf_data = mne.io.read_raw_edf(file, preload=True)\n"
     ]
    },
    {
     "name": "stdout",
     "output_type": "stream",
     "text": [
      "Extracting EDF parameters from C:\\Users\\mspla\\Documents\\repos\\py_basic_310_Au24\\seizurePy3.9\\data\\raw_data\\chb-mit-scalp-eeg-database-1.0.0\\chb02\\chb02_15.edf...\n",
      "EDF file detected\n",
      "Setting channel info structure...\n",
      "Creating raw.info structure...\n",
      "Reading 0 ... 921599  =      0.000 ...  3599.996 secs...\n"
     ]
    },
    {
     "name": "stderr",
     "output_type": "stream",
     "text": [
      "C:\\Users\\mspla\\AppData\\Local\\Temp\\ipykernel_12772\\2212051881.py:15: RuntimeWarning: Channel names are not unique, found duplicates for: {'T8-P8'}. Applying running numbers for duplicates.\n",
      "  edf_data = mne.io.read_raw_edf(file, preload=True)\n"
     ]
    },
    {
     "name": "stdout",
     "output_type": "stream",
     "text": [
      "Extracting EDF parameters from C:\\Users\\mspla\\Documents\\repos\\py_basic_310_Au24\\seizurePy3.9\\data\\raw_data\\chb-mit-scalp-eeg-database-1.0.0\\chb02\\chb02_16+.edf...\n",
      "EDF file detected\n",
      "Setting channel info structure...\n",
      "Creating raw.info structure...\n",
      "Reading 0 ... 921599  =      0.000 ...  3599.996 secs...\n"
     ]
    },
    {
     "name": "stderr",
     "output_type": "stream",
     "text": [
      "C:\\Users\\mspla\\AppData\\Local\\Temp\\ipykernel_12772\\2212051881.py:15: RuntimeWarning: Channel names are not unique, found duplicates for: {'T8-P8'}. Applying running numbers for duplicates.\n",
      "  edf_data = mne.io.read_raw_edf(file, preload=True)\n"
     ]
    },
    {
     "name": "stdout",
     "output_type": "stream",
     "text": [
      "Extracting EDF parameters from C:\\Users\\mspla\\Documents\\repos\\py_basic_310_Au24\\seizurePy3.9\\data\\raw_data\\chb-mit-scalp-eeg-database-1.0.0\\chb02\\chb02_16.edf...\n",
      "EDF file detected\n",
      "Setting channel info structure...\n",
      "Creating raw.info structure...\n",
      "Reading 0 ... 245503  =      0.000 ...   958.996 secs...\n",
      "Extracting EDF parameters from C:\\Users\\mspla\\Documents\\repos\\py_basic_310_Au24\\seizurePy3.9\\data\\raw_data\\chb-mit-scalp-eeg-database-1.0.0\\chb02\\chb02_17.edf...\n",
      "EDF file detected\n",
      "Setting channel info structure...\n",
      "Creating raw.info structure...\n",
      "Reading 0 ... 921599  =      0.000 ...  3599.996 secs...\n"
     ]
    },
    {
     "name": "stderr",
     "output_type": "stream",
     "text": [
      "C:\\Users\\mspla\\AppData\\Local\\Temp\\ipykernel_12772\\2212051881.py:15: RuntimeWarning: Channel names are not unique, found duplicates for: {'T8-P8'}. Applying running numbers for duplicates.\n",
      "  edf_data = mne.io.read_raw_edf(file, preload=True)\n",
      "C:\\Users\\mspla\\AppData\\Local\\Temp\\ipykernel_12772\\2212051881.py:15: RuntimeWarning: Channel names are not unique, found duplicates for: {'T8-P8'}. Applying running numbers for duplicates.\n",
      "  edf_data = mne.io.read_raw_edf(file, preload=True)\n"
     ]
    },
    {
     "name": "stdout",
     "output_type": "stream",
     "text": [
      "Extracting EDF parameters from C:\\Users\\mspla\\Documents\\repos\\py_basic_310_Au24\\seizurePy3.9\\data\\raw_data\\chb-mit-scalp-eeg-database-1.0.0\\chb02\\chb02_18.edf...\n",
      "EDF file detected\n",
      "Setting channel info structure...\n",
      "Creating raw.info structure...\n",
      "Reading 0 ... 921599  =      0.000 ...  3599.996 secs...\n"
     ]
    },
    {
     "name": "stderr",
     "output_type": "stream",
     "text": [
      "C:\\Users\\mspla\\AppData\\Local\\Temp\\ipykernel_12772\\2212051881.py:15: RuntimeWarning: Channel names are not unique, found duplicates for: {'T8-P8'}. Applying running numbers for duplicates.\n",
      "  edf_data = mne.io.read_raw_edf(file, preload=True)\n"
     ]
    },
    {
     "name": "stdout",
     "output_type": "stream",
     "text": [
      "Extracting EDF parameters from C:\\Users\\mspla\\Documents\\repos\\py_basic_310_Au24\\seizurePy3.9\\data\\raw_data\\chb-mit-scalp-eeg-database-1.0.0\\chb02\\chb02_19.edf...\n",
      "EDF file detected\n",
      "Setting channel info structure...\n",
      "Creating raw.info structure...\n",
      "Reading 0 ... 921599  =      0.000 ...  3599.996 secs...\n"
     ]
    },
    {
     "name": "stderr",
     "output_type": "stream",
     "text": [
      "C:\\Users\\mspla\\AppData\\Local\\Temp\\ipykernel_12772\\2212051881.py:15: RuntimeWarning: Channel names are not unique, found duplicates for: {'T8-P8'}. Applying running numbers for duplicates.\n",
      "  edf_data = mne.io.read_raw_edf(file, preload=True)\n"
     ]
    },
    {
     "name": "stdout",
     "output_type": "stream",
     "text": [
      "Extracting EDF parameters from C:\\Users\\mspla\\Documents\\repos\\py_basic_310_Au24\\seizurePy3.9\\data\\raw_data\\chb-mit-scalp-eeg-database-1.0.0\\chb02\\chb02_20.edf...\n",
      "EDF file detected\n",
      "Setting channel info structure...\n",
      "Creating raw.info structure...\n",
      "Reading 0 ... 921599  =      0.000 ...  3599.996 secs...\n"
     ]
    },
    {
     "name": "stderr",
     "output_type": "stream",
     "text": [
      "C:\\Users\\mspla\\AppData\\Local\\Temp\\ipykernel_12772\\2212051881.py:15: RuntimeWarning: Channel names are not unique, found duplicates for: {'T8-P8'}. Applying running numbers for duplicates.\n",
      "  edf_data = mne.io.read_raw_edf(file, preload=True)\n"
     ]
    },
    {
     "name": "stdout",
     "output_type": "stream",
     "text": [
      "Extracting EDF parameters from C:\\Users\\mspla\\Documents\\repos\\py_basic_310_Au24\\seizurePy3.9\\data\\raw_data\\chb-mit-scalp-eeg-database-1.0.0\\chb02\\chb02_21.edf...\n",
      "EDF file detected\n",
      "Setting channel info structure...\n",
      "Creating raw.info structure...\n",
      "Reading 0 ... 921599  =      0.000 ...  3599.996 secs...\n"
     ]
    },
    {
     "name": "stderr",
     "output_type": "stream",
     "text": [
      "C:\\Users\\mspla\\AppData\\Local\\Temp\\ipykernel_12772\\2212051881.py:15: RuntimeWarning: Channel names are not unique, found duplicates for: {'T8-P8'}. Applying running numbers for duplicates.\n",
      "  edf_data = mne.io.read_raw_edf(file, preload=True)\n"
     ]
    },
    {
     "name": "stdout",
     "output_type": "stream",
     "text": [
      "Extracting EDF parameters from C:\\Users\\mspla\\Documents\\repos\\py_basic_310_Au24\\seizurePy3.9\\data\\raw_data\\chb-mit-scalp-eeg-database-1.0.0\\chb02\\chb02_22.edf...\n",
      "EDF file detected\n",
      "Setting channel info structure...\n",
      "Creating raw.info structure...\n",
      "Reading 0 ... 921599  =      0.000 ...  3599.996 secs...\n"
     ]
    },
    {
     "name": "stderr",
     "output_type": "stream",
     "text": [
      "C:\\Users\\mspla\\AppData\\Local\\Temp\\ipykernel_12772\\2212051881.py:15: RuntimeWarning: Channel names are not unique, found duplicates for: {'T8-P8'}. Applying running numbers for duplicates.\n",
      "  edf_data = mne.io.read_raw_edf(file, preload=True)\n"
     ]
    },
    {
     "name": "stdout",
     "output_type": "stream",
     "text": [
      "Extracting EDF parameters from C:\\Users\\mspla\\Documents\\repos\\py_basic_310_Au24\\seizurePy3.9\\data\\raw_data\\chb-mit-scalp-eeg-database-1.0.0\\chb02\\chb02_23.edf...\n",
      "EDF file detected\n",
      "Setting channel info structure...\n",
      "Creating raw.info structure...\n",
      "Reading 0 ... 921599  =      0.000 ...  3599.996 secs...\n"
     ]
    },
    {
     "name": "stderr",
     "output_type": "stream",
     "text": [
      "C:\\Users\\mspla\\AppData\\Local\\Temp\\ipykernel_12772\\2212051881.py:15: RuntimeWarning: Channel names are not unique, found duplicates for: {'T8-P8'}. Applying running numbers for duplicates.\n",
      "  edf_data = mne.io.read_raw_edf(file, preload=True)\n"
     ]
    },
    {
     "name": "stdout",
     "output_type": "stream",
     "text": [
      "Extracting EDF parameters from C:\\Users\\mspla\\Documents\\repos\\py_basic_310_Au24\\seizurePy3.9\\data\\raw_data\\chb-mit-scalp-eeg-database-1.0.0\\chb02\\chb02_24.edf...\n",
      "EDF file detected\n",
      "Setting channel info structure...\n",
      "Creating raw.info structure...\n",
      "Reading 0 ... 921599  =      0.000 ...  3599.996 secs...\n"
     ]
    },
    {
     "name": "stderr",
     "output_type": "stream",
     "text": [
      "C:\\Users\\mspla\\AppData\\Local\\Temp\\ipykernel_12772\\2212051881.py:15: RuntimeWarning: Channel names are not unique, found duplicates for: {'T8-P8'}. Applying running numbers for duplicates.\n",
      "  edf_data = mne.io.read_raw_edf(file, preload=True)\n"
     ]
    },
    {
     "name": "stdout",
     "output_type": "stream",
     "text": [
      "Extracting EDF parameters from C:\\Users\\mspla\\Documents\\repos\\py_basic_310_Au24\\seizurePy3.9\\data\\raw_data\\chb-mit-scalp-eeg-database-1.0.0\\chb02\\chb02_25.edf...\n",
      "EDF file detected\n",
      "Setting channel info structure...\n",
      "Creating raw.info structure...\n",
      "Reading 0 ... 921599  =      0.000 ...  3599.996 secs...\n"
     ]
    },
    {
     "name": "stderr",
     "output_type": "stream",
     "text": [
      "C:\\Users\\mspla\\AppData\\Local\\Temp\\ipykernel_12772\\2212051881.py:15: RuntimeWarning: Channel names are not unique, found duplicates for: {'T8-P8'}. Applying running numbers for duplicates.\n",
      "  edf_data = mne.io.read_raw_edf(file, preload=True)\n"
     ]
    },
    {
     "name": "stdout",
     "output_type": "stream",
     "text": [
      "Extracting EDF parameters from C:\\Users\\mspla\\Documents\\repos\\py_basic_310_Au24\\seizurePy3.9\\data\\raw_data\\chb-mit-scalp-eeg-database-1.0.0\\chb02\\chb02_26.edf...\n",
      "EDF file detected\n",
      "Setting channel info structure...\n",
      "Creating raw.info structure...\n",
      "Reading 0 ... 921599  =      0.000 ...  3599.996 secs...\n"
     ]
    },
    {
     "name": "stderr",
     "output_type": "stream",
     "text": [
      "C:\\Users\\mspla\\AppData\\Local\\Temp\\ipykernel_12772\\2212051881.py:15: RuntimeWarning: Channel names are not unique, found duplicates for: {'T8-P8'}. Applying running numbers for duplicates.\n",
      "  edf_data = mne.io.read_raw_edf(file, preload=True)\n"
     ]
    },
    {
     "name": "stdout",
     "output_type": "stream",
     "text": [
      "Extracting EDF parameters from C:\\Users\\mspla\\Documents\\repos\\py_basic_310_Au24\\seizurePy3.9\\data\\raw_data\\chb-mit-scalp-eeg-database-1.0.0\\chb02\\chb02_27.edf...\n",
      "EDF file detected\n",
      "Setting channel info structure...\n",
      "Creating raw.info structure...\n",
      "Reading 0 ... 921599  =      0.000 ...  3599.996 secs...\n"
     ]
    },
    {
     "name": "stderr",
     "output_type": "stream",
     "text": [
      "C:\\Users\\mspla\\AppData\\Local\\Temp\\ipykernel_12772\\2212051881.py:15: RuntimeWarning: Channel names are not unique, found duplicates for: {'T8-P8'}. Applying running numbers for duplicates.\n",
      "  edf_data = mne.io.read_raw_edf(file, preload=True)\n"
     ]
    },
    {
     "name": "stdout",
     "output_type": "stream",
     "text": [
      "Extracting EDF parameters from C:\\Users\\mspla\\Documents\\repos\\py_basic_310_Au24\\seizurePy3.9\\data\\raw_data\\chb-mit-scalp-eeg-database-1.0.0\\chb02\\chb02_28.edf...\n",
      "EDF file detected\n",
      "Setting channel info structure...\n",
      "Creating raw.info structure...\n",
      "Reading 0 ... 921599  =      0.000 ...  3599.996 secs...\n"
     ]
    },
    {
     "name": "stderr",
     "output_type": "stream",
     "text": [
      "C:\\Users\\mspla\\AppData\\Local\\Temp\\ipykernel_12772\\2212051881.py:15: RuntimeWarning: Channel names are not unique, found duplicates for: {'T8-P8'}. Applying running numbers for duplicates.\n",
      "  edf_data = mne.io.read_raw_edf(file, preload=True)\n"
     ]
    },
    {
     "name": "stdout",
     "output_type": "stream",
     "text": [
      "Extracting EDF parameters from C:\\Users\\mspla\\Documents\\repos\\py_basic_310_Au24\\seizurePy3.9\\data\\raw_data\\chb-mit-scalp-eeg-database-1.0.0\\chb02\\chb02_29.edf...\n",
      "EDF file detected\n",
      "Setting channel info structure...\n",
      "Creating raw.info structure...\n",
      "Reading 0 ... 921599  =      0.000 ...  3599.996 secs...\n"
     ]
    },
    {
     "name": "stderr",
     "output_type": "stream",
     "text": [
      "C:\\Users\\mspla\\AppData\\Local\\Temp\\ipykernel_12772\\2212051881.py:15: RuntimeWarning: Channel names are not unique, found duplicates for: {'T8-P8'}. Applying running numbers for duplicates.\n",
      "  edf_data = mne.io.read_raw_edf(file, preload=True)\n"
     ]
    },
    {
     "name": "stdout",
     "output_type": "stream",
     "text": [
      "Extracting EDF parameters from C:\\Users\\mspla\\Documents\\repos\\py_basic_310_Au24\\seizurePy3.9\\data\\raw_data\\chb-mit-scalp-eeg-database-1.0.0\\chb02\\chb02_30.edf...\n",
      "EDF file detected\n",
      "Setting channel info structure...\n",
      "Creating raw.info structure...\n",
      "Reading 0 ... 921599  =      0.000 ...  3599.996 secs...\n"
     ]
    },
    {
     "name": "stderr",
     "output_type": "stream",
     "text": [
      "C:\\Users\\mspla\\AppData\\Local\\Temp\\ipykernel_12772\\2212051881.py:15: RuntimeWarning: Channel names are not unique, found duplicates for: {'T8-P8'}. Applying running numbers for duplicates.\n",
      "  edf_data = mne.io.read_raw_edf(file, preload=True)\n"
     ]
    },
    {
     "name": "stdout",
     "output_type": "stream",
     "text": [
      "Extracting EDF parameters from C:\\Users\\mspla\\Documents\\repos\\py_basic_310_Au24\\seizurePy3.9\\data\\raw_data\\chb-mit-scalp-eeg-database-1.0.0\\chb02\\chb02_31.edf...\n",
      "EDF file detected\n",
      "Setting channel info structure...\n",
      "Creating raw.info structure...\n",
      "Reading 0 ... 921599  =      0.000 ...  3599.996 secs...\n"
     ]
    },
    {
     "name": "stderr",
     "output_type": "stream",
     "text": [
      "C:\\Users\\mspla\\AppData\\Local\\Temp\\ipykernel_12772\\2212051881.py:15: RuntimeWarning: Channel names are not unique, found duplicates for: {'T8-P8'}. Applying running numbers for duplicates.\n",
      "  edf_data = mne.io.read_raw_edf(file, preload=True)\n"
     ]
    },
    {
     "name": "stdout",
     "output_type": "stream",
     "text": [
      "Extracting EDF parameters from C:\\Users\\mspla\\Documents\\repos\\py_basic_310_Au24\\seizurePy3.9\\data\\raw_data\\chb-mit-scalp-eeg-database-1.0.0\\chb02\\chb02_32.edf...\n",
      "EDF file detected\n",
      "Setting channel info structure...\n",
      "Creating raw.info structure...\n",
      "Reading 0 ... 921599  =      0.000 ...  3599.996 secs...\n"
     ]
    },
    {
     "name": "stderr",
     "output_type": "stream",
     "text": [
      "C:\\Users\\mspla\\AppData\\Local\\Temp\\ipykernel_12772\\2212051881.py:15: RuntimeWarning: Channel names are not unique, found duplicates for: {'T8-P8'}. Applying running numbers for duplicates.\n",
      "  edf_data = mne.io.read_raw_edf(file, preload=True)\n"
     ]
    },
    {
     "name": "stdout",
     "output_type": "stream",
     "text": [
      "Extracting EDF parameters from C:\\Users\\mspla\\Documents\\repos\\py_basic_310_Au24\\seizurePy3.9\\data\\raw_data\\chb-mit-scalp-eeg-database-1.0.0\\chb02\\chb02_33.edf...\n",
      "EDF file detected\n",
      "Setting channel info structure...\n",
      "Creating raw.info structure...\n",
      "Reading 0 ... 921599  =      0.000 ...  3599.996 secs...\n"
     ]
    },
    {
     "name": "stderr",
     "output_type": "stream",
     "text": [
      "C:\\Users\\mspla\\AppData\\Local\\Temp\\ipykernel_12772\\2212051881.py:15: RuntimeWarning: Channel names are not unique, found duplicates for: {'T8-P8'}. Applying running numbers for duplicates.\n",
      "  edf_data = mne.io.read_raw_edf(file, preload=True)\n"
     ]
    },
    {
     "name": "stdout",
     "output_type": "stream",
     "text": [
      "Extracting EDF parameters from C:\\Users\\mspla\\Documents\\repos\\py_basic_310_Au24\\seizurePy3.9\\data\\raw_data\\chb-mit-scalp-eeg-database-1.0.0\\chb02\\chb02_34.edf...\n",
      "EDF file detected\n",
      "Setting channel info structure...\n",
      "Creating raw.info structure...\n",
      "Reading 0 ... 921599  =      0.000 ...  3599.996 secs...\n"
     ]
    },
    {
     "name": "stderr",
     "output_type": "stream",
     "text": [
      "C:\\Users\\mspla\\AppData\\Local\\Temp\\ipykernel_12772\\2212051881.py:15: RuntimeWarning: Channel names are not unique, found duplicates for: {'T8-P8'}. Applying running numbers for duplicates.\n",
      "  edf_data = mne.io.read_raw_edf(file, preload=True)\n"
     ]
    },
    {
     "name": "stdout",
     "output_type": "stream",
     "text": [
      "Extracting EDF parameters from C:\\Users\\mspla\\Documents\\repos\\py_basic_310_Au24\\seizurePy3.9\\data\\raw_data\\chb-mit-scalp-eeg-database-1.0.0\\chb02\\chb02_35.edf...\n",
      "EDF file detected\n",
      "Setting channel info structure...\n",
      "Creating raw.info structure...\n",
      "Reading 0 ... 921599  =      0.000 ...  3599.996 secs...\n"
     ]
    },
    {
     "name": "stderr",
     "output_type": "stream",
     "text": [
      "C:\\Users\\mspla\\AppData\\Local\\Temp\\ipykernel_12772\\2212051881.py:15: RuntimeWarning: Channel names are not unique, found duplicates for: {'T8-P8'}. Applying running numbers for duplicates.\n",
      "  edf_data = mne.io.read_raw_edf(file, preload=True)\n"
     ]
    },
    {
     "name": "stdout",
     "output_type": "stream",
     "text": [
      "Extracting EDF parameters from C:\\Users\\mspla\\Documents\\repos\\py_basic_310_Au24\\seizurePy3.9\\data\\raw_data\\chb-mit-scalp-eeg-database-1.0.0\\chb04\\chb04_01.edf...\n",
      "EDF file detected\n",
      "Setting channel info structure...\n",
      "Creating raw.info structure...\n",
      "Reading 0 ... 3685887  =      0.000 ... 14397.996 secs...\n"
     ]
    },
    {
     "name": "stderr",
     "output_type": "stream",
     "text": [
      "C:\\Users\\mspla\\AppData\\Local\\Temp\\ipykernel_12772\\2212051881.py:15: RuntimeWarning: Channel names are not unique, found duplicates for: {'T8-P8'}. Applying running numbers for duplicates.\n",
      "  edf_data = mne.io.read_raw_edf(file, preload=True)\n"
     ]
    },
    {
     "name": "stdout",
     "output_type": "stream",
     "text": [
      "Extracting EDF parameters from C:\\Users\\mspla\\Documents\\repos\\py_basic_310_Au24\\seizurePy3.9\\data\\raw_data\\chb-mit-scalp-eeg-database-1.0.0\\chb04\\chb04_02.edf...\n",
      "EDF file detected\n",
      "Setting channel info structure...\n",
      "Creating raw.info structure...\n",
      "Reading 0 ... 3686399  =      0.000 ... 14399.996 secs...\n"
     ]
    },
    {
     "name": "stderr",
     "output_type": "stream",
     "text": [
      "C:\\Users\\mspla\\AppData\\Local\\Temp\\ipykernel_12772\\2212051881.py:15: RuntimeWarning: Channel names are not unique, found duplicates for: {'T8-P8'}. Applying running numbers for duplicates.\n",
      "  edf_data = mne.io.read_raw_edf(file, preload=True)\n"
     ]
    },
    {
     "name": "stdout",
     "output_type": "stream",
     "text": [
      "Extracting EDF parameters from C:\\Users\\mspla\\Documents\\repos\\py_basic_310_Au24\\seizurePy3.9\\data\\raw_data\\chb-mit-scalp-eeg-database-1.0.0\\chb04\\chb04_03.edf...\n",
      "EDF file detected\n",
      "Setting channel info structure...\n",
      "Creating raw.info structure...\n",
      "Reading 0 ... 3686399  =      0.000 ... 14399.996 secs...\n"
     ]
    },
    {
     "name": "stderr",
     "output_type": "stream",
     "text": [
      "C:\\Users\\mspla\\AppData\\Local\\Temp\\ipykernel_12772\\2212051881.py:15: RuntimeWarning: Channel names are not unique, found duplicates for: {'T8-P8'}. Applying running numbers for duplicates.\n",
      "  edf_data = mne.io.read_raw_edf(file, preload=True)\n"
     ]
    },
    {
     "name": "stdout",
     "output_type": "stream",
     "text": [
      "Extracting EDF parameters from C:\\Users\\mspla\\Documents\\repos\\py_basic_310_Au24\\seizurePy3.9\\data\\raw_data\\chb-mit-scalp-eeg-database-1.0.0\\chb04\\chb04_04.edf...\n",
      "EDF file detected\n",
      "Setting channel info structure...\n",
      "Creating raw.info structure...\n",
      "Reading 0 ... 3686399  =      0.000 ... 14399.996 secs...\n"
     ]
    },
    {
     "name": "stderr",
     "output_type": "stream",
     "text": [
      "C:\\Users\\mspla\\AppData\\Local\\Temp\\ipykernel_12772\\2212051881.py:15: RuntimeWarning: Channel names are not unique, found duplicates for: {'T8-P8'}. Applying running numbers for duplicates.\n",
      "  edf_data = mne.io.read_raw_edf(file, preload=True)\n"
     ]
    },
    {
     "name": "stdout",
     "output_type": "stream",
     "text": [
      "Extracting EDF parameters from C:\\Users\\mspla\\Documents\\repos\\py_basic_310_Au24\\seizurePy3.9\\data\\raw_data\\chb-mit-scalp-eeg-database-1.0.0\\chb04\\chb04_05.edf...\n",
      "EDF file detected\n",
      "Setting channel info structure...\n",
      "Creating raw.info structure...\n",
      "Reading 0 ... 2441215  =      0.000 ...  9535.996 secs...\n"
     ]
    },
    {
     "name": "stderr",
     "output_type": "stream",
     "text": [
      "C:\\Users\\mspla\\AppData\\Local\\Temp\\ipykernel_12772\\2212051881.py:15: RuntimeWarning: Channel names are not unique, found duplicates for: {'T8-P8'}. Applying running numbers for duplicates.\n",
      "  edf_data = mne.io.read_raw_edf(file, preload=True)\n"
     ]
    },
    {
     "name": "stdout",
     "output_type": "stream",
     "text": [
      "Extracting EDF parameters from C:\\Users\\mspla\\Documents\\repos\\py_basic_310_Au24\\seizurePy3.9\\data\\raw_data\\chb-mit-scalp-eeg-database-1.0.0\\chb04\\chb04_06.edf...\n",
      "EDF file detected\n",
      "Setting channel info structure...\n",
      "Creating raw.info structure...\n",
      "Reading 0 ... 3686399  =      0.000 ... 14399.996 secs...\n"
     ]
    },
    {
     "name": "stderr",
     "output_type": "stream",
     "text": [
      "C:\\Users\\mspla\\AppData\\Local\\Temp\\ipykernel_12772\\2212051881.py:15: RuntimeWarning: Channel names are not unique, found duplicates for: {'T8-P8'}. Applying running numbers for duplicates.\n",
      "  edf_data = mne.io.read_raw_edf(file, preload=True)\n"
     ]
    },
    {
     "name": "stdout",
     "output_type": "stream",
     "text": [
      "Extracting EDF parameters from C:\\Users\\mspla\\Documents\\repos\\py_basic_310_Au24\\seizurePy3.9\\data\\raw_data\\chb-mit-scalp-eeg-database-1.0.0\\chb04\\chb04_07.edf...\n",
      "EDF file detected\n",
      "Setting channel info structure...\n",
      "Creating raw.info structure...\n",
      "Reading 0 ... 1918975  =      0.000 ...  7495.996 secs...\n"
     ]
    },
    {
     "name": "stderr",
     "output_type": "stream",
     "text": [
      "C:\\Users\\mspla\\AppData\\Local\\Temp\\ipykernel_12772\\2212051881.py:15: RuntimeWarning: Channel names are not unique, found duplicates for: {'T8-P8'}. Applying running numbers for duplicates.\n",
      "  edf_data = mne.io.read_raw_edf(file, preload=True)\n"
     ]
    },
    {
     "name": "stdout",
     "output_type": "stream",
     "text": [
      "Extracting EDF parameters from C:\\Users\\mspla\\Documents\\repos\\py_basic_310_Au24\\seizurePy3.9\\data\\raw_data\\chb-mit-scalp-eeg-database-1.0.0\\chb04\\chb04_08.edf...\n",
      "EDF file detected\n",
      "Setting channel info structure...\n",
      "Creating raw.info structure...\n",
      "Reading 0 ... 3686399  =      0.000 ... 14399.996 secs...\n"
     ]
    },
    {
     "name": "stderr",
     "output_type": "stream",
     "text": [
      "C:\\Users\\mspla\\AppData\\Local\\Temp\\ipykernel_12772\\2212051881.py:15: RuntimeWarning: Channel names are not unique, found duplicates for: {'T8-P8'}. Applying running numbers for duplicates.\n",
      "  edf_data = mne.io.read_raw_edf(file, preload=True)\n"
     ]
    },
    {
     "name": "stdout",
     "output_type": "stream",
     "text": [
      "Extracting EDF parameters from C:\\Users\\mspla\\Documents\\repos\\py_basic_310_Au24\\seizurePy3.9\\data\\raw_data\\chb-mit-scalp-eeg-database-1.0.0\\chb04\\chb04_09.edf...\n",
      "EDF file detected\n",
      "Setting channel info structure...\n",
      "Creating raw.info structure...\n",
      "Reading 0 ... 3686399  =      0.000 ... 14399.996 secs...\n"
     ]
    },
    {
     "name": "stderr",
     "output_type": "stream",
     "text": [
      "C:\\Users\\mspla\\AppData\\Local\\Temp\\ipykernel_12772\\2212051881.py:15: RuntimeWarning: Channel names are not unique, found duplicates for: {'T8-P8'}. Applying running numbers for duplicates.\n",
      "  edf_data = mne.io.read_raw_edf(file, preload=True)\n"
     ]
    },
    {
     "name": "stdout",
     "output_type": "stream",
     "text": [
      "Extracting EDF parameters from C:\\Users\\mspla\\Documents\\repos\\py_basic_310_Au24\\seizurePy3.9\\data\\raw_data\\chb-mit-scalp-eeg-database-1.0.0\\chb04\\chb04_10.edf...\n",
      "EDF file detected\n",
      "Setting channel info structure...\n",
      "Creating raw.info structure...\n",
      "Reading 0 ... 3686399  =      0.000 ... 14399.996 secs...\n"
     ]
    },
    {
     "name": "stderr",
     "output_type": "stream",
     "text": [
      "C:\\Users\\mspla\\AppData\\Local\\Temp\\ipykernel_12772\\2212051881.py:15: RuntimeWarning: Channel names are not unique, found duplicates for: {'T8-P8'}. Applying running numbers for duplicates.\n",
      "  edf_data = mne.io.read_raw_edf(file, preload=True)\n"
     ]
    },
    {
     "name": "stdout",
     "output_type": "stream",
     "text": [
      "Extracting EDF parameters from C:\\Users\\mspla\\Documents\\repos\\py_basic_310_Au24\\seizurePy3.9\\data\\raw_data\\chb-mit-scalp-eeg-database-1.0.0\\chb04\\chb04_11.edf...\n",
      "EDF file detected\n",
      "Setting channel info structure...\n",
      "Creating raw.info structure...\n",
      "Reading 0 ... 1236991  =      0.000 ...  4831.996 secs...\n"
     ]
    },
    {
     "name": "stderr",
     "output_type": "stream",
     "text": [
      "C:\\Users\\mspla\\AppData\\Local\\Temp\\ipykernel_12772\\2212051881.py:15: RuntimeWarning: Channel names are not unique, found duplicates for: {'T8-P8'}. Applying running numbers for duplicates.\n",
      "  edf_data = mne.io.read_raw_edf(file, preload=True)\n"
     ]
    },
    {
     "name": "stdout",
     "output_type": "stream",
     "text": [
      "Extracting EDF parameters from C:\\Users\\mspla\\Documents\\repos\\py_basic_310_Au24\\seizurePy3.9\\data\\raw_data\\chb-mit-scalp-eeg-database-1.0.0\\chb04\\chb04_12.edf...\n",
      "EDF file detected\n",
      "Setting channel info structure...\n",
      "Creating raw.info structure...\n",
      "Reading 0 ... 3691519  =      0.000 ... 14419.996 secs...\n"
     ]
    },
    {
     "name": "stderr",
     "output_type": "stream",
     "text": [
      "C:\\Users\\mspla\\AppData\\Local\\Temp\\ipykernel_12772\\2212051881.py:15: RuntimeWarning: Channel names are not unique, found duplicates for: {'T8-P8'}. Applying running numbers for duplicates.\n",
      "  edf_data = mne.io.read_raw_edf(file, preload=True)\n"
     ]
    },
    {
     "name": "stdout",
     "output_type": "stream",
     "text": [
      "Extracting EDF parameters from C:\\Users\\mspla\\Documents\\repos\\py_basic_310_Au24\\seizurePy3.9\\data\\raw_data\\chb-mit-scalp-eeg-database-1.0.0\\chb04\\chb04_13.edf...\n",
      "EDF file detected\n",
      "Setting channel info structure...\n",
      "Creating raw.info structure...\n",
      "Reading 0 ... 3685887  =      0.000 ... 14397.996 secs...\n"
     ]
    },
    {
     "name": "stderr",
     "output_type": "stream",
     "text": [
      "C:\\Users\\mspla\\AppData\\Local\\Temp\\ipykernel_12772\\2212051881.py:15: RuntimeWarning: Channel names are not unique, found duplicates for: {'T8-P8'}. Applying running numbers for duplicates.\n",
      "  edf_data = mne.io.read_raw_edf(file, preload=True)\n"
     ]
    },
    {
     "name": "stdout",
     "output_type": "stream",
     "text": [
      "Extracting EDF parameters from C:\\Users\\mspla\\Documents\\repos\\py_basic_310_Au24\\seizurePy3.9\\data\\raw_data\\chb-mit-scalp-eeg-database-1.0.0\\chb04\\chb04_14.edf...\n",
      "EDF file detected\n",
      "Setting channel info structure...\n",
      "Creating raw.info structure...\n",
      "Reading 0 ... 3691007  =      0.000 ... 14417.996 secs...\n"
     ]
    },
    {
     "name": "stderr",
     "output_type": "stream",
     "text": [
      "C:\\Users\\mspla\\AppData\\Local\\Temp\\ipykernel_12772\\2212051881.py:15: RuntimeWarning: Channel names are not unique, found duplicates for: {'T8-P8'}. Applying running numbers for duplicates.\n",
      "  edf_data = mne.io.read_raw_edf(file, preload=True)\n"
     ]
    },
    {
     "name": "stdout",
     "output_type": "stream",
     "text": [
      "Extracting EDF parameters from C:\\Users\\mspla\\Documents\\repos\\py_basic_310_Au24\\seizurePy3.9\\data\\raw_data\\chb-mit-scalp-eeg-database-1.0.0\\chb04\\chb04_15.edf...\n",
      "EDF file detected\n",
      "Setting channel info structure...\n",
      "Creating raw.info structure...\n",
      "Reading 0 ... 3686399  =      0.000 ... 14399.996 secs...\n"
     ]
    },
    {
     "name": "stderr",
     "output_type": "stream",
     "text": [
      "C:\\Users\\mspla\\AppData\\Local\\Temp\\ipykernel_12772\\2212051881.py:15: RuntimeWarning: Channel names are not unique, found duplicates for: {'T8-P8'}. Applying running numbers for duplicates.\n",
      "  edf_data = mne.io.read_raw_edf(file, preload=True)\n"
     ]
    },
    {
     "name": "stdout",
     "output_type": "stream",
     "text": [
      "Extracting EDF parameters from C:\\Users\\mspla\\Documents\\repos\\py_basic_310_Au24\\seizurePy3.9\\data\\raw_data\\chb-mit-scalp-eeg-database-1.0.0\\chb04\\chb04_16.edf...\n",
      "EDF file detected\n",
      "Setting channel info structure...\n",
      "Creating raw.info structure...\n",
      "Reading 0 ... 3686399  =      0.000 ... 14399.996 secs...\n"
     ]
    },
    {
     "name": "stderr",
     "output_type": "stream",
     "text": [
      "C:\\Users\\mspla\\AppData\\Local\\Temp\\ipykernel_12772\\2212051881.py:15: RuntimeWarning: Channel names are not unique, found duplicates for: {'T8-P8'}. Applying running numbers for duplicates.\n",
      "  edf_data = mne.io.read_raw_edf(file, preload=True)\n"
     ]
    },
    {
     "name": "stdout",
     "output_type": "stream",
     "text": [
      "Extracting EDF parameters from C:\\Users\\mspla\\Documents\\repos\\py_basic_310_Au24\\seizurePy3.9\\data\\raw_data\\chb-mit-scalp-eeg-database-1.0.0\\chb04\\chb04_17.edf...\n",
      "EDF file detected\n",
      "Setting channel info structure...\n",
      "Creating raw.info structure...\n",
      "Reading 0 ... 3515391  =      0.000 ... 13731.996 secs...\n"
     ]
    },
    {
     "name": "stderr",
     "output_type": "stream",
     "text": [
      "C:\\Users\\mspla\\AppData\\Local\\Temp\\ipykernel_12772\\2212051881.py:15: RuntimeWarning: Channel names are not unique, found duplicates for: {'T8-P8'}. Applying running numbers for duplicates.\n",
      "  edf_data = mne.io.read_raw_edf(file, preload=True)\n"
     ]
    },
    {
     "name": "stdout",
     "output_type": "stream",
     "text": [
      "Extracting EDF parameters from C:\\Users\\mspla\\Documents\\repos\\py_basic_310_Au24\\seizurePy3.9\\data\\raw_data\\chb-mit-scalp-eeg-database-1.0.0\\chb04\\chb04_18.edf...\n",
      "EDF file detected\n",
      "Setting channel info structure...\n",
      "Creating raw.info structure...\n",
      "Reading 0 ... 3692799  =      0.000 ... 14424.996 secs...\n"
     ]
    },
    {
     "name": "stderr",
     "output_type": "stream",
     "text": [
      "C:\\Users\\mspla\\AppData\\Local\\Temp\\ipykernel_12772\\2212051881.py:15: RuntimeWarning: Channel names are not unique, found duplicates for: {'T8-P8'}. Applying running numbers for duplicates.\n",
      "  edf_data = mne.io.read_raw_edf(file, preload=True)\n"
     ]
    },
    {
     "name": "stdout",
     "output_type": "stream",
     "text": [
      "Extracting EDF parameters from C:\\Users\\mspla\\Documents\\repos\\py_basic_310_Au24\\seizurePy3.9\\data\\raw_data\\chb-mit-scalp-eeg-database-1.0.0\\chb04\\chb04_19.edf...\n",
      "EDF file detected\n",
      "Setting channel info structure...\n",
      "Creating raw.info structure...\n",
      "Reading 0 ... 3686399  =      0.000 ... 14399.996 secs...\n"
     ]
    },
    {
     "name": "stderr",
     "output_type": "stream",
     "text": [
      "C:\\Users\\mspla\\AppData\\Local\\Temp\\ipykernel_12772\\2212051881.py:15: RuntimeWarning: Channel names are not unique, found duplicates for: {'T8-P8'}. Applying running numbers for duplicates.\n",
      "  edf_data = mne.io.read_raw_edf(file, preload=True)\n"
     ]
    },
    {
     "name": "stdout",
     "output_type": "stream",
     "text": [
      "Extracting EDF parameters from C:\\Users\\mspla\\Documents\\repos\\py_basic_310_Au24\\seizurePy3.9\\data\\raw_data\\chb-mit-scalp-eeg-database-1.0.0\\chb04\\chb04_21.edf...\n",
      "EDF file detected\n",
      "Setting channel info structure...\n",
      "Creating raw.info structure...\n",
      "Reading 0 ... 3686399  =      0.000 ... 14399.996 secs...\n"
     ]
    },
    {
     "name": "stderr",
     "output_type": "stream",
     "text": [
      "C:\\Users\\mspla\\AppData\\Local\\Temp\\ipykernel_12772\\2212051881.py:15: RuntimeWarning: Channel names are not unique, found duplicates for: {'T8-P8'}. Applying running numbers for duplicates.\n",
      "  edf_data = mne.io.read_raw_edf(file, preload=True)\n"
     ]
    },
    {
     "name": "stdout",
     "output_type": "stream",
     "text": [
      "Extracting EDF parameters from C:\\Users\\mspla\\Documents\\repos\\py_basic_310_Au24\\seizurePy3.9\\data\\raw_data\\chb-mit-scalp-eeg-database-1.0.0\\chb04\\chb04_22.edf...\n",
      "EDF file detected\n",
      "Setting channel info structure...\n",
      "Creating raw.info structure...\n",
      "Reading 0 ... 3686399  =      0.000 ... 14399.996 secs...\n"
     ]
    },
    {
     "name": "stderr",
     "output_type": "stream",
     "text": [
      "C:\\Users\\mspla\\AppData\\Local\\Temp\\ipykernel_12772\\2212051881.py:15: RuntimeWarning: Channel names are not unique, found duplicates for: {'T8-P8'}. Applying running numbers for duplicates.\n",
      "  edf_data = mne.io.read_raw_edf(file, preload=True)\n"
     ]
    },
    {
     "name": "stdout",
     "output_type": "stream",
     "text": [
      "Extracting EDF parameters from C:\\Users\\mspla\\Documents\\repos\\py_basic_310_Au24\\seizurePy3.9\\data\\raw_data\\chb-mit-scalp-eeg-database-1.0.0\\chb04\\chb04_23.edf...\n",
      "EDF file detected\n",
      "Setting channel info structure...\n",
      "Creating raw.info structure...\n",
      "Reading 0 ... 2735103  =      0.000 ... 10683.996 secs...\n"
     ]
    },
    {
     "name": "stderr",
     "output_type": "stream",
     "text": [
      "C:\\Users\\mspla\\AppData\\Local\\Temp\\ipykernel_12772\\2212051881.py:15: RuntimeWarning: Channel names are not unique, found duplicates for: {'T8-P8'}. Applying running numbers for duplicates.\n",
      "  edf_data = mne.io.read_raw_edf(file, preload=True)\n"
     ]
    },
    {
     "name": "stdout",
     "output_type": "stream",
     "text": [
      "Extracting EDF parameters from C:\\Users\\mspla\\Documents\\repos\\py_basic_310_Au24\\seizurePy3.9\\data\\raw_data\\chb-mit-scalp-eeg-database-1.0.0\\chb04\\chb04_24.edf...\n",
      "EDF file detected\n",
      "Setting channel info structure...\n",
      "Creating raw.info structure...\n",
      "Reading 0 ... 3687935  =      0.000 ... 14405.996 secs...\n"
     ]
    },
    {
     "name": "stderr",
     "output_type": "stream",
     "text": [
      "C:\\Users\\mspla\\AppData\\Local\\Temp\\ipykernel_12772\\2212051881.py:15: RuntimeWarning: Channel names are not unique, found duplicates for: {'T8-P8'}. Applying running numbers for duplicates.\n",
      "  edf_data = mne.io.read_raw_edf(file, preload=True)\n"
     ]
    },
    {
     "name": "stdout",
     "output_type": "stream",
     "text": [
      "Extracting EDF parameters from C:\\Users\\mspla\\Documents\\repos\\py_basic_310_Au24\\seizurePy3.9\\data\\raw_data\\chb-mit-scalp-eeg-database-1.0.0\\chb04\\chb04_25.edf...\n",
      "EDF file detected\n",
      "Setting channel info structure...\n",
      "Creating raw.info structure...\n",
      "Reading 0 ... 3686399  =      0.000 ... 14399.996 secs...\n"
     ]
    },
    {
     "name": "stderr",
     "output_type": "stream",
     "text": [
      "C:\\Users\\mspla\\AppData\\Local\\Temp\\ipykernel_12772\\2212051881.py:15: RuntimeWarning: Channel names are not unique, found duplicates for: {'T8-P8'}. Applying running numbers for duplicates.\n",
      "  edf_data = mne.io.read_raw_edf(file, preload=True)\n"
     ]
    },
    {
     "name": "stdout",
     "output_type": "stream",
     "text": [
      "Extracting EDF parameters from C:\\Users\\mspla\\Documents\\repos\\py_basic_310_Au24\\seizurePy3.9\\data\\raw_data\\chb-mit-scalp-eeg-database-1.0.0\\chb04\\chb04_26.edf...\n",
      "EDF file detected\n",
      "Setting channel info structure...\n",
      "Creating raw.info structure...\n",
      "Reading 0 ... 3686399  =      0.000 ... 14399.996 secs...\n"
     ]
    },
    {
     "name": "stderr",
     "output_type": "stream",
     "text": [
      "C:\\Users\\mspla\\AppData\\Local\\Temp\\ipykernel_12772\\2212051881.py:15: RuntimeWarning: Channel names are not unique, found duplicates for: {'T8-P8'}. Applying running numbers for duplicates.\n",
      "  edf_data = mne.io.read_raw_edf(file, preload=True)\n"
     ]
    },
    {
     "name": "stdout",
     "output_type": "stream",
     "text": [
      "Extracting EDF parameters from C:\\Users\\mspla\\Documents\\repos\\py_basic_310_Au24\\seizurePy3.9\\data\\raw_data\\chb-mit-scalp-eeg-database-1.0.0\\chb04\\chb04_27.edf...\n",
      "EDF file detected\n",
      "Setting channel info structure...\n",
      "Creating raw.info structure...\n",
      "Reading 0 ... 3693311  =      0.000 ... 14426.996 secs...\n"
     ]
    },
    {
     "name": "stderr",
     "output_type": "stream",
     "text": [
      "C:\\Users\\mspla\\AppData\\Local\\Temp\\ipykernel_12772\\2212051881.py:15: RuntimeWarning: Channel names are not unique, found duplicates for: {'T8-P8'}. Applying running numbers for duplicates.\n",
      "  edf_data = mne.io.read_raw_edf(file, preload=True)\n"
     ]
    },
    {
     "name": "stdout",
     "output_type": "stream",
     "text": [
      "Extracting EDF parameters from C:\\Users\\mspla\\Documents\\repos\\py_basic_310_Au24\\seizurePy3.9\\data\\raw_data\\chb-mit-scalp-eeg-database-1.0.0\\chb04\\chb04_28.edf...\n",
      "EDF file detected\n",
      "Setting channel info structure...\n",
      "Creating raw.info structure...\n",
      "Reading 0 ... 3692287  =      0.000 ... 14422.996 secs...\n"
     ]
    },
    {
     "name": "stderr",
     "output_type": "stream",
     "text": [
      "C:\\Users\\mspla\\AppData\\Local\\Temp\\ipykernel_12772\\2212051881.py:15: RuntimeWarning: Channel names are not unique, found duplicates for: {'T8-P8'}. Applying running numbers for duplicates.\n",
      "  edf_data = mne.io.read_raw_edf(file, preload=True)\n"
     ]
    },
    {
     "name": "stdout",
     "output_type": "stream",
     "text": [
      "Extracting EDF parameters from C:\\Users\\mspla\\Documents\\repos\\py_basic_310_Au24\\seizurePy3.9\\data\\raw_data\\chb-mit-scalp-eeg-database-1.0.0\\chb04\\chb04_29.edf...\n",
      "EDF file detected\n",
      "Setting channel info structure...\n",
      "Creating raw.info structure...\n",
      "Reading 0 ... 3687167  =      0.000 ... 14402.996 secs...\n"
     ]
    },
    {
     "name": "stderr",
     "output_type": "stream",
     "text": [
      "C:\\Users\\mspla\\AppData\\Local\\Temp\\ipykernel_12772\\2212051881.py:15: RuntimeWarning: Channel names are not unique, found duplicates for: {'T8-P8'}. Applying running numbers for duplicates.\n",
      "  edf_data = mne.io.read_raw_edf(file, preload=True)\n"
     ]
    },
    {
     "name": "stdout",
     "output_type": "stream",
     "text": [
      "Extracting EDF parameters from C:\\Users\\mspla\\Documents\\repos\\py_basic_310_Au24\\seizurePy3.9\\data\\raw_data\\chb-mit-scalp-eeg-database-1.0.0\\chb04\\chb04_30.edf...\n",
      "EDF file detected\n",
      "Setting channel info structure...\n",
      "Creating raw.info structure...\n",
      "Reading 0 ... 3686399  =      0.000 ... 14399.996 secs...\n"
     ]
    },
    {
     "name": "stderr",
     "output_type": "stream",
     "text": [
      "C:\\Users\\mspla\\AppData\\Local\\Temp\\ipykernel_12772\\2212051881.py:15: RuntimeWarning: Channel names are not unique, found duplicates for: {'T8-P8'}. Applying running numbers for duplicates.\n",
      "  edf_data = mne.io.read_raw_edf(file, preload=True)\n"
     ]
    },
    {
     "name": "stdout",
     "output_type": "stream",
     "text": [
      "Extracting EDF parameters from C:\\Users\\mspla\\Documents\\repos\\py_basic_310_Au24\\seizurePy3.9\\data\\raw_data\\chb-mit-scalp-eeg-database-1.0.0\\chb04\\chb04_31.edf...\n",
      "EDF file detected\n",
      "Setting channel info structure...\n",
      "Creating raw.info structure...\n",
      "Reading 0 ... 3686399  =      0.000 ... 14399.996 secs...\n"
     ]
    },
    {
     "name": "stderr",
     "output_type": "stream",
     "text": [
      "C:\\Users\\mspla\\AppData\\Local\\Temp\\ipykernel_12772\\2212051881.py:15: RuntimeWarning: Channel names are not unique, found duplicates for: {'T8-P8'}. Applying running numbers for duplicates.\n",
      "  edf_data = mne.io.read_raw_edf(file, preload=True)\n"
     ]
    },
    {
     "name": "stdout",
     "output_type": "stream",
     "text": [
      "Extracting EDF parameters from C:\\Users\\mspla\\Documents\\repos\\py_basic_310_Au24\\seizurePy3.9\\data\\raw_data\\chb-mit-scalp-eeg-database-1.0.0\\chb04\\chb04_32.edf...\n",
      "EDF file detected\n",
      "Setting channel info structure...\n",
      "Creating raw.info structure...\n",
      "Reading 0 ... 3686399  =      0.000 ... 14399.996 secs...\n"
     ]
    },
    {
     "name": "stderr",
     "output_type": "stream",
     "text": [
      "C:\\Users\\mspla\\AppData\\Local\\Temp\\ipykernel_12772\\2212051881.py:15: RuntimeWarning: Channel names are not unique, found duplicates for: {'T8-P8'}. Applying running numbers for duplicates.\n",
      "  edf_data = mne.io.read_raw_edf(file, preload=True)\n"
     ]
    },
    {
     "name": "stdout",
     "output_type": "stream",
     "text": [
      "Extracting EDF parameters from C:\\Users\\mspla\\Documents\\repos\\py_basic_310_Au24\\seizurePy3.9\\data\\raw_data\\chb-mit-scalp-eeg-database-1.0.0\\chb04\\chb04_33.edf...\n",
      "EDF file detected\n",
      "Setting channel info structure...\n",
      "Creating raw.info structure...\n",
      "Reading 0 ... 3686399  =      0.000 ... 14399.996 secs...\n"
     ]
    },
    {
     "name": "stderr",
     "output_type": "stream",
     "text": [
      "C:\\Users\\mspla\\AppData\\Local\\Temp\\ipykernel_12772\\2212051881.py:15: RuntimeWarning: Channel names are not unique, found duplicates for: {'T8-P8'}. Applying running numbers for duplicates.\n",
      "  edf_data = mne.io.read_raw_edf(file, preload=True)\n"
     ]
    },
    {
     "name": "stdout",
     "output_type": "stream",
     "text": [
      "Extracting EDF parameters from C:\\Users\\mspla\\Documents\\repos\\py_basic_310_Au24\\seizurePy3.9\\data\\raw_data\\chb-mit-scalp-eeg-database-1.0.0\\chb04\\chb04_34.edf...\n",
      "EDF file detected\n",
      "Setting channel info structure...\n",
      "Creating raw.info structure...\n",
      "Reading 0 ... 3686399  =      0.000 ... 14399.996 secs...\n"
     ]
    },
    {
     "name": "stderr",
     "output_type": "stream",
     "text": [
      "C:\\Users\\mspla\\AppData\\Local\\Temp\\ipykernel_12772\\2212051881.py:15: RuntimeWarning: Channel names are not unique, found duplicates for: {'T8-P8'}. Applying running numbers for duplicates.\n",
      "  edf_data = mne.io.read_raw_edf(file, preload=True)\n"
     ]
    },
    {
     "name": "stdout",
     "output_type": "stream",
     "text": [
      "Extracting EDF parameters from C:\\Users\\mspla\\Documents\\repos\\py_basic_310_Au24\\seizurePy3.9\\data\\raw_data\\chb-mit-scalp-eeg-database-1.0.0\\chb04\\chb04_35.edf...\n",
      "EDF file detected\n",
      "Setting channel info structure...\n",
      "Creating raw.info structure...\n",
      "Reading 0 ... 3686399  =      0.000 ... 14399.996 secs...\n"
     ]
    },
    {
     "name": "stderr",
     "output_type": "stream",
     "text": [
      "C:\\Users\\mspla\\AppData\\Local\\Temp\\ipykernel_12772\\2212051881.py:15: RuntimeWarning: Channel names are not unique, found duplicates for: {'T8-P8'}. Applying running numbers for duplicates.\n",
      "  edf_data = mne.io.read_raw_edf(file, preload=True)\n"
     ]
    },
    {
     "name": "stdout",
     "output_type": "stream",
     "text": [
      "Extracting EDF parameters from C:\\Users\\mspla\\Documents\\repos\\py_basic_310_Au24\\seizurePy3.9\\data\\raw_data\\chb-mit-scalp-eeg-database-1.0.0\\chb04\\chb04_36.edf...\n",
      "EDF file detected\n",
      "Setting channel info structure...\n",
      "Creating raw.info structure...\n",
      "Reading 0 ... 3686399  =      0.000 ... 14399.996 secs...\n"
     ]
    },
    {
     "name": "stderr",
     "output_type": "stream",
     "text": [
      "C:\\Users\\mspla\\AppData\\Local\\Temp\\ipykernel_12772\\2212051881.py:15: RuntimeWarning: Channel names are not unique, found duplicates for: {'T8-P8'}. Applying running numbers for duplicates.\n",
      "  edf_data = mne.io.read_raw_edf(file, preload=True)\n"
     ]
    },
    {
     "name": "stdout",
     "output_type": "stream",
     "text": [
      "Extracting EDF parameters from C:\\Users\\mspla\\Documents\\repos\\py_basic_310_Au24\\seizurePy3.9\\data\\raw_data\\chb-mit-scalp-eeg-database-1.0.0\\chb04\\chb04_37.edf...\n",
      "EDF file detected\n",
      "Setting channel info structure...\n",
      "Creating raw.info structure...\n",
      "Reading 0 ... 1436927  =      0.000 ...  5612.996 secs...\n"
     ]
    },
    {
     "name": "stderr",
     "output_type": "stream",
     "text": [
      "C:\\Users\\mspla\\AppData\\Local\\Temp\\ipykernel_12772\\2212051881.py:15: RuntimeWarning: Channel names are not unique, found duplicates for: {'T8-P8'}. Applying running numbers for duplicates.\n",
      "  edf_data = mne.io.read_raw_edf(file, preload=True)\n"
     ]
    },
    {
     "name": "stdout",
     "output_type": "stream",
     "text": [
      "Extracting EDF parameters from C:\\Users\\mspla\\Documents\\repos\\py_basic_310_Au24\\seizurePy3.9\\data\\raw_data\\chb-mit-scalp-eeg-database-1.0.0\\chb04\\chb04_38.edf...\n",
      "EDF file detected\n",
      "Setting channel info structure...\n",
      "Creating raw.info structure...\n",
      "Reading 0 ... 3686399  =      0.000 ... 14399.996 secs...\n"
     ]
    },
    {
     "name": "stderr",
     "output_type": "stream",
     "text": [
      "C:\\Users\\mspla\\AppData\\Local\\Temp\\ipykernel_12772\\2212051881.py:15: RuntimeWarning: Channel names are not unique, found duplicates for: {'T8-P8'}. Applying running numbers for duplicates.\n",
      "  edf_data = mne.io.read_raw_edf(file, preload=True)\n"
     ]
    },
    {
     "name": "stdout",
     "output_type": "stream",
     "text": [
      "Extracting EDF parameters from C:\\Users\\mspla\\Documents\\repos\\py_basic_310_Au24\\seizurePy3.9\\data\\raw_data\\chb-mit-scalp-eeg-database-1.0.0\\chb04\\chb04_39.edf...\n",
      "EDF file detected\n",
      "Setting channel info structure...\n",
      "Creating raw.info structure...\n",
      "Reading 0 ... 3686399  =      0.000 ... 14399.996 secs...\n"
     ]
    },
    {
     "name": "stderr",
     "output_type": "stream",
     "text": [
      "C:\\Users\\mspla\\AppData\\Local\\Temp\\ipykernel_12772\\2212051881.py:15: RuntimeWarning: Channel names are not unique, found duplicates for: {'T8-P8'}. Applying running numbers for duplicates.\n",
      "  edf_data = mne.io.read_raw_edf(file, preload=True)\n"
     ]
    },
    {
     "name": "stdout",
     "output_type": "stream",
     "text": [
      "Extracting EDF parameters from C:\\Users\\mspla\\Documents\\repos\\py_basic_310_Au24\\seizurePy3.9\\data\\raw_data\\chb-mit-scalp-eeg-database-1.0.0\\chb04\\chb04_40.edf...\n",
      "EDF file detected\n",
      "Setting channel info structure...\n",
      "Creating raw.info structure...\n",
      "Reading 0 ... 3686399  =      0.000 ... 14399.996 secs...\n"
     ]
    },
    {
     "name": "stderr",
     "output_type": "stream",
     "text": [
      "C:\\Users\\mspla\\AppData\\Local\\Temp\\ipykernel_12772\\2212051881.py:15: RuntimeWarning: Channel names are not unique, found duplicates for: {'T8-P8'}. Applying running numbers for duplicates.\n",
      "  edf_data = mne.io.read_raw_edf(file, preload=True)\n"
     ]
    },
    {
     "name": "stdout",
     "output_type": "stream",
     "text": [
      "Extracting EDF parameters from C:\\Users\\mspla\\Documents\\repos\\py_basic_310_Au24\\seizurePy3.9\\data\\raw_data\\chb-mit-scalp-eeg-database-1.0.0\\chb04\\chb04_41.edf...\n",
      "EDF file detected\n",
      "Setting channel info structure...\n",
      "Creating raw.info structure...\n",
      "Reading 0 ... 3686399  =      0.000 ... 14399.996 secs...\n"
     ]
    },
    {
     "name": "stderr",
     "output_type": "stream",
     "text": [
      "C:\\Users\\mspla\\AppData\\Local\\Temp\\ipykernel_12772\\2212051881.py:15: RuntimeWarning: Channel names are not unique, found duplicates for: {'T8-P8'}. Applying running numbers for duplicates.\n",
      "  edf_data = mne.io.read_raw_edf(file, preload=True)\n"
     ]
    },
    {
     "name": "stdout",
     "output_type": "stream",
     "text": [
      "Extracting EDF parameters from C:\\Users\\mspla\\Documents\\repos\\py_basic_310_Au24\\seizurePy3.9\\data\\raw_data\\chb-mit-scalp-eeg-database-1.0.0\\chb04\\chb04_42.edf...\n",
      "EDF file detected\n",
      "Setting channel info structure...\n",
      "Creating raw.info structure...\n",
      "Reading 0 ... 1490687  =      0.000 ...  5822.996 secs...\n"
     ]
    },
    {
     "name": "stderr",
     "output_type": "stream",
     "text": [
      "C:\\Users\\mspla\\AppData\\Local\\Temp\\ipykernel_12772\\2212051881.py:15: RuntimeWarning: Channel names are not unique, found duplicates for: {'T8-P8'}. Applying running numbers for duplicates.\n",
      "  edf_data = mne.io.read_raw_edf(file, preload=True)\n"
     ]
    },
    {
     "name": "stdout",
     "output_type": "stream",
     "text": [
      "Extracting EDF parameters from C:\\Users\\mspla\\Documents\\repos\\py_basic_310_Au24\\seizurePy3.9\\data\\raw_data\\chb-mit-scalp-eeg-database-1.0.0\\chb04\\chb04_43.edf...\n",
      "EDF file detected\n",
      "Setting channel info structure...\n",
      "Creating raw.info structure...\n",
      "Reading 0 ... 3686399  =      0.000 ... 14399.996 secs...\n"
     ]
    },
    {
     "name": "stderr",
     "output_type": "stream",
     "text": [
      "C:\\Users\\mspla\\AppData\\Local\\Temp\\ipykernel_12772\\2212051881.py:15: RuntimeWarning: Channel names are not unique, found duplicates for: {'T8-P8'}. Applying running numbers for duplicates.\n",
      "  edf_data = mne.io.read_raw_edf(file, preload=True)\n"
     ]
    },
    {
     "name": "stdout",
     "output_type": "stream",
     "text": [
      "Extracting EDF parameters from C:\\Users\\mspla\\Documents\\repos\\py_basic_310_Au24\\seizurePy3.9\\data\\raw_data\\chb-mit-scalp-eeg-database-1.0.0\\chb07\\chb07_01.edf...\n",
      "EDF file detected\n",
      "Setting channel info structure...\n",
      "Creating raw.info structure...\n",
      "Reading 0 ... 3689215  =      0.000 ... 14410.996 secs...\n"
     ]
    },
    {
     "name": "stderr",
     "output_type": "stream",
     "text": [
      "C:\\Users\\mspla\\AppData\\Local\\Temp\\ipykernel_12772\\2212051881.py:15: RuntimeWarning: Channel names are not unique, found duplicates for: {'T8-P8'}. Applying running numbers for duplicates.\n",
      "  edf_data = mne.io.read_raw_edf(file, preload=True)\n"
     ]
    },
    {
     "name": "stdout",
     "output_type": "stream",
     "text": [
      "Extracting EDF parameters from C:\\Users\\mspla\\Documents\\repos\\py_basic_310_Au24\\seizurePy3.9\\data\\raw_data\\chb-mit-scalp-eeg-database-1.0.0\\chb07\\chb07_02.edf...\n",
      "EDF file detected\n",
      "Setting channel info structure...\n",
      "Creating raw.info structure...\n",
      "Reading 0 ... 3686399  =      0.000 ... 14399.996 secs...\n"
     ]
    },
    {
     "name": "stderr",
     "output_type": "stream",
     "text": [
      "C:\\Users\\mspla\\AppData\\Local\\Temp\\ipykernel_12772\\2212051881.py:15: RuntimeWarning: Channel names are not unique, found duplicates for: {'T8-P8'}. Applying running numbers for duplicates.\n",
      "  edf_data = mne.io.read_raw_edf(file, preload=True)\n"
     ]
    },
    {
     "name": "stdout",
     "output_type": "stream",
     "text": [
      "Extracting EDF parameters from C:\\Users\\mspla\\Documents\\repos\\py_basic_310_Au24\\seizurePy3.9\\data\\raw_data\\chb-mit-scalp-eeg-database-1.0.0\\chb07\\chb07_03.edf...\n",
      "EDF file detected\n",
      "Setting channel info structure...\n",
      "Creating raw.info structure...\n",
      "Reading 0 ... 3686399  =      0.000 ... 14399.996 secs...\n"
     ]
    },
    {
     "name": "stderr",
     "output_type": "stream",
     "text": [
      "C:\\Users\\mspla\\AppData\\Local\\Temp\\ipykernel_12772\\2212051881.py:15: RuntimeWarning: Channel names are not unique, found duplicates for: {'T8-P8'}. Applying running numbers for duplicates.\n",
      "  edf_data = mne.io.read_raw_edf(file, preload=True)\n"
     ]
    },
    {
     "name": "stdout",
     "output_type": "stream",
     "text": [
      "Extracting EDF parameters from C:\\Users\\mspla\\Documents\\repos\\py_basic_310_Au24\\seizurePy3.9\\data\\raw_data\\chb-mit-scalp-eeg-database-1.0.0\\chb07\\chb07_04.edf...\n",
      "EDF file detected\n",
      "Setting channel info structure...\n",
      "Creating raw.info structure...\n",
      "Reading 0 ... 3686399  =      0.000 ... 14399.996 secs...\n"
     ]
    },
    {
     "name": "stderr",
     "output_type": "stream",
     "text": [
      "C:\\Users\\mspla\\AppData\\Local\\Temp\\ipykernel_12772\\2212051881.py:15: RuntimeWarning: Channel names are not unique, found duplicates for: {'T8-P8'}. Applying running numbers for duplicates.\n",
      "  edf_data = mne.io.read_raw_edf(file, preload=True)\n"
     ]
    },
    {
     "name": "stdout",
     "output_type": "stream",
     "text": [
      "Extracting EDF parameters from C:\\Users\\mspla\\Documents\\repos\\py_basic_310_Au24\\seizurePy3.9\\data\\raw_data\\chb-mit-scalp-eeg-database-1.0.0\\chb07\\chb07_05.edf...\n",
      "EDF file detected\n",
      "Setting channel info structure...\n",
      "Creating raw.info structure...\n",
      "Reading 0 ... 3686399  =      0.000 ... 14399.996 secs...\n"
     ]
    },
    {
     "name": "stderr",
     "output_type": "stream",
     "text": [
      "C:\\Users\\mspla\\AppData\\Local\\Temp\\ipykernel_12772\\2212051881.py:15: RuntimeWarning: Channel names are not unique, found duplicates for: {'T8-P8'}. Applying running numbers for duplicates.\n",
      "  edf_data = mne.io.read_raw_edf(file, preload=True)\n"
     ]
    },
    {
     "name": "stdout",
     "output_type": "stream",
     "text": [
      "Extracting EDF parameters from C:\\Users\\mspla\\Documents\\repos\\py_basic_310_Au24\\seizurePy3.9\\data\\raw_data\\chb-mit-scalp-eeg-database-1.0.0\\chb07\\chb07_06.edf...\n",
      "EDF file detected\n",
      "Setting channel info structure...\n",
      "Creating raw.info structure...\n",
      "Reading 0 ... 1259519  =      0.000 ...  4919.996 secs...\n"
     ]
    },
    {
     "name": "stderr",
     "output_type": "stream",
     "text": [
      "C:\\Users\\mspla\\AppData\\Local\\Temp\\ipykernel_12772\\2212051881.py:15: RuntimeWarning: Channel names are not unique, found duplicates for: {'T8-P8'}. Applying running numbers for duplicates.\n",
      "  edf_data = mne.io.read_raw_edf(file, preload=True)\n"
     ]
    },
    {
     "name": "stdout",
     "output_type": "stream",
     "text": [
      "Extracting EDF parameters from C:\\Users\\mspla\\Documents\\repos\\py_basic_310_Au24\\seizurePy3.9\\data\\raw_data\\chb-mit-scalp-eeg-database-1.0.0\\chb07\\chb07_07.edf...\n",
      "EDF file detected\n",
      "Setting channel info structure...\n",
      "Creating raw.info structure...\n",
      "Reading 0 ... 1192959  =      0.000 ...  4659.996 secs...\n"
     ]
    },
    {
     "name": "stderr",
     "output_type": "stream",
     "text": [
      "C:\\Users\\mspla\\AppData\\Local\\Temp\\ipykernel_12772\\2212051881.py:15: RuntimeWarning: Channel names are not unique, found duplicates for: {'T8-P8'}. Applying running numbers for duplicates.\n",
      "  edf_data = mne.io.read_raw_edf(file, preload=True)\n"
     ]
    },
    {
     "name": "stdout",
     "output_type": "stream",
     "text": [
      "Extracting EDF parameters from C:\\Users\\mspla\\Documents\\repos\\py_basic_310_Au24\\seizurePy3.9\\data\\raw_data\\chb-mit-scalp-eeg-database-1.0.0\\chb07\\chb07_08.edf...\n",
      "EDF file detected\n",
      "Setting channel info structure...\n",
      "Creating raw.info structure...\n",
      "Reading 0 ... 3686399  =      0.000 ... 14399.996 secs...\n"
     ]
    },
    {
     "name": "stderr",
     "output_type": "stream",
     "text": [
      "C:\\Users\\mspla\\AppData\\Local\\Temp\\ipykernel_12772\\2212051881.py:15: RuntimeWarning: Channel names are not unique, found duplicates for: {'T8-P8'}. Applying running numbers for duplicates.\n",
      "  edf_data = mne.io.read_raw_edf(file, preload=True)\n"
     ]
    },
    {
     "name": "stdout",
     "output_type": "stream",
     "text": [
      "Extracting EDF parameters from C:\\Users\\mspla\\Documents\\repos\\py_basic_310_Au24\\seizurePy3.9\\data\\raw_data\\chb-mit-scalp-eeg-database-1.0.0\\chb07\\chb07_09.edf...\n",
      "EDF file detected\n",
      "Setting channel info structure...\n",
      "Creating raw.info structure...\n",
      "Reading 0 ... 3686399  =      0.000 ... 14399.996 secs...\n"
     ]
    },
    {
     "name": "stderr",
     "output_type": "stream",
     "text": [
      "C:\\Users\\mspla\\AppData\\Local\\Temp\\ipykernel_12772\\2212051881.py:15: RuntimeWarning: Channel names are not unique, found duplicates for: {'T8-P8'}. Applying running numbers for duplicates.\n",
      "  edf_data = mne.io.read_raw_edf(file, preload=True)\n"
     ]
    },
    {
     "name": "stdout",
     "output_type": "stream",
     "text": [
      "Extracting EDF parameters from C:\\Users\\mspla\\Documents\\repos\\py_basic_310_Au24\\seizurePy3.9\\data\\raw_data\\chb-mit-scalp-eeg-database-1.0.0\\chb07\\chb07_10.edf...\n",
      "EDF file detected\n",
      "Setting channel info structure...\n",
      "Creating raw.info structure...\n",
      "Reading 0 ... 3686399  =      0.000 ... 14399.996 secs...\n"
     ]
    },
    {
     "name": "stderr",
     "output_type": "stream",
     "text": [
      "C:\\Users\\mspla\\AppData\\Local\\Temp\\ipykernel_12772\\2212051881.py:15: RuntimeWarning: Channel names are not unique, found duplicates for: {'T8-P8'}. Applying running numbers for duplicates.\n",
      "  edf_data = mne.io.read_raw_edf(file, preload=True)\n"
     ]
    },
    {
     "name": "stdout",
     "output_type": "stream",
     "text": [
      "Extracting EDF parameters from C:\\Users\\mspla\\Documents\\repos\\py_basic_310_Au24\\seizurePy3.9\\data\\raw_data\\chb-mit-scalp-eeg-database-1.0.0\\chb07\\chb07_11.edf...\n",
      "EDF file detected\n",
      "Setting channel info structure...\n",
      "Creating raw.info structure...\n",
      "Reading 0 ... 3686399  =      0.000 ... 14399.996 secs...\n"
     ]
    },
    {
     "name": "stderr",
     "output_type": "stream",
     "text": [
      "C:\\Users\\mspla\\AppData\\Local\\Temp\\ipykernel_12772\\2212051881.py:15: RuntimeWarning: Channel names are not unique, found duplicates for: {'T8-P8'}. Applying running numbers for duplicates.\n",
      "  edf_data = mne.io.read_raw_edf(file, preload=True)\n"
     ]
    },
    {
     "name": "stdout",
     "output_type": "stream",
     "text": [
      "Extracting EDF parameters from C:\\Users\\mspla\\Documents\\repos\\py_basic_310_Au24\\seizurePy3.9\\data\\raw_data\\chb-mit-scalp-eeg-database-1.0.0\\chb07\\chb07_12.edf...\n",
      "EDF file detected\n",
      "Setting channel info structure...\n",
      "Creating raw.info structure...\n",
      "Reading 0 ... 3686399  =      0.000 ... 14399.996 secs...\n"
     ]
    },
    {
     "name": "stderr",
     "output_type": "stream",
     "text": [
      "C:\\Users\\mspla\\AppData\\Local\\Temp\\ipykernel_12772\\2212051881.py:15: RuntimeWarning: Channel names are not unique, found duplicates for: {'T8-P8'}. Applying running numbers for duplicates.\n",
      "  edf_data = mne.io.read_raw_edf(file, preload=True)\n"
     ]
    },
    {
     "name": "stdout",
     "output_type": "stream",
     "text": [
      "Extracting EDF parameters from C:\\Users\\mspla\\Documents\\repos\\py_basic_310_Au24\\seizurePy3.9\\data\\raw_data\\chb-mit-scalp-eeg-database-1.0.0\\chb07\\chb07_13.edf...\n",
      "EDF file detected\n",
      "Setting channel info structure...\n",
      "Creating raw.info structure...\n",
      "Reading 0 ... 953855  =      0.000 ...  3725.996 secs...\n"
     ]
    },
    {
     "name": "stderr",
     "output_type": "stream",
     "text": [
      "C:\\Users\\mspla\\AppData\\Local\\Temp\\ipykernel_12772\\2212051881.py:15: RuntimeWarning: Channel names are not unique, found duplicates for: {'T8-P8'}. Applying running numbers for duplicates.\n",
      "  edf_data = mne.io.read_raw_edf(file, preload=True)\n"
     ]
    },
    {
     "name": "stdout",
     "output_type": "stream",
     "text": [
      "Extracting EDF parameters from C:\\Users\\mspla\\Documents\\repos\\py_basic_310_Au24\\seizurePy3.9\\data\\raw_data\\chb-mit-scalp-eeg-database-1.0.0\\chb07\\chb07_14.edf...\n",
      "EDF file detected\n",
      "Setting channel info structure...\n",
      "Creating raw.info structure...\n",
      "Reading 0 ... 3686399  =      0.000 ... 14399.996 secs...\n"
     ]
    },
    {
     "name": "stderr",
     "output_type": "stream",
     "text": [
      "C:\\Users\\mspla\\AppData\\Local\\Temp\\ipykernel_12772\\2212051881.py:15: RuntimeWarning: Channel names are not unique, found duplicates for: {'T8-P8'}. Applying running numbers for duplicates.\n",
      "  edf_data = mne.io.read_raw_edf(file, preload=True)\n"
     ]
    },
    {
     "name": "stdout",
     "output_type": "stream",
     "text": [
      "Extracting EDF parameters from C:\\Users\\mspla\\Documents\\repos\\py_basic_310_Au24\\seizurePy3.9\\data\\raw_data\\chb-mit-scalp-eeg-database-1.0.0\\chb07\\chb07_15.edf...\n",
      "EDF file detected\n",
      "Setting channel info structure...\n",
      "Creating raw.info structure...\n",
      "Reading 0 ... 3686399  =      0.000 ... 14399.996 secs...\n"
     ]
    },
    {
     "name": "stderr",
     "output_type": "stream",
     "text": [
      "C:\\Users\\mspla\\AppData\\Local\\Temp\\ipykernel_12772\\2212051881.py:15: RuntimeWarning: Channel names are not unique, found duplicates for: {'T8-P8'}. Applying running numbers for duplicates.\n",
      "  edf_data = mne.io.read_raw_edf(file, preload=True)\n"
     ]
    },
    {
     "name": "stdout",
     "output_type": "stream",
     "text": [
      "Extracting EDF parameters from C:\\Users\\mspla\\Documents\\repos\\py_basic_310_Au24\\seizurePy3.9\\data\\raw_data\\chb-mit-scalp-eeg-database-1.0.0\\chb07\\chb07_16.edf...\n",
      "EDF file detected\n",
      "Setting channel info structure...\n",
      "Creating raw.info structure...\n",
      "Reading 0 ... 3686399  =      0.000 ... 14399.996 secs...\n"
     ]
    },
    {
     "name": "stderr",
     "output_type": "stream",
     "text": [
      "C:\\Users\\mspla\\AppData\\Local\\Temp\\ipykernel_12772\\2212051881.py:15: RuntimeWarning: Channel names are not unique, found duplicates for: {'T8-P8'}. Applying running numbers for duplicates.\n",
      "  edf_data = mne.io.read_raw_edf(file, preload=True)\n"
     ]
    },
    {
     "name": "stdout",
     "output_type": "stream",
     "text": [
      "Extracting EDF parameters from C:\\Users\\mspla\\Documents\\repos\\py_basic_310_Au24\\seizurePy3.9\\data\\raw_data\\chb-mit-scalp-eeg-database-1.0.0\\chb07\\chb07_17.edf...\n",
      "EDF file detected\n",
      "Setting channel info structure...\n",
      "Creating raw.info structure...\n",
      "Reading 0 ... 3686399  =      0.000 ... 14399.996 secs...\n"
     ]
    },
    {
     "name": "stderr",
     "output_type": "stream",
     "text": [
      "C:\\Users\\mspla\\AppData\\Local\\Temp\\ipykernel_12772\\2212051881.py:15: RuntimeWarning: Channel names are not unique, found duplicates for: {'T8-P8'}. Applying running numbers for duplicates.\n",
      "  edf_data = mne.io.read_raw_edf(file, preload=True)\n"
     ]
    },
    {
     "name": "stdout",
     "output_type": "stream",
     "text": [
      "Extracting EDF parameters from C:\\Users\\mspla\\Documents\\repos\\py_basic_310_Au24\\seizurePy3.9\\data\\raw_data\\chb-mit-scalp-eeg-database-1.0.0\\chb07\\chb07_18.edf...\n",
      "EDF file detected\n",
      "Setting channel info structure...\n",
      "Creating raw.info structure...\n",
      "Reading 0 ... 3087359  =      0.000 ... 12059.996 secs...\n"
     ]
    },
    {
     "name": "stderr",
     "output_type": "stream",
     "text": [
      "C:\\Users\\mspla\\AppData\\Local\\Temp\\ipykernel_12772\\2212051881.py:15: RuntimeWarning: Channel names are not unique, found duplicates for: {'T8-P8'}. Applying running numbers for duplicates.\n",
      "  edf_data = mne.io.read_raw_edf(file, preload=True)\n"
     ]
    },
    {
     "name": "stdout",
     "output_type": "stream",
     "text": [
      "Extracting EDF parameters from C:\\Users\\mspla\\Documents\\repos\\py_basic_310_Au24\\seizurePy3.9\\data\\raw_data\\chb-mit-scalp-eeg-database-1.0.0\\chb07\\chb07_19.edf...\n",
      "EDF file detected\n",
      "Setting channel info structure...\n",
      "Creating raw.info structure...\n",
      "Reading 0 ... 3689215  =      0.000 ... 14410.996 secs...\n"
     ]
    },
    {
     "name": "stderr",
     "output_type": "stream",
     "text": [
      "C:\\Users\\mspla\\AppData\\Local\\Temp\\ipykernel_12772\\2212051881.py:15: RuntimeWarning: Channel names are not unique, found duplicates for: {'T8-P8'}. Applying running numbers for duplicates.\n",
      "  edf_data = mne.io.read_raw_edf(file, preload=True)\n"
     ]
    },
    {
     "name": "stdout",
     "output_type": "stream",
     "text": [
      "Extracting EDF parameters from C:\\Users\\mspla\\Documents\\repos\\py_basic_310_Au24\\seizurePy3.9\\data\\raw_data\\chb-mit-scalp-eeg-database-1.0.0\\chb08\\chb08_02.edf...\n",
      "EDF file detected\n",
      "Setting channel info structure...\n",
      "Creating raw.info structure...\n",
      "Reading 0 ... 921599  =      0.000 ...  3599.996 secs...\n"
     ]
    },
    {
     "name": "stderr",
     "output_type": "stream",
     "text": [
      "C:\\Users\\mspla\\AppData\\Local\\Temp\\ipykernel_12772\\2212051881.py:15: RuntimeWarning: Channel names are not unique, found duplicates for: {'T8-P8'}. Applying running numbers for duplicates.\n",
      "  edf_data = mne.io.read_raw_edf(file, preload=True)\n"
     ]
    },
    {
     "name": "stdout",
     "output_type": "stream",
     "text": [
      "Extracting EDF parameters from C:\\Users\\mspla\\Documents\\repos\\py_basic_310_Au24\\seizurePy3.9\\data\\raw_data\\chb-mit-scalp-eeg-database-1.0.0\\chb08\\chb08_03.edf...\n",
      "EDF file detected\n",
      "Setting channel info structure...\n",
      "Creating raw.info structure...\n",
      "Reading 0 ... 921599  =      0.000 ...  3599.996 secs...\n"
     ]
    },
    {
     "name": "stderr",
     "output_type": "stream",
     "text": [
      "C:\\Users\\mspla\\AppData\\Local\\Temp\\ipykernel_12772\\2212051881.py:15: RuntimeWarning: Channel names are not unique, found duplicates for: {'T8-P8'}. Applying running numbers for duplicates.\n",
      "  edf_data = mne.io.read_raw_edf(file, preload=True)\n"
     ]
    },
    {
     "name": "stdout",
     "output_type": "stream",
     "text": [
      "Extracting EDF parameters from C:\\Users\\mspla\\Documents\\repos\\py_basic_310_Au24\\seizurePy3.9\\data\\raw_data\\chb-mit-scalp-eeg-database-1.0.0\\chb08\\chb08_04.edf...\n",
      "EDF file detected\n",
      "Setting channel info structure...\n",
      "Creating raw.info structure...\n",
      "Reading 0 ... 921599  =      0.000 ...  3599.996 secs...\n"
     ]
    },
    {
     "name": "stderr",
     "output_type": "stream",
     "text": [
      "C:\\Users\\mspla\\AppData\\Local\\Temp\\ipykernel_12772\\2212051881.py:15: RuntimeWarning: Channel names are not unique, found duplicates for: {'T8-P8'}. Applying running numbers for duplicates.\n",
      "  edf_data = mne.io.read_raw_edf(file, preload=True)\n"
     ]
    },
    {
     "name": "stdout",
     "output_type": "stream",
     "text": [
      "Extracting EDF parameters from C:\\Users\\mspla\\Documents\\repos\\py_basic_310_Au24\\seizurePy3.9\\data\\raw_data\\chb-mit-scalp-eeg-database-1.0.0\\chb08\\chb08_05.edf...\n",
      "EDF file detected\n",
      "Setting channel info structure...\n",
      "Creating raw.info structure...\n",
      "Reading 0 ... 921599  =      0.000 ...  3599.996 secs...\n"
     ]
    },
    {
     "name": "stderr",
     "output_type": "stream",
     "text": [
      "C:\\Users\\mspla\\AppData\\Local\\Temp\\ipykernel_12772\\2212051881.py:15: RuntimeWarning: Channel names are not unique, found duplicates for: {'T8-P8'}. Applying running numbers for duplicates.\n",
      "  edf_data = mne.io.read_raw_edf(file, preload=True)\n"
     ]
    },
    {
     "name": "stdout",
     "output_type": "stream",
     "text": [
      "Extracting EDF parameters from C:\\Users\\mspla\\Documents\\repos\\py_basic_310_Au24\\seizurePy3.9\\data\\raw_data\\chb-mit-scalp-eeg-database-1.0.0\\chb08\\chb08_10.edf...\n",
      "EDF file detected\n",
      "Setting channel info structure...\n",
      "Creating raw.info structure...\n",
      "Reading 0 ... 921599  =      0.000 ...  3599.996 secs...\n"
     ]
    },
    {
     "name": "stderr",
     "output_type": "stream",
     "text": [
      "C:\\Users\\mspla\\AppData\\Local\\Temp\\ipykernel_12772\\2212051881.py:15: RuntimeWarning: Channel names are not unique, found duplicates for: {'T8-P8'}. Applying running numbers for duplicates.\n",
      "  edf_data = mne.io.read_raw_edf(file, preload=True)\n"
     ]
    },
    {
     "name": "stdout",
     "output_type": "stream",
     "text": [
      "Extracting EDF parameters from C:\\Users\\mspla\\Documents\\repos\\py_basic_310_Au24\\seizurePy3.9\\data\\raw_data\\chb-mit-scalp-eeg-database-1.0.0\\chb08\\chb08_11.edf...\n",
      "EDF file detected\n",
      "Setting channel info structure...\n",
      "Creating raw.info structure...\n",
      "Reading 0 ... 921599  =      0.000 ...  3599.996 secs...\n"
     ]
    },
    {
     "name": "stderr",
     "output_type": "stream",
     "text": [
      "C:\\Users\\mspla\\AppData\\Local\\Temp\\ipykernel_12772\\2212051881.py:15: RuntimeWarning: Channel names are not unique, found duplicates for: {'T8-P8'}. Applying running numbers for duplicates.\n",
      "  edf_data = mne.io.read_raw_edf(file, preload=True)\n"
     ]
    },
    {
     "name": "stdout",
     "output_type": "stream",
     "text": [
      "Extracting EDF parameters from C:\\Users\\mspla\\Documents\\repos\\py_basic_310_Au24\\seizurePy3.9\\data\\raw_data\\chb-mit-scalp-eeg-database-1.0.0\\chb08\\chb08_12.edf...\n",
      "EDF file detected\n",
      "Setting channel info structure...\n",
      "Creating raw.info structure...\n",
      "Reading 0 ... 921599  =      0.000 ...  3599.996 secs...\n"
     ]
    },
    {
     "name": "stderr",
     "output_type": "stream",
     "text": [
      "C:\\Users\\mspla\\AppData\\Local\\Temp\\ipykernel_12772\\2212051881.py:15: RuntimeWarning: Channel names are not unique, found duplicates for: {'T8-P8'}. Applying running numbers for duplicates.\n",
      "  edf_data = mne.io.read_raw_edf(file, preload=True)\n"
     ]
    },
    {
     "name": "stdout",
     "output_type": "stream",
     "text": [
      "Extracting EDF parameters from C:\\Users\\mspla\\Documents\\repos\\py_basic_310_Au24\\seizurePy3.9\\data\\raw_data\\chb-mit-scalp-eeg-database-1.0.0\\chb08\\chb08_13.edf...\n",
      "EDF file detected\n",
      "Setting channel info structure...\n",
      "Creating raw.info structure...\n",
      "Reading 0 ... 921599  =      0.000 ...  3599.996 secs...\n"
     ]
    },
    {
     "name": "stderr",
     "output_type": "stream",
     "text": [
      "C:\\Users\\mspla\\AppData\\Local\\Temp\\ipykernel_12772\\2212051881.py:15: RuntimeWarning: Channel names are not unique, found duplicates for: {'T8-P8'}. Applying running numbers for duplicates.\n",
      "  edf_data = mne.io.read_raw_edf(file, preload=True)\n"
     ]
    },
    {
     "name": "stdout",
     "output_type": "stream",
     "text": [
      "Extracting EDF parameters from C:\\Users\\mspla\\Documents\\repos\\py_basic_310_Au24\\seizurePy3.9\\data\\raw_data\\chb-mit-scalp-eeg-database-1.0.0\\chb08\\chb08_14.edf...\n",
      "EDF file detected\n",
      "Setting channel info structure...\n",
      "Creating raw.info structure...\n",
      "Reading 0 ... 921599  =      0.000 ...  3599.996 secs...\n"
     ]
    },
    {
     "name": "stderr",
     "output_type": "stream",
     "text": [
      "C:\\Users\\mspla\\AppData\\Local\\Temp\\ipykernel_12772\\2212051881.py:15: RuntimeWarning: Channel names are not unique, found duplicates for: {'T8-P8'}. Applying running numbers for duplicates.\n",
      "  edf_data = mne.io.read_raw_edf(file, preload=True)\n"
     ]
    },
    {
     "name": "stdout",
     "output_type": "stream",
     "text": [
      "Extracting EDF parameters from C:\\Users\\mspla\\Documents\\repos\\py_basic_310_Au24\\seizurePy3.9\\data\\raw_data\\chb-mit-scalp-eeg-database-1.0.0\\chb08\\chb08_15.edf...\n",
      "EDF file detected\n",
      "Setting channel info structure...\n",
      "Creating raw.info structure...\n",
      "Reading 0 ... 921599  =      0.000 ...  3599.996 secs...\n"
     ]
    },
    {
     "name": "stderr",
     "output_type": "stream",
     "text": [
      "C:\\Users\\mspla\\AppData\\Local\\Temp\\ipykernel_12772\\2212051881.py:15: RuntimeWarning: Channel names are not unique, found duplicates for: {'T8-P8'}. Applying running numbers for duplicates.\n",
      "  edf_data = mne.io.read_raw_edf(file, preload=True)\n"
     ]
    },
    {
     "name": "stdout",
     "output_type": "stream",
     "text": [
      "Extracting EDF parameters from C:\\Users\\mspla\\Documents\\repos\\py_basic_310_Au24\\seizurePy3.9\\data\\raw_data\\chb-mit-scalp-eeg-database-1.0.0\\chb08\\chb08_16.edf...\n",
      "EDF file detected\n",
      "Setting channel info structure...\n",
      "Creating raw.info structure...\n",
      "Reading 0 ... 921599  =      0.000 ...  3599.996 secs...\n"
     ]
    },
    {
     "name": "stderr",
     "output_type": "stream",
     "text": [
      "C:\\Users\\mspla\\AppData\\Local\\Temp\\ipykernel_12772\\2212051881.py:15: RuntimeWarning: Channel names are not unique, found duplicates for: {'T8-P8'}. Applying running numbers for duplicates.\n",
      "  edf_data = mne.io.read_raw_edf(file, preload=True)\n"
     ]
    },
    {
     "name": "stdout",
     "output_type": "stream",
     "text": [
      "Extracting EDF parameters from C:\\Users\\mspla\\Documents\\repos\\py_basic_310_Au24\\seizurePy3.9\\data\\raw_data\\chb-mit-scalp-eeg-database-1.0.0\\chb08\\chb08_17.edf...\n",
      "EDF file detected\n",
      "Setting channel info structure...\n",
      "Creating raw.info structure...\n",
      "Reading 0 ... 921599  =      0.000 ...  3599.996 secs...\n"
     ]
    },
    {
     "name": "stderr",
     "output_type": "stream",
     "text": [
      "C:\\Users\\mspla\\AppData\\Local\\Temp\\ipykernel_12772\\2212051881.py:15: RuntimeWarning: Channel names are not unique, found duplicates for: {'T8-P8'}. Applying running numbers for duplicates.\n",
      "  edf_data = mne.io.read_raw_edf(file, preload=True)\n"
     ]
    },
    {
     "name": "stdout",
     "output_type": "stream",
     "text": [
      "Extracting EDF parameters from C:\\Users\\mspla\\Documents\\repos\\py_basic_310_Au24\\seizurePy3.9\\data\\raw_data\\chb-mit-scalp-eeg-database-1.0.0\\chb08\\chb08_18.edf...\n",
      "EDF file detected\n",
      "Setting channel info structure...\n",
      "Creating raw.info structure...\n",
      "Reading 0 ... 921599  =      0.000 ...  3599.996 secs...\n"
     ]
    },
    {
     "name": "stderr",
     "output_type": "stream",
     "text": [
      "C:\\Users\\mspla\\AppData\\Local\\Temp\\ipykernel_12772\\2212051881.py:15: RuntimeWarning: Channel names are not unique, found duplicates for: {'T8-P8'}. Applying running numbers for duplicates.\n",
      "  edf_data = mne.io.read_raw_edf(file, preload=True)\n"
     ]
    },
    {
     "name": "stdout",
     "output_type": "stream",
     "text": [
      "Extracting EDF parameters from C:\\Users\\mspla\\Documents\\repos\\py_basic_310_Au24\\seizurePy3.9\\data\\raw_data\\chb-mit-scalp-eeg-database-1.0.0\\chb08\\chb08_19.edf...\n",
      "EDF file detected\n",
      "Setting channel info structure...\n",
      "Creating raw.info structure...\n",
      "Reading 0 ... 921599  =      0.000 ...  3599.996 secs...\n"
     ]
    },
    {
     "name": "stderr",
     "output_type": "stream",
     "text": [
      "C:\\Users\\mspla\\AppData\\Local\\Temp\\ipykernel_12772\\2212051881.py:15: RuntimeWarning: Channel names are not unique, found duplicates for: {'T8-P8'}. Applying running numbers for duplicates.\n",
      "  edf_data = mne.io.read_raw_edf(file, preload=True)\n"
     ]
    },
    {
     "name": "stdout",
     "output_type": "stream",
     "text": [
      "Extracting EDF parameters from C:\\Users\\mspla\\Documents\\repos\\py_basic_310_Au24\\seizurePy3.9\\data\\raw_data\\chb-mit-scalp-eeg-database-1.0.0\\chb08\\chb08_20.edf...\n",
      "EDF file detected\n",
      "Setting channel info structure...\n",
      "Creating raw.info structure...\n",
      "Reading 0 ... 921599  =      0.000 ...  3599.996 secs...\n"
     ]
    },
    {
     "name": "stderr",
     "output_type": "stream",
     "text": [
      "C:\\Users\\mspla\\AppData\\Local\\Temp\\ipykernel_12772\\2212051881.py:15: RuntimeWarning: Channel names are not unique, found duplicates for: {'T8-P8'}. Applying running numbers for duplicates.\n",
      "  edf_data = mne.io.read_raw_edf(file, preload=True)\n"
     ]
    },
    {
     "name": "stdout",
     "output_type": "stream",
     "text": [
      "Extracting EDF parameters from C:\\Users\\mspla\\Documents\\repos\\py_basic_310_Au24\\seizurePy3.9\\data\\raw_data\\chb-mit-scalp-eeg-database-1.0.0\\chb08\\chb08_21.edf...\n",
      "EDF file detected\n",
      "Setting channel info structure...\n",
      "Creating raw.info structure...\n",
      "Reading 0 ... 921599  =      0.000 ...  3599.996 secs...\n"
     ]
    },
    {
     "name": "stderr",
     "output_type": "stream",
     "text": [
      "C:\\Users\\mspla\\AppData\\Local\\Temp\\ipykernel_12772\\2212051881.py:15: RuntimeWarning: Channel names are not unique, found duplicates for: {'T8-P8'}. Applying running numbers for duplicates.\n",
      "  edf_data = mne.io.read_raw_edf(file, preload=True)\n"
     ]
    },
    {
     "name": "stdout",
     "output_type": "stream",
     "text": [
      "Extracting EDF parameters from C:\\Users\\mspla\\Documents\\repos\\py_basic_310_Au24\\seizurePy3.9\\data\\raw_data\\chb-mit-scalp-eeg-database-1.0.0\\chb08\\chb08_22.edf...\n",
      "EDF file detected\n",
      "Setting channel info structure...\n",
      "Creating raw.info structure...\n",
      "Reading 0 ... 921599  =      0.000 ...  3599.996 secs...\n"
     ]
    },
    {
     "name": "stderr",
     "output_type": "stream",
     "text": [
      "C:\\Users\\mspla\\AppData\\Local\\Temp\\ipykernel_12772\\2212051881.py:15: RuntimeWarning: Channel names are not unique, found duplicates for: {'T8-P8'}. Applying running numbers for duplicates.\n",
      "  edf_data = mne.io.read_raw_edf(file, preload=True)\n"
     ]
    },
    {
     "name": "stdout",
     "output_type": "stream",
     "text": [
      "Extracting EDF parameters from C:\\Users\\mspla\\Documents\\repos\\py_basic_310_Au24\\seizurePy3.9\\data\\raw_data\\chb-mit-scalp-eeg-database-1.0.0\\chb08\\chb08_23.edf...\n",
      "EDF file detected\n",
      "Setting channel info structure...\n",
      "Creating raw.info structure...\n",
      "Reading 0 ... 921599  =      0.000 ...  3599.996 secs...\n"
     ]
    },
    {
     "name": "stderr",
     "output_type": "stream",
     "text": [
      "C:\\Users\\mspla\\AppData\\Local\\Temp\\ipykernel_12772\\2212051881.py:15: RuntimeWarning: Channel names are not unique, found duplicates for: {'T8-P8'}. Applying running numbers for duplicates.\n",
      "  edf_data = mne.io.read_raw_edf(file, preload=True)\n"
     ]
    },
    {
     "name": "stdout",
     "output_type": "stream",
     "text": [
      "Extracting EDF parameters from C:\\Users\\mspla\\Documents\\repos\\py_basic_310_Au24\\seizurePy3.9\\data\\raw_data\\chb-mit-scalp-eeg-database-1.0.0\\chb08\\chb08_24.edf...\n",
      "EDF file detected\n",
      "Setting channel info structure...\n",
      "Creating raw.info structure...\n",
      "Reading 0 ... 921599  =      0.000 ...  3599.996 secs...\n"
     ]
    },
    {
     "name": "stderr",
     "output_type": "stream",
     "text": [
      "C:\\Users\\mspla\\AppData\\Local\\Temp\\ipykernel_12772\\2212051881.py:15: RuntimeWarning: Channel names are not unique, found duplicates for: {'T8-P8'}. Applying running numbers for duplicates.\n",
      "  edf_data = mne.io.read_raw_edf(file, preload=True)\n"
     ]
    },
    {
     "name": "stdout",
     "output_type": "stream",
     "text": [
      "Extracting EDF parameters from C:\\Users\\mspla\\Documents\\repos\\py_basic_310_Au24\\seizurePy3.9\\data\\raw_data\\chb-mit-scalp-eeg-database-1.0.0\\chb08\\chb08_29.edf...\n",
      "EDF file detected\n",
      "Setting channel info structure...\n",
      "Creating raw.info structure...\n",
      "Reading 0 ... 927487  =      0.000 ...  3622.996 secs...\n"
     ]
    },
    {
     "name": "stderr",
     "output_type": "stream",
     "text": [
      "C:\\Users\\mspla\\AppData\\Local\\Temp\\ipykernel_12772\\2212051881.py:15: RuntimeWarning: Channel names are not unique, found duplicates for: {'T8-P8'}. Applying running numbers for duplicates.\n",
      "  edf_data = mne.io.read_raw_edf(file, preload=True)\n"
     ]
    },
    {
     "name": "stdout",
     "output_type": "stream",
     "text": [
      "Extracting EDF parameters from C:\\Users\\mspla\\Documents\\repos\\py_basic_310_Au24\\seizurePy3.9\\data\\raw_data\\chb-mit-scalp-eeg-database-1.0.0\\chb09\\chb09_01.edf...\n",
      "EDF file detected\n",
      "Setting channel info structure...\n",
      "Creating raw.info structure...\n",
      "Reading 0 ... 2053887  =      0.000 ...  8022.996 secs...\n"
     ]
    },
    {
     "name": "stderr",
     "output_type": "stream",
     "text": [
      "C:\\Users\\mspla\\AppData\\Local\\Temp\\ipykernel_12772\\2212051881.py:15: RuntimeWarning: Channel names are not unique, found duplicates for: {'T8-P8'}. Applying running numbers for duplicates.\n",
      "  edf_data = mne.io.read_raw_edf(file, preload=True)\n"
     ]
    },
    {
     "name": "stdout",
     "output_type": "stream",
     "text": [
      "Extracting EDF parameters from C:\\Users\\mspla\\Documents\\repos\\py_basic_310_Au24\\seizurePy3.9\\data\\raw_data\\chb-mit-scalp-eeg-database-1.0.0\\chb09\\chb09_02.edf...\n",
      "EDF file detected\n",
      "Setting channel info structure...\n",
      "Creating raw.info structure...\n",
      "Reading 0 ... 3686143  =      0.000 ... 14398.996 secs...\n"
     ]
    },
    {
     "name": "stderr",
     "output_type": "stream",
     "text": [
      "C:\\Users\\mspla\\AppData\\Local\\Temp\\ipykernel_12772\\2212051881.py:15: RuntimeWarning: Channel names are not unique, found duplicates for: {'T8-P8'}. Applying running numbers for duplicates.\n",
      "  edf_data = mne.io.read_raw_edf(file, preload=True)\n"
     ]
    },
    {
     "name": "stdout",
     "output_type": "stream",
     "text": [
      "Extracting EDF parameters from C:\\Users\\mspla\\Documents\\repos\\py_basic_310_Au24\\seizurePy3.9\\data\\raw_data\\chb-mit-scalp-eeg-database-1.0.0\\chb09\\chb09_03.edf...\n",
      "EDF file detected\n",
      "Setting channel info structure...\n",
      "Creating raw.info structure...\n",
      "Reading 0 ... 3686399  =      0.000 ... 14399.996 secs...\n"
     ]
    },
    {
     "name": "stderr",
     "output_type": "stream",
     "text": [
      "C:\\Users\\mspla\\AppData\\Local\\Temp\\ipykernel_12772\\2212051881.py:15: RuntimeWarning: Channel names are not unique, found duplicates for: {'T8-P8'}. Applying running numbers for duplicates.\n",
      "  edf_data = mne.io.read_raw_edf(file, preload=True)\n"
     ]
    },
    {
     "name": "stdout",
     "output_type": "stream",
     "text": [
      "Extracting EDF parameters from C:\\Users\\mspla\\Documents\\repos\\py_basic_310_Au24\\seizurePy3.9\\data\\raw_data\\chb-mit-scalp-eeg-database-1.0.0\\chb09\\chb09_04.edf...\n",
      "EDF file detected\n",
      "Setting channel info structure...\n",
      "Creating raw.info structure...\n",
      "Reading 0 ... 3690239  =      0.000 ... 14414.996 secs...\n"
     ]
    },
    {
     "name": "stderr",
     "output_type": "stream",
     "text": [
      "C:\\Users\\mspla\\AppData\\Local\\Temp\\ipykernel_12772\\2212051881.py:15: RuntimeWarning: Channel names are not unique, found duplicates for: {'T8-P8'}. Applying running numbers for duplicates.\n",
      "  edf_data = mne.io.read_raw_edf(file, preload=True)\n"
     ]
    },
    {
     "name": "stdout",
     "output_type": "stream",
     "text": [
      "Extracting EDF parameters from C:\\Users\\mspla\\Documents\\repos\\py_basic_310_Au24\\seizurePy3.9\\data\\raw_data\\chb-mit-scalp-eeg-database-1.0.0\\chb09\\chb09_05.edf...\n",
      "EDF file detected\n",
      "Setting channel info structure...\n",
      "Creating raw.info structure...\n",
      "Reading 0 ... 3686399  =      0.000 ... 14399.996 secs...\n"
     ]
    },
    {
     "name": "stderr",
     "output_type": "stream",
     "text": [
      "C:\\Users\\mspla\\AppData\\Local\\Temp\\ipykernel_12772\\2212051881.py:15: RuntimeWarning: Channel names are not unique, found duplicates for: {'T8-P8'}. Applying running numbers for duplicates.\n",
      "  edf_data = mne.io.read_raw_edf(file, preload=True)\n"
     ]
    },
    {
     "name": "stdout",
     "output_type": "stream",
     "text": [
      "Extracting EDF parameters from C:\\Users\\mspla\\Documents\\repos\\py_basic_310_Au24\\seizurePy3.9\\data\\raw_data\\chb-mit-scalp-eeg-database-1.0.0\\chb09\\chb09_06.edf...\n",
      "EDF file detected\n",
      "Setting channel info structure...\n",
      "Creating raw.info structure...\n",
      "Reading 0 ... 3686143  =      0.000 ... 14398.996 secs...\n"
     ]
    },
    {
     "name": "stderr",
     "output_type": "stream",
     "text": [
      "C:\\Users\\mspla\\AppData\\Local\\Temp\\ipykernel_12772\\2212051881.py:15: RuntimeWarning: Channel names are not unique, found duplicates for: {'T8-P8'}. Applying running numbers for duplicates.\n",
      "  edf_data = mne.io.read_raw_edf(file, preload=True)\n"
     ]
    },
    {
     "name": "stdout",
     "output_type": "stream",
     "text": [
      "Extracting EDF parameters from C:\\Users\\mspla\\Documents\\repos\\py_basic_310_Au24\\seizurePy3.9\\data\\raw_data\\chb-mit-scalp-eeg-database-1.0.0\\chb09\\chb09_07.edf...\n",
      "EDF file detected\n",
      "Setting channel info structure...\n",
      "Creating raw.info structure...\n",
      "Reading 0 ... 3686399  =      0.000 ... 14399.996 secs...\n"
     ]
    },
    {
     "name": "stderr",
     "output_type": "stream",
     "text": [
      "C:\\Users\\mspla\\AppData\\Local\\Temp\\ipykernel_12772\\2212051881.py:15: RuntimeWarning: Channel names are not unique, found duplicates for: {'T8-P8'}. Applying running numbers for duplicates.\n",
      "  edf_data = mne.io.read_raw_edf(file, preload=True)\n"
     ]
    },
    {
     "name": "stdout",
     "output_type": "stream",
     "text": [
      "Extracting EDF parameters from C:\\Users\\mspla\\Documents\\repos\\py_basic_310_Au24\\seizurePy3.9\\data\\raw_data\\chb-mit-scalp-eeg-database-1.0.0\\chb09\\chb09_08.edf...\n",
      "EDF file detected\n",
      "Setting channel info structure...\n",
      "Creating raw.info structure...\n",
      "Reading 0 ... 3686399  =      0.000 ... 14399.996 secs...\n"
     ]
    },
    {
     "name": "stderr",
     "output_type": "stream",
     "text": [
      "C:\\Users\\mspla\\AppData\\Local\\Temp\\ipykernel_12772\\2212051881.py:15: RuntimeWarning: Channel names are not unique, found duplicates for: {'T8-P8'}. Applying running numbers for duplicates.\n",
      "  edf_data = mne.io.read_raw_edf(file, preload=True)\n"
     ]
    },
    {
     "name": "stdout",
     "output_type": "stream",
     "text": [
      "Extracting EDF parameters from C:\\Users\\mspla\\Documents\\repos\\py_basic_310_Au24\\seizurePy3.9\\data\\raw_data\\chb-mit-scalp-eeg-database-1.0.0\\chb09\\chb09_09.edf...\n",
      "EDF file detected\n",
      "Setting channel info structure...\n",
      "Creating raw.info structure...\n",
      "Reading 0 ... 3686399  =      0.000 ... 14399.996 secs...\n"
     ]
    },
    {
     "name": "stderr",
     "output_type": "stream",
     "text": [
      "C:\\Users\\mspla\\AppData\\Local\\Temp\\ipykernel_12772\\2212051881.py:15: RuntimeWarning: Channel names are not unique, found duplicates for: {'T8-P8'}. Applying running numbers for duplicates.\n",
      "  edf_data = mne.io.read_raw_edf(file, preload=True)\n"
     ]
    },
    {
     "name": "stdout",
     "output_type": "stream",
     "text": [
      "Extracting EDF parameters from C:\\Users\\mspla\\Documents\\repos\\py_basic_310_Au24\\seizurePy3.9\\data\\raw_data\\chb-mit-scalp-eeg-database-1.0.0\\chb09\\chb09_10.edf...\n",
      "EDF file detected\n",
      "Setting channel info structure...\n",
      "Creating raw.info structure...\n",
      "Reading 0 ... 3686399  =      0.000 ... 14399.996 secs...\n"
     ]
    },
    {
     "name": "stderr",
     "output_type": "stream",
     "text": [
      "C:\\Users\\mspla\\AppData\\Local\\Temp\\ipykernel_12772\\2212051881.py:15: RuntimeWarning: Channel names are not unique, found duplicates for: {'T8-P8'}. Applying running numbers for duplicates.\n",
      "  edf_data = mne.io.read_raw_edf(file, preload=True)\n"
     ]
    },
    {
     "name": "stdout",
     "output_type": "stream",
     "text": [
      "Extracting EDF parameters from C:\\Users\\mspla\\Documents\\repos\\py_basic_310_Au24\\seizurePy3.9\\data\\raw_data\\chb-mit-scalp-eeg-database-1.0.0\\chb09\\chb09_11.edf...\n",
      "EDF file detected\n",
      "Setting channel info structure...\n",
      "Creating raw.info structure...\n",
      "Reading 0 ... 3686399  =      0.000 ... 14399.996 secs...\n"
     ]
    },
    {
     "name": "stderr",
     "output_type": "stream",
     "text": [
      "C:\\Users\\mspla\\AppData\\Local\\Temp\\ipykernel_12772\\2212051881.py:15: RuntimeWarning: Channel names are not unique, found duplicates for: {'T8-P8'}. Applying running numbers for duplicates.\n",
      "  edf_data = mne.io.read_raw_edf(file, preload=True)\n"
     ]
    },
    {
     "name": "stdout",
     "output_type": "stream",
     "text": [
      "Extracting EDF parameters from C:\\Users\\mspla\\Documents\\repos\\py_basic_310_Au24\\seizurePy3.9\\data\\raw_data\\chb-mit-scalp-eeg-database-1.0.0\\chb09\\chb09_12.edf...\n",
      "EDF file detected\n",
      "Setting channel info structure...\n",
      "Creating raw.info structure...\n",
      "Reading 0 ... 3686399  =      0.000 ... 14399.996 secs...\n"
     ]
    },
    {
     "name": "stderr",
     "output_type": "stream",
     "text": [
      "C:\\Users\\mspla\\AppData\\Local\\Temp\\ipykernel_12772\\2212051881.py:15: RuntimeWarning: Channel names are not unique, found duplicates for: {'T8-P8'}. Applying running numbers for duplicates.\n",
      "  edf_data = mne.io.read_raw_edf(file, preload=True)\n"
     ]
    },
    {
     "name": "stdout",
     "output_type": "stream",
     "text": [
      "Extracting EDF parameters from C:\\Users\\mspla\\Documents\\repos\\py_basic_310_Au24\\seizurePy3.9\\data\\raw_data\\chb-mit-scalp-eeg-database-1.0.0\\chb09\\chb09_13.edf...\n",
      "EDF file detected\n",
      "Setting channel info structure...\n",
      "Creating raw.info structure...\n",
      "Reading 0 ... 3687679  =      0.000 ... 14404.996 secs...\n"
     ]
    },
    {
     "name": "stderr",
     "output_type": "stream",
     "text": [
      "C:\\Users\\mspla\\AppData\\Local\\Temp\\ipykernel_12772\\2212051881.py:15: RuntimeWarning: Channel names are not unique, found duplicates for: {'T8-P8'}. Applying running numbers for duplicates.\n",
      "  edf_data = mne.io.read_raw_edf(file, preload=True)\n"
     ]
    },
    {
     "name": "stdout",
     "output_type": "stream",
     "text": [
      "Extracting EDF parameters from C:\\Users\\mspla\\Documents\\repos\\py_basic_310_Au24\\seizurePy3.9\\data\\raw_data\\chb-mit-scalp-eeg-database-1.0.0\\chb09\\chb09_14.edf...\n",
      "EDF file detected\n",
      "Setting channel info structure...\n",
      "Creating raw.info structure...\n",
      "Reading 0 ... 3689215  =      0.000 ... 14410.996 secs...\n"
     ]
    },
    {
     "name": "stderr",
     "output_type": "stream",
     "text": [
      "C:\\Users\\mspla\\AppData\\Local\\Temp\\ipykernel_12772\\2212051881.py:15: RuntimeWarning: Channel names are not unique, found duplicates for: {'T8-P8'}. Applying running numbers for duplicates.\n",
      "  edf_data = mne.io.read_raw_edf(file, preload=True)\n"
     ]
    },
    {
     "name": "stdout",
     "output_type": "stream",
     "text": [
      "Extracting EDF parameters from C:\\Users\\mspla\\Documents\\repos\\py_basic_310_Au24\\seizurePy3.9\\data\\raw_data\\chb-mit-scalp-eeg-database-1.0.0\\chb09\\chb09_15.edf...\n",
      "EDF file detected\n",
      "Setting channel info structure...\n",
      "Creating raw.info structure...\n",
      "Reading 0 ... 3691775  =      0.000 ... 14420.996 secs...\n"
     ]
    },
    {
     "name": "stderr",
     "output_type": "stream",
     "text": [
      "C:\\Users\\mspla\\AppData\\Local\\Temp\\ipykernel_12772\\2212051881.py:15: RuntimeWarning: Channel names are not unique, found duplicates for: {'T8-P8'}. Applying running numbers for duplicates.\n",
      "  edf_data = mne.io.read_raw_edf(file, preload=True)\n"
     ]
    },
    {
     "name": "stdout",
     "output_type": "stream",
     "text": [
      "Extracting EDF parameters from C:\\Users\\mspla\\Documents\\repos\\py_basic_310_Au24\\seizurePy3.9\\data\\raw_data\\chb-mit-scalp-eeg-database-1.0.0\\chb09\\chb09_16.edf...\n",
      "EDF file detected\n",
      "Setting channel info structure...\n",
      "Creating raw.info structure...\n",
      "Reading 0 ... 3479295  =      0.000 ... 13590.996 secs...\n"
     ]
    },
    {
     "name": "stderr",
     "output_type": "stream",
     "text": [
      "C:\\Users\\mspla\\AppData\\Local\\Temp\\ipykernel_12772\\2212051881.py:15: RuntimeWarning: Channel names are not unique, found duplicates for: {'T8-P8'}. Applying running numbers for duplicates.\n",
      "  edf_data = mne.io.read_raw_edf(file, preload=True)\n"
     ]
    },
    {
     "name": "stdout",
     "output_type": "stream",
     "text": [
      "Extracting EDF parameters from C:\\Users\\mspla\\Documents\\repos\\py_basic_310_Au24\\seizurePy3.9\\data\\raw_data\\chb-mit-scalp-eeg-database-1.0.0\\chb09\\chb09_17.edf...\n",
      "EDF file detected\n",
      "Setting channel info structure...\n",
      "Creating raw.info structure...\n",
      "Reading 0 ... 249343  =      0.000 ...   973.996 secs...\n",
      "Extracting EDF parameters from C:\\Users\\mspla\\Documents\\repos\\py_basic_310_Au24\\seizurePy3.9\\data\\raw_data\\chb-mit-scalp-eeg-database-1.0.0\\chb09\\chb09_18.edf...\n",
      "EDF file detected\n",
      "Setting channel info structure...\n"
     ]
    },
    {
     "name": "stderr",
     "output_type": "stream",
     "text": [
      "C:\\Users\\mspla\\AppData\\Local\\Temp\\ipykernel_12772\\2212051881.py:15: RuntimeWarning: Channel names are not unique, found duplicates for: {'T8-P8'}. Applying running numbers for duplicates.\n",
      "  edf_data = mne.io.read_raw_edf(file, preload=True)\n",
      "C:\\Users\\mspla\\AppData\\Local\\Temp\\ipykernel_12772\\2212051881.py:15: RuntimeWarning: Channel names are not unique, found duplicates for: {'T8-P8'}. Applying running numbers for duplicates.\n",
      "  edf_data = mne.io.read_raw_edf(file, preload=True)\n"
     ]
    },
    {
     "name": "stdout",
     "output_type": "stream",
     "text": [
      "Creating raw.info structure...\n",
      "Reading 0 ... 3686399  =      0.000 ... 14399.996 secs...\n",
      "Extracting EDF parameters from C:\\Users\\mspla\\Documents\\repos\\py_basic_310_Au24\\seizurePy3.9\\data\\raw_data\\chb-mit-scalp-eeg-database-1.0.0\\chb09\\chb09_19.edf...\n",
      "EDF file detected\n",
      "Setting channel info structure...\n",
      "Creating raw.info structure...\n",
      "Reading 0 ... 1459199  =      0.000 ...  5699.996 secs...\n"
     ]
    },
    {
     "name": "stderr",
     "output_type": "stream",
     "text": [
      "C:\\Users\\mspla\\AppData\\Local\\Temp\\ipykernel_12772\\2212051881.py:15: RuntimeWarning: Channel names are not unique, found duplicates for: {'T8-P8'}. Applying running numbers for duplicates.\n",
      "  edf_data = mne.io.read_raw_edf(file, preload=True)\n"
     ]
    },
    {
     "name": "stdout",
     "output_type": "stream",
     "text": [
      "Extracting EDF parameters from C:\\Users\\mspla\\Documents\\repos\\py_basic_310_Au24\\seizurePy3.9\\data\\raw_data\\chb-mit-scalp-eeg-database-1.0.0\\chb10\\chb10_01.edf...\n",
      "EDF file detected\n",
      "Setting channel info structure...\n",
      "Creating raw.info structure...\n",
      "Reading 0 ... 1848319  =      0.000 ...  7219.996 secs...\n"
     ]
    },
    {
     "name": "stderr",
     "output_type": "stream",
     "text": [
      "C:\\Users\\mspla\\AppData\\Local\\Temp\\ipykernel_12772\\2212051881.py:15: RuntimeWarning: Channel names are not unique, found duplicates for: {'T8-P8'}. Applying running numbers for duplicates.\n",
      "  edf_data = mne.io.read_raw_edf(file, preload=True)\n"
     ]
    },
    {
     "name": "stdout",
     "output_type": "stream",
     "text": [
      "Extracting EDF parameters from C:\\Users\\mspla\\Documents\\repos\\py_basic_310_Au24\\seizurePy3.9\\data\\raw_data\\chb-mit-scalp-eeg-database-1.0.0\\chb10\\chb10_02.edf...\n",
      "EDF file detected\n",
      "Setting channel info structure...\n",
      "Creating raw.info structure...\n",
      "Reading 0 ... 1843199  =      0.000 ...  7199.996 secs...\n"
     ]
    },
    {
     "name": "stderr",
     "output_type": "stream",
     "text": [
      "C:\\Users\\mspla\\AppData\\Local\\Temp\\ipykernel_12772\\2212051881.py:15: RuntimeWarning: Channel names are not unique, found duplicates for: {'T8-P8'}. Applying running numbers for duplicates.\n",
      "  edf_data = mne.io.read_raw_edf(file, preload=True)\n"
     ]
    },
    {
     "name": "stdout",
     "output_type": "stream",
     "text": [
      "Extracting EDF parameters from C:\\Users\\mspla\\Documents\\repos\\py_basic_310_Au24\\seizurePy3.9\\data\\raw_data\\chb-mit-scalp-eeg-database-1.0.0\\chb10\\chb10_03.edf...\n",
      "EDF file detected\n",
      "Setting channel info structure...\n",
      "Creating raw.info structure...\n",
      "Reading 0 ... 1843199  =      0.000 ...  7199.996 secs...\n"
     ]
    },
    {
     "name": "stderr",
     "output_type": "stream",
     "text": [
      "C:\\Users\\mspla\\AppData\\Local\\Temp\\ipykernel_12772\\2212051881.py:15: RuntimeWarning: Channel names are not unique, found duplicates for: {'T8-P8'}. Applying running numbers for duplicates.\n",
      "  edf_data = mne.io.read_raw_edf(file, preload=True)\n"
     ]
    },
    {
     "name": "stdout",
     "output_type": "stream",
     "text": [
      "Extracting EDF parameters from C:\\Users\\mspla\\Documents\\repos\\py_basic_310_Au24\\seizurePy3.9\\data\\raw_data\\chb-mit-scalp-eeg-database-1.0.0\\chb10\\chb10_04.edf...\n",
      "EDF file detected\n",
      "Setting channel info structure...\n",
      "Creating raw.info structure...\n",
      "Reading 0 ... 1843199  =      0.000 ...  7199.996 secs...\n"
     ]
    },
    {
     "name": "stderr",
     "output_type": "stream",
     "text": [
      "C:\\Users\\mspla\\AppData\\Local\\Temp\\ipykernel_12772\\2212051881.py:15: RuntimeWarning: Channel names are not unique, found duplicates for: {'T8-P8'}. Applying running numbers for duplicates.\n",
      "  edf_data = mne.io.read_raw_edf(file, preload=True)\n"
     ]
    },
    {
     "name": "stdout",
     "output_type": "stream",
     "text": [
      "Extracting EDF parameters from C:\\Users\\mspla\\Documents\\repos\\py_basic_310_Au24\\seizurePy3.9\\data\\raw_data\\chb-mit-scalp-eeg-database-1.0.0\\chb10\\chb10_05.edf...\n",
      "EDF file detected\n",
      "Setting channel info structure...\n",
      "Creating raw.info structure...\n",
      "Reading 0 ... 1843199  =      0.000 ...  7199.996 secs...\n"
     ]
    },
    {
     "name": "stderr",
     "output_type": "stream",
     "text": [
      "C:\\Users\\mspla\\AppData\\Local\\Temp\\ipykernel_12772\\2212051881.py:15: RuntimeWarning: Channel names are not unique, found duplicates for: {'T8-P8'}. Applying running numbers for duplicates.\n",
      "  edf_data = mne.io.read_raw_edf(file, preload=True)\n"
     ]
    },
    {
     "name": "stdout",
     "output_type": "stream",
     "text": [
      "Extracting EDF parameters from C:\\Users\\mspla\\Documents\\repos\\py_basic_310_Au24\\seizurePy3.9\\data\\raw_data\\chb-mit-scalp-eeg-database-1.0.0\\chb10\\chb10_06.edf...\n",
      "EDF file detected\n",
      "Setting channel info structure...\n",
      "Creating raw.info structure...\n",
      "Reading 0 ... 1843199  =      0.000 ...  7199.996 secs...\n"
     ]
    },
    {
     "name": "stderr",
     "output_type": "stream",
     "text": [
      "C:\\Users\\mspla\\AppData\\Local\\Temp\\ipykernel_12772\\2212051881.py:15: RuntimeWarning: Channel names are not unique, found duplicates for: {'T8-P8'}. Applying running numbers for duplicates.\n",
      "  edf_data = mne.io.read_raw_edf(file, preload=True)\n"
     ]
    },
    {
     "name": "stdout",
     "output_type": "stream",
     "text": [
      "Extracting EDF parameters from C:\\Users\\mspla\\Documents\\repos\\py_basic_310_Au24\\seizurePy3.9\\data\\raw_data\\chb-mit-scalp-eeg-database-1.0.0\\chb10\\chb10_07.edf...\n",
      "EDF file detected\n",
      "Setting channel info structure...\n",
      "Creating raw.info structure...\n",
      "Reading 0 ... 1843199  =      0.000 ...  7199.996 secs...\n"
     ]
    },
    {
     "name": "stderr",
     "output_type": "stream",
     "text": [
      "C:\\Users\\mspla\\AppData\\Local\\Temp\\ipykernel_12772\\2212051881.py:15: RuntimeWarning: Channel names are not unique, found duplicates for: {'T8-P8'}. Applying running numbers for duplicates.\n",
      "  edf_data = mne.io.read_raw_edf(file, preload=True)\n"
     ]
    },
    {
     "name": "stdout",
     "output_type": "stream",
     "text": [
      "Extracting EDF parameters from C:\\Users\\mspla\\Documents\\repos\\py_basic_310_Au24\\seizurePy3.9\\data\\raw_data\\chb-mit-scalp-eeg-database-1.0.0\\chb10\\chb10_08.edf...\n",
      "EDF file detected\n",
      "Setting channel info structure...\n",
      "Creating raw.info structure...\n",
      "Reading 0 ... 1843199  =      0.000 ...  7199.996 secs...\n"
     ]
    },
    {
     "name": "stderr",
     "output_type": "stream",
     "text": [
      "C:\\Users\\mspla\\AppData\\Local\\Temp\\ipykernel_12772\\2212051881.py:15: RuntimeWarning: Channel names are not unique, found duplicates for: {'T8-P8'}. Applying running numbers for duplicates.\n",
      "  edf_data = mne.io.read_raw_edf(file, preload=True)\n"
     ]
    },
    {
     "name": "stdout",
     "output_type": "stream",
     "text": [
      "Extracting EDF parameters from C:\\Users\\mspla\\Documents\\repos\\py_basic_310_Au24\\seizurePy3.9\\data\\raw_data\\chb-mit-scalp-eeg-database-1.0.0\\chb10\\chb10_12.edf...\n",
      "EDF file detected\n",
      "Setting channel info structure...\n",
      "Creating raw.info structure...\n",
      "Reading 0 ... 1843199  =      0.000 ...  7199.996 secs...\n"
     ]
    },
    {
     "name": "stderr",
     "output_type": "stream",
     "text": [
      "C:\\Users\\mspla\\AppData\\Local\\Temp\\ipykernel_12772\\2212051881.py:15: RuntimeWarning: Channel names are not unique, found duplicates for: {'T8-P8'}. Applying running numbers for duplicates.\n",
      "  edf_data = mne.io.read_raw_edf(file, preload=True)\n"
     ]
    },
    {
     "name": "stdout",
     "output_type": "stream",
     "text": [
      "Extracting EDF parameters from C:\\Users\\mspla\\Documents\\repos\\py_basic_310_Au24\\seizurePy3.9\\data\\raw_data\\chb-mit-scalp-eeg-database-1.0.0\\chb10\\chb10_13.edf...\n",
      "EDF file detected\n",
      "Setting channel info structure...\n",
      "Creating raw.info structure...\n",
      "Reading 0 ... 1843199  =      0.000 ...  7199.996 secs...\n"
     ]
    },
    {
     "name": "stderr",
     "output_type": "stream",
     "text": [
      "C:\\Users\\mspla\\AppData\\Local\\Temp\\ipykernel_12772\\2212051881.py:15: RuntimeWarning: Channel names are not unique, found duplicates for: {'T8-P8'}. Applying running numbers for duplicates.\n",
      "  edf_data = mne.io.read_raw_edf(file, preload=True)\n"
     ]
    },
    {
     "name": "stdout",
     "output_type": "stream",
     "text": [
      "Extracting EDF parameters from C:\\Users\\mspla\\Documents\\repos\\py_basic_310_Au24\\seizurePy3.9\\data\\raw_data\\chb-mit-scalp-eeg-database-1.0.0\\chb10\\chb10_14.edf...\n",
      "EDF file detected\n",
      "Setting channel info structure...\n",
      "Creating raw.info structure...\n",
      "Reading 0 ... 1843199  =      0.000 ...  7199.996 secs...\n"
     ]
    },
    {
     "name": "stderr",
     "output_type": "stream",
     "text": [
      "C:\\Users\\mspla\\AppData\\Local\\Temp\\ipykernel_12772\\2212051881.py:15: RuntimeWarning: Channel names are not unique, found duplicates for: {'T8-P8'}. Applying running numbers for duplicates.\n",
      "  edf_data = mne.io.read_raw_edf(file, preload=True)\n"
     ]
    },
    {
     "name": "stdout",
     "output_type": "stream",
     "text": [
      "Extracting EDF parameters from C:\\Users\\mspla\\Documents\\repos\\py_basic_310_Au24\\seizurePy3.9\\data\\raw_data\\chb-mit-scalp-eeg-database-1.0.0\\chb10\\chb10_15.edf...\n",
      "EDF file detected\n",
      "Setting channel info structure...\n",
      "Creating raw.info structure...\n",
      "Reading 0 ... 1843199  =      0.000 ...  7199.996 secs...\n"
     ]
    },
    {
     "name": "stderr",
     "output_type": "stream",
     "text": [
      "C:\\Users\\mspla\\AppData\\Local\\Temp\\ipykernel_12772\\2212051881.py:15: RuntimeWarning: Channel names are not unique, found duplicates for: {'T8-P8'}. Applying running numbers for duplicates.\n",
      "  edf_data = mne.io.read_raw_edf(file, preload=True)\n"
     ]
    },
    {
     "name": "stdout",
     "output_type": "stream",
     "text": [
      "Extracting EDF parameters from C:\\Users\\mspla\\Documents\\repos\\py_basic_310_Au24\\seizurePy3.9\\data\\raw_data\\chb-mit-scalp-eeg-database-1.0.0\\chb10\\chb10_16.edf...\n",
      "EDF file detected\n",
      "Setting channel info structure...\n",
      "Creating raw.info structure...\n",
      "Reading 0 ... 1843199  =      0.000 ...  7199.996 secs...\n"
     ]
    },
    {
     "name": "stderr",
     "output_type": "stream",
     "text": [
      "C:\\Users\\mspla\\AppData\\Local\\Temp\\ipykernel_12772\\2212051881.py:15: RuntimeWarning: Channel names are not unique, found duplicates for: {'T8-P8'}. Applying running numbers for duplicates.\n",
      "  edf_data = mne.io.read_raw_edf(file, preload=True)\n"
     ]
    },
    {
     "name": "stdout",
     "output_type": "stream",
     "text": [
      "Extracting EDF parameters from C:\\Users\\mspla\\Documents\\repos\\py_basic_310_Au24\\seizurePy3.9\\data\\raw_data\\chb-mit-scalp-eeg-database-1.0.0\\chb10\\chb10_17.edf...\n",
      "EDF file detected\n",
      "Setting channel info structure...\n",
      "Creating raw.info structure...\n",
      "Reading 0 ... 1843199  =      0.000 ...  7199.996 secs...\n"
     ]
    },
    {
     "name": "stderr",
     "output_type": "stream",
     "text": [
      "C:\\Users\\mspla\\AppData\\Local\\Temp\\ipykernel_12772\\2212051881.py:15: RuntimeWarning: Channel names are not unique, found duplicates for: {'T8-P8'}. Applying running numbers for duplicates.\n",
      "  edf_data = mne.io.read_raw_edf(file, preload=True)\n"
     ]
    },
    {
     "name": "stdout",
     "output_type": "stream",
     "text": [
      "Extracting EDF parameters from C:\\Users\\mspla\\Documents\\repos\\py_basic_310_Au24\\seizurePy3.9\\data\\raw_data\\chb-mit-scalp-eeg-database-1.0.0\\chb10\\chb10_18.edf...\n",
      "EDF file detected\n",
      "Setting channel info structure...\n",
      "Creating raw.info structure...\n",
      "Reading 0 ... 1843199  =      0.000 ...  7199.996 secs...\n"
     ]
    },
    {
     "name": "stderr",
     "output_type": "stream",
     "text": [
      "C:\\Users\\mspla\\AppData\\Local\\Temp\\ipykernel_12772\\2212051881.py:15: RuntimeWarning: Channel names are not unique, found duplicates for: {'T8-P8'}. Applying running numbers for duplicates.\n",
      "  edf_data = mne.io.read_raw_edf(file, preload=True)\n"
     ]
    },
    {
     "name": "stdout",
     "output_type": "stream",
     "text": [
      "Extracting EDF parameters from C:\\Users\\mspla\\Documents\\repos\\py_basic_310_Au24\\seizurePy3.9\\data\\raw_data\\chb-mit-scalp-eeg-database-1.0.0\\chb10\\chb10_19.edf...\n",
      "EDF file detected\n",
      "Setting channel info structure...\n",
      "Creating raw.info structure...\n",
      "Reading 0 ... 1843199  =      0.000 ...  7199.996 secs...\n"
     ]
    },
    {
     "name": "stderr",
     "output_type": "stream",
     "text": [
      "C:\\Users\\mspla\\AppData\\Local\\Temp\\ipykernel_12772\\2212051881.py:15: RuntimeWarning: Channel names are not unique, found duplicates for: {'T8-P8'}. Applying running numbers for duplicates.\n",
      "  edf_data = mne.io.read_raw_edf(file, preload=True)\n"
     ]
    },
    {
     "name": "stdout",
     "output_type": "stream",
     "text": [
      "Extracting EDF parameters from C:\\Users\\mspla\\Documents\\repos\\py_basic_310_Au24\\seizurePy3.9\\data\\raw_data\\chb-mit-scalp-eeg-database-1.0.0\\chb10\\chb10_20.edf...\n",
      "EDF file detected\n",
      "Setting channel info structure...\n",
      "Creating raw.info structure...\n",
      "Reading 0 ... 1846271  =      0.000 ...  7211.996 secs...\n"
     ]
    },
    {
     "name": "stderr",
     "output_type": "stream",
     "text": [
      "C:\\Users\\mspla\\AppData\\Local\\Temp\\ipykernel_12772\\2212051881.py:15: RuntimeWarning: Channel names are not unique, found duplicates for: {'T8-P8'}. Applying running numbers for duplicates.\n",
      "  edf_data = mne.io.read_raw_edf(file, preload=True)\n"
     ]
    },
    {
     "name": "stdout",
     "output_type": "stream",
     "text": [
      "Extracting EDF parameters from C:\\Users\\mspla\\Documents\\repos\\py_basic_310_Au24\\seizurePy3.9\\data\\raw_data\\chb-mit-scalp-eeg-database-1.0.0\\chb10\\chb10_21.edf...\n",
      "EDF file detected\n",
      "Setting channel info structure...\n",
      "Creating raw.info structure...\n",
      "Reading 0 ... 1843199  =      0.000 ...  7199.996 secs...\n"
     ]
    },
    {
     "name": "stderr",
     "output_type": "stream",
     "text": [
      "C:\\Users\\mspla\\AppData\\Local\\Temp\\ipykernel_12772\\2212051881.py:15: RuntimeWarning: Channel names are not unique, found duplicates for: {'T8-P8'}. Applying running numbers for duplicates.\n",
      "  edf_data = mne.io.read_raw_edf(file, preload=True)\n"
     ]
    },
    {
     "name": "stdout",
     "output_type": "stream",
     "text": [
      "Extracting EDF parameters from C:\\Users\\mspla\\Documents\\repos\\py_basic_310_Au24\\seizurePy3.9\\data\\raw_data\\chb-mit-scalp-eeg-database-1.0.0\\chb10\\chb10_22.edf...\n",
      "EDF file detected\n",
      "Setting channel info structure...\n",
      "Creating raw.info structure...\n",
      "Reading 0 ... 1843199  =      0.000 ...  7199.996 secs...\n"
     ]
    },
    {
     "name": "stderr",
     "output_type": "stream",
     "text": [
      "C:\\Users\\mspla\\AppData\\Local\\Temp\\ipykernel_12772\\2212051881.py:15: RuntimeWarning: Channel names are not unique, found duplicates for: {'T8-P8'}. Applying running numbers for duplicates.\n",
      "  edf_data = mne.io.read_raw_edf(file, preload=True)\n"
     ]
    },
    {
     "name": "stdout",
     "output_type": "stream",
     "text": [
      "Extracting EDF parameters from C:\\Users\\mspla\\Documents\\repos\\py_basic_310_Au24\\seizurePy3.9\\data\\raw_data\\chb-mit-scalp-eeg-database-1.0.0\\chb10\\chb10_27.edf...\n",
      "EDF file detected\n",
      "Setting channel info structure...\n",
      "Creating raw.info structure...\n",
      "Reading 0 ... 1847807  =      0.000 ...  7217.996 secs...\n"
     ]
    },
    {
     "name": "stderr",
     "output_type": "stream",
     "text": [
      "C:\\Users\\mspla\\AppData\\Local\\Temp\\ipykernel_12772\\2212051881.py:15: RuntimeWarning: Channel names are not unique, found duplicates for: {'T8-P8'}. Applying running numbers for duplicates.\n",
      "  edf_data = mne.io.read_raw_edf(file, preload=True)\n"
     ]
    },
    {
     "name": "stdout",
     "output_type": "stream",
     "text": [
      "Extracting EDF parameters from C:\\Users\\mspla\\Documents\\repos\\py_basic_310_Au24\\seizurePy3.9\\data\\raw_data\\chb-mit-scalp-eeg-database-1.0.0\\chb10\\chb10_28.edf...\n",
      "EDF file detected\n",
      "Setting channel info structure...\n",
      "Creating raw.info structure...\n",
      "Reading 0 ... 1843199  =      0.000 ...  7199.996 secs...\n"
     ]
    },
    {
     "name": "stderr",
     "output_type": "stream",
     "text": [
      "C:\\Users\\mspla\\AppData\\Local\\Temp\\ipykernel_12772\\2212051881.py:15: RuntimeWarning: Channel names are not unique, found duplicates for: {'T8-P8'}. Applying running numbers for duplicates.\n",
      "  edf_data = mne.io.read_raw_edf(file, preload=True)\n"
     ]
    },
    {
     "name": "stdout",
     "output_type": "stream",
     "text": [
      "Extracting EDF parameters from C:\\Users\\mspla\\Documents\\repos\\py_basic_310_Au24\\seizurePy3.9\\data\\raw_data\\chb-mit-scalp-eeg-database-1.0.0\\chb10\\chb10_30.edf...\n",
      "EDF file detected\n",
      "Setting channel info structure...\n",
      "Creating raw.info structure...\n",
      "Reading 0 ... 1846527  =      0.000 ...  7212.996 secs...\n"
     ]
    },
    {
     "name": "stderr",
     "output_type": "stream",
     "text": [
      "C:\\Users\\mspla\\AppData\\Local\\Temp\\ipykernel_12772\\2212051881.py:15: RuntimeWarning: Channel names are not unique, found duplicates for: {'T8-P8'}. Applying running numbers for duplicates.\n",
      "  edf_data = mne.io.read_raw_edf(file, preload=True)\n"
     ]
    },
    {
     "name": "stdout",
     "output_type": "stream",
     "text": [
      "Extracting EDF parameters from C:\\Users\\mspla\\Documents\\repos\\py_basic_310_Au24\\seizurePy3.9\\data\\raw_data\\chb-mit-scalp-eeg-database-1.0.0\\chb10\\chb10_31.edf...\n",
      "EDF file detected\n",
      "Setting channel info structure...\n",
      "Creating raw.info structure...\n",
      "Reading 0 ... 1848575  =      0.000 ...  7220.996 secs...\n"
     ]
    },
    {
     "name": "stderr",
     "output_type": "stream",
     "text": [
      "C:\\Users\\mspla\\AppData\\Local\\Temp\\ipykernel_12772\\2212051881.py:15: RuntimeWarning: Channel names are not unique, found duplicates for: {'T8-P8'}. Applying running numbers for duplicates.\n",
      "  edf_data = mne.io.read_raw_edf(file, preload=True)\n"
     ]
    },
    {
     "name": "stdout",
     "output_type": "stream",
     "text": [
      "Extracting EDF parameters from C:\\Users\\mspla\\Documents\\repos\\py_basic_310_Au24\\seizurePy3.9\\data\\raw_data\\chb-mit-scalp-eeg-database-1.0.0\\chb10\\chb10_38.edf...\n",
      "EDF file detected\n",
      "Setting channel info structure...\n",
      "Creating raw.info structure...\n",
      "Reading 0 ... 1843199  =      0.000 ...  7199.996 secs...\n"
     ]
    },
    {
     "name": "stderr",
     "output_type": "stream",
     "text": [
      "C:\\Users\\mspla\\AppData\\Local\\Temp\\ipykernel_12772\\2212051881.py:15: RuntimeWarning: Channel names are not unique, found duplicates for: {'T8-P8'}. Applying running numbers for duplicates.\n",
      "  edf_data = mne.io.read_raw_edf(file, preload=True)\n"
     ]
    },
    {
     "name": "stdout",
     "output_type": "stream",
     "text": [
      "Extracting EDF parameters from C:\\Users\\mspla\\Documents\\repos\\py_basic_310_Au24\\seizurePy3.9\\data\\raw_data\\chb-mit-scalp-eeg-database-1.0.0\\chb10\\chb10_89.edf...\n",
      "EDF file detected\n",
      "Setting channel info structure...\n",
      "Creating raw.info structure...\n",
      "Reading 0 ... 1843199  =      0.000 ...  7199.996 secs...\n"
     ]
    },
    {
     "name": "stderr",
     "output_type": "stream",
     "text": [
      "C:\\Users\\mspla\\AppData\\Local\\Temp\\ipykernel_12772\\2212051881.py:15: RuntimeWarning: Channel names are not unique, found duplicates for: {'T8-P8'}. Applying running numbers for duplicates.\n",
      "  edf_data = mne.io.read_raw_edf(file, preload=True)\n"
     ]
    },
    {
     "name": "stdout",
     "output_type": "stream",
     "text": [
      "Extracting EDF parameters from C:\\Users\\mspla\\Documents\\repos\\py_basic_310_Au24\\seizurePy3.9\\data\\raw_data\\chb-mit-scalp-eeg-database-1.0.0\\chb12\\chb12_06.edf...\n",
      "EDF file detected\n",
      "Setting channel info structure...\n",
      "Creating raw.info structure...\n",
      "Reading 0 ... 923135  =      0.000 ...  3605.996 secs...\n"
     ]
    },
    {
     "name": "stderr",
     "output_type": "stream",
     "text": [
      "C:\\Users\\mspla\\AppData\\Local\\Temp\\ipykernel_12772\\2212051881.py:15: RuntimeWarning: Channel names are not unique, found duplicates for: {'-', 'T8-P8'}. Applying running numbers for duplicates.\n",
      "  edf_data = mne.io.read_raw_edf(file, preload=True)\n",
      "C:\\Users\\mspla\\AppData\\Local\\Temp\\ipykernel_12772\\2212051881.py:15: RuntimeWarning: Scaling factor is not defined in following channels:\n",
      "--0, --1, --2, --3, --4\n",
      "  edf_data = mne.io.read_raw_edf(file, preload=True)\n"
     ]
    },
    {
     "name": "stdout",
     "output_type": "stream",
     "text": [
      "Extracting EDF parameters from C:\\Users\\mspla\\Documents\\repos\\py_basic_310_Au24\\seizurePy3.9\\data\\raw_data\\chb-mit-scalp-eeg-database-1.0.0\\chb12\\chb12_08.edf...\n",
      "EDF file detected\n",
      "Setting channel info structure...\n",
      "Creating raw.info structure...\n",
      "Reading 0 ... 921599  =      0.000 ...  3599.996 secs...\n"
     ]
    },
    {
     "name": "stderr",
     "output_type": "stream",
     "text": [
      "C:\\Users\\mspla\\AppData\\Local\\Temp\\ipykernel_12772\\2212051881.py:15: RuntimeWarning: Channel names are not unique, found duplicates for: {'-', 'T8-P8'}. Applying running numbers for duplicates.\n",
      "  edf_data = mne.io.read_raw_edf(file, preload=True)\n",
      "C:\\Users\\mspla\\AppData\\Local\\Temp\\ipykernel_12772\\2212051881.py:15: RuntimeWarning: Scaling factor is not defined in following channels:\n",
      "--0, --1, --2, --3, --4\n",
      "  edf_data = mne.io.read_raw_edf(file, preload=True)\n"
     ]
    },
    {
     "name": "stdout",
     "output_type": "stream",
     "text": [
      "Extracting EDF parameters from C:\\Users\\mspla\\Documents\\repos\\py_basic_310_Au24\\seizurePy3.9\\data\\raw_data\\chb-mit-scalp-eeg-database-1.0.0\\chb12\\chb12_09.edf...\n",
      "EDF file detected\n",
      "Setting channel info structure...\n",
      "Creating raw.info structure...\n",
      "Reading 0 ... 924671  =      0.000 ...  3611.996 secs...\n"
     ]
    },
    {
     "name": "stderr",
     "output_type": "stream",
     "text": [
      "C:\\Users\\mspla\\AppData\\Local\\Temp\\ipykernel_12772\\2212051881.py:15: RuntimeWarning: Channel names are not unique, found duplicates for: {'-', 'T8-P8'}. Applying running numbers for duplicates.\n",
      "  edf_data = mne.io.read_raw_edf(file, preload=True)\n",
      "C:\\Users\\mspla\\AppData\\Local\\Temp\\ipykernel_12772\\2212051881.py:15: RuntimeWarning: Scaling factor is not defined in following channels:\n",
      "--0, --1, --2, --3, --4\n",
      "  edf_data = mne.io.read_raw_edf(file, preload=True)\n"
     ]
    },
    {
     "name": "stdout",
     "output_type": "stream",
     "text": [
      "Extracting EDF parameters from C:\\Users\\mspla\\Documents\\repos\\py_basic_310_Au24\\seizurePy3.9\\data\\raw_data\\chb-mit-scalp-eeg-database-1.0.0\\chb12\\chb12_10.edf...\n",
      "EDF file detected\n",
      "Setting channel info structure...\n",
      "Creating raw.info structure...\n",
      "Reading 0 ... 924415  =      0.000 ...  3610.996 secs...\n"
     ]
    },
    {
     "name": "stderr",
     "output_type": "stream",
     "text": [
      "C:\\Users\\mspla\\AppData\\Local\\Temp\\ipykernel_12772\\2212051881.py:15: RuntimeWarning: Channel names are not unique, found duplicates for: {'-', 'T8-P8'}. Applying running numbers for duplicates.\n",
      "  edf_data = mne.io.read_raw_edf(file, preload=True)\n",
      "C:\\Users\\mspla\\AppData\\Local\\Temp\\ipykernel_12772\\2212051881.py:15: RuntimeWarning: Scaling factor is not defined in following channels:\n",
      "--0, --1, --2, --3, --4\n",
      "  edf_data = mne.io.read_raw_edf(file, preload=True)\n"
     ]
    },
    {
     "name": "stdout",
     "output_type": "stream",
     "text": [
      "Extracting EDF parameters from C:\\Users\\mspla\\Documents\\repos\\py_basic_310_Au24\\seizurePy3.9\\data\\raw_data\\chb-mit-scalp-eeg-database-1.0.0\\chb12\\chb12_11.edf...\n",
      "EDF file detected\n",
      "Setting channel info structure...\n",
      "Creating raw.info structure...\n",
      "Reading 0 ... 622335  =      0.000 ...  2430.996 secs...\n"
     ]
    },
    {
     "name": "stderr",
     "output_type": "stream",
     "text": [
      "C:\\Users\\mspla\\AppData\\Local\\Temp\\ipykernel_12772\\2212051881.py:15: RuntimeWarning: Channel names are not unique, found duplicates for: {'-', 'T8-P8'}. Applying running numbers for duplicates.\n",
      "  edf_data = mne.io.read_raw_edf(file, preload=True)\n",
      "C:\\Users\\mspla\\AppData\\Local\\Temp\\ipykernel_12772\\2212051881.py:15: RuntimeWarning: Scaling factor is not defined in following channels:\n",
      "--0, --1, --2, --3, --4\n",
      "  edf_data = mne.io.read_raw_edf(file, preload=True)\n"
     ]
    },
    {
     "name": "stdout",
     "output_type": "stream",
     "text": [
      "Extracting EDF parameters from C:\\Users\\mspla\\Documents\\repos\\py_basic_310_Au24\\seizurePy3.9\\data\\raw_data\\chb-mit-scalp-eeg-database-1.0.0\\chb12\\chb12_19.edf...\n",
      "EDF file detected\n",
      "Setting channel info structure...\n",
      "Creating raw.info structure...\n",
      "Reading 0 ... 921599  =      0.000 ...  3599.996 secs...\n"
     ]
    },
    {
     "name": "stderr",
     "output_type": "stream",
     "text": [
      "C:\\Users\\mspla\\AppData\\Local\\Temp\\ipykernel_12772\\2212051881.py:15: RuntimeWarning: Channel names are not unique, found duplicates for: {'-', 'T8-P8'}. Applying running numbers for duplicates.\n",
      "  edf_data = mne.io.read_raw_edf(file, preload=True)\n",
      "C:\\Users\\mspla\\AppData\\Local\\Temp\\ipykernel_12772\\2212051881.py:15: RuntimeWarning: Scaling factor is not defined in following channels:\n",
      "--0, --1, --2, --3, --4\n",
      "  edf_data = mne.io.read_raw_edf(file, preload=True)\n"
     ]
    },
    {
     "name": "stdout",
     "output_type": "stream",
     "text": [
      "Extracting EDF parameters from C:\\Users\\mspla\\Documents\\repos\\py_basic_310_Au24\\seizurePy3.9\\data\\raw_data\\chb-mit-scalp-eeg-database-1.0.0\\chb12\\chb12_20.edf...\n",
      "EDF file detected\n",
      "Setting channel info structure...\n",
      "Creating raw.info structure...\n",
      "Reading 0 ... 921599  =      0.000 ...  3599.996 secs...\n"
     ]
    },
    {
     "name": "stderr",
     "output_type": "stream",
     "text": [
      "C:\\Users\\mspla\\AppData\\Local\\Temp\\ipykernel_12772\\2212051881.py:15: RuntimeWarning: Channel names are not unique, found duplicates for: {'-', 'T8-P8'}. Applying running numbers for duplicates.\n",
      "  edf_data = mne.io.read_raw_edf(file, preload=True)\n",
      "C:\\Users\\mspla\\AppData\\Local\\Temp\\ipykernel_12772\\2212051881.py:15: RuntimeWarning: Scaling factor is not defined in following channels:\n",
      "--0, --1, --2, --3, --4\n",
      "  edf_data = mne.io.read_raw_edf(file, preload=True)\n"
     ]
    },
    {
     "name": "stdout",
     "output_type": "stream",
     "text": [
      "Extracting EDF parameters from C:\\Users\\mspla\\Documents\\repos\\py_basic_310_Au24\\seizurePy3.9\\data\\raw_data\\chb-mit-scalp-eeg-database-1.0.0\\chb12\\chb12_21.edf...\n",
      "EDF file detected\n",
      "Setting channel info structure...\n",
      "Creating raw.info structure...\n",
      "Reading 0 ... 921599  =      0.000 ...  3599.996 secs...\n"
     ]
    },
    {
     "name": "stderr",
     "output_type": "stream",
     "text": [
      "C:\\Users\\mspla\\AppData\\Local\\Temp\\ipykernel_12772\\2212051881.py:15: RuntimeWarning: Channel names are not unique, found duplicates for: {'-', 'T8-P8'}. Applying running numbers for duplicates.\n",
      "  edf_data = mne.io.read_raw_edf(file, preload=True)\n",
      "C:\\Users\\mspla\\AppData\\Local\\Temp\\ipykernel_12772\\2212051881.py:15: RuntimeWarning: Scaling factor is not defined in following channels:\n",
      "--0, --1, --2, --3, --4\n",
      "  edf_data = mne.io.read_raw_edf(file, preload=True)\n"
     ]
    },
    {
     "name": "stdout",
     "output_type": "stream",
     "text": [
      "Extracting EDF parameters from C:\\Users\\mspla\\Documents\\repos\\py_basic_310_Au24\\seizurePy3.9\\data\\raw_data\\chb-mit-scalp-eeg-database-1.0.0\\chb12\\chb12_23.edf...\n",
      "EDF file detected\n",
      "Setting channel info structure...\n",
      "Creating raw.info structure...\n",
      "Reading 0 ... 921599  =      0.000 ...  3599.996 secs...\n"
     ]
    },
    {
     "name": "stderr",
     "output_type": "stream",
     "text": [
      "C:\\Users\\mspla\\AppData\\Local\\Temp\\ipykernel_12772\\2212051881.py:15: RuntimeWarning: Channel names are not unique, found duplicates for: {'-', 'T8-P8'}. Applying running numbers for duplicates.\n",
      "  edf_data = mne.io.read_raw_edf(file, preload=True)\n",
      "C:\\Users\\mspla\\AppData\\Local\\Temp\\ipykernel_12772\\2212051881.py:15: RuntimeWarning: Scaling factor is not defined in following channels:\n",
      "--0, --1, --2, --3, --4\n",
      "  edf_data = mne.io.read_raw_edf(file, preload=True)\n"
     ]
    },
    {
     "name": "stdout",
     "output_type": "stream",
     "text": [
      "Extracting EDF parameters from C:\\Users\\mspla\\Documents\\repos\\py_basic_310_Au24\\seizurePy3.9\\data\\raw_data\\chb-mit-scalp-eeg-database-1.0.0\\chb12\\chb12_24.edf...\n",
      "EDF file detected\n",
      "Setting channel info structure...\n",
      "Creating raw.info structure...\n",
      "Reading 0 ... 921599  =      0.000 ...  3599.996 secs...\n"
     ]
    },
    {
     "name": "stderr",
     "output_type": "stream",
     "text": [
      "C:\\Users\\mspla\\AppData\\Local\\Temp\\ipykernel_12772\\2212051881.py:15: RuntimeWarning: Channel names are not unique, found duplicates for: {'-', 'T8-P8'}. Applying running numbers for duplicates.\n",
      "  edf_data = mne.io.read_raw_edf(file, preload=True)\n",
      "C:\\Users\\mspla\\AppData\\Local\\Temp\\ipykernel_12772\\2212051881.py:15: RuntimeWarning: Scaling factor is not defined in following channels:\n",
      "--0, --1, --2, --3, --4\n",
      "  edf_data = mne.io.read_raw_edf(file, preload=True)\n"
     ]
    },
    {
     "name": "stdout",
     "output_type": "stream",
     "text": [
      "Extracting EDF parameters from C:\\Users\\mspla\\Documents\\repos\\py_basic_310_Au24\\seizurePy3.9\\data\\raw_data\\chb-mit-scalp-eeg-database-1.0.0\\chb12\\chb12_27.edf...\n",
      "EDF file detected\n",
      "Setting channel info structure...\n",
      "Creating raw.info structure...\n",
      "Reading 0 ... 921599  =      0.000 ...  3599.996 secs...\n"
     ]
    },
    {
     "name": "stderr",
     "output_type": "stream",
     "text": [
      "C:\\Users\\mspla\\AppData\\Local\\Temp\\ipykernel_12772\\2212051881.py:15: RuntimeWarning: Channel names are not unique, found duplicates for: {'-'}. Applying running numbers for duplicates.\n",
      "  edf_data = mne.io.read_raw_edf(file, preload=True)\n",
      "C:\\Users\\mspla\\AppData\\Local\\Temp\\ipykernel_12772\\2212051881.py:15: RuntimeWarning: Scaling factor is not defined in following channels:\n",
      "--0, --1, --2, --3, --4\n",
      "  edf_data = mne.io.read_raw_edf(file, preload=True)\n"
     ]
    },
    {
     "name": "stdout",
     "output_type": "stream",
     "text": [
      "Extracting EDF parameters from C:\\Users\\mspla\\Documents\\repos\\py_basic_310_Au24\\seizurePy3.9\\data\\raw_data\\chb-mit-scalp-eeg-database-1.0.0\\chb12\\chb12_28.edf...\n",
      "EDF file detected\n",
      "Setting channel info structure...\n",
      "Creating raw.info structure...\n",
      "Reading 0 ... 921599  =      0.000 ...  3599.996 secs...\n"
     ]
    },
    {
     "name": "stderr",
     "output_type": "stream",
     "text": [
      "C:\\Users\\mspla\\AppData\\Local\\Temp\\ipykernel_12772\\2212051881.py:15: RuntimeWarning: Channel names are not unique, found duplicates for: {'-'}. Applying running numbers for duplicates.\n",
      "  edf_data = mne.io.read_raw_edf(file, preload=True)\n",
      "C:\\Users\\mspla\\AppData\\Local\\Temp\\ipykernel_12772\\2212051881.py:15: RuntimeWarning: Scaling factor is not defined in following channels:\n",
      "--0, --1, --2, --3\n",
      "  edf_data = mne.io.read_raw_edf(file, preload=True)\n"
     ]
    },
    {
     "name": "stdout",
     "output_type": "stream",
     "text": [
      "Extracting EDF parameters from C:\\Users\\mspla\\Documents\\repos\\py_basic_310_Au24\\seizurePy3.9\\data\\raw_data\\chb-mit-scalp-eeg-database-1.0.0\\chb12\\chb12_29.edf...\n",
      "EDF file detected\n",
      "Setting channel info structure...\n",
      "Creating raw.info structure...\n",
      "Reading 0 ... 927743  =      0.000 ...  3623.996 secs...\n"
     ]
    },
    {
     "name": "stderr",
     "output_type": "stream",
     "text": [
      "C:\\Users\\mspla\\AppData\\Local\\Temp\\ipykernel_12772\\2212051881.py:15: RuntimeWarning: Channel names are not unique, found duplicates for: {'-'}. Applying running numbers for duplicates.\n",
      "  edf_data = mne.io.read_raw_edf(file, preload=True)\n",
      "C:\\Users\\mspla\\AppData\\Local\\Temp\\ipykernel_12772\\2212051881.py:15: RuntimeWarning: Scaling factor is not defined in following channels:\n",
      "--0, --1, --2, --3\n",
      "  edf_data = mne.io.read_raw_edf(file, preload=True)\n"
     ]
    },
    {
     "name": "stdout",
     "output_type": "stream",
     "text": [
      "Extracting EDF parameters from C:\\Users\\mspla\\Documents\\repos\\py_basic_310_Au24\\seizurePy3.9\\data\\raw_data\\chb-mit-scalp-eeg-database-1.0.0\\chb12\\chb12_32.edf...\n",
      "EDF file detected\n",
      "Setting channel info structure...\n",
      "Creating raw.info structure...\n",
      "Reading 0 ... 921599  =      0.000 ...  3599.996 secs...\n"
     ]
    },
    {
     "name": "stderr",
     "output_type": "stream",
     "text": [
      "C:\\Users\\mspla\\AppData\\Local\\Temp\\ipykernel_12772\\2212051881.py:15: RuntimeWarning: Channel names are not unique, found duplicates for: {'-', 'T8-P8'}. Applying running numbers for duplicates.\n",
      "  edf_data = mne.io.read_raw_edf(file, preload=True)\n",
      "C:\\Users\\mspla\\AppData\\Local\\Temp\\ipykernel_12772\\2212051881.py:15: RuntimeWarning: Scaling factor is not defined in following channels:\n",
      "--0, --1, --2, --3, --4\n",
      "  edf_data = mne.io.read_raw_edf(file, preload=True)\n"
     ]
    },
    {
     "name": "stdout",
     "output_type": "stream",
     "text": [
      "Extracting EDF parameters from C:\\Users\\mspla\\Documents\\repos\\py_basic_310_Au24\\seizurePy3.9\\data\\raw_data\\chb-mit-scalp-eeg-database-1.0.0\\chb12\\chb12_33.edf...\n",
      "EDF file detected\n",
      "Setting channel info structure...\n",
      "Creating raw.info structure...\n",
      "Reading 0 ... 921599  =      0.000 ...  3599.996 secs...\n"
     ]
    },
    {
     "name": "stderr",
     "output_type": "stream",
     "text": [
      "C:\\Users\\mspla\\AppData\\Local\\Temp\\ipykernel_12772\\2212051881.py:15: RuntimeWarning: Channel names are not unique, found duplicates for: {'-', 'T8-P8'}. Applying running numbers for duplicates.\n",
      "  edf_data = mne.io.read_raw_edf(file, preload=True)\n",
      "C:\\Users\\mspla\\AppData\\Local\\Temp\\ipykernel_12772\\2212051881.py:15: RuntimeWarning: Scaling factor is not defined in following channels:\n",
      "--0, --1, --2, --3, --4\n",
      "  edf_data = mne.io.read_raw_edf(file, preload=True)\n"
     ]
    },
    {
     "name": "stdout",
     "output_type": "stream",
     "text": [
      "Extracting EDF parameters from C:\\Users\\mspla\\Documents\\repos\\py_basic_310_Au24\\seizurePy3.9\\data\\raw_data\\chb-mit-scalp-eeg-database-1.0.0\\chb12\\chb12_34.edf...\n",
      "EDF file detected\n",
      "Setting channel info structure...\n",
      "Creating raw.info structure...\n",
      "Reading 0 ... 921599  =      0.000 ...  3599.996 secs...\n"
     ]
    },
    {
     "name": "stderr",
     "output_type": "stream",
     "text": [
      "C:\\Users\\mspla\\AppData\\Local\\Temp\\ipykernel_12772\\2212051881.py:15: RuntimeWarning: Channel names are not unique, found duplicates for: {'-', 'T8-P8'}. Applying running numbers for duplicates.\n",
      "  edf_data = mne.io.read_raw_edf(file, preload=True)\n",
      "C:\\Users\\mspla\\AppData\\Local\\Temp\\ipykernel_12772\\2212051881.py:15: RuntimeWarning: Scaling factor is not defined in following channels:\n",
      "--0, --1, --2, --3, --4\n",
      "  edf_data = mne.io.read_raw_edf(file, preload=True)\n"
     ]
    },
    {
     "name": "stdout",
     "output_type": "stream",
     "text": [
      "Extracting EDF parameters from C:\\Users\\mspla\\Documents\\repos\\py_basic_310_Au24\\seizurePy3.9\\data\\raw_data\\chb-mit-scalp-eeg-database-1.0.0\\chb12\\chb12_35.edf...\n",
      "EDF file detected\n",
      "Setting channel info structure...\n",
      "Creating raw.info structure...\n",
      "Reading 0 ... 921599  =      0.000 ...  3599.996 secs...\n"
     ]
    },
    {
     "name": "stderr",
     "output_type": "stream",
     "text": [
      "C:\\Users\\mspla\\AppData\\Local\\Temp\\ipykernel_12772\\2212051881.py:15: RuntimeWarning: Channel names are not unique, found duplicates for: {'-', 'T8-P8'}. Applying running numbers for duplicates.\n",
      "  edf_data = mne.io.read_raw_edf(file, preload=True)\n",
      "C:\\Users\\mspla\\AppData\\Local\\Temp\\ipykernel_12772\\2212051881.py:15: RuntimeWarning: Scaling factor is not defined in following channels:\n",
      "--0, --1, --2, --3, --4\n",
      "  edf_data = mne.io.read_raw_edf(file, preload=True)\n"
     ]
    },
    {
     "name": "stdout",
     "output_type": "stream",
     "text": [
      "Extracting EDF parameters from C:\\Users\\mspla\\Documents\\repos\\py_basic_310_Au24\\seizurePy3.9\\data\\raw_data\\chb-mit-scalp-eeg-database-1.0.0\\chb12\\chb12_36.edf...\n",
      "EDF file detected\n",
      "Setting channel info structure...\n",
      "Creating raw.info structure...\n",
      "Reading 0 ... 921599  =      0.000 ...  3599.996 secs...\n"
     ]
    },
    {
     "name": "stderr",
     "output_type": "stream",
     "text": [
      "C:\\Users\\mspla\\AppData\\Local\\Temp\\ipykernel_12772\\2212051881.py:15: RuntimeWarning: Channel names are not unique, found duplicates for: {'-', 'T8-P8'}. Applying running numbers for duplicates.\n",
      "  edf_data = mne.io.read_raw_edf(file, preload=True)\n",
      "C:\\Users\\mspla\\AppData\\Local\\Temp\\ipykernel_12772\\2212051881.py:15: RuntimeWarning: Scaling factor is not defined in following channels:\n",
      "--0, --1, --2, --3, --4\n",
      "  edf_data = mne.io.read_raw_edf(file, preload=True)\n"
     ]
    },
    {
     "name": "stdout",
     "output_type": "stream",
     "text": [
      "Extracting EDF parameters from C:\\Users\\mspla\\Documents\\repos\\py_basic_310_Au24\\seizurePy3.9\\data\\raw_data\\chb-mit-scalp-eeg-database-1.0.0\\chb12\\chb12_37.edf...\n",
      "EDF file detected\n",
      "Setting channel info structure...\n",
      "Creating raw.info structure...\n",
      "Reading 0 ... 925695  =      0.000 ...  3615.996 secs...\n"
     ]
    },
    {
     "name": "stderr",
     "output_type": "stream",
     "text": [
      "C:\\Users\\mspla\\AppData\\Local\\Temp\\ipykernel_12772\\2212051881.py:15: RuntimeWarning: Channel names are not unique, found duplicates for: {'-', 'T8-P8'}. Applying running numbers for duplicates.\n",
      "  edf_data = mne.io.read_raw_edf(file, preload=True)\n",
      "C:\\Users\\mspla\\AppData\\Local\\Temp\\ipykernel_12772\\2212051881.py:15: RuntimeWarning: Scaling factor is not defined in following channels:\n",
      "--0, --1, --2, --3, --4\n",
      "  edf_data = mne.io.read_raw_edf(file, preload=True)\n"
     ]
    },
    {
     "name": "stdout",
     "output_type": "stream",
     "text": [
      "Extracting EDF parameters from C:\\Users\\mspla\\Documents\\repos\\py_basic_310_Au24\\seizurePy3.9\\data\\raw_data\\chb-mit-scalp-eeg-database-1.0.0\\chb12\\chb12_38.edf...\n",
      "EDF file detected\n",
      "Setting channel info structure...\n",
      "Creating raw.info structure...\n",
      "Reading 0 ... 921599  =      0.000 ...  3599.996 secs...\n"
     ]
    },
    {
     "name": "stderr",
     "output_type": "stream",
     "text": [
      "C:\\Users\\mspla\\AppData\\Local\\Temp\\ipykernel_12772\\2212051881.py:15: RuntimeWarning: Channel names are not unique, found duplicates for: {'-', 'T8-P8'}. Applying running numbers for duplicates.\n",
      "  edf_data = mne.io.read_raw_edf(file, preload=True)\n",
      "C:\\Users\\mspla\\AppData\\Local\\Temp\\ipykernel_12772\\2212051881.py:15: RuntimeWarning: Scaling factor is not defined in following channels:\n",
      "--0, --1, --2, --3, --4\n",
      "  edf_data = mne.io.read_raw_edf(file, preload=True)\n"
     ]
    },
    {
     "name": "stdout",
     "output_type": "stream",
     "text": [
      "Extracting EDF parameters from C:\\Users\\mspla\\Documents\\repos\\py_basic_310_Au24\\seizurePy3.9\\data\\raw_data\\chb-mit-scalp-eeg-database-1.0.0\\chb12\\chb12_39.edf...\n",
      "EDF file detected\n",
      "Setting channel info structure...\n",
      "Creating raw.info structure...\n",
      "Reading 0 ... 921599  =      0.000 ...  3599.996 secs...\n"
     ]
    },
    {
     "name": "stderr",
     "output_type": "stream",
     "text": [
      "C:\\Users\\mspla\\AppData\\Local\\Temp\\ipykernel_12772\\2212051881.py:15: RuntimeWarning: Channel names are not unique, found duplicates for: {'-', 'T8-P8'}. Applying running numbers for duplicates.\n",
      "  edf_data = mne.io.read_raw_edf(file, preload=True)\n",
      "C:\\Users\\mspla\\AppData\\Local\\Temp\\ipykernel_12772\\2212051881.py:15: RuntimeWarning: Scaling factor is not defined in following channels:\n",
      "--0, --1, --2, --3, --4\n",
      "  edf_data = mne.io.read_raw_edf(file, preload=True)\n"
     ]
    },
    {
     "name": "stdout",
     "output_type": "stream",
     "text": [
      "Extracting EDF parameters from C:\\Users\\mspla\\Documents\\repos\\py_basic_310_Au24\\seizurePy3.9\\data\\raw_data\\chb-mit-scalp-eeg-database-1.0.0\\chb12\\chb12_40.edf...\n",
      "EDF file detected\n",
      "Setting channel info structure...\n",
      "Creating raw.info structure...\n",
      "Reading 0 ... 921599  =      0.000 ...  3599.996 secs...\n"
     ]
    },
    {
     "name": "stderr",
     "output_type": "stream",
     "text": [
      "C:\\Users\\mspla\\AppData\\Local\\Temp\\ipykernel_12772\\2212051881.py:15: RuntimeWarning: Channel names are not unique, found duplicates for: {'-', 'T8-P8'}. Applying running numbers for duplicates.\n",
      "  edf_data = mne.io.read_raw_edf(file, preload=True)\n",
      "C:\\Users\\mspla\\AppData\\Local\\Temp\\ipykernel_12772\\2212051881.py:15: RuntimeWarning: Scaling factor is not defined in following channels:\n",
      "--0, --1, --2, --3, --4\n",
      "  edf_data = mne.io.read_raw_edf(file, preload=True)\n"
     ]
    },
    {
     "name": "stdout",
     "output_type": "stream",
     "text": [
      "Extracting EDF parameters from C:\\Users\\mspla\\Documents\\repos\\py_basic_310_Au24\\seizurePy3.9\\data\\raw_data\\chb-mit-scalp-eeg-database-1.0.0\\chb12\\chb12_41.edf...\n",
      "EDF file detected\n",
      "Setting channel info structure...\n",
      "Creating raw.info structure...\n",
      "Reading 0 ... 921599  =      0.000 ...  3599.996 secs...\n"
     ]
    },
    {
     "name": "stderr",
     "output_type": "stream",
     "text": [
      "C:\\Users\\mspla\\AppData\\Local\\Temp\\ipykernel_12772\\2212051881.py:15: RuntimeWarning: Channel names are not unique, found duplicates for: {'-', 'T8-P8'}. Applying running numbers for duplicates.\n",
      "  edf_data = mne.io.read_raw_edf(file, preload=True)\n",
      "C:\\Users\\mspla\\AppData\\Local\\Temp\\ipykernel_12772\\2212051881.py:15: RuntimeWarning: Scaling factor is not defined in following channels:\n",
      "--0, --1, --2, --3, --4\n",
      "  edf_data = mne.io.read_raw_edf(file, preload=True)\n"
     ]
    },
    {
     "name": "stdout",
     "output_type": "stream",
     "text": [
      "Extracting EDF parameters from C:\\Users\\mspla\\Documents\\repos\\py_basic_310_Au24\\seizurePy3.9\\data\\raw_data\\chb-mit-scalp-eeg-database-1.0.0\\chb12\\chb12_42.edf...\n",
      "EDF file detected\n",
      "Setting channel info structure...\n",
      "Creating raw.info structure...\n",
      "Reading 0 ... 921599  =      0.000 ...  3599.996 secs...\n"
     ]
    },
    {
     "name": "stderr",
     "output_type": "stream",
     "text": [
      "C:\\Users\\mspla\\AppData\\Local\\Temp\\ipykernel_12772\\2212051881.py:15: RuntimeWarning: Channel names are not unique, found duplicates for: {'-', 'T8-P8'}. Applying running numbers for duplicates.\n",
      "  edf_data = mne.io.read_raw_edf(file, preload=True)\n",
      "C:\\Users\\mspla\\AppData\\Local\\Temp\\ipykernel_12772\\2212051881.py:15: RuntimeWarning: Scaling factor is not defined in following channels:\n",
      "--0, --1, --2, --3, --4\n",
      "  edf_data = mne.io.read_raw_edf(file, preload=True)\n"
     ]
    },
    {
     "name": "stdout",
     "output_type": "stream",
     "text": [
      "Extracting EDF parameters from C:\\Users\\mspla\\Documents\\repos\\py_basic_310_Au24\\seizurePy3.9\\data\\raw_data\\chb-mit-scalp-eeg-database-1.0.0\\chb13\\chb13_02.edf...\n",
      "EDF file detected\n",
      "Setting channel info structure...\n",
      "Creating raw.info structure...\n",
      "Reading 0 ... 921599  =      0.000 ...  3599.996 secs...\n"
     ]
    },
    {
     "name": "stderr",
     "output_type": "stream",
     "text": [
      "C:\\Users\\mspla\\AppData\\Local\\Temp\\ipykernel_12772\\2212051881.py:15: RuntimeWarning: Channel names are not unique, found duplicates for: {'-', 'T8-P8'}. Applying running numbers for duplicates.\n",
      "  edf_data = mne.io.read_raw_edf(file, preload=True)\n",
      "C:\\Users\\mspla\\AppData\\Local\\Temp\\ipykernel_12772\\2212051881.py:15: RuntimeWarning: Scaling factor is not defined in following channels:\n",
      "--0, --1, --2, --3, --4\n",
      "  edf_data = mne.io.read_raw_edf(file, preload=True)\n"
     ]
    },
    {
     "name": "stdout",
     "output_type": "stream",
     "text": [
      "Extracting EDF parameters from C:\\Users\\mspla\\Documents\\repos\\py_basic_310_Au24\\seizurePy3.9\\data\\raw_data\\chb-mit-scalp-eeg-database-1.0.0\\chb13\\chb13_03.edf...\n",
      "EDF file detected\n",
      "Setting channel info structure...\n",
      "Creating raw.info structure...\n",
      "Reading 0 ... 921599  =      0.000 ...  3599.996 secs...\n"
     ]
    },
    {
     "name": "stderr",
     "output_type": "stream",
     "text": [
      "C:\\Users\\mspla\\AppData\\Local\\Temp\\ipykernel_12772\\2212051881.py:15: RuntimeWarning: Channel names are not unique, found duplicates for: {'-', 'T8-P8'}. Applying running numbers for duplicates.\n",
      "  edf_data = mne.io.read_raw_edf(file, preload=True)\n",
      "C:\\Users\\mspla\\AppData\\Local\\Temp\\ipykernel_12772\\2212051881.py:15: RuntimeWarning: Scaling factor is not defined in following channels:\n",
      "--0, --1, --2, --3, --4\n",
      "  edf_data = mne.io.read_raw_edf(file, preload=True)\n"
     ]
    },
    {
     "name": "stdout",
     "output_type": "stream",
     "text": [
      "Extracting EDF parameters from C:\\Users\\mspla\\Documents\\repos\\py_basic_310_Au24\\seizurePy3.9\\data\\raw_data\\chb-mit-scalp-eeg-database-1.0.0\\chb13\\chb13_04.edf...\n",
      "EDF file detected\n",
      "Setting channel info structure...\n",
      "Creating raw.info structure...\n",
      "Reading 0 ... 921599  =      0.000 ...  3599.996 secs...\n"
     ]
    },
    {
     "name": "stderr",
     "output_type": "stream",
     "text": [
      "C:\\Users\\mspla\\AppData\\Local\\Temp\\ipykernel_12772\\2212051881.py:15: RuntimeWarning: Channel names are not unique, found duplicates for: {'-'}. Applying running numbers for duplicates.\n",
      "  edf_data = mne.io.read_raw_edf(file, preload=True)\n",
      "C:\\Users\\mspla\\AppData\\Local\\Temp\\ipykernel_12772\\2212051881.py:15: RuntimeWarning: Scaling factor is not defined in following channels:\n",
      "--0, --1, --2, --3, --4\n",
      "  edf_data = mne.io.read_raw_edf(file, preload=True)\n"
     ]
    },
    {
     "name": "stdout",
     "output_type": "stream",
     "text": [
      "Extracting EDF parameters from C:\\Users\\mspla\\Documents\\repos\\py_basic_310_Au24\\seizurePy3.9\\data\\raw_data\\chb-mit-scalp-eeg-database-1.0.0\\chb13\\chb13_05.edf...\n",
      "EDF file detected\n",
      "Setting channel info structure...\n",
      "Creating raw.info structure...\n",
      "Reading 0 ... 921599  =      0.000 ...  3599.996 secs...\n"
     ]
    },
    {
     "name": "stderr",
     "output_type": "stream",
     "text": [
      "C:\\Users\\mspla\\AppData\\Local\\Temp\\ipykernel_12772\\2212051881.py:15: RuntimeWarning: Channel names are not unique, found duplicates for: {'-'}. Applying running numbers for duplicates.\n",
      "  edf_data = mne.io.read_raw_edf(file, preload=True)\n",
      "C:\\Users\\mspla\\AppData\\Local\\Temp\\ipykernel_12772\\2212051881.py:15: RuntimeWarning: Scaling factor is not defined in following channels:\n",
      "--0, --1, --2, --3\n",
      "  edf_data = mne.io.read_raw_edf(file, preload=True)\n"
     ]
    },
    {
     "name": "stdout",
     "output_type": "stream",
     "text": [
      "Extracting EDF parameters from C:\\Users\\mspla\\Documents\\repos\\py_basic_310_Au24\\seizurePy3.9\\data\\raw_data\\chb-mit-scalp-eeg-database-1.0.0\\chb13\\chb13_06.edf...\n",
      "EDF file detected\n",
      "Setting channel info structure...\n",
      "Creating raw.info structure...\n",
      "Reading 0 ... 921599  =      0.000 ...  3599.996 secs...\n"
     ]
    },
    {
     "name": "stderr",
     "output_type": "stream",
     "text": [
      "C:\\Users\\mspla\\AppData\\Local\\Temp\\ipykernel_12772\\2212051881.py:15: RuntimeWarning: Channel names are not unique, found duplicates for: {'-'}. Applying running numbers for duplicates.\n",
      "  edf_data = mne.io.read_raw_edf(file, preload=True)\n",
      "C:\\Users\\mspla\\AppData\\Local\\Temp\\ipykernel_12772\\2212051881.py:15: RuntimeWarning: Scaling factor is not defined in following channels:\n",
      "--0, --1, --2, --3\n",
      "  edf_data = mne.io.read_raw_edf(file, preload=True)\n"
     ]
    },
    {
     "name": "stdout",
     "output_type": "stream",
     "text": [
      "Extracting EDF parameters from C:\\Users\\mspla\\Documents\\repos\\py_basic_310_Au24\\seizurePy3.9\\data\\raw_data\\chb-mit-scalp-eeg-database-1.0.0\\chb13\\chb13_07.edf...\n",
      "EDF file detected\n",
      "Setting channel info structure...\n",
      "Creating raw.info structure...\n",
      "Reading 0 ... 921599  =      0.000 ...  3599.996 secs...\n"
     ]
    },
    {
     "name": "stderr",
     "output_type": "stream",
     "text": [
      "C:\\Users\\mspla\\AppData\\Local\\Temp\\ipykernel_12772\\2212051881.py:15: RuntimeWarning: Channel names are not unique, found duplicates for: {'-'}. Applying running numbers for duplicates.\n",
      "  edf_data = mne.io.read_raw_edf(file, preload=True)\n",
      "C:\\Users\\mspla\\AppData\\Local\\Temp\\ipykernel_12772\\2212051881.py:15: RuntimeWarning: Scaling factor is not defined in following channels:\n",
      "--0, --1, --2, --3\n",
      "  edf_data = mne.io.read_raw_edf(file, preload=True)\n"
     ]
    },
    {
     "name": "stdout",
     "output_type": "stream",
     "text": [
      "Extracting EDF parameters from C:\\Users\\mspla\\Documents\\repos\\py_basic_310_Au24\\seizurePy3.9\\data\\raw_data\\chb-mit-scalp-eeg-database-1.0.0\\chb13\\chb13_08.edf...\n",
      "EDF file detected\n",
      "Setting channel info structure...\n",
      "Creating raw.info structure...\n",
      "Reading 0 ... 921599  =      0.000 ...  3599.996 secs...\n"
     ]
    },
    {
     "name": "stderr",
     "output_type": "stream",
     "text": [
      "C:\\Users\\mspla\\AppData\\Local\\Temp\\ipykernel_12772\\2212051881.py:15: RuntimeWarning: Channel names are not unique, found duplicates for: {'-'}. Applying running numbers for duplicates.\n",
      "  edf_data = mne.io.read_raw_edf(file, preload=True)\n",
      "C:\\Users\\mspla\\AppData\\Local\\Temp\\ipykernel_12772\\2212051881.py:15: RuntimeWarning: Scaling factor is not defined in following channels:\n",
      "--0, --1, --2, --3\n",
      "  edf_data = mne.io.read_raw_edf(file, preload=True)\n"
     ]
    },
    {
     "name": "stdout",
     "output_type": "stream",
     "text": [
      "Extracting EDF parameters from C:\\Users\\mspla\\Documents\\repos\\py_basic_310_Au24\\seizurePy3.9\\data\\raw_data\\chb-mit-scalp-eeg-database-1.0.0\\chb13\\chb13_09.edf...\n",
      "EDF file detected\n",
      "Setting channel info structure...\n",
      "Creating raw.info structure...\n",
      "Reading 0 ... 921599  =      0.000 ...  3599.996 secs...\n"
     ]
    },
    {
     "name": "stderr",
     "output_type": "stream",
     "text": [
      "C:\\Users\\mspla\\AppData\\Local\\Temp\\ipykernel_12772\\2212051881.py:15: RuntimeWarning: Channel names are not unique, found duplicates for: {'-'}. Applying running numbers for duplicates.\n",
      "  edf_data = mne.io.read_raw_edf(file, preload=True)\n",
      "C:\\Users\\mspla\\AppData\\Local\\Temp\\ipykernel_12772\\2212051881.py:15: RuntimeWarning: Scaling factor is not defined in following channels:\n",
      "--0, --1, --2, --3\n",
      "  edf_data = mne.io.read_raw_edf(file, preload=True)\n"
     ]
    },
    {
     "name": "stdout",
     "output_type": "stream",
     "text": [
      "Extracting EDF parameters from C:\\Users\\mspla\\Documents\\repos\\py_basic_310_Au24\\seizurePy3.9\\data\\raw_data\\chb-mit-scalp-eeg-database-1.0.0\\chb13\\chb13_10.edf...\n",
      "EDF file detected\n",
      "Setting channel info structure...\n",
      "Creating raw.info structure...\n",
      "Reading 0 ... 921599  =      0.000 ...  3599.996 secs...\n"
     ]
    },
    {
     "name": "stderr",
     "output_type": "stream",
     "text": [
      "C:\\Users\\mspla\\AppData\\Local\\Temp\\ipykernel_12772\\2212051881.py:15: RuntimeWarning: Channel names are not unique, found duplicates for: {'-'}. Applying running numbers for duplicates.\n",
      "  edf_data = mne.io.read_raw_edf(file, preload=True)\n",
      "C:\\Users\\mspla\\AppData\\Local\\Temp\\ipykernel_12772\\2212051881.py:15: RuntimeWarning: Scaling factor is not defined in following channels:\n",
      "--0, --1, --2, --3\n",
      "  edf_data = mne.io.read_raw_edf(file, preload=True)\n"
     ]
    },
    {
     "name": "stdout",
     "output_type": "stream",
     "text": [
      "Extracting EDF parameters from C:\\Users\\mspla\\Documents\\repos\\py_basic_310_Au24\\seizurePy3.9\\data\\raw_data\\chb-mit-scalp-eeg-database-1.0.0\\chb13\\chb13_11.edf...\n",
      "EDF file detected\n",
      "Setting channel info structure...\n",
      "Creating raw.info structure...\n",
      "Reading 0 ... 921599  =      0.000 ...  3599.996 secs...\n"
     ]
    },
    {
     "name": "stderr",
     "output_type": "stream",
     "text": [
      "C:\\Users\\mspla\\AppData\\Local\\Temp\\ipykernel_12772\\2212051881.py:15: RuntimeWarning: Channel names are not unique, found duplicates for: {'-'}. Applying running numbers for duplicates.\n",
      "  edf_data = mne.io.read_raw_edf(file, preload=True)\n",
      "C:\\Users\\mspla\\AppData\\Local\\Temp\\ipykernel_12772\\2212051881.py:15: RuntimeWarning: Scaling factor is not defined in following channels:\n",
      "--0, --1, --2, --3\n",
      "  edf_data = mne.io.read_raw_edf(file, preload=True)\n"
     ]
    },
    {
     "name": "stdout",
     "output_type": "stream",
     "text": [
      "Extracting EDF parameters from C:\\Users\\mspla\\Documents\\repos\\py_basic_310_Au24\\seizurePy3.9\\data\\raw_data\\chb-mit-scalp-eeg-database-1.0.0\\chb13\\chb13_12.edf...\n",
      "EDF file detected\n",
      "Setting channel info structure...\n",
      "Creating raw.info structure...\n",
      "Reading 0 ... 921599  =      0.000 ...  3599.996 secs...\n"
     ]
    },
    {
     "name": "stderr",
     "output_type": "stream",
     "text": [
      "C:\\Users\\mspla\\AppData\\Local\\Temp\\ipykernel_12772\\2212051881.py:15: RuntimeWarning: Channel names are not unique, found duplicates for: {'-'}. Applying running numbers for duplicates.\n",
      "  edf_data = mne.io.read_raw_edf(file, preload=True)\n",
      "C:\\Users\\mspla\\AppData\\Local\\Temp\\ipykernel_12772\\2212051881.py:15: RuntimeWarning: Scaling factor is not defined in following channels:\n",
      "--0, --1, --2, --3\n",
      "  edf_data = mne.io.read_raw_edf(file, preload=True)\n"
     ]
    },
    {
     "name": "stdout",
     "output_type": "stream",
     "text": [
      "Extracting EDF parameters from C:\\Users\\mspla\\Documents\\repos\\py_basic_310_Au24\\seizurePy3.9\\data\\raw_data\\chb-mit-scalp-eeg-database-1.0.0\\chb13\\chb13_13.edf...\n",
      "EDF file detected\n",
      "Setting channel info structure...\n",
      "Creating raw.info structure...\n",
      "Reading 0 ... 921599  =      0.000 ...  3599.996 secs...\n"
     ]
    },
    {
     "name": "stderr",
     "output_type": "stream",
     "text": [
      "C:\\Users\\mspla\\AppData\\Local\\Temp\\ipykernel_12772\\2212051881.py:15: RuntimeWarning: Channel names are not unique, found duplicates for: {'-'}. Applying running numbers for duplicates.\n",
      "  edf_data = mne.io.read_raw_edf(file, preload=True)\n",
      "C:\\Users\\mspla\\AppData\\Local\\Temp\\ipykernel_12772\\2212051881.py:15: RuntimeWarning: Scaling factor is not defined in following channels:\n",
      "--0, --1, --2, --3\n",
      "  edf_data = mne.io.read_raw_edf(file, preload=True)\n"
     ]
    },
    {
     "name": "stdout",
     "output_type": "stream",
     "text": [
      "Extracting EDF parameters from C:\\Users\\mspla\\Documents\\repos\\py_basic_310_Au24\\seizurePy3.9\\data\\raw_data\\chb-mit-scalp-eeg-database-1.0.0\\chb13\\chb13_14.edf...\n",
      "EDF file detected\n",
      "Setting channel info structure...\n",
      "Creating raw.info structure...\n",
      "Reading 0 ... 921599  =      0.000 ...  3599.996 secs...\n"
     ]
    },
    {
     "name": "stderr",
     "output_type": "stream",
     "text": [
      "C:\\Users\\mspla\\AppData\\Local\\Temp\\ipykernel_12772\\2212051881.py:15: RuntimeWarning: Channel names are not unique, found duplicates for: {'-'}. Applying running numbers for duplicates.\n",
      "  edf_data = mne.io.read_raw_edf(file, preload=True)\n",
      "C:\\Users\\mspla\\AppData\\Local\\Temp\\ipykernel_12772\\2212051881.py:15: RuntimeWarning: Scaling factor is not defined in following channels:\n",
      "--0, --1, --2, --3\n",
      "  edf_data = mne.io.read_raw_edf(file, preload=True)\n"
     ]
    },
    {
     "name": "stdout",
     "output_type": "stream",
     "text": [
      "Extracting EDF parameters from C:\\Users\\mspla\\Documents\\repos\\py_basic_310_Au24\\seizurePy3.9\\data\\raw_data\\chb-mit-scalp-eeg-database-1.0.0\\chb13\\chb13_15.edf...\n",
      "EDF file detected\n",
      "Setting channel info structure...\n",
      "Creating raw.info structure...\n",
      "Reading 0 ... 921599  =      0.000 ...  3599.996 secs...\n"
     ]
    },
    {
     "name": "stderr",
     "output_type": "stream",
     "text": [
      "C:\\Users\\mspla\\AppData\\Local\\Temp\\ipykernel_12772\\2212051881.py:15: RuntimeWarning: Channel names are not unique, found duplicates for: {'-'}. Applying running numbers for duplicates.\n",
      "  edf_data = mne.io.read_raw_edf(file, preload=True)\n",
      "C:\\Users\\mspla\\AppData\\Local\\Temp\\ipykernel_12772\\2212051881.py:15: RuntimeWarning: Scaling factor is not defined in following channels:\n",
      "--0, --1, --2, --3\n",
      "  edf_data = mne.io.read_raw_edf(file, preload=True)\n"
     ]
    },
    {
     "name": "stdout",
     "output_type": "stream",
     "text": [
      "Extracting EDF parameters from C:\\Users\\mspla\\Documents\\repos\\py_basic_310_Au24\\seizurePy3.9\\data\\raw_data\\chb-mit-scalp-eeg-database-1.0.0\\chb13\\chb13_16.edf...\n",
      "EDF file detected\n",
      "Setting channel info structure...\n",
      "Creating raw.info structure...\n",
      "Reading 0 ... 921599  =      0.000 ...  3599.996 secs...\n"
     ]
    },
    {
     "name": "stderr",
     "output_type": "stream",
     "text": [
      "C:\\Users\\mspla\\AppData\\Local\\Temp\\ipykernel_12772\\2212051881.py:15: RuntimeWarning: Channel names are not unique, found duplicates for: {'-'}. Applying running numbers for duplicates.\n",
      "  edf_data = mne.io.read_raw_edf(file, preload=True)\n",
      "C:\\Users\\mspla\\AppData\\Local\\Temp\\ipykernel_12772\\2212051881.py:15: RuntimeWarning: Scaling factor is not defined in following channels:\n",
      "--0, --1, --2, --3\n",
      "  edf_data = mne.io.read_raw_edf(file, preload=True)\n"
     ]
    },
    {
     "name": "stdout",
     "output_type": "stream",
     "text": [
      "Extracting EDF parameters from C:\\Users\\mspla\\Documents\\repos\\py_basic_310_Au24\\seizurePy3.9\\data\\raw_data\\chb-mit-scalp-eeg-database-1.0.0\\chb13\\chb13_18.edf...\n",
      "EDF file detected\n",
      "Setting channel info structure...\n",
      "Creating raw.info structure...\n",
      "Reading 0 ... 921599  =      0.000 ...  3599.996 secs...\n"
     ]
    },
    {
     "name": "stderr",
     "output_type": "stream",
     "text": [
      "C:\\Users\\mspla\\AppData\\Local\\Temp\\ipykernel_12772\\2212051881.py:15: RuntimeWarning: Channel names are not unique, found duplicates for: {'-'}. Applying running numbers for duplicates.\n",
      "  edf_data = mne.io.read_raw_edf(file, preload=True)\n",
      "C:\\Users\\mspla\\AppData\\Local\\Temp\\ipykernel_12772\\2212051881.py:15: RuntimeWarning: Scaling factor is not defined in following channels:\n",
      "--0, --1, --2, --3\n",
      "  edf_data = mne.io.read_raw_edf(file, preload=True)\n"
     ]
    },
    {
     "name": "stdout",
     "output_type": "stream",
     "text": [
      "Extracting EDF parameters from C:\\Users\\mspla\\Documents\\repos\\py_basic_310_Au24\\seizurePy3.9\\data\\raw_data\\chb-mit-scalp-eeg-database-1.0.0\\chb13\\chb13_19.edf...\n",
      "EDF file detected\n",
      "Setting channel info structure...\n",
      "Creating raw.info structure...\n",
      "Reading 0 ... 921599  =      0.000 ...  3599.996 secs...\n"
     ]
    },
    {
     "name": "stderr",
     "output_type": "stream",
     "text": [
      "C:\\Users\\mspla\\AppData\\Local\\Temp\\ipykernel_12772\\2212051881.py:15: RuntimeWarning: Channel names are not unique, found duplicates for: {'-', 'T8-P8'}. Applying running numbers for duplicates.\n",
      "  edf_data = mne.io.read_raw_edf(file, preload=True)\n",
      "C:\\Users\\mspla\\AppData\\Local\\Temp\\ipykernel_12772\\2212051881.py:15: RuntimeWarning: Scaling factor is not defined in following channels:\n",
      "--0, --1, --2, --3, --4\n",
      "  edf_data = mne.io.read_raw_edf(file, preload=True)\n"
     ]
    },
    {
     "name": "stdout",
     "output_type": "stream",
     "text": [
      "Extracting EDF parameters from C:\\Users\\mspla\\Documents\\repos\\py_basic_310_Au24\\seizurePy3.9\\data\\raw_data\\chb-mit-scalp-eeg-database-1.0.0\\chb13\\chb13_21.edf...\n",
      "EDF file detected\n",
      "Setting channel info structure...\n",
      "Creating raw.info structure...\n",
      "Reading 0 ... 921599  =      0.000 ...  3599.996 secs...\n"
     ]
    },
    {
     "name": "stderr",
     "output_type": "stream",
     "text": [
      "C:\\Users\\mspla\\AppData\\Local\\Temp\\ipykernel_12772\\2212051881.py:15: RuntimeWarning: Channel names are not unique, found duplicates for: {'-', 'T8-P8'}. Applying running numbers for duplicates.\n",
      "  edf_data = mne.io.read_raw_edf(file, preload=True)\n",
      "C:\\Users\\mspla\\AppData\\Local\\Temp\\ipykernel_12772\\2212051881.py:15: RuntimeWarning: Scaling factor is not defined in following channels:\n",
      "--0, --1, --2, --3, --4\n",
      "  edf_data = mne.io.read_raw_edf(file, preload=True)\n"
     ]
    },
    {
     "name": "stdout",
     "output_type": "stream",
     "text": [
      "Extracting EDF parameters from C:\\Users\\mspla\\Documents\\repos\\py_basic_310_Au24\\seizurePy3.9\\data\\raw_data\\chb-mit-scalp-eeg-database-1.0.0\\chb13\\chb13_22.edf...\n",
      "EDF file detected\n",
      "Setting channel info structure...\n",
      "Creating raw.info structure...\n",
      "Reading 0 ... 921599  =      0.000 ...  3599.996 secs...\n"
     ]
    },
    {
     "name": "stderr",
     "output_type": "stream",
     "text": [
      "C:\\Users\\mspla\\AppData\\Local\\Temp\\ipykernel_12772\\2212051881.py:15: RuntimeWarning: Channel names are not unique, found duplicates for: {'-', 'T8-P8'}. Applying running numbers for duplicates.\n",
      "  edf_data = mne.io.read_raw_edf(file, preload=True)\n",
      "C:\\Users\\mspla\\AppData\\Local\\Temp\\ipykernel_12772\\2212051881.py:15: RuntimeWarning: Scaling factor is not defined in following channels:\n",
      "--0, --1, --2, --3, --4\n",
      "  edf_data = mne.io.read_raw_edf(file, preload=True)\n"
     ]
    },
    {
     "name": "stdout",
     "output_type": "stream",
     "text": [
      "Extracting EDF parameters from C:\\Users\\mspla\\Documents\\repos\\py_basic_310_Au24\\seizurePy3.9\\data\\raw_data\\chb-mit-scalp-eeg-database-1.0.0\\chb13\\chb13_24.edf...\n",
      "EDF file detected\n",
      "Setting channel info structure...\n",
      "Creating raw.info structure...\n",
      "Reading 0 ... 921599  =      0.000 ...  3599.996 secs...\n"
     ]
    },
    {
     "name": "stderr",
     "output_type": "stream",
     "text": [
      "C:\\Users\\mspla\\AppData\\Local\\Temp\\ipykernel_12772\\2212051881.py:15: RuntimeWarning: Channel names are not unique, found duplicates for: {'-'}. Applying running numbers for duplicates.\n",
      "  edf_data = mne.io.read_raw_edf(file, preload=True)\n",
      "C:\\Users\\mspla\\AppData\\Local\\Temp\\ipykernel_12772\\2212051881.py:15: RuntimeWarning: Scaling factor is not defined in following channels:\n",
      "--0, --1, --2, --3\n",
      "  edf_data = mne.io.read_raw_edf(file, preload=True)\n"
     ]
    },
    {
     "name": "stdout",
     "output_type": "stream",
     "text": [
      "Extracting EDF parameters from C:\\Users\\mspla\\Documents\\repos\\py_basic_310_Au24\\seizurePy3.9\\data\\raw_data\\chb-mit-scalp-eeg-database-1.0.0\\chb13\\chb13_30.edf...\n",
      "EDF file detected\n",
      "Setting channel info structure...\n",
      "Creating raw.info structure...\n",
      "Reading 0 ... 921599  =      0.000 ...  3599.996 secs...\n"
     ]
    },
    {
     "name": "stderr",
     "output_type": "stream",
     "text": [
      "C:\\Users\\mspla\\AppData\\Local\\Temp\\ipykernel_12772\\2212051881.py:15: RuntimeWarning: Channel names are not unique, found duplicates for: {'-'}. Applying running numbers for duplicates.\n",
      "  edf_data = mne.io.read_raw_edf(file, preload=True)\n",
      "C:\\Users\\mspla\\AppData\\Local\\Temp\\ipykernel_12772\\2212051881.py:15: RuntimeWarning: Scaling factor is not defined in following channels:\n",
      "--0, --1, --2, --3\n",
      "  edf_data = mne.io.read_raw_edf(file, preload=True)\n"
     ]
    },
    {
     "name": "stdout",
     "output_type": "stream",
     "text": [
      "Extracting EDF parameters from C:\\Users\\mspla\\Documents\\repos\\py_basic_310_Au24\\seizurePy3.9\\data\\raw_data\\chb-mit-scalp-eeg-database-1.0.0\\chb13\\chb13_36.edf...\n",
      "EDF file detected\n",
      "Setting channel info structure...\n",
      "Creating raw.info structure...\n",
      "Reading 0 ... 921599  =      0.000 ...  3599.996 secs...\n"
     ]
    },
    {
     "name": "stderr",
     "output_type": "stream",
     "text": [
      "C:\\Users\\mspla\\AppData\\Local\\Temp\\ipykernel_12772\\2212051881.py:15: RuntimeWarning: Channel names are not unique, found duplicates for: {'-'}. Applying running numbers for duplicates.\n",
      "  edf_data = mne.io.read_raw_edf(file, preload=True)\n",
      "C:\\Users\\mspla\\AppData\\Local\\Temp\\ipykernel_12772\\2212051881.py:15: RuntimeWarning: Scaling factor is not defined in following channels:\n",
      "--0, --1, --2, --3\n",
      "  edf_data = mne.io.read_raw_edf(file, preload=True)\n"
     ]
    },
    {
     "name": "stdout",
     "output_type": "stream",
     "text": [
      "Extracting EDF parameters from C:\\Users\\mspla\\Documents\\repos\\py_basic_310_Au24\\seizurePy3.9\\data\\raw_data\\chb-mit-scalp-eeg-database-1.0.0\\chb13\\chb13_37.edf...\n",
      "EDF file detected\n",
      "Setting channel info structure...\n",
      "Creating raw.info structure...\n",
      "Reading 0 ... 921599  =      0.000 ...  3599.996 secs...\n"
     ]
    },
    {
     "name": "stderr",
     "output_type": "stream",
     "text": [
      "C:\\Users\\mspla\\AppData\\Local\\Temp\\ipykernel_12772\\2212051881.py:15: RuntimeWarning: Channel names are not unique, found duplicates for: {'-'}. Applying running numbers for duplicates.\n",
      "  edf_data = mne.io.read_raw_edf(file, preload=True)\n",
      "C:\\Users\\mspla\\AppData\\Local\\Temp\\ipykernel_12772\\2212051881.py:15: RuntimeWarning: Scaling factor is not defined in following channels:\n",
      "--0, --1, --2, --3\n",
      "  edf_data = mne.io.read_raw_edf(file, preload=True)\n"
     ]
    },
    {
     "name": "stdout",
     "output_type": "stream",
     "text": [
      "Extracting EDF parameters from C:\\Users\\mspla\\Documents\\repos\\py_basic_310_Au24\\seizurePy3.9\\data\\raw_data\\chb-mit-scalp-eeg-database-1.0.0\\chb13\\chb13_38.edf...\n",
      "EDF file detected\n",
      "Setting channel info structure...\n",
      "Creating raw.info structure...\n",
      "Reading 0 ... 921599  =      0.000 ...  3599.996 secs...\n"
     ]
    },
    {
     "name": "stderr",
     "output_type": "stream",
     "text": [
      "C:\\Users\\mspla\\AppData\\Local\\Temp\\ipykernel_12772\\2212051881.py:15: RuntimeWarning: Channel names are not unique, found duplicates for: {'-'}. Applying running numbers for duplicates.\n",
      "  edf_data = mne.io.read_raw_edf(file, preload=True)\n",
      "C:\\Users\\mspla\\AppData\\Local\\Temp\\ipykernel_12772\\2212051881.py:15: RuntimeWarning: Scaling factor is not defined in following channels:\n",
      "--0, --1, --2, --3\n",
      "  edf_data = mne.io.read_raw_edf(file, preload=True)\n"
     ]
    },
    {
     "name": "stdout",
     "output_type": "stream",
     "text": [
      "Extracting EDF parameters from C:\\Users\\mspla\\Documents\\repos\\py_basic_310_Au24\\seizurePy3.9\\data\\raw_data\\chb-mit-scalp-eeg-database-1.0.0\\chb13\\chb13_39.edf...\n",
      "EDF file detected\n",
      "Setting channel info structure...\n",
      "Creating raw.info structure...\n",
      "Reading 0 ... 921599  =      0.000 ...  3599.996 secs...\n"
     ]
    },
    {
     "name": "stderr",
     "output_type": "stream",
     "text": [
      "C:\\Users\\mspla\\AppData\\Local\\Temp\\ipykernel_12772\\2212051881.py:15: RuntimeWarning: Channel names are not unique, found duplicates for: {'-'}. Applying running numbers for duplicates.\n",
      "  edf_data = mne.io.read_raw_edf(file, preload=True)\n",
      "C:\\Users\\mspla\\AppData\\Local\\Temp\\ipykernel_12772\\2212051881.py:15: RuntimeWarning: Scaling factor is not defined in following channels:\n",
      "--0, --1, --2, --3\n",
      "  edf_data = mne.io.read_raw_edf(file, preload=True)\n"
     ]
    },
    {
     "name": "stdout",
     "output_type": "stream",
     "text": [
      "Extracting EDF parameters from C:\\Users\\mspla\\Documents\\repos\\py_basic_310_Au24\\seizurePy3.9\\data\\raw_data\\chb-mit-scalp-eeg-database-1.0.0\\chb13\\chb13_40.edf...\n",
      "EDF file detected\n",
      "Setting channel info structure...\n",
      "Creating raw.info structure...\n",
      "Reading 0 ... 921599  =      0.000 ...  3599.996 secs...\n"
     ]
    },
    {
     "name": "stderr",
     "output_type": "stream",
     "text": [
      "C:\\Users\\mspla\\AppData\\Local\\Temp\\ipykernel_12772\\2212051881.py:15: RuntimeWarning: Channel names are not unique, found duplicates for: {'-'}. Applying running numbers for duplicates.\n",
      "  edf_data = mne.io.read_raw_edf(file, preload=True)\n",
      "C:\\Users\\mspla\\AppData\\Local\\Temp\\ipykernel_12772\\2212051881.py:15: RuntimeWarning: Scaling factor is not defined in following channels:\n",
      "--0, --1, --2, --3\n",
      "  edf_data = mne.io.read_raw_edf(file, preload=True)\n"
     ]
    },
    {
     "name": "stdout",
     "output_type": "stream",
     "text": [
      "Extracting EDF parameters from C:\\Users\\mspla\\Documents\\repos\\py_basic_310_Au24\\seizurePy3.9\\data\\raw_data\\chb-mit-scalp-eeg-database-1.0.0\\chb13\\chb13_47.edf...\n",
      "EDF file detected\n",
      "Setting channel info structure...\n",
      "Creating raw.info structure...\n",
      "Reading 0 ... 921599  =      0.000 ...  3599.996 secs...\n"
     ]
    },
    {
     "name": "stderr",
     "output_type": "stream",
     "text": [
      "C:\\Users\\mspla\\AppData\\Local\\Temp\\ipykernel_12772\\2212051881.py:15: RuntimeWarning: Channel names are not unique, found duplicates for: {'-'}. Applying running numbers for duplicates.\n",
      "  edf_data = mne.io.read_raw_edf(file, preload=True)\n",
      "C:\\Users\\mspla\\AppData\\Local\\Temp\\ipykernel_12772\\2212051881.py:15: RuntimeWarning: Scaling factor is not defined in following channels:\n",
      "--0, --1, --2, --3\n",
      "  edf_data = mne.io.read_raw_edf(file, preload=True)\n"
     ]
    },
    {
     "name": "stdout",
     "output_type": "stream",
     "text": [
      "Extracting EDF parameters from C:\\Users\\mspla\\Documents\\repos\\py_basic_310_Au24\\seizurePy3.9\\data\\raw_data\\chb-mit-scalp-eeg-database-1.0.0\\chb13\\chb13_55.edf...\n",
      "EDF file detected\n",
      "Setting channel info structure...\n",
      "Creating raw.info structure...\n",
      "Reading 0 ... 921599  =      0.000 ...  3599.996 secs...\n"
     ]
    },
    {
     "name": "stderr",
     "output_type": "stream",
     "text": [
      "C:\\Users\\mspla\\AppData\\Local\\Temp\\ipykernel_12772\\2212051881.py:15: RuntimeWarning: Channel names are not unique, found duplicates for: {'-', 'T8-P8'}. Applying running numbers for duplicates.\n",
      "  edf_data = mne.io.read_raw_edf(file, preload=True)\n",
      "C:\\Users\\mspla\\AppData\\Local\\Temp\\ipykernel_12772\\2212051881.py:15: RuntimeWarning: Scaling factor is not defined in following channels:\n",
      "--0, --1, --2, --3, --4\n",
      "  edf_data = mne.io.read_raw_edf(file, preload=True)\n"
     ]
    },
    {
     "name": "stdout",
     "output_type": "stream",
     "text": [
      "Extracting EDF parameters from C:\\Users\\mspla\\Documents\\repos\\py_basic_310_Au24\\seizurePy3.9\\data\\raw_data\\chb-mit-scalp-eeg-database-1.0.0\\chb13\\chb13_56.edf...\n",
      "EDF file detected\n",
      "Setting channel info structure...\n",
      "Creating raw.info structure...\n",
      "Reading 0 ... 921599  =      0.000 ...  3599.996 secs...\n"
     ]
    },
    {
     "name": "stderr",
     "output_type": "stream",
     "text": [
      "C:\\Users\\mspla\\AppData\\Local\\Temp\\ipykernel_12772\\2212051881.py:15: RuntimeWarning: Channel names are not unique, found duplicates for: {'-', 'T8-P8'}. Applying running numbers for duplicates.\n",
      "  edf_data = mne.io.read_raw_edf(file, preload=True)\n",
      "C:\\Users\\mspla\\AppData\\Local\\Temp\\ipykernel_12772\\2212051881.py:15: RuntimeWarning: Scaling factor is not defined in following channels:\n",
      "--0, --1, --2, --3, --4\n",
      "  edf_data = mne.io.read_raw_edf(file, preload=True)\n"
     ]
    },
    {
     "name": "stdout",
     "output_type": "stream",
     "text": [
      "Extracting EDF parameters from C:\\Users\\mspla\\Documents\\repos\\py_basic_310_Au24\\seizurePy3.9\\data\\raw_data\\chb-mit-scalp-eeg-database-1.0.0\\chb13\\chb13_58.edf...\n",
      "EDF file detected\n",
      "Setting channel info structure...\n",
      "Creating raw.info structure...\n",
      "Reading 0 ... 921599  =      0.000 ...  3599.996 secs...\n"
     ]
    },
    {
     "name": "stderr",
     "output_type": "stream",
     "text": [
      "C:\\Users\\mspla\\AppData\\Local\\Temp\\ipykernel_12772\\2212051881.py:15: RuntimeWarning: Channel names are not unique, found duplicates for: {'-', 'T8-P8'}. Applying running numbers for duplicates.\n",
      "  edf_data = mne.io.read_raw_edf(file, preload=True)\n",
      "C:\\Users\\mspla\\AppData\\Local\\Temp\\ipykernel_12772\\2212051881.py:15: RuntimeWarning: Scaling factor is not defined in following channels:\n",
      "--0, --1, --2, --3, --4\n",
      "  edf_data = mne.io.read_raw_edf(file, preload=True)\n"
     ]
    },
    {
     "name": "stdout",
     "output_type": "stream",
     "text": [
      "Extracting EDF parameters from C:\\Users\\mspla\\Documents\\repos\\py_basic_310_Au24\\seizurePy3.9\\data\\raw_data\\chb-mit-scalp-eeg-database-1.0.0\\chb13\\chb13_59.edf...\n",
      "EDF file detected\n",
      "Setting channel info structure...\n",
      "Creating raw.info structure...\n",
      "Reading 0 ... 921599  =      0.000 ...  3599.996 secs...\n"
     ]
    },
    {
     "name": "stderr",
     "output_type": "stream",
     "text": [
      "C:\\Users\\mspla\\AppData\\Local\\Temp\\ipykernel_12772\\2212051881.py:15: RuntimeWarning: Channel names are not unique, found duplicates for: {'-', 'T8-P8'}. Applying running numbers for duplicates.\n",
      "  edf_data = mne.io.read_raw_edf(file, preload=True)\n",
      "C:\\Users\\mspla\\AppData\\Local\\Temp\\ipykernel_12772\\2212051881.py:15: RuntimeWarning: Scaling factor is not defined in following channels:\n",
      "--0, --1, --2, --3, --4\n",
      "  edf_data = mne.io.read_raw_edf(file, preload=True)\n"
     ]
    },
    {
     "name": "stdout",
     "output_type": "stream",
     "text": [
      "Extracting EDF parameters from C:\\Users\\mspla\\Documents\\repos\\py_basic_310_Au24\\seizurePy3.9\\data\\raw_data\\chb-mit-scalp-eeg-database-1.0.0\\chb13\\chb13_60.edf...\n",
      "EDF file detected\n",
      "Setting channel info structure...\n",
      "Creating raw.info structure...\n",
      "Reading 0 ... 921599  =      0.000 ...  3599.996 secs...\n"
     ]
    },
    {
     "name": "stderr",
     "output_type": "stream",
     "text": [
      "C:\\Users\\mspla\\AppData\\Local\\Temp\\ipykernel_12772\\2212051881.py:15: RuntimeWarning: Channel names are not unique, found duplicates for: {'-', 'T8-P8'}. Applying running numbers for duplicates.\n",
      "  edf_data = mne.io.read_raw_edf(file, preload=True)\n",
      "C:\\Users\\mspla\\AppData\\Local\\Temp\\ipykernel_12772\\2212051881.py:15: RuntimeWarning: Scaling factor is not defined in following channels:\n",
      "--0, --1, --2, --3, --4\n",
      "  edf_data = mne.io.read_raw_edf(file, preload=True)\n"
     ]
    },
    {
     "name": "stdout",
     "output_type": "stream",
     "text": [
      "Extracting EDF parameters from C:\\Users\\mspla\\Documents\\repos\\py_basic_310_Au24\\seizurePy3.9\\data\\raw_data\\chb-mit-scalp-eeg-database-1.0.0\\chb13\\chb13_62.edf...\n",
      "EDF file detected\n",
      "Setting channel info structure...\n",
      "Creating raw.info structure...\n",
      "Reading 0 ... 921599  =      0.000 ...  3599.996 secs...\n"
     ]
    },
    {
     "name": "stderr",
     "output_type": "stream",
     "text": [
      "C:\\Users\\mspla\\AppData\\Local\\Temp\\ipykernel_12772\\2212051881.py:15: RuntimeWarning: Channel names are not unique, found duplicates for: {'-', 'T8-P8'}. Applying running numbers for duplicates.\n",
      "  edf_data = mne.io.read_raw_edf(file, preload=True)\n",
      "C:\\Users\\mspla\\AppData\\Local\\Temp\\ipykernel_12772\\2212051881.py:15: RuntimeWarning: Scaling factor is not defined in following channels:\n",
      "--0, --1, --2, --3, --4\n",
      "  edf_data = mne.io.read_raw_edf(file, preload=True)\n"
     ]
    },
    {
     "name": "stdout",
     "output_type": "stream",
     "text": [
      "Extracting EDF parameters from C:\\Users\\mspla\\Documents\\repos\\py_basic_310_Au24\\seizurePy3.9\\data\\raw_data\\chb-mit-scalp-eeg-database-1.0.0\\chb14\\chb14_01.edf...\n",
      "EDF file detected\n",
      "Setting channel info structure...\n",
      "Creating raw.info structure...\n",
      "Reading 0 ... 921599  =      0.000 ...  3599.996 secs...\n"
     ]
    },
    {
     "name": "stderr",
     "output_type": "stream",
     "text": [
      "C:\\Users\\mspla\\AppData\\Local\\Temp\\ipykernel_12772\\2212051881.py:15: RuntimeWarning: Channel names are not unique, found duplicates for: {'-', 'T8-P8'}. Applying running numbers for duplicates.\n",
      "  edf_data = mne.io.read_raw_edf(file, preload=True)\n",
      "C:\\Users\\mspla\\AppData\\Local\\Temp\\ipykernel_12772\\2212051881.py:15: RuntimeWarning: Scaling factor is not defined in following channels:\n",
      "--0, --1, --2, --3, --4\n",
      "  edf_data = mne.io.read_raw_edf(file, preload=True)\n"
     ]
    },
    {
     "name": "stdout",
     "output_type": "stream",
     "text": [
      "Extracting EDF parameters from C:\\Users\\mspla\\Documents\\repos\\py_basic_310_Au24\\seizurePy3.9\\data\\raw_data\\chb-mit-scalp-eeg-database-1.0.0\\chb14\\chb14_02.edf...\n",
      "EDF file detected\n",
      "Setting channel info structure...\n",
      "Creating raw.info structure...\n",
      "Reading 0 ... 921599  =      0.000 ...  3599.996 secs...\n"
     ]
    },
    {
     "name": "stderr",
     "output_type": "stream",
     "text": [
      "C:\\Users\\mspla\\AppData\\Local\\Temp\\ipykernel_12772\\2212051881.py:15: RuntimeWarning: Channel names are not unique, found duplicates for: {'-', 'T8-P8'}. Applying running numbers for duplicates.\n",
      "  edf_data = mne.io.read_raw_edf(file, preload=True)\n",
      "C:\\Users\\mspla\\AppData\\Local\\Temp\\ipykernel_12772\\2212051881.py:15: RuntimeWarning: Scaling factor is not defined in following channels:\n",
      "--0, --1, --2, --3, --4\n",
      "  edf_data = mne.io.read_raw_edf(file, preload=True)\n"
     ]
    },
    {
     "name": "stdout",
     "output_type": "stream",
     "text": [
      "Extracting EDF parameters from C:\\Users\\mspla\\Documents\\repos\\py_basic_310_Au24\\seizurePy3.9\\data\\raw_data\\chb-mit-scalp-eeg-database-1.0.0\\chb14\\chb14_03.edf...\n",
      "EDF file detected\n",
      "Setting channel info structure...\n",
      "Creating raw.info structure...\n",
      "Reading 0 ... 921599  =      0.000 ...  3599.996 secs...\n"
     ]
    },
    {
     "name": "stderr",
     "output_type": "stream",
     "text": [
      "C:\\Users\\mspla\\AppData\\Local\\Temp\\ipykernel_12772\\2212051881.py:15: RuntimeWarning: Channel names are not unique, found duplicates for: {'-', 'T8-P8'}. Applying running numbers for duplicates.\n",
      "  edf_data = mne.io.read_raw_edf(file, preload=True)\n",
      "C:\\Users\\mspla\\AppData\\Local\\Temp\\ipykernel_12772\\2212051881.py:15: RuntimeWarning: Scaling factor is not defined in following channels:\n",
      "--0, --1, --2, --3, --4\n",
      "  edf_data = mne.io.read_raw_edf(file, preload=True)\n"
     ]
    },
    {
     "name": "stdout",
     "output_type": "stream",
     "text": [
      "Extracting EDF parameters from C:\\Users\\mspla\\Documents\\repos\\py_basic_310_Au24\\seizurePy3.9\\data\\raw_data\\chb-mit-scalp-eeg-database-1.0.0\\chb14\\chb14_04.edf...\n",
      "EDF file detected\n",
      "Setting channel info structure...\n",
      "Creating raw.info structure...\n",
      "Reading 0 ... 921599  =      0.000 ...  3599.996 secs...\n"
     ]
    },
    {
     "name": "stderr",
     "output_type": "stream",
     "text": [
      "C:\\Users\\mspla\\AppData\\Local\\Temp\\ipykernel_12772\\2212051881.py:15: RuntimeWarning: Channel names are not unique, found duplicates for: {'-', 'T8-P8'}. Applying running numbers for duplicates.\n",
      "  edf_data = mne.io.read_raw_edf(file, preload=True)\n",
      "C:\\Users\\mspla\\AppData\\Local\\Temp\\ipykernel_12772\\2212051881.py:15: RuntimeWarning: Scaling factor is not defined in following channels:\n",
      "--0, --1, --2, --3, --4\n",
      "  edf_data = mne.io.read_raw_edf(file, preload=True)\n"
     ]
    },
    {
     "name": "stdout",
     "output_type": "stream",
     "text": [
      "Extracting EDF parameters from C:\\Users\\mspla\\Documents\\repos\\py_basic_310_Au24\\seizurePy3.9\\data\\raw_data\\chb-mit-scalp-eeg-database-1.0.0\\chb14\\chb14_06.edf...\n",
      "EDF file detected\n",
      "Setting channel info structure...\n",
      "Creating raw.info structure...\n",
      "Reading 0 ... 921599  =      0.000 ...  3599.996 secs...\n"
     ]
    },
    {
     "name": "stderr",
     "output_type": "stream",
     "text": [
      "C:\\Users\\mspla\\AppData\\Local\\Temp\\ipykernel_12772\\2212051881.py:15: RuntimeWarning: Channel names are not unique, found duplicates for: {'-', 'T8-P8'}. Applying running numbers for duplicates.\n",
      "  edf_data = mne.io.read_raw_edf(file, preload=True)\n",
      "C:\\Users\\mspla\\AppData\\Local\\Temp\\ipykernel_12772\\2212051881.py:15: RuntimeWarning: Scaling factor is not defined in following channels:\n",
      "--0, --1, --2, --3, --4\n",
      "  edf_data = mne.io.read_raw_edf(file, preload=True)\n"
     ]
    },
    {
     "name": "stdout",
     "output_type": "stream",
     "text": [
      "Extracting EDF parameters from C:\\Users\\mspla\\Documents\\repos\\py_basic_310_Au24\\seizurePy3.9\\data\\raw_data\\chb-mit-scalp-eeg-database-1.0.0\\chb14\\chb14_07.edf...\n",
      "EDF file detected\n",
      "Setting channel info structure...\n",
      "Creating raw.info structure...\n",
      "Reading 0 ... 921599  =      0.000 ...  3599.996 secs...\n"
     ]
    },
    {
     "name": "stderr",
     "output_type": "stream",
     "text": [
      "C:\\Users\\mspla\\AppData\\Local\\Temp\\ipykernel_12772\\2212051881.py:15: RuntimeWarning: Channel names are not unique, found duplicates for: {'-', 'T8-P8'}. Applying running numbers for duplicates.\n",
      "  edf_data = mne.io.read_raw_edf(file, preload=True)\n",
      "C:\\Users\\mspla\\AppData\\Local\\Temp\\ipykernel_12772\\2212051881.py:15: RuntimeWarning: Scaling factor is not defined in following channels:\n",
      "--0, --1, --2, --3, --4\n",
      "  edf_data = mne.io.read_raw_edf(file, preload=True)\n"
     ]
    },
    {
     "name": "stdout",
     "output_type": "stream",
     "text": [
      "Extracting EDF parameters from C:\\Users\\mspla\\Documents\\repos\\py_basic_310_Au24\\seizurePy3.9\\data\\raw_data\\chb-mit-scalp-eeg-database-1.0.0\\chb14\\chb14_11.edf...\n",
      "EDF file detected\n",
      "Setting channel info structure...\n",
      "Creating raw.info structure...\n",
      "Reading 0 ... 921599  =      0.000 ...  3599.996 secs...\n"
     ]
    },
    {
     "name": "stderr",
     "output_type": "stream",
     "text": [
      "C:\\Users\\mspla\\AppData\\Local\\Temp\\ipykernel_12772\\2212051881.py:15: RuntimeWarning: Channel names are not unique, found duplicates for: {'-', 'T8-P8'}. Applying running numbers for duplicates.\n",
      "  edf_data = mne.io.read_raw_edf(file, preload=True)\n",
      "C:\\Users\\mspla\\AppData\\Local\\Temp\\ipykernel_12772\\2212051881.py:15: RuntimeWarning: Scaling factor is not defined in following channels:\n",
      "--0, --1, --2, --3, --4\n",
      "  edf_data = mne.io.read_raw_edf(file, preload=True)\n"
     ]
    },
    {
     "name": "stdout",
     "output_type": "stream",
     "text": [
      "Extracting EDF parameters from C:\\Users\\mspla\\Documents\\repos\\py_basic_310_Au24\\seizurePy3.9\\data\\raw_data\\chb-mit-scalp-eeg-database-1.0.0\\chb14\\chb14_12.edf...\n",
      "EDF file detected\n",
      "Setting channel info structure...\n",
      "Creating raw.info structure...\n",
      "Reading 0 ... 921599  =      0.000 ...  3599.996 secs...\n"
     ]
    },
    {
     "name": "stderr",
     "output_type": "stream",
     "text": [
      "C:\\Users\\mspla\\AppData\\Local\\Temp\\ipykernel_12772\\2212051881.py:15: RuntimeWarning: Channel names are not unique, found duplicates for: {'-', 'T8-P8'}. Applying running numbers for duplicates.\n",
      "  edf_data = mne.io.read_raw_edf(file, preload=True)\n",
      "C:\\Users\\mspla\\AppData\\Local\\Temp\\ipykernel_12772\\2212051881.py:15: RuntimeWarning: Scaling factor is not defined in following channels:\n",
      "--0, --1, --2, --3, --4\n",
      "  edf_data = mne.io.read_raw_edf(file, preload=True)\n"
     ]
    },
    {
     "name": "stdout",
     "output_type": "stream",
     "text": [
      "Extracting EDF parameters from C:\\Users\\mspla\\Documents\\repos\\py_basic_310_Au24\\seizurePy3.9\\data\\raw_data\\chb-mit-scalp-eeg-database-1.0.0\\chb14\\chb14_13.edf...\n",
      "EDF file detected\n",
      "Setting channel info structure...\n",
      "Creating raw.info structure...\n",
      "Reading 0 ... 921599  =      0.000 ...  3599.996 secs...\n"
     ]
    },
    {
     "name": "stderr",
     "output_type": "stream",
     "text": [
      "C:\\Users\\mspla\\AppData\\Local\\Temp\\ipykernel_12772\\2212051881.py:15: RuntimeWarning: Channel names are not unique, found duplicates for: {'-', 'T8-P8'}. Applying running numbers for duplicates.\n",
      "  edf_data = mne.io.read_raw_edf(file, preload=True)\n",
      "C:\\Users\\mspla\\AppData\\Local\\Temp\\ipykernel_12772\\2212051881.py:15: RuntimeWarning: Scaling factor is not defined in following channels:\n",
      "--0, --1, --2, --3, --4\n",
      "  edf_data = mne.io.read_raw_edf(file, preload=True)\n"
     ]
    },
    {
     "name": "stdout",
     "output_type": "stream",
     "text": [
      "Extracting EDF parameters from C:\\Users\\mspla\\Documents\\repos\\py_basic_310_Au24\\seizurePy3.9\\data\\raw_data\\chb-mit-scalp-eeg-database-1.0.0\\chb14\\chb14_14.edf...\n",
      "EDF file detected\n",
      "Setting channel info structure...\n",
      "Creating raw.info structure...\n",
      "Reading 0 ... 921599  =      0.000 ...  3599.996 secs...\n"
     ]
    },
    {
     "name": "stderr",
     "output_type": "stream",
     "text": [
      "C:\\Users\\mspla\\AppData\\Local\\Temp\\ipykernel_12772\\2212051881.py:15: RuntimeWarning: Channel names are not unique, found duplicates for: {'-', 'T8-P8'}. Applying running numbers for duplicates.\n",
      "  edf_data = mne.io.read_raw_edf(file, preload=True)\n",
      "C:\\Users\\mspla\\AppData\\Local\\Temp\\ipykernel_12772\\2212051881.py:15: RuntimeWarning: Scaling factor is not defined in following channels:\n",
      "--0, --1, --2, --3, --4\n",
      "  edf_data = mne.io.read_raw_edf(file, preload=True)\n"
     ]
    },
    {
     "name": "stdout",
     "output_type": "stream",
     "text": [
      "Extracting EDF parameters from C:\\Users\\mspla\\Documents\\repos\\py_basic_310_Au24\\seizurePy3.9\\data\\raw_data\\chb-mit-scalp-eeg-database-1.0.0\\chb14\\chb14_16.edf...\n",
      "EDF file detected\n",
      "Setting channel info structure...\n",
      "Creating raw.info structure...\n",
      "Reading 0 ... 921599  =      0.000 ...  3599.996 secs...\n"
     ]
    },
    {
     "name": "stderr",
     "output_type": "stream",
     "text": [
      "C:\\Users\\mspla\\AppData\\Local\\Temp\\ipykernel_12772\\2212051881.py:15: RuntimeWarning: Channel names are not unique, found duplicates for: {'-', 'T8-P8'}. Applying running numbers for duplicates.\n",
      "  edf_data = mne.io.read_raw_edf(file, preload=True)\n",
      "C:\\Users\\mspla\\AppData\\Local\\Temp\\ipykernel_12772\\2212051881.py:15: RuntimeWarning: Scaling factor is not defined in following channels:\n",
      "--0, --1, --2, --3, --4\n",
      "  edf_data = mne.io.read_raw_edf(file, preload=True)\n"
     ]
    },
    {
     "name": "stdout",
     "output_type": "stream",
     "text": [
      "Extracting EDF parameters from C:\\Users\\mspla\\Documents\\repos\\py_basic_310_Au24\\seizurePy3.9\\data\\raw_data\\chb-mit-scalp-eeg-database-1.0.0\\chb14\\chb14_17.edf...\n",
      "EDF file detected\n",
      "Setting channel info structure...\n",
      "Creating raw.info structure...\n",
      "Reading 0 ... 921599  =      0.000 ...  3599.996 secs...\n"
     ]
    },
    {
     "name": "stderr",
     "output_type": "stream",
     "text": [
      "C:\\Users\\mspla\\AppData\\Local\\Temp\\ipykernel_12772\\2212051881.py:15: RuntimeWarning: Channel names are not unique, found duplicates for: {'-', 'T8-P8'}. Applying running numbers for duplicates.\n",
      "  edf_data = mne.io.read_raw_edf(file, preload=True)\n",
      "C:\\Users\\mspla\\AppData\\Local\\Temp\\ipykernel_12772\\2212051881.py:15: RuntimeWarning: Scaling factor is not defined in following channels:\n",
      "--0, --1, --2, --3, --4\n",
      "  edf_data = mne.io.read_raw_edf(file, preload=True)\n"
     ]
    },
    {
     "name": "stdout",
     "output_type": "stream",
     "text": [
      "Extracting EDF parameters from C:\\Users\\mspla\\Documents\\repos\\py_basic_310_Au24\\seizurePy3.9\\data\\raw_data\\chb-mit-scalp-eeg-database-1.0.0\\chb14\\chb14_18.edf...\n",
      "EDF file detected\n",
      "Setting channel info structure...\n",
      "Creating raw.info structure...\n",
      "Reading 0 ... 921599  =      0.000 ...  3599.996 secs...\n"
     ]
    },
    {
     "name": "stderr",
     "output_type": "stream",
     "text": [
      "C:\\Users\\mspla\\AppData\\Local\\Temp\\ipykernel_12772\\2212051881.py:15: RuntimeWarning: Channel names are not unique, found duplicates for: {'-', 'T8-P8'}. Applying running numbers for duplicates.\n",
      "  edf_data = mne.io.read_raw_edf(file, preload=True)\n",
      "C:\\Users\\mspla\\AppData\\Local\\Temp\\ipykernel_12772\\2212051881.py:15: RuntimeWarning: Scaling factor is not defined in following channels:\n",
      "--0, --1, --2, --3, --4\n",
      "  edf_data = mne.io.read_raw_edf(file, preload=True)\n"
     ]
    },
    {
     "name": "stdout",
     "output_type": "stream",
     "text": [
      "Extracting EDF parameters from C:\\Users\\mspla\\Documents\\repos\\py_basic_310_Au24\\seizurePy3.9\\data\\raw_data\\chb-mit-scalp-eeg-database-1.0.0\\chb14\\chb14_19.edf...\n",
      "EDF file detected\n",
      "Setting channel info structure...\n",
      "Creating raw.info structure...\n",
      "Reading 0 ... 921599  =      0.000 ...  3599.996 secs...\n"
     ]
    },
    {
     "name": "stderr",
     "output_type": "stream",
     "text": [
      "C:\\Users\\mspla\\AppData\\Local\\Temp\\ipykernel_12772\\2212051881.py:15: RuntimeWarning: Channel names are not unique, found duplicates for: {'-', 'T8-P8'}. Applying running numbers for duplicates.\n",
      "  edf_data = mne.io.read_raw_edf(file, preload=True)\n",
      "C:\\Users\\mspla\\AppData\\Local\\Temp\\ipykernel_12772\\2212051881.py:15: RuntimeWarning: Scaling factor is not defined in following channels:\n",
      "--0, --1, --2, --3, --4\n",
      "  edf_data = mne.io.read_raw_edf(file, preload=True)\n"
     ]
    },
    {
     "name": "stdout",
     "output_type": "stream",
     "text": [
      "Extracting EDF parameters from C:\\Users\\mspla\\Documents\\repos\\py_basic_310_Au24\\seizurePy3.9\\data\\raw_data\\chb-mit-scalp-eeg-database-1.0.0\\chb14\\chb14_20.edf...\n",
      "EDF file detected\n",
      "Setting channel info structure...\n",
      "Creating raw.info structure...\n",
      "Reading 0 ... 921599  =      0.000 ...  3599.996 secs...\n"
     ]
    },
    {
     "name": "stderr",
     "output_type": "stream",
     "text": [
      "C:\\Users\\mspla\\AppData\\Local\\Temp\\ipykernel_12772\\2212051881.py:15: RuntimeWarning: Channel names are not unique, found duplicates for: {'-', 'T8-P8'}. Applying running numbers for duplicates.\n",
      "  edf_data = mne.io.read_raw_edf(file, preload=True)\n",
      "C:\\Users\\mspla\\AppData\\Local\\Temp\\ipykernel_12772\\2212051881.py:15: RuntimeWarning: Scaling factor is not defined in following channels:\n",
      "--0, --1, --2, --3, --4\n",
      "  edf_data = mne.io.read_raw_edf(file, preload=True)\n"
     ]
    },
    {
     "name": "stdout",
     "output_type": "stream",
     "text": [
      "Extracting EDF parameters from C:\\Users\\mspla\\Documents\\repos\\py_basic_310_Au24\\seizurePy3.9\\data\\raw_data\\chb-mit-scalp-eeg-database-1.0.0\\chb14\\chb14_22.edf...\n",
      "EDF file detected\n",
      "Setting channel info structure...\n",
      "Creating raw.info structure...\n",
      "Reading 0 ... 921599  =      0.000 ...  3599.996 secs...\n"
     ]
    },
    {
     "name": "stderr",
     "output_type": "stream",
     "text": [
      "C:\\Users\\mspla\\AppData\\Local\\Temp\\ipykernel_12772\\2212051881.py:15: RuntimeWarning: Channel names are not unique, found duplicates for: {'-', 'T8-P8'}. Applying running numbers for duplicates.\n",
      "  edf_data = mne.io.read_raw_edf(file, preload=True)\n",
      "C:\\Users\\mspla\\AppData\\Local\\Temp\\ipykernel_12772\\2212051881.py:15: RuntimeWarning: Scaling factor is not defined in following channels:\n",
      "--0, --1, --2, --3, --4\n",
      "  edf_data = mne.io.read_raw_edf(file, preload=True)\n"
     ]
    },
    {
     "name": "stdout",
     "output_type": "stream",
     "text": [
      "Extracting EDF parameters from C:\\Users\\mspla\\Documents\\repos\\py_basic_310_Au24\\seizurePy3.9\\data\\raw_data\\chb-mit-scalp-eeg-database-1.0.0\\chb14\\chb14_24.edf...\n",
      "EDF file detected\n",
      "Setting channel info structure...\n",
      "Creating raw.info structure...\n",
      "Reading 0 ... 921599  =      0.000 ...  3599.996 secs...\n"
     ]
    },
    {
     "name": "stderr",
     "output_type": "stream",
     "text": [
      "C:\\Users\\mspla\\AppData\\Local\\Temp\\ipykernel_12772\\2212051881.py:15: RuntimeWarning: Channel names are not unique, found duplicates for: {'-', 'T8-P8'}. Applying running numbers for duplicates.\n",
      "  edf_data = mne.io.read_raw_edf(file, preload=True)\n",
      "C:\\Users\\mspla\\AppData\\Local\\Temp\\ipykernel_12772\\2212051881.py:15: RuntimeWarning: Scaling factor is not defined in following channels:\n",
      "--0, --1, --2, --3, --4\n",
      "  edf_data = mne.io.read_raw_edf(file, preload=True)\n"
     ]
    },
    {
     "name": "stdout",
     "output_type": "stream",
     "text": [
      "Extracting EDF parameters from C:\\Users\\mspla\\Documents\\repos\\py_basic_310_Au24\\seizurePy3.9\\data\\raw_data\\chb-mit-scalp-eeg-database-1.0.0\\chb14\\chb14_25.edf...\n",
      "EDF file detected\n",
      "Setting channel info structure...\n",
      "Creating raw.info structure...\n",
      "Reading 0 ... 921599  =      0.000 ...  3599.996 secs...\n"
     ]
    },
    {
     "name": "stderr",
     "output_type": "stream",
     "text": [
      "C:\\Users\\mspla\\AppData\\Local\\Temp\\ipykernel_12772\\2212051881.py:15: RuntimeWarning: Channel names are not unique, found duplicates for: {'-', 'T8-P8'}. Applying running numbers for duplicates.\n",
      "  edf_data = mne.io.read_raw_edf(file, preload=True)\n",
      "C:\\Users\\mspla\\AppData\\Local\\Temp\\ipykernel_12772\\2212051881.py:15: RuntimeWarning: Scaling factor is not defined in following channels:\n",
      "--0, --1, --2, --3, --4\n",
      "  edf_data = mne.io.read_raw_edf(file, preload=True)\n"
     ]
    },
    {
     "name": "stdout",
     "output_type": "stream",
     "text": [
      "Extracting EDF parameters from C:\\Users\\mspla\\Documents\\repos\\py_basic_310_Au24\\seizurePy3.9\\data\\raw_data\\chb-mit-scalp-eeg-database-1.0.0\\chb14\\chb14_26.edf...\n",
      "EDF file detected\n",
      "Setting channel info structure...\n",
      "Creating raw.info structure...\n",
      "Reading 0 ... 921599  =      0.000 ...  3599.996 secs...\n"
     ]
    },
    {
     "name": "stderr",
     "output_type": "stream",
     "text": [
      "C:\\Users\\mspla\\AppData\\Local\\Temp\\ipykernel_12772\\2212051881.py:15: RuntimeWarning: Channel names are not unique, found duplicates for: {'-', 'T8-P8'}. Applying running numbers for duplicates.\n",
      "  edf_data = mne.io.read_raw_edf(file, preload=True)\n",
      "C:\\Users\\mspla\\AppData\\Local\\Temp\\ipykernel_12772\\2212051881.py:15: RuntimeWarning: Scaling factor is not defined in following channels:\n",
      "--0, --1, --2, --3, --4\n",
      "  edf_data = mne.io.read_raw_edf(file, preload=True)\n"
     ]
    },
    {
     "name": "stdout",
     "output_type": "stream",
     "text": [
      "Extracting EDF parameters from C:\\Users\\mspla\\Documents\\repos\\py_basic_310_Au24\\seizurePy3.9\\data\\raw_data\\chb-mit-scalp-eeg-database-1.0.0\\chb14\\chb14_27.edf...\n",
      "EDF file detected\n",
      "Setting channel info structure...\n",
      "Creating raw.info structure...\n",
      "Reading 0 ... 921599  =      0.000 ...  3599.996 secs...\n"
     ]
    },
    {
     "name": "stderr",
     "output_type": "stream",
     "text": [
      "C:\\Users\\mspla\\AppData\\Local\\Temp\\ipykernel_12772\\2212051881.py:15: RuntimeWarning: Channel names are not unique, found duplicates for: {'-', 'T8-P8'}. Applying running numbers for duplicates.\n",
      "  edf_data = mne.io.read_raw_edf(file, preload=True)\n",
      "C:\\Users\\mspla\\AppData\\Local\\Temp\\ipykernel_12772\\2212051881.py:15: RuntimeWarning: Scaling factor is not defined in following channels:\n",
      "--0, --1, --2, --3, --4\n",
      "  edf_data = mne.io.read_raw_edf(file, preload=True)\n"
     ]
    },
    {
     "name": "stdout",
     "output_type": "stream",
     "text": [
      "Extracting EDF parameters from C:\\Users\\mspla\\Documents\\repos\\py_basic_310_Au24\\seizurePy3.9\\data\\raw_data\\chb-mit-scalp-eeg-database-1.0.0\\chb14\\chb14_29.edf...\n",
      "EDF file detected\n",
      "Setting channel info structure...\n",
      "Creating raw.info structure...\n",
      "Reading 0 ... 921599  =      0.000 ...  3599.996 secs...\n"
     ]
    },
    {
     "name": "stderr",
     "output_type": "stream",
     "text": [
      "C:\\Users\\mspla\\AppData\\Local\\Temp\\ipykernel_12772\\2212051881.py:15: RuntimeWarning: Channel names are not unique, found duplicates for: {'-', 'T8-P8'}. Applying running numbers for duplicates.\n",
      "  edf_data = mne.io.read_raw_edf(file, preload=True)\n",
      "C:\\Users\\mspla\\AppData\\Local\\Temp\\ipykernel_12772\\2212051881.py:15: RuntimeWarning: Scaling factor is not defined in following channels:\n",
      "--0, --1, --2, --3, --4\n",
      "  edf_data = mne.io.read_raw_edf(file, preload=True)\n"
     ]
    },
    {
     "name": "stdout",
     "output_type": "stream",
     "text": [
      "Extracting EDF parameters from C:\\Users\\mspla\\Documents\\repos\\py_basic_310_Au24\\seizurePy3.9\\data\\raw_data\\chb-mit-scalp-eeg-database-1.0.0\\chb14\\chb14_30.edf...\n",
      "EDF file detected\n",
      "Setting channel info structure...\n",
      "Creating raw.info structure...\n",
      "Reading 0 ... 921599  =      0.000 ...  3599.996 secs...\n"
     ]
    },
    {
     "name": "stderr",
     "output_type": "stream",
     "text": [
      "C:\\Users\\mspla\\AppData\\Local\\Temp\\ipykernel_12772\\2212051881.py:15: RuntimeWarning: Channel names are not unique, found duplicates for: {'-', 'T8-P8'}. Applying running numbers for duplicates.\n",
      "  edf_data = mne.io.read_raw_edf(file, preload=True)\n",
      "C:\\Users\\mspla\\AppData\\Local\\Temp\\ipykernel_12772\\2212051881.py:15: RuntimeWarning: Scaling factor is not defined in following channels:\n",
      "--0, --1, --2, --3, --4\n",
      "  edf_data = mne.io.read_raw_edf(file, preload=True)\n"
     ]
    },
    {
     "name": "stdout",
     "output_type": "stream",
     "text": [
      "Extracting EDF parameters from C:\\Users\\mspla\\Documents\\repos\\py_basic_310_Au24\\seizurePy3.9\\data\\raw_data\\chb-mit-scalp-eeg-database-1.0.0\\chb14\\chb14_32.edf...\n",
      "EDF file detected\n",
      "Setting channel info structure...\n",
      "Creating raw.info structure...\n",
      "Reading 0 ... 921599  =      0.000 ...  3599.996 secs...\n"
     ]
    },
    {
     "name": "stderr",
     "output_type": "stream",
     "text": [
      "C:\\Users\\mspla\\AppData\\Local\\Temp\\ipykernel_12772\\2212051881.py:15: RuntimeWarning: Channel names are not unique, found duplicates for: {'-', 'T8-P8'}. Applying running numbers for duplicates.\n",
      "  edf_data = mne.io.read_raw_edf(file, preload=True)\n",
      "C:\\Users\\mspla\\AppData\\Local\\Temp\\ipykernel_12772\\2212051881.py:15: RuntimeWarning: Scaling factor is not defined in following channels:\n",
      "--0, --1, --2, --3, --4\n",
      "  edf_data = mne.io.read_raw_edf(file, preload=True)\n"
     ]
    },
    {
     "name": "stdout",
     "output_type": "stream",
     "text": [
      "Extracting EDF parameters from C:\\Users\\mspla\\Documents\\repos\\py_basic_310_Au24\\seizurePy3.9\\data\\raw_data\\chb-mit-scalp-eeg-database-1.0.0\\chb14\\chb14_37.edf...\n",
      "EDF file detected\n",
      "Setting channel info structure...\n",
      "Creating raw.info structure...\n",
      "Reading 0 ... 921599  =      0.000 ...  3599.996 secs...\n"
     ]
    },
    {
     "name": "stderr",
     "output_type": "stream",
     "text": [
      "C:\\Users\\mspla\\AppData\\Local\\Temp\\ipykernel_12772\\2212051881.py:15: RuntimeWarning: Channel names are not unique, found duplicates for: {'-', 'T8-P8'}. Applying running numbers for duplicates.\n",
      "  edf_data = mne.io.read_raw_edf(file, preload=True)\n",
      "C:\\Users\\mspla\\AppData\\Local\\Temp\\ipykernel_12772\\2212051881.py:15: RuntimeWarning: Scaling factor is not defined in following channels:\n",
      "--0, --1, --2, --3, --4\n",
      "  edf_data = mne.io.read_raw_edf(file, preload=True)\n"
     ]
    },
    {
     "name": "stdout",
     "output_type": "stream",
     "text": [
      "Extracting EDF parameters from C:\\Users\\mspla\\Documents\\repos\\py_basic_310_Au24\\seizurePy3.9\\data\\raw_data\\chb-mit-scalp-eeg-database-1.0.0\\chb14\\chb14_39.edf...\n",
      "EDF file detected\n",
      "Setting channel info structure...\n",
      "Creating raw.info structure...\n",
      "Reading 0 ... 921599  =      0.000 ...  3599.996 secs...\n"
     ]
    },
    {
     "name": "stderr",
     "output_type": "stream",
     "text": [
      "C:\\Users\\mspla\\AppData\\Local\\Temp\\ipykernel_12772\\2212051881.py:15: RuntimeWarning: Channel names are not unique, found duplicates for: {'-', 'T8-P8'}. Applying running numbers for duplicates.\n",
      "  edf_data = mne.io.read_raw_edf(file, preload=True)\n",
      "C:\\Users\\mspla\\AppData\\Local\\Temp\\ipykernel_12772\\2212051881.py:15: RuntimeWarning: Scaling factor is not defined in following channels:\n",
      "--0, --1, --2, --3, --4\n",
      "  edf_data = mne.io.read_raw_edf(file, preload=True)\n"
     ]
    },
    {
     "name": "stdout",
     "output_type": "stream",
     "text": [
      "Extracting EDF parameters from C:\\Users\\mspla\\Documents\\repos\\py_basic_310_Au24\\seizurePy3.9\\data\\raw_data\\chb-mit-scalp-eeg-database-1.0.0\\chb14\\chb14_42.edf...\n",
      "EDF file detected\n",
      "Setting channel info structure...\n",
      "Creating raw.info structure...\n",
      "Reading 0 ... 921599  =      0.000 ...  3599.996 secs...\n"
     ]
    },
    {
     "name": "stderr",
     "output_type": "stream",
     "text": [
      "C:\\Users\\mspla\\AppData\\Local\\Temp\\ipykernel_12772\\2212051881.py:15: RuntimeWarning: Channel names are not unique, found duplicates for: {'-', 'T8-P8'}. Applying running numbers for duplicates.\n",
      "  edf_data = mne.io.read_raw_edf(file, preload=True)\n",
      "C:\\Users\\mspla\\AppData\\Local\\Temp\\ipykernel_12772\\2212051881.py:15: RuntimeWarning: Scaling factor is not defined in following channels:\n",
      "--0, --1, --2, --3, --4\n",
      "  edf_data = mne.io.read_raw_edf(file, preload=True)\n"
     ]
    },
    {
     "name": "stdout",
     "output_type": "stream",
     "text": [
      "Extracting EDF parameters from C:\\Users\\mspla\\Documents\\repos\\py_basic_310_Au24\\seizurePy3.9\\data\\raw_data\\chb-mit-scalp-eeg-database-1.0.0\\chb15\\chb15_01.edf...\n",
      "EDF file detected\n",
      "Setting channel info structure...\n",
      "Creating raw.info structure...\n",
      "Reading 0 ... 922111  =      0.000 ...  3601.996 secs...\n"
     ]
    },
    {
     "name": "stderr",
     "output_type": "stream",
     "text": [
      "C:\\Users\\mspla\\AppData\\Local\\Temp\\ipykernel_12772\\2212051881.py:15: RuntimeWarning: Channel names are not unique, found duplicates for: {'-'}. Applying running numbers for duplicates.\n",
      "  edf_data = mne.io.read_raw_edf(file, preload=True)\n",
      "C:\\Users\\mspla\\AppData\\Local\\Temp\\ipykernel_12772\\2212051881.py:15: RuntimeWarning: Scaling factor is not defined in following channels:\n",
      "--0, --1, --2, --3, --4\n",
      "  edf_data = mne.io.read_raw_edf(file, preload=True)\n"
     ]
    },
    {
     "name": "stdout",
     "output_type": "stream",
     "text": [
      "Extracting EDF parameters from C:\\Users\\mspla\\Documents\\repos\\py_basic_310_Au24\\seizurePy3.9\\data\\raw_data\\chb-mit-scalp-eeg-database-1.0.0\\chb15\\chb15_02.edf...\n",
      "EDF file detected\n",
      "Setting channel info structure...\n",
      "Creating raw.info structure...\n",
      "Reading 0 ... 921599  =      0.000 ...  3599.996 secs...\n"
     ]
    },
    {
     "name": "stderr",
     "output_type": "stream",
     "text": [
      "C:\\Users\\mspla\\AppData\\Local\\Temp\\ipykernel_12772\\2212051881.py:15: RuntimeWarning: Channel names are not unique, found duplicates for: {'-', 'T8-P8'}. Applying running numbers for duplicates.\n",
      "  edf_data = mne.io.read_raw_edf(file, preload=True)\n",
      "C:\\Users\\mspla\\AppData\\Local\\Temp\\ipykernel_12772\\2212051881.py:15: RuntimeWarning: Scaling factor is not defined in following channels:\n",
      "--0, --1, --2, --3, --4, --5\n",
      "  edf_data = mne.io.read_raw_edf(file, preload=True)\n"
     ]
    },
    {
     "name": "stdout",
     "output_type": "stream",
     "text": [
      "Extracting EDF parameters from C:\\Users\\mspla\\Documents\\repos\\py_basic_310_Au24\\seizurePy3.9\\data\\raw_data\\chb-mit-scalp-eeg-database-1.0.0\\chb15\\chb15_03.edf...\n",
      "EDF file detected\n",
      "Setting channel info structure...\n",
      "Creating raw.info structure...\n",
      "Reading 0 ... 921599  =      0.000 ...  3599.996 secs...\n"
     ]
    },
    {
     "name": "stderr",
     "output_type": "stream",
     "text": [
      "C:\\Users\\mspla\\AppData\\Local\\Temp\\ipykernel_12772\\2212051881.py:15: RuntimeWarning: Channel names are not unique, found duplicates for: {'-', 'T8-P8'}. Applying running numbers for duplicates.\n",
      "  edf_data = mne.io.read_raw_edf(file, preload=True)\n",
      "C:\\Users\\mspla\\AppData\\Local\\Temp\\ipykernel_12772\\2212051881.py:15: RuntimeWarning: Scaling factor is not defined in following channels:\n",
      "--0, --1, --2, --3, --4, --5\n",
      "  edf_data = mne.io.read_raw_edf(file, preload=True)\n"
     ]
    },
    {
     "name": "stdout",
     "output_type": "stream",
     "text": [
      "Extracting EDF parameters from C:\\Users\\mspla\\Documents\\repos\\py_basic_310_Au24\\seizurePy3.9\\data\\raw_data\\chb-mit-scalp-eeg-database-1.0.0\\chb15\\chb15_04.edf...\n",
      "EDF file detected\n",
      "Setting channel info structure...\n",
      "Creating raw.info structure...\n",
      "Reading 0 ... 921599  =      0.000 ...  3599.996 secs...\n"
     ]
    },
    {
     "name": "stderr",
     "output_type": "stream",
     "text": [
      "C:\\Users\\mspla\\AppData\\Local\\Temp\\ipykernel_12772\\2212051881.py:15: RuntimeWarning: Channel names are not unique, found duplicates for: {'-', 'T8-P8'}. Applying running numbers for duplicates.\n",
      "  edf_data = mne.io.read_raw_edf(file, preload=True)\n",
      "C:\\Users\\mspla\\AppData\\Local\\Temp\\ipykernel_12772\\2212051881.py:15: RuntimeWarning: Scaling factor is not defined in following channels:\n",
      "--0, --1, --2, --3, --4, --5\n",
      "  edf_data = mne.io.read_raw_edf(file, preload=True)\n"
     ]
    },
    {
     "name": "stdout",
     "output_type": "stream",
     "text": [
      "Extracting EDF parameters from C:\\Users\\mspla\\Documents\\repos\\py_basic_310_Au24\\seizurePy3.9\\data\\raw_data\\chb-mit-scalp-eeg-database-1.0.0\\chb15\\chb15_05.edf...\n",
      "EDF file detected\n",
      "Setting channel info structure...\n",
      "Creating raw.info structure...\n",
      "Reading 0 ... 921599  =      0.000 ...  3599.996 secs...\n"
     ]
    },
    {
     "name": "stderr",
     "output_type": "stream",
     "text": [
      "C:\\Users\\mspla\\AppData\\Local\\Temp\\ipykernel_12772\\2212051881.py:15: RuntimeWarning: Channel names are not unique, found duplicates for: {'-', 'T8-P8'}. Applying running numbers for duplicates.\n",
      "  edf_data = mne.io.read_raw_edf(file, preload=True)\n",
      "C:\\Users\\mspla\\AppData\\Local\\Temp\\ipykernel_12772\\2212051881.py:15: RuntimeWarning: Scaling factor is not defined in following channels:\n",
      "--0, --1, --2, --3, --4, --5\n",
      "  edf_data = mne.io.read_raw_edf(file, preload=True)\n"
     ]
    },
    {
     "name": "stdout",
     "output_type": "stream",
     "text": [
      "Extracting EDF parameters from C:\\Users\\mspla\\Documents\\repos\\py_basic_310_Au24\\seizurePy3.9\\data\\raw_data\\chb-mit-scalp-eeg-database-1.0.0\\chb15\\chb15_06.edf...\n",
      "EDF file detected\n",
      "Setting channel info structure...\n",
      "Creating raw.info structure...\n",
      "Reading 0 ... 921599  =      0.000 ...  3599.996 secs...\n"
     ]
    },
    {
     "name": "stderr",
     "output_type": "stream",
     "text": [
      "C:\\Users\\mspla\\AppData\\Local\\Temp\\ipykernel_12772\\2212051881.py:15: RuntimeWarning: Channel names are not unique, found duplicates for: {'-', 'T8-P8'}. Applying running numbers for duplicates.\n",
      "  edf_data = mne.io.read_raw_edf(file, preload=True)\n",
      "C:\\Users\\mspla\\AppData\\Local\\Temp\\ipykernel_12772\\2212051881.py:15: RuntimeWarning: Scaling factor is not defined in following channels:\n",
      "--0, --1, --2, --3, --4, --5\n",
      "  edf_data = mne.io.read_raw_edf(file, preload=True)\n"
     ]
    },
    {
     "name": "stdout",
     "output_type": "stream",
     "text": [
      "Extracting EDF parameters from C:\\Users\\mspla\\Documents\\repos\\py_basic_310_Au24\\seizurePy3.9\\data\\raw_data\\chb-mit-scalp-eeg-database-1.0.0\\chb15\\chb15_07.edf...\n",
      "EDF file detected\n",
      "Setting channel info structure...\n",
      "Creating raw.info structure...\n",
      "Reading 0 ... 921599  =      0.000 ...  3599.996 secs...\n"
     ]
    },
    {
     "name": "stderr",
     "output_type": "stream",
     "text": [
      "C:\\Users\\mspla\\AppData\\Local\\Temp\\ipykernel_12772\\2212051881.py:15: RuntimeWarning: Channel names are not unique, found duplicates for: {'-', 'T8-P8'}. Applying running numbers for duplicates.\n",
      "  edf_data = mne.io.read_raw_edf(file, preload=True)\n",
      "C:\\Users\\mspla\\AppData\\Local\\Temp\\ipykernel_12772\\2212051881.py:15: RuntimeWarning: Scaling factor is not defined in following channels:\n",
      "--0, --1, --2, --3, --4, --5\n",
      "  edf_data = mne.io.read_raw_edf(file, preload=True)\n"
     ]
    },
    {
     "name": "stdout",
     "output_type": "stream",
     "text": [
      "Extracting EDF parameters from C:\\Users\\mspla\\Documents\\repos\\py_basic_310_Au24\\seizurePy3.9\\data\\raw_data\\chb-mit-scalp-eeg-database-1.0.0\\chb15\\chb15_08.edf...\n",
      "EDF file detected\n",
      "Setting channel info structure...\n",
      "Creating raw.info structure...\n",
      "Reading 0 ... 921599  =      0.000 ...  3599.996 secs...\n"
     ]
    },
    {
     "name": "stderr",
     "output_type": "stream",
     "text": [
      "C:\\Users\\mspla\\AppData\\Local\\Temp\\ipykernel_12772\\2212051881.py:15: RuntimeWarning: Channel names are not unique, found duplicates for: {'-', 'T8-P8'}. Applying running numbers for duplicates.\n",
      "  edf_data = mne.io.read_raw_edf(file, preload=True)\n",
      "C:\\Users\\mspla\\AppData\\Local\\Temp\\ipykernel_12772\\2212051881.py:15: RuntimeWarning: Scaling factor is not defined in following channels:\n",
      "--0, --1, --2, --3, --4, --5\n",
      "  edf_data = mne.io.read_raw_edf(file, preload=True)\n"
     ]
    },
    {
     "name": "stdout",
     "output_type": "stream",
     "text": [
      "Extracting EDF parameters from C:\\Users\\mspla\\Documents\\repos\\py_basic_310_Au24\\seizurePy3.9\\data\\raw_data\\chb-mit-scalp-eeg-database-1.0.0\\chb15\\chb15_09.edf...\n",
      "EDF file detected\n",
      "Setting channel info structure...\n",
      "Creating raw.info structure...\n",
      "Reading 0 ... 921599  =      0.000 ...  3599.996 secs...\n"
     ]
    },
    {
     "name": "stderr",
     "output_type": "stream",
     "text": [
      "C:\\Users\\mspla\\AppData\\Local\\Temp\\ipykernel_12772\\2212051881.py:15: RuntimeWarning: Channel names are not unique, found duplicates for: {'-', 'T8-P8'}. Applying running numbers for duplicates.\n",
      "  edf_data = mne.io.read_raw_edf(file, preload=True)\n",
      "C:\\Users\\mspla\\AppData\\Local\\Temp\\ipykernel_12772\\2212051881.py:15: RuntimeWarning: Scaling factor is not defined in following channels:\n",
      "--0, --1, --2, --3, --4, --5\n",
      "  edf_data = mne.io.read_raw_edf(file, preload=True)\n"
     ]
    },
    {
     "name": "stdout",
     "output_type": "stream",
     "text": [
      "Extracting EDF parameters from C:\\Users\\mspla\\Documents\\repos\\py_basic_310_Au24\\seizurePy3.9\\data\\raw_data\\chb-mit-scalp-eeg-database-1.0.0\\chb15\\chb15_10.edf...\n",
      "EDF file detected\n",
      "Setting channel info structure...\n",
      "Creating raw.info structure...\n",
      "Reading 0 ... 921599  =      0.000 ...  3599.996 secs...\n"
     ]
    },
    {
     "name": "stderr",
     "output_type": "stream",
     "text": [
      "C:\\Users\\mspla\\AppData\\Local\\Temp\\ipykernel_12772\\2212051881.py:15: RuntimeWarning: Channel names are not unique, found duplicates for: {'-', 'T8-P8'}. Applying running numbers for duplicates.\n",
      "  edf_data = mne.io.read_raw_edf(file, preload=True)\n",
      "C:\\Users\\mspla\\AppData\\Local\\Temp\\ipykernel_12772\\2212051881.py:15: RuntimeWarning: Scaling factor is not defined in following channels:\n",
      "--0, --1, --2, --3, --4, --5\n",
      "  edf_data = mne.io.read_raw_edf(file, preload=True)\n"
     ]
    },
    {
     "name": "stdout",
     "output_type": "stream",
     "text": [
      "Extracting EDF parameters from C:\\Users\\mspla\\Documents\\repos\\py_basic_310_Au24\\seizurePy3.9\\data\\raw_data\\chb-mit-scalp-eeg-database-1.0.0\\chb15\\chb15_11.edf...\n",
      "EDF file detected\n",
      "Setting channel info structure...\n",
      "Creating raw.info structure...\n",
      "Reading 0 ... 921599  =      0.000 ...  3599.996 secs...\n"
     ]
    },
    {
     "name": "stderr",
     "output_type": "stream",
     "text": [
      "C:\\Users\\mspla\\AppData\\Local\\Temp\\ipykernel_12772\\2212051881.py:15: RuntimeWarning: Channel names are not unique, found duplicates for: {'-', 'T8-P8'}. Applying running numbers for duplicates.\n",
      "  edf_data = mne.io.read_raw_edf(file, preload=True)\n",
      "C:\\Users\\mspla\\AppData\\Local\\Temp\\ipykernel_12772\\2212051881.py:15: RuntimeWarning: Scaling factor is not defined in following channels:\n",
      "--0, --1, --2, --3, --4, --5\n",
      "  edf_data = mne.io.read_raw_edf(file, preload=True)\n"
     ]
    },
    {
     "name": "stdout",
     "output_type": "stream",
     "text": [
      "Extracting EDF parameters from C:\\Users\\mspla\\Documents\\repos\\py_basic_310_Au24\\seizurePy3.9\\data\\raw_data\\chb-mit-scalp-eeg-database-1.0.0\\chb15\\chb15_12.edf...\n",
      "EDF file detected\n",
      "Setting channel info structure...\n",
      "Creating raw.info structure...\n",
      "Reading 0 ... 921599  =      0.000 ...  3599.996 secs...\n"
     ]
    },
    {
     "name": "stderr",
     "output_type": "stream",
     "text": [
      "C:\\Users\\mspla\\AppData\\Local\\Temp\\ipykernel_12772\\2212051881.py:15: RuntimeWarning: Channel names are not unique, found duplicates for: {'-', 'T8-P8'}. Applying running numbers for duplicates.\n",
      "  edf_data = mne.io.read_raw_edf(file, preload=True)\n",
      "C:\\Users\\mspla\\AppData\\Local\\Temp\\ipykernel_12772\\2212051881.py:15: RuntimeWarning: Scaling factor is not defined in following channels:\n",
      "--0, --1, --2, --3, --4, --5\n",
      "  edf_data = mne.io.read_raw_edf(file, preload=True)\n"
     ]
    },
    {
     "name": "stdout",
     "output_type": "stream",
     "text": [
      "Extracting EDF parameters from C:\\Users\\mspla\\Documents\\repos\\py_basic_310_Au24\\seizurePy3.9\\data\\raw_data\\chb-mit-scalp-eeg-database-1.0.0\\chb15\\chb15_13.edf...\n",
      "EDF file detected\n",
      "Setting channel info structure...\n",
      "Creating raw.info structure...\n",
      "Reading 0 ... 921599  =      0.000 ...  3599.996 secs...\n"
     ]
    },
    {
     "name": "stderr",
     "output_type": "stream",
     "text": [
      "C:\\Users\\mspla\\AppData\\Local\\Temp\\ipykernel_12772\\2212051881.py:15: RuntimeWarning: Channel names are not unique, found duplicates for: {'-', 'T8-P8'}. Applying running numbers for duplicates.\n",
      "  edf_data = mne.io.read_raw_edf(file, preload=True)\n",
      "C:\\Users\\mspla\\AppData\\Local\\Temp\\ipykernel_12772\\2212051881.py:15: RuntimeWarning: Scaling factor is not defined in following channels:\n",
      "--0, --1, --2, --3, --4, --5\n",
      "  edf_data = mne.io.read_raw_edf(file, preload=True)\n"
     ]
    },
    {
     "name": "stdout",
     "output_type": "stream",
     "text": [
      "Extracting EDF parameters from C:\\Users\\mspla\\Documents\\repos\\py_basic_310_Au24\\seizurePy3.9\\data\\raw_data\\chb-mit-scalp-eeg-database-1.0.0\\chb15\\chb15_14.edf...\n",
      "EDF file detected\n",
      "Setting channel info structure...\n",
      "Creating raw.info structure...\n",
      "Reading 0 ... 921599  =      0.000 ...  3599.996 secs...\n"
     ]
    },
    {
     "name": "stderr",
     "output_type": "stream",
     "text": [
      "C:\\Users\\mspla\\AppData\\Local\\Temp\\ipykernel_12772\\2212051881.py:15: RuntimeWarning: Channel names are not unique, found duplicates for: {'-', 'T8-P8'}. Applying running numbers for duplicates.\n",
      "  edf_data = mne.io.read_raw_edf(file, preload=True)\n",
      "C:\\Users\\mspla\\AppData\\Local\\Temp\\ipykernel_12772\\2212051881.py:15: RuntimeWarning: Scaling factor is not defined in following channels:\n",
      "--0, --1, --2, --3, --4, --5\n",
      "  edf_data = mne.io.read_raw_edf(file, preload=True)\n"
     ]
    },
    {
     "name": "stdout",
     "output_type": "stream",
     "text": [
      "Extracting EDF parameters from C:\\Users\\mspla\\Documents\\repos\\py_basic_310_Au24\\seizurePy3.9\\data\\raw_data\\chb-mit-scalp-eeg-database-1.0.0\\chb15\\chb15_15.edf...\n",
      "EDF file detected\n",
      "Setting channel info structure...\n",
      "Creating raw.info structure...\n",
      "Reading 0 ... 921599  =      0.000 ...  3599.996 secs...\n"
     ]
    },
    {
     "name": "stderr",
     "output_type": "stream",
     "text": [
      "C:\\Users\\mspla\\AppData\\Local\\Temp\\ipykernel_12772\\2212051881.py:15: RuntimeWarning: Channel names are not unique, found duplicates for: {'-', 'T8-P8'}. Applying running numbers for duplicates.\n",
      "  edf_data = mne.io.read_raw_edf(file, preload=True)\n",
      "C:\\Users\\mspla\\AppData\\Local\\Temp\\ipykernel_12772\\2212051881.py:15: RuntimeWarning: Scaling factor is not defined in following channels:\n",
      "--0, --1, --2, --3, --4, --5\n",
      "  edf_data = mne.io.read_raw_edf(file, preload=True)\n"
     ]
    },
    {
     "name": "stdout",
     "output_type": "stream",
     "text": [
      "Extracting EDF parameters from C:\\Users\\mspla\\Documents\\repos\\py_basic_310_Au24\\seizurePy3.9\\data\\raw_data\\chb-mit-scalp-eeg-database-1.0.0\\chb15\\chb15_16.edf...\n",
      "EDF file detected\n",
      "Setting channel info structure...\n",
      "Creating raw.info structure...\n",
      "Reading 0 ... 921599  =      0.000 ...  3599.996 secs...\n"
     ]
    },
    {
     "name": "stderr",
     "output_type": "stream",
     "text": [
      "C:\\Users\\mspla\\AppData\\Local\\Temp\\ipykernel_12772\\2212051881.py:15: RuntimeWarning: Channel names are not unique, found duplicates for: {'-', 'T8-P8'}. Applying running numbers for duplicates.\n",
      "  edf_data = mne.io.read_raw_edf(file, preload=True)\n",
      "C:\\Users\\mspla\\AppData\\Local\\Temp\\ipykernel_12772\\2212051881.py:15: RuntimeWarning: Scaling factor is not defined in following channels:\n",
      "--0, --1, --2, --3, --4, --5\n",
      "  edf_data = mne.io.read_raw_edf(file, preload=True)\n"
     ]
    },
    {
     "name": "stdout",
     "output_type": "stream",
     "text": [
      "Extracting EDF parameters from C:\\Users\\mspla\\Documents\\repos\\py_basic_310_Au24\\seizurePy3.9\\data\\raw_data\\chb-mit-scalp-eeg-database-1.0.0\\chb15\\chb15_17.edf...\n",
      "EDF file detected\n",
      "Setting channel info structure...\n",
      "Creating raw.info structure...\n",
      "Reading 0 ... 921599  =      0.000 ...  3599.996 secs...\n"
     ]
    },
    {
     "name": "stderr",
     "output_type": "stream",
     "text": [
      "C:\\Users\\mspla\\AppData\\Local\\Temp\\ipykernel_12772\\2212051881.py:15: RuntimeWarning: Channel names are not unique, found duplicates for: {'-', 'T8-P8'}. Applying running numbers for duplicates.\n",
      "  edf_data = mne.io.read_raw_edf(file, preload=True)\n",
      "C:\\Users\\mspla\\AppData\\Local\\Temp\\ipykernel_12772\\2212051881.py:15: RuntimeWarning: Scaling factor is not defined in following channels:\n",
      "--0, --1, --2, --3, --4, --5\n",
      "  edf_data = mne.io.read_raw_edf(file, preload=True)\n"
     ]
    },
    {
     "name": "stdout",
     "output_type": "stream",
     "text": [
      "Extracting EDF parameters from C:\\Users\\mspla\\Documents\\repos\\py_basic_310_Au24\\seizurePy3.9\\data\\raw_data\\chb-mit-scalp-eeg-database-1.0.0\\chb15\\chb15_19.edf...\n",
      "EDF file detected\n",
      "Setting channel info structure...\n",
      "Creating raw.info structure...\n",
      "Reading 0 ... 921599  =      0.000 ...  3599.996 secs...\n"
     ]
    },
    {
     "name": "stderr",
     "output_type": "stream",
     "text": [
      "C:\\Users\\mspla\\AppData\\Local\\Temp\\ipykernel_12772\\2212051881.py:15: RuntimeWarning: Channel names are not unique, found duplicates for: {'-', 'T8-P8'}. Applying running numbers for duplicates.\n",
      "  edf_data = mne.io.read_raw_edf(file, preload=True)\n",
      "C:\\Users\\mspla\\AppData\\Local\\Temp\\ipykernel_12772\\2212051881.py:15: RuntimeWarning: Scaling factor is not defined in following channels:\n",
      "--0, --1, --2, --3, --4, --5\n",
      "  edf_data = mne.io.read_raw_edf(file, preload=True)\n"
     ]
    },
    {
     "name": "stdout",
     "output_type": "stream",
     "text": [
      "Extracting EDF parameters from C:\\Users\\mspla\\Documents\\repos\\py_basic_310_Au24\\seizurePy3.9\\data\\raw_data\\chb-mit-scalp-eeg-database-1.0.0\\chb15\\chb15_20.edf...\n",
      "EDF file detected\n",
      "Setting channel info structure...\n",
      "Creating raw.info structure...\n",
      "Reading 0 ... 921599  =      0.000 ...  3599.996 secs...\n"
     ]
    },
    {
     "name": "stderr",
     "output_type": "stream",
     "text": [
      "C:\\Users\\mspla\\AppData\\Local\\Temp\\ipykernel_12772\\2212051881.py:15: RuntimeWarning: Channel names are not unique, found duplicates for: {'-', 'T8-P8'}. Applying running numbers for duplicates.\n",
      "  edf_data = mne.io.read_raw_edf(file, preload=True)\n",
      "C:\\Users\\mspla\\AppData\\Local\\Temp\\ipykernel_12772\\2212051881.py:15: RuntimeWarning: Scaling factor is not defined in following channels:\n",
      "--0, --1, --2, --3, --4, --5\n",
      "  edf_data = mne.io.read_raw_edf(file, preload=True)\n"
     ]
    },
    {
     "name": "stdout",
     "output_type": "stream",
     "text": [
      "Extracting EDF parameters from C:\\Users\\mspla\\Documents\\repos\\py_basic_310_Au24\\seizurePy3.9\\data\\raw_data\\chb-mit-scalp-eeg-database-1.0.0\\chb15\\chb15_22.edf...\n",
      "EDF file detected\n",
      "Setting channel info structure...\n",
      "Creating raw.info structure...\n",
      "Reading 0 ... 921599  =      0.000 ...  3599.996 secs...\n"
     ]
    },
    {
     "name": "stderr",
     "output_type": "stream",
     "text": [
      "C:\\Users\\mspla\\AppData\\Local\\Temp\\ipykernel_12772\\2212051881.py:15: RuntimeWarning: Channel names are not unique, found duplicates for: {'-', 'T8-P8'}. Applying running numbers for duplicates.\n",
      "  edf_data = mne.io.read_raw_edf(file, preload=True)\n",
      "C:\\Users\\mspla\\AppData\\Local\\Temp\\ipykernel_12772\\2212051881.py:15: RuntimeWarning: Scaling factor is not defined in following channels:\n",
      "--0, --1, --2, --3, --4, --5\n",
      "  edf_data = mne.io.read_raw_edf(file, preload=True)\n"
     ]
    },
    {
     "name": "stdout",
     "output_type": "stream",
     "text": [
      "Extracting EDF parameters from C:\\Users\\mspla\\Documents\\repos\\py_basic_310_Au24\\seizurePy3.9\\data\\raw_data\\chb-mit-scalp-eeg-database-1.0.0\\chb15\\chb15_26.edf...\n",
      "EDF file detected\n",
      "Setting channel info structure...\n",
      "Creating raw.info structure...\n",
      "Reading 0 ... 921599  =      0.000 ...  3599.996 secs...\n"
     ]
    },
    {
     "name": "stderr",
     "output_type": "stream",
     "text": [
      "C:\\Users\\mspla\\AppData\\Local\\Temp\\ipykernel_12772\\2212051881.py:15: RuntimeWarning: Channel names are not unique, found duplicates for: {'-', 'T8-P8'}. Applying running numbers for duplicates.\n",
      "  edf_data = mne.io.read_raw_edf(file, preload=True)\n",
      "C:\\Users\\mspla\\AppData\\Local\\Temp\\ipykernel_12772\\2212051881.py:15: RuntimeWarning: Scaling factor is not defined in following channels:\n",
      "--0, --1, --2, --3, --4, --5\n",
      "  edf_data = mne.io.read_raw_edf(file, preload=True)\n"
     ]
    },
    {
     "name": "stdout",
     "output_type": "stream",
     "text": [
      "Extracting EDF parameters from C:\\Users\\mspla\\Documents\\repos\\py_basic_310_Au24\\seizurePy3.9\\data\\raw_data\\chb-mit-scalp-eeg-database-1.0.0\\chb15\\chb15_28.edf...\n",
      "EDF file detected\n",
      "Setting channel info structure...\n",
      "Creating raw.info structure...\n",
      "Reading 0 ... 921599  =      0.000 ...  3599.996 secs...\n"
     ]
    },
    {
     "name": "stderr",
     "output_type": "stream",
     "text": [
      "C:\\Users\\mspla\\AppData\\Local\\Temp\\ipykernel_12772\\2212051881.py:15: RuntimeWarning: Channel names are not unique, found duplicates for: {'-', 'T8-P8'}. Applying running numbers for duplicates.\n",
      "  edf_data = mne.io.read_raw_edf(file, preload=True)\n",
      "C:\\Users\\mspla\\AppData\\Local\\Temp\\ipykernel_12772\\2212051881.py:15: RuntimeWarning: Scaling factor is not defined in following channels:\n",
      "--0, --1, --2, --3, --4, --5\n",
      "  edf_data = mne.io.read_raw_edf(file, preload=True)\n"
     ]
    },
    {
     "name": "stdout",
     "output_type": "stream",
     "text": [
      "Extracting EDF parameters from C:\\Users\\mspla\\Documents\\repos\\py_basic_310_Au24\\seizurePy3.9\\data\\raw_data\\chb-mit-scalp-eeg-database-1.0.0\\chb15\\chb15_29.edf...\n",
      "EDF file detected\n",
      "Setting channel info structure...\n",
      "Creating raw.info structure...\n",
      "Reading 0 ... 921599  =      0.000 ...  3599.996 secs...\n"
     ]
    },
    {
     "name": "stderr",
     "output_type": "stream",
     "text": [
      "C:\\Users\\mspla\\AppData\\Local\\Temp\\ipykernel_12772\\2212051881.py:15: RuntimeWarning: Channel names are not unique, found duplicates for: {'-', 'T8-P8'}. Applying running numbers for duplicates.\n",
      "  edf_data = mne.io.read_raw_edf(file, preload=True)\n",
      "C:\\Users\\mspla\\AppData\\Local\\Temp\\ipykernel_12772\\2212051881.py:15: RuntimeWarning: Scaling factor is not defined in following channels:\n",
      "--0, --1, --2, --3, --4, --5\n",
      "  edf_data = mne.io.read_raw_edf(file, preload=True)\n"
     ]
    },
    {
     "name": "stdout",
     "output_type": "stream",
     "text": [
      "Extracting EDF parameters from C:\\Users\\mspla\\Documents\\repos\\py_basic_310_Au24\\seizurePy3.9\\data\\raw_data\\chb-mit-scalp-eeg-database-1.0.0\\chb15\\chb15_30.edf...\n",
      "EDF file detected\n",
      "Setting channel info structure...\n",
      "Creating raw.info structure...\n",
      "Reading 0 ... 921599  =      0.000 ...  3599.996 secs...\n"
     ]
    },
    {
     "name": "stderr",
     "output_type": "stream",
     "text": [
      "C:\\Users\\mspla\\AppData\\Local\\Temp\\ipykernel_12772\\2212051881.py:15: RuntimeWarning: Channel names are not unique, found duplicates for: {'-', 'T8-P8'}. Applying running numbers for duplicates.\n",
      "  edf_data = mne.io.read_raw_edf(file, preload=True)\n",
      "C:\\Users\\mspla\\AppData\\Local\\Temp\\ipykernel_12772\\2212051881.py:15: RuntimeWarning: Scaling factor is not defined in following channels:\n",
      "--0, --1, --2, --3, --4, --5\n",
      "  edf_data = mne.io.read_raw_edf(file, preload=True)\n"
     ]
    },
    {
     "name": "stdout",
     "output_type": "stream",
     "text": [
      "Extracting EDF parameters from C:\\Users\\mspla\\Documents\\repos\\py_basic_310_Au24\\seizurePy3.9\\data\\raw_data\\chb-mit-scalp-eeg-database-1.0.0\\chb15\\chb15_31.edf...\n",
      "EDF file detected\n",
      "Setting channel info structure...\n",
      "Creating raw.info structure...\n",
      "Reading 0 ... 921599  =      0.000 ...  3599.996 secs...\n"
     ]
    },
    {
     "name": "stderr",
     "output_type": "stream",
     "text": [
      "C:\\Users\\mspla\\AppData\\Local\\Temp\\ipykernel_12772\\2212051881.py:15: RuntimeWarning: Channel names are not unique, found duplicates for: {'-', 'T8-P8'}. Applying running numbers for duplicates.\n",
      "  edf_data = mne.io.read_raw_edf(file, preload=True)\n",
      "C:\\Users\\mspla\\AppData\\Local\\Temp\\ipykernel_12772\\2212051881.py:15: RuntimeWarning: Scaling factor is not defined in following channels:\n",
      "--0, --1, --2, --3, --4, --5\n",
      "  edf_data = mne.io.read_raw_edf(file, preload=True)\n"
     ]
    },
    {
     "name": "stdout",
     "output_type": "stream",
     "text": [
      "Extracting EDF parameters from C:\\Users\\mspla\\Documents\\repos\\py_basic_310_Au24\\seizurePy3.9\\data\\raw_data\\chb-mit-scalp-eeg-database-1.0.0\\chb15\\chb15_32.edf...\n",
      "EDF file detected\n",
      "Setting channel info structure...\n",
      "Creating raw.info structure...\n",
      "Reading 0 ... 921599  =      0.000 ...  3599.996 secs...\n"
     ]
    },
    {
     "name": "stderr",
     "output_type": "stream",
     "text": [
      "C:\\Users\\mspla\\AppData\\Local\\Temp\\ipykernel_12772\\2212051881.py:15: RuntimeWarning: Channel names are not unique, found duplicates for: {'-', 'T8-P8'}. Applying running numbers for duplicates.\n",
      "  edf_data = mne.io.read_raw_edf(file, preload=True)\n",
      "C:\\Users\\mspla\\AppData\\Local\\Temp\\ipykernel_12772\\2212051881.py:15: RuntimeWarning: Scaling factor is not defined in following channels:\n",
      "--0, --1, --2, --3, --4, --5\n",
      "  edf_data = mne.io.read_raw_edf(file, preload=True)\n"
     ]
    },
    {
     "name": "stdout",
     "output_type": "stream",
     "text": [
      "Extracting EDF parameters from C:\\Users\\mspla\\Documents\\repos\\py_basic_310_Au24\\seizurePy3.9\\data\\raw_data\\chb-mit-scalp-eeg-database-1.0.0\\chb15\\chb15_33.edf...\n",
      "EDF file detected\n",
      "Setting channel info structure...\n",
      "Creating raw.info structure...\n",
      "Reading 0 ... 921599  =      0.000 ...  3599.996 secs...\n"
     ]
    },
    {
     "name": "stderr",
     "output_type": "stream",
     "text": [
      "C:\\Users\\mspla\\AppData\\Local\\Temp\\ipykernel_12772\\2212051881.py:15: RuntimeWarning: Channel names are not unique, found duplicates for: {'-', 'T8-P8'}. Applying running numbers for duplicates.\n",
      "  edf_data = mne.io.read_raw_edf(file, preload=True)\n",
      "C:\\Users\\mspla\\AppData\\Local\\Temp\\ipykernel_12772\\2212051881.py:15: RuntimeWarning: Scaling factor is not defined in following channels:\n",
      "--0, --1, --2, --3, --4, --5\n",
      "  edf_data = mne.io.read_raw_edf(file, preload=True)\n"
     ]
    },
    {
     "name": "stdout",
     "output_type": "stream",
     "text": [
      "Extracting EDF parameters from C:\\Users\\mspla\\Documents\\repos\\py_basic_310_Au24\\seizurePy3.9\\data\\raw_data\\chb-mit-scalp-eeg-database-1.0.0\\chb15\\chb15_35.edf...\n",
      "EDF file detected\n",
      "Setting channel info structure...\n",
      "Creating raw.info structure...\n",
      "Reading 0 ... 921599  =      0.000 ...  3599.996 secs...\n"
     ]
    },
    {
     "name": "stderr",
     "output_type": "stream",
     "text": [
      "C:\\Users\\mspla\\AppData\\Local\\Temp\\ipykernel_12772\\2212051881.py:15: RuntimeWarning: Channel names are not unique, found duplicates for: {'-', 'T8-P8'}. Applying running numbers for duplicates.\n",
      "  edf_data = mne.io.read_raw_edf(file, preload=True)\n",
      "C:\\Users\\mspla\\AppData\\Local\\Temp\\ipykernel_12772\\2212051881.py:15: RuntimeWarning: Scaling factor is not defined in following channels:\n",
      "--0, --1, --2, --3, --4, --5\n",
      "  edf_data = mne.io.read_raw_edf(file, preload=True)\n"
     ]
    },
    {
     "name": "stdout",
     "output_type": "stream",
     "text": [
      "Extracting EDF parameters from C:\\Users\\mspla\\Documents\\repos\\py_basic_310_Au24\\seizurePy3.9\\data\\raw_data\\chb-mit-scalp-eeg-database-1.0.0\\chb15\\chb15_37.edf...\n",
      "EDF file detected\n",
      "Setting channel info structure...\n",
      "Creating raw.info structure...\n",
      "Reading 0 ... 921599  =      0.000 ...  3599.996 secs...\n"
     ]
    },
    {
     "name": "stderr",
     "output_type": "stream",
     "text": [
      "C:\\Users\\mspla\\AppData\\Local\\Temp\\ipykernel_12772\\2212051881.py:15: RuntimeWarning: Channel names are not unique, found duplicates for: {'-', 'T8-P8'}. Applying running numbers for duplicates.\n",
      "  edf_data = mne.io.read_raw_edf(file, preload=True)\n",
      "C:\\Users\\mspla\\AppData\\Local\\Temp\\ipykernel_12772\\2212051881.py:15: RuntimeWarning: Scaling factor is not defined in following channels:\n",
      "--0, --1, --2, --3, --4, --5\n",
      "  edf_data = mne.io.read_raw_edf(file, preload=True)\n"
     ]
    },
    {
     "name": "stdout",
     "output_type": "stream",
     "text": [
      "Extracting EDF parameters from C:\\Users\\mspla\\Documents\\repos\\py_basic_310_Au24\\seizurePy3.9\\data\\raw_data\\chb-mit-scalp-eeg-database-1.0.0\\chb15\\chb15_40.edf...\n",
      "EDF file detected\n",
      "Setting channel info structure...\n",
      "Creating raw.info structure...\n",
      "Reading 0 ... 921599  =      0.000 ...  3599.996 secs...\n"
     ]
    },
    {
     "name": "stderr",
     "output_type": "stream",
     "text": [
      "C:\\Users\\mspla\\AppData\\Local\\Temp\\ipykernel_12772\\2212051881.py:15: RuntimeWarning: Channel names are not unique, found duplicates for: {'-', 'T8-P8'}. Applying running numbers for duplicates.\n",
      "  edf_data = mne.io.read_raw_edf(file, preload=True)\n",
      "C:\\Users\\mspla\\AppData\\Local\\Temp\\ipykernel_12772\\2212051881.py:15: RuntimeWarning: Scaling factor is not defined in following channels:\n",
      "--0, --1, --2, --3, --4, --5\n",
      "  edf_data = mne.io.read_raw_edf(file, preload=True)\n"
     ]
    },
    {
     "name": "stdout",
     "output_type": "stream",
     "text": [
      "Extracting EDF parameters from C:\\Users\\mspla\\Documents\\repos\\py_basic_310_Au24\\seizurePy3.9\\data\\raw_data\\chb-mit-scalp-eeg-database-1.0.0\\chb15\\chb15_45.edf...\n",
      "EDF file detected\n",
      "Setting channel info structure...\n",
      "Creating raw.info structure...\n",
      "Reading 0 ... 921599  =      0.000 ...  3599.996 secs...\n"
     ]
    },
    {
     "name": "stderr",
     "output_type": "stream",
     "text": [
      "C:\\Users\\mspla\\AppData\\Local\\Temp\\ipykernel_12772\\2212051881.py:15: RuntimeWarning: Channel names are not unique, found duplicates for: {'-', 'T8-P8'}. Applying running numbers for duplicates.\n",
      "  edf_data = mne.io.read_raw_edf(file, preload=True)\n",
      "C:\\Users\\mspla\\AppData\\Local\\Temp\\ipykernel_12772\\2212051881.py:15: RuntimeWarning: Scaling factor is not defined in following channels:\n",
      "--0, --1, --2, --3, --4, --5\n",
      "  edf_data = mne.io.read_raw_edf(file, preload=True)\n"
     ]
    },
    {
     "name": "stdout",
     "output_type": "stream",
     "text": [
      "Extracting EDF parameters from C:\\Users\\mspla\\Documents\\repos\\py_basic_310_Au24\\seizurePy3.9\\data\\raw_data\\chb-mit-scalp-eeg-database-1.0.0\\chb15\\chb15_46.edf...\n",
      "EDF file detected\n",
      "Setting channel info structure...\n",
      "Creating raw.info structure...\n",
      "Reading 0 ... 921599  =      0.000 ...  3599.996 secs...\n"
     ]
    },
    {
     "name": "stderr",
     "output_type": "stream",
     "text": [
      "C:\\Users\\mspla\\AppData\\Local\\Temp\\ipykernel_12772\\2212051881.py:15: RuntimeWarning: Channel names are not unique, found duplicates for: {'-', 'T8-P8'}. Applying running numbers for duplicates.\n",
      "  edf_data = mne.io.read_raw_edf(file, preload=True)\n",
      "C:\\Users\\mspla\\AppData\\Local\\Temp\\ipykernel_12772\\2212051881.py:15: RuntimeWarning: Scaling factor is not defined in following channels:\n",
      "--0, --1, --2, --3, --4, --5\n",
      "  edf_data = mne.io.read_raw_edf(file, preload=True)\n"
     ]
    },
    {
     "name": "stdout",
     "output_type": "stream",
     "text": [
      "Extracting EDF parameters from C:\\Users\\mspla\\Documents\\repos\\py_basic_310_Au24\\seizurePy3.9\\data\\raw_data\\chb-mit-scalp-eeg-database-1.0.0\\chb15\\chb15_49.edf...\n",
      "EDF file detected\n",
      "Setting channel info structure...\n",
      "Creating raw.info structure...\n",
      "Reading 0 ... 927999  =      0.000 ...  3624.996 secs...\n"
     ]
    },
    {
     "name": "stderr",
     "output_type": "stream",
     "text": [
      "C:\\Users\\mspla\\AppData\\Local\\Temp\\ipykernel_12772\\2212051881.py:15: RuntimeWarning: Channel names are not unique, found duplicates for: {'-', 'T8-P8'}. Applying running numbers for duplicates.\n",
      "  edf_data = mne.io.read_raw_edf(file, preload=True)\n",
      "C:\\Users\\mspla\\AppData\\Local\\Temp\\ipykernel_12772\\2212051881.py:15: RuntimeWarning: Scaling factor is not defined in following channels:\n",
      "--0, --1, --2, --3, --4, --5\n",
      "  edf_data = mne.io.read_raw_edf(file, preload=True)\n"
     ]
    },
    {
     "name": "stdout",
     "output_type": "stream",
     "text": [
      "Extracting EDF parameters from C:\\Users\\mspla\\Documents\\repos\\py_basic_310_Au24\\seizurePy3.9\\data\\raw_data\\chb-mit-scalp-eeg-database-1.0.0\\chb15\\chb15_50.edf...\n",
      "EDF file detected\n",
      "Setting channel info structure...\n",
      "Creating raw.info structure...\n",
      "Reading 0 ... 921599  =      0.000 ...  3599.996 secs...\n"
     ]
    },
    {
     "name": "stderr",
     "output_type": "stream",
     "text": [
      "C:\\Users\\mspla\\AppData\\Local\\Temp\\ipykernel_12772\\2212051881.py:15: RuntimeWarning: Channel names are not unique, found duplicates for: {'-', 'T8-P8'}. Applying running numbers for duplicates.\n",
      "  edf_data = mne.io.read_raw_edf(file, preload=True)\n",
      "C:\\Users\\mspla\\AppData\\Local\\Temp\\ipykernel_12772\\2212051881.py:15: RuntimeWarning: Scaling factor is not defined in following channels:\n",
      "--0, --1, --2, --3, --4, --5\n",
      "  edf_data = mne.io.read_raw_edf(file, preload=True)\n"
     ]
    },
    {
     "name": "stdout",
     "output_type": "stream",
     "text": [
      "Extracting EDF parameters from C:\\Users\\mspla\\Documents\\repos\\py_basic_310_Au24\\seizurePy3.9\\data\\raw_data\\chb-mit-scalp-eeg-database-1.0.0\\chb15\\chb15_51.edf...\n",
      "EDF file detected\n",
      "Setting channel info structure...\n",
      "Creating raw.info structure...\n",
      "Reading 0 ... 921599  =      0.000 ...  3599.996 secs...\n"
     ]
    },
    {
     "name": "stderr",
     "output_type": "stream",
     "text": [
      "C:\\Users\\mspla\\AppData\\Local\\Temp\\ipykernel_12772\\2212051881.py:15: RuntimeWarning: Channel names are not unique, found duplicates for: {'-', 'T8-P8'}. Applying running numbers for duplicates.\n",
      "  edf_data = mne.io.read_raw_edf(file, preload=True)\n",
      "C:\\Users\\mspla\\AppData\\Local\\Temp\\ipykernel_12772\\2212051881.py:15: RuntimeWarning: Scaling factor is not defined in following channels:\n",
      "--0, --1, --2, --3, --4, --5\n",
      "  edf_data = mne.io.read_raw_edf(file, preload=True)\n"
     ]
    },
    {
     "name": "stdout",
     "output_type": "stream",
     "text": [
      "Extracting EDF parameters from C:\\Users\\mspla\\Documents\\repos\\py_basic_310_Au24\\seizurePy3.9\\data\\raw_data\\chb-mit-scalp-eeg-database-1.0.0\\chb15\\chb15_52.edf...\n",
      "EDF file detected\n",
      "Setting channel info structure...\n",
      "Creating raw.info structure...\n",
      "Reading 0 ... 923903  =      0.000 ...  3608.996 secs...\n"
     ]
    },
    {
     "name": "stderr",
     "output_type": "stream",
     "text": [
      "C:\\Users\\mspla\\AppData\\Local\\Temp\\ipykernel_12772\\2212051881.py:15: RuntimeWarning: Channel names are not unique, found duplicates for: {'-', 'T8-P8'}. Applying running numbers for duplicates.\n",
      "  edf_data = mne.io.read_raw_edf(file, preload=True)\n",
      "C:\\Users\\mspla\\AppData\\Local\\Temp\\ipykernel_12772\\2212051881.py:15: RuntimeWarning: Scaling factor is not defined in following channels:\n",
      "--0, --1, --2, --3, --4, --5\n",
      "  edf_data = mne.io.read_raw_edf(file, preload=True)\n"
     ]
    },
    {
     "name": "stdout",
     "output_type": "stream",
     "text": [
      "Extracting EDF parameters from C:\\Users\\mspla\\Documents\\repos\\py_basic_310_Au24\\seizurePy3.9\\data\\raw_data\\chb-mit-scalp-eeg-database-1.0.0\\chb15\\chb15_54.edf...\n",
      "EDF file detected\n",
      "Setting channel info structure...\n",
      "Creating raw.info structure...\n",
      "Reading 0 ... 921599  =      0.000 ...  3599.996 secs...\n"
     ]
    },
    {
     "name": "stderr",
     "output_type": "stream",
     "text": [
      "C:\\Users\\mspla\\AppData\\Local\\Temp\\ipykernel_12772\\2212051881.py:15: RuntimeWarning: Channel names are not unique, found duplicates for: {'-', 'T8-P8'}. Applying running numbers for duplicates.\n",
      "  edf_data = mne.io.read_raw_edf(file, preload=True)\n",
      "C:\\Users\\mspla\\AppData\\Local\\Temp\\ipykernel_12772\\2212051881.py:15: RuntimeWarning: Scaling factor is not defined in following channels:\n",
      "--0, --1, --2, --3, --4, --5\n",
      "  edf_data = mne.io.read_raw_edf(file, preload=True)\n"
     ]
    },
    {
     "name": "stdout",
     "output_type": "stream",
     "text": [
      "Extracting EDF parameters from C:\\Users\\mspla\\Documents\\repos\\py_basic_310_Au24\\seizurePy3.9\\data\\raw_data\\chb-mit-scalp-eeg-database-1.0.0\\chb15\\chb15_61.edf...\n",
      "EDF file detected\n",
      "Setting channel info structure...\n",
      "Creating raw.info structure...\n",
      "Reading 0 ... 921599  =      0.000 ...  3599.996 secs...\n"
     ]
    },
    {
     "name": "stderr",
     "output_type": "stream",
     "text": [
      "C:\\Users\\mspla\\AppData\\Local\\Temp\\ipykernel_12772\\2212051881.py:15: RuntimeWarning: Channel names are not unique, found duplicates for: {'-', 'T8-P8'}. Applying running numbers for duplicates.\n",
      "  edf_data = mne.io.read_raw_edf(file, preload=True)\n",
      "C:\\Users\\mspla\\AppData\\Local\\Temp\\ipykernel_12772\\2212051881.py:15: RuntimeWarning: Scaling factor is not defined in following channels:\n",
      "--0, --1, --2, --3, --4, --5\n",
      "  edf_data = mne.io.read_raw_edf(file, preload=True)\n"
     ]
    },
    {
     "name": "stdout",
     "output_type": "stream",
     "text": [
      "Extracting EDF parameters from C:\\Users\\mspla\\Documents\\repos\\py_basic_310_Au24\\seizurePy3.9\\data\\raw_data\\chb-mit-scalp-eeg-database-1.0.0\\chb15\\chb15_62.edf...\n",
      "EDF file detected\n",
      "Setting channel info structure...\n",
      "Creating raw.info structure...\n",
      "Reading 0 ... 921599  =      0.000 ...  3599.996 secs...\n"
     ]
    },
    {
     "name": "stderr",
     "output_type": "stream",
     "text": [
      "C:\\Users\\mspla\\AppData\\Local\\Temp\\ipykernel_12772\\2212051881.py:15: RuntimeWarning: Channel names are not unique, found duplicates for: {'-', 'T8-P8'}. Applying running numbers for duplicates.\n",
      "  edf_data = mne.io.read_raw_edf(file, preload=True)\n",
      "C:\\Users\\mspla\\AppData\\Local\\Temp\\ipykernel_12772\\2212051881.py:15: RuntimeWarning: Scaling factor is not defined in following channels:\n",
      "--0, --1, --2, --3, --4, --5\n",
      "  edf_data = mne.io.read_raw_edf(file, preload=True)\n"
     ]
    },
    {
     "name": "stdout",
     "output_type": "stream",
     "text": [
      "Extracting EDF parameters from C:\\Users\\mspla\\Documents\\repos\\py_basic_310_Au24\\seizurePy3.9\\data\\raw_data\\chb-mit-scalp-eeg-database-1.0.0\\chb15\\chb15_63.edf...\n",
      "EDF file detected\n",
      "Setting channel info structure...\n",
      "Creating raw.info structure...\n",
      "Reading 0 ... 921599  =      0.000 ...  3599.996 secs...\n"
     ]
    },
    {
     "name": "stderr",
     "output_type": "stream",
     "text": [
      "C:\\Users\\mspla\\AppData\\Local\\Temp\\ipykernel_12772\\2212051881.py:15: RuntimeWarning: Channel names are not unique, found duplicates for: {'-', 'T8-P8'}. Applying running numbers for duplicates.\n",
      "  edf_data = mne.io.read_raw_edf(file, preload=True)\n",
      "C:\\Users\\mspla\\AppData\\Local\\Temp\\ipykernel_12772\\2212051881.py:15: RuntimeWarning: Scaling factor is not defined in following channels:\n",
      "--0, --1, --2, --3, --4, --5\n",
      "  edf_data = mne.io.read_raw_edf(file, preload=True)\n"
     ]
    },
    {
     "name": "stdout",
     "output_type": "stream",
     "text": [
      "Extracting EDF parameters from C:\\Users\\mspla\\Documents\\repos\\py_basic_310_Au24\\seizurePy3.9\\data\\raw_data\\chb-mit-scalp-eeg-database-1.0.0\\chb16\\chb16_01.edf...\n",
      "EDF file detected\n",
      "Setting channel info structure...\n",
      "Creating raw.info structure...\n",
      "Reading 0 ... 921599  =      0.000 ...  3599.996 secs...\n"
     ]
    },
    {
     "name": "stderr",
     "output_type": "stream",
     "text": [
      "C:\\Users\\mspla\\AppData\\Local\\Temp\\ipykernel_12772\\2212051881.py:15: RuntimeWarning: Channel names are not unique, found duplicates for: {'-', 'T8-P8'}. Applying running numbers for duplicates.\n",
      "  edf_data = mne.io.read_raw_edf(file, preload=True)\n",
      "C:\\Users\\mspla\\AppData\\Local\\Temp\\ipykernel_12772\\2212051881.py:15: RuntimeWarning: Scaling factor is not defined in following channels:\n",
      "--0, --1, --2, --3, --4\n",
      "  edf_data = mne.io.read_raw_edf(file, preload=True)\n"
     ]
    },
    {
     "name": "stdout",
     "output_type": "stream",
     "text": [
      "Extracting EDF parameters from C:\\Users\\mspla\\Documents\\repos\\py_basic_310_Au24\\seizurePy3.9\\data\\raw_data\\chb-mit-scalp-eeg-database-1.0.0\\chb16\\chb16_02.edf...\n",
      "EDF file detected\n",
      "Setting channel info structure...\n",
      "Creating raw.info structure...\n",
      "Reading 0 ... 921599  =      0.000 ...  3599.996 secs...\n"
     ]
    },
    {
     "name": "stderr",
     "output_type": "stream",
     "text": [
      "C:\\Users\\mspla\\AppData\\Local\\Temp\\ipykernel_12772\\2212051881.py:15: RuntimeWarning: Channel names are not unique, found duplicates for: {'-', 'T8-P8'}. Applying running numbers for duplicates.\n",
      "  edf_data = mne.io.read_raw_edf(file, preload=True)\n",
      "C:\\Users\\mspla\\AppData\\Local\\Temp\\ipykernel_12772\\2212051881.py:15: RuntimeWarning: Scaling factor is not defined in following channels:\n",
      "--0, --1, --2, --3, --4\n",
      "  edf_data = mne.io.read_raw_edf(file, preload=True)\n"
     ]
    },
    {
     "name": "stdout",
     "output_type": "stream",
     "text": [
      "Extracting EDF parameters from C:\\Users\\mspla\\Documents\\repos\\py_basic_310_Au24\\seizurePy3.9\\data\\raw_data\\chb-mit-scalp-eeg-database-1.0.0\\chb16\\chb16_03.edf...\n",
      "EDF file detected\n",
      "Setting channel info structure...\n",
      "Creating raw.info structure...\n",
      "Reading 0 ... 921599  =      0.000 ...  3599.996 secs...\n"
     ]
    },
    {
     "name": "stderr",
     "output_type": "stream",
     "text": [
      "C:\\Users\\mspla\\AppData\\Local\\Temp\\ipykernel_12772\\2212051881.py:15: RuntimeWarning: Channel names are not unique, found duplicates for: {'-', 'T8-P8'}. Applying running numbers for duplicates.\n",
      "  edf_data = mne.io.read_raw_edf(file, preload=True)\n",
      "C:\\Users\\mspla\\AppData\\Local\\Temp\\ipykernel_12772\\2212051881.py:15: RuntimeWarning: Scaling factor is not defined in following channels:\n",
      "--0, --1, --2, --3, --4\n",
      "  edf_data = mne.io.read_raw_edf(file, preload=True)\n"
     ]
    },
    {
     "name": "stdout",
     "output_type": "stream",
     "text": [
      "Extracting EDF parameters from C:\\Users\\mspla\\Documents\\repos\\py_basic_310_Au24\\seizurePy3.9\\data\\raw_data\\chb-mit-scalp-eeg-database-1.0.0\\chb16\\chb16_04.edf...\n",
      "EDF file detected\n",
      "Setting channel info structure...\n",
      "Creating raw.info structure...\n",
      "Reading 0 ... 921599  =      0.000 ...  3599.996 secs...\n"
     ]
    },
    {
     "name": "stderr",
     "output_type": "stream",
     "text": [
      "C:\\Users\\mspla\\AppData\\Local\\Temp\\ipykernel_12772\\2212051881.py:15: RuntimeWarning: Channel names are not unique, found duplicates for: {'-', 'T8-P8'}. Applying running numbers for duplicates.\n",
      "  edf_data = mne.io.read_raw_edf(file, preload=True)\n",
      "C:\\Users\\mspla\\AppData\\Local\\Temp\\ipykernel_12772\\2212051881.py:15: RuntimeWarning: Scaling factor is not defined in following channels:\n",
      "--0, --1, --2, --3, --4\n",
      "  edf_data = mne.io.read_raw_edf(file, preload=True)\n"
     ]
    },
    {
     "name": "stdout",
     "output_type": "stream",
     "text": [
      "Extracting EDF parameters from C:\\Users\\mspla\\Documents\\repos\\py_basic_310_Au24\\seizurePy3.9\\data\\raw_data\\chb-mit-scalp-eeg-database-1.0.0\\chb16\\chb16_05.edf...\n",
      "EDF file detected\n",
      "Setting channel info structure...\n",
      "Creating raw.info structure...\n",
      "Reading 0 ... 921599  =      0.000 ...  3599.996 secs...\n"
     ]
    },
    {
     "name": "stderr",
     "output_type": "stream",
     "text": [
      "C:\\Users\\mspla\\AppData\\Local\\Temp\\ipykernel_12772\\2212051881.py:15: RuntimeWarning: Channel names are not unique, found duplicates for: {'-', 'T8-P8'}. Applying running numbers for duplicates.\n",
      "  edf_data = mne.io.read_raw_edf(file, preload=True)\n",
      "C:\\Users\\mspla\\AppData\\Local\\Temp\\ipykernel_12772\\2212051881.py:15: RuntimeWarning: Scaling factor is not defined in following channels:\n",
      "--0, --1, --2, --3, --4\n",
      "  edf_data = mne.io.read_raw_edf(file, preload=True)\n"
     ]
    },
    {
     "name": "stdout",
     "output_type": "stream",
     "text": [
      "Extracting EDF parameters from C:\\Users\\mspla\\Documents\\repos\\py_basic_310_Au24\\seizurePy3.9\\data\\raw_data\\chb-mit-scalp-eeg-database-1.0.0\\chb16\\chb16_06.edf...\n",
      "EDF file detected\n",
      "Setting channel info structure...\n",
      "Creating raw.info structure...\n",
      "Reading 0 ... 921599  =      0.000 ...  3599.996 secs...\n"
     ]
    },
    {
     "name": "stderr",
     "output_type": "stream",
     "text": [
      "C:\\Users\\mspla\\AppData\\Local\\Temp\\ipykernel_12772\\2212051881.py:15: RuntimeWarning: Channel names are not unique, found duplicates for: {'-', 'T8-P8'}. Applying running numbers for duplicates.\n",
      "  edf_data = mne.io.read_raw_edf(file, preload=True)\n",
      "C:\\Users\\mspla\\AppData\\Local\\Temp\\ipykernel_12772\\2212051881.py:15: RuntimeWarning: Scaling factor is not defined in following channels:\n",
      "--0, --1, --2, --3, --4\n",
      "  edf_data = mne.io.read_raw_edf(file, preload=True)\n"
     ]
    },
    {
     "name": "stdout",
     "output_type": "stream",
     "text": [
      "Extracting EDF parameters from C:\\Users\\mspla\\Documents\\repos\\py_basic_310_Au24\\seizurePy3.9\\data\\raw_data\\chb-mit-scalp-eeg-database-1.0.0\\chb16\\chb16_07.edf...\n",
      "EDF file detected\n",
      "Setting channel info structure...\n",
      "Creating raw.info structure...\n",
      "Reading 0 ... 921599  =      0.000 ...  3599.996 secs...\n"
     ]
    },
    {
     "name": "stderr",
     "output_type": "stream",
     "text": [
      "C:\\Users\\mspla\\AppData\\Local\\Temp\\ipykernel_12772\\2212051881.py:15: RuntimeWarning: Channel names are not unique, found duplicates for: {'-', 'T8-P8'}. Applying running numbers for duplicates.\n",
      "  edf_data = mne.io.read_raw_edf(file, preload=True)\n",
      "C:\\Users\\mspla\\AppData\\Local\\Temp\\ipykernel_12772\\2212051881.py:15: RuntimeWarning: Scaling factor is not defined in following channels:\n",
      "--0, --1, --2, --3, --4\n",
      "  edf_data = mne.io.read_raw_edf(file, preload=True)\n"
     ]
    },
    {
     "name": "stdout",
     "output_type": "stream",
     "text": [
      "Extracting EDF parameters from C:\\Users\\mspla\\Documents\\repos\\py_basic_310_Au24\\seizurePy3.9\\data\\raw_data\\chb-mit-scalp-eeg-database-1.0.0\\chb16\\chb16_08.edf...\n",
      "EDF file detected\n",
      "Setting channel info structure...\n",
      "Creating raw.info structure...\n",
      "Reading 0 ... 921599  =      0.000 ...  3599.996 secs...\n"
     ]
    },
    {
     "name": "stderr",
     "output_type": "stream",
     "text": [
      "C:\\Users\\mspla\\AppData\\Local\\Temp\\ipykernel_12772\\2212051881.py:15: RuntimeWarning: Channel names are not unique, found duplicates for: {'-', 'T8-P8'}. Applying running numbers for duplicates.\n",
      "  edf_data = mne.io.read_raw_edf(file, preload=True)\n",
      "C:\\Users\\mspla\\AppData\\Local\\Temp\\ipykernel_12772\\2212051881.py:15: RuntimeWarning: Scaling factor is not defined in following channels:\n",
      "--0, --1, --2, --3, --4\n",
      "  edf_data = mne.io.read_raw_edf(file, preload=True)\n"
     ]
    },
    {
     "name": "stdout",
     "output_type": "stream",
     "text": [
      "Extracting EDF parameters from C:\\Users\\mspla\\Documents\\repos\\py_basic_310_Au24\\seizurePy3.9\\data\\raw_data\\chb-mit-scalp-eeg-database-1.0.0\\chb16\\chb16_09.edf...\n",
      "EDF file detected\n",
      "Setting channel info structure...\n",
      "Creating raw.info structure...\n",
      "Reading 0 ... 921599  =      0.000 ...  3599.996 secs...\n"
     ]
    },
    {
     "name": "stderr",
     "output_type": "stream",
     "text": [
      "C:\\Users\\mspla\\AppData\\Local\\Temp\\ipykernel_12772\\2212051881.py:15: RuntimeWarning: Channel names are not unique, found duplicates for: {'-', 'T8-P8'}. Applying running numbers for duplicates.\n",
      "  edf_data = mne.io.read_raw_edf(file, preload=True)\n",
      "C:\\Users\\mspla\\AppData\\Local\\Temp\\ipykernel_12772\\2212051881.py:15: RuntimeWarning: Scaling factor is not defined in following channels:\n",
      "--0, --1, --2, --3, --4\n",
      "  edf_data = mne.io.read_raw_edf(file, preload=True)\n"
     ]
    },
    {
     "name": "stdout",
     "output_type": "stream",
     "text": [
      "Extracting EDF parameters from C:\\Users\\mspla\\Documents\\repos\\py_basic_310_Au24\\seizurePy3.9\\data\\raw_data\\chb-mit-scalp-eeg-database-1.0.0\\chb16\\chb16_10.edf...\n",
      "EDF file detected\n",
      "Setting channel info structure...\n",
      "Creating raw.info structure...\n",
      "Reading 0 ... 921599  =      0.000 ...  3599.996 secs...\n"
     ]
    },
    {
     "name": "stderr",
     "output_type": "stream",
     "text": [
      "C:\\Users\\mspla\\AppData\\Local\\Temp\\ipykernel_12772\\2212051881.py:15: RuntimeWarning: Channel names are not unique, found duplicates for: {'-', 'T8-P8'}. Applying running numbers for duplicates.\n",
      "  edf_data = mne.io.read_raw_edf(file, preload=True)\n",
      "C:\\Users\\mspla\\AppData\\Local\\Temp\\ipykernel_12772\\2212051881.py:15: RuntimeWarning: Scaling factor is not defined in following channels:\n",
      "--0, --1, --2, --3, --4\n",
      "  edf_data = mne.io.read_raw_edf(file, preload=True)\n"
     ]
    },
    {
     "name": "stdout",
     "output_type": "stream",
     "text": [
      "Extracting EDF parameters from C:\\Users\\mspla\\Documents\\repos\\py_basic_310_Au24\\seizurePy3.9\\data\\raw_data\\chb-mit-scalp-eeg-database-1.0.0\\chb16\\chb16_11.edf...\n",
      "EDF file detected\n",
      "Setting channel info structure...\n",
      "Creating raw.info structure...\n",
      "Reading 0 ... 921599  =      0.000 ...  3599.996 secs...\n"
     ]
    },
    {
     "name": "stderr",
     "output_type": "stream",
     "text": [
      "C:\\Users\\mspla\\AppData\\Local\\Temp\\ipykernel_12772\\2212051881.py:15: RuntimeWarning: Channel names are not unique, found duplicates for: {'-', 'T8-P8'}. Applying running numbers for duplicates.\n",
      "  edf_data = mne.io.read_raw_edf(file, preload=True)\n",
      "C:\\Users\\mspla\\AppData\\Local\\Temp\\ipykernel_12772\\2212051881.py:15: RuntimeWarning: Scaling factor is not defined in following channels:\n",
      "--0, --1, --2, --3, --4\n",
      "  edf_data = mne.io.read_raw_edf(file, preload=True)\n"
     ]
    },
    {
     "name": "stdout",
     "output_type": "stream",
     "text": [
      "Extracting EDF parameters from C:\\Users\\mspla\\Documents\\repos\\py_basic_310_Au24\\seizurePy3.9\\data\\raw_data\\chb-mit-scalp-eeg-database-1.0.0\\chb16\\chb16_12.edf...\n",
      "EDF file detected\n",
      "Setting channel info structure...\n",
      "Creating raw.info structure...\n",
      "Reading 0 ... 921599  =      0.000 ...  3599.996 secs...\n"
     ]
    },
    {
     "name": "stderr",
     "output_type": "stream",
     "text": [
      "C:\\Users\\mspla\\AppData\\Local\\Temp\\ipykernel_12772\\2212051881.py:15: RuntimeWarning: Channel names are not unique, found duplicates for: {'-', 'T8-P8'}. Applying running numbers for duplicates.\n",
      "  edf_data = mne.io.read_raw_edf(file, preload=True)\n",
      "C:\\Users\\mspla\\AppData\\Local\\Temp\\ipykernel_12772\\2212051881.py:15: RuntimeWarning: Scaling factor is not defined in following channels:\n",
      "--0, --1, --2, --3, --4\n",
      "  edf_data = mne.io.read_raw_edf(file, preload=True)\n"
     ]
    },
    {
     "name": "stdout",
     "output_type": "stream",
     "text": [
      "Extracting EDF parameters from C:\\Users\\mspla\\Documents\\repos\\py_basic_310_Au24\\seizurePy3.9\\data\\raw_data\\chb-mit-scalp-eeg-database-1.0.0\\chb16\\chb16_13.edf...\n",
      "EDF file detected\n",
      "Setting channel info structure...\n",
      "Creating raw.info structure...\n",
      "Reading 0 ... 921599  =      0.000 ...  3599.996 secs...\n"
     ]
    },
    {
     "name": "stderr",
     "output_type": "stream",
     "text": [
      "C:\\Users\\mspla\\AppData\\Local\\Temp\\ipykernel_12772\\2212051881.py:15: RuntimeWarning: Channel names are not unique, found duplicates for: {'-', 'T8-P8'}. Applying running numbers for duplicates.\n",
      "  edf_data = mne.io.read_raw_edf(file, preload=True)\n",
      "C:\\Users\\mspla\\AppData\\Local\\Temp\\ipykernel_12772\\2212051881.py:15: RuntimeWarning: Scaling factor is not defined in following channels:\n",
      "--0, --1, --2, --3, --4\n",
      "  edf_data = mne.io.read_raw_edf(file, preload=True)\n"
     ]
    },
    {
     "name": "stdout",
     "output_type": "stream",
     "text": [
      "Extracting EDF parameters from C:\\Users\\mspla\\Documents\\repos\\py_basic_310_Au24\\seizurePy3.9\\data\\raw_data\\chb-mit-scalp-eeg-database-1.0.0\\chb16\\chb16_14.edf...\n",
      "EDF file detected\n",
      "Setting channel info structure...\n",
      "Creating raw.info structure...\n",
      "Reading 0 ... 921599  =      0.000 ...  3599.996 secs...\n"
     ]
    },
    {
     "name": "stderr",
     "output_type": "stream",
     "text": [
      "C:\\Users\\mspla\\AppData\\Local\\Temp\\ipykernel_12772\\2212051881.py:15: RuntimeWarning: Channel names are not unique, found duplicates for: {'-', 'T8-P8'}. Applying running numbers for duplicates.\n",
      "  edf_data = mne.io.read_raw_edf(file, preload=True)\n",
      "C:\\Users\\mspla\\AppData\\Local\\Temp\\ipykernel_12772\\2212051881.py:15: RuntimeWarning: Scaling factor is not defined in following channels:\n",
      "--0, --1, --2, --3, --4\n",
      "  edf_data = mne.io.read_raw_edf(file, preload=True)\n"
     ]
    },
    {
     "name": "stdout",
     "output_type": "stream",
     "text": [
      "Extracting EDF parameters from C:\\Users\\mspla\\Documents\\repos\\py_basic_310_Au24\\seizurePy3.9\\data\\raw_data\\chb-mit-scalp-eeg-database-1.0.0\\chb16\\chb16_15.edf...\n",
      "EDF file detected\n",
      "Setting channel info structure...\n",
      "Creating raw.info structure...\n",
      "Reading 0 ... 921599  =      0.000 ...  3599.996 secs...\n"
     ]
    },
    {
     "name": "stderr",
     "output_type": "stream",
     "text": [
      "C:\\Users\\mspla\\AppData\\Local\\Temp\\ipykernel_12772\\2212051881.py:15: RuntimeWarning: Channel names are not unique, found duplicates for: {'-', 'T8-P8'}. Applying running numbers for duplicates.\n",
      "  edf_data = mne.io.read_raw_edf(file, preload=True)\n",
      "C:\\Users\\mspla\\AppData\\Local\\Temp\\ipykernel_12772\\2212051881.py:15: RuntimeWarning: Scaling factor is not defined in following channels:\n",
      "--0, --1, --2, --3, --4\n",
      "  edf_data = mne.io.read_raw_edf(file, preload=True)\n"
     ]
    },
    {
     "name": "stdout",
     "output_type": "stream",
     "text": [
      "Extracting EDF parameters from C:\\Users\\mspla\\Documents\\repos\\py_basic_310_Au24\\seizurePy3.9\\data\\raw_data\\chb-mit-scalp-eeg-database-1.0.0\\chb16\\chb16_16.edf...\n",
      "EDF file detected\n",
      "Setting channel info structure...\n",
      "Creating raw.info structure...\n",
      "Reading 0 ... 921599  =      0.000 ...  3599.996 secs...\n"
     ]
    },
    {
     "name": "stderr",
     "output_type": "stream",
     "text": [
      "C:\\Users\\mspla\\AppData\\Local\\Temp\\ipykernel_12772\\2212051881.py:15: RuntimeWarning: Channel names are not unique, found duplicates for: {'-', 'T8-P8'}. Applying running numbers for duplicates.\n",
      "  edf_data = mne.io.read_raw_edf(file, preload=True)\n",
      "C:\\Users\\mspla\\AppData\\Local\\Temp\\ipykernel_12772\\2212051881.py:15: RuntimeWarning: Scaling factor is not defined in following channels:\n",
      "--0, --1, --2, --3, --4\n",
      "  edf_data = mne.io.read_raw_edf(file, preload=True)\n"
     ]
    },
    {
     "name": "stdout",
     "output_type": "stream",
     "text": [
      "Extracting EDF parameters from C:\\Users\\mspla\\Documents\\repos\\py_basic_310_Au24\\seizurePy3.9\\data\\raw_data\\chb-mit-scalp-eeg-database-1.0.0\\chb16\\chb16_17.edf...\n",
      "EDF file detected\n",
      "Setting channel info structure...\n",
      "Creating raw.info structure...\n",
      "Reading 0 ... 921599  =      0.000 ...  3599.996 secs...\n"
     ]
    },
    {
     "name": "stderr",
     "output_type": "stream",
     "text": [
      "C:\\Users\\mspla\\AppData\\Local\\Temp\\ipykernel_12772\\2212051881.py:15: RuntimeWarning: Channel names are not unique, found duplicates for: {'-', 'T8-P8'}. Applying running numbers for duplicates.\n",
      "  edf_data = mne.io.read_raw_edf(file, preload=True)\n",
      "C:\\Users\\mspla\\AppData\\Local\\Temp\\ipykernel_12772\\2212051881.py:15: RuntimeWarning: Scaling factor is not defined in following channels:\n",
      "--0, --1, --2, --3, --4\n",
      "  edf_data = mne.io.read_raw_edf(file, preload=True)\n"
     ]
    },
    {
     "name": "stdout",
     "output_type": "stream",
     "text": [
      "Extracting EDF parameters from C:\\Users\\mspla\\Documents\\repos\\py_basic_310_Au24\\seizurePy3.9\\data\\raw_data\\chb-mit-scalp-eeg-database-1.0.0\\chb16\\chb16_18.edf...\n",
      "EDF file detected\n",
      "Setting channel info structure...\n",
      "Creating raw.info structure...\n",
      "Reading 0 ... 921599  =      0.000 ...  3599.996 secs...\n"
     ]
    },
    {
     "name": "stderr",
     "output_type": "stream",
     "text": [
      "C:\\Users\\mspla\\AppData\\Local\\Temp\\ipykernel_12772\\2212051881.py:15: RuntimeWarning: Channel names are not unique, found duplicates for: {'-'}. Applying running numbers for duplicates.\n",
      "  edf_data = mne.io.read_raw_edf(file, preload=True)\n",
      "C:\\Users\\mspla\\AppData\\Local\\Temp\\ipykernel_12772\\2212051881.py:15: RuntimeWarning: Scaling factor is not defined in following channels:\n",
      "--0, --1, --2, --3\n",
      "  edf_data = mne.io.read_raw_edf(file, preload=True)\n"
     ]
    },
    {
     "name": "stdout",
     "output_type": "stream",
     "text": [
      "Extracting EDF parameters from C:\\Users\\mspla\\Documents\\repos\\py_basic_310_Au24\\seizurePy3.9\\data\\raw_data\\chb-mit-scalp-eeg-database-1.0.0\\chb16\\chb16_19.edf...\n",
      "EDF file detected\n",
      "Setting channel info structure...\n",
      "Creating raw.info structure...\n",
      "Reading 0 ... 921599  =      0.000 ...  3599.996 secs...\n"
     ]
    },
    {
     "name": "stderr",
     "output_type": "stream",
     "text": [
      "C:\\Users\\mspla\\AppData\\Local\\Temp\\ipykernel_12772\\2212051881.py:15: RuntimeWarning: Channel names are not unique, found duplicates for: {'-'}. Applying running numbers for duplicates.\n",
      "  edf_data = mne.io.read_raw_edf(file, preload=True)\n",
      "C:\\Users\\mspla\\AppData\\Local\\Temp\\ipykernel_12772\\2212051881.py:15: RuntimeWarning: Scaling factor is not defined in following channels:\n",
      "--0, --1, --2, --3\n",
      "  edf_data = mne.io.read_raw_edf(file, preload=True)\n"
     ]
    },
    {
     "name": "stdout",
     "output_type": "stream",
     "text": [
      "Extracting EDF parameters from C:\\Users\\mspla\\Documents\\repos\\py_basic_310_Au24\\seizurePy3.9\\data\\raw_data\\chb-mit-scalp-eeg-database-1.0.0\\chb17\\chb17a_03.edf...\n",
      "EDF file detected\n",
      "Setting channel info structure...\n",
      "Creating raw.info structure...\n",
      "Reading 0 ... 921599  =      0.000 ...  3599.996 secs...\n"
     ]
    },
    {
     "name": "stderr",
     "output_type": "stream",
     "text": [
      "C:\\Users\\mspla\\AppData\\Local\\Temp\\ipykernel_12772\\2212051881.py:15: RuntimeWarning: Channel names are not unique, found duplicates for: {'-', 'T8-P8'}. Applying running numbers for duplicates.\n",
      "  edf_data = mne.io.read_raw_edf(file, preload=True)\n",
      "C:\\Users\\mspla\\AppData\\Local\\Temp\\ipykernel_12772\\2212051881.py:15: RuntimeWarning: Scaling factor is not defined in following channels:\n",
      "--0, --1, --2, --3, --4\n",
      "  edf_data = mne.io.read_raw_edf(file, preload=True)\n"
     ]
    },
    {
     "name": "stdout",
     "output_type": "stream",
     "text": [
      "Extracting EDF parameters from C:\\Users\\mspla\\Documents\\repos\\py_basic_310_Au24\\seizurePy3.9\\data\\raw_data\\chb-mit-scalp-eeg-database-1.0.0\\chb17\\chb17a_04.edf...\n",
      "EDF file detected\n",
      "Setting channel info structure...\n",
      "Creating raw.info structure...\n",
      "Reading 0 ... 921599  =      0.000 ...  3599.996 secs...\n"
     ]
    },
    {
     "name": "stderr",
     "output_type": "stream",
     "text": [
      "C:\\Users\\mspla\\AppData\\Local\\Temp\\ipykernel_12772\\2212051881.py:15: RuntimeWarning: Channel names are not unique, found duplicates for: {'-', 'T8-P8'}. Applying running numbers for duplicates.\n",
      "  edf_data = mne.io.read_raw_edf(file, preload=True)\n",
      "C:\\Users\\mspla\\AppData\\Local\\Temp\\ipykernel_12772\\2212051881.py:15: RuntimeWarning: Scaling factor is not defined in following channels:\n",
      "--0, --1, --2, --3, --4\n",
      "  edf_data = mne.io.read_raw_edf(file, preload=True)\n"
     ]
    },
    {
     "name": "stdout",
     "output_type": "stream",
     "text": [
      "Extracting EDF parameters from C:\\Users\\mspla\\Documents\\repos\\py_basic_310_Au24\\seizurePy3.9\\data\\raw_data\\chb-mit-scalp-eeg-database-1.0.0\\chb17\\chb17a_05.edf...\n",
      "EDF file detected\n",
      "Setting channel info structure...\n",
      "Creating raw.info structure...\n",
      "Reading 0 ... 921599  =      0.000 ...  3599.996 secs...\n"
     ]
    },
    {
     "name": "stderr",
     "output_type": "stream",
     "text": [
      "C:\\Users\\mspla\\AppData\\Local\\Temp\\ipykernel_12772\\2212051881.py:15: RuntimeWarning: Channel names are not unique, found duplicates for: {'-', 'T8-P8'}. Applying running numbers for duplicates.\n",
      "  edf_data = mne.io.read_raw_edf(file, preload=True)\n",
      "C:\\Users\\mspla\\AppData\\Local\\Temp\\ipykernel_12772\\2212051881.py:15: RuntimeWarning: Scaling factor is not defined in following channels:\n",
      "--0, --1, --2, --3, --4\n",
      "  edf_data = mne.io.read_raw_edf(file, preload=True)\n"
     ]
    },
    {
     "name": "stdout",
     "output_type": "stream",
     "text": [
      "Extracting EDF parameters from C:\\Users\\mspla\\Documents\\repos\\py_basic_310_Au24\\seizurePy3.9\\data\\raw_data\\chb-mit-scalp-eeg-database-1.0.0\\chb17\\chb17a_06.edf...\n",
      "EDF file detected\n",
      "Setting channel info structure...\n",
      "Creating raw.info structure...\n",
      "Reading 0 ... 921599  =      0.000 ...  3599.996 secs...\n"
     ]
    },
    {
     "name": "stderr",
     "output_type": "stream",
     "text": [
      "C:\\Users\\mspla\\AppData\\Local\\Temp\\ipykernel_12772\\2212051881.py:15: RuntimeWarning: Channel names are not unique, found duplicates for: {'-', 'T8-P8'}. Applying running numbers for duplicates.\n",
      "  edf_data = mne.io.read_raw_edf(file, preload=True)\n",
      "C:\\Users\\mspla\\AppData\\Local\\Temp\\ipykernel_12772\\2212051881.py:15: RuntimeWarning: Scaling factor is not defined in following channels:\n",
      "--0, --1, --2, --3, --4\n",
      "  edf_data = mne.io.read_raw_edf(file, preload=True)\n"
     ]
    },
    {
     "name": "stdout",
     "output_type": "stream",
     "text": [
      "Extracting EDF parameters from C:\\Users\\mspla\\Documents\\repos\\py_basic_310_Au24\\seizurePy3.9\\data\\raw_data\\chb-mit-scalp-eeg-database-1.0.0\\chb17\\chb17a_08.edf...\n",
      "EDF file detected\n",
      "Setting channel info structure...\n",
      "Creating raw.info structure...\n",
      "Reading 0 ... 921599  =      0.000 ...  3599.996 secs...\n"
     ]
    },
    {
     "name": "stderr",
     "output_type": "stream",
     "text": [
      "C:\\Users\\mspla\\AppData\\Local\\Temp\\ipykernel_12772\\2212051881.py:15: RuntimeWarning: Channel names are not unique, found duplicates for: {'-', 'T8-P8'}. Applying running numbers for duplicates.\n",
      "  edf_data = mne.io.read_raw_edf(file, preload=True)\n",
      "C:\\Users\\mspla\\AppData\\Local\\Temp\\ipykernel_12772\\2212051881.py:15: RuntimeWarning: Scaling factor is not defined in following channels:\n",
      "--0, --1, --2, --3, --4\n",
      "  edf_data = mne.io.read_raw_edf(file, preload=True)\n"
     ]
    },
    {
     "name": "stdout",
     "output_type": "stream",
     "text": [
      "Extracting EDF parameters from C:\\Users\\mspla\\Documents\\repos\\py_basic_310_Au24\\seizurePy3.9\\data\\raw_data\\chb-mit-scalp-eeg-database-1.0.0\\chb17\\chb17b_57.edf...\n",
      "EDF file detected\n",
      "Setting channel info structure...\n",
      "Creating raw.info structure...\n",
      "Reading 0 ... 921599  =      0.000 ...  3599.996 secs...\n"
     ]
    },
    {
     "name": "stderr",
     "output_type": "stream",
     "text": [
      "C:\\Users\\mspla\\AppData\\Local\\Temp\\ipykernel_12772\\2212051881.py:15: RuntimeWarning: Channel names are not unique, found duplicates for: {'-', 'T8-P8'}. Applying running numbers for duplicates.\n",
      "  edf_data = mne.io.read_raw_edf(file, preload=True)\n",
      "C:\\Users\\mspla\\AppData\\Local\\Temp\\ipykernel_12772\\2212051881.py:15: RuntimeWarning: Scaling factor is not defined in following channels:\n",
      "--0, --1, --2, --3, --4\n",
      "  edf_data = mne.io.read_raw_edf(file, preload=True)\n"
     ]
    },
    {
     "name": "stdout",
     "output_type": "stream",
     "text": [
      "Extracting EDF parameters from C:\\Users\\mspla\\Documents\\repos\\py_basic_310_Au24\\seizurePy3.9\\data\\raw_data\\chb-mit-scalp-eeg-database-1.0.0\\chb17\\chb17b_58.edf...\n",
      "EDF file detected\n",
      "Setting channel info structure...\n",
      "Creating raw.info structure...\n",
      "Reading 0 ... 921599  =      0.000 ...  3599.996 secs...\n"
     ]
    },
    {
     "name": "stderr",
     "output_type": "stream",
     "text": [
      "C:\\Users\\mspla\\AppData\\Local\\Temp\\ipykernel_12772\\2212051881.py:15: RuntimeWarning: Channel names are not unique, found duplicates for: {'-', 'T8-P8'}. Applying running numbers for duplicates.\n",
      "  edf_data = mne.io.read_raw_edf(file, preload=True)\n",
      "C:\\Users\\mspla\\AppData\\Local\\Temp\\ipykernel_12772\\2212051881.py:15: RuntimeWarning: Scaling factor is not defined in following channels:\n",
      "--0, --1, --2, --3, --4\n",
      "  edf_data = mne.io.read_raw_edf(file, preload=True)\n"
     ]
    },
    {
     "name": "stdout",
     "output_type": "stream",
     "text": [
      "Extracting EDF parameters from C:\\Users\\mspla\\Documents\\repos\\py_basic_310_Au24\\seizurePy3.9\\data\\raw_data\\chb-mit-scalp-eeg-database-1.0.0\\chb17\\chb17b_59.edf...\n",
      "EDF file detected\n",
      "Setting channel info structure...\n",
      "Creating raw.info structure...\n",
      "Reading 0 ... 921599  =      0.000 ...  3599.996 secs...\n"
     ]
    },
    {
     "name": "stderr",
     "output_type": "stream",
     "text": [
      "C:\\Users\\mspla\\AppData\\Local\\Temp\\ipykernel_12772\\2212051881.py:15: RuntimeWarning: Channel names are not unique, found duplicates for: {'-', 'T8-P8'}. Applying running numbers for duplicates.\n",
      "  edf_data = mne.io.read_raw_edf(file, preload=True)\n",
      "C:\\Users\\mspla\\AppData\\Local\\Temp\\ipykernel_12772\\2212051881.py:15: RuntimeWarning: Scaling factor is not defined in following channels:\n",
      "--0, --1, --2, --3, --4\n",
      "  edf_data = mne.io.read_raw_edf(file, preload=True)\n"
     ]
    },
    {
     "name": "stdout",
     "output_type": "stream",
     "text": [
      "Extracting EDF parameters from C:\\Users\\mspla\\Documents\\repos\\py_basic_310_Au24\\seizurePy3.9\\data\\raw_data\\chb-mit-scalp-eeg-database-1.0.0\\chb17\\chb17b_60.edf...\n",
      "EDF file detected\n",
      "Setting channel info structure...\n",
      "Creating raw.info structure...\n",
      "Reading 0 ... 921599  =      0.000 ...  3599.996 secs...\n"
     ]
    },
    {
     "name": "stderr",
     "output_type": "stream",
     "text": [
      "C:\\Users\\mspla\\AppData\\Local\\Temp\\ipykernel_12772\\2212051881.py:15: RuntimeWarning: Channel names are not unique, found duplicates for: {'-', 'T8-P8'}. Applying running numbers for duplicates.\n",
      "  edf_data = mne.io.read_raw_edf(file, preload=True)\n",
      "C:\\Users\\mspla\\AppData\\Local\\Temp\\ipykernel_12772\\2212051881.py:15: RuntimeWarning: Scaling factor is not defined in following channels:\n",
      "--0, --1, --2, --3, --4\n",
      "  edf_data = mne.io.read_raw_edf(file, preload=True)\n"
     ]
    },
    {
     "name": "stdout",
     "output_type": "stream",
     "text": [
      "Extracting EDF parameters from C:\\Users\\mspla\\Documents\\repos\\py_basic_310_Au24\\seizurePy3.9\\data\\raw_data\\chb-mit-scalp-eeg-database-1.0.0\\chb17\\chb17b_63.edf...\n",
      "EDF file detected\n",
      "Setting channel info structure...\n",
      "Creating raw.info structure...\n",
      "Reading 0 ... 927743  =      0.000 ...  3623.996 secs...\n"
     ]
    },
    {
     "name": "stderr",
     "output_type": "stream",
     "text": [
      "C:\\Users\\mspla\\AppData\\Local\\Temp\\ipykernel_12772\\2212051881.py:15: RuntimeWarning: Channel names are not unique, found duplicates for: {'-', 'T8-P8'}. Applying running numbers for duplicates.\n",
      "  edf_data = mne.io.read_raw_edf(file, preload=True)\n",
      "C:\\Users\\mspla\\AppData\\Local\\Temp\\ipykernel_12772\\2212051881.py:15: RuntimeWarning: Scaling factor is not defined in following channels:\n",
      "--0, --1, --2, --3, --4\n",
      "  edf_data = mne.io.read_raw_edf(file, preload=True)\n"
     ]
    },
    {
     "name": "stdout",
     "output_type": "stream",
     "text": [
      "Extracting EDF parameters from C:\\Users\\mspla\\Documents\\repos\\py_basic_310_Au24\\seizurePy3.9\\data\\raw_data\\chb-mit-scalp-eeg-database-1.0.0\\chb17\\chb17b_67.edf...\n",
      "EDF file detected\n",
      "Setting channel info structure...\n",
      "Creating raw.info structure...\n",
      "Reading 0 ... 921599  =      0.000 ...  3599.996 secs...\n"
     ]
    },
    {
     "name": "stderr",
     "output_type": "stream",
     "text": [
      "C:\\Users\\mspla\\AppData\\Local\\Temp\\ipykernel_12772\\2212051881.py:15: RuntimeWarning: Channel names are not unique, found duplicates for: {'-', 'T8-P8'}. Applying running numbers for duplicates.\n",
      "  edf_data = mne.io.read_raw_edf(file, preload=True)\n",
      "C:\\Users\\mspla\\AppData\\Local\\Temp\\ipykernel_12772\\2212051881.py:15: RuntimeWarning: Scaling factor is not defined in following channels:\n",
      "--0, --1, --2, --3, --4\n",
      "  edf_data = mne.io.read_raw_edf(file, preload=True)\n"
     ]
    },
    {
     "name": "stdout",
     "output_type": "stream",
     "text": [
      "Extracting EDF parameters from C:\\Users\\mspla\\Documents\\repos\\py_basic_310_Au24\\seizurePy3.9\\data\\raw_data\\chb-mit-scalp-eeg-database-1.0.0\\chb17\\chb17b_68.edf...\n",
      "EDF file detected\n",
      "Setting channel info structure...\n",
      "Creating raw.info structure...\n",
      "Reading 0 ... 921599  =      0.000 ...  3599.996 secs...\n"
     ]
    },
    {
     "name": "stderr",
     "output_type": "stream",
     "text": [
      "C:\\Users\\mspla\\AppData\\Local\\Temp\\ipykernel_12772\\2212051881.py:15: RuntimeWarning: Channel names are not unique, found duplicates for: {'-', 'T8-P8'}. Applying running numbers for duplicates.\n",
      "  edf_data = mne.io.read_raw_edf(file, preload=True)\n",
      "C:\\Users\\mspla\\AppData\\Local\\Temp\\ipykernel_12772\\2212051881.py:15: RuntimeWarning: Scaling factor is not defined in following channels:\n",
      "--0, --1, --2, --3, --4\n",
      "  edf_data = mne.io.read_raw_edf(file, preload=True)\n"
     ]
    },
    {
     "name": "stdout",
     "output_type": "stream",
     "text": [
      "Extracting EDF parameters from C:\\Users\\mspla\\Documents\\repos\\py_basic_310_Au24\\seizurePy3.9\\data\\raw_data\\chb-mit-scalp-eeg-database-1.0.0\\chb17\\chb17b_69.edf...\n",
      "EDF file detected\n",
      "Setting channel info structure...\n",
      "Creating raw.info structure...\n",
      "Reading 0 ... 921599  =      0.000 ...  3599.996 secs...\n"
     ]
    },
    {
     "name": "stderr",
     "output_type": "stream",
     "text": [
      "C:\\Users\\mspla\\AppData\\Local\\Temp\\ipykernel_12772\\2212051881.py:15: RuntimeWarning: Channel names are not unique, found duplicates for: {'-', 'T8-P8'}. Applying running numbers for duplicates.\n",
      "  edf_data = mne.io.read_raw_edf(file, preload=True)\n",
      "C:\\Users\\mspla\\AppData\\Local\\Temp\\ipykernel_12772\\2212051881.py:15: RuntimeWarning: Scaling factor is not defined in following channels:\n",
      "--0, --1, --2, --3, --4\n",
      "  edf_data = mne.io.read_raw_edf(file, preload=True)\n"
     ]
    },
    {
     "name": "stdout",
     "output_type": "stream",
     "text": [
      "Extracting EDF parameters from C:\\Users\\mspla\\Documents\\repos\\py_basic_310_Au24\\seizurePy3.9\\data\\raw_data\\chb-mit-scalp-eeg-database-1.0.0\\chb17\\chb17c_02.edf...\n",
      "EDF file detected\n",
      "Setting channel info structure...\n",
      "Creating raw.info structure...\n",
      "Reading 0 ... 921599  =      0.000 ...  3599.996 secs...\n"
     ]
    },
    {
     "name": "stderr",
     "output_type": "stream",
     "text": [
      "C:\\Users\\mspla\\AppData\\Local\\Temp\\ipykernel_12772\\2212051881.py:15: RuntimeWarning: Channel names are not unique, found duplicates for: {'-', 'T8-P8'}. Applying running numbers for duplicates.\n",
      "  edf_data = mne.io.read_raw_edf(file, preload=True)\n",
      "C:\\Users\\mspla\\AppData\\Local\\Temp\\ipykernel_12772\\2212051881.py:15: RuntimeWarning: Scaling factor is not defined in following channels:\n",
      "--0, --1, --2, --3, --4\n",
      "  edf_data = mne.io.read_raw_edf(file, preload=True)\n"
     ]
    },
    {
     "name": "stdout",
     "output_type": "stream",
     "text": [
      "Extracting EDF parameters from C:\\Users\\mspla\\Documents\\repos\\py_basic_310_Au24\\seizurePy3.9\\data\\raw_data\\chb-mit-scalp-eeg-database-1.0.0\\chb17\\chb17c_03.edf...\n",
      "EDF file detected\n",
      "Setting channel info structure...\n",
      "Creating raw.info structure...\n",
      "Reading 0 ... 921599  =      0.000 ...  3599.996 secs...\n"
     ]
    },
    {
     "name": "stderr",
     "output_type": "stream",
     "text": [
      "C:\\Users\\mspla\\AppData\\Local\\Temp\\ipykernel_12772\\2212051881.py:15: RuntimeWarning: Channel names are not unique, found duplicates for: {'-', 'T8-P8'}. Applying running numbers for duplicates.\n",
      "  edf_data = mne.io.read_raw_edf(file, preload=True)\n",
      "C:\\Users\\mspla\\AppData\\Local\\Temp\\ipykernel_12772\\2212051881.py:15: RuntimeWarning: Scaling factor is not defined in following channels:\n",
      "--0, --1, --2, --3, --4\n",
      "  edf_data = mne.io.read_raw_edf(file, preload=True)\n"
     ]
    },
    {
     "name": "stdout",
     "output_type": "stream",
     "text": [
      "Extracting EDF parameters from C:\\Users\\mspla\\Documents\\repos\\py_basic_310_Au24\\seizurePy3.9\\data\\raw_data\\chb-mit-scalp-eeg-database-1.0.0\\chb17\\chb17c_04.edf...\n",
      "EDF file detected\n",
      "Setting channel info structure...\n",
      "Creating raw.info structure...\n",
      "Reading 0 ... 921599  =      0.000 ...  3599.996 secs...\n"
     ]
    },
    {
     "name": "stderr",
     "output_type": "stream",
     "text": [
      "C:\\Users\\mspla\\AppData\\Local\\Temp\\ipykernel_12772\\2212051881.py:15: RuntimeWarning: Channel names are not unique, found duplicates for: {'-', 'T8-P8'}. Applying running numbers for duplicates.\n",
      "  edf_data = mne.io.read_raw_edf(file, preload=True)\n",
      "C:\\Users\\mspla\\AppData\\Local\\Temp\\ipykernel_12772\\2212051881.py:15: RuntimeWarning: Scaling factor is not defined in following channels:\n",
      "--0, --1, --2, --3, --4\n",
      "  edf_data = mne.io.read_raw_edf(file, preload=True)\n"
     ]
    },
    {
     "name": "stdout",
     "output_type": "stream",
     "text": [
      "Extracting EDF parameters from C:\\Users\\mspla\\Documents\\repos\\py_basic_310_Au24\\seizurePy3.9\\data\\raw_data\\chb-mit-scalp-eeg-database-1.0.0\\chb17\\chb17c_05.edf...\n",
      "EDF file detected\n",
      "Setting channel info structure...\n",
      "Creating raw.info structure...\n",
      "Reading 0 ... 921599  =      0.000 ...  3599.996 secs...\n"
     ]
    },
    {
     "name": "stderr",
     "output_type": "stream",
     "text": [
      "C:\\Users\\mspla\\AppData\\Local\\Temp\\ipykernel_12772\\2212051881.py:15: RuntimeWarning: Channel names are not unique, found duplicates for: {'-', 'T8-P8'}. Applying running numbers for duplicates.\n",
      "  edf_data = mne.io.read_raw_edf(file, preload=True)\n",
      "C:\\Users\\mspla\\AppData\\Local\\Temp\\ipykernel_12772\\2212051881.py:15: RuntimeWarning: Scaling factor is not defined in following channels:\n",
      "--0, --1, --2, --3, --4\n",
      "  edf_data = mne.io.read_raw_edf(file, preload=True)\n"
     ]
    },
    {
     "name": "stdout",
     "output_type": "stream",
     "text": [
      "Extracting EDF parameters from C:\\Users\\mspla\\Documents\\repos\\py_basic_310_Au24\\seizurePy3.9\\data\\raw_data\\chb-mit-scalp-eeg-database-1.0.0\\chb17\\chb17c_06.edf...\n",
      "EDF file detected\n",
      "Setting channel info structure...\n",
      "Creating raw.info structure...\n",
      "Reading 0 ... 921599  =      0.000 ...  3599.996 secs...\n"
     ]
    },
    {
     "name": "stderr",
     "output_type": "stream",
     "text": [
      "C:\\Users\\mspla\\AppData\\Local\\Temp\\ipykernel_12772\\2212051881.py:15: RuntimeWarning: Channel names are not unique, found duplicates for: {'-', 'T8-P8'}. Applying running numbers for duplicates.\n",
      "  edf_data = mne.io.read_raw_edf(file, preload=True)\n",
      "C:\\Users\\mspla\\AppData\\Local\\Temp\\ipykernel_12772\\2212051881.py:15: RuntimeWarning: Scaling factor is not defined in following channels:\n",
      "--0, --1, --2, --3, --4\n",
      "  edf_data = mne.io.read_raw_edf(file, preload=True)\n"
     ]
    },
    {
     "name": "stdout",
     "output_type": "stream",
     "text": [
      "Extracting EDF parameters from C:\\Users\\mspla\\Documents\\repos\\py_basic_310_Au24\\seizurePy3.9\\data\\raw_data\\chb-mit-scalp-eeg-database-1.0.0\\chb17\\chb17c_07.edf...\n",
      "EDF file detected\n",
      "Setting channel info structure...\n",
      "Creating raw.info structure...\n",
      "Reading 0 ... 921599  =      0.000 ...  3599.996 secs...\n"
     ]
    },
    {
     "name": "stderr",
     "output_type": "stream",
     "text": [
      "C:\\Users\\mspla\\AppData\\Local\\Temp\\ipykernel_12772\\2212051881.py:15: RuntimeWarning: Channel names are not unique, found duplicates for: {'-', 'T8-P8'}. Applying running numbers for duplicates.\n",
      "  edf_data = mne.io.read_raw_edf(file, preload=True)\n",
      "C:\\Users\\mspla\\AppData\\Local\\Temp\\ipykernel_12772\\2212051881.py:15: RuntimeWarning: Scaling factor is not defined in following channels:\n",
      "--0, --1, --2, --3, --4\n",
      "  edf_data = mne.io.read_raw_edf(file, preload=True)\n"
     ]
    },
    {
     "name": "stdout",
     "output_type": "stream",
     "text": [
      "Extracting EDF parameters from C:\\Users\\mspla\\Documents\\repos\\py_basic_310_Au24\\seizurePy3.9\\data\\raw_data\\chb-mit-scalp-eeg-database-1.0.0\\chb17\\chb17c_08.edf...\n",
      "EDF file detected\n",
      "Setting channel info structure...\n",
      "Creating raw.info structure...\n",
      "Reading 0 ... 921599  =      0.000 ...  3599.996 secs...\n"
     ]
    },
    {
     "name": "stderr",
     "output_type": "stream",
     "text": [
      "C:\\Users\\mspla\\AppData\\Local\\Temp\\ipykernel_12772\\2212051881.py:15: RuntimeWarning: Channel names are not unique, found duplicates for: {'-', 'T8-P8'}. Applying running numbers for duplicates.\n",
      "  edf_data = mne.io.read_raw_edf(file, preload=True)\n",
      "C:\\Users\\mspla\\AppData\\Local\\Temp\\ipykernel_12772\\2212051881.py:15: RuntimeWarning: Scaling factor is not defined in following channels:\n",
      "--0, --1, --2, --3, --4\n",
      "  edf_data = mne.io.read_raw_edf(file, preload=True)\n"
     ]
    },
    {
     "name": "stdout",
     "output_type": "stream",
     "text": [
      "Extracting EDF parameters from C:\\Users\\mspla\\Documents\\repos\\py_basic_310_Au24\\seizurePy3.9\\data\\raw_data\\chb-mit-scalp-eeg-database-1.0.0\\chb17\\chb17c_13.edf...\n",
      "EDF file detected\n",
      "Setting channel info structure...\n",
      "Creating raw.info structure...\n",
      "Reading 0 ... 921599  =      0.000 ...  3599.996 secs...\n"
     ]
    },
    {
     "name": "stderr",
     "output_type": "stream",
     "text": [
      "C:\\Users\\mspla\\AppData\\Local\\Temp\\ipykernel_12772\\2212051881.py:15: RuntimeWarning: Channel names are not unique, found duplicates for: {'-'}. Applying running numbers for duplicates.\n",
      "  edf_data = mne.io.read_raw_edf(file, preload=True)\n",
      "C:\\Users\\mspla\\AppData\\Local\\Temp\\ipykernel_12772\\2212051881.py:15: RuntimeWarning: Scaling factor is not defined in following channels:\n",
      "--0, --1, --2, --3\n",
      "  edf_data = mne.io.read_raw_edf(file, preload=True)\n"
     ]
    },
    {
     "name": "stdout",
     "output_type": "stream",
     "text": [
      "Extracting EDF parameters from C:\\Users\\mspla\\Documents\\repos\\py_basic_310_Au24\\seizurePy3.9\\data\\raw_data\\chb-mit-scalp-eeg-database-1.0.0\\chb18\\chb18_01.edf...\n",
      "EDF file detected\n",
      "Setting channel info structure...\n",
      "Creating raw.info structure...\n",
      "Reading 0 ... 924415  =      0.000 ...  3610.996 secs...\n"
     ]
    },
    {
     "name": "stderr",
     "output_type": "stream",
     "text": [
      "C:\\Users\\mspla\\AppData\\Local\\Temp\\ipykernel_12772\\2212051881.py:15: RuntimeWarning: Channel names are not unique, found duplicates for: {'-'}. Applying running numbers for duplicates.\n",
      "  edf_data = mne.io.read_raw_edf(file, preload=True)\n",
      "C:\\Users\\mspla\\AppData\\Local\\Temp\\ipykernel_12772\\2212051881.py:15: RuntimeWarning: Scaling factor is not defined in following channels:\n",
      "--0, --1, --2, --3\n",
      "  edf_data = mne.io.read_raw_edf(file, preload=True)\n"
     ]
    },
    {
     "name": "stdout",
     "output_type": "stream",
     "text": [
      "Extracting EDF parameters from C:\\Users\\mspla\\Documents\\repos\\py_basic_310_Au24\\seizurePy3.9\\data\\raw_data\\chb-mit-scalp-eeg-database-1.0.0\\chb18\\chb18_02.edf...\n",
      "EDF file detected\n",
      "Setting channel info structure...\n",
      "Creating raw.info structure...\n",
      "Reading 0 ... 921599  =      0.000 ...  3599.996 secs...\n"
     ]
    },
    {
     "name": "stderr",
     "output_type": "stream",
     "text": [
      "C:\\Users\\mspla\\AppData\\Local\\Temp\\ipykernel_12772\\2212051881.py:15: RuntimeWarning: Channel names are not unique, found duplicates for: {'.', 'T8-P8'}. Applying running numbers for duplicates.\n",
      "  edf_data = mne.io.read_raw_edf(file, preload=True)\n"
     ]
    },
    {
     "name": "stdout",
     "output_type": "stream",
     "text": [
      "Extracting EDF parameters from C:\\Users\\mspla\\Documents\\repos\\py_basic_310_Au24\\seizurePy3.9\\data\\raw_data\\chb-mit-scalp-eeg-database-1.0.0\\chb18\\chb18_03.edf...\n",
      "EDF file detected\n",
      "Setting channel info structure...\n",
      "Creating raw.info structure...\n",
      "Reading 0 ... 921599  =      0.000 ...  3599.996 secs...\n"
     ]
    },
    {
     "name": "stderr",
     "output_type": "stream",
     "text": [
      "C:\\Users\\mspla\\AppData\\Local\\Temp\\ipykernel_12772\\2212051881.py:15: RuntimeWarning: Channel names are not unique, found duplicates for: {'.', 'T8-P8'}. Applying running numbers for duplicates.\n",
      "  edf_data = mne.io.read_raw_edf(file, preload=True)\n"
     ]
    },
    {
     "name": "stdout",
     "output_type": "stream",
     "text": [
      "Extracting EDF parameters from C:\\Users\\mspla\\Documents\\repos\\py_basic_310_Au24\\seizurePy3.9\\data\\raw_data\\chb-mit-scalp-eeg-database-1.0.0\\chb18\\chb18_04.edf...\n",
      "EDF file detected\n",
      "Setting channel info structure...\n",
      "Creating raw.info structure...\n",
      "Reading 0 ... 921599  =      0.000 ...  3599.996 secs...\n"
     ]
    },
    {
     "name": "stderr",
     "output_type": "stream",
     "text": [
      "C:\\Users\\mspla\\AppData\\Local\\Temp\\ipykernel_12772\\2212051881.py:15: RuntimeWarning: Channel names are not unique, found duplicates for: {'.', 'T8-P8'}. Applying running numbers for duplicates.\n",
      "  edf_data = mne.io.read_raw_edf(file, preload=True)\n"
     ]
    },
    {
     "name": "stdout",
     "output_type": "stream",
     "text": [
      "Extracting EDF parameters from C:\\Users\\mspla\\Documents\\repos\\py_basic_310_Au24\\seizurePy3.9\\data\\raw_data\\chb-mit-scalp-eeg-database-1.0.0\\chb18\\chb18_05.edf...\n",
      "EDF file detected\n",
      "Setting channel info structure...\n",
      "Creating raw.info structure...\n",
      "Reading 0 ... 921599  =      0.000 ...  3599.996 secs...\n"
     ]
    },
    {
     "name": "stderr",
     "output_type": "stream",
     "text": [
      "C:\\Users\\mspla\\AppData\\Local\\Temp\\ipykernel_12772\\2212051881.py:15: RuntimeWarning: Channel names are not unique, found duplicates for: {'.', 'T8-P8'}. Applying running numbers for duplicates.\n",
      "  edf_data = mne.io.read_raw_edf(file, preload=True)\n"
     ]
    },
    {
     "name": "stdout",
     "output_type": "stream",
     "text": [
      "Extracting EDF parameters from C:\\Users\\mspla\\Documents\\repos\\py_basic_310_Au24\\seizurePy3.9\\data\\raw_data\\chb-mit-scalp-eeg-database-1.0.0\\chb18\\chb18_06.edf...\n",
      "EDF file detected\n",
      "Setting channel info structure...\n",
      "Creating raw.info structure...\n",
      "Reading 0 ... 921599  =      0.000 ...  3599.996 secs...\n"
     ]
    },
    {
     "name": "stderr",
     "output_type": "stream",
     "text": [
      "C:\\Users\\mspla\\AppData\\Local\\Temp\\ipykernel_12772\\2212051881.py:15: RuntimeWarning: Channel names are not unique, found duplicates for: {'.', 'T8-P8'}. Applying running numbers for duplicates.\n",
      "  edf_data = mne.io.read_raw_edf(file, preload=True)\n"
     ]
    },
    {
     "name": "stdout",
     "output_type": "stream",
     "text": [
      "Extracting EDF parameters from C:\\Users\\mspla\\Documents\\repos\\py_basic_310_Au24\\seizurePy3.9\\data\\raw_data\\chb-mit-scalp-eeg-database-1.0.0\\chb18\\chb18_07.edf...\n",
      "EDF file detected\n",
      "Setting channel info structure...\n",
      "Creating raw.info structure...\n",
      "Reading 0 ... 921599  =      0.000 ...  3599.996 secs...\n"
     ]
    },
    {
     "name": "stderr",
     "output_type": "stream",
     "text": [
      "C:\\Users\\mspla\\AppData\\Local\\Temp\\ipykernel_12772\\2212051881.py:15: RuntimeWarning: Channel names are not unique, found duplicates for: {'.', 'T8-P8'}. Applying running numbers for duplicates.\n",
      "  edf_data = mne.io.read_raw_edf(file, preload=True)\n"
     ]
    },
    {
     "name": "stdout",
     "output_type": "stream",
     "text": [
      "Extracting EDF parameters from C:\\Users\\mspla\\Documents\\repos\\py_basic_310_Au24\\seizurePy3.9\\data\\raw_data\\chb-mit-scalp-eeg-database-1.0.0\\chb18\\chb18_08.edf...\n",
      "EDF file detected\n",
      "Setting channel info structure...\n",
      "Creating raw.info structure...\n",
      "Reading 0 ... 921599  =      0.000 ...  3599.996 secs...\n"
     ]
    },
    {
     "name": "stderr",
     "output_type": "stream",
     "text": [
      "C:\\Users\\mspla\\AppData\\Local\\Temp\\ipykernel_12772\\2212051881.py:15: RuntimeWarning: Channel names are not unique, found duplicates for: {'.', 'T8-P8'}. Applying running numbers for duplicates.\n",
      "  edf_data = mne.io.read_raw_edf(file, preload=True)\n"
     ]
    },
    {
     "name": "stdout",
     "output_type": "stream",
     "text": [
      "Extracting EDF parameters from C:\\Users\\mspla\\Documents\\repos\\py_basic_310_Au24\\seizurePy3.9\\data\\raw_data\\chb-mit-scalp-eeg-database-1.0.0\\chb18\\chb18_09.edf...\n",
      "EDF file detected\n",
      "Setting channel info structure...\n",
      "Creating raw.info structure...\n",
      "Reading 0 ... 921599  =      0.000 ...  3599.996 secs...\n"
     ]
    },
    {
     "name": "stderr",
     "output_type": "stream",
     "text": [
      "C:\\Users\\mspla\\AppData\\Local\\Temp\\ipykernel_12772\\2212051881.py:15: RuntimeWarning: Channel names are not unique, found duplicates for: {'.', 'T8-P8'}. Applying running numbers for duplicates.\n",
      "  edf_data = mne.io.read_raw_edf(file, preload=True)\n"
     ]
    },
    {
     "name": "stdout",
     "output_type": "stream",
     "text": [
      "Extracting EDF parameters from C:\\Users\\mspla\\Documents\\repos\\py_basic_310_Au24\\seizurePy3.9\\data\\raw_data\\chb-mit-scalp-eeg-database-1.0.0\\chb18\\chb18_10.edf...\n",
      "EDF file detected\n",
      "Setting channel info structure...\n",
      "Creating raw.info structure...\n",
      "Reading 0 ... 921599  =      0.000 ...  3599.996 secs...\n"
     ]
    },
    {
     "name": "stderr",
     "output_type": "stream",
     "text": [
      "C:\\Users\\mspla\\AppData\\Local\\Temp\\ipykernel_12772\\2212051881.py:15: RuntimeWarning: Channel names are not unique, found duplicates for: {'.', 'T8-P8'}. Applying running numbers for duplicates.\n",
      "  edf_data = mne.io.read_raw_edf(file, preload=True)\n"
     ]
    },
    {
     "name": "stdout",
     "output_type": "stream",
     "text": [
      "Extracting EDF parameters from C:\\Users\\mspla\\Documents\\repos\\py_basic_310_Au24\\seizurePy3.9\\data\\raw_data\\chb-mit-scalp-eeg-database-1.0.0\\chb18\\chb18_11.edf...\n",
      "EDF file detected\n",
      "Setting channel info structure...\n",
      "Creating raw.info structure...\n",
      "Reading 0 ... 921599  =      0.000 ...  3599.996 secs...\n"
     ]
    },
    {
     "name": "stderr",
     "output_type": "stream",
     "text": [
      "C:\\Users\\mspla\\AppData\\Local\\Temp\\ipykernel_12772\\2212051881.py:15: RuntimeWarning: Channel names are not unique, found duplicates for: {'.', 'T8-P8'}. Applying running numbers for duplicates.\n",
      "  edf_data = mne.io.read_raw_edf(file, preload=True)\n"
     ]
    },
    {
     "name": "stdout",
     "output_type": "stream",
     "text": [
      "Extracting EDF parameters from C:\\Users\\mspla\\Documents\\repos\\py_basic_310_Au24\\seizurePy3.9\\data\\raw_data\\chb-mit-scalp-eeg-database-1.0.0\\chb18\\chb18_12.edf...\n",
      "EDF file detected\n",
      "Setting channel info structure...\n",
      "Creating raw.info structure...\n",
      "Reading 0 ... 921599  =      0.000 ...  3599.996 secs...\n"
     ]
    },
    {
     "name": "stderr",
     "output_type": "stream",
     "text": [
      "C:\\Users\\mspla\\AppData\\Local\\Temp\\ipykernel_12772\\2212051881.py:15: RuntimeWarning: Channel names are not unique, found duplicates for: {'.', 'T8-P8'}. Applying running numbers for duplicates.\n",
      "  edf_data = mne.io.read_raw_edf(file, preload=True)\n"
     ]
    },
    {
     "name": "stdout",
     "output_type": "stream",
     "text": [
      "Extracting EDF parameters from C:\\Users\\mspla\\Documents\\repos\\py_basic_310_Au24\\seizurePy3.9\\data\\raw_data\\chb-mit-scalp-eeg-database-1.0.0\\chb18\\chb18_13.edf...\n",
      "EDF file detected\n",
      "Setting channel info structure...\n",
      "Creating raw.info structure...\n",
      "Reading 0 ... 921599  =      0.000 ...  3599.996 secs...\n"
     ]
    },
    {
     "name": "stderr",
     "output_type": "stream",
     "text": [
      "C:\\Users\\mspla\\AppData\\Local\\Temp\\ipykernel_12772\\2212051881.py:15: RuntimeWarning: Channel names are not unique, found duplicates for: {'.', 'T8-P8'}. Applying running numbers for duplicates.\n",
      "  edf_data = mne.io.read_raw_edf(file, preload=True)\n"
     ]
    },
    {
     "name": "stdout",
     "output_type": "stream",
     "text": [
      "Extracting EDF parameters from C:\\Users\\mspla\\Documents\\repos\\py_basic_310_Au24\\seizurePy3.9\\data\\raw_data\\chb-mit-scalp-eeg-database-1.0.0\\chb18\\chb18_14.edf...\n",
      "EDF file detected\n",
      "Setting channel info structure...\n",
      "Creating raw.info structure...\n",
      "Reading 0 ... 921599  =      0.000 ...  3599.996 secs...\n"
     ]
    },
    {
     "name": "stderr",
     "output_type": "stream",
     "text": [
      "C:\\Users\\mspla\\AppData\\Local\\Temp\\ipykernel_12772\\2212051881.py:15: RuntimeWarning: Channel names are not unique, found duplicates for: {'.', 'T8-P8'}. Applying running numbers for duplicates.\n",
      "  edf_data = mne.io.read_raw_edf(file, preload=True)\n"
     ]
    },
    {
     "name": "stdout",
     "output_type": "stream",
     "text": [
      "Extracting EDF parameters from C:\\Users\\mspla\\Documents\\repos\\py_basic_310_Au24\\seizurePy3.9\\data\\raw_data\\chb-mit-scalp-eeg-database-1.0.0\\chb18\\chb18_15.edf...\n",
      "EDF file detected\n",
      "Setting channel info structure...\n",
      "Creating raw.info structure...\n",
      "Reading 0 ... 921599  =      0.000 ...  3599.996 secs...\n"
     ]
    },
    {
     "name": "stderr",
     "output_type": "stream",
     "text": [
      "C:\\Users\\mspla\\AppData\\Local\\Temp\\ipykernel_12772\\2212051881.py:15: RuntimeWarning: Channel names are not unique, found duplicates for: {'.', 'T8-P8'}. Applying running numbers for duplicates.\n",
      "  edf_data = mne.io.read_raw_edf(file, preload=True)\n"
     ]
    },
    {
     "name": "stdout",
     "output_type": "stream",
     "text": [
      "Extracting EDF parameters from C:\\Users\\mspla\\Documents\\repos\\py_basic_310_Au24\\seizurePy3.9\\data\\raw_data\\chb-mit-scalp-eeg-database-1.0.0\\chb18\\chb18_16.edf...\n",
      "EDF file detected\n",
      "Setting channel info structure...\n",
      "Creating raw.info structure...\n",
      "Reading 0 ... 921599  =      0.000 ...  3599.996 secs...\n"
     ]
    },
    {
     "name": "stderr",
     "output_type": "stream",
     "text": [
      "C:\\Users\\mspla\\AppData\\Local\\Temp\\ipykernel_12772\\2212051881.py:15: RuntimeWarning: Channel names are not unique, found duplicates for: {'.', 'T8-P8'}. Applying running numbers for duplicates.\n",
      "  edf_data = mne.io.read_raw_edf(file, preload=True)\n"
     ]
    },
    {
     "name": "stdout",
     "output_type": "stream",
     "text": [
      "Extracting EDF parameters from C:\\Users\\mspla\\Documents\\repos\\py_basic_310_Au24\\seizurePy3.9\\data\\raw_data\\chb-mit-scalp-eeg-database-1.0.0\\chb18\\chb18_17.edf...\n",
      "EDF file detected\n",
      "Setting channel info structure...\n",
      "Creating raw.info structure...\n",
      "Reading 0 ... 921599  =      0.000 ...  3599.996 secs...\n"
     ]
    },
    {
     "name": "stderr",
     "output_type": "stream",
     "text": [
      "C:\\Users\\mspla\\AppData\\Local\\Temp\\ipykernel_12772\\2212051881.py:15: RuntimeWarning: Channel names are not unique, found duplicates for: {'.', 'T8-P8'}. Applying running numbers for duplicates.\n",
      "  edf_data = mne.io.read_raw_edf(file, preload=True)\n"
     ]
    },
    {
     "name": "stdout",
     "output_type": "stream",
     "text": [
      "Extracting EDF parameters from C:\\Users\\mspla\\Documents\\repos\\py_basic_310_Au24\\seizurePy3.9\\data\\raw_data\\chb-mit-scalp-eeg-database-1.0.0\\chb18\\chb18_18.edf...\n",
      "EDF file detected\n",
      "Setting channel info structure...\n",
      "Creating raw.info structure...\n",
      "Reading 0 ... 921599  =      0.000 ...  3599.996 secs...\n"
     ]
    },
    {
     "name": "stderr",
     "output_type": "stream",
     "text": [
      "C:\\Users\\mspla\\AppData\\Local\\Temp\\ipykernel_12772\\2212051881.py:15: RuntimeWarning: Channel names are not unique, found duplicates for: {'.', 'T8-P8'}. Applying running numbers for duplicates.\n",
      "  edf_data = mne.io.read_raw_edf(file, preload=True)\n"
     ]
    },
    {
     "name": "stdout",
     "output_type": "stream",
     "text": [
      "Extracting EDF parameters from C:\\Users\\mspla\\Documents\\repos\\py_basic_310_Au24\\seizurePy3.9\\data\\raw_data\\chb-mit-scalp-eeg-database-1.0.0\\chb18\\chb18_19.edf...\n",
      "EDF file detected\n",
      "Setting channel info structure...\n",
      "Creating raw.info structure...\n",
      "Reading 0 ... 921599  =      0.000 ...  3599.996 secs...\n"
     ]
    },
    {
     "name": "stderr",
     "output_type": "stream",
     "text": [
      "C:\\Users\\mspla\\AppData\\Local\\Temp\\ipykernel_12772\\2212051881.py:15: RuntimeWarning: Channel names are not unique, found duplicates for: {'.', 'T8-P8'}. Applying running numbers for duplicates.\n",
      "  edf_data = mne.io.read_raw_edf(file, preload=True)\n"
     ]
    },
    {
     "name": "stdout",
     "output_type": "stream",
     "text": [
      "Extracting EDF parameters from C:\\Users\\mspla\\Documents\\repos\\py_basic_310_Au24\\seizurePy3.9\\data\\raw_data\\chb-mit-scalp-eeg-database-1.0.0\\chb18\\chb18_20.edf...\n",
      "EDF file detected\n",
      "Setting channel info structure...\n",
      "Creating raw.info structure...\n",
      "Reading 0 ... 921599  =      0.000 ...  3599.996 secs...\n"
     ]
    },
    {
     "name": "stderr",
     "output_type": "stream",
     "text": [
      "C:\\Users\\mspla\\AppData\\Local\\Temp\\ipykernel_12772\\2212051881.py:15: RuntimeWarning: Channel names are not unique, found duplicates for: {'.', 'T8-P8'}. Applying running numbers for duplicates.\n",
      "  edf_data = mne.io.read_raw_edf(file, preload=True)\n"
     ]
    },
    {
     "name": "stdout",
     "output_type": "stream",
     "text": [
      "Extracting EDF parameters from C:\\Users\\mspla\\Documents\\repos\\py_basic_310_Au24\\seizurePy3.9\\data\\raw_data\\chb-mit-scalp-eeg-database-1.0.0\\chb18\\chb18_21.edf...\n",
      "EDF file detected\n",
      "Setting channel info structure...\n",
      "Creating raw.info structure...\n",
      "Reading 0 ... 921599  =      0.000 ...  3599.996 secs...\n"
     ]
    },
    {
     "name": "stderr",
     "output_type": "stream",
     "text": [
      "C:\\Users\\mspla\\AppData\\Local\\Temp\\ipykernel_12772\\2212051881.py:15: RuntimeWarning: Channel names are not unique, found duplicates for: {'.', 'T8-P8'}. Applying running numbers for duplicates.\n",
      "  edf_data = mne.io.read_raw_edf(file, preload=True)\n"
     ]
    },
    {
     "name": "stdout",
     "output_type": "stream",
     "text": [
      "Extracting EDF parameters from C:\\Users\\mspla\\Documents\\repos\\py_basic_310_Au24\\seizurePy3.9\\data\\raw_data\\chb-mit-scalp-eeg-database-1.0.0\\chb18\\chb18_22.edf...\n",
      "EDF file detected\n",
      "Setting channel info structure...\n",
      "Creating raw.info structure...\n",
      "Reading 0 ... 921599  =      0.000 ...  3599.996 secs...\n"
     ]
    },
    {
     "name": "stderr",
     "output_type": "stream",
     "text": [
      "C:\\Users\\mspla\\AppData\\Local\\Temp\\ipykernel_12772\\2212051881.py:15: RuntimeWarning: Channel names are not unique, found duplicates for: {'.', 'T8-P8'}. Applying running numbers for duplicates.\n",
      "  edf_data = mne.io.read_raw_edf(file, preload=True)\n"
     ]
    },
    {
     "name": "stdout",
     "output_type": "stream",
     "text": [
      "Extracting EDF parameters from C:\\Users\\mspla\\Documents\\repos\\py_basic_310_Au24\\seizurePy3.9\\data\\raw_data\\chb-mit-scalp-eeg-database-1.0.0\\chb18\\chb18_23.edf...\n",
      "EDF file detected\n",
      "Setting channel info structure...\n",
      "Creating raw.info structure...\n",
      "Reading 0 ... 921599  =      0.000 ...  3599.996 secs...\n"
     ]
    },
    {
     "name": "stderr",
     "output_type": "stream",
     "text": [
      "C:\\Users\\mspla\\AppData\\Local\\Temp\\ipykernel_12772\\2212051881.py:15: RuntimeWarning: Channel names are not unique, found duplicates for: {'.', 'T8-P8'}. Applying running numbers for duplicates.\n",
      "  edf_data = mne.io.read_raw_edf(file, preload=True)\n"
     ]
    },
    {
     "name": "stdout",
     "output_type": "stream",
     "text": [
      "Extracting EDF parameters from C:\\Users\\mspla\\Documents\\repos\\py_basic_310_Au24\\seizurePy3.9\\data\\raw_data\\chb-mit-scalp-eeg-database-1.0.0\\chb18\\chb18_24.edf...\n",
      "EDF file detected\n",
      "Setting channel info structure...\n",
      "Creating raw.info structure...\n",
      "Reading 0 ... 921599  =      0.000 ...  3599.996 secs...\n"
     ]
    },
    {
     "name": "stderr",
     "output_type": "stream",
     "text": [
      "C:\\Users\\mspla\\AppData\\Local\\Temp\\ipykernel_12772\\2212051881.py:15: RuntimeWarning: Channel names are not unique, found duplicates for: {'.', 'T8-P8'}. Applying running numbers for duplicates.\n",
      "  edf_data = mne.io.read_raw_edf(file, preload=True)\n"
     ]
    },
    {
     "name": "stdout",
     "output_type": "stream",
     "text": [
      "Extracting EDF parameters from C:\\Users\\mspla\\Documents\\repos\\py_basic_310_Au24\\seizurePy3.9\\data\\raw_data\\chb-mit-scalp-eeg-database-1.0.0\\chb18\\chb18_25.edf...\n",
      "EDF file detected\n",
      "Setting channel info structure...\n",
      "Creating raw.info structure...\n",
      "Reading 0 ... 921599  =      0.000 ...  3599.996 secs...\n"
     ]
    },
    {
     "name": "stderr",
     "output_type": "stream",
     "text": [
      "C:\\Users\\mspla\\AppData\\Local\\Temp\\ipykernel_12772\\2212051881.py:15: RuntimeWarning: Channel names are not unique, found duplicates for: {'.', 'T8-P8'}. Applying running numbers for duplicates.\n",
      "  edf_data = mne.io.read_raw_edf(file, preload=True)\n"
     ]
    },
    {
     "name": "stdout",
     "output_type": "stream",
     "text": [
      "Extracting EDF parameters from C:\\Users\\mspla\\Documents\\repos\\py_basic_310_Au24\\seizurePy3.9\\data\\raw_data\\chb-mit-scalp-eeg-database-1.0.0\\chb18\\chb18_26.edf...\n",
      "EDF file detected\n",
      "Setting channel info structure...\n",
      "Creating raw.info structure...\n",
      "Reading 0 ... 921599  =      0.000 ...  3599.996 secs...\n"
     ]
    },
    {
     "name": "stderr",
     "output_type": "stream",
     "text": [
      "C:\\Users\\mspla\\AppData\\Local\\Temp\\ipykernel_12772\\2212051881.py:15: RuntimeWarning: Channel names are not unique, found duplicates for: {'.', 'T8-P8'}. Applying running numbers for duplicates.\n",
      "  edf_data = mne.io.read_raw_edf(file, preload=True)\n"
     ]
    },
    {
     "name": "stdout",
     "output_type": "stream",
     "text": [
      "Extracting EDF parameters from C:\\Users\\mspla\\Documents\\repos\\py_basic_310_Au24\\seizurePy3.9\\data\\raw_data\\chb-mit-scalp-eeg-database-1.0.0\\chb18\\chb18_27.edf...\n",
      "EDF file detected\n",
      "Setting channel info structure...\n",
      "Creating raw.info structure...\n",
      "Reading 0 ... 921599  =      0.000 ...  3599.996 secs...\n"
     ]
    },
    {
     "name": "stderr",
     "output_type": "stream",
     "text": [
      "C:\\Users\\mspla\\AppData\\Local\\Temp\\ipykernel_12772\\2212051881.py:15: RuntimeWarning: Channel names are not unique, found duplicates for: {'.', 'T8-P8'}. Applying running numbers for duplicates.\n",
      "  edf_data = mne.io.read_raw_edf(file, preload=True)\n"
     ]
    },
    {
     "name": "stdout",
     "output_type": "stream",
     "text": [
      "Extracting EDF parameters from C:\\Users\\mspla\\Documents\\repos\\py_basic_310_Au24\\seizurePy3.9\\data\\raw_data\\chb-mit-scalp-eeg-database-1.0.0\\chb18\\chb18_28.edf...\n",
      "EDF file detected\n",
      "Setting channel info structure...\n",
      "Creating raw.info structure...\n",
      "Reading 0 ... 921599  =      0.000 ...  3599.996 secs...\n"
     ]
    },
    {
     "name": "stderr",
     "output_type": "stream",
     "text": [
      "C:\\Users\\mspla\\AppData\\Local\\Temp\\ipykernel_12772\\2212051881.py:15: RuntimeWarning: Channel names are not unique, found duplicates for: {'.', 'T8-P8'}. Applying running numbers for duplicates.\n",
      "  edf_data = mne.io.read_raw_edf(file, preload=True)\n"
     ]
    },
    {
     "name": "stdout",
     "output_type": "stream",
     "text": [
      "Extracting EDF parameters from C:\\Users\\mspla\\Documents\\repos\\py_basic_310_Au24\\seizurePy3.9\\data\\raw_data\\chb-mit-scalp-eeg-database-1.0.0\\chb18\\chb18_29.edf...\n",
      "EDF file detected\n",
      "Setting channel info structure...\n",
      "Creating raw.info structure...\n",
      "Reading 0 ... 921599  =      0.000 ...  3599.996 secs...\n"
     ]
    },
    {
     "name": "stderr",
     "output_type": "stream",
     "text": [
      "C:\\Users\\mspla\\AppData\\Local\\Temp\\ipykernel_12772\\2212051881.py:15: RuntimeWarning: Channel names are not unique, found duplicates for: {'.', 'T8-P8'}. Applying running numbers for duplicates.\n",
      "  edf_data = mne.io.read_raw_edf(file, preload=True)\n"
     ]
    },
    {
     "name": "stdout",
     "output_type": "stream",
     "text": [
      "Extracting EDF parameters from C:\\Users\\mspla\\Documents\\repos\\py_basic_310_Au24\\seizurePy3.9\\data\\raw_data\\chb-mit-scalp-eeg-database-1.0.0\\chb18\\chb18_30.edf...\n",
      "EDF file detected\n",
      "Setting channel info structure...\n",
      "Creating raw.info structure...\n",
      "Reading 0 ... 921599  =      0.000 ...  3599.996 secs...\n"
     ]
    },
    {
     "name": "stderr",
     "output_type": "stream",
     "text": [
      "C:\\Users\\mspla\\AppData\\Local\\Temp\\ipykernel_12772\\2212051881.py:15: RuntimeWarning: Channel names are not unique, found duplicates for: {'.', 'T8-P8'}. Applying running numbers for duplicates.\n",
      "  edf_data = mne.io.read_raw_edf(file, preload=True)\n"
     ]
    },
    {
     "name": "stdout",
     "output_type": "stream",
     "text": [
      "Extracting EDF parameters from C:\\Users\\mspla\\Documents\\repos\\py_basic_310_Au24\\seizurePy3.9\\data\\raw_data\\chb-mit-scalp-eeg-database-1.0.0\\chb18\\chb18_31.edf...\n",
      "EDF file detected\n",
      "Setting channel info structure...\n",
      "Creating raw.info structure...\n",
      "Reading 0 ... 582143  =      0.000 ...  2273.996 secs...\n"
     ]
    },
    {
     "name": "stderr",
     "output_type": "stream",
     "text": [
      "C:\\Users\\mspla\\AppData\\Local\\Temp\\ipykernel_12772\\2212051881.py:15: RuntimeWarning: Channel names are not unique, found duplicates for: {'.', 'T8-P8'}. Applying running numbers for duplicates.\n",
      "  edf_data = mne.io.read_raw_edf(file, preload=True)\n"
     ]
    },
    {
     "name": "stdout",
     "output_type": "stream",
     "text": [
      "Extracting EDF parameters from C:\\Users\\mspla\\Documents\\repos\\py_basic_310_Au24\\seizurePy3.9\\data\\raw_data\\chb-mit-scalp-eeg-database-1.0.0\\chb18\\chb18_32.edf...\n",
      "EDF file detected\n",
      "Setting channel info structure...\n",
      "Creating raw.info structure...\n",
      "Reading 0 ... 921599  =      0.000 ...  3599.996 secs...\n"
     ]
    },
    {
     "name": "stderr",
     "output_type": "stream",
     "text": [
      "C:\\Users\\mspla\\AppData\\Local\\Temp\\ipykernel_12772\\2212051881.py:15: RuntimeWarning: Channel names are not unique, found duplicates for: {'.', 'T8-P8'}. Applying running numbers for duplicates.\n",
      "  edf_data = mne.io.read_raw_edf(file, preload=True)\n"
     ]
    },
    {
     "name": "stdout",
     "output_type": "stream",
     "text": [
      "Extracting EDF parameters from C:\\Users\\mspla\\Documents\\repos\\py_basic_310_Au24\\seizurePy3.9\\data\\raw_data\\chb-mit-scalp-eeg-database-1.0.0\\chb18\\chb18_33.edf...\n",
      "EDF file detected\n",
      "Setting channel info structure...\n",
      "Creating raw.info structure...\n",
      "Reading 0 ... 921599  =      0.000 ...  3599.996 secs...\n"
     ]
    },
    {
     "name": "stderr",
     "output_type": "stream",
     "text": [
      "C:\\Users\\mspla\\AppData\\Local\\Temp\\ipykernel_12772\\2212051881.py:15: RuntimeWarning: Channel names are not unique, found duplicates for: {'.', 'T8-P8'}. Applying running numbers for duplicates.\n",
      "  edf_data = mne.io.read_raw_edf(file, preload=True)\n"
     ]
    },
    {
     "name": "stdout",
     "output_type": "stream",
     "text": [
      "Extracting EDF parameters from C:\\Users\\mspla\\Documents\\repos\\py_basic_310_Au24\\seizurePy3.9\\data\\raw_data\\chb-mit-scalp-eeg-database-1.0.0\\chb18\\chb18_34.edf...\n",
      "EDF file detected\n",
      "Setting channel info structure...\n",
      "Creating raw.info structure...\n",
      "Reading 0 ... 921599  =      0.000 ...  3599.996 secs...\n"
     ]
    },
    {
     "name": "stderr",
     "output_type": "stream",
     "text": [
      "C:\\Users\\mspla\\AppData\\Local\\Temp\\ipykernel_12772\\2212051881.py:15: RuntimeWarning: Channel names are not unique, found duplicates for: {'.', 'T8-P8'}. Applying running numbers for duplicates.\n",
      "  edf_data = mne.io.read_raw_edf(file, preload=True)\n"
     ]
    },
    {
     "name": "stdout",
     "output_type": "stream",
     "text": [
      "Extracting EDF parameters from C:\\Users\\mspla\\Documents\\repos\\py_basic_310_Au24\\seizurePy3.9\\data\\raw_data\\chb-mit-scalp-eeg-database-1.0.0\\chb18\\chb18_35.edf...\n",
      "EDF file detected\n",
      "Setting channel info structure...\n",
      "Creating raw.info structure...\n",
      "Reading 0 ... 921599  =      0.000 ...  3599.996 secs...\n"
     ]
    },
    {
     "name": "stderr",
     "output_type": "stream",
     "text": [
      "C:\\Users\\mspla\\AppData\\Local\\Temp\\ipykernel_12772\\2212051881.py:15: RuntimeWarning: Channel names are not unique, found duplicates for: {'.', 'T8-P8'}. Applying running numbers for duplicates.\n",
      "  edf_data = mne.io.read_raw_edf(file, preload=True)\n"
     ]
    },
    {
     "name": "stdout",
     "output_type": "stream",
     "text": [
      "Extracting EDF parameters from C:\\Users\\mspla\\Documents\\repos\\py_basic_310_Au24\\seizurePy3.9\\data\\raw_data\\chb-mit-scalp-eeg-database-1.0.0\\chb18\\chb18_36.edf...\n",
      "EDF file detected\n",
      "Setting channel info structure...\n",
      "Creating raw.info structure...\n",
      "Reading 0 ... 921599  =      0.000 ...  3599.996 secs...\n"
     ]
    },
    {
     "name": "stderr",
     "output_type": "stream",
     "text": [
      "C:\\Users\\mspla\\AppData\\Local\\Temp\\ipykernel_12772\\2212051881.py:15: RuntimeWarning: Channel names are not unique, found duplicates for: {'.', 'T8-P8'}. Applying running numbers for duplicates.\n",
      "  edf_data = mne.io.read_raw_edf(file, preload=True)\n"
     ]
    },
    {
     "name": "stdout",
     "output_type": "stream",
     "text": [
      "Extracting EDF parameters from C:\\Users\\mspla\\Documents\\repos\\py_basic_310_Au24\\seizurePy3.9\\data\\raw_data\\chb-mit-scalp-eeg-database-1.0.0\\chb19\\chb19_01.edf...\n",
      "EDF file detected\n",
      "Setting channel info structure...\n",
      "Creating raw.info structure...\n",
      "Reading 0 ... 921599  =      0.000 ...  3599.996 secs...\n"
     ]
    },
    {
     "name": "stderr",
     "output_type": "stream",
     "text": [
      "C:\\Users\\mspla\\AppData\\Local\\Temp\\ipykernel_12772\\2212051881.py:15: RuntimeWarning: Channel names are not unique, found duplicates for: {'-'}. Applying running numbers for duplicates.\n",
      "  edf_data = mne.io.read_raw_edf(file, preload=True)\n",
      "C:\\Users\\mspla\\AppData\\Local\\Temp\\ipykernel_12772\\2212051881.py:15: RuntimeWarning: Scaling factor is not defined in following channels:\n",
      "--0, --1, --2, --3\n",
      "  edf_data = mne.io.read_raw_edf(file, preload=True)\n"
     ]
    },
    {
     "name": "stdout",
     "output_type": "stream",
     "text": [
      "Extracting EDF parameters from C:\\Users\\mspla\\Documents\\repos\\py_basic_310_Au24\\seizurePy3.9\\data\\raw_data\\chb-mit-scalp-eeg-database-1.0.0\\chb19\\chb19_02.edf...\n",
      "EDF file detected\n",
      "Setting channel info structure...\n",
      "Creating raw.info structure...\n",
      "Reading 0 ... 921599  =      0.000 ...  3599.996 secs...\n"
     ]
    },
    {
     "name": "stderr",
     "output_type": "stream",
     "text": [
      "C:\\Users\\mspla\\AppData\\Local\\Temp\\ipykernel_12772\\2212051881.py:15: RuntimeWarning: Channel names are not unique, found duplicates for: {'-', 'T8-P8'}. Applying running numbers for duplicates.\n",
      "  edf_data = mne.io.read_raw_edf(file, preload=True)\n",
      "C:\\Users\\mspla\\AppData\\Local\\Temp\\ipykernel_12772\\2212051881.py:15: RuntimeWarning: Scaling factor is not defined in following channels:\n",
      "--0, --1, --2, --3, --4\n",
      "  edf_data = mne.io.read_raw_edf(file, preload=True)\n"
     ]
    },
    {
     "name": "stdout",
     "output_type": "stream",
     "text": [
      "Extracting EDF parameters from C:\\Users\\mspla\\Documents\\repos\\py_basic_310_Au24\\seizurePy3.9\\data\\raw_data\\chb-mit-scalp-eeg-database-1.0.0\\chb19\\chb19_03.edf...\n",
      "EDF file detected\n",
      "Setting channel info structure...\n",
      "Creating raw.info structure...\n",
      "Reading 0 ... 921599  =      0.000 ...  3599.996 secs...\n"
     ]
    },
    {
     "name": "stderr",
     "output_type": "stream",
     "text": [
      "C:\\Users\\mspla\\AppData\\Local\\Temp\\ipykernel_12772\\2212051881.py:15: RuntimeWarning: Channel names are not unique, found duplicates for: {'-', 'T8-P8'}. Applying running numbers for duplicates.\n",
      "  edf_data = mne.io.read_raw_edf(file, preload=True)\n",
      "C:\\Users\\mspla\\AppData\\Local\\Temp\\ipykernel_12772\\2212051881.py:15: RuntimeWarning: Scaling factor is not defined in following channels:\n",
      "--0, --1, --2, --3, --4\n",
      "  edf_data = mne.io.read_raw_edf(file, preload=True)\n"
     ]
    },
    {
     "name": "stdout",
     "output_type": "stream",
     "text": [
      "Extracting EDF parameters from C:\\Users\\mspla\\Documents\\repos\\py_basic_310_Au24\\seizurePy3.9\\data\\raw_data\\chb-mit-scalp-eeg-database-1.0.0\\chb19\\chb19_04.edf...\n",
      "EDF file detected\n",
      "Setting channel info structure...\n",
      "Creating raw.info structure...\n",
      "Reading 0 ... 921599  =      0.000 ...  3599.996 secs...\n"
     ]
    },
    {
     "name": "stderr",
     "output_type": "stream",
     "text": [
      "C:\\Users\\mspla\\AppData\\Local\\Temp\\ipykernel_12772\\2212051881.py:15: RuntimeWarning: Channel names are not unique, found duplicates for: {'-', 'T8-P8'}. Applying running numbers for duplicates.\n",
      "  edf_data = mne.io.read_raw_edf(file, preload=True)\n",
      "C:\\Users\\mspla\\AppData\\Local\\Temp\\ipykernel_12772\\2212051881.py:15: RuntimeWarning: Scaling factor is not defined in following channels:\n",
      "--0, --1, --2, --3, --4\n",
      "  edf_data = mne.io.read_raw_edf(file, preload=True)\n"
     ]
    },
    {
     "name": "stdout",
     "output_type": "stream",
     "text": [
      "Extracting EDF parameters from C:\\Users\\mspla\\Documents\\repos\\py_basic_310_Au24\\seizurePy3.9\\data\\raw_data\\chb-mit-scalp-eeg-database-1.0.0\\chb19\\chb19_05.edf...\n",
      "EDF file detected\n",
      "Setting channel info structure...\n",
      "Creating raw.info structure...\n",
      "Reading 0 ... 921599  =      0.000 ...  3599.996 secs...\n"
     ]
    },
    {
     "name": "stderr",
     "output_type": "stream",
     "text": [
      "C:\\Users\\mspla\\AppData\\Local\\Temp\\ipykernel_12772\\2212051881.py:15: RuntimeWarning: Channel names are not unique, found duplicates for: {'-', 'T8-P8'}. Applying running numbers for duplicates.\n",
      "  edf_data = mne.io.read_raw_edf(file, preload=True)\n",
      "C:\\Users\\mspla\\AppData\\Local\\Temp\\ipykernel_12772\\2212051881.py:15: RuntimeWarning: Scaling factor is not defined in following channels:\n",
      "--0, --1, --2, --3, --4\n",
      "  edf_data = mne.io.read_raw_edf(file, preload=True)\n"
     ]
    },
    {
     "name": "stdout",
     "output_type": "stream",
     "text": [
      "Extracting EDF parameters from C:\\Users\\mspla\\Documents\\repos\\py_basic_310_Au24\\seizurePy3.9\\data\\raw_data\\chb-mit-scalp-eeg-database-1.0.0\\chb19\\chb19_06.edf...\n",
      "EDF file detected\n",
      "Setting channel info structure...\n",
      "Creating raw.info structure...\n",
      "Reading 0 ... 921599  =      0.000 ...  3599.996 secs...\n"
     ]
    },
    {
     "name": "stderr",
     "output_type": "stream",
     "text": [
      "C:\\Users\\mspla\\AppData\\Local\\Temp\\ipykernel_12772\\2212051881.py:15: RuntimeWarning: Channel names are not unique, found duplicates for: {'-', 'T8-P8'}. Applying running numbers for duplicates.\n",
      "  edf_data = mne.io.read_raw_edf(file, preload=True)\n",
      "C:\\Users\\mspla\\AppData\\Local\\Temp\\ipykernel_12772\\2212051881.py:15: RuntimeWarning: Scaling factor is not defined in following channels:\n",
      "--0, --1, --2, --3, --4\n",
      "  edf_data = mne.io.read_raw_edf(file, preload=True)\n"
     ]
    },
    {
     "name": "stdout",
     "output_type": "stream",
     "text": [
      "Extracting EDF parameters from C:\\Users\\mspla\\Documents\\repos\\py_basic_310_Au24\\seizurePy3.9\\data\\raw_data\\chb-mit-scalp-eeg-database-1.0.0\\chb19\\chb19_07.edf...\n",
      "EDF file detected\n",
      "Setting channel info structure...\n",
      "Creating raw.info structure...\n",
      "Reading 0 ... 921599  =      0.000 ...  3599.996 secs...\n"
     ]
    },
    {
     "name": "stderr",
     "output_type": "stream",
     "text": [
      "C:\\Users\\mspla\\AppData\\Local\\Temp\\ipykernel_12772\\2212051881.py:15: RuntimeWarning: Channel names are not unique, found duplicates for: {'-', 'T8-P8'}. Applying running numbers for duplicates.\n",
      "  edf_data = mne.io.read_raw_edf(file, preload=True)\n",
      "C:\\Users\\mspla\\AppData\\Local\\Temp\\ipykernel_12772\\2212051881.py:15: RuntimeWarning: Scaling factor is not defined in following channels:\n",
      "--0, --1, --2, --3, --4\n",
      "  edf_data = mne.io.read_raw_edf(file, preload=True)\n"
     ]
    },
    {
     "name": "stdout",
     "output_type": "stream",
     "text": [
      "Extracting EDF parameters from C:\\Users\\mspla\\Documents\\repos\\py_basic_310_Au24\\seizurePy3.9\\data\\raw_data\\chb-mit-scalp-eeg-database-1.0.0\\chb19\\chb19_08.edf...\n",
      "EDF file detected\n",
      "Setting channel info structure...\n",
      "Creating raw.info structure...\n",
      "Reading 0 ... 921599  =      0.000 ...  3599.996 secs...\n"
     ]
    },
    {
     "name": "stderr",
     "output_type": "stream",
     "text": [
      "C:\\Users\\mspla\\AppData\\Local\\Temp\\ipykernel_12772\\2212051881.py:15: RuntimeWarning: Channel names are not unique, found duplicates for: {'-', 'T8-P8'}. Applying running numbers for duplicates.\n",
      "  edf_data = mne.io.read_raw_edf(file, preload=True)\n",
      "C:\\Users\\mspla\\AppData\\Local\\Temp\\ipykernel_12772\\2212051881.py:15: RuntimeWarning: Scaling factor is not defined in following channels:\n",
      "--0, --1, --2, --3, --4\n",
      "  edf_data = mne.io.read_raw_edf(file, preload=True)\n"
     ]
    },
    {
     "name": "stdout",
     "output_type": "stream",
     "text": [
      "Extracting EDF parameters from C:\\Users\\mspla\\Documents\\repos\\py_basic_310_Au24\\seizurePy3.9\\data\\raw_data\\chb-mit-scalp-eeg-database-1.0.0\\chb19\\chb19_09.edf...\n",
      "EDF file detected\n",
      "Setting channel info structure...\n",
      "Creating raw.info structure...\n",
      "Reading 0 ... 921599  =      0.000 ...  3599.996 secs...\n"
     ]
    },
    {
     "name": "stderr",
     "output_type": "stream",
     "text": [
      "C:\\Users\\mspla\\AppData\\Local\\Temp\\ipykernel_12772\\2212051881.py:15: RuntimeWarning: Channel names are not unique, found duplicates for: {'-', 'T8-P8'}. Applying running numbers for duplicates.\n",
      "  edf_data = mne.io.read_raw_edf(file, preload=True)\n",
      "C:\\Users\\mspla\\AppData\\Local\\Temp\\ipykernel_12772\\2212051881.py:15: RuntimeWarning: Scaling factor is not defined in following channels:\n",
      "--0, --1, --2, --3, --4\n",
      "  edf_data = mne.io.read_raw_edf(file, preload=True)\n"
     ]
    },
    {
     "name": "stdout",
     "output_type": "stream",
     "text": [
      "Extracting EDF parameters from C:\\Users\\mspla\\Documents\\repos\\py_basic_310_Au24\\seizurePy3.9\\data\\raw_data\\chb-mit-scalp-eeg-database-1.0.0\\chb19\\chb19_10.edf...\n",
      "EDF file detected\n",
      "Setting channel info structure...\n",
      "Creating raw.info structure...\n",
      "Reading 0 ... 921599  =      0.000 ...  3599.996 secs...\n"
     ]
    },
    {
     "name": "stderr",
     "output_type": "stream",
     "text": [
      "C:\\Users\\mspla\\AppData\\Local\\Temp\\ipykernel_12772\\2212051881.py:15: RuntimeWarning: Channel names are not unique, found duplicates for: {'-', 'T8-P8'}. Applying running numbers for duplicates.\n",
      "  edf_data = mne.io.read_raw_edf(file, preload=True)\n",
      "C:\\Users\\mspla\\AppData\\Local\\Temp\\ipykernel_12772\\2212051881.py:15: RuntimeWarning: Scaling factor is not defined in following channels:\n",
      "--0, --1, --2, --3, --4\n",
      "  edf_data = mne.io.read_raw_edf(file, preload=True)\n"
     ]
    },
    {
     "name": "stdout",
     "output_type": "stream",
     "text": [
      "Extracting EDF parameters from C:\\Users\\mspla\\Documents\\repos\\py_basic_310_Au24\\seizurePy3.9\\data\\raw_data\\chb-mit-scalp-eeg-database-1.0.0\\chb19\\chb19_11.edf...\n",
      "EDF file detected\n",
      "Setting channel info structure...\n",
      "Creating raw.info structure...\n",
      "Reading 0 ... 921599  =      0.000 ...  3599.996 secs...\n"
     ]
    },
    {
     "name": "stderr",
     "output_type": "stream",
     "text": [
      "C:\\Users\\mspla\\AppData\\Local\\Temp\\ipykernel_12772\\2212051881.py:15: RuntimeWarning: Channel names are not unique, found duplicates for: {'-', 'T8-P8'}. Applying running numbers for duplicates.\n",
      "  edf_data = mne.io.read_raw_edf(file, preload=True)\n",
      "C:\\Users\\mspla\\AppData\\Local\\Temp\\ipykernel_12772\\2212051881.py:15: RuntimeWarning: Scaling factor is not defined in following channels:\n",
      "--0, --1, --2, --3, --4\n",
      "  edf_data = mne.io.read_raw_edf(file, preload=True)\n"
     ]
    },
    {
     "name": "stdout",
     "output_type": "stream",
     "text": [
      "Extracting EDF parameters from C:\\Users\\mspla\\Documents\\repos\\py_basic_310_Au24\\seizurePy3.9\\data\\raw_data\\chb-mit-scalp-eeg-database-1.0.0\\chb19\\chb19_12.edf...\n",
      "EDF file detected\n",
      "Setting channel info structure...\n",
      "Creating raw.info structure...\n",
      "Reading 0 ... 921599  =      0.000 ...  3599.996 secs...\n"
     ]
    },
    {
     "name": "stderr",
     "output_type": "stream",
     "text": [
      "C:\\Users\\mspla\\AppData\\Local\\Temp\\ipykernel_12772\\2212051881.py:15: RuntimeWarning: Channel names are not unique, found duplicates for: {'-', 'T8-P8'}. Applying running numbers for duplicates.\n",
      "  edf_data = mne.io.read_raw_edf(file, preload=True)\n",
      "C:\\Users\\mspla\\AppData\\Local\\Temp\\ipykernel_12772\\2212051881.py:15: RuntimeWarning: Scaling factor is not defined in following channels:\n",
      "--0, --1, --2, --3, --4\n",
      "  edf_data = mne.io.read_raw_edf(file, preload=True)\n"
     ]
    },
    {
     "name": "stdout",
     "output_type": "stream",
     "text": [
      "Extracting EDF parameters from C:\\Users\\mspla\\Documents\\repos\\py_basic_310_Au24\\seizurePy3.9\\data\\raw_data\\chb-mit-scalp-eeg-database-1.0.0\\chb19\\chb19_13.edf...\n",
      "EDF file detected\n",
      "Setting channel info structure...\n",
      "Creating raw.info structure...\n",
      "Reading 0 ... 921599  =      0.000 ...  3599.996 secs...\n"
     ]
    },
    {
     "name": "stderr",
     "output_type": "stream",
     "text": [
      "C:\\Users\\mspla\\AppData\\Local\\Temp\\ipykernel_12772\\2212051881.py:15: RuntimeWarning: Channel names are not unique, found duplicates for: {'-', 'T8-P8'}. Applying running numbers for duplicates.\n",
      "  edf_data = mne.io.read_raw_edf(file, preload=True)\n",
      "C:\\Users\\mspla\\AppData\\Local\\Temp\\ipykernel_12772\\2212051881.py:15: RuntimeWarning: Scaling factor is not defined in following channels:\n",
      "--0, --1, --2, --3, --4\n",
      "  edf_data = mne.io.read_raw_edf(file, preload=True)\n"
     ]
    },
    {
     "name": "stdout",
     "output_type": "stream",
     "text": [
      "Extracting EDF parameters from C:\\Users\\mspla\\Documents\\repos\\py_basic_310_Au24\\seizurePy3.9\\data\\raw_data\\chb-mit-scalp-eeg-database-1.0.0\\chb19\\chb19_14.edf...\n",
      "EDF file detected\n",
      "Setting channel info structure...\n",
      "Creating raw.info structure...\n",
      "Reading 0 ... 921599  =      0.000 ...  3599.996 secs...\n"
     ]
    },
    {
     "name": "stderr",
     "output_type": "stream",
     "text": [
      "C:\\Users\\mspla\\AppData\\Local\\Temp\\ipykernel_12772\\2212051881.py:15: RuntimeWarning: Channel names are not unique, found duplicates for: {'-', 'T8-P8'}. Applying running numbers for duplicates.\n",
      "  edf_data = mne.io.read_raw_edf(file, preload=True)\n",
      "C:\\Users\\mspla\\AppData\\Local\\Temp\\ipykernel_12772\\2212051881.py:15: RuntimeWarning: Scaling factor is not defined in following channels:\n",
      "--0, --1, --2, --3, --4\n",
      "  edf_data = mne.io.read_raw_edf(file, preload=True)\n"
     ]
    },
    {
     "name": "stdout",
     "output_type": "stream",
     "text": [
      "Extracting EDF parameters from C:\\Users\\mspla\\Documents\\repos\\py_basic_310_Au24\\seizurePy3.9\\data\\raw_data\\chb-mit-scalp-eeg-database-1.0.0\\chb19\\chb19_15.edf...\n",
      "EDF file detected\n",
      "Setting channel info structure...\n",
      "Creating raw.info structure...\n",
      "Reading 0 ... 921599  =      0.000 ...  3599.996 secs...\n"
     ]
    },
    {
     "name": "stderr",
     "output_type": "stream",
     "text": [
      "C:\\Users\\mspla\\AppData\\Local\\Temp\\ipykernel_12772\\2212051881.py:15: RuntimeWarning: Channel names are not unique, found duplicates for: {'-', 'T8-P8'}. Applying running numbers for duplicates.\n",
      "  edf_data = mne.io.read_raw_edf(file, preload=True)\n",
      "C:\\Users\\mspla\\AppData\\Local\\Temp\\ipykernel_12772\\2212051881.py:15: RuntimeWarning: Scaling factor is not defined in following channels:\n",
      "--0, --1, --2, --3, --4\n",
      "  edf_data = mne.io.read_raw_edf(file, preload=True)\n"
     ]
    },
    {
     "name": "stdout",
     "output_type": "stream",
     "text": [
      "Extracting EDF parameters from C:\\Users\\mspla\\Documents\\repos\\py_basic_310_Au24\\seizurePy3.9\\data\\raw_data\\chb-mit-scalp-eeg-database-1.0.0\\chb19\\chb19_16.edf...\n",
      "EDF file detected\n",
      "Setting channel info structure...\n",
      "Creating raw.info structure...\n",
      "Reading 0 ... 921599  =      0.000 ...  3599.996 secs...\n"
     ]
    },
    {
     "name": "stderr",
     "output_type": "stream",
     "text": [
      "C:\\Users\\mspla\\AppData\\Local\\Temp\\ipykernel_12772\\2212051881.py:15: RuntimeWarning: Channel names are not unique, found duplicates for: {'-', 'T8-P8'}. Applying running numbers for duplicates.\n",
      "  edf_data = mne.io.read_raw_edf(file, preload=True)\n",
      "C:\\Users\\mspla\\AppData\\Local\\Temp\\ipykernel_12772\\2212051881.py:15: RuntimeWarning: Scaling factor is not defined in following channels:\n",
      "--0, --1, --2, --3, --4\n",
      "  edf_data = mne.io.read_raw_edf(file, preload=True)\n"
     ]
    },
    {
     "name": "stdout",
     "output_type": "stream",
     "text": [
      "Extracting EDF parameters from C:\\Users\\mspla\\Documents\\repos\\py_basic_310_Au24\\seizurePy3.9\\data\\raw_data\\chb-mit-scalp-eeg-database-1.0.0\\chb19\\chb19_17.edf...\n",
      "EDF file detected\n",
      "Setting channel info structure...\n",
      "Creating raw.info structure...\n",
      "Reading 0 ... 921599  =      0.000 ...  3599.996 secs...\n"
     ]
    },
    {
     "name": "stderr",
     "output_type": "stream",
     "text": [
      "C:\\Users\\mspla\\AppData\\Local\\Temp\\ipykernel_12772\\2212051881.py:15: RuntimeWarning: Channel names are not unique, found duplicates for: {'-', 'T8-P8'}. Applying running numbers for duplicates.\n",
      "  edf_data = mne.io.read_raw_edf(file, preload=True)\n",
      "C:\\Users\\mspla\\AppData\\Local\\Temp\\ipykernel_12772\\2212051881.py:15: RuntimeWarning: Scaling factor is not defined in following channels:\n",
      "--0, --1, --2, --3, --4\n",
      "  edf_data = mne.io.read_raw_edf(file, preload=True)\n"
     ]
    },
    {
     "name": "stdout",
     "output_type": "stream",
     "text": [
      "Extracting EDF parameters from C:\\Users\\mspla\\Documents\\repos\\py_basic_310_Au24\\seizurePy3.9\\data\\raw_data\\chb-mit-scalp-eeg-database-1.0.0\\chb19\\chb19_18.edf...\n",
      "EDF file detected\n",
      "Setting channel info structure...\n",
      "Creating raw.info structure...\n",
      "Reading 0 ... 921599  =      0.000 ...  3599.996 secs...\n"
     ]
    },
    {
     "name": "stderr",
     "output_type": "stream",
     "text": [
      "C:\\Users\\mspla\\AppData\\Local\\Temp\\ipykernel_12772\\2212051881.py:15: RuntimeWarning: Channel names are not unique, found duplicates for: {'-', 'T8-P8'}. Applying running numbers for duplicates.\n",
      "  edf_data = mne.io.read_raw_edf(file, preload=True)\n",
      "C:\\Users\\mspla\\AppData\\Local\\Temp\\ipykernel_12772\\2212051881.py:15: RuntimeWarning: Scaling factor is not defined in following channels:\n",
      "--0, --1, --2, --3, --4\n",
      "  edf_data = mne.io.read_raw_edf(file, preload=True)\n"
     ]
    },
    {
     "name": "stdout",
     "output_type": "stream",
     "text": [
      "Extracting EDF parameters from C:\\Users\\mspla\\Documents\\repos\\py_basic_310_Au24\\seizurePy3.9\\data\\raw_data\\chb-mit-scalp-eeg-database-1.0.0\\chb19\\chb19_19.edf...\n",
      "EDF file detected\n",
      "Setting channel info structure...\n",
      "Creating raw.info structure...\n",
      "Reading 0 ... 921599  =      0.000 ...  3599.996 secs...\n"
     ]
    },
    {
     "name": "stderr",
     "output_type": "stream",
     "text": [
      "C:\\Users\\mspla\\AppData\\Local\\Temp\\ipykernel_12772\\2212051881.py:15: RuntimeWarning: Channel names are not unique, found duplicates for: {'-', 'T8-P8'}. Applying running numbers for duplicates.\n",
      "  edf_data = mne.io.read_raw_edf(file, preload=True)\n",
      "C:\\Users\\mspla\\AppData\\Local\\Temp\\ipykernel_12772\\2212051881.py:15: RuntimeWarning: Scaling factor is not defined in following channels:\n",
      "--0, --1, --2, --3, --4\n",
      "  edf_data = mne.io.read_raw_edf(file, preload=True)\n"
     ]
    },
    {
     "name": "stdout",
     "output_type": "stream",
     "text": [
      "Extracting EDF parameters from C:\\Users\\mspla\\Documents\\repos\\py_basic_310_Au24\\seizurePy3.9\\data\\raw_data\\chb-mit-scalp-eeg-database-1.0.0\\chb19\\chb19_20.edf...\n",
      "EDF file detected\n",
      "Setting channel info structure...\n",
      "Creating raw.info structure...\n",
      "Reading 0 ... 921599  =      0.000 ...  3599.996 secs...\n"
     ]
    },
    {
     "name": "stderr",
     "output_type": "stream",
     "text": [
      "C:\\Users\\mspla\\AppData\\Local\\Temp\\ipykernel_12772\\2212051881.py:15: RuntimeWarning: Channel names are not unique, found duplicates for: {'-', 'T8-P8'}. Applying running numbers for duplicates.\n",
      "  edf_data = mne.io.read_raw_edf(file, preload=True)\n",
      "C:\\Users\\mspla\\AppData\\Local\\Temp\\ipykernel_12772\\2212051881.py:15: RuntimeWarning: Scaling factor is not defined in following channels:\n",
      "--0, --1, --2, --3, --4\n",
      "  edf_data = mne.io.read_raw_edf(file, preload=True)\n"
     ]
    },
    {
     "name": "stdout",
     "output_type": "stream",
     "text": [
      "Extracting EDF parameters from C:\\Users\\mspla\\Documents\\repos\\py_basic_310_Au24\\seizurePy3.9\\data\\raw_data\\chb-mit-scalp-eeg-database-1.0.0\\chb19\\chb19_21.edf...\n",
      "EDF file detected\n",
      "Setting channel info structure...\n",
      "Creating raw.info structure...\n",
      "Reading 0 ... 921599  =      0.000 ...  3599.996 secs...\n"
     ]
    },
    {
     "name": "stderr",
     "output_type": "stream",
     "text": [
      "C:\\Users\\mspla\\AppData\\Local\\Temp\\ipykernel_12772\\2212051881.py:15: RuntimeWarning: Channel names are not unique, found duplicates for: {'-', 'T8-P8'}. Applying running numbers for duplicates.\n",
      "  edf_data = mne.io.read_raw_edf(file, preload=True)\n",
      "C:\\Users\\mspla\\AppData\\Local\\Temp\\ipykernel_12772\\2212051881.py:15: RuntimeWarning: Scaling factor is not defined in following channels:\n",
      "--0, --1, --2, --3, --4\n",
      "  edf_data = mne.io.read_raw_edf(file, preload=True)\n"
     ]
    },
    {
     "name": "stdout",
     "output_type": "stream",
     "text": [
      "Extracting EDF parameters from C:\\Users\\mspla\\Documents\\repos\\py_basic_310_Au24\\seizurePy3.9\\data\\raw_data\\chb-mit-scalp-eeg-database-1.0.0\\chb19\\chb19_22.edf...\n",
      "EDF file detected\n",
      "Setting channel info structure...\n",
      "Creating raw.info structure...\n",
      "Reading 0 ... 921599  =      0.000 ...  3599.996 secs...\n"
     ]
    },
    {
     "name": "stderr",
     "output_type": "stream",
     "text": [
      "C:\\Users\\mspla\\AppData\\Local\\Temp\\ipykernel_12772\\2212051881.py:15: RuntimeWarning: Channel names are not unique, found duplicates for: {'-', 'T8-P8'}. Applying running numbers for duplicates.\n",
      "  edf_data = mne.io.read_raw_edf(file, preload=True)\n",
      "C:\\Users\\mspla\\AppData\\Local\\Temp\\ipykernel_12772\\2212051881.py:15: RuntimeWarning: Scaling factor is not defined in following channels:\n",
      "--0, --1, --2, --3, --4\n",
      "  edf_data = mne.io.read_raw_edf(file, preload=True)\n"
     ]
    },
    {
     "name": "stdout",
     "output_type": "stream",
     "text": [
      "Extracting EDF parameters from C:\\Users\\mspla\\Documents\\repos\\py_basic_310_Au24\\seizurePy3.9\\data\\raw_data\\chb-mit-scalp-eeg-database-1.0.0\\chb19\\chb19_23.edf...\n",
      "EDF file detected\n",
      "Setting channel info structure...\n",
      "Creating raw.info structure...\n",
      "Reading 0 ... 921599  =      0.000 ...  3599.996 secs...\n"
     ]
    },
    {
     "name": "stderr",
     "output_type": "stream",
     "text": [
      "C:\\Users\\mspla\\AppData\\Local\\Temp\\ipykernel_12772\\2212051881.py:15: RuntimeWarning: Channel names are not unique, found duplicates for: {'-', 'T8-P8'}. Applying running numbers for duplicates.\n",
      "  edf_data = mne.io.read_raw_edf(file, preload=True)\n",
      "C:\\Users\\mspla\\AppData\\Local\\Temp\\ipykernel_12772\\2212051881.py:15: RuntimeWarning: Scaling factor is not defined in following channels:\n",
      "--0, --1, --2, --3, --4\n",
      "  edf_data = mne.io.read_raw_edf(file, preload=True)\n"
     ]
    },
    {
     "name": "stdout",
     "output_type": "stream",
     "text": [
      "Extracting EDF parameters from C:\\Users\\mspla\\Documents\\repos\\py_basic_310_Au24\\seizurePy3.9\\data\\raw_data\\chb-mit-scalp-eeg-database-1.0.0\\chb19\\chb19_24.edf...\n",
      "EDF file detected\n",
      "Setting channel info structure...\n",
      "Creating raw.info structure...\n",
      "Reading 0 ... 921599  =      0.000 ...  3599.996 secs...\n"
     ]
    },
    {
     "name": "stderr",
     "output_type": "stream",
     "text": [
      "C:\\Users\\mspla\\AppData\\Local\\Temp\\ipykernel_12772\\2212051881.py:15: RuntimeWarning: Channel names are not unique, found duplicates for: {'-', 'T8-P8'}. Applying running numbers for duplicates.\n",
      "  edf_data = mne.io.read_raw_edf(file, preload=True)\n",
      "C:\\Users\\mspla\\AppData\\Local\\Temp\\ipykernel_12772\\2212051881.py:15: RuntimeWarning: Scaling factor is not defined in following channels:\n",
      "--0, --1, --2, --3, --4\n",
      "  edf_data = mne.io.read_raw_edf(file, preload=True)\n"
     ]
    },
    {
     "name": "stdout",
     "output_type": "stream",
     "text": [
      "Extracting EDF parameters from C:\\Users\\mspla\\Documents\\repos\\py_basic_310_Au24\\seizurePy3.9\\data\\raw_data\\chb-mit-scalp-eeg-database-1.0.0\\chb19\\chb19_25.edf...\n",
      "EDF file detected\n",
      "Setting channel info structure...\n",
      "Creating raw.info structure...\n",
      "Reading 0 ... 921599  =      0.000 ...  3599.996 secs...\n"
     ]
    },
    {
     "name": "stderr",
     "output_type": "stream",
     "text": [
      "C:\\Users\\mspla\\AppData\\Local\\Temp\\ipykernel_12772\\2212051881.py:15: RuntimeWarning: Channel names are not unique, found duplicates for: {'-', 'T8-P8'}. Applying running numbers for duplicates.\n",
      "  edf_data = mne.io.read_raw_edf(file, preload=True)\n",
      "C:\\Users\\mspla\\AppData\\Local\\Temp\\ipykernel_12772\\2212051881.py:15: RuntimeWarning: Scaling factor is not defined in following channels:\n",
      "--0, --1, --2, --3, --4\n",
      "  edf_data = mne.io.read_raw_edf(file, preload=True)\n"
     ]
    },
    {
     "name": "stdout",
     "output_type": "stream",
     "text": [
      "Extracting EDF parameters from C:\\Users\\mspla\\Documents\\repos\\py_basic_310_Au24\\seizurePy3.9\\data\\raw_data\\chb-mit-scalp-eeg-database-1.0.0\\chb19\\chb19_26.edf...\n",
      "EDF file detected\n",
      "Setting channel info structure...\n",
      "Creating raw.info structure...\n",
      "Reading 0 ... 921599  =      0.000 ...  3599.996 secs...\n"
     ]
    },
    {
     "name": "stderr",
     "output_type": "stream",
     "text": [
      "C:\\Users\\mspla\\AppData\\Local\\Temp\\ipykernel_12772\\2212051881.py:15: RuntimeWarning: Channel names are not unique, found duplicates for: {'-', 'T8-P8'}. Applying running numbers for duplicates.\n",
      "  edf_data = mne.io.read_raw_edf(file, preload=True)\n",
      "C:\\Users\\mspla\\AppData\\Local\\Temp\\ipykernel_12772\\2212051881.py:15: RuntimeWarning: Scaling factor is not defined in following channels:\n",
      "--0, --1, --2, --3, --4\n",
      "  edf_data = mne.io.read_raw_edf(file, preload=True)\n"
     ]
    },
    {
     "name": "stdout",
     "output_type": "stream",
     "text": [
      "Extracting EDF parameters from C:\\Users\\mspla\\Documents\\repos\\py_basic_310_Au24\\seizurePy3.9\\data\\raw_data\\chb-mit-scalp-eeg-database-1.0.0\\chb19\\chb19_27.edf...\n",
      "EDF file detected\n",
      "Setting channel info structure...\n",
      "Creating raw.info structure...\n",
      "Reading 0 ... 921599  =      0.000 ...  3599.996 secs...\n"
     ]
    },
    {
     "name": "stderr",
     "output_type": "stream",
     "text": [
      "C:\\Users\\mspla\\AppData\\Local\\Temp\\ipykernel_12772\\2212051881.py:15: RuntimeWarning: Channel names are not unique, found duplicates for: {'-', 'T8-P8'}. Applying running numbers for duplicates.\n",
      "  edf_data = mne.io.read_raw_edf(file, preload=True)\n",
      "C:\\Users\\mspla\\AppData\\Local\\Temp\\ipykernel_12772\\2212051881.py:15: RuntimeWarning: Scaling factor is not defined in following channels:\n",
      "--0, --1, --2, --3, --4\n",
      "  edf_data = mne.io.read_raw_edf(file, preload=True)\n"
     ]
    },
    {
     "name": "stdout",
     "output_type": "stream",
     "text": [
      "Extracting EDF parameters from C:\\Users\\mspla\\Documents\\repos\\py_basic_310_Au24\\seizurePy3.9\\data\\raw_data\\chb-mit-scalp-eeg-database-1.0.0\\chb19\\chb19_28.edf...\n",
      "EDF file detected\n",
      "Setting channel info structure...\n",
      "Creating raw.info structure...\n",
      "Reading 0 ... 924671  =      0.000 ...  3611.996 secs...\n"
     ]
    },
    {
     "name": "stderr",
     "output_type": "stream",
     "text": [
      "C:\\Users\\mspla\\AppData\\Local\\Temp\\ipykernel_12772\\2212051881.py:15: RuntimeWarning: Channel names are not unique, found duplicates for: {'-', 'T8-P8'}. Applying running numbers for duplicates.\n",
      "  edf_data = mne.io.read_raw_edf(file, preload=True)\n",
      "C:\\Users\\mspla\\AppData\\Local\\Temp\\ipykernel_12772\\2212051881.py:15: RuntimeWarning: Scaling factor is not defined in following channels:\n",
      "--0, --1, --2, --3, --4\n",
      "  edf_data = mne.io.read_raw_edf(file, preload=True)\n"
     ]
    },
    {
     "name": "stdout",
     "output_type": "stream",
     "text": [
      "Extracting EDF parameters from C:\\Users\\mspla\\Documents\\repos\\py_basic_310_Au24\\seizurePy3.9\\data\\raw_data\\chb-mit-scalp-eeg-database-1.0.0\\chb19\\chb19_29.edf...\n",
      "EDF file detected\n",
      "Setting channel info structure...\n",
      "Creating raw.info structure...\n",
      "Reading 0 ... 921599  =      0.000 ...  3599.996 secs...\n"
     ]
    },
    {
     "name": "stderr",
     "output_type": "stream",
     "text": [
      "C:\\Users\\mspla\\AppData\\Local\\Temp\\ipykernel_12772\\2212051881.py:15: RuntimeWarning: Channel names are not unique, found duplicates for: {'-', 'T8-P8'}. Applying running numbers for duplicates.\n",
      "  edf_data = mne.io.read_raw_edf(file, preload=True)\n",
      "C:\\Users\\mspla\\AppData\\Local\\Temp\\ipykernel_12772\\2212051881.py:15: RuntimeWarning: Scaling factor is not defined in following channels:\n",
      "--0, --1, --2, --3, --4\n",
      "  edf_data = mne.io.read_raw_edf(file, preload=True)\n"
     ]
    },
    {
     "name": "stdout",
     "output_type": "stream",
     "text": [
      "Extracting EDF parameters from C:\\Users\\mspla\\Documents\\repos\\py_basic_310_Au24\\seizurePy3.9\\data\\raw_data\\chb-mit-scalp-eeg-database-1.0.0\\chb19\\chb19_30.edf...\n",
      "EDF file detected\n",
      "Setting channel info structure...\n",
      "Creating raw.info structure...\n",
      "Reading 0 ... 853503  =      0.000 ...  3333.996 secs...\n"
     ]
    },
    {
     "name": "stderr",
     "output_type": "stream",
     "text": [
      "C:\\Users\\mspla\\AppData\\Local\\Temp\\ipykernel_12772\\2212051881.py:15: RuntimeWarning: Channel names are not unique, found duplicates for: {'-', 'T8-P8'}. Applying running numbers for duplicates.\n",
      "  edf_data = mne.io.read_raw_edf(file, preload=True)\n",
      "C:\\Users\\mspla\\AppData\\Local\\Temp\\ipykernel_12772\\2212051881.py:15: RuntimeWarning: Scaling factor is not defined in following channels:\n",
      "--0, --1, --2, --3, --4\n",
      "  edf_data = mne.io.read_raw_edf(file, preload=True)\n"
     ]
    },
    {
     "name": "stdout",
     "output_type": "stream",
     "text": [
      "Extracting EDF parameters from C:\\Users\\mspla\\Documents\\repos\\py_basic_310_Au24\\seizurePy3.9\\data\\raw_data\\chb-mit-scalp-eeg-database-1.0.0\\chb20\\chb20_01.edf...\n",
      "EDF file detected\n",
      "Setting channel info structure...\n",
      "Creating raw.info structure...\n",
      "Reading 0 ... 923135  =      0.000 ...  3605.996 secs...\n"
     ]
    },
    {
     "name": "stderr",
     "output_type": "stream",
     "text": [
      "C:\\Users\\mspla\\AppData\\Local\\Temp\\ipykernel_12772\\2212051881.py:15: RuntimeWarning: Channel names are not unique, found duplicates for: {'.', 'T8-P8'}. Applying running numbers for duplicates.\n",
      "  edf_data = mne.io.read_raw_edf(file, preload=True)\n"
     ]
    },
    {
     "name": "stdout",
     "output_type": "stream",
     "text": [
      "Extracting EDF parameters from C:\\Users\\mspla\\Documents\\repos\\py_basic_310_Au24\\seizurePy3.9\\data\\raw_data\\chb-mit-scalp-eeg-database-1.0.0\\chb20\\chb20_02.edf...\n",
      "EDF file detected\n",
      "Setting channel info structure...\n",
      "Creating raw.info structure...\n",
      "Reading 0 ... 921599  =      0.000 ...  3599.996 secs...\n"
     ]
    },
    {
     "name": "stderr",
     "output_type": "stream",
     "text": [
      "C:\\Users\\mspla\\AppData\\Local\\Temp\\ipykernel_12772\\2212051881.py:15: RuntimeWarning: Channel names are not unique, found duplicates for: {'.', 'T8-P8'}. Applying running numbers for duplicates.\n",
      "  edf_data = mne.io.read_raw_edf(file, preload=True)\n"
     ]
    },
    {
     "name": "stdout",
     "output_type": "stream",
     "text": [
      "Extracting EDF parameters from C:\\Users\\mspla\\Documents\\repos\\py_basic_310_Au24\\seizurePy3.9\\data\\raw_data\\chb-mit-scalp-eeg-database-1.0.0\\chb20\\chb20_03.edf...\n",
      "EDF file detected\n",
      "Setting channel info structure...\n",
      "Creating raw.info structure...\n",
      "Reading 0 ... 921599  =      0.000 ...  3599.996 secs...\n"
     ]
    },
    {
     "name": "stderr",
     "output_type": "stream",
     "text": [
      "C:\\Users\\mspla\\AppData\\Local\\Temp\\ipykernel_12772\\2212051881.py:15: RuntimeWarning: Channel names are not unique, found duplicates for: {'.', 'T8-P8'}. Applying running numbers for duplicates.\n",
      "  edf_data = mne.io.read_raw_edf(file, preload=True)\n"
     ]
    },
    {
     "name": "stdout",
     "output_type": "stream",
     "text": [
      "Extracting EDF parameters from C:\\Users\\mspla\\Documents\\repos\\py_basic_310_Au24\\seizurePy3.9\\data\\raw_data\\chb-mit-scalp-eeg-database-1.0.0\\chb20\\chb20_04.edf...\n",
      "EDF file detected\n",
      "Setting channel info structure...\n",
      "Creating raw.info structure...\n",
      "Reading 0 ... 921599  =      0.000 ...  3599.996 secs...\n"
     ]
    },
    {
     "name": "stderr",
     "output_type": "stream",
     "text": [
      "C:\\Users\\mspla\\AppData\\Local\\Temp\\ipykernel_12772\\2212051881.py:15: RuntimeWarning: Channel names are not unique, found duplicates for: {'.', 'T8-P8'}. Applying running numbers for duplicates.\n",
      "  edf_data = mne.io.read_raw_edf(file, preload=True)\n"
     ]
    },
    {
     "name": "stdout",
     "output_type": "stream",
     "text": [
      "Extracting EDF parameters from C:\\Users\\mspla\\Documents\\repos\\py_basic_310_Au24\\seizurePy3.9\\data\\raw_data\\chb-mit-scalp-eeg-database-1.0.0\\chb20\\chb20_05.edf...\n",
      "EDF file detected\n",
      "Setting channel info structure...\n",
      "Creating raw.info structure...\n",
      "Reading 0 ... 921599  =      0.000 ...  3599.996 secs...\n"
     ]
    },
    {
     "name": "stderr",
     "output_type": "stream",
     "text": [
      "C:\\Users\\mspla\\AppData\\Local\\Temp\\ipykernel_12772\\2212051881.py:15: RuntimeWarning: Channel names are not unique, found duplicates for: {'.', 'T8-P8'}. Applying running numbers for duplicates.\n",
      "  edf_data = mne.io.read_raw_edf(file, preload=True)\n"
     ]
    },
    {
     "name": "stdout",
     "output_type": "stream",
     "text": [
      "Extracting EDF parameters from C:\\Users\\mspla\\Documents\\repos\\py_basic_310_Au24\\seizurePy3.9\\data\\raw_data\\chb-mit-scalp-eeg-database-1.0.0\\chb20\\chb20_06.edf...\n",
      "EDF file detected\n",
      "Setting channel info structure...\n",
      "Creating raw.info structure...\n",
      "Reading 0 ... 921599  =      0.000 ...  3599.996 secs...\n"
     ]
    },
    {
     "name": "stderr",
     "output_type": "stream",
     "text": [
      "C:\\Users\\mspla\\AppData\\Local\\Temp\\ipykernel_12772\\2212051881.py:15: RuntimeWarning: Channel names are not unique, found duplicates for: {'.', 'T8-P8'}. Applying running numbers for duplicates.\n",
      "  edf_data = mne.io.read_raw_edf(file, preload=True)\n"
     ]
    },
    {
     "name": "stdout",
     "output_type": "stream",
     "text": [
      "Extracting EDF parameters from C:\\Users\\mspla\\Documents\\repos\\py_basic_310_Au24\\seizurePy3.9\\data\\raw_data\\chb-mit-scalp-eeg-database-1.0.0\\chb20\\chb20_07.edf...\n",
      "EDF file detected\n",
      "Setting channel info structure...\n",
      "Creating raw.info structure...\n",
      "Reading 0 ... 921599  =      0.000 ...  3599.996 secs...\n"
     ]
    },
    {
     "name": "stderr",
     "output_type": "stream",
     "text": [
      "C:\\Users\\mspla\\AppData\\Local\\Temp\\ipykernel_12772\\2212051881.py:15: RuntimeWarning: Channel names are not unique, found duplicates for: {'.', 'T8-P8'}. Applying running numbers for duplicates.\n",
      "  edf_data = mne.io.read_raw_edf(file, preload=True)\n"
     ]
    },
    {
     "name": "stdout",
     "output_type": "stream",
     "text": [
      "Extracting EDF parameters from C:\\Users\\mspla\\Documents\\repos\\py_basic_310_Au24\\seizurePy3.9\\data\\raw_data\\chb-mit-scalp-eeg-database-1.0.0\\chb20\\chb20_08.edf...\n",
      "EDF file detected\n",
      "Setting channel info structure...\n",
      "Creating raw.info structure...\n",
      "Reading 0 ... 921599  =      0.000 ...  3599.996 secs...\n"
     ]
    },
    {
     "name": "stderr",
     "output_type": "stream",
     "text": [
      "C:\\Users\\mspla\\AppData\\Local\\Temp\\ipykernel_12772\\2212051881.py:15: RuntimeWarning: Channel names are not unique, found duplicates for: {'.', 'T8-P8'}. Applying running numbers for duplicates.\n",
      "  edf_data = mne.io.read_raw_edf(file, preload=True)\n"
     ]
    },
    {
     "name": "stdout",
     "output_type": "stream",
     "text": [
      "Extracting EDF parameters from C:\\Users\\mspla\\Documents\\repos\\py_basic_310_Au24\\seizurePy3.9\\data\\raw_data\\chb-mit-scalp-eeg-database-1.0.0\\chb20\\chb20_11.edf...\n",
      "EDF file detected\n",
      "Setting channel info structure...\n",
      "Creating raw.info structure...\n",
      "Reading 0 ... 921599  =      0.000 ...  3599.996 secs...\n"
     ]
    },
    {
     "name": "stderr",
     "output_type": "stream",
     "text": [
      "C:\\Users\\mspla\\AppData\\Local\\Temp\\ipykernel_12772\\2212051881.py:15: RuntimeWarning: Channel names are not unique, found duplicates for: {'.', 'T8-P8'}. Applying running numbers for duplicates.\n",
      "  edf_data = mne.io.read_raw_edf(file, preload=True)\n"
     ]
    },
    {
     "name": "stdout",
     "output_type": "stream",
     "text": [
      "Extracting EDF parameters from C:\\Users\\mspla\\Documents\\repos\\py_basic_310_Au24\\seizurePy3.9\\data\\raw_data\\chb-mit-scalp-eeg-database-1.0.0\\chb20\\chb20_12.edf...\n",
      "EDF file detected\n",
      "Setting channel info structure...\n",
      "Creating raw.info structure...\n",
      "Reading 0 ... 921599  =      0.000 ...  3599.996 secs...\n"
     ]
    },
    {
     "name": "stderr",
     "output_type": "stream",
     "text": [
      "C:\\Users\\mspla\\AppData\\Local\\Temp\\ipykernel_12772\\2212051881.py:15: RuntimeWarning: Channel names are not unique, found duplicates for: {'.', 'T8-P8'}. Applying running numbers for duplicates.\n",
      "  edf_data = mne.io.read_raw_edf(file, preload=True)\n"
     ]
    },
    {
     "name": "stdout",
     "output_type": "stream",
     "text": [
      "Extracting EDF parameters from C:\\Users\\mspla\\Documents\\repos\\py_basic_310_Au24\\seizurePy3.9\\data\\raw_data\\chb-mit-scalp-eeg-database-1.0.0\\chb20\\chb20_13.edf...\n",
      "EDF file detected\n",
      "Setting channel info structure...\n",
      "Creating raw.info structure...\n",
      "Reading 0 ... 921599  =      0.000 ...  3599.996 secs...\n"
     ]
    },
    {
     "name": "stderr",
     "output_type": "stream",
     "text": [
      "C:\\Users\\mspla\\AppData\\Local\\Temp\\ipykernel_12772\\2212051881.py:15: RuntimeWarning: Channel names are not unique, found duplicates for: {'.', 'T8-P8'}. Applying running numbers for duplicates.\n",
      "  edf_data = mne.io.read_raw_edf(file, preload=True)\n"
     ]
    },
    {
     "name": "stdout",
     "output_type": "stream",
     "text": [
      "Extracting EDF parameters from C:\\Users\\mspla\\Documents\\repos\\py_basic_310_Au24\\seizurePy3.9\\data\\raw_data\\chb-mit-scalp-eeg-database-1.0.0\\chb20\\chb20_14.edf...\n",
      "EDF file detected\n",
      "Setting channel info structure...\n",
      "Creating raw.info structure...\n",
      "Reading 0 ... 921599  =      0.000 ...  3599.996 secs...\n"
     ]
    },
    {
     "name": "stderr",
     "output_type": "stream",
     "text": [
      "C:\\Users\\mspla\\AppData\\Local\\Temp\\ipykernel_12772\\2212051881.py:15: RuntimeWarning: Channel names are not unique, found duplicates for: {'.', 'T8-P8'}. Applying running numbers for duplicates.\n",
      "  edf_data = mne.io.read_raw_edf(file, preload=True)\n"
     ]
    },
    {
     "name": "stdout",
     "output_type": "stream",
     "text": [
      "Extracting EDF parameters from C:\\Users\\mspla\\Documents\\repos\\py_basic_310_Au24\\seizurePy3.9\\data\\raw_data\\chb-mit-scalp-eeg-database-1.0.0\\chb20\\chb20_15.edf...\n",
      "EDF file detected\n",
      "Setting channel info structure...\n",
      "Creating raw.info structure...\n",
      "Reading 0 ... 921599  =      0.000 ...  3599.996 secs...\n"
     ]
    },
    {
     "name": "stderr",
     "output_type": "stream",
     "text": [
      "C:\\Users\\mspla\\AppData\\Local\\Temp\\ipykernel_12772\\2212051881.py:15: RuntimeWarning: Channel names are not unique, found duplicates for: {'.', 'T8-P8'}. Applying running numbers for duplicates.\n",
      "  edf_data = mne.io.read_raw_edf(file, preload=True)\n"
     ]
    },
    {
     "name": "stdout",
     "output_type": "stream",
     "text": [
      "Extracting EDF parameters from C:\\Users\\mspla\\Documents\\repos\\py_basic_310_Au24\\seizurePy3.9\\data\\raw_data\\chb-mit-scalp-eeg-database-1.0.0\\chb20\\chb20_16.edf...\n",
      "EDF file detected\n",
      "Setting channel info structure...\n",
      "Creating raw.info structure...\n",
      "Reading 0 ... 888063  =      0.000 ...  3468.996 secs...\n"
     ]
    },
    {
     "name": "stderr",
     "output_type": "stream",
     "text": [
      "C:\\Users\\mspla\\AppData\\Local\\Temp\\ipykernel_12772\\2212051881.py:15: RuntimeWarning: Channel names are not unique, found duplicates for: {'.', 'T8-P8'}. Applying running numbers for duplicates.\n",
      "  edf_data = mne.io.read_raw_edf(file, preload=True)\n"
     ]
    },
    {
     "name": "stdout",
     "output_type": "stream",
     "text": [
      "Extracting EDF parameters from C:\\Users\\mspla\\Documents\\repos\\py_basic_310_Au24\\seizurePy3.9\\data\\raw_data\\chb-mit-scalp-eeg-database-1.0.0\\chb20\\chb20_17.edf...\n",
      "EDF file detected\n",
      "Setting channel info structure...\n",
      "Creating raw.info structure...\n",
      "Reading 0 ... 921599  =      0.000 ...  3599.996 secs...\n"
     ]
    },
    {
     "name": "stderr",
     "output_type": "stream",
     "text": [
      "C:\\Users\\mspla\\AppData\\Local\\Temp\\ipykernel_12772\\2212051881.py:15: RuntimeWarning: Channel names are not unique, found duplicates for: {'.', 'T8-P8'}. Applying running numbers for duplicates.\n",
      "  edf_data = mne.io.read_raw_edf(file, preload=True)\n"
     ]
    },
    {
     "name": "stdout",
     "output_type": "stream",
     "text": [
      "Extracting EDF parameters from C:\\Users\\mspla\\Documents\\repos\\py_basic_310_Au24\\seizurePy3.9\\data\\raw_data\\chb-mit-scalp-eeg-database-1.0.0\\chb20\\chb20_21.edf...\n",
      "EDF file detected\n",
      "Setting channel info structure...\n",
      "Creating raw.info structure...\n",
      "Reading 0 ... 926207  =      0.000 ...  3617.996 secs...\n"
     ]
    },
    {
     "name": "stderr",
     "output_type": "stream",
     "text": [
      "C:\\Users\\mspla\\AppData\\Local\\Temp\\ipykernel_12772\\2212051881.py:15: RuntimeWarning: Channel names are not unique, found duplicates for: {'.', 'T8-P8'}. Applying running numbers for duplicates.\n",
      "  edf_data = mne.io.read_raw_edf(file, preload=True)\n"
     ]
    },
    {
     "name": "stdout",
     "output_type": "stream",
     "text": [
      "Extracting EDF parameters from C:\\Users\\mspla\\Documents\\repos\\py_basic_310_Au24\\seizurePy3.9\\data\\raw_data\\chb-mit-scalp-eeg-database-1.0.0\\chb20\\chb20_22.edf...\n",
      "EDF file detected\n",
      "Setting channel info structure...\n",
      "Creating raw.info structure...\n",
      "Reading 0 ... 189951  =      0.000 ...   741.996 secs...\n",
      "Extracting EDF parameters from C:\\Users\\mspla\\Documents\\repos\\py_basic_310_Au24\\seizurePy3.9\\data\\raw_data\\chb-mit-scalp-eeg-database-1.0.0\\chb20\\chb20_23.edf...\n"
     ]
    },
    {
     "name": "stderr",
     "output_type": "stream",
     "text": [
      "C:\\Users\\mspla\\AppData\\Local\\Temp\\ipykernel_12772\\2212051881.py:15: RuntimeWarning: Channel names are not unique, found duplicates for: {'.', 'T8-P8'}. Applying running numbers for duplicates.\n",
      "  edf_data = mne.io.read_raw_edf(file, preload=True)\n"
     ]
    },
    {
     "name": "stdout",
     "output_type": "stream",
     "text": [
      "EDF file detected\n",
      "Setting channel info structure...\n",
      "Creating raw.info structure...\n",
      "Reading 0 ... 758783  =      0.000 ...  2963.996 secs...\n"
     ]
    },
    {
     "name": "stderr",
     "output_type": "stream",
     "text": [
      "C:\\Users\\mspla\\AppData\\Local\\Temp\\ipykernel_12772\\2212051881.py:15: RuntimeWarning: Channel names are not unique, found duplicates for: {'.', 'T8-P8'}. Applying running numbers for duplicates.\n",
      "  edf_data = mne.io.read_raw_edf(file, preload=True)\n"
     ]
    },
    {
     "name": "stdout",
     "output_type": "stream",
     "text": [
      "Extracting EDF parameters from C:\\Users\\mspla\\Documents\\repos\\py_basic_310_Au24\\seizurePy3.9\\data\\raw_data\\chb-mit-scalp-eeg-database-1.0.0\\chb20\\chb20_25.edf...\n",
      "EDF file detected\n",
      "Setting channel info structure...\n",
      "Creating raw.info structure...\n",
      "Reading 0 ... 921599  =      0.000 ...  3599.996 secs...\n"
     ]
    },
    {
     "name": "stderr",
     "output_type": "stream",
     "text": [
      "C:\\Users\\mspla\\AppData\\Local\\Temp\\ipykernel_12772\\2212051881.py:15: RuntimeWarning: Channel names are not unique, found duplicates for: {'.', 'T8-P8'}. Applying running numbers for duplicates.\n",
      "  edf_data = mne.io.read_raw_edf(file, preload=True)\n"
     ]
    },
    {
     "name": "stdout",
     "output_type": "stream",
     "text": [
      "Extracting EDF parameters from C:\\Users\\mspla\\Documents\\repos\\py_basic_310_Au24\\seizurePy3.9\\data\\raw_data\\chb-mit-scalp-eeg-database-1.0.0\\chb20\\chb20_26.edf...\n",
      "EDF file detected\n",
      "Setting channel info structure...\n",
      "Creating raw.info structure...\n",
      "Reading 0 ... 921599  =      0.000 ...  3599.996 secs...\n"
     ]
    },
    {
     "name": "stderr",
     "output_type": "stream",
     "text": [
      "C:\\Users\\mspla\\AppData\\Local\\Temp\\ipykernel_12772\\2212051881.py:15: RuntimeWarning: Channel names are not unique, found duplicates for: {'.', 'T8-P8'}. Applying running numbers for duplicates.\n",
      "  edf_data = mne.io.read_raw_edf(file, preload=True)\n"
     ]
    },
    {
     "name": "stdout",
     "output_type": "stream",
     "text": [
      "Extracting EDF parameters from C:\\Users\\mspla\\Documents\\repos\\py_basic_310_Au24\\seizurePy3.9\\data\\raw_data\\chb-mit-scalp-eeg-database-1.0.0\\chb20\\chb20_27.edf...\n",
      "EDF file detected\n",
      "Setting channel info structure...\n",
      "Creating raw.info structure...\n",
      "Reading 0 ... 921599  =      0.000 ...  3599.996 secs...\n"
     ]
    },
    {
     "name": "stderr",
     "output_type": "stream",
     "text": [
      "C:\\Users\\mspla\\AppData\\Local\\Temp\\ipykernel_12772\\2212051881.py:15: RuntimeWarning: Channel names are not unique, found duplicates for: {'.', 'T8-P8'}. Applying running numbers for duplicates.\n",
      "  edf_data = mne.io.read_raw_edf(file, preload=True)\n"
     ]
    },
    {
     "name": "stdout",
     "output_type": "stream",
     "text": [
      "Extracting EDF parameters from C:\\Users\\mspla\\Documents\\repos\\py_basic_310_Au24\\seizurePy3.9\\data\\raw_data\\chb-mit-scalp-eeg-database-1.0.0\\chb20\\chb20_28.edf...\n",
      "EDF file detected\n",
      "Setting channel info structure...\n",
      "Creating raw.info structure...\n",
      "Reading 0 ... 921599  =      0.000 ...  3599.996 secs...\n"
     ]
    },
    {
     "name": "stderr",
     "output_type": "stream",
     "text": [
      "C:\\Users\\mspla\\AppData\\Local\\Temp\\ipykernel_12772\\2212051881.py:15: RuntimeWarning: Channel names are not unique, found duplicates for: {'.', 'T8-P8'}. Applying running numbers for duplicates.\n",
      "  edf_data = mne.io.read_raw_edf(file, preload=True)\n"
     ]
    },
    {
     "name": "stdout",
     "output_type": "stream",
     "text": [
      "Extracting EDF parameters from C:\\Users\\mspla\\Documents\\repos\\py_basic_310_Au24\\seizurePy3.9\\data\\raw_data\\chb-mit-scalp-eeg-database-1.0.0\\chb20\\chb20_29.edf...\n",
      "EDF file detected\n",
      "Setting channel info structure...\n",
      "Creating raw.info structure...\n",
      "Reading 0 ... 921599  =      0.000 ...  3599.996 secs...\n"
     ]
    },
    {
     "name": "stderr",
     "output_type": "stream",
     "text": [
      "C:\\Users\\mspla\\AppData\\Local\\Temp\\ipykernel_12772\\2212051881.py:15: RuntimeWarning: Channel names are not unique, found duplicates for: {'.', 'T8-P8'}. Applying running numbers for duplicates.\n",
      "  edf_data = mne.io.read_raw_edf(file, preload=True)\n"
     ]
    },
    {
     "name": "stdout",
     "output_type": "stream",
     "text": [
      "Extracting EDF parameters from C:\\Users\\mspla\\Documents\\repos\\py_basic_310_Au24\\seizurePy3.9\\data\\raw_data\\chb-mit-scalp-eeg-database-1.0.0\\chb20\\chb20_30.edf...\n",
      "EDF file detected\n",
      "Setting channel info structure...\n",
      "Creating raw.info structure...\n",
      "Reading 0 ... 921599  =      0.000 ...  3599.996 secs...\n"
     ]
    },
    {
     "name": "stderr",
     "output_type": "stream",
     "text": [
      "C:\\Users\\mspla\\AppData\\Local\\Temp\\ipykernel_12772\\2212051881.py:15: RuntimeWarning: Channel names are not unique, found duplicates for: {'.', 'T8-P8'}. Applying running numbers for duplicates.\n",
      "  edf_data = mne.io.read_raw_edf(file, preload=True)\n"
     ]
    },
    {
     "name": "stdout",
     "output_type": "stream",
     "text": [
      "Extracting EDF parameters from C:\\Users\\mspla\\Documents\\repos\\py_basic_310_Au24\\seizurePy3.9\\data\\raw_data\\chb-mit-scalp-eeg-database-1.0.0\\chb20\\chb20_31.edf...\n",
      "EDF file detected\n",
      "Setting channel info structure...\n",
      "Creating raw.info structure...\n",
      "Reading 0 ... 921599  =      0.000 ...  3599.996 secs...\n"
     ]
    },
    {
     "name": "stderr",
     "output_type": "stream",
     "text": [
      "C:\\Users\\mspla\\AppData\\Local\\Temp\\ipykernel_12772\\2212051881.py:15: RuntimeWarning: Channel names are not unique, found duplicates for: {'.', 'T8-P8'}. Applying running numbers for duplicates.\n",
      "  edf_data = mne.io.read_raw_edf(file, preload=True)\n"
     ]
    },
    {
     "name": "stdout",
     "output_type": "stream",
     "text": [
      "Extracting EDF parameters from C:\\Users\\mspla\\Documents\\repos\\py_basic_310_Au24\\seizurePy3.9\\data\\raw_data\\chb-mit-scalp-eeg-database-1.0.0\\chb20\\chb20_34.edf...\n",
      "EDF file detected\n",
      "Setting channel info structure...\n",
      "Creating raw.info structure...\n",
      "Reading 0 ... 921599  =      0.000 ...  3599.996 secs...\n"
     ]
    },
    {
     "name": "stderr",
     "output_type": "stream",
     "text": [
      "C:\\Users\\mspla\\AppData\\Local\\Temp\\ipykernel_12772\\2212051881.py:15: RuntimeWarning: Channel names are not unique, found duplicates for: {'.', 'T8-P8'}. Applying running numbers for duplicates.\n",
      "  edf_data = mne.io.read_raw_edf(file, preload=True)\n"
     ]
    },
    {
     "name": "stdout",
     "output_type": "stream",
     "text": [
      "Extracting EDF parameters from C:\\Users\\mspla\\Documents\\repos\\py_basic_310_Au24\\seizurePy3.9\\data\\raw_data\\chb-mit-scalp-eeg-database-1.0.0\\chb20\\chb20_59.edf...\n",
      "EDF file detected\n",
      "Setting channel info structure...\n",
      "Creating raw.info structure...\n",
      "Reading 0 ... 921599  =      0.000 ...  3599.996 secs...\n"
     ]
    },
    {
     "name": "stderr",
     "output_type": "stream",
     "text": [
      "C:\\Users\\mspla\\AppData\\Local\\Temp\\ipykernel_12772\\2212051881.py:15: RuntimeWarning: Channel names are not unique, found duplicates for: {'.', 'T8-P8'}. Applying running numbers for duplicates.\n",
      "  edf_data = mne.io.read_raw_edf(file, preload=True)\n"
     ]
    },
    {
     "name": "stdout",
     "output_type": "stream",
     "text": [
      "Extracting EDF parameters from C:\\Users\\mspla\\Documents\\repos\\py_basic_310_Au24\\seizurePy3.9\\data\\raw_data\\chb-mit-scalp-eeg-database-1.0.0\\chb20\\chb20_60.edf...\n",
      "EDF file detected\n",
      "Setting channel info structure...\n",
      "Creating raw.info structure...\n",
      "Reading 0 ... 921599  =      0.000 ...  3599.996 secs...\n"
     ]
    },
    {
     "name": "stderr",
     "output_type": "stream",
     "text": [
      "C:\\Users\\mspla\\AppData\\Local\\Temp\\ipykernel_12772\\2212051881.py:15: RuntimeWarning: Channel names are not unique, found duplicates for: {'.', 'T8-P8'}. Applying running numbers for duplicates.\n",
      "  edf_data = mne.io.read_raw_edf(file, preload=True)\n"
     ]
    },
    {
     "name": "stdout",
     "output_type": "stream",
     "text": [
      "Extracting EDF parameters from C:\\Users\\mspla\\Documents\\repos\\py_basic_310_Au24\\seizurePy3.9\\data\\raw_data\\chb-mit-scalp-eeg-database-1.0.0\\chb20\\chb20_68.edf...\n",
      "EDF file detected\n",
      "Setting channel info structure...\n",
      "Creating raw.info structure...\n",
      "Reading 0 ... 554751  =      0.000 ...  2166.996 secs...\n"
     ]
    },
    {
     "name": "stderr",
     "output_type": "stream",
     "text": [
      "C:\\Users\\mspla\\AppData\\Local\\Temp\\ipykernel_12772\\2212051881.py:15: RuntimeWarning: Channel names are not unique, found duplicates for: {'.', 'T8-P8'}. Applying running numbers for duplicates.\n",
      "  edf_data = mne.io.read_raw_edf(file, preload=True)\n"
     ]
    },
    {
     "name": "stdout",
     "output_type": "stream",
     "text": [
      "Extracting EDF parameters from C:\\Users\\mspla\\Documents\\repos\\py_basic_310_Au24\\seizurePy3.9\\data\\raw_data\\chb-mit-scalp-eeg-database-1.0.0\\chb22\\chb22_01.edf...\n",
      "EDF file detected\n",
      "Setting channel info structure...\n",
      "Creating raw.info structure...\n",
      "Reading 0 ... 921599  =      0.000 ...  3599.996 secs...\n"
     ]
    },
    {
     "name": "stderr",
     "output_type": "stream",
     "text": [
      "C:\\Users\\mspla\\AppData\\Local\\Temp\\ipykernel_12772\\2212051881.py:15: RuntimeWarning: Channel names are not unique, found duplicates for: {'-', 'T8-P8'}. Applying running numbers for duplicates.\n",
      "  edf_data = mne.io.read_raw_edf(file, preload=True)\n"
     ]
    },
    {
     "name": "stdout",
     "output_type": "stream",
     "text": [
      "Extracting EDF parameters from C:\\Users\\mspla\\Documents\\repos\\py_basic_310_Au24\\seizurePy3.9\\data\\raw_data\\chb-mit-scalp-eeg-database-1.0.0\\chb22\\chb22_02.edf...\n",
      "EDF file detected\n",
      "Setting channel info structure...\n",
      "Creating raw.info structure...\n",
      "Reading 0 ... 921599  =      0.000 ...  3599.996 secs...\n"
     ]
    },
    {
     "name": "stderr",
     "output_type": "stream",
     "text": [
      "C:\\Users\\mspla\\AppData\\Local\\Temp\\ipykernel_12772\\2212051881.py:15: RuntimeWarning: Channel names are not unique, found duplicates for: {'-', 'T8-P8'}. Applying running numbers for duplicates.\n",
      "  edf_data = mne.io.read_raw_edf(file, preload=True)\n"
     ]
    },
    {
     "name": "stdout",
     "output_type": "stream",
     "text": [
      "Extracting EDF parameters from C:\\Users\\mspla\\Documents\\repos\\py_basic_310_Au24\\seizurePy3.9\\data\\raw_data\\chb-mit-scalp-eeg-database-1.0.0\\chb22\\chb22_03.edf...\n",
      "EDF file detected\n",
      "Setting channel info structure...\n",
      "Creating raw.info structure...\n",
      "Reading 0 ... 921599  =      0.000 ...  3599.996 secs...\n"
     ]
    },
    {
     "name": "stderr",
     "output_type": "stream",
     "text": [
      "C:\\Users\\mspla\\AppData\\Local\\Temp\\ipykernel_12772\\2212051881.py:15: RuntimeWarning: Channel names are not unique, found duplicates for: {'-', 'T8-P8'}. Applying running numbers for duplicates.\n",
      "  edf_data = mne.io.read_raw_edf(file, preload=True)\n"
     ]
    },
    {
     "name": "stdout",
     "output_type": "stream",
     "text": [
      "Extracting EDF parameters from C:\\Users\\mspla\\Documents\\repos\\py_basic_310_Au24\\seizurePy3.9\\data\\raw_data\\chb-mit-scalp-eeg-database-1.0.0\\chb22\\chb22_04.edf...\n",
      "EDF file detected\n",
      "Setting channel info structure...\n",
      "Creating raw.info structure...\n",
      "Reading 0 ... 921599  =      0.000 ...  3599.996 secs...\n"
     ]
    },
    {
     "name": "stderr",
     "output_type": "stream",
     "text": [
      "C:\\Users\\mspla\\AppData\\Local\\Temp\\ipykernel_12772\\2212051881.py:15: RuntimeWarning: Channel names are not unique, found duplicates for: {'-', 'T8-P8'}. Applying running numbers for duplicates.\n",
      "  edf_data = mne.io.read_raw_edf(file, preload=True)\n"
     ]
    },
    {
     "name": "stdout",
     "output_type": "stream",
     "text": [
      "Extracting EDF parameters from C:\\Users\\mspla\\Documents\\repos\\py_basic_310_Au24\\seizurePy3.9\\data\\raw_data\\chb-mit-scalp-eeg-database-1.0.0\\chb22\\chb22_05.edf...\n",
      "EDF file detected\n",
      "Setting channel info structure...\n",
      "Creating raw.info structure...\n",
      "Reading 0 ... 921599  =      0.000 ...  3599.996 secs...\n"
     ]
    },
    {
     "name": "stderr",
     "output_type": "stream",
     "text": [
      "C:\\Users\\mspla\\AppData\\Local\\Temp\\ipykernel_12772\\2212051881.py:15: RuntimeWarning: Channel names are not unique, found duplicates for: {'-', 'T8-P8'}. Applying running numbers for duplicates.\n",
      "  edf_data = mne.io.read_raw_edf(file, preload=True)\n"
     ]
    },
    {
     "name": "stdout",
     "output_type": "stream",
     "text": [
      "Extracting EDF parameters from C:\\Users\\mspla\\Documents\\repos\\py_basic_310_Au24\\seizurePy3.9\\data\\raw_data\\chb-mit-scalp-eeg-database-1.0.0\\chb22\\chb22_06.edf...\n",
      "EDF file detected\n",
      "Setting channel info structure...\n",
      "Creating raw.info structure...\n",
      "Reading 0 ... 921599  =      0.000 ...  3599.996 secs...\n"
     ]
    },
    {
     "name": "stderr",
     "output_type": "stream",
     "text": [
      "C:\\Users\\mspla\\AppData\\Local\\Temp\\ipykernel_12772\\2212051881.py:15: RuntimeWarning: Channel names are not unique, found duplicates for: {'-', 'T8-P8'}. Applying running numbers for duplicates.\n",
      "  edf_data = mne.io.read_raw_edf(file, preload=True)\n"
     ]
    },
    {
     "name": "stdout",
     "output_type": "stream",
     "text": [
      "Extracting EDF parameters from C:\\Users\\mspla\\Documents\\repos\\py_basic_310_Au24\\seizurePy3.9\\data\\raw_data\\chb-mit-scalp-eeg-database-1.0.0\\chb22\\chb22_07.edf...\n",
      "EDF file detected\n",
      "Setting channel info structure...\n",
      "Creating raw.info structure...\n",
      "Reading 0 ... 921599  =      0.000 ...  3599.996 secs...\n"
     ]
    },
    {
     "name": "stderr",
     "output_type": "stream",
     "text": [
      "C:\\Users\\mspla\\AppData\\Local\\Temp\\ipykernel_12772\\2212051881.py:15: RuntimeWarning: Channel names are not unique, found duplicates for: {'-', 'T8-P8'}. Applying running numbers for duplicates.\n",
      "  edf_data = mne.io.read_raw_edf(file, preload=True)\n"
     ]
    },
    {
     "name": "stdout",
     "output_type": "stream",
     "text": [
      "Extracting EDF parameters from C:\\Users\\mspla\\Documents\\repos\\py_basic_310_Au24\\seizurePy3.9\\data\\raw_data\\chb-mit-scalp-eeg-database-1.0.0\\chb22\\chb22_08.edf...\n",
      "EDF file detected\n",
      "Setting channel info structure...\n",
      "Creating raw.info structure...\n",
      "Reading 0 ... 921599  =      0.000 ...  3599.996 secs...\n"
     ]
    },
    {
     "name": "stderr",
     "output_type": "stream",
     "text": [
      "C:\\Users\\mspla\\AppData\\Local\\Temp\\ipykernel_12772\\2212051881.py:15: RuntimeWarning: Channel names are not unique, found duplicates for: {'-', 'T8-P8'}. Applying running numbers for duplicates.\n",
      "  edf_data = mne.io.read_raw_edf(file, preload=True)\n"
     ]
    },
    {
     "name": "stdout",
     "output_type": "stream",
     "text": [
      "Extracting EDF parameters from C:\\Users\\mspla\\Documents\\repos\\py_basic_310_Au24\\seizurePy3.9\\data\\raw_data\\chb-mit-scalp-eeg-database-1.0.0\\chb22\\chb22_09.edf...\n",
      "EDF file detected\n",
      "Setting channel info structure...\n",
      "Creating raw.info structure...\n",
      "Reading 0 ... 921599  =      0.000 ...  3599.996 secs...\n"
     ]
    },
    {
     "name": "stderr",
     "output_type": "stream",
     "text": [
      "C:\\Users\\mspla\\AppData\\Local\\Temp\\ipykernel_12772\\2212051881.py:15: RuntimeWarning: Channel names are not unique, found duplicates for: {'-', 'T8-P8'}. Applying running numbers for duplicates.\n",
      "  edf_data = mne.io.read_raw_edf(file, preload=True)\n"
     ]
    },
    {
     "name": "stdout",
     "output_type": "stream",
     "text": [
      "Extracting EDF parameters from C:\\Users\\mspla\\Documents\\repos\\py_basic_310_Au24\\seizurePy3.9\\data\\raw_data\\chb-mit-scalp-eeg-database-1.0.0\\chb22\\chb22_10.edf...\n",
      "EDF file detected\n",
      "Setting channel info structure...\n",
      "Creating raw.info structure...\n",
      "Reading 0 ... 921599  =      0.000 ...  3599.996 secs...\n"
     ]
    },
    {
     "name": "stderr",
     "output_type": "stream",
     "text": [
      "C:\\Users\\mspla\\AppData\\Local\\Temp\\ipykernel_12772\\2212051881.py:15: RuntimeWarning: Channel names are not unique, found duplicates for: {'-', 'T8-P8'}. Applying running numbers for duplicates.\n",
      "  edf_data = mne.io.read_raw_edf(file, preload=True)\n"
     ]
    },
    {
     "name": "stdout",
     "output_type": "stream",
     "text": [
      "Extracting EDF parameters from C:\\Users\\mspla\\Documents\\repos\\py_basic_310_Au24\\seizurePy3.9\\data\\raw_data\\chb-mit-scalp-eeg-database-1.0.0\\chb22\\chb22_11.edf...\n",
      "EDF file detected\n",
      "Setting channel info structure...\n",
      "Creating raw.info structure...\n",
      "Reading 0 ... 924415  =      0.000 ...  3610.996 secs...\n"
     ]
    },
    {
     "name": "stderr",
     "output_type": "stream",
     "text": [
      "C:\\Users\\mspla\\AppData\\Local\\Temp\\ipykernel_12772\\2212051881.py:15: RuntimeWarning: Channel names are not unique, found duplicates for: {'-', 'T8-P8'}. Applying running numbers for duplicates.\n",
      "  edf_data = mne.io.read_raw_edf(file, preload=True)\n"
     ]
    },
    {
     "name": "stdout",
     "output_type": "stream",
     "text": [
      "Extracting EDF parameters from C:\\Users\\mspla\\Documents\\repos\\py_basic_310_Au24\\seizurePy3.9\\data\\raw_data\\chb-mit-scalp-eeg-database-1.0.0\\chb22\\chb22_15.edf...\n",
      "EDF file detected\n",
      "Setting channel info structure...\n",
      "Creating raw.info structure...\n",
      "Reading 0 ... 921599  =      0.000 ...  3599.996 secs...\n"
     ]
    },
    {
     "name": "stderr",
     "output_type": "stream",
     "text": [
      "C:\\Users\\mspla\\AppData\\Local\\Temp\\ipykernel_12772\\2212051881.py:15: RuntimeWarning: Channel names are not unique, found duplicates for: {'-', 'T8-P8'}. Applying running numbers for duplicates.\n",
      "  edf_data = mne.io.read_raw_edf(file, preload=True)\n"
     ]
    },
    {
     "name": "stdout",
     "output_type": "stream",
     "text": [
      "Extracting EDF parameters from C:\\Users\\mspla\\Documents\\repos\\py_basic_310_Au24\\seizurePy3.9\\data\\raw_data\\chb-mit-scalp-eeg-database-1.0.0\\chb22\\chb22_16.edf...\n",
      "EDF file detected\n",
      "Setting channel info structure...\n",
      "Creating raw.info structure...\n",
      "Reading 0 ... 921599  =      0.000 ...  3599.996 secs...\n"
     ]
    },
    {
     "name": "stderr",
     "output_type": "stream",
     "text": [
      "C:\\Users\\mspla\\AppData\\Local\\Temp\\ipykernel_12772\\2212051881.py:15: RuntimeWarning: Channel names are not unique, found duplicates for: {'-', 'T8-P8'}. Applying running numbers for duplicates.\n",
      "  edf_data = mne.io.read_raw_edf(file, preload=True)\n"
     ]
    },
    {
     "name": "stdout",
     "output_type": "stream",
     "text": [
      "Extracting EDF parameters from C:\\Users\\mspla\\Documents\\repos\\py_basic_310_Au24\\seizurePy3.9\\data\\raw_data\\chb-mit-scalp-eeg-database-1.0.0\\chb22\\chb22_17.edf...\n",
      "EDF file detected\n",
      "Setting channel info structure...\n",
      "Creating raw.info structure...\n",
      "Reading 0 ... 921599  =      0.000 ...  3599.996 secs...\n"
     ]
    },
    {
     "name": "stderr",
     "output_type": "stream",
     "text": [
      "C:\\Users\\mspla\\AppData\\Local\\Temp\\ipykernel_12772\\2212051881.py:15: RuntimeWarning: Channel names are not unique, found duplicates for: {'-', 'T8-P8'}. Applying running numbers for duplicates.\n",
      "  edf_data = mne.io.read_raw_edf(file, preload=True)\n"
     ]
    },
    {
     "name": "stdout",
     "output_type": "stream",
     "text": [
      "Extracting EDF parameters from C:\\Users\\mspla\\Documents\\repos\\py_basic_310_Au24\\seizurePy3.9\\data\\raw_data\\chb-mit-scalp-eeg-database-1.0.0\\chb22\\chb22_18.edf...\n",
      "EDF file detected\n",
      "Setting channel info structure...\n",
      "Creating raw.info structure...\n",
      "Reading 0 ... 921599  =      0.000 ...  3599.996 secs...\n"
     ]
    },
    {
     "name": "stderr",
     "output_type": "stream",
     "text": [
      "C:\\Users\\mspla\\AppData\\Local\\Temp\\ipykernel_12772\\2212051881.py:15: RuntimeWarning: Channel names are not unique, found duplicates for: {'-', 'T8-P8'}. Applying running numbers for duplicates.\n",
      "  edf_data = mne.io.read_raw_edf(file, preload=True)\n"
     ]
    },
    {
     "name": "stdout",
     "output_type": "stream",
     "text": [
      "Extracting EDF parameters from C:\\Users\\mspla\\Documents\\repos\\py_basic_310_Au24\\seizurePy3.9\\data\\raw_data\\chb-mit-scalp-eeg-database-1.0.0\\chb22\\chb22_19.edf...\n",
      "EDF file detected\n",
      "Setting channel info structure...\n",
      "Creating raw.info structure...\n",
      "Reading 0 ... 921599  =      0.000 ...  3599.996 secs...\n"
     ]
    },
    {
     "name": "stderr",
     "output_type": "stream",
     "text": [
      "C:\\Users\\mspla\\AppData\\Local\\Temp\\ipykernel_12772\\2212051881.py:15: RuntimeWarning: Channel names are not unique, found duplicates for: {'-', 'T8-P8'}. Applying running numbers for duplicates.\n",
      "  edf_data = mne.io.read_raw_edf(file, preload=True)\n"
     ]
    },
    {
     "name": "stdout",
     "output_type": "stream",
     "text": [
      "Extracting EDF parameters from C:\\Users\\mspla\\Documents\\repos\\py_basic_310_Au24\\seizurePy3.9\\data\\raw_data\\chb-mit-scalp-eeg-database-1.0.0\\chb22\\chb22_20.edf...\n",
      "EDF file detected\n",
      "Setting channel info structure...\n",
      "Creating raw.info structure...\n",
      "Reading 0 ... 921599  =      0.000 ...  3599.996 secs...\n"
     ]
    },
    {
     "name": "stderr",
     "output_type": "stream",
     "text": [
      "C:\\Users\\mspla\\AppData\\Local\\Temp\\ipykernel_12772\\2212051881.py:15: RuntimeWarning: Channel names are not unique, found duplicates for: {'-', 'T8-P8'}. Applying running numbers for duplicates.\n",
      "  edf_data = mne.io.read_raw_edf(file, preload=True)\n"
     ]
    },
    {
     "name": "stdout",
     "output_type": "stream",
     "text": [
      "Extracting EDF parameters from C:\\Users\\mspla\\Documents\\repos\\py_basic_310_Au24\\seizurePy3.9\\data\\raw_data\\chb-mit-scalp-eeg-database-1.0.0\\chb22\\chb22_21.edf...\n",
      "EDF file detected\n",
      "Setting channel info structure...\n",
      "Creating raw.info structure...\n",
      "Reading 0 ... 921599  =      0.000 ...  3599.996 secs...\n"
     ]
    },
    {
     "name": "stderr",
     "output_type": "stream",
     "text": [
      "C:\\Users\\mspla\\AppData\\Local\\Temp\\ipykernel_12772\\2212051881.py:15: RuntimeWarning: Channel names are not unique, found duplicates for: {'-', 'T8-P8'}. Applying running numbers for duplicates.\n",
      "  edf_data = mne.io.read_raw_edf(file, preload=True)\n"
     ]
    },
    {
     "name": "stdout",
     "output_type": "stream",
     "text": [
      "Extracting EDF parameters from C:\\Users\\mspla\\Documents\\repos\\py_basic_310_Au24\\seizurePy3.9\\data\\raw_data\\chb-mit-scalp-eeg-database-1.0.0\\chb22\\chb22_22.edf...\n",
      "EDF file detected\n",
      "Setting channel info structure...\n",
      "Creating raw.info structure...\n",
      "Reading 0 ... 921599  =      0.000 ...  3599.996 secs...\n"
     ]
    },
    {
     "name": "stderr",
     "output_type": "stream",
     "text": [
      "C:\\Users\\mspla\\AppData\\Local\\Temp\\ipykernel_12772\\2212051881.py:15: RuntimeWarning: Channel names are not unique, found duplicates for: {'-', 'T8-P8'}. Applying running numbers for duplicates.\n",
      "  edf_data = mne.io.read_raw_edf(file, preload=True)\n"
     ]
    },
    {
     "name": "stdout",
     "output_type": "stream",
     "text": [
      "Extracting EDF parameters from C:\\Users\\mspla\\Documents\\repos\\py_basic_310_Au24\\seizurePy3.9\\data\\raw_data\\chb-mit-scalp-eeg-database-1.0.0\\chb22\\chb22_23.edf...\n",
      "EDF file detected\n",
      "Setting channel info structure...\n",
      "Creating raw.info structure...\n",
      "Reading 0 ... 921599  =      0.000 ...  3599.996 secs...\n"
     ]
    },
    {
     "name": "stderr",
     "output_type": "stream",
     "text": [
      "C:\\Users\\mspla\\AppData\\Local\\Temp\\ipykernel_12772\\2212051881.py:15: RuntimeWarning: Channel names are not unique, found duplicates for: {'-', 'T8-P8'}. Applying running numbers for duplicates.\n",
      "  edf_data = mne.io.read_raw_edf(file, preload=True)\n"
     ]
    },
    {
     "name": "stdout",
     "output_type": "stream",
     "text": [
      "Extracting EDF parameters from C:\\Users\\mspla\\Documents\\repos\\py_basic_310_Au24\\seizurePy3.9\\data\\raw_data\\chb-mit-scalp-eeg-database-1.0.0\\chb22\\chb22_24.edf...\n",
      "EDF file detected\n",
      "Setting channel info structure...\n",
      "Creating raw.info structure...\n",
      "Reading 0 ... 921599  =      0.000 ...  3599.996 secs...\n"
     ]
    },
    {
     "name": "stderr",
     "output_type": "stream",
     "text": [
      "C:\\Users\\mspla\\AppData\\Local\\Temp\\ipykernel_12772\\2212051881.py:15: RuntimeWarning: Channel names are not unique, found duplicates for: {'-', 'T8-P8'}. Applying running numbers for duplicates.\n",
      "  edf_data = mne.io.read_raw_edf(file, preload=True)\n"
     ]
    },
    {
     "name": "stdout",
     "output_type": "stream",
     "text": [
      "Extracting EDF parameters from C:\\Users\\mspla\\Documents\\repos\\py_basic_310_Au24\\seizurePy3.9\\data\\raw_data\\chb-mit-scalp-eeg-database-1.0.0\\chb22\\chb22_25.edf...\n",
      "EDF file detected\n",
      "Setting channel info structure...\n",
      "Creating raw.info structure...\n",
      "Reading 0 ... 921599  =      0.000 ...  3599.996 secs...\n"
     ]
    },
    {
     "name": "stderr",
     "output_type": "stream",
     "text": [
      "C:\\Users\\mspla\\AppData\\Local\\Temp\\ipykernel_12772\\2212051881.py:15: RuntimeWarning: Channel names are not unique, found duplicates for: {'-', 'T8-P8'}. Applying running numbers for duplicates.\n",
      "  edf_data = mne.io.read_raw_edf(file, preload=True)\n"
     ]
    },
    {
     "name": "stdout",
     "output_type": "stream",
     "text": [
      "Extracting EDF parameters from C:\\Users\\mspla\\Documents\\repos\\py_basic_310_Au24\\seizurePy3.9\\data\\raw_data\\chb-mit-scalp-eeg-database-1.0.0\\chb22\\chb22_26.edf...\n",
      "EDF file detected\n",
      "Setting channel info structure...\n",
      "Creating raw.info structure...\n",
      "Reading 0 ... 921599  =      0.000 ...  3599.996 secs...\n"
     ]
    },
    {
     "name": "stderr",
     "output_type": "stream",
     "text": [
      "C:\\Users\\mspla\\AppData\\Local\\Temp\\ipykernel_12772\\2212051881.py:15: RuntimeWarning: Channel names are not unique, found duplicates for: {'-', 'T8-P8'}. Applying running numbers for duplicates.\n",
      "  edf_data = mne.io.read_raw_edf(file, preload=True)\n"
     ]
    },
    {
     "name": "stdout",
     "output_type": "stream",
     "text": [
      "Extracting EDF parameters from C:\\Users\\mspla\\Documents\\repos\\py_basic_310_Au24\\seizurePy3.9\\data\\raw_data\\chb-mit-scalp-eeg-database-1.0.0\\chb22\\chb22_27.edf...\n",
      "EDF file detected\n",
      "Setting channel info structure...\n",
      "Creating raw.info structure...\n",
      "Reading 0 ... 921599  =      0.000 ...  3599.996 secs...\n"
     ]
    },
    {
     "name": "stderr",
     "output_type": "stream",
     "text": [
      "C:\\Users\\mspla\\AppData\\Local\\Temp\\ipykernel_12772\\2212051881.py:15: RuntimeWarning: Channel names are not unique, found duplicates for: {'-', 'T8-P8'}. Applying running numbers for duplicates.\n",
      "  edf_data = mne.io.read_raw_edf(file, preload=True)\n"
     ]
    },
    {
     "name": "stdout",
     "output_type": "stream",
     "text": [
      "Extracting EDF parameters from C:\\Users\\mspla\\Documents\\repos\\py_basic_310_Au24\\seizurePy3.9\\data\\raw_data\\chb-mit-scalp-eeg-database-1.0.0\\chb22\\chb22_28.edf...\n",
      "EDF file detected\n",
      "Setting channel info structure...\n",
      "Creating raw.info structure...\n",
      "Reading 0 ... 921599  =      0.000 ...  3599.996 secs...\n"
     ]
    },
    {
     "name": "stderr",
     "output_type": "stream",
     "text": [
      "C:\\Users\\mspla\\AppData\\Local\\Temp\\ipykernel_12772\\2212051881.py:15: RuntimeWarning: Channel names are not unique, found duplicates for: {'-', 'T8-P8'}. Applying running numbers for duplicates.\n",
      "  edf_data = mne.io.read_raw_edf(file, preload=True)\n"
     ]
    },
    {
     "name": "stdout",
     "output_type": "stream",
     "text": [
      "Extracting EDF parameters from C:\\Users\\mspla\\Documents\\repos\\py_basic_310_Au24\\seizurePy3.9\\data\\raw_data\\chb-mit-scalp-eeg-database-1.0.0\\chb22\\chb22_29.edf...\n",
      "EDF file detected\n",
      "Setting channel info structure...\n",
      "Creating raw.info structure...\n",
      "Reading 0 ... 921599  =      0.000 ...  3599.996 secs...\n"
     ]
    },
    {
     "name": "stderr",
     "output_type": "stream",
     "text": [
      "C:\\Users\\mspla\\AppData\\Local\\Temp\\ipykernel_12772\\2212051881.py:15: RuntimeWarning: Channel names are not unique, found duplicates for: {'-', 'T8-P8'}. Applying running numbers for duplicates.\n",
      "  edf_data = mne.io.read_raw_edf(file, preload=True)\n"
     ]
    },
    {
     "name": "stdout",
     "output_type": "stream",
     "text": [
      "Extracting EDF parameters from C:\\Users\\mspla\\Documents\\repos\\py_basic_310_Au24\\seizurePy3.9\\data\\raw_data\\chb-mit-scalp-eeg-database-1.0.0\\chb22\\chb22_30.edf...\n",
      "EDF file detected\n",
      "Setting channel info structure...\n",
      "Creating raw.info structure...\n",
      "Reading 0 ... 921599  =      0.000 ...  3599.996 secs...\n"
     ]
    },
    {
     "name": "stderr",
     "output_type": "stream",
     "text": [
      "C:\\Users\\mspla\\AppData\\Local\\Temp\\ipykernel_12772\\2212051881.py:15: RuntimeWarning: Channel names are not unique, found duplicates for: {'-', 'T8-P8'}. Applying running numbers for duplicates.\n",
      "  edf_data = mne.io.read_raw_edf(file, preload=True)\n"
     ]
    },
    {
     "name": "stdout",
     "output_type": "stream",
     "text": [
      "Extracting EDF parameters from C:\\Users\\mspla\\Documents\\repos\\py_basic_310_Au24\\seizurePy3.9\\data\\raw_data\\chb-mit-scalp-eeg-database-1.0.0\\chb22\\chb22_38.edf...\n",
      "EDF file detected\n",
      "Setting channel info structure...\n",
      "Creating raw.info structure...\n",
      "Reading 0 ... 921599  =      0.000 ...  3599.996 secs...\n"
     ]
    },
    {
     "name": "stderr",
     "output_type": "stream",
     "text": [
      "C:\\Users\\mspla\\AppData\\Local\\Temp\\ipykernel_12772\\2212051881.py:15: RuntimeWarning: Channel names are not unique, found duplicates for: {'-', 'T8-P8'}. Applying running numbers for duplicates.\n",
      "  edf_data = mne.io.read_raw_edf(file, preload=True)\n"
     ]
    },
    {
     "name": "stdout",
     "output_type": "stream",
     "text": [
      "Extracting EDF parameters from C:\\Users\\mspla\\Documents\\repos\\py_basic_310_Au24\\seizurePy3.9\\data\\raw_data\\chb-mit-scalp-eeg-database-1.0.0\\chb22\\chb22_51.edf...\n",
      "EDF file detected\n",
      "Setting channel info structure...\n",
      "Creating raw.info structure...\n",
      "Reading 0 ... 921599  =      0.000 ...  3599.996 secs...\n"
     ]
    },
    {
     "name": "stderr",
     "output_type": "stream",
     "text": [
      "C:\\Users\\mspla\\AppData\\Local\\Temp\\ipykernel_12772\\2212051881.py:15: RuntimeWarning: Channel names are not unique, found duplicates for: {'-', 'T8-P8'}. Applying running numbers for duplicates.\n",
      "  edf_data = mne.io.read_raw_edf(file, preload=True)\n"
     ]
    },
    {
     "name": "stdout",
     "output_type": "stream",
     "text": [
      "Extracting EDF parameters from C:\\Users\\mspla\\Documents\\repos\\py_basic_310_Au24\\seizurePy3.9\\data\\raw_data\\chb-mit-scalp-eeg-database-1.0.0\\chb22\\chb22_54.edf...\n",
      "EDF file detected\n",
      "Setting channel info structure...\n",
      "Creating raw.info structure...\n",
      "Reading 0 ... 921599  =      0.000 ...  3599.996 secs...\n"
     ]
    },
    {
     "name": "stderr",
     "output_type": "stream",
     "text": [
      "C:\\Users\\mspla\\AppData\\Local\\Temp\\ipykernel_12772\\2212051881.py:15: RuntimeWarning: Channel names are not unique, found duplicates for: {'-', 'T8-P8'}. Applying running numbers for duplicates.\n",
      "  edf_data = mne.io.read_raw_edf(file, preload=True)\n"
     ]
    },
    {
     "name": "stdout",
     "output_type": "stream",
     "text": [
      "Extracting EDF parameters from C:\\Users\\mspla\\Documents\\repos\\py_basic_310_Au24\\seizurePy3.9\\data\\raw_data\\chb-mit-scalp-eeg-database-1.0.0\\chb22\\chb22_77.edf...\n",
      "EDF file detected\n",
      "Setting channel info structure...\n",
      "Creating raw.info structure...\n",
      "Reading 0 ... 921599  =      0.000 ...  3599.996 secs...\n"
     ]
    },
    {
     "name": "stderr",
     "output_type": "stream",
     "text": [
      "C:\\Users\\mspla\\AppData\\Local\\Temp\\ipykernel_12772\\2212051881.py:15: RuntimeWarning: Channel names are not unique, found duplicates for: {'-', 'T8-P8'}. Applying running numbers for duplicates.\n",
      "  edf_data = mne.io.read_raw_edf(file, preload=True)\n"
     ]
    },
    {
     "name": "stdout",
     "output_type": "stream",
     "text": [
      "Extracting EDF parameters from C:\\Users\\mspla\\Documents\\repos\\py_basic_310_Au24\\seizurePy3.9\\data\\raw_data\\chb-mit-scalp-eeg-database-1.0.0\\chb23\\chb23_06.edf...\n",
      "EDF file detected\n",
      "Setting channel info structure...\n",
      "Creating raw.info structure...\n",
      "Reading 0 ... 1916415  =      0.000 ...  7485.996 secs...\n"
     ]
    },
    {
     "name": "stderr",
     "output_type": "stream",
     "text": [
      "C:\\Users\\mspla\\AppData\\Local\\Temp\\ipykernel_12772\\2212051881.py:15: RuntimeWarning: Channel names are not unique, found duplicates for: {'T8-P8'}. Applying running numbers for duplicates.\n",
      "  edf_data = mne.io.read_raw_edf(file, preload=True)\n"
     ]
    },
    {
     "name": "stdout",
     "output_type": "stream",
     "text": [
      "Extracting EDF parameters from C:\\Users\\mspla\\Documents\\repos\\py_basic_310_Au24\\seizurePy3.9\\data\\raw_data\\chb-mit-scalp-eeg-database-1.0.0\\chb23\\chb23_07.edf...\n",
      "EDF file detected\n",
      "Setting channel info structure...\n",
      "Creating raw.info structure...\n",
      "Reading 0 ... 655359  =      0.000 ...  2559.996 secs...\n"
     ]
    },
    {
     "name": "stderr",
     "output_type": "stream",
     "text": [
      "C:\\Users\\mspla\\AppData\\Local\\Temp\\ipykernel_12772\\2212051881.py:15: RuntimeWarning: Channel names are not unique, found duplicates for: {'T8-P8'}. Applying running numbers for duplicates.\n",
      "  edf_data = mne.io.read_raw_edf(file, preload=True)\n"
     ]
    },
    {
     "name": "stdout",
     "output_type": "stream",
     "text": [
      "Extracting EDF parameters from C:\\Users\\mspla\\Documents\\repos\\py_basic_310_Au24\\seizurePy3.9\\data\\raw_data\\chb-mit-scalp-eeg-database-1.0.0\\chb23\\chb23_08.edf...\n",
      "EDF file detected\n",
      "Setting channel info structure...\n",
      "Creating raw.info structure...\n",
      "Reading 0 ... 2647551  =      0.000 ... 10341.996 secs...\n"
     ]
    },
    {
     "name": "stderr",
     "output_type": "stream",
     "text": [
      "C:\\Users\\mspla\\AppData\\Local\\Temp\\ipykernel_12772\\2212051881.py:15: RuntimeWarning: Channel names are not unique, found duplicates for: {'T8-P8'}. Applying running numbers for duplicates.\n",
      "  edf_data = mne.io.read_raw_edf(file, preload=True)\n"
     ]
    },
    {
     "name": "stdout",
     "output_type": "stream",
     "text": [
      "Extracting EDF parameters from C:\\Users\\mspla\\Documents\\repos\\py_basic_310_Au24\\seizurePy3.9\\data\\raw_data\\chb-mit-scalp-eeg-database-1.0.0\\chb23\\chb23_09.edf...\n",
      "EDF file detected\n",
      "Setting channel info structure...\n",
      "Creating raw.info structure...\n",
      "Reading 0 ... 3693055  =      0.000 ... 14425.996 secs...\n"
     ]
    },
    {
     "name": "stderr",
     "output_type": "stream",
     "text": [
      "C:\\Users\\mspla\\AppData\\Local\\Temp\\ipykernel_12772\\2212051881.py:15: RuntimeWarning: Channel names are not unique, found duplicates for: {'T8-P8'}. Applying running numbers for duplicates.\n",
      "  edf_data = mne.io.read_raw_edf(file, preload=True)\n"
     ]
    },
    {
     "name": "stdout",
     "output_type": "stream",
     "text": [
      "Extracting EDF parameters from C:\\Users\\mspla\\Documents\\repos\\py_basic_310_Au24\\seizurePy3.9\\data\\raw_data\\chb-mit-scalp-eeg-database-1.0.0\\chb23\\chb23_10.edf...\n",
      "EDF file detected\n",
      "Setting channel info structure...\n",
      "Creating raw.info structure...\n",
      "Reading 0 ... 3686399  =      0.000 ... 14399.996 secs...\n"
     ]
    },
    {
     "name": "stderr",
     "output_type": "stream",
     "text": [
      "C:\\Users\\mspla\\AppData\\Local\\Temp\\ipykernel_12772\\2212051881.py:15: RuntimeWarning: Channel names are not unique, found duplicates for: {'T8-P8'}. Applying running numbers for duplicates.\n",
      "  edf_data = mne.io.read_raw_edf(file, preload=True)\n"
     ]
    },
    {
     "name": "stdout",
     "output_type": "stream",
     "text": [
      "Extracting EDF parameters from C:\\Users\\mspla\\Documents\\repos\\py_basic_310_Au24\\seizurePy3.9\\data\\raw_data\\chb-mit-scalp-eeg-database-1.0.0\\chb23\\chb23_16.edf...\n",
      "EDF file detected\n",
      "Setting channel info structure...\n",
      "Creating raw.info structure...\n",
      "Reading 0 ... 3686399  =      0.000 ... 14399.996 secs...\n"
     ]
    },
    {
     "name": "stderr",
     "output_type": "stream",
     "text": [
      "C:\\Users\\mspla\\AppData\\Local\\Temp\\ipykernel_12772\\2212051881.py:15: RuntimeWarning: Channel names are not unique, found duplicates for: {'T8-P8'}. Applying running numbers for duplicates.\n",
      "  edf_data = mne.io.read_raw_edf(file, preload=True)\n"
     ]
    },
    {
     "name": "stdout",
     "output_type": "stream",
     "text": [
      "Extracting EDF parameters from C:\\Users\\mspla\\Documents\\repos\\py_basic_310_Au24\\seizurePy3.9\\data\\raw_data\\chb-mit-scalp-eeg-database-1.0.0\\chb23\\chb23_17.edf...\n",
      "EDF file detected\n",
      "Setting channel info structure...\n",
      "Creating raw.info structure...\n",
      "Reading 0 ... 3222271  =      0.000 ... 12586.996 secs...\n"
     ]
    },
    {
     "name": "stderr",
     "output_type": "stream",
     "text": [
      "C:\\Users\\mspla\\AppData\\Local\\Temp\\ipykernel_12772\\2212051881.py:15: RuntimeWarning: Channel names are not unique, found duplicates for: {'T8-P8'}. Applying running numbers for duplicates.\n",
      "  edf_data = mne.io.read_raw_edf(file, preload=True)\n"
     ]
    },
    {
     "name": "stdout",
     "output_type": "stream",
     "text": [
      "Extracting EDF parameters from C:\\Users\\mspla\\Documents\\repos\\py_basic_310_Au24\\seizurePy3.9\\data\\raw_data\\chb-mit-scalp-eeg-database-1.0.0\\chb23\\chb23_19.edf...\n",
      "EDF file detected\n",
      "Setting channel info structure...\n",
      "Creating raw.info structure...\n",
      "Reading 0 ... 3686399  =      0.000 ... 14399.996 secs...\n"
     ]
    },
    {
     "name": "stderr",
     "output_type": "stream",
     "text": [
      "C:\\Users\\mspla\\AppData\\Local\\Temp\\ipykernel_12772\\2212051881.py:15: RuntimeWarning: Channel names are not unique, found duplicates for: {'T8-P8'}. Applying running numbers for duplicates.\n",
      "  edf_data = mne.io.read_raw_edf(file, preload=True)\n"
     ]
    },
    {
     "name": "stdout",
     "output_type": "stream",
     "text": [
      "Extracting EDF parameters from C:\\Users\\mspla\\Documents\\repos\\py_basic_310_Au24\\seizurePy3.9\\data\\raw_data\\chb-mit-scalp-eeg-database-1.0.0\\chb23\\chb23_20.edf...\n",
      "EDF file detected\n",
      "Setting channel info structure...\n",
      "Creating raw.info structure...\n",
      "Reading 0 ... 1282303  =      0.000 ...  5008.996 secs...\n"
     ]
    },
    {
     "name": "stderr",
     "output_type": "stream",
     "text": [
      "C:\\Users\\mspla\\AppData\\Local\\Temp\\ipykernel_12772\\2212051881.py:15: RuntimeWarning: Channel names are not unique, found duplicates for: {'T8-P8'}. Applying running numbers for duplicates.\n",
      "  edf_data = mne.io.read_raw_edf(file, preload=True)\n"
     ]
    },
    {
     "name": "stdout",
     "output_type": "stream",
     "text": [
      "Extracting EDF parameters from C:\\Users\\mspla\\Documents\\repos\\py_basic_310_Au24\\seizurePy3.9\\data\\raw_data\\chb-mit-scalp-eeg-database-1.0.0\\chb24\\chb24_01.edf...\n",
      "EDF file detected\n",
      "Setting channel info structure...\n",
      "Creating raw.info structure...\n",
      "Reading 0 ... 921599  =      0.000 ...  3599.996 secs...\n"
     ]
    },
    {
     "name": "stderr",
     "output_type": "stream",
     "text": [
      "C:\\Users\\mspla\\AppData\\Local\\Temp\\ipykernel_12772\\2212051881.py:15: RuntimeWarning: Channel names are not unique, found duplicates for: {'T8-P8'}. Applying running numbers for duplicates.\n",
      "  edf_data = mne.io.read_raw_edf(file, preload=True)\n"
     ]
    },
    {
     "name": "stdout",
     "output_type": "stream",
     "text": [
      "Extracting EDF parameters from C:\\Users\\mspla\\Documents\\repos\\py_basic_310_Au24\\seizurePy3.9\\data\\raw_data\\chb-mit-scalp-eeg-database-1.0.0\\chb24\\chb24_02.edf...\n",
      "EDF file detected\n",
      "Setting channel info structure...\n",
      "Creating raw.info structure...\n",
      "Reading 0 ... 921599  =      0.000 ...  3599.996 secs...\n"
     ]
    },
    {
     "name": "stderr",
     "output_type": "stream",
     "text": [
      "C:\\Users\\mspla\\AppData\\Local\\Temp\\ipykernel_12772\\2212051881.py:15: RuntimeWarning: Channel names are not unique, found duplicates for: {'T8-P8'}. Applying running numbers for duplicates.\n",
      "  edf_data = mne.io.read_raw_edf(file, preload=True)\n"
     ]
    },
    {
     "name": "stdout",
     "output_type": "stream",
     "text": [
      "Extracting EDF parameters from C:\\Users\\mspla\\Documents\\repos\\py_basic_310_Au24\\seizurePy3.9\\data\\raw_data\\chb-mit-scalp-eeg-database-1.0.0\\chb24\\chb24_03.edf...\n",
      "EDF file detected\n",
      "Setting channel info structure...\n",
      "Creating raw.info structure...\n",
      "Reading 0 ... 921599  =      0.000 ...  3599.996 secs...\n"
     ]
    },
    {
     "name": "stderr",
     "output_type": "stream",
     "text": [
      "C:\\Users\\mspla\\AppData\\Local\\Temp\\ipykernel_12772\\2212051881.py:15: RuntimeWarning: Channel names are not unique, found duplicates for: {'T8-P8'}. Applying running numbers for duplicates.\n",
      "  edf_data = mne.io.read_raw_edf(file, preload=True)\n"
     ]
    },
    {
     "name": "stdout",
     "output_type": "stream",
     "text": [
      "Extracting EDF parameters from C:\\Users\\mspla\\Documents\\repos\\py_basic_310_Au24\\seizurePy3.9\\data\\raw_data\\chb-mit-scalp-eeg-database-1.0.0\\chb24\\chb24_04.edf...\n",
      "EDF file detected\n",
      "Setting channel info structure...\n",
      "Creating raw.info structure...\n",
      "Reading 0 ... 921599  =      0.000 ...  3599.996 secs...\n"
     ]
    },
    {
     "name": "stderr",
     "output_type": "stream",
     "text": [
      "C:\\Users\\mspla\\AppData\\Local\\Temp\\ipykernel_12772\\2212051881.py:15: RuntimeWarning: Channel names are not unique, found duplicates for: {'T8-P8'}. Applying running numbers for duplicates.\n",
      "  edf_data = mne.io.read_raw_edf(file, preload=True)\n"
     ]
    },
    {
     "name": "stdout",
     "output_type": "stream",
     "text": [
      "Extracting EDF parameters from C:\\Users\\mspla\\Documents\\repos\\py_basic_310_Au24\\seizurePy3.9\\data\\raw_data\\chb-mit-scalp-eeg-database-1.0.0\\chb24\\chb24_05.edf...\n",
      "EDF file detected\n",
      "Setting channel info structure...\n",
      "Creating raw.info structure...\n",
      "Reading 0 ... 921599  =      0.000 ...  3599.996 secs...\n"
     ]
    },
    {
     "name": "stderr",
     "output_type": "stream",
     "text": [
      "C:\\Users\\mspla\\AppData\\Local\\Temp\\ipykernel_12772\\2212051881.py:15: RuntimeWarning: Channel names are not unique, found duplicates for: {'T8-P8'}. Applying running numbers for duplicates.\n",
      "  edf_data = mne.io.read_raw_edf(file, preload=True)\n"
     ]
    },
    {
     "name": "stdout",
     "output_type": "stream",
     "text": [
      "Extracting EDF parameters from C:\\Users\\mspla\\Documents\\repos\\py_basic_310_Au24\\seizurePy3.9\\data\\raw_data\\chb-mit-scalp-eeg-database-1.0.0\\chb24\\chb24_06.edf...\n",
      "EDF file detected\n",
      "Setting channel info structure...\n",
      "Creating raw.info structure...\n",
      "Reading 0 ... 921599  =      0.000 ...  3599.996 secs...\n"
     ]
    },
    {
     "name": "stderr",
     "output_type": "stream",
     "text": [
      "C:\\Users\\mspla\\AppData\\Local\\Temp\\ipykernel_12772\\2212051881.py:15: RuntimeWarning: Channel names are not unique, found duplicates for: {'T8-P8'}. Applying running numbers for duplicates.\n",
      "  edf_data = mne.io.read_raw_edf(file, preload=True)\n"
     ]
    },
    {
     "name": "stdout",
     "output_type": "stream",
     "text": [
      "Extracting EDF parameters from C:\\Users\\mspla\\Documents\\repos\\py_basic_310_Au24\\seizurePy3.9\\data\\raw_data\\chb-mit-scalp-eeg-database-1.0.0\\chb24\\chb24_07.edf...\n",
      "EDF file detected\n",
      "Setting channel info structure...\n",
      "Creating raw.info structure...\n",
      "Reading 0 ... 921599  =      0.000 ...  3599.996 secs...\n"
     ]
    },
    {
     "name": "stderr",
     "output_type": "stream",
     "text": [
      "C:\\Users\\mspla\\AppData\\Local\\Temp\\ipykernel_12772\\2212051881.py:15: RuntimeWarning: Channel names are not unique, found duplicates for: {'T8-P8'}. Applying running numbers for duplicates.\n",
      "  edf_data = mne.io.read_raw_edf(file, preload=True)\n"
     ]
    },
    {
     "name": "stdout",
     "output_type": "stream",
     "text": [
      "Extracting EDF parameters from C:\\Users\\mspla\\Documents\\repos\\py_basic_310_Au24\\seizurePy3.9\\data\\raw_data\\chb-mit-scalp-eeg-database-1.0.0\\chb24\\chb24_08.edf...\n",
      "EDF file detected\n",
      "Setting channel info structure...\n",
      "Creating raw.info structure...\n",
      "Reading 0 ... 921599  =      0.000 ...  3599.996 secs...\n"
     ]
    },
    {
     "name": "stderr",
     "output_type": "stream",
     "text": [
      "C:\\Users\\mspla\\AppData\\Local\\Temp\\ipykernel_12772\\2212051881.py:15: RuntimeWarning: Channel names are not unique, found duplicates for: {'T8-P8'}. Applying running numbers for duplicates.\n",
      "  edf_data = mne.io.read_raw_edf(file, preload=True)\n"
     ]
    },
    {
     "name": "stdout",
     "output_type": "stream",
     "text": [
      "Extracting EDF parameters from C:\\Users\\mspla\\Documents\\repos\\py_basic_310_Au24\\seizurePy3.9\\data\\raw_data\\chb-mit-scalp-eeg-database-1.0.0\\chb24\\chb24_09.edf...\n",
      "EDF file detected\n",
      "Setting channel info structure...\n",
      "Creating raw.info structure...\n",
      "Reading 0 ... 921599  =      0.000 ...  3599.996 secs...\n"
     ]
    },
    {
     "name": "stderr",
     "output_type": "stream",
     "text": [
      "C:\\Users\\mspla\\AppData\\Local\\Temp\\ipykernel_12772\\2212051881.py:15: RuntimeWarning: Channel names are not unique, found duplicates for: {'T8-P8'}. Applying running numbers for duplicates.\n",
      "  edf_data = mne.io.read_raw_edf(file, preload=True)\n"
     ]
    },
    {
     "name": "stdout",
     "output_type": "stream",
     "text": [
      "Extracting EDF parameters from C:\\Users\\mspla\\Documents\\repos\\py_basic_310_Au24\\seizurePy3.9\\data\\raw_data\\chb-mit-scalp-eeg-database-1.0.0\\chb24\\chb24_10.edf...\n",
      "EDF file detected\n",
      "Setting channel info structure...\n",
      "Creating raw.info structure...\n",
      "Reading 0 ... 921599  =      0.000 ...  3599.996 secs...\n"
     ]
    },
    {
     "name": "stderr",
     "output_type": "stream",
     "text": [
      "C:\\Users\\mspla\\AppData\\Local\\Temp\\ipykernel_12772\\2212051881.py:15: RuntimeWarning: Channel names are not unique, found duplicates for: {'T8-P8'}. Applying running numbers for duplicates.\n",
      "  edf_data = mne.io.read_raw_edf(file, preload=True)\n"
     ]
    },
    {
     "name": "stdout",
     "output_type": "stream",
     "text": [
      "Extracting EDF parameters from C:\\Users\\mspla\\Documents\\repos\\py_basic_310_Au24\\seizurePy3.9\\data\\raw_data\\chb-mit-scalp-eeg-database-1.0.0\\chb24\\chb24_11.edf...\n",
      "EDF file detected\n",
      "Setting channel info structure...\n",
      "Creating raw.info structure...\n",
      "Reading 0 ... 921599  =      0.000 ...  3599.996 secs...\n"
     ]
    },
    {
     "name": "stderr",
     "output_type": "stream",
     "text": [
      "C:\\Users\\mspla\\AppData\\Local\\Temp\\ipykernel_12772\\2212051881.py:15: RuntimeWarning: Channel names are not unique, found duplicates for: {'T8-P8'}. Applying running numbers for duplicates.\n",
      "  edf_data = mne.io.read_raw_edf(file, preload=True)\n"
     ]
    },
    {
     "name": "stdout",
     "output_type": "stream",
     "text": [
      "Extracting EDF parameters from C:\\Users\\mspla\\Documents\\repos\\py_basic_310_Au24\\seizurePy3.9\\data\\raw_data\\chb-mit-scalp-eeg-database-1.0.0\\chb24\\chb24_12.edf...\n",
      "EDF file detected\n",
      "Setting channel info structure...\n",
      "Creating raw.info structure...\n",
      "Reading 0 ... 921599  =      0.000 ...  3599.996 secs...\n"
     ]
    },
    {
     "name": "stderr",
     "output_type": "stream",
     "text": [
      "C:\\Users\\mspla\\AppData\\Local\\Temp\\ipykernel_12772\\2212051881.py:15: RuntimeWarning: Channel names are not unique, found duplicates for: {'T8-P8'}. Applying running numbers for duplicates.\n",
      "  edf_data = mne.io.read_raw_edf(file, preload=True)\n"
     ]
    },
    {
     "name": "stdout",
     "output_type": "stream",
     "text": [
      "Extracting EDF parameters from C:\\Users\\mspla\\Documents\\repos\\py_basic_310_Au24\\seizurePy3.9\\data\\raw_data\\chb-mit-scalp-eeg-database-1.0.0\\chb24\\chb24_13.edf...\n",
      "EDF file detected\n",
      "Setting channel info structure...\n",
      "Creating raw.info structure...\n",
      "Reading 0 ... 921599  =      0.000 ...  3599.996 secs...\n"
     ]
    },
    {
     "name": "stderr",
     "output_type": "stream",
     "text": [
      "C:\\Users\\mspla\\AppData\\Local\\Temp\\ipykernel_12772\\2212051881.py:15: RuntimeWarning: Channel names are not unique, found duplicates for: {'T8-P8'}. Applying running numbers for duplicates.\n",
      "  edf_data = mne.io.read_raw_edf(file, preload=True)\n"
     ]
    },
    {
     "name": "stdout",
     "output_type": "stream",
     "text": [
      "Extracting EDF parameters from C:\\Users\\mspla\\Documents\\repos\\py_basic_310_Au24\\seizurePy3.9\\data\\raw_data\\chb-mit-scalp-eeg-database-1.0.0\\chb24\\chb24_14.edf...\n",
      "EDF file detected\n",
      "Setting channel info structure...\n",
      "Creating raw.info structure...\n",
      "Reading 0 ... 921599  =      0.000 ...  3599.996 secs...\n"
     ]
    },
    {
     "name": "stderr",
     "output_type": "stream",
     "text": [
      "C:\\Users\\mspla\\AppData\\Local\\Temp\\ipykernel_12772\\2212051881.py:15: RuntimeWarning: Channel names are not unique, found duplicates for: {'T8-P8'}. Applying running numbers for duplicates.\n",
      "  edf_data = mne.io.read_raw_edf(file, preload=True)\n"
     ]
    },
    {
     "name": "stdout",
     "output_type": "stream",
     "text": [
      "Extracting EDF parameters from C:\\Users\\mspla\\Documents\\repos\\py_basic_310_Au24\\seizurePy3.9\\data\\raw_data\\chb-mit-scalp-eeg-database-1.0.0\\chb24\\chb24_15.edf...\n",
      "EDF file detected\n",
      "Setting channel info structure...\n",
      "Creating raw.info structure...\n",
      "Reading 0 ... 921599  =      0.000 ...  3599.996 secs...\n"
     ]
    },
    {
     "name": "stderr",
     "output_type": "stream",
     "text": [
      "C:\\Users\\mspla\\AppData\\Local\\Temp\\ipykernel_12772\\2212051881.py:15: RuntimeWarning: Channel names are not unique, found duplicates for: {'T8-P8'}. Applying running numbers for duplicates.\n",
      "  edf_data = mne.io.read_raw_edf(file, preload=True)\n"
     ]
    },
    {
     "name": "stdout",
     "output_type": "stream",
     "text": [
      "Extracting EDF parameters from C:\\Users\\mspla\\Documents\\repos\\py_basic_310_Au24\\seizurePy3.9\\data\\raw_data\\chb-mit-scalp-eeg-database-1.0.0\\chb24\\chb24_16.edf...\n",
      "EDF file detected\n",
      "Setting channel info structure...\n",
      "Creating raw.info structure...\n",
      "Reading 0 ... 921599  =      0.000 ...  3599.996 secs...\n"
     ]
    },
    {
     "name": "stderr",
     "output_type": "stream",
     "text": [
      "C:\\Users\\mspla\\AppData\\Local\\Temp\\ipykernel_12772\\2212051881.py:15: RuntimeWarning: Channel names are not unique, found duplicates for: {'T8-P8'}. Applying running numbers for duplicates.\n",
      "  edf_data = mne.io.read_raw_edf(file, preload=True)\n"
     ]
    },
    {
     "name": "stdout",
     "output_type": "stream",
     "text": [
      "Extracting EDF parameters from C:\\Users\\mspla\\Documents\\repos\\py_basic_310_Au24\\seizurePy3.9\\data\\raw_data\\chb-mit-scalp-eeg-database-1.0.0\\chb24\\chb24_17.edf...\n",
      "EDF file detected\n",
      "Setting channel info structure...\n",
      "Creating raw.info structure...\n",
      "Reading 0 ... 921599  =      0.000 ...  3599.996 secs...\n"
     ]
    },
    {
     "name": "stderr",
     "output_type": "stream",
     "text": [
      "C:\\Users\\mspla\\AppData\\Local\\Temp\\ipykernel_12772\\2212051881.py:15: RuntimeWarning: Channel names are not unique, found duplicates for: {'T8-P8'}. Applying running numbers for duplicates.\n",
      "  edf_data = mne.io.read_raw_edf(file, preload=True)\n"
     ]
    },
    {
     "name": "stdout",
     "output_type": "stream",
     "text": [
      "Extracting EDF parameters from C:\\Users\\mspla\\Documents\\repos\\py_basic_310_Au24\\seizurePy3.9\\data\\raw_data\\chb-mit-scalp-eeg-database-1.0.0\\chb24\\chb24_18.edf...\n",
      "EDF file detected\n",
      "Setting channel info structure...\n",
      "Creating raw.info structure...\n",
      "Reading 0 ... 921599  =      0.000 ...  3599.996 secs...\n"
     ]
    },
    {
     "name": "stderr",
     "output_type": "stream",
     "text": [
      "C:\\Users\\mspla\\AppData\\Local\\Temp\\ipykernel_12772\\2212051881.py:15: RuntimeWarning: Channel names are not unique, found duplicates for: {'T8-P8'}. Applying running numbers for duplicates.\n",
      "  edf_data = mne.io.read_raw_edf(file, preload=True)\n"
     ]
    },
    {
     "name": "stdout",
     "output_type": "stream",
     "text": [
      "Extracting EDF parameters from C:\\Users\\mspla\\Documents\\repos\\py_basic_310_Au24\\seizurePy3.9\\data\\raw_data\\chb-mit-scalp-eeg-database-1.0.0\\chb24\\chb24_19.edf...\n",
      "EDF file detected\n",
      "Setting channel info structure...\n",
      "Creating raw.info structure...\n",
      "Reading 0 ... 921599  =      0.000 ...  3599.996 secs...\n"
     ]
    },
    {
     "name": "stderr",
     "output_type": "stream",
     "text": [
      "C:\\Users\\mspla\\AppData\\Local\\Temp\\ipykernel_12772\\2212051881.py:15: RuntimeWarning: Channel names are not unique, found duplicates for: {'T8-P8'}. Applying running numbers for duplicates.\n",
      "  edf_data = mne.io.read_raw_edf(file, preload=True)\n"
     ]
    },
    {
     "name": "stdout",
     "output_type": "stream",
     "text": [
      "Extracting EDF parameters from C:\\Users\\mspla\\Documents\\repos\\py_basic_310_Au24\\seizurePy3.9\\data\\raw_data\\chb-mit-scalp-eeg-database-1.0.0\\chb24\\chb24_20.edf...\n",
      "EDF file detected\n",
      "Setting channel info structure...\n",
      "Creating raw.info structure...\n",
      "Reading 0 ... 921599  =      0.000 ...  3599.996 secs...\n"
     ]
    },
    {
     "name": "stderr",
     "output_type": "stream",
     "text": [
      "C:\\Users\\mspla\\AppData\\Local\\Temp\\ipykernel_12772\\2212051881.py:15: RuntimeWarning: Channel names are not unique, found duplicates for: {'T8-P8'}. Applying running numbers for duplicates.\n",
      "  edf_data = mne.io.read_raw_edf(file, preload=True)\n"
     ]
    },
    {
     "name": "stdout",
     "output_type": "stream",
     "text": [
      "Extracting EDF parameters from C:\\Users\\mspla\\Documents\\repos\\py_basic_310_Au24\\seizurePy3.9\\data\\raw_data\\chb-mit-scalp-eeg-database-1.0.0\\chb24\\chb24_21.edf...\n",
      "EDF file detected\n",
      "Setting channel info structure...\n",
      "Creating raw.info structure...\n",
      "Reading 0 ... 921599  =      0.000 ...  3599.996 secs...\n"
     ]
    },
    {
     "name": "stderr",
     "output_type": "stream",
     "text": [
      "C:\\Users\\mspla\\AppData\\Local\\Temp\\ipykernel_12772\\2212051881.py:15: RuntimeWarning: Channel names are not unique, found duplicates for: {'T8-P8'}. Applying running numbers for duplicates.\n",
      "  edf_data = mne.io.read_raw_edf(file, preload=True)\n"
     ]
    },
    {
     "name": "stdout",
     "output_type": "stream",
     "text": [
      "Extracting EDF parameters from C:\\Users\\mspla\\Documents\\repos\\py_basic_310_Au24\\seizurePy3.9\\data\\raw_data\\chb-mit-scalp-eeg-database-1.0.0\\chb24\\chb24_22.edf...\n",
      "EDF file detected\n",
      "Setting channel info structure...\n",
      "Creating raw.info structure...\n",
      "Reading 0 ... 273151  =      0.000 ...  1066.996 secs...\n"
     ]
    },
    {
     "name": "stderr",
     "output_type": "stream",
     "text": [
      "C:\\Users\\mspla\\AppData\\Local\\Temp\\ipykernel_12772\\2212051881.py:15: RuntimeWarning: Channel names are not unique, found duplicates for: {'T8-P8'}. Applying running numbers for duplicates.\n",
      "  edf_data = mne.io.read_raw_edf(file, preload=True)\n"
     ]
    }
   ],
   "execution_count": 34
  },
  {
   "metadata": {
    "ExecuteTime": {
     "end_time": "2024-12-11T15:45:08.242554Z",
     "start_time": "2024-12-11T15:45:08.210431Z"
    }
   },
   "cell_type": "code",
   "source": "2+2",
   "id": "277057421ac16b4f",
   "outputs": [
    {
     "data": {
      "text/plain": [
       "4"
      ]
     },
     "execution_count": 35,
     "metadata": {},
     "output_type": "execute_result"
    }
   ],
   "execution_count": 35
  },
  {
   "metadata": {},
   "cell_type": "code",
   "outputs": [],
   "execution_count": null,
   "source": [
    "\n",
    "\n",
    "\n",
    "# Configuration\n",
    "csv_folder = '/kaggle/working/csv_files'  # Folder containing the merged CSV file\n",
    "# eeg_channels = ['Channel_1', 'Channel_13', 'Channel_19', 'Channel_23']  # Channels to use\n",
    "eeg_channels = ['Channel_5', 'Channel_15', 'Channel_3', 'Channel_2']  # Channels to use\n",
    "\n",
    "window_size_sec = 5  # Window size in seconds\n",
    "step_size_sec = 2 # Step size in seconds\n",
    "sampling_rate = 16  # Sampling rate of EEG signals in Hz\n",
    "preictal_label = 1\n",
    "interictal_label = 0\n",
    "\n",
    "# Derived parameters\n",
    "window_size = window_size_sec * sampling_rate  # Convert to samples\n",
    "step_size = step_size_sec * sampling_rate  # Convert to samples\n",
    "\n",
    "# Function to load and prepare data\n",
    "def load_and_prepare_data(csv_file):\n",
    "    \"\"\"\n",
    "    Load the merged CSV data and prepare it for LSTM model training.\n",
    "    \"\"\"\n",
    "    data = pd.read_csv(csv_file)\n",
    "\n",
    "    # Normalize the EEG data (Min-Max scaling)\n",
    "    scaler = MinMaxScaler()\n",
    "    eeg_data = data[eeg_channels].values\n",
    "    eeg_data_scaled = scaler.fit_transform(eeg_data)\n",
    "\n",
    "    # Get the labels\n",
    "    labels = data['Label'].values\n",
    "\n",
    "    # Create sliding windows\n",
    "    windows, window_labels = create_windows(eeg_data_scaled, labels, window_size, step_size)\n",
    "\n",
    "    return windows, window_labels, scaler\n",
    "\n",
    "# Function to create windows from the data\n",
    "def create_windows(data, labels, window_size, step_size):\n",
    "    \"\"\"\n",
    "    Create overlapping windows from EEG data and corresponding labels.\n",
    "    \"\"\"\n",
    "    windows = []\n",
    "    window_labels = []\n",
    "\n",
    "    for start in range(0, len(data) - window_size + 1, step_size):\n",
    "        end = start + window_size\n",
    "        window = data[start:end, :]\n",
    "        label = labels[start:end]\n",
    "\n",
    "        # Assign label based on majority class in the window\n",
    "        window_label = preictal_label if np.sum(label == preictal_label) > len(label) // 2 else interictal_label\n",
    "        windows.append(window)\n",
    "        window_labels.append(window_label)\n",
    "\n",
    "    return np.array(windows), np.array(window_labels)\n",
    "\n",
    "# Function to build the LSTM model\n",
    "def build_lstm_model(input_shape):\n",
    "    \"\"\"\n",
    "    Build and compile an LSTM model.\n",
    "    \"\"\"\n",
    "    print('Input shape-',input_shape)\n",
    "    model = Sequential()\n",
    "    model.add(LSTM(units=64, return_sequences=True, input_shape=input_shape))\n",
    "    model.add(Dropout(0.2))\n",
    "    model.add(LSTM(units=32, return_sequences=False))\n",
    "    model.add(Dropout(0.2))\n",
    "    model.add(Dense(units=1, activation='sigmoid'))  # Output layer with sigmoid for binary classification\n",
    "    model.compile(optimizer=Adam(learning_rate=0.001), loss='binary_crossentropy', metrics=['accuracy'])\n",
    "    return model\n",
    "\n",
    "# Function to train the LSTM model\n",
    "def train_lstm_model(windows, window_labels):\n",
    "    \"\"\"\n",
    "    Train the LSTM model using the provided windows and labels.\n",
    "    \"\"\"\n",
    "    # Split data into training and testing sets\n",
    "    X_train, X_test, y_train, y_test = train_test_split(windows, window_labels, test_size=0.2, random_state=42)\n",
    "\n",
    "    # Build and train the model\n",
    "    model = build_lstm_model((X_train.shape[1], X_train.shape[2]))\n",
    "    model.fit(X_train, y_train, epochs=10, batch_size=64, validation_split=0.2)\n",
    "\n",
    "    # Evaluate the model on the test set\n",
    "    y_pred = model.predict(X_test)\n",
    "    y_pred = (y_pred > 0.5).astype(int)  # Convert probabilities to binary labels\n",
    "\n",
    "    # Print classification report\n",
    "    print(\"Classification Report on Test Data:\")\n",
    "    print(classification_report(y_test, y_pred))\n",
    "\n",
    "    # Return the trained model\n",
    "    return model, scaler\n",
    "\n",
    "# Real-time prediction function\n",
    "def real_time_prediction(model, scaler, window_size, interval=30):\n",
    "    \"\"\"\n",
    "    Simulate real-time predictions every `interval` seconds using the trained LSTM model.\n",
    "    \"\"\"\n",
    "    print(f\"Starting real-time prediction... (Interval: {interval}s)\")\n",
    "\n",
    "    # Simulate receiving new data (use the merged data as a placeholder)\n",
    "    while True:\n",
    "        # Simulate receiving data\n",
    "        # Replace this with real-time data fetching process\n",
    "        # For now, we assume the data is available in 'merged_df'\n",
    "        # Here we can simulate a chunk of data for prediction\n",
    "        simulated_data = np.random.rand(window_size, len(eeg_channels))  # Simulating new data\n",
    "\n",
    "        # Normalize the new data\n",
    "        scaled_data = scaler.transform(simulated_data)\n",
    "\n",
    "        # Reshape data to match LSTM input shape\n",
    "        X_input = scaled_data.reshape(1, window_size, len(eeg_channels))\n",
    "\n",
    "        # Predict the probability of seizure (preictal)\n",
    "        prediction = model.predict(X_input)\n",
    "        print(f\"Predicted probability of seizure: {prediction[0][0]:.4f}\")\n",
    "\n",
    "        # Sleep for the specified interval (simulate 30 seconds)\n",
    "        time.sleep(interval)\n",
    "\n",
    "# Main function\n",
    "if __name__ == \"__main__\":\n",
    "    # Load the merged data\n",
    "    csv_file = '/kaggle/working/csv_files/merged_data.csv'\n",
    "    windows, window_labels, scaler = load_and_prepare_data(csv_file)\n",
    "\n",
    "    # Train the LSTM model and evaluate on the test data\n",
    "    model, scaler = train_lstm_model(windows, window_labels)\n",
    "\n",
    "    # Save the model for later use\n",
    "    model.save('/kaggle/working/lstm_model.h5')\n",
    "    print(\"Model saved to /kaggle/working/lstm_model.h5\")\n",
    "\n",
    "    # Start real-time prediction\n",
    "    real_time_prediction(model, scaler, window_size, interval=30)"
   ],
   "id": "c3cbf0575d38d27"
  }
 ],
 "metadata": {
  "kernelspec": {
   "display_name": "Python 3",
   "language": "python",
   "name": "python3"
  },
  "language_info": {
   "codemirror_mode": {
    "name": "ipython",
    "version": 2
   },
   "file_extension": ".py",
   "mimetype": "text/x-python",
   "name": "python",
   "nbconvert_exporter": "python",
   "pygments_lexer": "ipython2",
   "version": "2.7.6"
  }
 },
 "nbformat": 4,
 "nbformat_minor": 5
}
