{
 "cells": [
  {
   "metadata": {},
   "cell_type": "markdown",
   "source": "It is common to run unit tests as single python file. However, for ease of submission and markings, a standalone notebook was created to test SVM_Tools class.",
   "id": "ea442bea2edbff7a"
  },
  {
   "metadata": {},
   "cell_type": "markdown",
   "source": [
    "Class SVM_Tools contains seven methods, but for testing, only the decorator is tested here.\n",
    "\n",
    "Learning points during implementation are:\n",
    " - decorator does not pass self into nested function. So assign cache_decorator with @static method, but this prevents use of self.cache as self is not passed\n",
    " -  instead manually apply decorator function. Call cache_decorator with \"cache\" as argument. The returned nested decorator is called with test_function as argument which returns wrapper. Wrapper reassigned back to self.test_function.\n"
   ],
   "id": "632ec419b80fa64e"
  },
  {
   "metadata": {
    "ExecuteTime": {
     "end_time": "2024-12-20T06:50:14.030387Z",
     "start_time": "2024-12-20T06:50:12.728292Z"
    }
   },
   "cell_type": "code",
   "source": [
    "# Array, file access, signal procesing libraries\n",
    "import numpy as np\n",
    "import pandas as pd\n",
    "import os\n",
    "import importlib.util as util\n",
    "from matplotlib import pyplot as plt\n",
    "from scipy.signal import  welch, butter, filtfilt  # estimate signal power across all frequencies\n",
    "import pywt # wavelet transformation algorithm. Python package to install is called PyWavelets\n",
    "import unittest  # in-built unit testing module\n",
    "\n",
    "from seizure import cache_decorator"
   ],
   "id": "5921928fb2bd5de0",
   "outputs": [],
   "execution_count": 1
  },
  {
   "metadata": {},
   "cell_type": "code",
   "outputs": [],
   "execution_count": null,
   "source": "",
   "id": "3a9cff429f6e5b3f"
  },
  {
   "metadata": {
    "ExecuteTime": {
     "end_time": "2024-12-20T07:59:26.557894Z",
     "start_time": "2024-12-20T07:59:26.545985Z"
    }
   },
   "cell_type": "code",
   "source": [
    "\n",
    "class SVM_Tools:\n",
    "    # unnecessary attributes and methods removed from class\n",
    "    # decorator does not pass self into nested function. So assign cache_decorator with @static method, but this prevents use of self.cache as self is not passed\n",
    "    # instead manually apply decorator function. Call cache_decorator with \"cache\" as argument. The returned nested decorator is called with test_function as argument which returns wrapper. Wrapper reassigned back to self.test_function.\n",
    "\n",
    "    def __init__(self):\n",
    "        self.cache = {}\n",
    "        self.test_function = self.cache_decorator(\"cache\")(self.test_function)\n",
    "\n",
    "    def cache_decorator(self, name):\n",
    "        def inside_decorator(func):\n",
    "            # call nested function\n",
    "            def wrapper(*args,**kwargs):\n",
    "                array_result = func(*args,**kwargs)\n",
    "                try:\n",
    "                    if not isinstance(array_result, np.ndarray):\n",
    "                        array_result = np.array(array_result)\n",
    "                except TypeError:\n",
    "                    print(\"Wrong data type\")\n",
    "                # store key-value pair in cache_dict\n",
    "                self.cache[name] = array_result\n",
    "                return array_result\n",
    "            return wrapper\n",
    "        return inside_decorator\n",
    "\n",
    "    def test_function(self, array):\n",
    "        return np.array(array)\n",
    "\n"
   ],
   "id": "886b914c1cba8cdf",
   "outputs": [],
   "execution_count": 35
  },
  {
   "metadata": {
    "ExecuteTime": {
     "end_time": "2024-12-20T08:04:36.646260Z",
     "start_time": "2024-12-20T08:04:36.632112Z"
    }
   },
   "cell_type": "code",
   "source": [
    "\n",
    "class TestSVMTools(unittest.TestCase):\n",
    "    def setUp(self):\n",
    "        # Create an instance of class SVM_Tools\n",
    "        self.svm_tools = SVM_Tools()\n",
    "\n",
    "    def test_cache_storage(self):\n",
    "        # Create input data\n",
    "        input_array = [1, 2, 3, 4, 5]\n",
    "        expected_array = np.array(input_array)\n",
    "\n",
    "        # Call test_function\n",
    "        result_array = self.svm_tools.test_function(input_array)\n",
    "\n",
    "        # Assert that key word \"cache\" is in cache dictionary\n",
    "        self.assertTrue(\"cache\" in self.svm_tools.cache)\n",
    "\n",
    "        # Assert the function returns the correct array\n",
    "        np.testing.assert_array_equal(result_array, expected_array)\n",
    "\n",
    "# Run the tests\n",
    "unittest.main(argv=[''], verbosity=2, exit=False)\n"
   ],
   "id": "102d83b0a682e5c0",
   "outputs": [
    {
     "name": "stderr",
     "output_type": "stream",
     "text": [
      "test_cache_storage (__main__.TestSVMTools) ... ok\n",
      "\n",
      "----------------------------------------------------------------------\n",
      "Ran 1 test in 0.004s\n",
      "\n",
      "OK\n"
     ]
    },
    {
     "data": {
      "text/plain": [
       "<unittest.main.TestProgram at 0x1bced38cc40>"
      ]
     },
     "execution_count": 37,
     "metadata": {},
     "output_type": "execute_result"
    }
   ],
   "execution_count": 37
  }
 ],
 "metadata": {
  "kernelspec": {
   "display_name": "Python 3",
   "language": "python",
   "name": "python3"
  },
  "language_info": {
   "codemirror_mode": {
    "name": "ipython",
    "version": 2
   },
   "file_extension": ".py",
   "mimetype": "text/x-python",
   "name": "python",
   "nbconvert_exporter": "python",
   "pygments_lexer": "ipython2",
   "version": "2.7.6"
  }
 },
 "nbformat": 4,
 "nbformat_minor": 5
}
