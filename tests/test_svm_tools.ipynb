{
 "cells": [
  {
   "metadata": {},
   "cell_type": "markdown",
   "source": [
    "#### Template\n",
    "*Machine Learning and Neural Networks on “ Deep Learning of a public dataset”*\n",
    "\n",
    "Type annotation for return types. def sample() -> int .\n",
    "\n",
    "sample  function returns  an int"
   ],
   "id": "5ffe89bb44b653a2"
  },
  {
   "metadata": {},
   "cell_type": "markdown",
   "source": "It is common to run unit tests as single python file. However, for ease of submission and markings, a standalone notebook was created to test SVM_Tools class.",
   "id": "ea442bea2edbff7a"
  },
  {
   "metadata": {},
   "cell_type": "markdown",
   "source": [
    "Class SVM_Tools contains seven methods, but only four in this notebook for preprocess and cache testing:\n",
    "\n",
    " 1. get_psd(self,data_signal, frequency=256, segment_length=256)  -> numpy array of power signal density features. Unable to run CHB-MIT dataset in a single process. Numpy array size is too large to fit into memory.\n",
    " 2. get_psd_batch(self, batch_size=1000) -> numpy array of power signal features. Run get_psd in batches.\n",
    " 3. get_wavelet(self, scales=np.arange(1,30), wavelet='cmor',batch_size=50) -> returns np.ndarray of shape (n_samples, n_features)\n",
    " 4. a cache decorator. see section on caching, three cells below.\n",
    "\n",
    "Learning points during implementation are:\n",
    " - Decorator does not pass self into nested function. Tried assign cache_decorator with @static method, but this prevents use of self.cache as self is not passed\n",
    " - Instead, manually apply decorator function. Call cache_decorator with \"cache\" as argument. The returned nested decorator is called with test_function as argument which returns wrapper. Wrapper reassigned back to self.test_function.\n"
   ],
   "id": "632ec419b80fa64e"
  },
  {
   "metadata": {
    "ExecuteTime": {
     "end_time": "2024-12-20T09:22:26.778610Z",
     "start_time": "2024-12-20T09:22:20.148451Z"
    }
   },
   "cell_type": "code",
   "source": [
    "# Array, file access, signal procesing libraries\n",
    "import numpy as np\n",
    "import pandas as pd\n",
    "import os\n",
    "import importlib.util as util\n",
    "from matplotlib import pyplot as plt\n",
    "from scipy.signal import  welch, butter, filtfilt  # estimate signal power across all frequencies\n",
    "import pywt # wavelet transformation algorithm. Python package to install is called PyWavelets\n",
    "import unittest  # in-built unit testing module\n",
    "\n"
   ],
   "id": "5921928fb2bd5de0",
   "outputs": [],
   "execution_count": 1
  },
  {
   "metadata": {},
   "cell_type": "code",
   "outputs": [],
   "execution_count": null,
   "source": "",
   "id": "3a9cff429f6e5b3f"
  },
  {
   "metadata": {
    "ExecuteTime": {
     "end_time": "2024-12-20T10:00:04.827605Z",
     "start_time": "2024-12-20T10:00:04.808270Z"
    }
   },
   "cell_type": "code",
   "source": [
    "\n",
    "class SVM_Tools:\n",
    "    # unnecessary attributes and methods removed from class\n",
    "    # decorator does not pass self into nested function. So assign cache_decorator with @static method, but this prevents use of self.cache as self is not passed\n",
    "    # instead manually apply decorator function. Call cache_decorator with \"cache\" as argument. The returned nested decorator is called with test_function as argument which returns wrapper. Wrapper reassigned back to self.test_function.\n",
    "\n",
    "    def __init__(self, data, labels):\n",
    "        self.full_data = data\n",
    "        self.full_labels = labels\n",
    "        self.cache = {}\n",
    "        self.test_function = self.cache_decorator(\"cache\")(self.test_function)\n",
    "\n",
    "    def cache_decorator(self, name):\n",
    "        def inside_decorator(func):\n",
    "            # call nested function\n",
    "            def wrapper(*args,**kwargs):\n",
    "                array_result = func(*args,**kwargs)\n",
    "                try:\n",
    "                    if not isinstance(array_result, np.ndarray):\n",
    "                        array_result = np.array(array_result)\n",
    "                except TypeError:\n",
    "                    print(\"Wrong data type\")\n",
    "                # store key-value pair in cache_dict\n",
    "                self.cache[name] = array_result\n",
    "                return array_result\n",
    "            return wrapper\n",
    "        return inside_decorator\n",
    "\n",
    "    def test_function(self, array):\n",
    "        return np.array(array)\n",
    "\n",
    "    # feature to be extracted is the power spectral density for each channel\n",
    "    def get_psd(self, frequency=256, segment_length=256) -> np.ndarray:\n",
    "        # sample size too large for single step processing. Resulted in out of memory error.\n",
    "        # Batch process data instead.\n",
    "\n",
    "        psd_features = []\n",
    "        for channel in self.full_data:\n",
    "            freq, psd = welch(x=channel, fs=frequency, nperseg=segment_length)\n",
    "            psd_features.append(psd)\n",
    "        return np.array(psd_features)\n",
    "\n",
    "    def get_psd_batch(self, batch_size=1000) -> np.ndarray:\n",
    "        batch_size = 100\n",
    "        full_features = []\n",
    "        #pass batch size of samples to get_psd. Store it and concatenate all obtained result into single numpy array.\n",
    "        for start in range(0,self.full_data.shape[1],batch_size):\n",
    "            end = min(start + batch_size, self.full_data.shape[1])\n",
    "            each_batch = self.full_data[:,start:end]\n",
    "            batch_psd = self.get_psd(each_batch)\n",
    "            full_features.append(batch_psd)\n",
    "\n",
    "        # each batch is appended as a numpy array into full_features. Concatenate the batches into a single batch (row wise).\n",
    "        full_features = np.concatenate(full_features, axis = 1)\n",
    "        return full_features\n",
    "\n",
    "\n",
    "    def get_wavelet(self, scales=np.arange(1,30), wavelet='cmor',batch_size=50) -> np.ndarray:\n",
    "        # useful brain activity 1 - 50 Hz\n",
    "        # apply band filter. Remove > 50 Hz, and < 1 Hz frequencies\n",
    "        # Nyquist frequency is twice the frequency that can be reconstituted from data\n",
    "        # parameters to create filter using butter function from scipy.signal\n",
    "        sampling_frequency = 256  # Sampling frequency from CHB-MIT dataset\n",
    "        nyquist = 0.5 * sampling_frequency\n",
    "        low_hz = 1\n",
    "        high_hz = 50\n",
    "        order = 4  # scipy.signal.butter documentation recommends 4 for bandpass\n",
    "\n",
    "        # User Butterworth filter to create bandpass filter\n",
    "        lower_limit = low_hz / nyquist\n",
    "        higher_limit = high_hz / nyquist\n",
    "        b,a = butter(order, [lower_limit, higher_limit], btype='band')\n",
    "        # returns (numerator, denominator)\n",
    "\n",
    "        # Apply Butterworth filter to filter data\n",
    "        # returns same shaped numpy array with > 50 & < 1 values filtered out\n",
    "        filtered_signals = filtfilt(b,a,self.full_data,axis =-1)\n",
    "        n_samples, n_channels, n_datapoints = filtered_signals.shape\n",
    "\n",
    "        samples_features = [] # list of features for each sample\n",
    "        # for each sample, extract wavelet features for each chanel, and find mean of all channels in a sample\n",
    "        for sample in range(n_samples):\n",
    "            channel_features = [] # list of features for each channel\n",
    "            for channel in range(n_channels):\n",
    "                # perform Morlet wavelet transform using pywt library for each channel separately\n",
    "                # cwt is continuo  wavelet transformation (for continuous variable)\n",
    "                # 128 different scales ( \"resolutions\") applied using np.arange(1,128)\n",
    "                coefficient, freq = pywt.cwt(filtered_signals[sample, channel], scales, wavelet)\n",
    "\n",
    "                # coefficient are complex numbers, may be positive or negative. Squared value removes negative numbers\n",
    "                # np.abs(coefficient) returns magnitude  np.abs(coefficient)**2 returns power (intensity or energy in different frequency band.\n",
    "                power = np.abs(coefficient)**2\n",
    "\n",
    "                # take mean over time axis\n",
    "                feature = np.mean(power, axis = 1)\n",
    "                channel_features.append(feature)\n",
    "\n",
    "            # concatenate all channel features for this sample\n",
    "            samples_features.append(np.concatenate(channel_features, axis=0))  # alternate, np.stack - useful if need to create new axis\n",
    "        np_features = np.array(samples_features)\n",
    "        print(\"shape\",np_features.shape)\n",
    "        return np_features\n"
   ],
   "id": "886b914c1cba8cdf",
   "outputs": [],
   "execution_count": 23
  },
  {
   "metadata": {},
   "cell_type": "markdown",
   "source": "##### Test Caching",
   "id": "1abfc6a18f28e71"
  },
  {
   "metadata": {
    "ExecuteTime": {
     "end_time": "2024-12-20T09:35:06.206008Z",
     "start_time": "2024-12-20T09:35:06.178224Z"
    }
   },
   "cell_type": "code",
   "source": [
    "\n",
    "class TestSVMTools(unittest.TestCase):\n",
    "    def setUp(self):\n",
    "        # Create an instance of class SVM_Tools\n",
    "        input_array = [1, 2, 3, 4, 5]\n",
    "        input_labels = [1, 2, 3, 4, 5]\n",
    "        expected_array = np.array(input_array)\n",
    "        self.svm_tools = SVM_Tools(input_array, input_labels)\n",
    "\n",
    "    def test_cache_storage(self):\n",
    "        # Create input data\n",
    "        input_array = [1, 2, 3, 4, 5]\n",
    "        expected_array = np.array(input_array)\n",
    "\n",
    "        # Call test_function\n",
    "        result_array = self.svm_tools.test_function(input_array)\n",
    "\n",
    "        # Assert that key word \"cache\" is in cache dictionary\n",
    "        self.assertTrue(\"cache\" in self.svm_tools.cache)\n",
    "\n",
    "        # Assert the function returns the correct array\n",
    "        np.testing.assert_array_equal(result_array, expected_array)\n",
    "\n",
    "# Run the tests\n",
    "# In interactive environment, does not exit notebook after running tests, exit argument has to set to False\n",
    "# In interactive environment, environment args may be passed to main , thus argv=[''] makes sure no additinal command is sent\n",
    "unittest.main(argv=[''], verbosity=2,exit=False)"
   ],
   "id": "102d83b0a682e5c0",
   "outputs": [
    {
     "name": "stderr",
     "output_type": "stream",
     "text": [
      "test_cache_storage (__main__.TestSVMTools) ... ok\n",
      "\n",
      "----------------------------------------------------------------------\n",
      "Ran 1 test in 0.003s\n",
      "\n",
      "OK\n"
     ]
    },
    {
     "data": {
      "text/plain": [
       "<unittest.main.TestProgram at 0x1dfe368eb80>"
      ]
     },
     "execution_count": 17,
     "metadata": {},
     "output_type": "execute_result"
    }
   ],
   "execution_count": 17
  },
  {
   "metadata": {},
   "cell_type": "markdown",
   "source": "##### Test Power Spectral Density",
   "id": "1b40b860782c3d1f"
  },
  {
   "metadata": {
    "ExecuteTime": {
     "end_time": "2024-12-20T09:42:20.812389Z",
     "start_time": "2024-12-20T09:42:20.794555Z"
    }
   },
   "cell_type": "code",
   "source": [
    "\n",
    "\n",
    "class TestSVMTools(unittest.TestCase):\n",
    "    def setUp(self):\n",
    "        # 1000 samples with two channels of random noise each\n",
    "        self.sample_data = [np.random.randn(1000) for _ in range(2)]\n",
    "        self.sample_labels = [np.random.randint(0,1,1000) for _ in range(2)]\n",
    "        self.svm_tools = SVM_Tools(self.sample_data, self.sample_labels)\n",
    "\n",
    "    # set up testing of get_psd\n",
    "    def test_get_psd(self):\n",
    "        # Call the get_psd method\n",
    "        psd_result = self.svm_tools.get_psd()\n",
    "\n",
    "        # Assert that the result is a numpy array\n",
    "        self.assertIsInstance(psd_result, np.ndarray)\n",
    "\n",
    "        # Assert the shape of the result\n",
    "        self.assertEqual(psd_result.shape[0], len(self.sample_data))\n",
    "        self.assertEqual(psd_result.shape[1], 129)  # Default segment length is 256, nperseg//2 + 1\n",
    "\n",
    "        # Additional checks can be added based on expected PSD values\n",
    "\n",
    "# Run the tests\n",
    "unittest.main(argv=[''], verbosity=2, exit=False)\n"
   ],
   "id": "1c0f00ca8f7779ea",
   "outputs": [
    {
     "name": "stderr",
     "output_type": "stream",
     "text": [
      "test_get_psd (__main__.TestSVMTools) ... ok\n",
      "\n",
      "----------------------------------------------------------------------\n",
      "Ran 1 test in 0.004s\n",
      "\n",
      "OK\n"
     ]
    },
    {
     "data": {
      "text/plain": [
       "<unittest.main.TestProgram at 0x1dfe366cb50>"
      ]
     },
     "execution_count": 20,
     "metadata": {},
     "output_type": "execute_result"
    }
   ],
   "execution_count": 20
  },
  {
   "metadata": {},
   "cell_type": "markdown",
   "source": "##### Test wavelet analysis",
   "id": "6a8e6b9ea94d98ef"
  },
  {
   "metadata": {
    "ExecuteTime": {
     "end_time": "2024-12-20T10:00:10.186145Z",
     "start_time": "2024-12-20T10:00:10.102653Z"
    }
   },
   "cell_type": "code",
   "source": [
    "\n",
    "class TestSVMTools(unittest.TestCase):\n",
    "    def setUp(self):\n",
    "        # Sample data with random values with shape (10 samples, 2 channels, 256 datapoints)\n",
    "        self.sample_data = np.random.randn(10, 2, 256)\n",
    "        self.sample_labels = np.random.randint(0,1,10)\n",
    "        self.svm_tools = SVM_Tools(self.sample_data, self.sample_labels)\n",
    "\n",
    "    def test_get_wavelet(self):\n",
    "        # Call the get_wavelet method\n",
    "        result = self.svm_tools.get_wavelet()\n",
    "\n",
    "        # Assert that the result is a numpy array\n",
    "        self.assertIsInstance(result, np.ndarray)\n",
    "\n",
    "        # Assert expected shape of (10 samples, 58 features - 29 scales per channel * 2 channels)\n",
    "        # scale in method has been set from 1  to 30, ( 29 because each channel spans two scales)\n",
    "        self.assertEqual(result.shape, (10, 58))\n",
    "\n",
    "\n",
    "# Run tests\n",
    "unittest.main(argv=[''], verbosity=2, exit=False)\n"
   ],
   "id": "b06f5773445b783c",
   "outputs": [
    {
     "name": "stderr",
     "output_type": "stream",
     "text": [
      "test_get_wavelet (__main__.TestSVMTools) ... C:\\Users\\mspla\\miniconda3\\envs\\seizurePy3.9\\lib\\site-packages\\pywt\\_cwt.py:121: FutureWarning: Wavelets from the family cmor, without parameters specified in the name are deprecated. The name should takethe form cmorB-C where B and C are floats representing the bandwidth frequency and center frequency, respectively (example: cmor1.5-1.0).\n",
      "  wavelet = DiscreteContinuousWavelet(wavelet)\n",
      "ok\n",
      "\n",
      "----------------------------------------------------------------------\n",
      "Ran 1 test in 0.059s\n",
      "\n",
      "OK\n"
     ]
    },
    {
     "name": "stdout",
     "output_type": "stream",
     "text": [
      "shape (10, 58)\n"
     ]
    },
    {
     "data": {
      "text/plain": [
       "<unittest.main.TestProgram at 0x1dfe367f400>"
      ]
     },
     "execution_count": 24,
     "metadata": {},
     "output_type": "execute_result"
    }
   ],
   "execution_count": 24
  }
 ],
 "metadata": {
  "kernelspec": {
   "display_name": "Python 3",
   "language": "python",
   "name": "python3"
  },
  "language_info": {
   "codemirror_mode": {
    "name": "ipython",
    "version": 2
   },
   "file_extension": ".py",
   "mimetype": "text/x-python",
   "name": "python",
   "nbconvert_exporter": "python",
   "pygments_lexer": "ipython2",
   "version": "2.7.6"
  }
 },
 "nbformat": 4,
 "nbformat_minor": 5
}
