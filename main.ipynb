{
 "cells": [
  {
   "metadata": {},
   "cell_type": "markdown",
   "source": [
    "#### Template\n",
    "*Machine Learning and Neural Networks on “Deep Learning of a public dataset”*\n",
    "\n",
    "Type annotation for return types. def sample() -> int .\n",
    "\n",
    "sample  function returns  an int"
   ],
   "id": "537a9345e82d6e29"
  },
  {
   "metadata": {},
   "cell_type": "markdown",
   "source": [
    "#### Motivation\n",
    "Integrating artificial intelligence into medical research requires interdisciplinary collaborations, which imposes a barrier to early phase clinical studies or work by junior researcher. Two publications by Panch, T.(2019) and Rajkomar, A (2023) published in BMC Medicine, reiterated the difficulties in assembling clinical and machine learning experts for early phase project. Conducting robust efficacy and safety evaluation is more difficult with artificial intelligence [5,10].\n",
    "##### Project Template\n",
    "My chosen template is CM3050 Machine Learning and Neural Networks on “Deep Learning of a public dataset”.\n",
    "\n",
    "Objectives:\n",
    "- A simple jupyter notebook-based pipeline.\n",
    "- Allow import of edf files. This allows import from EEG machine.\n",
    "- Preprocessing includes segmenting time series, and value standardisation.\n",
    "- Implementing two algorithms, a neural network and a non-neural network based algorithm.\n"
   ],
   "id": "edb03dfe78528698"
  },
  {
   "metadata": {},
   "cell_type": "markdown",
   "source": "[CHB-Mit Seizure Dataset.](https://www.kaggle.com/datasets/adibadea/chbmitseizuredataset/data)",
   "id": "9e288dcc0914af5d"
  },
  {
   "metadata": {
    "ExecuteTime": {
     "end_time": "2025-02-10T07:55:35.475632Z",
     "start_time": "2025-02-10T07:55:35.127356Z"
    }
   },
   "cell_type": "code",
   "source": [
    "# Array and file access libraries\n",
    "import numpy as np\n",
    "import os\n",
    "from matplotlib import pyplot as plt"
   ],
   "id": "4b646ed5e6c55cd9",
   "outputs": [],
   "execution_count": 1
  },
  {
   "metadata": {
    "ExecuteTime": {
     "end_time": "2025-02-10T07:55:36.458168Z",
     "start_time": "2025-02-10T07:55:36.069043Z"
    }
   },
   "cell_type": "code",
   "source": [
    "from scipy.signal import  welch, butter, filtfilt  # estimate signal power across all frequencies\n",
    "import pywt # wavelet transformation algorithm. Python package to install is called PyWavelets"
   ],
   "id": "3b1f63c10d5bebc2",
   "outputs": [],
   "execution_count": 2
  },
  {
   "metadata": {
    "ExecuteTime": {
     "end_time": "2025-02-10T07:55:38.113145Z",
     "start_time": "2025-02-10T07:55:37.923538Z"
    }
   },
   "cell_type": "code",
   "source": [
    "# Scikit-learn library for preprocessing and optimisation search algorithm\n",
    "from sklearn.svm import SVC\n",
    "from sklearn.metrics import confusion_matrix, classification_report, ConfusionMatrixDisplay, accuracy_score, \\\n",
    "    recall_score\n",
    "from sklearn.model_selection import cross_validate, GridSearchCV, RandomizedSearchCV, train_test_split, cross_val_score\n",
    "from sklearn.preprocessing import StandardScaler, MinMaxScaler\n",
    "from sklearn.metrics import f1_score\n"
   ],
   "id": "15ef68705d3a8766",
   "outputs": [],
   "execution_count": 3
  },
  {
   "metadata": {
    "ExecuteTime": {
     "end_time": "2025-02-10T07:55:42.644582Z",
     "start_time": "2025-02-10T07:55:39.972294Z"
    }
   },
   "cell_type": "code",
   "source": [
    "# machine learning tensorflow library\n",
    "# base class for layers inheritance is Layer, in layers module\n",
    "from tensorflow.keras.models import Sequential, load_model, Model\n",
    "from tensorflow.keras.layers import (Conv1D, Conv2D, LSTM, Bidirectional, MaxPooling1D, MaxPooling2D,Flatten, Input, Dense, Dropout, Layer, GlobalAveragePooling1D, GlobalAveragePooling2D, BatchNormalization, MultiHeadAttention, LayerNormalization, Attention, UpSampling1D)\n",
    "from tensorflow.keras.optimizers import Adam\n",
    "from tensorflow.keras.regularizers import L1L2\n",
    "from tensorflow.keras.metrics import Recall, Precision, MSE\n",
    "from tensorflow.keras.callbacks import ModelCheckpoint, EarlyStopping, ReduceLROnPlateau\n"
   ],
   "id": "1c81b5764d55f948",
   "outputs": [],
   "execution_count": 4
  },
  {
   "metadata": {},
   "cell_type": "markdown",
   "source": [
    "#### Rapid prototyping\n",
    "Uses CHM-MIT dataset, which has been preprocessed into Numpy arrays. Smaller size and has window segmentation of 1 second (Badea, 2021) [1].\n",
    "This dataset provides\n",
    "  - Non-balanced seizure and non-seizure classes in proportion of original raw data, as training and testing sample sets\n",
    "  - For validation, an unbalanced and a balanced set are provided.\n",
    "> Non-balanced dataset is used for this section (rapid prototyping)"
   ],
   "id": "a73a022319a379f"
  },
  {
   "metadata": {
    "ExecuteTime": {
     "end_time": "2025-02-10T07:55:46.015370Z",
     "start_time": "2025-02-10T07:55:43.824879Z"
    }
   },
   "cell_type": "code",
   "source": [
    "# parse Badea's files and export to signals containing data and labels containing seizure or non seizure labels\n",
    "# files in npz, numpy format\n",
    "\n",
    "for root, dirs, files in os.walk('data'):\n",
    "    for file in files:\n",
    "        print(os.path.join(root, file))\n",
    "\n",
    "# Data sampled at frequency 256 Hz from 23 channels , n samples.\n",
    "# Each sample represents 1 second.\n",
    "# Training, Testing , Validation data have shape (n,23,256).\n",
    "# npz file may be saved with pickle if strings or complex objects are present\n",
    "\n",
    "# load unbalanced training datasets\n",
    "npz_train1 = np.load('data/eeg-seizure_train.npz', allow_pickle=True)\n",
    "train_signals = npz_train1['train_signals']\n",
    "train_labels = npz_train1['train_labels']\n",
    "print(f\"Training data (signals) have shape {train_signals.shape}\")\n",
    "print(f\"Training labels have shape {train_labels.shape}\")\n",
    "\n",
    "# loads unbalanced validation datasets\n",
    "npz_val1 = np.load('data/eeg-seizure_val.npz', allow_pickle=True)\n",
    "val_signals = npz_val1['val_signals']\n",
    "val_labels = npz_val1['val_labels']\n",
    "print(f\"Validation data (signals) have shape {val_signals.shape}\")\n",
    "print(f\"Validation labels have shape {val_labels.shape}\")\n",
    "\n",
    "# loads unbalanced testing unbalanced datasets\n",
    "npz_test1 = np.load('data/eeg-seizure_test.npz', allow_pickle=True)\n",
    "test_signals = npz_test1['test_signals']\n",
    "print(f\"Test data (signals) have shape {test_signals.shape}\")\n",
    "# no test label file is available as this dataset if from a kaggle competition\n",
    "print(npz_test1.keys())\n",
    "\n",
    "# loads balanced validation datasets\n",
    "npz_balanced1 = np.load('data/eeg-seizure_val_balanced.npz', allow_pickle=True)\n",
    "npz_balanced1.keys()\n",
    "val_balanced_signals = npz_balanced1['val_signals']\n",
    "val_balanced_labels = npz_balanced1['val_labels']\n",
    "\n"
   ],
   "id": "33953218cd73054c",
   "outputs": [
    {
     "name": "stdout",
     "output_type": "stream",
     "text": [
      "data\\eeg-predictive_train.npz\n",
      "data\\eeg-predictive_val.npz\n",
      "data\\eeg-predictive_val_balanced.npz\n",
      "data\\eeg-seizure_test.npz\n",
      "data\\eeg-seizure_train.npz\n",
      "data\\eeg-seizure_val.npz\n",
      "data\\eeg-seizure_val_balanced.npz\n",
      "data\\raw_data\\chb-mit-scalp-eeg-database-1.0.0\\ANNOTATORS\n",
      "data\\raw_data\\chb-mit-scalp-eeg-database-1.0.0\\RECORDS\n",
      "data\\raw_data\\chb-mit-scalp-eeg-database-1.0.0\\RECORDS-WITH-SEIZURES\n",
      "data\\raw_data\\chb-mit-scalp-eeg-database-1.0.0\\SHA256SUMS.txt\n",
      "data\\raw_data\\chb-mit-scalp-eeg-database-1.0.0\\shoeb-icml-2010.pdf\n",
      "data\\raw_data\\chb-mit-scalp-eeg-database-1.0.0\\SUBJECT-INFO\n",
      "data\\raw_data\\chb-mit-scalp-eeg-database-1.0.0\\chb01\\chb01-summary.txt\n",
      "data\\raw_data\\chb-mit-scalp-eeg-database-1.0.0\\chb01\\chb01_01.edf\n",
      "data\\raw_data\\chb-mit-scalp-eeg-database-1.0.0\\chb01\\chb01_02.edf\n",
      "data\\raw_data\\chb-mit-scalp-eeg-database-1.0.0\\chb01\\chb01_03.edf\n",
      "data\\raw_data\\chb-mit-scalp-eeg-database-1.0.0\\chb01\\chb01_03.edf.seizures\n",
      "data\\raw_data\\chb-mit-scalp-eeg-database-1.0.0\\chb01\\chb01_04.edf\n",
      "data\\raw_data\\chb-mit-scalp-eeg-database-1.0.0\\chb01\\chb01_04.edf.seizures\n",
      "data\\raw_data\\chb-mit-scalp-eeg-database-1.0.0\\chb01\\chb01_05.edf\n",
      "data\\raw_data\\chb-mit-scalp-eeg-database-1.0.0\\chb01\\chb01_06.edf\n",
      "data\\raw_data\\chb-mit-scalp-eeg-database-1.0.0\\chb01\\chb01_07.edf\n",
      "data\\raw_data\\chb-mit-scalp-eeg-database-1.0.0\\chb01\\chb01_08.edf\n",
      "data\\raw_data\\chb-mit-scalp-eeg-database-1.0.0\\chb01\\chb01_09.edf\n",
      "data\\raw_data\\chb-mit-scalp-eeg-database-1.0.0\\chb01\\chb01_10.edf\n",
      "data\\raw_data\\chb-mit-scalp-eeg-database-1.0.0\\chb01\\chb01_11.edf\n",
      "data\\raw_data\\chb-mit-scalp-eeg-database-1.0.0\\chb01\\chb01_12.edf\n",
      "data\\raw_data\\chb-mit-scalp-eeg-database-1.0.0\\chb01\\chb01_13.edf\n",
      "data\\raw_data\\chb-mit-scalp-eeg-database-1.0.0\\chb01\\chb01_14.edf\n",
      "data\\raw_data\\chb-mit-scalp-eeg-database-1.0.0\\chb01\\chb01_15.edf\n",
      "data\\raw_data\\chb-mit-scalp-eeg-database-1.0.0\\chb01\\chb01_15.edf.seizures\n",
      "data\\raw_data\\chb-mit-scalp-eeg-database-1.0.0\\chb01\\chb01_16.edf\n",
      "data\\raw_data\\chb-mit-scalp-eeg-database-1.0.0\\chb01\\chb01_16.edf.seizures\n",
      "data\\raw_data\\chb-mit-scalp-eeg-database-1.0.0\\chb01\\chb01_17.edf\n",
      "data\\raw_data\\chb-mit-scalp-eeg-database-1.0.0\\chb01\\chb01_18.edf\n",
      "data\\raw_data\\chb-mit-scalp-eeg-database-1.0.0\\chb01\\chb01_18.edf.seizures\n",
      "data\\raw_data\\chb-mit-scalp-eeg-database-1.0.0\\chb01\\chb01_19.edf\n",
      "data\\raw_data\\chb-mit-scalp-eeg-database-1.0.0\\chb01\\chb01_20.edf\n",
      "data\\raw_data\\chb-mit-scalp-eeg-database-1.0.0\\chb01\\chb01_21.edf\n",
      "data\\raw_data\\chb-mit-scalp-eeg-database-1.0.0\\chb01\\chb01_21.edf.seizures\n",
      "data\\raw_data\\chb-mit-scalp-eeg-database-1.0.0\\chb01\\chb01_22.edf\n",
      "data\\raw_data\\chb-mit-scalp-eeg-database-1.0.0\\chb01\\chb01_23.edf\n",
      "data\\raw_data\\chb-mit-scalp-eeg-database-1.0.0\\chb01\\chb01_24.edf\n",
      "data\\raw_data\\chb-mit-scalp-eeg-database-1.0.0\\chb01\\chb01_25.edf\n",
      "data\\raw_data\\chb-mit-scalp-eeg-database-1.0.0\\chb01\\chb01_26.edf\n",
      "data\\raw_data\\chb-mit-scalp-eeg-database-1.0.0\\chb01\\chb01_26.edf.seizures\n",
      "data\\raw_data\\chb-mit-scalp-eeg-database-1.0.0\\chb01\\chb01_27.edf\n",
      "data\\raw_data\\chb-mit-scalp-eeg-database-1.0.0\\chb01\\chb01_29.edf\n",
      "data\\raw_data\\chb-mit-scalp-eeg-database-1.0.0\\chb01\\chb01_30.edf\n",
      "data\\raw_data\\chb-mit-scalp-eeg-database-1.0.0\\chb01\\chb01_31.edf\n",
      "data\\raw_data\\chb-mit-scalp-eeg-database-1.0.0\\chb01\\chb01_32.edf\n",
      "data\\raw_data\\chb-mit-scalp-eeg-database-1.0.0\\chb01\\chb01_33.edf\n",
      "data\\raw_data\\chb-mit-scalp-eeg-database-1.0.0\\chb01\\chb01_34.edf\n",
      "data\\raw_data\\chb-mit-scalp-eeg-database-1.0.0\\chb01\\chb01_36.edf\n",
      "data\\raw_data\\chb-mit-scalp-eeg-database-1.0.0\\chb01\\chb01_37.edf\n",
      "data\\raw_data\\chb-mit-scalp-eeg-database-1.0.0\\chb01\\chb01_38.edf\n",
      "data\\raw_data\\chb-mit-scalp-eeg-database-1.0.0\\chb01\\chb01_39.edf\n",
      "data\\raw_data\\chb-mit-scalp-eeg-database-1.0.0\\chb01\\chb01_40.edf\n",
      "data\\raw_data\\chb-mit-scalp-eeg-database-1.0.0\\chb01\\chb01_41.edf\n",
      "data\\raw_data\\chb-mit-scalp-eeg-database-1.0.0\\chb01\\chb01_42.edf\n",
      "data\\raw_data\\chb-mit-scalp-eeg-database-1.0.0\\chb01\\chb01_43.edf\n",
      "data\\raw_data\\chb-mit-scalp-eeg-database-1.0.0\\chb01\\chb01_46.edf\n",
      "data\\raw_data\\chb-mit-scalp-eeg-database-1.0.0\\chb02\\chb02-summary.txt\n",
      "data\\raw_data\\chb-mit-scalp-eeg-database-1.0.0\\chb02\\chb02_01.edf\n",
      "data\\raw_data\\chb-mit-scalp-eeg-database-1.0.0\\chb02\\chb02_02.edf\n",
      "data\\raw_data\\chb-mit-scalp-eeg-database-1.0.0\\chb02\\chb02_03.edf\n",
      "data\\raw_data\\chb-mit-scalp-eeg-database-1.0.0\\chb02\\chb02_04.edf\n",
      "data\\raw_data\\chb-mit-scalp-eeg-database-1.0.0\\chb02\\chb02_05.edf\n",
      "data\\raw_data\\chb-mit-scalp-eeg-database-1.0.0\\chb02\\chb02_06.edf\n",
      "data\\raw_data\\chb-mit-scalp-eeg-database-1.0.0\\chb02\\chb02_07.edf\n",
      "data\\raw_data\\chb-mit-scalp-eeg-database-1.0.0\\chb02\\chb02_08.edf\n",
      "data\\raw_data\\chb-mit-scalp-eeg-database-1.0.0\\chb02\\chb02_09.edf\n",
      "data\\raw_data\\chb-mit-scalp-eeg-database-1.0.0\\chb02\\chb02_10.edf\n",
      "data\\raw_data\\chb-mit-scalp-eeg-database-1.0.0\\chb02\\chb02_11.edf\n",
      "data\\raw_data\\chb-mit-scalp-eeg-database-1.0.0\\chb02\\chb02_12.edf\n",
      "data\\raw_data\\chb-mit-scalp-eeg-database-1.0.0\\chb02\\chb02_13.edf\n",
      "data\\raw_data\\chb-mit-scalp-eeg-database-1.0.0\\chb02\\chb02_14.edf\n",
      "data\\raw_data\\chb-mit-scalp-eeg-database-1.0.0\\chb02\\chb02_15.edf\n",
      "data\\raw_data\\chb-mit-scalp-eeg-database-1.0.0\\chb02\\chb02_16+.edf\n",
      "data\\raw_data\\chb-mit-scalp-eeg-database-1.0.0\\chb02\\chb02_16+.edf.seizures\n",
      "data\\raw_data\\chb-mit-scalp-eeg-database-1.0.0\\chb02\\chb02_16.edf\n",
      "data\\raw_data\\chb-mit-scalp-eeg-database-1.0.0\\chb02\\chb02_16.edf.seizures\n",
      "data\\raw_data\\chb-mit-scalp-eeg-database-1.0.0\\chb02\\chb02_17.edf\n",
      "data\\raw_data\\chb-mit-scalp-eeg-database-1.0.0\\chb02\\chb02_18.edf\n",
      "data\\raw_data\\chb-mit-scalp-eeg-database-1.0.0\\chb02\\chb02_19.edf\n",
      "data\\raw_data\\chb-mit-scalp-eeg-database-1.0.0\\chb02\\chb02_19.edf.seizures\n",
      "data\\raw_data\\chb-mit-scalp-eeg-database-1.0.0\\chb02\\chb02_20.edf\n",
      "data\\raw_data\\chb-mit-scalp-eeg-database-1.0.0\\chb02\\chb02_21.edf\n",
      "data\\raw_data\\chb-mit-scalp-eeg-database-1.0.0\\chb02\\chb02_22.edf\n",
      "data\\raw_data\\chb-mit-scalp-eeg-database-1.0.0\\chb02\\chb02_23.edf\n",
      "data\\raw_data\\chb-mit-scalp-eeg-database-1.0.0\\chb02\\chb02_24.edf\n",
      "data\\raw_data\\chb-mit-scalp-eeg-database-1.0.0\\chb02\\chb02_25.edf\n",
      "data\\raw_data\\chb-mit-scalp-eeg-database-1.0.0\\chb02\\chb02_26.edf\n",
      "data\\raw_data\\chb-mit-scalp-eeg-database-1.0.0\\chb02\\chb02_27.edf\n",
      "data\\raw_data\\chb-mit-scalp-eeg-database-1.0.0\\chb02\\chb02_28.edf\n",
      "data\\raw_data\\chb-mit-scalp-eeg-database-1.0.0\\chb02\\chb02_29.edf\n",
      "data\\raw_data\\chb-mit-scalp-eeg-database-1.0.0\\chb02\\chb02_30.edf\n",
      "data\\raw_data\\chb-mit-scalp-eeg-database-1.0.0\\chb02\\chb02_31.edf\n",
      "data\\raw_data\\chb-mit-scalp-eeg-database-1.0.0\\chb02\\chb02_32.edf\n",
      "data\\raw_data\\chb-mit-scalp-eeg-database-1.0.0\\chb02\\chb02_33.edf\n",
      "data\\raw_data\\chb-mit-scalp-eeg-database-1.0.0\\chb02\\chb02_34.edf\n",
      "data\\raw_data\\chb-mit-scalp-eeg-database-1.0.0\\chb02\\chb02_35.edf\n",
      "data\\raw_data\\chb-mit-scalp-eeg-database-1.0.0\\chb03\\chb03-summary.txt\n",
      "data\\raw_data\\chb-mit-scalp-eeg-database-1.0.0\\chb03\\chb03_01.edf\n",
      "data\\raw_data\\chb-mit-scalp-eeg-database-1.0.0\\chb03\\chb03_01.edf.seizures\n",
      "data\\raw_data\\chb-mit-scalp-eeg-database-1.0.0\\chb03\\chb03_02.edf\n",
      "data\\raw_data\\chb-mit-scalp-eeg-database-1.0.0\\chb03\\chb03_02.edf.seizures\n",
      "data\\raw_data\\chb-mit-scalp-eeg-database-1.0.0\\chb03\\chb03_03.edf\n",
      "data\\raw_data\\chb-mit-scalp-eeg-database-1.0.0\\chb03\\chb03_03.edf.seizures\n",
      "data\\raw_data\\chb-mit-scalp-eeg-database-1.0.0\\chb03\\chb03_04.edf\n",
      "data\\raw_data\\chb-mit-scalp-eeg-database-1.0.0\\chb03\\chb03_04.edf.seizures\n",
      "data\\raw_data\\chb-mit-scalp-eeg-database-1.0.0\\chb03\\chb03_05.edf\n",
      "data\\raw_data\\chb-mit-scalp-eeg-database-1.0.0\\chb03\\chb03_06.edf\n",
      "data\\raw_data\\chb-mit-scalp-eeg-database-1.0.0\\chb03\\chb03_07.edf\n",
      "data\\raw_data\\chb-mit-scalp-eeg-database-1.0.0\\chb03\\chb03_08.edf\n",
      "data\\raw_data\\chb-mit-scalp-eeg-database-1.0.0\\chb03\\chb03_09.edf\n",
      "data\\raw_data\\chb-mit-scalp-eeg-database-1.0.0\\chb03\\chb03_10.edf\n",
      "data\\raw_data\\chb-mit-scalp-eeg-database-1.0.0\\chb03\\chb03_11.edf\n",
      "data\\raw_data\\chb-mit-scalp-eeg-database-1.0.0\\chb03\\chb03_12.edf\n",
      "data\\raw_data\\chb-mit-scalp-eeg-database-1.0.0\\chb03\\chb03_13.edf\n",
      "data\\raw_data\\chb-mit-scalp-eeg-database-1.0.0\\chb03\\chb03_14.edf\n",
      "data\\raw_data\\chb-mit-scalp-eeg-database-1.0.0\\chb03\\chb03_15.edf\n",
      "data\\raw_data\\chb-mit-scalp-eeg-database-1.0.0\\chb03\\chb03_16.edf\n",
      "data\\raw_data\\chb-mit-scalp-eeg-database-1.0.0\\chb03\\chb03_17.edf\n",
      "data\\raw_data\\chb-mit-scalp-eeg-database-1.0.0\\chb03\\chb03_18.edf\n",
      "data\\raw_data\\chb-mit-scalp-eeg-database-1.0.0\\chb03\\chb03_19.edf\n",
      "data\\raw_data\\chb-mit-scalp-eeg-database-1.0.0\\chb03\\chb03_20.edf\n",
      "data\\raw_data\\chb-mit-scalp-eeg-database-1.0.0\\chb03\\chb03_21.edf\n",
      "data\\raw_data\\chb-mit-scalp-eeg-database-1.0.0\\chb03\\chb03_22.edf\n",
      "data\\raw_data\\chb-mit-scalp-eeg-database-1.0.0\\chb03\\chb03_23.edf\n",
      "data\\raw_data\\chb-mit-scalp-eeg-database-1.0.0\\chb03\\chb03_24.edf\n",
      "data\\raw_data\\chb-mit-scalp-eeg-database-1.0.0\\chb03\\chb03_25.edf\n",
      "data\\raw_data\\chb-mit-scalp-eeg-database-1.0.0\\chb03\\chb03_26.edf\n",
      "data\\raw_data\\chb-mit-scalp-eeg-database-1.0.0\\chb03\\chb03_27.edf\n",
      "data\\raw_data\\chb-mit-scalp-eeg-database-1.0.0\\chb03\\chb03_28.edf\n",
      "data\\raw_data\\chb-mit-scalp-eeg-database-1.0.0\\chb03\\chb03_29.edf\n",
      "data\\raw_data\\chb-mit-scalp-eeg-database-1.0.0\\chb03\\chb03_30.edf\n",
      "data\\raw_data\\chb-mit-scalp-eeg-database-1.0.0\\chb03\\chb03_31.edf\n",
      "data\\raw_data\\chb-mit-scalp-eeg-database-1.0.0\\chb03\\chb03_32.edf\n",
      "data\\raw_data\\chb-mit-scalp-eeg-database-1.0.0\\chb03\\chb03_33.edf\n",
      "data\\raw_data\\chb-mit-scalp-eeg-database-1.0.0\\chb03\\chb03_34.edf\n",
      "data\\raw_data\\chb-mit-scalp-eeg-database-1.0.0\\chb03\\chb03_34.edf.seizures\n",
      "data\\raw_data\\chb-mit-scalp-eeg-database-1.0.0\\chb03\\chb03_35.edf\n",
      "data\\raw_data\\chb-mit-scalp-eeg-database-1.0.0\\chb03\\chb03_35.edf.seizures\n",
      "data\\raw_data\\chb-mit-scalp-eeg-database-1.0.0\\chb03\\chb03_36.edf\n",
      "data\\raw_data\\chb-mit-scalp-eeg-database-1.0.0\\chb03\\chb03_36.edf.seizures\n",
      "data\\raw_data\\chb-mit-scalp-eeg-database-1.0.0\\chb03\\chb03_37.edf\n",
      "data\\raw_data\\chb-mit-scalp-eeg-database-1.0.0\\chb03\\chb03_38.edf\n",
      "data\\raw_data\\chb-mit-scalp-eeg-database-1.0.0\\chb04\\chb04-summary.txt\n",
      "data\\raw_data\\chb-mit-scalp-eeg-database-1.0.0\\chb04\\chb04_01.edf\n",
      "data\\raw_data\\chb-mit-scalp-eeg-database-1.0.0\\chb04\\chb04_02.edf\n",
      "data\\raw_data\\chb-mit-scalp-eeg-database-1.0.0\\chb04\\chb04_03.edf\n",
      "data\\raw_data\\chb-mit-scalp-eeg-database-1.0.0\\chb04\\chb04_04.edf\n",
      "data\\raw_data\\chb-mit-scalp-eeg-database-1.0.0\\chb04\\chb04_05.edf\n",
      "data\\raw_data\\chb-mit-scalp-eeg-database-1.0.0\\chb04\\chb04_05.edf.seizures\n",
      "data\\raw_data\\chb-mit-scalp-eeg-database-1.0.0\\chb04\\chb04_06.edf\n",
      "data\\raw_data\\chb-mit-scalp-eeg-database-1.0.0\\chb04\\chb04_07.edf\n",
      "data\\raw_data\\chb-mit-scalp-eeg-database-1.0.0\\chb04\\chb04_08.edf\n",
      "data\\raw_data\\chb-mit-scalp-eeg-database-1.0.0\\chb04\\chb04_08.edf.seizures\n",
      "data\\raw_data\\chb-mit-scalp-eeg-database-1.0.0\\chb04\\chb04_09.edf\n",
      "data\\raw_data\\chb-mit-scalp-eeg-database-1.0.0\\chb04\\chb04_10.edf\n",
      "data\\raw_data\\chb-mit-scalp-eeg-database-1.0.0\\chb04\\chb04_11.edf\n",
      "data\\raw_data\\chb-mit-scalp-eeg-database-1.0.0\\chb04\\chb04_12.edf\n",
      "data\\raw_data\\chb-mit-scalp-eeg-database-1.0.0\\chb04\\chb04_13.edf\n",
      "data\\raw_data\\chb-mit-scalp-eeg-database-1.0.0\\chb04\\chb04_14.edf\n",
      "data\\raw_data\\chb-mit-scalp-eeg-database-1.0.0\\chb04\\chb04_15.edf\n",
      "data\\raw_data\\chb-mit-scalp-eeg-database-1.0.0\\chb04\\chb04_16.edf\n",
      "data\\raw_data\\chb-mit-scalp-eeg-database-1.0.0\\chb04\\chb04_17.edf\n",
      "data\\raw_data\\chb-mit-scalp-eeg-database-1.0.0\\chb04\\chb04_18.edf\n",
      "data\\raw_data\\chb-mit-scalp-eeg-database-1.0.0\\chb04\\chb04_19.edf\n",
      "data\\raw_data\\chb-mit-scalp-eeg-database-1.0.0\\chb04\\chb04_21.edf\n",
      "data\\raw_data\\chb-mit-scalp-eeg-database-1.0.0\\chb04\\chb04_22.edf\n",
      "data\\raw_data\\chb-mit-scalp-eeg-database-1.0.0\\chb04\\chb04_23.edf\n",
      "data\\raw_data\\chb-mit-scalp-eeg-database-1.0.0\\chb04\\chb04_24.edf\n",
      "data\\raw_data\\chb-mit-scalp-eeg-database-1.0.0\\chb04\\chb04_25.edf\n",
      "data\\raw_data\\chb-mit-scalp-eeg-database-1.0.0\\chb04\\chb04_26.edf\n",
      "data\\raw_data\\chb-mit-scalp-eeg-database-1.0.0\\chb04\\chb04_27.edf\n",
      "data\\raw_data\\chb-mit-scalp-eeg-database-1.0.0\\chb04\\chb04_28.edf\n",
      "data\\raw_data\\chb-mit-scalp-eeg-database-1.0.0\\chb04\\chb04_28.edf.seizures\n",
      "data\\raw_data\\chb-mit-scalp-eeg-database-1.0.0\\chb04\\chb04_29.edf\n",
      "data\\raw_data\\chb-mit-scalp-eeg-database-1.0.0\\chb04\\chb04_30.edf\n",
      "data\\raw_data\\chb-mit-scalp-eeg-database-1.0.0\\chb04\\chb04_31.edf\n",
      "data\\raw_data\\chb-mit-scalp-eeg-database-1.0.0\\chb04\\chb04_32.edf\n",
      "data\\raw_data\\chb-mit-scalp-eeg-database-1.0.0\\chb04\\chb04_33.edf\n",
      "data\\raw_data\\chb-mit-scalp-eeg-database-1.0.0\\chb04\\chb04_34.edf\n",
      "data\\raw_data\\chb-mit-scalp-eeg-database-1.0.0\\chb04\\chb04_35.edf\n",
      "data\\raw_data\\chb-mit-scalp-eeg-database-1.0.0\\chb04\\chb04_36.edf\n",
      "data\\raw_data\\chb-mit-scalp-eeg-database-1.0.0\\chb04\\chb04_37.edf\n",
      "data\\raw_data\\chb-mit-scalp-eeg-database-1.0.0\\chb04\\chb04_38.edf\n",
      "data\\raw_data\\chb-mit-scalp-eeg-database-1.0.0\\chb04\\chb04_39.edf\n",
      "data\\raw_data\\chb-mit-scalp-eeg-database-1.0.0\\chb04\\chb04_40.edf\n",
      "data\\raw_data\\chb-mit-scalp-eeg-database-1.0.0\\chb04\\chb04_41.edf\n",
      "data\\raw_data\\chb-mit-scalp-eeg-database-1.0.0\\chb04\\chb04_42.edf\n",
      "data\\raw_data\\chb-mit-scalp-eeg-database-1.0.0\\chb04\\chb04_43.edf\n",
      "data\\raw_data\\chb-mit-scalp-eeg-database-1.0.0\\chb05\\chb05-summary.txt\n",
      "data\\raw_data\\chb-mit-scalp-eeg-database-1.0.0\\chb05\\chb05_01.edf\n",
      "data\\raw_data\\chb-mit-scalp-eeg-database-1.0.0\\chb05\\chb05_02.edf\n",
      "data\\raw_data\\chb-mit-scalp-eeg-database-1.0.0\\chb05\\chb05_03.edf\n",
      "data\\raw_data\\chb-mit-scalp-eeg-database-1.0.0\\chb05\\chb05_04.edf\n",
      "data\\raw_data\\chb-mit-scalp-eeg-database-1.0.0\\chb05\\chb05_05.edf\n",
      "data\\raw_data\\chb-mit-scalp-eeg-database-1.0.0\\chb05\\chb05_06.edf\n",
      "data\\raw_data\\chb-mit-scalp-eeg-database-1.0.0\\chb05\\chb05_06.edf.seizures\n",
      "data\\raw_data\\chb-mit-scalp-eeg-database-1.0.0\\chb05\\chb05_07.edf\n",
      "data\\raw_data\\chb-mit-scalp-eeg-database-1.0.0\\chb05\\chb05_08.edf\n",
      "data\\raw_data\\chb-mit-scalp-eeg-database-1.0.0\\chb05\\chb05_09.edf\n",
      "data\\raw_data\\chb-mit-scalp-eeg-database-1.0.0\\chb05\\chb05_10.edf\n",
      "data\\raw_data\\chb-mit-scalp-eeg-database-1.0.0\\chb05\\chb05_11.edf\n",
      "data\\raw_data\\chb-mit-scalp-eeg-database-1.0.0\\chb05\\chb05_12.edf\n",
      "data\\raw_data\\chb-mit-scalp-eeg-database-1.0.0\\chb05\\chb05_13.edf\n",
      "data\\raw_data\\chb-mit-scalp-eeg-database-1.0.0\\chb05\\chb05_13.edf.seizures\n",
      "data\\raw_data\\chb-mit-scalp-eeg-database-1.0.0\\chb05\\chb05_14.edf\n",
      "data\\raw_data\\chb-mit-scalp-eeg-database-1.0.0\\chb05\\chb05_15.edf\n",
      "data\\raw_data\\chb-mit-scalp-eeg-database-1.0.0\\chb05\\chb05_16.edf\n",
      "data\\raw_data\\chb-mit-scalp-eeg-database-1.0.0\\chb05\\chb05_16.edf.seizures\n",
      "data\\raw_data\\chb-mit-scalp-eeg-database-1.0.0\\chb05\\chb05_17.edf\n",
      "data\\raw_data\\chb-mit-scalp-eeg-database-1.0.0\\chb05\\chb05_17.edf.seizures\n",
      "data\\raw_data\\chb-mit-scalp-eeg-database-1.0.0\\chb05\\chb05_18.edf\n",
      "data\\raw_data\\chb-mit-scalp-eeg-database-1.0.0\\chb05\\chb05_19.edf\n",
      "data\\raw_data\\chb-mit-scalp-eeg-database-1.0.0\\chb05\\chb05_20.edf\n",
      "data\\raw_data\\chb-mit-scalp-eeg-database-1.0.0\\chb05\\chb05_21.edf\n",
      "data\\raw_data\\chb-mit-scalp-eeg-database-1.0.0\\chb05\\chb05_22.edf\n",
      "data\\raw_data\\chb-mit-scalp-eeg-database-1.0.0\\chb05\\chb05_22.edf.seizures\n",
      "data\\raw_data\\chb-mit-scalp-eeg-database-1.0.0\\chb05\\chb05_23.edf\n",
      "data\\raw_data\\chb-mit-scalp-eeg-database-1.0.0\\chb05\\chb05_24.edf\n",
      "data\\raw_data\\chb-mit-scalp-eeg-database-1.0.0\\chb05\\chb05_25.edf\n",
      "data\\raw_data\\chb-mit-scalp-eeg-database-1.0.0\\chb05\\chb05_26.edf\n",
      "data\\raw_data\\chb-mit-scalp-eeg-database-1.0.0\\chb05\\chb05_27.edf\n",
      "data\\raw_data\\chb-mit-scalp-eeg-database-1.0.0\\chb05\\chb05_28.edf\n",
      "data\\raw_data\\chb-mit-scalp-eeg-database-1.0.0\\chb05\\chb05_29.edf\n",
      "data\\raw_data\\chb-mit-scalp-eeg-database-1.0.0\\chb05\\chb05_30.edf\n",
      "data\\raw_data\\chb-mit-scalp-eeg-database-1.0.0\\chb05\\chb05_31.edf\n",
      "data\\raw_data\\chb-mit-scalp-eeg-database-1.0.0\\chb05\\chb05_32.edf\n",
      "data\\raw_data\\chb-mit-scalp-eeg-database-1.0.0\\chb05\\chb05_33.edf\n",
      "data\\raw_data\\chb-mit-scalp-eeg-database-1.0.0\\chb05\\chb05_34.edf\n",
      "data\\raw_data\\chb-mit-scalp-eeg-database-1.0.0\\chb05\\chb05_35.edf\n",
      "data\\raw_data\\chb-mit-scalp-eeg-database-1.0.0\\chb05\\chb05_36.edf\n",
      "data\\raw_data\\chb-mit-scalp-eeg-database-1.0.0\\chb05\\chb05_37.edf\n",
      "data\\raw_data\\chb-mit-scalp-eeg-database-1.0.0\\chb05\\chb05_38.edf\n",
      "data\\raw_data\\chb-mit-scalp-eeg-database-1.0.0\\chb05\\chb05_39.edf\n",
      "data\\raw_data\\chb-mit-scalp-eeg-database-1.0.0\\chb06\\chb06-summary.txt\n",
      "data\\raw_data\\chb-mit-scalp-eeg-database-1.0.0\\chb06\\chb06_01.edf\n",
      "data\\raw_data\\chb-mit-scalp-eeg-database-1.0.0\\chb06\\chb06_01.edf.seizures\n",
      "data\\raw_data\\chb-mit-scalp-eeg-database-1.0.0\\chb06\\chb06_02.edf\n",
      "data\\raw_data\\chb-mit-scalp-eeg-database-1.0.0\\chb06\\chb06_03.edf\n",
      "data\\raw_data\\chb-mit-scalp-eeg-database-1.0.0\\chb06\\chb06_04.edf\n",
      "data\\raw_data\\chb-mit-scalp-eeg-database-1.0.0\\chb06\\chb06_04.edf.seizures\n",
      "data\\raw_data\\chb-mit-scalp-eeg-database-1.0.0\\chb06\\chb06_05.edf\n",
      "data\\raw_data\\chb-mit-scalp-eeg-database-1.0.0\\chb06\\chb06_06.edf\n",
      "data\\raw_data\\chb-mit-scalp-eeg-database-1.0.0\\chb06\\chb06_07.edf\n",
      "data\\raw_data\\chb-mit-scalp-eeg-database-1.0.0\\chb06\\chb06_08.edf\n",
      "data\\raw_data\\chb-mit-scalp-eeg-database-1.0.0\\chb06\\chb06_09.edf\n",
      "data\\raw_data\\chb-mit-scalp-eeg-database-1.0.0\\chb06\\chb06_09.edf.seizures\n",
      "data\\raw_data\\chb-mit-scalp-eeg-database-1.0.0\\chb06\\chb06_10.edf\n",
      "data\\raw_data\\chb-mit-scalp-eeg-database-1.0.0\\chb06\\chb06_10.edf.seizures\n",
      "data\\raw_data\\chb-mit-scalp-eeg-database-1.0.0\\chb06\\chb06_12.edf\n",
      "data\\raw_data\\chb-mit-scalp-eeg-database-1.0.0\\chb06\\chb06_13.edf\n",
      "data\\raw_data\\chb-mit-scalp-eeg-database-1.0.0\\chb06\\chb06_13.edf.seizures\n",
      "data\\raw_data\\chb-mit-scalp-eeg-database-1.0.0\\chb06\\chb06_14.edf\n",
      "data\\raw_data\\chb-mit-scalp-eeg-database-1.0.0\\chb06\\chb06_15.edf\n",
      "data\\raw_data\\chb-mit-scalp-eeg-database-1.0.0\\chb06\\chb06_16.edf\n",
      "data\\raw_data\\chb-mit-scalp-eeg-database-1.0.0\\chb06\\chb06_17.edf\n",
      "data\\raw_data\\chb-mit-scalp-eeg-database-1.0.0\\chb06\\chb06_18.edf\n",
      "data\\raw_data\\chb-mit-scalp-eeg-database-1.0.0\\chb06\\chb06_18.edf.seizures\n",
      "data\\raw_data\\chb-mit-scalp-eeg-database-1.0.0\\chb06\\chb06_24.edf\n",
      "data\\raw_data\\chb-mit-scalp-eeg-database-1.0.0\\chb06\\chb06_24.edf.seizures\n",
      "data\\raw_data\\chb-mit-scalp-eeg-database-1.0.0\\chb07\\chb07-summary.txt\n",
      "data\\raw_data\\chb-mit-scalp-eeg-database-1.0.0\\chb07\\chb07_01.edf\n",
      "data\\raw_data\\chb-mit-scalp-eeg-database-1.0.0\\chb07\\chb07_02.edf\n",
      "data\\raw_data\\chb-mit-scalp-eeg-database-1.0.0\\chb07\\chb07_03.edf\n",
      "data\\raw_data\\chb-mit-scalp-eeg-database-1.0.0\\chb07\\chb07_04.edf\n",
      "data\\raw_data\\chb-mit-scalp-eeg-database-1.0.0\\chb07\\chb07_05.edf\n",
      "data\\raw_data\\chb-mit-scalp-eeg-database-1.0.0\\chb07\\chb07_06.edf\n",
      "data\\raw_data\\chb-mit-scalp-eeg-database-1.0.0\\chb07\\chb07_07.edf\n",
      "data\\raw_data\\chb-mit-scalp-eeg-database-1.0.0\\chb07\\chb07_08.edf\n",
      "data\\raw_data\\chb-mit-scalp-eeg-database-1.0.0\\chb07\\chb07_09.edf\n",
      "data\\raw_data\\chb-mit-scalp-eeg-database-1.0.0\\chb07\\chb07_10.edf\n",
      "data\\raw_data\\chb-mit-scalp-eeg-database-1.0.0\\chb07\\chb07_11.edf\n",
      "data\\raw_data\\chb-mit-scalp-eeg-database-1.0.0\\chb07\\chb07_12.edf\n",
      "data\\raw_data\\chb-mit-scalp-eeg-database-1.0.0\\chb07\\chb07_12.edf.seizures\n",
      "data\\raw_data\\chb-mit-scalp-eeg-database-1.0.0\\chb07\\chb07_13.edf\n",
      "data\\raw_data\\chb-mit-scalp-eeg-database-1.0.0\\chb07\\chb07_13.edf.seizures\n",
      "data\\raw_data\\chb-mit-scalp-eeg-database-1.0.0\\chb07\\chb07_14.edf\n",
      "data\\raw_data\\chb-mit-scalp-eeg-database-1.0.0\\chb07\\chb07_15.edf\n",
      "data\\raw_data\\chb-mit-scalp-eeg-database-1.0.0\\chb07\\chb07_16.edf\n",
      "data\\raw_data\\chb-mit-scalp-eeg-database-1.0.0\\chb07\\chb07_17.edf\n",
      "data\\raw_data\\chb-mit-scalp-eeg-database-1.0.0\\chb07\\chb07_18.edf\n",
      "data\\raw_data\\chb-mit-scalp-eeg-database-1.0.0\\chb07\\chb07_19.edf\n",
      "data\\raw_data\\chb-mit-scalp-eeg-database-1.0.0\\chb07\\chb07_19.edf.seizures\n",
      "data\\raw_data\\chb-mit-scalp-eeg-database-1.0.0\\chb08\\chb08-summary.txt\n",
      "data\\raw_data\\chb-mit-scalp-eeg-database-1.0.0\\chb08\\chb08_02.edf\n",
      "data\\raw_data\\chb-mit-scalp-eeg-database-1.0.0\\chb08\\chb08_02.edf.seizures\n",
      "data\\raw_data\\chb-mit-scalp-eeg-database-1.0.0\\chb08\\chb08_03.edf\n",
      "data\\raw_data\\chb-mit-scalp-eeg-database-1.0.0\\chb08\\chb08_04.edf\n",
      "data\\raw_data\\chb-mit-scalp-eeg-database-1.0.0\\chb08\\chb08_05.edf\n",
      "data\\raw_data\\chb-mit-scalp-eeg-database-1.0.0\\chb08\\chb08_05.edf.seizures\n",
      "data\\raw_data\\chb-mit-scalp-eeg-database-1.0.0\\chb08\\chb08_10.edf\n",
      "data\\raw_data\\chb-mit-scalp-eeg-database-1.0.0\\chb08\\chb08_11.edf\n",
      "data\\raw_data\\chb-mit-scalp-eeg-database-1.0.0\\chb08\\chb08_11.edf.seizures\n",
      "data\\raw_data\\chb-mit-scalp-eeg-database-1.0.0\\chb08\\chb08_12.edf\n",
      "data\\raw_data\\chb-mit-scalp-eeg-database-1.0.0\\chb08\\chb08_13.edf\n",
      "data\\raw_data\\chb-mit-scalp-eeg-database-1.0.0\\chb08\\chb08_13.edf.seizures\n",
      "data\\raw_data\\chb-mit-scalp-eeg-database-1.0.0\\chb08\\chb08_14.edf\n",
      "data\\raw_data\\chb-mit-scalp-eeg-database-1.0.0\\chb08\\chb08_15.edf\n",
      "data\\raw_data\\chb-mit-scalp-eeg-database-1.0.0\\chb08\\chb08_16.edf\n",
      "data\\raw_data\\chb-mit-scalp-eeg-database-1.0.0\\chb08\\chb08_17.edf\n",
      "data\\raw_data\\chb-mit-scalp-eeg-database-1.0.0\\chb08\\chb08_18.edf\n",
      "data\\raw_data\\chb-mit-scalp-eeg-database-1.0.0\\chb08\\chb08_19.edf\n",
      "data\\raw_data\\chb-mit-scalp-eeg-database-1.0.0\\chb08\\chb08_20.edf\n",
      "data\\raw_data\\chb-mit-scalp-eeg-database-1.0.0\\chb08\\chb08_21.edf\n",
      "data\\raw_data\\chb-mit-scalp-eeg-database-1.0.0\\chb08\\chb08_21.edf.seizures\n",
      "data\\raw_data\\chb-mit-scalp-eeg-database-1.0.0\\chb08\\chb08_22.edf\n",
      "data\\raw_data\\chb-mit-scalp-eeg-database-1.0.0\\chb08\\chb08_23.edf\n",
      "data\\raw_data\\chb-mit-scalp-eeg-database-1.0.0\\chb08\\chb08_24.edf\n",
      "data\\raw_data\\chb-mit-scalp-eeg-database-1.0.0\\chb08\\chb08_29.edf\n",
      "data\\raw_data\\chb-mit-scalp-eeg-database-1.0.0\\chb09\\chb09-summary.txt\n",
      "data\\raw_data\\chb-mit-scalp-eeg-database-1.0.0\\chb09\\chb09_01.edf\n",
      "data\\raw_data\\chb-mit-scalp-eeg-database-1.0.0\\chb09\\chb09_02.edf\n",
      "data\\raw_data\\chb-mit-scalp-eeg-database-1.0.0\\chb09\\chb09_03.edf\n",
      "data\\raw_data\\chb-mit-scalp-eeg-database-1.0.0\\chb09\\chb09_04.edf\n",
      "data\\raw_data\\chb-mit-scalp-eeg-database-1.0.0\\chb09\\chb09_05.edf\n",
      "data\\raw_data\\chb-mit-scalp-eeg-database-1.0.0\\chb09\\chb09_06.edf\n",
      "data\\raw_data\\chb-mit-scalp-eeg-database-1.0.0\\chb09\\chb09_06.edf.seizures\n",
      "data\\raw_data\\chb-mit-scalp-eeg-database-1.0.0\\chb09\\chb09_07.edf\n",
      "data\\raw_data\\chb-mit-scalp-eeg-database-1.0.0\\chb09\\chb09_08.edf\n",
      "data\\raw_data\\chb-mit-scalp-eeg-database-1.0.0\\chb09\\chb09_08.edf.seizures\n",
      "data\\raw_data\\chb-mit-scalp-eeg-database-1.0.0\\chb09\\chb09_09.edf\n",
      "data\\raw_data\\chb-mit-scalp-eeg-database-1.0.0\\chb09\\chb09_10.edf\n",
      "data\\raw_data\\chb-mit-scalp-eeg-database-1.0.0\\chb09\\chb09_11.edf\n",
      "data\\raw_data\\chb-mit-scalp-eeg-database-1.0.0\\chb09\\chb09_12.edf\n",
      "data\\raw_data\\chb-mit-scalp-eeg-database-1.0.0\\chb09\\chb09_13.edf\n",
      "data\\raw_data\\chb-mit-scalp-eeg-database-1.0.0\\chb09\\chb09_14.edf\n",
      "data\\raw_data\\chb-mit-scalp-eeg-database-1.0.0\\chb09\\chb09_15.edf\n",
      "data\\raw_data\\chb-mit-scalp-eeg-database-1.0.0\\chb09\\chb09_16.edf\n",
      "data\\raw_data\\chb-mit-scalp-eeg-database-1.0.0\\chb09\\chb09_17.edf\n",
      "data\\raw_data\\chb-mit-scalp-eeg-database-1.0.0\\chb09\\chb09_18.edf\n",
      "data\\raw_data\\chb-mit-scalp-eeg-database-1.0.0\\chb09\\chb09_19.edf\n",
      "data\\raw_data\\chb-mit-scalp-eeg-database-1.0.0\\chb09\\chb09_19.edf.seizures\n",
      "data\\raw_data\\chb-mit-scalp-eeg-database-1.0.0\\chb10\\chb10-summary.txt\n",
      "data\\raw_data\\chb-mit-scalp-eeg-database-1.0.0\\chb10\\chb10_01.edf\n",
      "data\\raw_data\\chb-mit-scalp-eeg-database-1.0.0\\chb10\\chb10_02.edf\n",
      "data\\raw_data\\chb-mit-scalp-eeg-database-1.0.0\\chb10\\chb10_03.edf\n",
      "data\\raw_data\\chb-mit-scalp-eeg-database-1.0.0\\chb10\\chb10_04.edf\n",
      "data\\raw_data\\chb-mit-scalp-eeg-database-1.0.0\\chb10\\chb10_05.edf\n",
      "data\\raw_data\\chb-mit-scalp-eeg-database-1.0.0\\chb10\\chb10_06.edf\n",
      "data\\raw_data\\chb-mit-scalp-eeg-database-1.0.0\\chb10\\chb10_07.edf\n",
      "data\\raw_data\\chb-mit-scalp-eeg-database-1.0.0\\chb10\\chb10_08.edf\n",
      "data\\raw_data\\chb-mit-scalp-eeg-database-1.0.0\\chb10\\chb10_12.edf\n",
      "data\\raw_data\\chb-mit-scalp-eeg-database-1.0.0\\chb10\\chb10_12.edf.seizures\n",
      "data\\raw_data\\chb-mit-scalp-eeg-database-1.0.0\\chb10\\chb10_13.edf\n",
      "data\\raw_data\\chb-mit-scalp-eeg-database-1.0.0\\chb10\\chb10_14.edf\n",
      "data\\raw_data\\chb-mit-scalp-eeg-database-1.0.0\\chb10\\chb10_15.edf\n",
      "data\\raw_data\\chb-mit-scalp-eeg-database-1.0.0\\chb10\\chb10_16.edf\n",
      "data\\raw_data\\chb-mit-scalp-eeg-database-1.0.0\\chb10\\chb10_17.edf\n",
      "data\\raw_data\\chb-mit-scalp-eeg-database-1.0.0\\chb10\\chb10_18.edf\n",
      "data\\raw_data\\chb-mit-scalp-eeg-database-1.0.0\\chb10\\chb10_19.edf\n",
      "data\\raw_data\\chb-mit-scalp-eeg-database-1.0.0\\chb10\\chb10_20.edf\n",
      "data\\raw_data\\chb-mit-scalp-eeg-database-1.0.0\\chb10\\chb10_20.edf.seizures\n",
      "data\\raw_data\\chb-mit-scalp-eeg-database-1.0.0\\chb10\\chb10_21.edf\n",
      "data\\raw_data\\chb-mit-scalp-eeg-database-1.0.0\\chb10\\chb10_22.edf\n",
      "data\\raw_data\\chb-mit-scalp-eeg-database-1.0.0\\chb10\\chb10_27.edf\n",
      "data\\raw_data\\chb-mit-scalp-eeg-database-1.0.0\\chb10\\chb10_27.edf.seizures\n",
      "data\\raw_data\\chb-mit-scalp-eeg-database-1.0.0\\chb10\\chb10_28.edf\n",
      "data\\raw_data\\chb-mit-scalp-eeg-database-1.0.0\\chb10\\chb10_30.edf\n",
      "data\\raw_data\\chb-mit-scalp-eeg-database-1.0.0\\chb10\\chb10_30.edf.seizures\n",
      "data\\raw_data\\chb-mit-scalp-eeg-database-1.0.0\\chb10\\chb10_31.edf\n",
      "data\\raw_data\\chb-mit-scalp-eeg-database-1.0.0\\chb10\\chb10_31.edf.seizures\n",
      "data\\raw_data\\chb-mit-scalp-eeg-database-1.0.0\\chb10\\chb10_38.edf\n",
      "data\\raw_data\\chb-mit-scalp-eeg-database-1.0.0\\chb10\\chb10_38.edf.seizures\n",
      "data\\raw_data\\chb-mit-scalp-eeg-database-1.0.0\\chb10\\chb10_89.edf\n",
      "data\\raw_data\\chb-mit-scalp-eeg-database-1.0.0\\chb10\\chb10_89.edf.seizures\n",
      "data\\raw_data\\chb-mit-scalp-eeg-database-1.0.0\\chb11\\chb11-summary.txt\n",
      "data\\raw_data\\chb-mit-scalp-eeg-database-1.0.0\\chb11\\chb11_01.edf\n",
      "data\\raw_data\\chb-mit-scalp-eeg-database-1.0.0\\chb11\\chb11_02.edf\n",
      "data\\raw_data\\chb-mit-scalp-eeg-database-1.0.0\\chb11\\chb11_03.edf\n",
      "data\\raw_data\\chb-mit-scalp-eeg-database-1.0.0\\chb11\\chb11_04.edf\n",
      "data\\raw_data\\chb-mit-scalp-eeg-database-1.0.0\\chb11\\chb11_05.edf\n",
      "data\\raw_data\\chb-mit-scalp-eeg-database-1.0.0\\chb11\\chb11_06.edf\n",
      "data\\raw_data\\chb-mit-scalp-eeg-database-1.0.0\\chb11\\chb11_07.edf\n",
      "data\\raw_data\\chb-mit-scalp-eeg-database-1.0.0\\chb11\\chb11_08.edf\n",
      "data\\raw_data\\chb-mit-scalp-eeg-database-1.0.0\\chb11\\chb11_09.edf\n",
      "data\\raw_data\\chb-mit-scalp-eeg-database-1.0.0\\chb11\\chb11_10.edf\n",
      "data\\raw_data\\chb-mit-scalp-eeg-database-1.0.0\\chb11\\chb11_11.edf\n",
      "data\\raw_data\\chb-mit-scalp-eeg-database-1.0.0\\chb11\\chb11_12.edf\n",
      "data\\raw_data\\chb-mit-scalp-eeg-database-1.0.0\\chb11\\chb11_13.edf\n",
      "data\\raw_data\\chb-mit-scalp-eeg-database-1.0.0\\chb11\\chb11_14.edf\n",
      "data\\raw_data\\chb-mit-scalp-eeg-database-1.0.0\\chb11\\chb11_15.edf\n",
      "data\\raw_data\\chb-mit-scalp-eeg-database-1.0.0\\chb11\\chb11_16.edf\n",
      "data\\raw_data\\chb-mit-scalp-eeg-database-1.0.0\\chb11\\chb11_17.edf\n",
      "data\\raw_data\\chb-mit-scalp-eeg-database-1.0.0\\chb11\\chb11_18.edf\n",
      "data\\raw_data\\chb-mit-scalp-eeg-database-1.0.0\\chb11\\chb11_19.edf\n",
      "data\\raw_data\\chb-mit-scalp-eeg-database-1.0.0\\chb11\\chb11_24.edf\n",
      "data\\raw_data\\chb-mit-scalp-eeg-database-1.0.0\\chb11\\chb11_25.edf\n",
      "data\\raw_data\\chb-mit-scalp-eeg-database-1.0.0\\chb11\\chb11_26.edf\n",
      "data\\raw_data\\chb-mit-scalp-eeg-database-1.0.0\\chb11\\chb11_27.edf\n",
      "data\\raw_data\\chb-mit-scalp-eeg-database-1.0.0\\chb11\\chb11_53.edf\n",
      "data\\raw_data\\chb-mit-scalp-eeg-database-1.0.0\\chb11\\chb11_54.edf\n",
      "data\\raw_data\\chb-mit-scalp-eeg-database-1.0.0\\chb11\\chb11_55.edf\n",
      "data\\raw_data\\chb-mit-scalp-eeg-database-1.0.0\\chb11\\chb11_56.edf\n",
      "data\\raw_data\\chb-mit-scalp-eeg-database-1.0.0\\chb11\\chb11_58.edf\n",
      "data\\raw_data\\chb-mit-scalp-eeg-database-1.0.0\\chb11\\chb11_60.edf\n",
      "data\\raw_data\\chb-mit-scalp-eeg-database-1.0.0\\chb11\\chb11_61.edf\n",
      "data\\raw_data\\chb-mit-scalp-eeg-database-1.0.0\\chb11\\chb11_62.edf\n",
      "data\\raw_data\\chb-mit-scalp-eeg-database-1.0.0\\chb11\\chb11_63.edf\n",
      "data\\raw_data\\chb-mit-scalp-eeg-database-1.0.0\\chb11\\chb11_82.edf\n",
      "data\\raw_data\\chb-mit-scalp-eeg-database-1.0.0\\chb11\\chb11_82.edf.seizures\n",
      "data\\raw_data\\chb-mit-scalp-eeg-database-1.0.0\\chb11\\chb11_92.edf\n",
      "data\\raw_data\\chb-mit-scalp-eeg-database-1.0.0\\chb11\\chb11_92.edf.seizures\n",
      "data\\raw_data\\chb-mit-scalp-eeg-database-1.0.0\\chb11\\chb11_99.edf\n",
      "data\\raw_data\\chb-mit-scalp-eeg-database-1.0.0\\chb11\\chb11_99.edf.seizures\n",
      "data\\raw_data\\chb-mit-scalp-eeg-database-1.0.0\\chb12\\chb12-summary.txt\n",
      "data\\raw_data\\chb-mit-scalp-eeg-database-1.0.0\\chb12\\chb12_06.edf\n",
      "data\\raw_data\\chb-mit-scalp-eeg-database-1.0.0\\chb12\\chb12_06.edf.seizures\n",
      "data\\raw_data\\chb-mit-scalp-eeg-database-1.0.0\\chb12\\chb12_08.edf\n",
      "data\\raw_data\\chb-mit-scalp-eeg-database-1.0.0\\chb12\\chb12_08.edf.seizures\n",
      "data\\raw_data\\chb-mit-scalp-eeg-database-1.0.0\\chb12\\chb12_09.edf\n",
      "data\\raw_data\\chb-mit-scalp-eeg-database-1.0.0\\chb12\\chb12_09.edf.seizures\n",
      "data\\raw_data\\chb-mit-scalp-eeg-database-1.0.0\\chb12\\chb12_10.edf\n",
      "data\\raw_data\\chb-mit-scalp-eeg-database-1.0.0\\chb12\\chb12_10.edf.seizures\n",
      "data\\raw_data\\chb-mit-scalp-eeg-database-1.0.0\\chb12\\chb12_11.edf\n",
      "data\\raw_data\\chb-mit-scalp-eeg-database-1.0.0\\chb12\\chb12_11.edf.seizures\n",
      "data\\raw_data\\chb-mit-scalp-eeg-database-1.0.0\\chb12\\chb12_19.edf\n",
      "data\\raw_data\\chb-mit-scalp-eeg-database-1.0.0\\chb12\\chb12_20.edf\n",
      "data\\raw_data\\chb-mit-scalp-eeg-database-1.0.0\\chb12\\chb12_21.edf\n",
      "data\\raw_data\\chb-mit-scalp-eeg-database-1.0.0\\chb12\\chb12_23.edf\n",
      "data\\raw_data\\chb-mit-scalp-eeg-database-1.0.0\\chb12\\chb12_23.edf.seizures\n",
      "data\\raw_data\\chb-mit-scalp-eeg-database-1.0.0\\chb12\\chb12_24.edf\n",
      "data\\raw_data\\chb-mit-scalp-eeg-database-1.0.0\\chb12\\chb12_27.edf\n",
      "data\\raw_data\\chb-mit-scalp-eeg-database-1.0.0\\chb12\\chb12_27.edf.seizures\n",
      "data\\raw_data\\chb-mit-scalp-eeg-database-1.0.0\\chb12\\chb12_28.edf\n",
      "data\\raw_data\\chb-mit-scalp-eeg-database-1.0.0\\chb12\\chb12_28.edf.seizures\n",
      "data\\raw_data\\chb-mit-scalp-eeg-database-1.0.0\\chb12\\chb12_29.edf\n",
      "data\\raw_data\\chb-mit-scalp-eeg-database-1.0.0\\chb12\\chb12_29.edf.seizures\n",
      "data\\raw_data\\chb-mit-scalp-eeg-database-1.0.0\\chb12\\chb12_32.edf\n",
      "data\\raw_data\\chb-mit-scalp-eeg-database-1.0.0\\chb12\\chb12_33.edf\n",
      "data\\raw_data\\chb-mit-scalp-eeg-database-1.0.0\\chb12\\chb12_33.edf.seizures\n",
      "data\\raw_data\\chb-mit-scalp-eeg-database-1.0.0\\chb12\\chb12_34.edf\n",
      "data\\raw_data\\chb-mit-scalp-eeg-database-1.0.0\\chb12\\chb12_35.edf\n",
      "data\\raw_data\\chb-mit-scalp-eeg-database-1.0.0\\chb12\\chb12_36.edf\n",
      "data\\raw_data\\chb-mit-scalp-eeg-database-1.0.0\\chb12\\chb12_36.edf.seizures\n",
      "data\\raw_data\\chb-mit-scalp-eeg-database-1.0.0\\chb12\\chb12_37.edf\n",
      "data\\raw_data\\chb-mit-scalp-eeg-database-1.0.0\\chb12\\chb12_38.edf\n",
      "data\\raw_data\\chb-mit-scalp-eeg-database-1.0.0\\chb12\\chb12_38.edf.seizures\n",
      "data\\raw_data\\chb-mit-scalp-eeg-database-1.0.0\\chb12\\chb12_39.edf\n",
      "data\\raw_data\\chb-mit-scalp-eeg-database-1.0.0\\chb12\\chb12_40.edf\n",
      "data\\raw_data\\chb-mit-scalp-eeg-database-1.0.0\\chb12\\chb12_41.edf\n",
      "data\\raw_data\\chb-mit-scalp-eeg-database-1.0.0\\chb12\\chb12_42.edf\n",
      "data\\raw_data\\chb-mit-scalp-eeg-database-1.0.0\\chb12\\chb12_42.edf.seizures\n",
      "data\\raw_data\\chb-mit-scalp-eeg-database-1.0.0\\chb13\\chb13-summary.txt\n",
      "data\\raw_data\\chb-mit-scalp-eeg-database-1.0.0\\chb13\\chb13_02.edf\n",
      "data\\raw_data\\chb-mit-scalp-eeg-database-1.0.0\\chb13\\chb13_03.edf\n",
      "data\\raw_data\\chb-mit-scalp-eeg-database-1.0.0\\chb13\\chb13_04.edf\n",
      "data\\raw_data\\chb-mit-scalp-eeg-database-1.0.0\\chb13\\chb13_05.edf\n",
      "data\\raw_data\\chb-mit-scalp-eeg-database-1.0.0\\chb13\\chb13_06.edf\n",
      "data\\raw_data\\chb-mit-scalp-eeg-database-1.0.0\\chb13\\chb13_07.edf\n",
      "data\\raw_data\\chb-mit-scalp-eeg-database-1.0.0\\chb13\\chb13_08.edf\n",
      "data\\raw_data\\chb-mit-scalp-eeg-database-1.0.0\\chb13\\chb13_09.edf\n",
      "data\\raw_data\\chb-mit-scalp-eeg-database-1.0.0\\chb13\\chb13_10.edf\n",
      "data\\raw_data\\chb-mit-scalp-eeg-database-1.0.0\\chb13\\chb13_11.edf\n",
      "data\\raw_data\\chb-mit-scalp-eeg-database-1.0.0\\chb13\\chb13_12.edf\n",
      "data\\raw_data\\chb-mit-scalp-eeg-database-1.0.0\\chb13\\chb13_13.edf\n",
      "data\\raw_data\\chb-mit-scalp-eeg-database-1.0.0\\chb13\\chb13_14.edf\n",
      "data\\raw_data\\chb-mit-scalp-eeg-database-1.0.0\\chb13\\chb13_15.edf\n",
      "data\\raw_data\\chb-mit-scalp-eeg-database-1.0.0\\chb13\\chb13_16.edf\n",
      "data\\raw_data\\chb-mit-scalp-eeg-database-1.0.0\\chb13\\chb13_18.edf\n",
      "data\\raw_data\\chb-mit-scalp-eeg-database-1.0.0\\chb13\\chb13_19.edf\n",
      "data\\raw_data\\chb-mit-scalp-eeg-database-1.0.0\\chb13\\chb13_19.edf.seizures\n",
      "data\\raw_data\\chb-mit-scalp-eeg-database-1.0.0\\chb13\\chb13_21.edf\n",
      "data\\raw_data\\chb-mit-scalp-eeg-database-1.0.0\\chb13\\chb13_21.edf.seizures\n",
      "data\\raw_data\\chb-mit-scalp-eeg-database-1.0.0\\chb13\\chb13_22.edf\n",
      "data\\raw_data\\chb-mit-scalp-eeg-database-1.0.0\\chb13\\chb13_24.edf\n",
      "data\\raw_data\\chb-mit-scalp-eeg-database-1.0.0\\chb13\\chb13_30.edf\n",
      "data\\raw_data\\chb-mit-scalp-eeg-database-1.0.0\\chb13\\chb13_36.edf\n",
      "data\\raw_data\\chb-mit-scalp-eeg-database-1.0.0\\chb13\\chb13_37.edf\n",
      "data\\raw_data\\chb-mit-scalp-eeg-database-1.0.0\\chb13\\chb13_38.edf\n",
      "data\\raw_data\\chb-mit-scalp-eeg-database-1.0.0\\chb13\\chb13_39.edf\n",
      "data\\raw_data\\chb-mit-scalp-eeg-database-1.0.0\\chb13\\chb13_40.edf\n",
      "data\\raw_data\\chb-mit-scalp-eeg-database-1.0.0\\chb13\\chb13_40.edf.seizures\n",
      "data\\raw_data\\chb-mit-scalp-eeg-database-1.0.0\\chb13\\chb13_47.edf\n",
      "data\\raw_data\\chb-mit-scalp-eeg-database-1.0.0\\chb13\\chb13_55.edf\n",
      "data\\raw_data\\chb-mit-scalp-eeg-database-1.0.0\\chb13\\chb13_55.edf.seizures\n",
      "data\\raw_data\\chb-mit-scalp-eeg-database-1.0.0\\chb13\\chb13_56.edf\n",
      "data\\raw_data\\chb-mit-scalp-eeg-database-1.0.0\\chb13\\chb13_58.edf\n",
      "data\\raw_data\\chb-mit-scalp-eeg-database-1.0.0\\chb13\\chb13_58.edf.seizures\n",
      "data\\raw_data\\chb-mit-scalp-eeg-database-1.0.0\\chb13\\chb13_59.edf\n",
      "data\\raw_data\\chb-mit-scalp-eeg-database-1.0.0\\chb13\\chb13_59.edf.seizures\n",
      "data\\raw_data\\chb-mit-scalp-eeg-database-1.0.0\\chb13\\chb13_60.edf\n",
      "data\\raw_data\\chb-mit-scalp-eeg-database-1.0.0\\chb13\\chb13_60.edf.seizures\n",
      "data\\raw_data\\chb-mit-scalp-eeg-database-1.0.0\\chb13\\chb13_62.edf\n",
      "data\\raw_data\\chb-mit-scalp-eeg-database-1.0.0\\chb13\\chb13_62.edf.seizures\n",
      "data\\raw_data\\chb-mit-scalp-eeg-database-1.0.0\\chb14\\chb14-summary.txt\n",
      "data\\raw_data\\chb-mit-scalp-eeg-database-1.0.0\\chb14\\chb14_01.edf\n",
      "data\\raw_data\\chb-mit-scalp-eeg-database-1.0.0\\chb14\\chb14_02.edf\n",
      "data\\raw_data\\chb-mit-scalp-eeg-database-1.0.0\\chb14\\chb14_03.edf\n",
      "data\\raw_data\\chb-mit-scalp-eeg-database-1.0.0\\chb14\\chb14_03.edf.seizures\n",
      "data\\raw_data\\chb-mit-scalp-eeg-database-1.0.0\\chb14\\chb14_04.edf\n",
      "data\\raw_data\\chb-mit-scalp-eeg-database-1.0.0\\chb14\\chb14_04.edf.seizures\n",
      "data\\raw_data\\chb-mit-scalp-eeg-database-1.0.0\\chb14\\chb14_06.edf\n",
      "data\\raw_data\\chb-mit-scalp-eeg-database-1.0.0\\chb14\\chb14_06.edf.seizures\n",
      "data\\raw_data\\chb-mit-scalp-eeg-database-1.0.0\\chb14\\chb14_07.edf\n",
      "data\\raw_data\\chb-mit-scalp-eeg-database-1.0.0\\chb14\\chb14_11.edf\n",
      "data\\raw_data\\chb-mit-scalp-eeg-database-1.0.0\\chb14\\chb14_11.edf.seizures\n",
      "data\\raw_data\\chb-mit-scalp-eeg-database-1.0.0\\chb14\\chb14_12.edf\n",
      "data\\raw_data\\chb-mit-scalp-eeg-database-1.0.0\\chb14\\chb14_13.edf\n",
      "data\\raw_data\\chb-mit-scalp-eeg-database-1.0.0\\chb14\\chb14_14.edf\n",
      "data\\raw_data\\chb-mit-scalp-eeg-database-1.0.0\\chb14\\chb14_16.edf\n",
      "data\\raw_data\\chb-mit-scalp-eeg-database-1.0.0\\chb14\\chb14_17.edf\n",
      "data\\raw_data\\chb-mit-scalp-eeg-database-1.0.0\\chb14\\chb14_17.edf.seizures\n",
      "data\\raw_data\\chb-mit-scalp-eeg-database-1.0.0\\chb14\\chb14_18.edf\n",
      "data\\raw_data\\chb-mit-scalp-eeg-database-1.0.0\\chb14\\chb14_18.edf.seizures\n",
      "data\\raw_data\\chb-mit-scalp-eeg-database-1.0.0\\chb14\\chb14_19.edf\n",
      "data\\raw_data\\chb-mit-scalp-eeg-database-1.0.0\\chb14\\chb14_20.edf\n",
      "data\\raw_data\\chb-mit-scalp-eeg-database-1.0.0\\chb14\\chb14_22.edf\n",
      "data\\raw_data\\chb-mit-scalp-eeg-database-1.0.0\\chb14\\chb14_24.edf\n",
      "data\\raw_data\\chb-mit-scalp-eeg-database-1.0.0\\chb14\\chb14_25.edf\n",
      "data\\raw_data\\chb-mit-scalp-eeg-database-1.0.0\\chb14\\chb14_26.edf\n",
      "data\\raw_data\\chb-mit-scalp-eeg-database-1.0.0\\chb14\\chb14_27.edf\n",
      "data\\raw_data\\chb-mit-scalp-eeg-database-1.0.0\\chb14\\chb14_27.edf.seizures\n",
      "data\\raw_data\\chb-mit-scalp-eeg-database-1.0.0\\chb14\\chb14_29.edf\n",
      "data\\raw_data\\chb-mit-scalp-eeg-database-1.0.0\\chb14\\chb14_30.edf\n",
      "data\\raw_data\\chb-mit-scalp-eeg-database-1.0.0\\chb14\\chb14_32.edf\n",
      "data\\raw_data\\chb-mit-scalp-eeg-database-1.0.0\\chb14\\chb14_37.edf\n",
      "data\\raw_data\\chb-mit-scalp-eeg-database-1.0.0\\chb14\\chb14_39.edf\n",
      "data\\raw_data\\chb-mit-scalp-eeg-database-1.0.0\\chb14\\chb14_42.edf\n",
      "data\\raw_data\\chb-mit-scalp-eeg-database-1.0.0\\chb15\\chb15-summary.txt\n",
      "data\\raw_data\\chb-mit-scalp-eeg-database-1.0.0\\chb15\\chb15_01.edf\n",
      "data\\raw_data\\chb-mit-scalp-eeg-database-1.0.0\\chb15\\chb15_02.edf\n",
      "data\\raw_data\\chb-mit-scalp-eeg-database-1.0.0\\chb15\\chb15_03.edf\n",
      "data\\raw_data\\chb-mit-scalp-eeg-database-1.0.0\\chb15\\chb15_04.edf\n",
      "data\\raw_data\\chb-mit-scalp-eeg-database-1.0.0\\chb15\\chb15_05.edf\n",
      "data\\raw_data\\chb-mit-scalp-eeg-database-1.0.0\\chb15\\chb15_06.edf\n",
      "data\\raw_data\\chb-mit-scalp-eeg-database-1.0.0\\chb15\\chb15_06.edf.seizures\n",
      "data\\raw_data\\chb-mit-scalp-eeg-database-1.0.0\\chb15\\chb15_07.edf\n",
      "data\\raw_data\\chb-mit-scalp-eeg-database-1.0.0\\chb15\\chb15_08.edf\n",
      "data\\raw_data\\chb-mit-scalp-eeg-database-1.0.0\\chb15\\chb15_09.edf\n",
      "data\\raw_data\\chb-mit-scalp-eeg-database-1.0.0\\chb15\\chb15_10.edf\n",
      "data\\raw_data\\chb-mit-scalp-eeg-database-1.0.0\\chb15\\chb15_10.edf.seizures\n",
      "data\\raw_data\\chb-mit-scalp-eeg-database-1.0.0\\chb15\\chb15_11.edf\n",
      "data\\raw_data\\chb-mit-scalp-eeg-database-1.0.0\\chb15\\chb15_12.edf\n",
      "data\\raw_data\\chb-mit-scalp-eeg-database-1.0.0\\chb15\\chb15_13.edf\n",
      "data\\raw_data\\chb-mit-scalp-eeg-database-1.0.0\\chb15\\chb15_14.edf\n",
      "data\\raw_data\\chb-mit-scalp-eeg-database-1.0.0\\chb15\\chb15_15.edf\n",
      "data\\raw_data\\chb-mit-scalp-eeg-database-1.0.0\\chb15\\chb15_15.edf.seizures\n",
      "data\\raw_data\\chb-mit-scalp-eeg-database-1.0.0\\chb15\\chb15_16.edf\n",
      "data\\raw_data\\chb-mit-scalp-eeg-database-1.0.0\\chb15\\chb15_17.edf\n",
      "data\\raw_data\\chb-mit-scalp-eeg-database-1.0.0\\chb15\\chb15_17.edf.seizures\n",
      "data\\raw_data\\chb-mit-scalp-eeg-database-1.0.0\\chb15\\chb15_19.edf\n",
      "data\\raw_data\\chb-mit-scalp-eeg-database-1.0.0\\chb15\\chb15_20.edf\n",
      "data\\raw_data\\chb-mit-scalp-eeg-database-1.0.0\\chb15\\chb15_20.edf.seizures\n",
      "data\\raw_data\\chb-mit-scalp-eeg-database-1.0.0\\chb15\\chb15_22.edf\n",
      "data\\raw_data\\chb-mit-scalp-eeg-database-1.0.0\\chb15\\chb15_22.edf.seizures\n",
      "data\\raw_data\\chb-mit-scalp-eeg-database-1.0.0\\chb15\\chb15_26.edf\n",
      "data\\raw_data\\chb-mit-scalp-eeg-database-1.0.0\\chb15\\chb15_28.edf\n",
      "data\\raw_data\\chb-mit-scalp-eeg-database-1.0.0\\chb15\\chb15_28.edf.seizures\n",
      "data\\raw_data\\chb-mit-scalp-eeg-database-1.0.0\\chb15\\chb15_29.edf\n",
      "data\\raw_data\\chb-mit-scalp-eeg-database-1.0.0\\chb15\\chb15_30.edf\n",
      "data\\raw_data\\chb-mit-scalp-eeg-database-1.0.0\\chb15\\chb15_31.edf\n",
      "data\\raw_data\\chb-mit-scalp-eeg-database-1.0.0\\chb15\\chb15_31.edf.seizures\n",
      "data\\raw_data\\chb-mit-scalp-eeg-database-1.0.0\\chb15\\chb15_32.edf\n",
      "data\\raw_data\\chb-mit-scalp-eeg-database-1.0.0\\chb15\\chb15_33.edf\n",
      "data\\raw_data\\chb-mit-scalp-eeg-database-1.0.0\\chb15\\chb15_35.edf\n",
      "data\\raw_data\\chb-mit-scalp-eeg-database-1.0.0\\chb15\\chb15_37.edf\n",
      "data\\raw_data\\chb-mit-scalp-eeg-database-1.0.0\\chb15\\chb15_40.edf\n",
      "data\\raw_data\\chb-mit-scalp-eeg-database-1.0.0\\chb15\\chb15_40.edf.seizures\n",
      "data\\raw_data\\chb-mit-scalp-eeg-database-1.0.0\\chb15\\chb15_45.edf\n",
      "data\\raw_data\\chb-mit-scalp-eeg-database-1.0.0\\chb15\\chb15_46.edf\n",
      "data\\raw_data\\chb-mit-scalp-eeg-database-1.0.0\\chb15\\chb15_46.edf.seizures\n",
      "data\\raw_data\\chb-mit-scalp-eeg-database-1.0.0\\chb15\\chb15_49.edf\n",
      "data\\raw_data\\chb-mit-scalp-eeg-database-1.0.0\\chb15\\chb15_49.edf.seizures\n",
      "data\\raw_data\\chb-mit-scalp-eeg-database-1.0.0\\chb15\\chb15_50.edf\n",
      "data\\raw_data\\chb-mit-scalp-eeg-database-1.0.0\\chb15\\chb15_51.edf\n",
      "data\\raw_data\\chb-mit-scalp-eeg-database-1.0.0\\chb15\\chb15_52.edf\n",
      "data\\raw_data\\chb-mit-scalp-eeg-database-1.0.0\\chb15\\chb15_52.edf.seizures\n",
      "data\\raw_data\\chb-mit-scalp-eeg-database-1.0.0\\chb15\\chb15_54.edf\n",
      "data\\raw_data\\chb-mit-scalp-eeg-database-1.0.0\\chb15\\chb15_54.edf.seizures\n",
      "data\\raw_data\\chb-mit-scalp-eeg-database-1.0.0\\chb15\\chb15_61.edf\n",
      "data\\raw_data\\chb-mit-scalp-eeg-database-1.0.0\\chb15\\chb15_62.edf\n",
      "data\\raw_data\\chb-mit-scalp-eeg-database-1.0.0\\chb15\\chb15_62.edf.seizures\n",
      "data\\raw_data\\chb-mit-scalp-eeg-database-1.0.0\\chb15\\chb15_63.edf\n",
      "data\\raw_data\\chb-mit-scalp-eeg-database-1.0.0\\chb16\\chb16-summary.txt\n",
      "data\\raw_data\\chb-mit-scalp-eeg-database-1.0.0\\chb16\\chb16_01.edf\n",
      "data\\raw_data\\chb-mit-scalp-eeg-database-1.0.0\\chb16\\chb16_02.edf\n",
      "data\\raw_data\\chb-mit-scalp-eeg-database-1.0.0\\chb16\\chb16_03.edf\n",
      "data\\raw_data\\chb-mit-scalp-eeg-database-1.0.0\\chb16\\chb16_04.edf\n",
      "data\\raw_data\\chb-mit-scalp-eeg-database-1.0.0\\chb16\\chb16_05.edf\n",
      "data\\raw_data\\chb-mit-scalp-eeg-database-1.0.0\\chb16\\chb16_06.edf\n",
      "data\\raw_data\\chb-mit-scalp-eeg-database-1.0.0\\chb16\\chb16_07.edf\n",
      "data\\raw_data\\chb-mit-scalp-eeg-database-1.0.0\\chb16\\chb16_08.edf\n",
      "data\\raw_data\\chb-mit-scalp-eeg-database-1.0.0\\chb16\\chb16_09.edf\n",
      "data\\raw_data\\chb-mit-scalp-eeg-database-1.0.0\\chb16\\chb16_10.edf\n",
      "data\\raw_data\\chb-mit-scalp-eeg-database-1.0.0\\chb16\\chb16_10.edf.seizures\n",
      "data\\raw_data\\chb-mit-scalp-eeg-database-1.0.0\\chb16\\chb16_11.edf\n",
      "data\\raw_data\\chb-mit-scalp-eeg-database-1.0.0\\chb16\\chb16_11.edf.seizures\n",
      "data\\raw_data\\chb-mit-scalp-eeg-database-1.0.0\\chb16\\chb16_12.edf\n",
      "data\\raw_data\\chb-mit-scalp-eeg-database-1.0.0\\chb16\\chb16_13.edf\n",
      "data\\raw_data\\chb-mit-scalp-eeg-database-1.0.0\\chb16\\chb16_14.edf\n",
      "data\\raw_data\\chb-mit-scalp-eeg-database-1.0.0\\chb16\\chb16_14.edf.seizures\n",
      "data\\raw_data\\chb-mit-scalp-eeg-database-1.0.0\\chb16\\chb16_15.edf\n",
      "data\\raw_data\\chb-mit-scalp-eeg-database-1.0.0\\chb16\\chb16_16.edf\n",
      "data\\raw_data\\chb-mit-scalp-eeg-database-1.0.0\\chb16\\chb16_16.edf.seizures\n",
      "data\\raw_data\\chb-mit-scalp-eeg-database-1.0.0\\chb16\\chb16_17.edf\n",
      "data\\raw_data\\chb-mit-scalp-eeg-database-1.0.0\\chb16\\chb16_17.edf.seizures\n",
      "data\\raw_data\\chb-mit-scalp-eeg-database-1.0.0\\chb16\\chb16_18.edf\n",
      "data\\raw_data\\chb-mit-scalp-eeg-database-1.0.0\\chb16\\chb16_18.edf.seizures\n",
      "data\\raw_data\\chb-mit-scalp-eeg-database-1.0.0\\chb16\\chb16_19.edf\n",
      "data\\raw_data\\chb-mit-scalp-eeg-database-1.0.0\\chb17\\chb17-summary.txt\n",
      "data\\raw_data\\chb-mit-scalp-eeg-database-1.0.0\\chb17\\chb17a_03.edf\n",
      "data\\raw_data\\chb-mit-scalp-eeg-database-1.0.0\\chb17\\chb17a_03.edf.seizures\n",
      "data\\raw_data\\chb-mit-scalp-eeg-database-1.0.0\\chb17\\chb17a_04.edf\n",
      "data\\raw_data\\chb-mit-scalp-eeg-database-1.0.0\\chb17\\chb17a_04.edf.seizures\n",
      "data\\raw_data\\chb-mit-scalp-eeg-database-1.0.0\\chb17\\chb17a_05.edf\n",
      "data\\raw_data\\chb-mit-scalp-eeg-database-1.0.0\\chb17\\chb17a_06.edf\n",
      "data\\raw_data\\chb-mit-scalp-eeg-database-1.0.0\\chb17\\chb17a_08.edf\n",
      "data\\raw_data\\chb-mit-scalp-eeg-database-1.0.0\\chb17\\chb17b_57.edf\n",
      "data\\raw_data\\chb-mit-scalp-eeg-database-1.0.0\\chb17\\chb17b_58.edf\n",
      "data\\raw_data\\chb-mit-scalp-eeg-database-1.0.0\\chb17\\chb17b_59.edf\n",
      "data\\raw_data\\chb-mit-scalp-eeg-database-1.0.0\\chb17\\chb17b_60.edf\n",
      "data\\raw_data\\chb-mit-scalp-eeg-database-1.0.0\\chb17\\chb17b_63.edf\n",
      "data\\raw_data\\chb-mit-scalp-eeg-database-1.0.0\\chb17\\chb17b_63.edf.seizures\n",
      "data\\raw_data\\chb-mit-scalp-eeg-database-1.0.0\\chb17\\chb17b_67.edf\n",
      "data\\raw_data\\chb-mit-scalp-eeg-database-1.0.0\\chb17\\chb17b_68.edf\n",
      "data\\raw_data\\chb-mit-scalp-eeg-database-1.0.0\\chb17\\chb17b_69.edf\n",
      "data\\raw_data\\chb-mit-scalp-eeg-database-1.0.0\\chb17\\chb17c_02.edf\n",
      "data\\raw_data\\chb-mit-scalp-eeg-database-1.0.0\\chb17\\chb17c_03.edf\n",
      "data\\raw_data\\chb-mit-scalp-eeg-database-1.0.0\\chb17\\chb17c_04.edf\n",
      "data\\raw_data\\chb-mit-scalp-eeg-database-1.0.0\\chb17\\chb17c_05.edf\n",
      "data\\raw_data\\chb-mit-scalp-eeg-database-1.0.0\\chb17\\chb17c_06.edf\n",
      "data\\raw_data\\chb-mit-scalp-eeg-database-1.0.0\\chb17\\chb17c_07.edf\n",
      "data\\raw_data\\chb-mit-scalp-eeg-database-1.0.0\\chb17\\chb17c_08.edf\n",
      "data\\raw_data\\chb-mit-scalp-eeg-database-1.0.0\\chb17\\chb17c_13.edf\n",
      "data\\raw_data\\chb-mit-scalp-eeg-database-1.0.0\\chb18\\chb18-summary.txt\n",
      "data\\raw_data\\chb-mit-scalp-eeg-database-1.0.0\\chb18\\chb18_01.edf\n",
      "data\\raw_data\\chb-mit-scalp-eeg-database-1.0.0\\chb18\\chb18_02.edf\n",
      "data\\raw_data\\chb-mit-scalp-eeg-database-1.0.0\\chb18\\chb18_03.edf\n",
      "data\\raw_data\\chb-mit-scalp-eeg-database-1.0.0\\chb18\\chb18_04.edf\n",
      "data\\raw_data\\chb-mit-scalp-eeg-database-1.0.0\\chb18\\chb18_05.edf\n",
      "data\\raw_data\\chb-mit-scalp-eeg-database-1.0.0\\chb18\\chb18_06.edf\n",
      "data\\raw_data\\chb-mit-scalp-eeg-database-1.0.0\\chb18\\chb18_07.edf\n",
      "data\\raw_data\\chb-mit-scalp-eeg-database-1.0.0\\chb18\\chb18_08.edf\n",
      "data\\raw_data\\chb-mit-scalp-eeg-database-1.0.0\\chb18\\chb18_09.edf\n",
      "data\\raw_data\\chb-mit-scalp-eeg-database-1.0.0\\chb18\\chb18_10.edf\n",
      "data\\raw_data\\chb-mit-scalp-eeg-database-1.0.0\\chb18\\chb18_11.edf\n",
      "data\\raw_data\\chb-mit-scalp-eeg-database-1.0.0\\chb18\\chb18_12.edf\n",
      "data\\raw_data\\chb-mit-scalp-eeg-database-1.0.0\\chb18\\chb18_13.edf\n",
      "data\\raw_data\\chb-mit-scalp-eeg-database-1.0.0\\chb18\\chb18_14.edf\n",
      "data\\raw_data\\chb-mit-scalp-eeg-database-1.0.0\\chb18\\chb18_15.edf\n",
      "data\\raw_data\\chb-mit-scalp-eeg-database-1.0.0\\chb18\\chb18_16.edf\n",
      "data\\raw_data\\chb-mit-scalp-eeg-database-1.0.0\\chb18\\chb18_17.edf\n",
      "data\\raw_data\\chb-mit-scalp-eeg-database-1.0.0\\chb18\\chb18_18.edf\n",
      "data\\raw_data\\chb-mit-scalp-eeg-database-1.0.0\\chb18\\chb18_19.edf\n",
      "data\\raw_data\\chb-mit-scalp-eeg-database-1.0.0\\chb18\\chb18_20.edf\n",
      "data\\raw_data\\chb-mit-scalp-eeg-database-1.0.0\\chb18\\chb18_21.edf\n",
      "data\\raw_data\\chb-mit-scalp-eeg-database-1.0.0\\chb18\\chb18_22.edf\n",
      "data\\raw_data\\chb-mit-scalp-eeg-database-1.0.0\\chb18\\chb18_23.edf\n",
      "data\\raw_data\\chb-mit-scalp-eeg-database-1.0.0\\chb18\\chb18_24.edf\n",
      "data\\raw_data\\chb-mit-scalp-eeg-database-1.0.0\\chb18\\chb18_25.edf\n",
      "data\\raw_data\\chb-mit-scalp-eeg-database-1.0.0\\chb18\\chb18_26.edf\n",
      "data\\raw_data\\chb-mit-scalp-eeg-database-1.0.0\\chb18\\chb18_27.edf\n",
      "data\\raw_data\\chb-mit-scalp-eeg-database-1.0.0\\chb18\\chb18_28.edf\n",
      "data\\raw_data\\chb-mit-scalp-eeg-database-1.0.0\\chb18\\chb18_29.edf\n",
      "data\\raw_data\\chb-mit-scalp-eeg-database-1.0.0\\chb18\\chb18_29.edf.seizures\n",
      "data\\raw_data\\chb-mit-scalp-eeg-database-1.0.0\\chb18\\chb18_30.edf\n",
      "data\\raw_data\\chb-mit-scalp-eeg-database-1.0.0\\chb18\\chb18_30.edf.seizures\n",
      "data\\raw_data\\chb-mit-scalp-eeg-database-1.0.0\\chb18\\chb18_31.edf\n",
      "data\\raw_data\\chb-mit-scalp-eeg-database-1.0.0\\chb18\\chb18_31.edf.seizures\n",
      "data\\raw_data\\chb-mit-scalp-eeg-database-1.0.0\\chb18\\chb18_32.edf\n",
      "data\\raw_data\\chb-mit-scalp-eeg-database-1.0.0\\chb18\\chb18_32.edf.seizures\n",
      "data\\raw_data\\chb-mit-scalp-eeg-database-1.0.0\\chb18\\chb18_33.edf\n",
      "data\\raw_data\\chb-mit-scalp-eeg-database-1.0.0\\chb18\\chb18_34.edf\n",
      "data\\raw_data\\chb-mit-scalp-eeg-database-1.0.0\\chb18\\chb18_35.edf\n",
      "data\\raw_data\\chb-mit-scalp-eeg-database-1.0.0\\chb18\\chb18_35.edf.seizures\n",
      "data\\raw_data\\chb-mit-scalp-eeg-database-1.0.0\\chb18\\chb18_36.edf\n",
      "data\\raw_data\\chb-mit-scalp-eeg-database-1.0.0\\chb18\\chb18_36.edf.seizures\n",
      "data\\raw_data\\chb-mit-scalp-eeg-database-1.0.0\\chb19\\chb19-summary.txt\n",
      "data\\raw_data\\chb-mit-scalp-eeg-database-1.0.0\\chb19\\chb19_01.edf\n",
      "data\\raw_data\\chb-mit-scalp-eeg-database-1.0.0\\chb19\\chb19_02.edf\n",
      "data\\raw_data\\chb-mit-scalp-eeg-database-1.0.0\\chb19\\chb19_03.edf\n",
      "data\\raw_data\\chb-mit-scalp-eeg-database-1.0.0\\chb19\\chb19_04.edf\n",
      "data\\raw_data\\chb-mit-scalp-eeg-database-1.0.0\\chb19\\chb19_05.edf\n",
      "data\\raw_data\\chb-mit-scalp-eeg-database-1.0.0\\chb19\\chb19_06.edf\n",
      "data\\raw_data\\chb-mit-scalp-eeg-database-1.0.0\\chb19\\chb19_07.edf\n",
      "data\\raw_data\\chb-mit-scalp-eeg-database-1.0.0\\chb19\\chb19_08.edf\n",
      "data\\raw_data\\chb-mit-scalp-eeg-database-1.0.0\\chb19\\chb19_09.edf\n",
      "data\\raw_data\\chb-mit-scalp-eeg-database-1.0.0\\chb19\\chb19_10.edf\n",
      "data\\raw_data\\chb-mit-scalp-eeg-database-1.0.0\\chb19\\chb19_11.edf\n",
      "data\\raw_data\\chb-mit-scalp-eeg-database-1.0.0\\chb19\\chb19_12.edf\n",
      "data\\raw_data\\chb-mit-scalp-eeg-database-1.0.0\\chb19\\chb19_13.edf\n",
      "data\\raw_data\\chb-mit-scalp-eeg-database-1.0.0\\chb19\\chb19_14.edf\n",
      "data\\raw_data\\chb-mit-scalp-eeg-database-1.0.0\\chb19\\chb19_15.edf\n",
      "data\\raw_data\\chb-mit-scalp-eeg-database-1.0.0\\chb19\\chb19_16.edf\n",
      "data\\raw_data\\chb-mit-scalp-eeg-database-1.0.0\\chb19\\chb19_17.edf\n",
      "data\\raw_data\\chb-mit-scalp-eeg-database-1.0.0\\chb19\\chb19_18.edf\n",
      "data\\raw_data\\chb-mit-scalp-eeg-database-1.0.0\\chb19\\chb19_19.edf\n",
      "data\\raw_data\\chb-mit-scalp-eeg-database-1.0.0\\chb19\\chb19_20.edf\n",
      "data\\raw_data\\chb-mit-scalp-eeg-database-1.0.0\\chb19\\chb19_21.edf\n",
      "data\\raw_data\\chb-mit-scalp-eeg-database-1.0.0\\chb19\\chb19_22.edf\n",
      "data\\raw_data\\chb-mit-scalp-eeg-database-1.0.0\\chb19\\chb19_23.edf\n",
      "data\\raw_data\\chb-mit-scalp-eeg-database-1.0.0\\chb19\\chb19_24.edf\n",
      "data\\raw_data\\chb-mit-scalp-eeg-database-1.0.0\\chb19\\chb19_25.edf\n",
      "data\\raw_data\\chb-mit-scalp-eeg-database-1.0.0\\chb19\\chb19_26.edf\n",
      "data\\raw_data\\chb-mit-scalp-eeg-database-1.0.0\\chb19\\chb19_27.edf\n",
      "data\\raw_data\\chb-mit-scalp-eeg-database-1.0.0\\chb19\\chb19_28.edf\n",
      "data\\raw_data\\chb-mit-scalp-eeg-database-1.0.0\\chb19\\chb19_28.edf.seizures\n",
      "data\\raw_data\\chb-mit-scalp-eeg-database-1.0.0\\chb19\\chb19_29.edf\n",
      "data\\raw_data\\chb-mit-scalp-eeg-database-1.0.0\\chb19\\chb19_29.edf.seizures\n",
      "data\\raw_data\\chb-mit-scalp-eeg-database-1.0.0\\chb19\\chb19_30.edf\n",
      "data\\raw_data\\chb-mit-scalp-eeg-database-1.0.0\\chb19\\chb19_30.edf.seizures\n",
      "data\\raw_data\\chb-mit-scalp-eeg-database-1.0.0\\chb20\\chb20-summary.txt\n",
      "data\\raw_data\\chb-mit-scalp-eeg-database-1.0.0\\chb20\\chb20_01.edf\n",
      "data\\raw_data\\chb-mit-scalp-eeg-database-1.0.0\\chb20\\chb20_02.edf\n",
      "data\\raw_data\\chb-mit-scalp-eeg-database-1.0.0\\chb20\\chb20_03.edf\n",
      "data\\raw_data\\chb-mit-scalp-eeg-database-1.0.0\\chb20\\chb20_04.edf\n",
      "data\\raw_data\\chb-mit-scalp-eeg-database-1.0.0\\chb20\\chb20_05.edf\n",
      "data\\raw_data\\chb-mit-scalp-eeg-database-1.0.0\\chb20\\chb20_06.edf\n",
      "data\\raw_data\\chb-mit-scalp-eeg-database-1.0.0\\chb20\\chb20_07.edf\n",
      "data\\raw_data\\chb-mit-scalp-eeg-database-1.0.0\\chb20\\chb20_08.edf\n",
      "data\\raw_data\\chb-mit-scalp-eeg-database-1.0.0\\chb20\\chb20_11.edf\n",
      "data\\raw_data\\chb-mit-scalp-eeg-database-1.0.0\\chb20\\chb20_12.edf\n",
      "data\\raw_data\\chb-mit-scalp-eeg-database-1.0.0\\chb20\\chb20_12.edf.seizures\n",
      "data\\raw_data\\chb-mit-scalp-eeg-database-1.0.0\\chb20\\chb20_13.edf\n",
      "data\\raw_data\\chb-mit-scalp-eeg-database-1.0.0\\chb20\\chb20_13.edf.seizures\n",
      "data\\raw_data\\chb-mit-scalp-eeg-database-1.0.0\\chb20\\chb20_14.edf\n",
      "data\\raw_data\\chb-mit-scalp-eeg-database-1.0.0\\chb20\\chb20_14.edf.seizures\n",
      "data\\raw_data\\chb-mit-scalp-eeg-database-1.0.0\\chb20\\chb20_15.edf\n",
      "data\\raw_data\\chb-mit-scalp-eeg-database-1.0.0\\chb20\\chb20_15.edf.seizures\n",
      "data\\raw_data\\chb-mit-scalp-eeg-database-1.0.0\\chb20\\chb20_16.edf\n",
      "data\\raw_data\\chb-mit-scalp-eeg-database-1.0.0\\chb20\\chb20_16.edf.seizures\n",
      "data\\raw_data\\chb-mit-scalp-eeg-database-1.0.0\\chb20\\chb20_17.edf\n",
      "data\\raw_data\\chb-mit-scalp-eeg-database-1.0.0\\chb20\\chb20_21.edf\n",
      "data\\raw_data\\chb-mit-scalp-eeg-database-1.0.0\\chb20\\chb20_22.edf\n",
      "data\\raw_data\\chb-mit-scalp-eeg-database-1.0.0\\chb20\\chb20_23.edf\n",
      "data\\raw_data\\chb-mit-scalp-eeg-database-1.0.0\\chb20\\chb20_25.edf\n",
      "data\\raw_data\\chb-mit-scalp-eeg-database-1.0.0\\chb20\\chb20_26.edf\n",
      "data\\raw_data\\chb-mit-scalp-eeg-database-1.0.0\\chb20\\chb20_27.edf\n",
      "data\\raw_data\\chb-mit-scalp-eeg-database-1.0.0\\chb20\\chb20_28.edf\n",
      "data\\raw_data\\chb-mit-scalp-eeg-database-1.0.0\\chb20\\chb20_29.edf\n",
      "data\\raw_data\\chb-mit-scalp-eeg-database-1.0.0\\chb20\\chb20_30.edf\n",
      "data\\raw_data\\chb-mit-scalp-eeg-database-1.0.0\\chb20\\chb20_31.edf\n",
      "data\\raw_data\\chb-mit-scalp-eeg-database-1.0.0\\chb20\\chb20_34.edf\n",
      "data\\raw_data\\chb-mit-scalp-eeg-database-1.0.0\\chb20\\chb20_59.edf\n",
      "data\\raw_data\\chb-mit-scalp-eeg-database-1.0.0\\chb20\\chb20_60.edf\n",
      "data\\raw_data\\chb-mit-scalp-eeg-database-1.0.0\\chb20\\chb20_68.edf\n",
      "data\\raw_data\\chb-mit-scalp-eeg-database-1.0.0\\chb20\\chb20_68.edf.seizures\n",
      "data\\raw_data\\chb-mit-scalp-eeg-database-1.0.0\\chb21\\chb21-summary.txt\n",
      "data\\raw_data\\chb-mit-scalp-eeg-database-1.0.0\\chb21\\chb21_01.edf\n",
      "data\\raw_data\\chb-mit-scalp-eeg-database-1.0.0\\chb21\\chb21_02.edf\n",
      "data\\raw_data\\chb-mit-scalp-eeg-database-1.0.0\\chb21\\chb21_03.edf\n",
      "data\\raw_data\\chb-mit-scalp-eeg-database-1.0.0\\chb21\\chb21_04.edf\n",
      "data\\raw_data\\chb-mit-scalp-eeg-database-1.0.0\\chb21\\chb21_05.edf\n",
      "data\\raw_data\\chb-mit-scalp-eeg-database-1.0.0\\chb21\\chb21_06.edf\n",
      "data\\raw_data\\chb-mit-scalp-eeg-database-1.0.0\\chb21\\chb21_07.edf\n",
      "data\\raw_data\\chb-mit-scalp-eeg-database-1.0.0\\chb21\\chb21_08.edf\n",
      "data\\raw_data\\chb-mit-scalp-eeg-database-1.0.0\\chb21\\chb21_09.edf\n",
      "data\\raw_data\\chb-mit-scalp-eeg-database-1.0.0\\chb21\\chb21_10.edf\n",
      "data\\raw_data\\chb-mit-scalp-eeg-database-1.0.0\\chb21\\chb21_11.edf\n",
      "data\\raw_data\\chb-mit-scalp-eeg-database-1.0.0\\chb21\\chb21_12.edf\n",
      "data\\raw_data\\chb-mit-scalp-eeg-database-1.0.0\\chb21\\chb21_13.edf\n",
      "data\\raw_data\\chb-mit-scalp-eeg-database-1.0.0\\chb21\\chb21_14.edf\n",
      "data\\raw_data\\chb-mit-scalp-eeg-database-1.0.0\\chb21\\chb21_15.edf\n",
      "data\\raw_data\\chb-mit-scalp-eeg-database-1.0.0\\chb21\\chb21_16.edf\n",
      "data\\raw_data\\chb-mit-scalp-eeg-database-1.0.0\\chb21\\chb21_17.edf\n",
      "data\\raw_data\\chb-mit-scalp-eeg-database-1.0.0\\chb21\\chb21_18.edf\n",
      "data\\raw_data\\chb-mit-scalp-eeg-database-1.0.0\\chb21\\chb21_19.edf\n",
      "data\\raw_data\\chb-mit-scalp-eeg-database-1.0.0\\chb21\\chb21_19.edf.seizures\n",
      "data\\raw_data\\chb-mit-scalp-eeg-database-1.0.0\\chb21\\chb21_20.edf\n",
      "data\\raw_data\\chb-mit-scalp-eeg-database-1.0.0\\chb21\\chb21_20.edf.seizures\n",
      "data\\raw_data\\chb-mit-scalp-eeg-database-1.0.0\\chb21\\chb21_21.edf\n",
      "data\\raw_data\\chb-mit-scalp-eeg-database-1.0.0\\chb21\\chb21_21.edf.seizures\n",
      "data\\raw_data\\chb-mit-scalp-eeg-database-1.0.0\\chb21\\chb21_22.edf\n",
      "data\\raw_data\\chb-mit-scalp-eeg-database-1.0.0\\chb21\\chb21_22.edf.seizures\n",
      "data\\raw_data\\chb-mit-scalp-eeg-database-1.0.0\\chb21\\chb21_23.edf\n",
      "data\\raw_data\\chb-mit-scalp-eeg-database-1.0.0\\chb21\\chb21_24.edf\n",
      "data\\raw_data\\chb-mit-scalp-eeg-database-1.0.0\\chb21\\chb21_25.edf\n",
      "data\\raw_data\\chb-mit-scalp-eeg-database-1.0.0\\chb21\\chb21_26.edf\n",
      "data\\raw_data\\chb-mit-scalp-eeg-database-1.0.0\\chb21\\chb21_27.edf\n",
      "data\\raw_data\\chb-mit-scalp-eeg-database-1.0.0\\chb21\\chb21_28.edf\n",
      "data\\raw_data\\chb-mit-scalp-eeg-database-1.0.0\\chb21\\chb21_29.edf\n",
      "data\\raw_data\\chb-mit-scalp-eeg-database-1.0.0\\chb21\\chb21_30.edf\n",
      "data\\raw_data\\chb-mit-scalp-eeg-database-1.0.0\\chb21\\chb21_31.edf\n",
      "data\\raw_data\\chb-mit-scalp-eeg-database-1.0.0\\chb21\\chb21_32.edf\n",
      "data\\raw_data\\chb-mit-scalp-eeg-database-1.0.0\\chb21\\chb21_33.edf\n",
      "data\\raw_data\\chb-mit-scalp-eeg-database-1.0.0\\chb22\\chb22-summary.txt\n",
      "data\\raw_data\\chb-mit-scalp-eeg-database-1.0.0\\chb22\\chb22_01.edf\n",
      "data\\raw_data\\chb-mit-scalp-eeg-database-1.0.0\\chb22\\chb22_02.edf\n",
      "data\\raw_data\\chb-mit-scalp-eeg-database-1.0.0\\chb22\\chb22_03.edf\n",
      "data\\raw_data\\chb-mit-scalp-eeg-database-1.0.0\\chb22\\chb22_04.edf\n",
      "data\\raw_data\\chb-mit-scalp-eeg-database-1.0.0\\chb22\\chb22_05.edf\n",
      "data\\raw_data\\chb-mit-scalp-eeg-database-1.0.0\\chb22\\chb22_06.edf\n",
      "data\\raw_data\\chb-mit-scalp-eeg-database-1.0.0\\chb22\\chb22_07.edf\n",
      "data\\raw_data\\chb-mit-scalp-eeg-database-1.0.0\\chb22\\chb22_08.edf\n",
      "data\\raw_data\\chb-mit-scalp-eeg-database-1.0.0\\chb22\\chb22_09.edf\n",
      "data\\raw_data\\chb-mit-scalp-eeg-database-1.0.0\\chb22\\chb22_10.edf\n",
      "data\\raw_data\\chb-mit-scalp-eeg-database-1.0.0\\chb22\\chb22_11.edf\n",
      "data\\raw_data\\chb-mit-scalp-eeg-database-1.0.0\\chb22\\chb22_15.edf\n",
      "data\\raw_data\\chb-mit-scalp-eeg-database-1.0.0\\chb22\\chb22_16.edf\n",
      "data\\raw_data\\chb-mit-scalp-eeg-database-1.0.0\\chb22\\chb22_17.edf\n",
      "data\\raw_data\\chb-mit-scalp-eeg-database-1.0.0\\chb22\\chb22_18.edf\n",
      "data\\raw_data\\chb-mit-scalp-eeg-database-1.0.0\\chb22\\chb22_19.edf\n",
      "data\\raw_data\\chb-mit-scalp-eeg-database-1.0.0\\chb22\\chb22_20.edf\n",
      "data\\raw_data\\chb-mit-scalp-eeg-database-1.0.0\\chb22\\chb22_20.edf.seizures\n",
      "data\\raw_data\\chb-mit-scalp-eeg-database-1.0.0\\chb22\\chb22_21.edf\n",
      "data\\raw_data\\chb-mit-scalp-eeg-database-1.0.0\\chb22\\chb22_22.edf\n",
      "data\\raw_data\\chb-mit-scalp-eeg-database-1.0.0\\chb22\\chb22_23.edf\n",
      "data\\raw_data\\chb-mit-scalp-eeg-database-1.0.0\\chb22\\chb22_24.edf\n",
      "data\\raw_data\\chb-mit-scalp-eeg-database-1.0.0\\chb22\\chb22_25.edf\n",
      "data\\raw_data\\chb-mit-scalp-eeg-database-1.0.0\\chb22\\chb22_25.edf.seizures\n",
      "data\\raw_data\\chb-mit-scalp-eeg-database-1.0.0\\chb22\\chb22_26.edf\n",
      "data\\raw_data\\chb-mit-scalp-eeg-database-1.0.0\\chb22\\chb22_27.edf\n",
      "data\\raw_data\\chb-mit-scalp-eeg-database-1.0.0\\chb22\\chb22_28.edf\n",
      "data\\raw_data\\chb-mit-scalp-eeg-database-1.0.0\\chb22\\chb22_29.edf\n",
      "data\\raw_data\\chb-mit-scalp-eeg-database-1.0.0\\chb22\\chb22_30.edf\n",
      "data\\raw_data\\chb-mit-scalp-eeg-database-1.0.0\\chb22\\chb22_38.edf\n",
      "data\\raw_data\\chb-mit-scalp-eeg-database-1.0.0\\chb22\\chb22_38.edf.seizures\n",
      "data\\raw_data\\chb-mit-scalp-eeg-database-1.0.0\\chb22\\chb22_51.edf\n",
      "data\\raw_data\\chb-mit-scalp-eeg-database-1.0.0\\chb22\\chb22_54.edf\n",
      "data\\raw_data\\chb-mit-scalp-eeg-database-1.0.0\\chb22\\chb22_77.edf\n",
      "data\\raw_data\\chb-mit-scalp-eeg-database-1.0.0\\chb23\\chb23-summary.txt\n",
      "data\\raw_data\\chb-mit-scalp-eeg-database-1.0.0\\chb23\\chb23_06.edf\n",
      "data\\raw_data\\chb-mit-scalp-eeg-database-1.0.0\\chb23\\chb23_06.edf.seizures\n",
      "data\\raw_data\\chb-mit-scalp-eeg-database-1.0.0\\chb23\\chb23_07.edf\n",
      "data\\raw_data\\chb-mit-scalp-eeg-database-1.0.0\\chb23\\chb23_08.edf\n",
      "data\\raw_data\\chb-mit-scalp-eeg-database-1.0.0\\chb23\\chb23_08.edf.seizures\n",
      "data\\raw_data\\chb-mit-scalp-eeg-database-1.0.0\\chb23\\chb23_09.edf\n",
      "data\\raw_data\\chb-mit-scalp-eeg-database-1.0.0\\chb23\\chb23_09.edf.seizures\n",
      "data\\raw_data\\chb-mit-scalp-eeg-database-1.0.0\\chb23\\chb23_10.edf\n",
      "data\\raw_data\\chb-mit-scalp-eeg-database-1.0.0\\chb23\\chb23_16.edf\n",
      "data\\raw_data\\chb-mit-scalp-eeg-database-1.0.0\\chb23\\chb23_17.edf\n",
      "data\\raw_data\\chb-mit-scalp-eeg-database-1.0.0\\chb23\\chb23_19.edf\n",
      "data\\raw_data\\chb-mit-scalp-eeg-database-1.0.0\\chb23\\chb23_20.edf\n",
      "data\\raw_data\\chb-mit-scalp-eeg-database-1.0.0\\chb24\\chb24-summary.txt\n",
      "data\\raw_data\\chb-mit-scalp-eeg-database-1.0.0\\chb24\\chb24_01.edf\n",
      "data\\raw_data\\chb-mit-scalp-eeg-database-1.0.0\\chb24\\chb24_01.edf.seizures\n",
      "data\\raw_data\\chb-mit-scalp-eeg-database-1.0.0\\chb24\\chb24_02.edf\n",
      "data\\raw_data\\chb-mit-scalp-eeg-database-1.0.0\\chb24\\chb24_03.edf\n",
      "data\\raw_data\\chb-mit-scalp-eeg-database-1.0.0\\chb24\\chb24_03.edf.seizures\n",
      "data\\raw_data\\chb-mit-scalp-eeg-database-1.0.0\\chb24\\chb24_04.edf\n",
      "data\\raw_data\\chb-mit-scalp-eeg-database-1.0.0\\chb24\\chb24_04.edf.seizures\n",
      "data\\raw_data\\chb-mit-scalp-eeg-database-1.0.0\\chb24\\chb24_05.edf\n",
      "data\\raw_data\\chb-mit-scalp-eeg-database-1.0.0\\chb24\\chb24_06.edf\n",
      "data\\raw_data\\chb-mit-scalp-eeg-database-1.0.0\\chb24\\chb24_06.edf.seizures\n",
      "data\\raw_data\\chb-mit-scalp-eeg-database-1.0.0\\chb24\\chb24_07.edf\n",
      "data\\raw_data\\chb-mit-scalp-eeg-database-1.0.0\\chb24\\chb24_07.edf.seizures\n",
      "data\\raw_data\\chb-mit-scalp-eeg-database-1.0.0\\chb24\\chb24_08.edf\n",
      "data\\raw_data\\chb-mit-scalp-eeg-database-1.0.0\\chb24\\chb24_09.edf\n",
      "data\\raw_data\\chb-mit-scalp-eeg-database-1.0.0\\chb24\\chb24_09.edf.seizures\n",
      "data\\raw_data\\chb-mit-scalp-eeg-database-1.0.0\\chb24\\chb24_10.edf\n",
      "data\\raw_data\\chb-mit-scalp-eeg-database-1.0.0\\chb24\\chb24_11.edf\n",
      "data\\raw_data\\chb-mit-scalp-eeg-database-1.0.0\\chb24\\chb24_11.edf.seizures\n",
      "data\\raw_data\\chb-mit-scalp-eeg-database-1.0.0\\chb24\\chb24_12.edf\n",
      "data\\raw_data\\chb-mit-scalp-eeg-database-1.0.0\\chb24\\chb24_13.edf\n",
      "data\\raw_data\\chb-mit-scalp-eeg-database-1.0.0\\chb24\\chb24_13.edf.seizures\n",
      "data\\raw_data\\chb-mit-scalp-eeg-database-1.0.0\\chb24\\chb24_14.edf\n",
      "data\\raw_data\\chb-mit-scalp-eeg-database-1.0.0\\chb24\\chb24_14.edf.seizures\n",
      "data\\raw_data\\chb-mit-scalp-eeg-database-1.0.0\\chb24\\chb24_15.edf\n",
      "data\\raw_data\\chb-mit-scalp-eeg-database-1.0.0\\chb24\\chb24_15.edf.seizures\n",
      "data\\raw_data\\chb-mit-scalp-eeg-database-1.0.0\\chb24\\chb24_16.edf\n",
      "data\\raw_data\\chb-mit-scalp-eeg-database-1.0.0\\chb24\\chb24_17.edf\n",
      "data\\raw_data\\chb-mit-scalp-eeg-database-1.0.0\\chb24\\chb24_17.edf.seizures\n",
      "data\\raw_data\\chb-mit-scalp-eeg-database-1.0.0\\chb24\\chb24_18.edf\n",
      "data\\raw_data\\chb-mit-scalp-eeg-database-1.0.0\\chb24\\chb24_19.edf\n",
      "data\\raw_data\\chb-mit-scalp-eeg-database-1.0.0\\chb24\\chb24_20.edf\n",
      "data\\raw_data\\chb-mit-scalp-eeg-database-1.0.0\\chb24\\chb24_21.edf\n",
      "data\\raw_data\\chb-mit-scalp-eeg-database-1.0.0\\chb24\\chb24_21.edf.seizures\n",
      "data\\raw_data\\chb-mit-scalp-eeg-database-1.0.0\\chb24\\chb24_22.edf\n",
      "Training data (signals) have shape (37666, 23, 256)\n",
      "Training labels have shape (37666,)\n",
      "Validation data (signals) have shape (8071, 23, 256)\n",
      "Validation labels have shape (8071,)\n",
      "Test data (signals) have shape (8072, 23, 256)\n",
      "KeysView(NpzFile 'data/eeg-seizure_test.npz' with keys: test_signals)\n"
     ]
    }
   ],
   "execution_count": 5
  },
  {
   "metadata": {
    "ExecuteTime": {
     "end_time": "2025-02-09T13:22:20.103411Z",
     "start_time": "2025-02-09T13:22:20.087505Z"
    }
   },
   "cell_type": "code",
   "source": [
    "unique, count = np.unique(train_labels, return_counts=True)\n",
    "print(\"unique\",unique,\"count\",count)"
   ],
   "id": "d20a86300ac0b3f7",
   "outputs": [
    {
     "name": "stdout",
     "output_type": "stream",
     "text": [
      "unique [0 1] count [29592  8074]\n"
     ]
    }
   ],
   "execution_count": 18
  },
  {
   "metadata": {
    "ExecuteTime": {
     "end_time": "2025-02-09T13:22:21.227393Z",
     "start_time": "2025-02-09T13:22:21.211727Z"
    }
   },
   "cell_type": "code",
   "source": [
    "train_signals.shape, train_labels.shape\n",
    "\n"
   ],
   "id": "d9917a734967d172",
   "outputs": [
    {
     "data": {
      "text/plain": [
       "((37666, 23, 256), (37666,))"
      ]
     },
     "execution_count": 19,
     "metadata": {},
     "output_type": "execute_result"
    }
   ],
   "execution_count": 19
  },
  {
   "metadata": {},
   "cell_type": "markdown",
   "source": "#### Normalise Dataset",
   "id": "f9f2754329f363c0"
  },
  {
   "metadata": {
    "ExecuteTime": {
     "end_time": "2025-02-10T07:55:48.732378Z",
     "start_time": "2025-02-10T07:55:48.724708Z"
    }
   },
   "cell_type": "code",
   "source": [
    "def normalise_data(X_train: np.ndarray, X_test: np.ndarray, scaler: str = StandardScaler()) -> tuple:\n",
    "    \"\"\"Default to StandardScaler\"\"\"\n",
    "\n",
    "    # Holder numpy array for normalised values\n",
    "    train_norm= np.zeros(shape=(X_train.shape), dtype='float32')\n",
    "    test_norm = np.zeros(shape=(X_test.shape), dtype='float32')\n",
    "\n",
    "    # Iterate over each channel (samples, channel, features)\n",
    "    for channel in range(X_train.shape[1]):  # Iterate over channels in dataset\n",
    "        train_norm[:, channel, :] = scaler.fit_transform(X_train[:, channel, :])  # Fit and apply normaliser on current channel in train subset\n",
    "        test_norm[:, channel, :] = scaler.transform(X_test[:, channel, :])  # Apply normaliser on current channel in test subset\n",
    "\n",
    "    return train_norm, test_norm"
   ],
   "id": "936272fc0d04af1e",
   "outputs": [],
   "execution_count": 6
  },
  {
   "metadata": {
    "ExecuteTime": {
     "end_time": "2025-02-10T07:55:54.147618Z",
     "start_time": "2025-02-10T07:55:50.957259Z"
    }
   },
   "cell_type": "code",
   "source": [
    "train_signals_norm , val_signals_norm = normalise_data(train_signals, val_signals)\n",
    "print(f\"train_signals_norm shape: {train_signals_norm.shape}\")\n",
    "print(f\"val_signals_norm shape: {val_signals_norm.shape}\")\n"
   ],
   "id": "3e1b0dd21b13fd27",
   "outputs": [
    {
     "name": "stdout",
     "output_type": "stream",
     "text": [
      "train_signals_norm shape: (37666, 23, 256)\n",
      "val_signals_norm shape: (8071, 23, 256)\n"
     ]
    }
   ],
   "execution_count": 7
  },
  {
   "metadata": {},
   "cell_type": "markdown",
   "source": "#### Baseline models for comparison",
   "id": "88024c3c75f17659"
  },
  {
   "metadata": {},
   "cell_type": "raw",
   "source": [
    "Convolutional networks' learning:\n",
    "1 are translation-invariant - detectable regardless of position in image\n",
    "2 takes hierarchical patterns - learns patterns from earlier level\n",
    "\n",
    "(Chollet, 2019, pp205)\n",
    "Francois Chollet, Deep Learning with Python, 2 ed. Manning Publication\n",
    "\n",
    "\"They can learn spatial hierarchies of patterns\""
   ],
   "id": "61ceeefc14799de5",
   "outputs": null,
   "execution_count": null
  },
  {
   "metadata": {},
   "cell_type": "markdown",
   "source": "##### Baseline common sense comparator",
   "id": "ceb47934de0c23bd"
  },
  {
   "metadata": {},
   "cell_type": "markdown",
   "source": [
    "CHB-MIT is the chosen dataset, as it has been well studied, and contains the standard 23 channels recordings typical of clinical practice recording. Chollet (2018) advocated a step wise baseline-based approach in building neural network. He argued the black box nature of neural network models have to be anchored on objective evaluation before building increasingly complex models.\n",
    "Precision - \"Of all model results labelled as positive, how many were true positive?\n",
    "Recall - \"Of all true positive instances, how many were correctly identified by model?\"\n",
    "\n",
    "CHB-MIT dataset contains 198 identified seizures over 916 hours of recordings. An unbalanced dataset. Typical seizure recordings span seconds to minutes. Assuming an average seizure recording of 1 minute each, there will be 3-4 hours of seizure recordings. This comprises less than 1% of all recordings. An algorithm that returns no seizure for any input will achieve accuracy of over 99%. Clearly recall and precision will be zero.\n",
    "Conversely, predicting all samples as having seizure result in low accuracy, recall and precision scores, less than 0.01.  This sets the threshold target bar too low. A better approach would be to rely on Wang’s (2020) survey of epileptologists. A surveyed consensus among seizure experts is to accept sensitivity of 80% in automated diagnosis [30]."
   ],
   "id": "14e62fc9c57976db"
  },
  {
   "metadata": {},
   "cell_type": "markdown",
   "source": [
    "Pre-processed dataset (Badea,2021)\n",
    "Pre-processing the dataset is an essential, non-trivial step for training the model. For rapid prototyping, a pre-processed version of the CHB-MIT dataset created by Badea (2021) was utilised.\n",
    "This dataset converted the raw data into Numpy arrays and segmented it into 1-second windows. This pre-processed dataset retains the original dataset's proportion of seizure and non-seizure samples, which was used for training and testing the base Dense Neural Network and Support Vector Machine models.\n",
    "My custom extracted dataset\n",
    "To better tailor the dataset for training, a custom dataset was created using a custom EdfToNpy class. This extraction resulted in a less unbalanced dataset with 10-second window segments. The custom dataset includes:\n",
    "•\t3255 seizure samples\n",
    "•\t8547 non-seizure samples\n",
    "•\tSeizure samples comprise about 38.1% of the dataset.\n"
   ],
   "id": "ab50165a803b56c5"
  },
  {
   "metadata": {},
   "cell_type": "markdown",
   "source": [
    "| Data Set            | Prediction Type   | Recall Score | Accuracy Target |\n",
    "|---------------------|-------------------|--------------|-----------------|\n",
    "| Unbalanced Set      | Predicting True   | 1            | < 1%            |\n",
    "| Unbalanced Set      | Predicting False  | 0            | < 1%            |\n",
    "| Custom Balanced Set | Predicting True   | 1            | 38.1%           |\n",
    "| Custom Balanced Set | Predicting False  | 0            | 68.9%           |\n"
   ],
   "id": "59db2c4b58986f6d"
  },
  {
   "metadata": {},
   "cell_type": "markdown",
   "source": [
    "##### Baseline Densely Connected Model\n",
    "A feedforward dense neural network, also known as a fully connected neural network, is a type of artificial neural network where each neuron in one layer is connected to every neuron in the next layer. The network typically consists of an input layer, one or more hidden layers, and an output layer.\n",
    "\n",
    "**Key Components:**\n",
    "- **Input Layer:** Receives the input data.\n",
    "- **Hidden Layers:** Intermediate layers that apply transformations to the inputs.\n",
    "- **Output Layer:** Produces the final prediction output.\n",
    "\n",
    "**Process Overview:**\n",
    "1. **Data Preprocessing:** The raw input data is pre-processed (e.g., scaling) to prepare it for the model.\n",
    "2. **Forward Propagation:** Data moves forward through the network layers, applying weights and biases to produce an output.\n",
    "3. **Loss Computation:** The difference between the predicted output and the actual target is calculated using a loss function.\n",
    "4. **Backpropagation:** The network adjusts its weights and biases to minimise the loss through an optimisation algorithm (e.g., Adam).\n",
    "5. **Evaluation:** The model's performance is evaluated using metrics such as accuracy, mean absolute error (MAE), and recall.\n"
   ],
   "id": "b81377992adba06d"
  },
  {
   "metadata": {
    "ExecuteTime": {
     "end_time": "2025-01-25T05:19:47.519675Z",
     "start_time": "2025-01-25T05:19:47.498074Z"
    }
   },
   "cell_type": "code",
   "source": [
    "class BaseDense:\n",
    "    '''Setup dense class. Train and evaluate'''\n",
    "    def __init__(self, train_data, train_labels, validation_data, validation_labels):\n",
    "        self.train_data = train_data\n",
    "        self.train_labels = train_labels\n",
    "        self.validation_data = validation_data\n",
    "        self.validation_labels = validation_labels\n",
    "        self.model = None\n",
    "        self.recall = None\n",
    "\n",
    "    def train(self):\n",
    "        inputs = Input(shape=self.train_data.shape[1:])\n",
    "        x = Flatten()(inputs)\n",
    "        x = Dense(16, activation='relu')(x)\n",
    "        outputs = Dense(1, activation='sigmoid')(x)\n",
    "        model = Model(inputs=inputs, outputs=outputs)\n",
    "\n",
    "        callbacks_ = [ModelCheckpoint(\"dense_baseline.keras\",\n",
    "                                     save_best_only = True)]\n",
    "        model.compile(optimizer='adam',loss='binary_crossentropy', metrics =['mae', 'Recall', 'Precision'])\n",
    "        history = model.fit(self.train_data, self.train_labels,\n",
    "                            epochs=20,\n",
    "                            validation_data=(self.validation_data, self.validation_labels),\n",
    "                            callbacks=callbacks_,\n",
    "                            verbose=0)\n",
    "\n",
    "        print(f\"Training loss , mae , recall : {model.evaluate(self.validation_data, self.validation_labels)}\")\n",
    "        self.model = model\n",
    "        self.recall = history.history['val_recall']\n",
    "\n",
    "        # plot recall vs epochs\n",
    "        epochs = np.arange(1, len(self.recall) + 1)\n",
    "        plt.plot(epochs, self.recall,label='Recall')\n",
    "        plt.xlabel('Epochs')\n",
    "        plt.ylabel('Recall')\n",
    "        plt.legend()\n",
    "        plt.show()\n",
    "\n",
    "    def evaluate(self):\n",
    "        # Evaluate model\n",
    "        history_loss, history_mae, history_recall, history_precision = self.model.evaluate(self.validation_data, self.validation_labels)\n",
    "        print(f\" loss: {history_loss:.4f} , mae: {history_mae:.4f} , recall: {history_recall:.4f}, precision: {history_precision:.4f}\")\n",
    "\n",
    "        # returns array of probability (float) of binary outcome\n",
    "        # convert to integer. Without astype(int) returns array of True, False\n",
    "        y_pred = ( self.model.predict(self.validation_data) > 0.5 ).astype(int)\n",
    "        y_true = self.validation_labels\n",
    "\n",
    "        # print confusion matrix\n",
    "        print(\"\\n Confusion Matrix:\")\n",
    "        cm_labels = ['Non-seizure', 'Seizure']\n",
    "        cm = confusion_matrix(y_true, y_pred)\n",
    "        display_cm = ConfusionMatrixDisplay(confusion_matrix=cm, display_labels=cm_labels)\n",
    "        display_cm.plot(cmap=plt.cm.Blues)\n",
    "        plt.show()\n",
    "\n",
    "        #return true positive, and false negative for calculating recall\n",
    "        return cm\n",
    "\n",
    "    def pre_process(self):\n",
    "        scalar = StandardScaler()\n",
    "        # standard scaler takes 2 dimensions. Train methods take 3 dimensions data\n",
    "        samples_t, channels_t, features_t = self.train_data.shape\n",
    "        samples_v, channels_v, features_v = self.validation_data.shape\n",
    "\n",
    "        temp_train = self.train_data.reshape(samples_t, channels_t * features_t)\n",
    "        temp_validate = self.validation_data.reshape(samples_v, channels_v * features_v)\n",
    "\n",
    "        temp_train = scalar.fit_transform(temp_train)\n",
    "        temp_validate = scalar.transform(temp_validate)\n",
    "\n",
    "        self.train_data = temp_train.reshape(samples_t,channels_t, features_t)\n",
    "        self.validation_data = temp_validate.reshape(samples_v,channels_v, features_v)\n",
    "\n",
    "\n"
   ],
   "id": "ceac7e2b129527e7",
   "outputs": [],
   "execution_count": 7
  },
  {
   "metadata": {},
   "cell_type": "raw",
   "source": [
    "class BaseDense:\n",
    "    '''Setup dense class. Train and evaluate'''\n",
    "    def __init__(self, train_data, train_labels, validation_data, validation_labels):\n",
    "        self.train_data = train_data\n",
    "        self.train_labels = train_labels\n",
    "        self.validation_data = validation_data\n",
    "        self.validation_labels = validation_labels\n",
    "        self.model = None\n",
    "        self.recall = None\n",
    "\n",
    "    def call(self):\n",
    "        inputs = Input(shape=self.train_data.shape[1:])\n",
    "        x = Flatten()(inputs)\n",
    "        x = Dense(16, activation='relu')(x)\n",
    "        outputs = Dense(1, activation='sigmoid')(x)\n",
    "        model = Model(inputs=inputs, outputs=outputs)\n",
    "\n",
    "        callbacks_ = [ModelCheckpoint(\"dense_baseline.keras\",\n",
    "                                     save_best_only = True)]\n",
    "        model.compile(optimizer='adam',loss='binary_crossentropy', metrics =['mae', 'Recall', 'Precision'])\n",
    "        history = model.fit(self.train_data, self.train_labels,\n",
    "                            epochs=10,\n",
    "                            validation_data=(self.validation_data, self.validation_labels),\n",
    "                            callbacks=callbacks_,\n",
    "                            verbose=0)\n",
    "\n",
    "        print(f\"Training loss , mae , recall : {model.evaluate(self.validation_data, self.validation_labels)}\")\n",
    "        self.model = model\n",
    "        self.recall = history.history['val_recall']\n",
    "\n",
    "        # plot recall vs epochs\n",
    "        epochs = np.arange(1, len(self.recall) + 1)\n",
    "        plt.plot(epochs, self.recall,label='Recall')\n",
    "        plt.xlabel('Epochs')\n",
    "        plt.ylabel('Recall')\n",
    "        plt.legend()\n",
    "        plt.show()\n",
    "\n",
    "    def evaluate(self):\n",
    "        # Evaluate model\n",
    "        history_loss, history_mae, history_recall = self.model.evaluate(self.validation_data, self.validation_labels)\n",
    "        print(f\" loss: {history_loss:.4f} , mae: {history_mae:.4f} , recall: {history_recall:.4f}\")\n",
    "\n",
    "        # returns array of probability (float) of binary outcome\n",
    "        # convert to integer. Without astype(int) returns array of True, False\n",
    "        y_pred = ( self.model.predict(self.validation_data) > 0.5 ).astype(int)\n",
    "        y_true = self.validation_labels\n",
    "\n",
    "        # print confusion matrix\n",
    "        print(\"\\n Confusion Matrix:\")\n",
    "        cm_labels = ['Non-seizure', 'Seizure']\n",
    "        cm = confusion_matrix(y_true, y_pred)\n",
    "        display_cm = ConfusionMatrixDisplay(confusion_matrix=cm, display_labels=cm_labels)\n",
    "        display_cm.plot(cmap=plt.cm.Blues)\n",
    "        plt.show()\n",
    "\n",
    "        #return true positive, and false negative for calculating recall\n",
    "        return cm\n",
    "\n",
    "    def pre_process(self):\n",
    "        scalar = StandardScaler()\n",
    "        # standard scaler takes 2 dimensions. Train methods take 3 dimensions data\n",
    "        samples_t, channels_t, features_t = self.train_data.shape\n",
    "        samples_v, channels_v, features_v = self.validation_data.shape\n",
    "\n",
    "        temp_train = self.train_data.reshape(samples_t, channels_t * features_t)\n",
    "        temp_validate = self.validation_data.reshape(samples_v, channels_v * features_v)\n",
    "\n",
    "        temp_train = scalar.fit_transform(temp_train)\n",
    "        temp_validate = scalar.transform(temp_validate)\n",
    "\n",
    "        self.train_data = temp_train.reshape(samples_t,channels_t, features_t)\n",
    "        self.validation_data = temp_validate.reshape(samples_v,channels_v, features_v)"
   ],
   "id": "60b8ef3b192bcc90"
  },
  {
   "metadata": {
    "ExecuteTime": {
     "end_time": "2025-01-25T05:23:10.576527Z",
     "start_time": "2025-01-25T05:19:52.462353Z"
    }
   },
   "cell_type": "code",
   "source": [
    "# Training on training data\n",
    "base_nn = BaseDense(train_signals,train_labels,val_signals,val_labels)\n",
    "base_nn.pre_process()  # convert data to hve mean=0, standard deviation=1. Leads to quicker converge during training\n",
    "base_nn.train()\n",
    "\n"
   ],
   "id": "48de2ac7c3b2d813",
   "outputs": [
    {
     "name": "stdout",
     "output_type": "stream",
     "text": [
      "253/253 [==============================] - 2s 9ms/step - loss: 0.7139 - mae: 0.1812 - recall: 0.5454 - precision: 0.6786\n",
      "Training loss , mae , recall : [0.7138923406600952, 0.18116743862628937, 0.545403242111206, 0.6785964965820312]\n"
     ]
    },
    {
     "data": {
      "text/plain": [
       "<Figure size 640x480 with 1 Axes>"
      ],
      "image/png": "[encoded data removed]"
     },
     "metadata": {},
     "output_type": "display_data"
    }
   ],
   "execution_count": 8
  },
  {
   "metadata": {
    "ExecuteTime": {
     "end_time": "2025-01-25T05:23:15.928688Z",
     "start_time": "2025-01-25T05:23:10.735021Z"
    }
   },
   "cell_type": "code",
   "source": [
    "# Evaluating on validation data, returns confusion matrix [[true negative,false positive],[false negative, true positive]]\n",
    "base_nn.evaluate()"
   ],
   "id": "cd11edd0a9fef5c9",
   "outputs": [
    {
     "name": "stdout",
     "output_type": "stream",
     "text": [
      "253/253 [==============================] - 2s 8ms/step - loss: 0.7139 - mae: 0.1812 - recall: 0.5454 - precision: 0.6786\n",
      " loss: 0.7139 , mae: 0.1812 , recall: 0.5454, precision: 0.6786\n",
      "253/253 [==============================] - 2s 8ms/step\n",
      "\n",
      " Confusion Matrix:\n"
     ]
    },
    {
     "data": {
      "text/plain": [
       "<Figure size 640x480 with 2 Axes>"
      ],
      "image/png": "[encoded data removed]"
     },
     "metadata": {},
     "output_type": "display_data"
    },
    {
     "data": {
      "text/plain": [
       "array([[5840,  458],\n",
       "       [ 806,  967]], dtype=int64)"
      ]
     },
     "execution_count": 9,
     "metadata": {},
     "output_type": "execute_result"
    }
   ],
   "execution_count": 9
  },
  {
   "metadata": {},
   "cell_type": "markdown",
   "source": "> Basic simple dense neural network achieves recall around 56% on 1-second sampling data provided by Badea (2021).",
   "id": "b2bd3dc5d4a2c46b"
  },
  {
   "metadata": {},
   "cell_type": "markdown",
   "source": "#### Baseline comparitor using Support Vector Machine classiifier",
   "id": "23fdfef6f214f5ba"
  },
  {
   "metadata": {},
   "cell_type": "markdown",
   "source": [
    "##### Wang (2011) showed use of bandpass filter and wavelet analysis to train SVM seizure classifier [29] with good accuracy\n",
    "Wavelet analysis is a mathematical signal transformation which is localised in frequency and time. Wavelet analysis uses such wavelets to perform mathematical transformation.\n",
    "\n",
    " 1. Brain EEG signal of > 50 Hz often associated with eye movement, muscle activities etc\n",
    " 2. Brain EEG signal < 1 Hz are general slow drifts in records.\n",
    " 3. Useful brain activity often around 1 - 30+ Hz\n"
   ],
   "id": "170e0c1ec7231591"
  },
  {
   "metadata": {},
   "cell_type": "markdown",
   "source": [
    "Class SVM_Tools contains seven methods:\n",
    "1. train_svm(data,label) -> SVM classifier trained on CHB-MIT seizure data of samples size (37666,23,256). A static method\n",
    "2. get_psd(self,data_signal, frequency=256, segment_length=256)  -> numpy array of power signal density features. Unable to run CHB-MIT dataset in a single process. Numpy array size is too large to fit into memory.\n",
    "3. get_psd_batch(self, batch_size=1000) -> numpy array of power signal features. Run get_psd in batches.\n",
    "4. def to_svm_input(data_signal) -> numpy array with dimensions (n_samples, n_features) , where n_samples represents number of samples and n_features represents number of features, obtain by converting (n_samples, n_channels, n_datapoints) into (n_samples , n_channels x n_datapoints). This is the shape required for SVM training. A static method.\n",
    "5. show_shape(self) -> returns shape of input data\n",
    "6. get_wavelet(self, scales=np.arange(1,30), wavelet='cmor') -> returns np.ndarray of shape (n_samples, n_features)\n",
    "7. a cache decorator. see section on caching, three cells below."
   ],
   "id": "5b4ab418cae17d5"
  },
  {
   "metadata": {},
   "cell_type": "markdown",
   "source": [
    "#### Feature extraction implemented.\n",
    "Training SVM model on dataset with more than 36000 samples takes prohibitively long on my machine during rapid prototyping phase.\n",
    "In first iterative phase, feature extraction feature is added to allow computation in reasonable time.\n",
    "Literature review showed wavelet analysis and power spectral analysis are two possible feature extraction methods [29].\n",
    "Wavelet analysis:\n",
    "- extracts time-frequency representation\n",
    "- requires higher computation resource\n",
    "\n",
    "#### Power spectral analysis:\n",
    "- analyse only frequency domain.\n",
    "- lower computation resource needed.\n",
    "- estimate using Welch method: divides data into overlapping segments, computing a modified periodogram for each segment. Then average the periodograms.\n",
    "\n"
   ],
   "id": "62193cf86a716baf"
  },
  {
   "metadata": {},
   "cell_type": "markdown",
   "source": [
    "One way to understand **wavelet** transform is to consider two steps:\n",
    "\n",
    "Step 1: Transform the signal using wavelet mathematical functions that are localized in time and frequency. Think of an oscilloscope analysing a range of frequencies from a sound signal. The same oscilloscope is turned on and off at fixed interval. We know have a frequency-time representation of the input ssound creating a time-frequency representation of the signal.\n",
    "\n",
    "Step 2: Scale the wavelet (stretch/compress the signal on the oscilloscope) to analyze different frequency bands (high scales (stretch signal) = low frequencies, low scales (compress signal) = high frequencies). At the same time while translating (shifting) it across different range of frequencies to capture how the signal evolves over time (think of zooming in for increased resolution or zooming out for more panoramic view ). The range of scales is specified as numpy array  : np.arange(1,30) means about 30 different 'sizes' of frequency range applied.\n",
    "\n",
    "A way to visualise this is by imagining a wavelet function that starts out narrow (high frequency) and becomes wider (low frequency). By applying it at different scales , you zoom in and out to capture the frequency components at different levels of detail.\n",
    "\n",
    "If still confusing - think of wavelet transformation as compressing frequency and time into a fewer numbers but representative of time-frequency information. Analogous to how mean is representative a series of integers!"
   ],
   "id": "90b8c8293a0f1da9"
  },
  {
   "metadata": {},
   "cell_type": "markdown",
   "source": [
    "##### Standardisation of input data\n",
    "Input values are standardised to mean of 0 and standard deviation of 1.\n",
    "1. Support Vector Machine algorithm is sensitive to scale of input, and perform  better with standardised data.\n",
    "2. Ensures all features contribute equally by putting them onto a common scale.\n",
    "3. Helps gradient based algorithm to converge quicker."
   ],
   "id": "755e92ef37e0dc3a"
  },
  {
   "metadata": {},
   "cell_type": "raw",
   "source": [
    "#### Caching\n",
    "Wavelet and PSD preprocessing takes some time. Therefore, it makes sense to cache the results for efficiency.\n",
    "\n",
    "In-built 'lre-cache' requires hashable input. Arrays have to be converted to hashable format, such as a tuple, using tuple(numpy array). This consumes memory and computation resource.\n",
    "\n",
    "Since there are few but very large arrays to store in this programme, use of python dictionary is more efficient. Hashing is not necessary, as key name lookup for so few arrays are sufficiently efficient.\n",
    "\n",
    "cache_decorator is implemented as a decorator. Arrays are cached as simple name-value pairs in cache_dictionary inside SVN_Tools.\n"
   ],
   "id": "cfcc9f7cdf414ec4"
  },
  {
   "metadata": {
    "ExecuteTime": {
     "end_time": "2025-01-20T06:32:13.565046Z",
     "start_time": "2025-01-20T06:32:13.543263Z"
    }
   },
   "cell_type": "code",
   "source": [
    "class SVMClassifier:\n",
    "    def __init__(self, data, labels, kernel='rbf', random_state=42):\n",
    "        self.kernel = kernel\n",
    "        self.random_state = random_state\n",
    "        self.model = SVC(kernel=self.kernel, random_state=self.random_state)\n",
    "        self.scaler = StandardScaler()\n",
    "        self.train_signals = self.bandpass_filter(data)\n",
    "        self.train_signals = self.scale_features(self.train_signals)\n",
    "        self.features = ''\n",
    "        self.labels = labels  # Labels don't require filtering\n",
    "\n",
    "\n",
    "    def bandpass_filter(self, data, low_hz=1, high_hz=50, sampling_frequency=256, order=4):\n",
    "        \"\"\"\n",
    "        # useful brain activity 1 - 50 Hz\n",
    "        # apply band filter. Remove > 50 Hz, and < 1 Hz frequencies\n",
    "        # Nyquist frequency is twice the frequency that can be reconstituted from data\n",
    "        # parameters to create filter using butter function from scipy.signal\n",
    "        \"\"\"\n",
    "        nyquist = 0.5 * sampling_frequency\n",
    "        low = low_hz / nyquist\n",
    "        high = high_hz / nyquist\n",
    "        b, a = butter(order, [low, high], btype='band')\n",
    "        return filtfilt(b, a, data, axis=-1)\n",
    "\n",
    "\n",
    "    def scale_features(self, data):\n",
    "        \"\"\"\n",
    "        Scales the train_signals to have zero mean and unit variance.\n",
    "        Assumes data shape is (samples, channels, datapoints).\n",
    "        \"\"\"\n",
    "        n_samples, n_channels, n_datapoints = data.shape\n",
    "        data_reshaped = data.reshape(n_samples, -1)  # Flatten channels and datapoints\n",
    "        scaled_data = self.scaler.fit_transform(data_reshaped)  # Scale using StandardScaler\n",
    "        return scaled_data.reshape(n_samples, n_channels, n_datapoints)  # Reshape back to original shape\n",
    "\n",
    "\n",
    "    def get_psd_features(self, data, save_to='', sampling_frequency=256):\n",
    "        if save_to:\n",
    "            save_to =  'psd_features.csv' + save_to\n",
    "        if save_to and os.path.exists(save_to):\n",
    "            print(\"PSD features already exist. Loading from file.\")\n",
    "            return np.loadtxt(save_to, delimiter=',')\n",
    "\n",
    "\n",
    "\n",
    "        n_samples, n_channels, n_datapoints = data.shape\n",
    "        psd_features = []\n",
    "\n",
    "        for sample in range(n_samples):\n",
    "            sample_features = []\n",
    "            for channel in range(n_channels):\n",
    "                freqs, psd = welch(data[sample, channel], fs=sampling_frequency, nperseg=256)\n",
    "                sample_features.append(psd)\n",
    "            psd_features.append(np.concatenate(sample_features))\n",
    "\n",
    "        psd_features = np.array(psd_features)\n",
    "        if save_to:\n",
    "            np.savetxt(save_to, psd_features, delimiter=',')\n",
    "\n",
    "        self.feature = psd_features\n",
    "        return psd_features\n",
    "\n",
    "\n",
    "    # 'cmor' stands for Complex Morlet wavelet, common algorithm  for time-series wavelet analysis built into python wavelet transform module (pywt)\n",
    "    # 'cmor1.5-1.0' means Complex Morlet wave with bandwidth frequency 1.5 and centre frequency 1.0\n",
    "    def get_wavelet_features(self, data, scales=np.arange(1,30), wavelet='cmor1.5-1.0', save_to='')-> np.ndarray:\n",
    "        if save_to:\n",
    "            save_to =  'wavelet_features_' + save_to + '.csv'\n",
    "        if save_to and os.path.exists(save_to):\n",
    "            print(\"Wavelet features already exist. Loading from file.\")\n",
    "            wavelet_features = np.loadtxt(save_to, delimiter=',')\n",
    "            self.features = wavelet_features  # Ensure the features attribute is updated\n",
    "            return wavelet_features\n",
    "\n",
    "        n_samples, n_channels, n_datapoints = data.shape\n",
    "        wavelet_features = []\n",
    "\n",
    "        for sample in range(n_samples):\n",
    "            sample_features = []\n",
    "            for channel in range(n_channels):\n",
    "                coeffs, _ = pywt.cwt(data[sample, channel], scales, wavelet)\n",
    "                power = np.abs(coeffs) ** 2\n",
    "                mean_power = np.mean(power, axis=1)\n",
    "                sample_features.append(mean_power)\n",
    "            wavelet_features.append(np.concatenate(sample_features))\n",
    "\n",
    "        wavelet_features = np.array(wavelet_features)\n",
    "        if save_to:\n",
    "            np.savetxt(save_to, wavelet_features, delimiter=',')\n",
    "\n",
    "        self.features = wavelet_features  # Ensure the features attribute is updated\n",
    "        print(\"Wavelet features shape:\", self.features.shape) # Debugging line\n",
    "        return wavelet_features\n",
    "\n",
    "    def parameter_tuning(self, features, labels, param_grid, cv=3):\n",
    "        grid_search = GridSearchCV(SVC(random_state=self.random_state), param_grid, cv=cv, n_jobs=-1)\n",
    "        grid_search.fit(features, labels)\n",
    "        print(\"Best parameters found:\", grid_search.best_params_)\n",
    "        self.model = grid_search.best_estimator_\n",
    "        return grid_search.best_params_\n",
    "\n",
    "    def train_and_evaluate(self, test_size=0.2):\n",
    "        # Check features are available\n",
    "        if self.features.shape[0] == 0:\n",
    "            raise ValueError(\"Features not populated. Please run a feature extraction method like get_wavelet_features first.\")\n",
    "\n",
    "        X_train, X_test, y_train, y_test = train_test_split(self.features, self.labels, test_size=test_size, random_state=self.random_state)\n",
    "        self.model.fit(X_train, y_train)\n",
    "        predictions = self.model.predict(X_test)\n",
    "\n",
    "        accuracy = accuracy_score(y_test, predictions)\n",
    "        report = classification_report(y_test, predictions)\n",
    "        return accuracy, report\n",
    "\n",
    "\n",
    "    def evaluate(self,test_data, test_labels):\n",
    "        \"\"\"\n",
    "        Evaluate using separate data not seen during training to prevent data leaks\n",
    "        \"\"\"\n",
    "        # pre-process to keep 1 -50 Hz frequency\n",
    "        test_data = self.bandpass_filter(test_data)\n",
    "        # pre-process to  normalised data\n",
    "        test_data = self.scale_features(test_data)\n",
    "        # SVC model from sklearn takes 2 dimensions input or less\n",
    "        # reshape to keep last dimension value from input test_data.shape[-1]\n",
    "        # -1 argument in reshape tells numpy to auto-calculate dimensions.\n",
    "        test_data = test_data.reshape(-1, test_data.shape[-1])\n",
    "        # predict on new data\n",
    "        predictions = self.model.predict(test_data)\n",
    "        # compare to test labels\n",
    "        accuracy = accuracy_score(test_labels, predictions)\n",
    "        # print evaluation metrics\n",
    "        report = classification_report(test_labels, predictions)\n",
    "        return accuracy, report\n"
   ],
   "id": "a4f0ec9c3fdc1e2b",
   "outputs": [],
   "execution_count": 7
  },
  {
   "metadata": {},
   "cell_type": "markdown",
   "source": [
    "#### Implemented coding techniques\n",
    "Efforts have been taken emphasising code reuse, error handling, robustness, interoperability and scalability .\n",
    "These are steps taken in SVM_Tools class.\n",
    "\n",
    "1. Code reuse: Pre-processing tool like PSD, WA, and training, cross validation steps are defined as separate methods inside SVM_Tools class. A\n",
    "2. Improve data handling resilience through input data dimensions and type validations. Example: validate_data method.\n",
    "3. Improve memory efficiency by caching large arrays, such as wavelet analysis outputs, instead of repeating calculations whenever wavelet transformation of data is needed. Example: get_wavelet method.\n",
    "4. Improve CPU efficiency with parallel processing. RandomSearchCV, when n_jobs set to -1 uses maximal cores.\n",
    "5. Testing, such as unit test custom methods for input types, boundary cases improves code robustness. This is perform separately in notebook “test_svm_tools.ipynb”. Notebook instead of single python file is chosen for ease of markings, and consistency in submitted file types.\n",
    "Example: tst_svm_toolss.ipynb – unit test ensuring correct dimensions, and type for get_psd, get_wavelet methods. Unit test for successful caching and retrieval for cache_decorators method.\n",
    "6. Modularity and scalability is achieved by breaking codes into different methods in a common class.\n",
    "7. Save files to common formats such as npy or csv, for ease interoperability.\n",
    "\n",
    "Potential works for next iteration\n",
    " - \tBreak get_wavelet method. Currently method does filter and wavelet analysis. Best practice requires a method to address a single concern. ‘get_wavelet’ could be broken into filter and wavelet analysis\n",
    " -\tSpeed up time consuming ‘get_wavelet’ function could be achieved with parallel processing. Joblib library is a good option to recode this function for parallel processing\n"
   ],
   "id": "2614f9ecfbd94282"
  },
  {
   "metadata": {},
   "cell_type": "markdown",
   "source": [
    "Classes available:\n",
    "1. BaseDense class for setting up, training and evaluating neural network using dense layer from tensorflow library.\n",
    "2. SVM_Tools class for setting up, training and evaluating support vector machine classifier from sklearn library.\n",
    "3. EdfToNpy class is available to convert edf format to numpy readable format in file convert_raw.ipynb."
   ],
   "id": "fa8d30ca1044bb85"
  },
  {
   "metadata": {},
   "cell_type": "markdown",
   "source": [
    "##### Instantiate SVM class and model training\n",
    "\n",
    "1-second window segmented EEG is stored in:\n",
    "- `train_signals` for training data\n",
    "- `train_labels` for training labels\n",
    "\n",
    "10-second window segmented EEG is stored in:\n",
    "- `train_signals_10s` for training data\n",
    "- `train_labels_10s` for training labels\n",
    "\n",
    "\n",
    "\n"
   ],
   "id": "520c878ddfcb5434"
  },
  {
   "metadata": {
    "ExecuteTime": {
     "end_time": "2025-01-20T06:32:35.318678Z",
     "start_time": "2025-01-20T06:32:28.903358Z"
    }
   },
   "cell_type": "code",
   "source": [
    "# 1 second window train_signals, train_labels, 10-second segmentation window: train_signals_10s, and train_labels_10s\n",
    "# CHB-MIT has sampling rate of 256Hz. Brain waves range from 1 - 50 H\n",
    "# Band filter applied during initialisation of SVMClassifier\n",
    "svm_1s_model = SVMClassifier(train_signals, train_labels)\n",
    "#svm_10s_model = SVMClassifier(train_10sec, labels_10sec)"
   ],
   "id": "1ae08aaa0c988f6a",
   "outputs": [],
   "execution_count": 8
  },
  {
   "metadata": {
    "ExecuteTime": {
     "end_time": "2025-01-20T06:45:34.458663Z",
     "start_time": "2025-01-20T06:32:36.050133Z"
    }
   },
   "cell_type": "code",
   "source": [
    "# wavelet features is automatically saved to 'wavelet_features.csv'\n",
    "# as computation takes 20+ minutes, when present wavelet_features are downloaded from wavelet_features.csv\n",
    "svm_1s_model.get_wavelet_features(train_signals, save_to='1')"
   ],
   "id": "cbfdeef989deb076",
   "outputs": [
    {
     "name": "stdout",
     "output_type": "stream",
     "text": [
      "Wavelet features shape: (37666, 667)\n"
     ]
    },
    {
     "data": {
      "text/plain": [
       "array([[3.95918764e-01, 2.23869770e-01, 6.10945805e-01, ...,\n",
       "        0.00000000e+00, 0.00000000e+00, 0.00000000e+00],\n",
       "       [4.61898934e-01, 4.39053812e-01, 8.87175117e+00, ...,\n",
       "        4.86170458e+01, 6.10267863e+01, 7.61064999e+01],\n",
       "       [4.04894754e+01, 1.45023982e+02, 2.54028613e+02, ...,\n",
       "        4.67449069e+03, 4.80829150e+03, 4.86971080e+03],\n",
       "       ...,\n",
       "       [8.66257499e-01, 1.37844828e+00, 1.08708613e+01, ...,\n",
       "        1.15924392e+02, 1.01093234e+02, 8.74552952e+01],\n",
       "       [2.81597143e-01, 3.44721729e-01, 1.90219295e+00, ...,\n",
       "        4.94887095e+02, 5.28643619e+02, 5.68043741e+02],\n",
       "       [1.59945976e-01, 3.84702690e-01, 6.66970564e+00, ...,\n",
       "        0.00000000e+00, 0.00000000e+00, 0.00000000e+00]])"
      ]
     },
     "execution_count": 9,
     "metadata": {},
     "output_type": "execute_result"
    }
   ],
   "execution_count": 9
  },
  {
   "metadata": {
    "ExecuteTime": {
     "end_time": "2025-01-18T03:57:33.163070Z",
     "start_time": "2025-01-18T03:55:05.508632Z"
    }
   },
   "cell_type": "code",
   "source": [
    "print(\"\\n--- Wavelet Features (1-second window) ---\")\n",
    "wavelet_accuracy_1s, wavelet_report_1s = svm_1s_model.train_and_evaluate()\n",
    "print(f\"Training dataset- Accuracy: {wavelet_accuracy_1s:.4f}\\n{wavelet_report_1s}\")"
   ],
   "id": "1c52eab0b9649dbd",
   "outputs": [
    {
     "name": "stdout",
     "output_type": "stream",
     "text": [
      "\n",
      "--- Wavelet Features (1-second window) ---\n",
      "Training dataset- Accuracy: 0.8490\n",
      "              precision    recall  f1-score   support\n",
      "\n",
      "           0       0.85      0.98      0.91      5972\n",
      "           1       0.83      0.34      0.49      1562\n",
      "\n",
      "    accuracy                           0.85      7534\n",
      "   macro avg       0.84      0.66      0.70      7534\n",
      "weighted avg       0.85      0.85      0.82      7534\n",
      "\n"
     ]
    }
   ],
   "execution_count": 38
  },
  {
   "metadata": {},
   "cell_type": "markdown",
   "source": [
    "\"*train_wavelet*\" stores wavelet transformed train_signals.\n",
    "\n",
    "\"*train_labels*\"  stores corresponding seizure labels.\n",
    "\n",
    "**Train Support Vector Machine Classifier**"
   ],
   "id": "170ef84ed1319582"
  },
  {
   "metadata": {},
   "cell_type": "markdown",
   "source": " >Baseline SVM model using C=1, kernel='linear' achieve a recall score of 34% for seizure detection",
   "id": "9eb50ba2281a67f6"
  },
  {
   "metadata": {},
   "cell_type": "markdown",
   "source": [
    "#### First Iteration\n",
    "Pre-process raw CHB-MIT samples. Segment to **10-second** windows.\n",
    "\n",
    "Performed in convert_raw.ipynb notebook and stored as **10sec_signals.npy** with corresponding binary labels (1 for seizure, 0 for no seizure) as **10sec_labels.npy**\n",
    "\n",
    "Split data into training and testing sets"
   ],
   "id": "a80d19be2518dbf"
  },
  {
   "metadata": {
    "ExecuteTime": {
     "end_time": "2025-02-10T07:56:20.716870Z",
     "start_time": "2025-02-10T07:56:19.960342Z"
    }
   },
   "cell_type": "code",
   "source": [
    "# import numpy datasets\n",
    "\n",
    "path_10signal = \"10sec_signals.npy\"\n",
    "path_10labels = \"10sec_labels.npy\"\n",
    "train_10sec = np.load(path_10signal)\n",
    "labels_10sec =  np.load(path_10labels)\n",
    "\n",
    "unique, counts = np.unique(labels_10sec, return_counts=True)\n",
    "print(f\"Non-seizure: {counts[0]} samples, seizure: {counts[1]} samples\")\n",
    "print(f\"10sec_signals' data shape is {train_10sec.shape}\")\n",
    "print(f\"10sec_labels shape is {labels_10sec.shape}\")\n",
    "print(f\"Proportion of seizure samples = {counts[1]/counts[0]:.3}%\")\n",
    "\n"
   ],
   "id": "e229521328f27382",
   "outputs": [
    {
     "name": "stdout",
     "output_type": "stream",
     "text": [
      "Non-seizure: 6744 samples, seizure: 2606 samples\n",
      "10sec_signals' data shape is (9350, 23, 2560)\n",
      "10sec_labels shape is (9350,)\n",
      "Proportion of seizure samples = 0.386%\n"
     ]
    }
   ],
   "execution_count": 8
  },
  {
   "metadata": {
    "ExecuteTime": {
     "end_time": "2025-02-10T07:56:47.959405Z",
     "start_time": "2025-02-10T07:56:47.364021Z"
    }
   },
   "cell_type": "code",
   "source": [
    "# set random state to allow same sample each time notebook is run\n",
    "train_10sec_data, test_10sec_data, train_10sec_labels, test_10sec_labels = train_test_split(\n",
    "    train_10sec, labels_10sec, test_size=0.2, shuffle=True, stratify=np.ravel(labels_10sec), random_state=100)\n",
    "print(f\"shape of train_10sec_data: {train_10sec_data.shape}, shape of train_10sec_labels: {train_10sec_labels.shape}\")\n",
    "print(f\"shape of test_10sec_data: {test_10sec_data.shape}, shape of test_10sec_labels: {test_10sec_labels.shape}\")\n"
   ],
   "id": "c2bb985df24126d2",
   "outputs": [
    {
     "name": "stdout",
     "output_type": "stream",
     "text": [
      "shape of train_10sec_data: (7480, 23, 2560), shape of train_10sec_labels: (7480,)\n",
      "shape of test_10sec_data: (1870, 23, 2560), shape of test_10sec_labels: (1870,)\n"
     ]
    }
   ],
   "execution_count": 9
  },
  {
   "metadata": {},
   "cell_type": "markdown",
   "source": [
    "#### Normalise dataset\n",
    "\n",
    "This ensures faster convergence and numerical stability especially for neural network and support vector machine models"
   ],
   "id": "a73db4e91a99ceed"
  },
  {
   "metadata": {
    "ExecuteTime": {
     "end_time": "2025-02-10T06:27:48.376299Z",
     "start_time": "2025-02-10T06:27:48.360488Z"
    }
   },
   "cell_type": "code",
   "source": [
    "# def normalise_data(X_train: np.ndarray, X_test: np.ndarray, scaler: str = StandardScaler()) -> tuple:\n",
    "#     \"\"\"Default to MinMaxScaler\"\"\"\n",
    "#\n",
    "#     # Holder numpy array for normalised values\n",
    "#     test_norm= np.zeros(shape=(X_train.shape), dtype='float32')\n",
    "#     test_10sec_norm = np.zeros(shape=(X_test.shape), dtype='float32')\n",
    "#\n",
    "#     # Iterate over each channel (samples, channel, features)\n",
    "#     for channel in range(X_train.shape[1]):  # Iterate over channels in dataset\n",
    "#         train_10sec_norm[:, channel, :] = scaler.fit_transform(X_train[:, channel, :])  # Fit and apply normaliser on current channel in train subset\n",
    "#         test_10sec_norm[:, channel, :] = scaler.transform(X_test[:, channel, :])  # Apply normaliser on current channel in test subset\n",
    "#\n",
    "#     return train_10sec_norm, test_10sec_norm\n"
   ],
   "id": "b9b8fcc4fa7f35bf",
   "outputs": [],
   "execution_count": 10
  },
  {
   "metadata": {
    "ExecuteTime": {
     "end_time": "2025-02-10T06:27:57.153138Z",
     "start_time": "2025-02-10T06:27:52.600054Z"
    }
   },
   "cell_type": "code",
   "source": [
    "train_10sec_norm, test_10sec_norm = normalise_data(train_10sec_data, test_10sec_data)\n",
    "print(f\"train_10sec_norm: {train_10sec_norm.shape}\")\n",
    "print(f\"test_10sec_norm: {test_10sec_norm.shape}\")"
   ],
   "id": "481b2fd8e3201eda",
   "outputs": [
    {
     "name": "stdout",
     "output_type": "stream",
     "text": [
      "train_10sec_norm: (18453, 23, 1024)\n",
      "test_10sec_norm: (4614, 23, 1024)\n"
     ]
    }
   ],
   "execution_count": 11
  },
  {
   "metadata": {},
   "cell_type": "markdown",
   "source": [
    "#### Common sense baseline\n",
    "\n",
    "This 10-sec window dataset contains 116 seizure samples and 9413 non-seizure samples. 0.0123% are seizure samples.\n",
    "\n",
    "> Target sensitivity or recall of 80%\n"
   ],
   "id": "3b5d0c9ad70a68e1"
  },
  {
   "metadata": {},
   "cell_type": "markdown",
   "source": "#### Baseline using dense neural network and 10-second window",
   "id": "8d5b3367ee47e74f"
  },
  {
   "metadata": {
    "ExecuteTime": {
     "end_time": "2025-01-25T05:30:57.827454Z",
     "start_time": "2025-01-25T05:26:08.867995Z"
    }
   },
   "cell_type": "code",
   "source": [
    "nn_10sec = BaseDense(train_10sec_data, train_10sec_labels, test_10sec_data, test_10sec_labels)\n",
    "# standardise data range\n",
    "# pre-process standard scaler is method built into BaseDense class by calling pre_process\n",
    "nn_10sec.pre_process()\n",
    "nn_10sec.train()"
   ],
   "id": "f916a6a71a217be1",
   "outputs": [
    {
     "name": "stdout",
     "output_type": "stream",
     "text": [
      "111/111 [==============================] - 4s 34ms/step - loss: 3.6283 - mae: 0.3435 - recall: 0.3560 - precision: 0.3896\n",
      "Training loss , mae , recall : [3.6282804012298584, 0.3435359001159668, 0.35598376393318176, 0.38956713676452637]\n"
     ]
    },
    {
     "data": {
      "text/plain": [
       "<Figure size 640x480 with 1 Axes>"
      ],
      "image/png": "[encoded data removed]"
     },
     "metadata": {},
     "output_type": "display_data"
    }
   ],
   "execution_count": 12
  },
  {
   "metadata": {
    "ExecuteTime": {
     "end_time": "2025-01-25T05:31:07.659120Z",
     "start_time": "2025-01-25T05:30:57.906494Z"
    }
   },
   "cell_type": "code",
   "source": [
    "# test set comprises 30% of full set\n",
    "nn_10sec.evaluate()"
   ],
   "id": "21a7352d54f089fc",
   "outputs": [
    {
     "name": "stdout",
     "output_type": "stream",
     "text": [
      "111/111 [==============================] - 4s 39ms/step - loss: 3.6283 - mae: 0.3435 - recall: 0.3560 - precision: 0.3896\n",
      " loss: 3.6283 , mae: 0.3435 , recall: 0.3560, precision: 0.3896\n",
      "111/111 [==============================] - 4s 38ms/step\n",
      "\n",
      " Confusion Matrix:\n"
     ]
    },
    {
     "data": {
      "text/plain": [
       "<Figure size 640x480 with 2 Axes>"
      ],
      "image/png": "[encoded data removed]"
     },
     "metadata": {},
     "output_type": "display_data"
    },
    {
     "data": {
      "text/plain": [
       "array([[2005,  550],\n",
       "       [ 635,  351]], dtype=int64)"
      ]
     },
     "execution_count": 13,
     "metadata": {},
     "output_type": "execute_result"
    }
   ],
   "execution_count": 13
  },
  {
   "metadata": {},
   "cell_type": "markdown",
   "source": [
    "#### Dense Layer Neural Network Model\n",
    "I have implemented the 10-second window segmentation class in a separate notebook: *convert_raw.ipynb*. This pushes the recall value beyond the target of 80%, as suggested by Wang.\n",
    "\n",
    "Increasing the window size from 1 to 10 seconds, as proposed by Alzahy (2019) [4], however leads to a\n",
    "> drop in recall from **0.56** to **0.25**.\n",
    "\n",
    "- In the 1-second dataset, of 29,592 total samples, **27%** are seizure positive.\n",
    "- In the 10-second dataset, of 11,802 total samples, **38%** are seizure positive\n",
    "\n",
    "***Explanations***\n",
    "\n",
    "1. It is easier to discriminate a smaller seizure subset from larger samples than a smaller seizure subset in a smaller pool.\n",
    "2. 10-second samples are more complex to learn from. However, this mimics real-world seizures better than 1-second EEG samples.\n",
    "\n",
    "***Steps for Next Iteration***\n",
    "1. Longer training (currently, epochs = 20)\n",
    "2. Parameter tuning. This step is delayed until the latter part of the project to expedite building early models.\n",
    "3. Cross-validation to achieve consistency across different subsets.\n",
    "4. Use more balanced 10-second samples.\n",
    "5. Feature extraction for better discrimination. This applies better to non-neural network models. Will apply to Support Vector Machine model.\n",
    "6. For neural network models, will use convolution and Long Short-Term Memory models to help auto-learn features and fit"
   ],
   "id": "6aa6e5a399918877"
  },
  {
   "metadata": {},
   "cell_type": "markdown",
   "source": "#### SVM model trained on 10-second window segmented data",
   "id": "3282f76c094dd064"
  },
  {
   "metadata": {
    "ExecuteTime": {
     "end_time": "2025-01-20T07:39:21.038202Z",
     "start_time": "2025-01-20T07:38:24.610547Z"
    }
   },
   "cell_type": "code",
   "source": "svm_10s_model = SVMClassifier(train_10sec, labels_10sec)",
   "id": "2e06a9c2f229af5",
   "outputs": [],
   "execution_count": 13
  },
  {
   "metadata": {
    "ExecuteTime": {
     "end_time": "2025-01-20T08:07:18.858264Z",
     "start_time": "2025-01-20T07:39:26.900553Z"
    }
   },
   "cell_type": "code",
   "source": "svm_10s_model.get_wavelet_features(train_10sec,save_to='10')",
   "id": "8f78cbea09f19394",
   "outputs": [
    {
     "name": "stdout",
     "output_type": "stream",
     "text": [
      "Wavelet features shape: (11802, 667)\n"
     ]
    },
    {
     "data": {
      "text/plain": [
       "array([[  5.097238 ,   4.6018906,  35.891907 , ..., 413.33472  ,\n",
       "        482.81622  , 560.7572   ],\n",
       "       [  2.3305485,   1.9077858,  14.53631  , ..., 306.33936  ,\n",
       "        330.71384  , 358.83575  ],\n",
       "       [  8.044469 ,  14.519121 ,  94.11857  , ..., 691.394    ,\n",
       "        699.57874  , 720.76337  ],\n",
       "       ...,\n",
       "       [  1.5026666,   5.434125 ,   9.957453 , ..., 347.41565  ,\n",
       "        384.9178   , 427.09317  ],\n",
       "       [  1.0748962,   1.0056086,   5.208766 , ..., 639.83264  ,\n",
       "        688.69727  , 731.94885  ],\n",
       "       [  1.1298566,   2.1076827,   8.9242325, ..., 778.3595   ,\n",
       "        883.25916  , 982.66064  ]], dtype=float32)"
      ]
     },
     "execution_count": 14,
     "metadata": {},
     "output_type": "execute_result"
    }
   ],
   "execution_count": 14
  },
  {
   "metadata": {},
   "cell_type": "markdown",
   "source": "",
   "id": "4fe1c5a71dedae92"
  },
  {
   "metadata": {
    "ExecuteTime": {
     "end_time": "2025-01-18T04:58:31.822721Z",
     "start_time": "2025-01-18T04:58:06.698855Z"
    }
   },
   "cell_type": "code",
   "source": [
    "print(\"\\n--- Wavelet Features (10-second window) ---\")\n",
    "wavelet_accuracy_10s, wavelet_report_10s = svm_10s_model.train_and_evaluate()\n",
    "print(f\"Accuracy: {wavelet_accuracy_10s:.4f}\\n{wavelet_report_10s}\")"
   ],
   "id": "396cea25978f8570",
   "outputs": [
    {
     "name": "stdout",
     "output_type": "stream",
     "text": [
      "\n",
      "--- Wavelet Features (1-second window) ---\n",
      "Accuracy: 0.8263\n",
      "              precision    recall  f1-score   support\n",
      "\n",
      "           0       0.82      0.98      0.89      1750\n",
      "           1       0.88      0.38      0.53       611\n",
      "\n",
      "    accuracy                           0.83      2361\n",
      "   macro avg       0.85      0.68      0.71      2361\n",
      "weighted avg       0.83      0.83      0.80      2361\n",
      "\n"
     ]
    }
   ],
   "execution_count": 45
  },
  {
   "metadata": {},
   "cell_type": "markdown",
   "source": [
    "#### Comparing 1-second vs 10-second segmentation of CHG-MIT dataset\n",
    "\n",
    "| Segmentation | Precision | Recall |\n",
    "|--------------|-----------|--------|\n",
    "| 1-second window | 0.83 | 0.34 |\n",
    "| 10-second window | 0.88 | 0.38 |\n",
    "\n",
    "\n",
    "> There is **12%** (rounded) increase in recall score using my own 10-second window segmented CHB-MIT EEG dataset.\n",
    "\n"
   ],
   "id": "646e5ac75b66b5a3"
  },
  {
   "metadata": {},
   "cell_type": "markdown",
   "source": "#### Bi-LSTM model",
   "id": "2a83f15ad32eb4c4"
  },
  {
   "metadata": {},
   "cell_type": "markdown",
   "source": [
    "The bidirectional LSTM architecture implemented follows Deepa’s design (2022).\n",
    "It consists of 3 bidirectional layers,\n",
    " - Bidirectional LSTM with 128 neurons\n",
    " - Dropout layer with ratio 0.3\n",
    " - Bidirectional LSTM with 64 neurons\n",
    " - Dropout layer with ratio 0.3\n",
    " - Bidirectional LSTM with 32 neurons\n",
    " - Dense binary classification layer with sigmoid activation function.\n",
    "\n",
    "\n"
   ],
   "id": "70a829b6b23c1b4b"
  },
  {
   "metadata": {
    "ExecuteTime": {
     "end_time": "2025-01-16T06:38:29.358690Z",
     "start_time": "2025-01-16T06:38:29.332775Z"
    }
   },
   "cell_type": "code",
   "source": [
    "\n",
    "\n",
    "class RnnModel:\n",
    "    def __init__(self, train_signals, train_labels, test_signals, test_labels):\n",
    "        self.train_signals = train_signals\n",
    "        self.train_labels = train_labels\n",
    "        self.test_signals = test_signals\n",
    "        self.test_labels = test_labels\n",
    "        self.model = None\n",
    "        self.recall = None\n",
    "\n",
    "    def train(self):\n",
    "        # Instantiate sequential API\n",
    "        model = Sequential()\n",
    "\n",
    "        timesteps = self.train_signals.shape[1]\n",
    "        features = self.train_signals.shape[2]\n",
    "\n",
    "        # Add first Bidirectional LSTM layer\n",
    "        model.add(Bidirectional(LSTM(128, return_sequences=True), input_shape=(timesteps, features)))\n",
    "        # Add dropout to prevent overfitting\n",
    "        model.add(Dropout(0.3))\n",
    "\n",
    "        # Add second Bidirectional LSTM layer\n",
    "        model.add(Bidirectional(LSTM(64, return_sequences=True)))\n",
    "        # Add dropout to prevent overfitting\n",
    "        model.add(Dropout(0.3))\n",
    "\n",
    "        # Add third Bidirectional LSTM layer\n",
    "        model.add(Bidirectional(LSTM(32)))\n",
    "\n",
    "        # Output layer with 1 neuron and sigmoid activation for binary classification\n",
    "        model.add(Dense(1, activation='sigmoid'))\n",
    "\n",
    "        # Compile the model with binary cross-entropy loss and Adam optimizer\n",
    "        model.compile(optimizer='adam', loss='binary_crossentropy', metrics=['Recall', 'Precision'])\n",
    "\n",
    "        history = model.fit(self.train_signals, self.train_labels, epochs=10, batch_size=64, validation_split=0.3)\n",
    "        self.model = model\n",
    "        self.recall = history.history['val_recall']\n",
    "\n",
    "        # plot recall vs epochs graph\n",
    "        epochs = range(1,len(self.recall)+1)\n",
    "        recall = self.recall\n",
    "        plt.plot(epochs, recall)\n",
    "        plt.ylabel('Recall')\n",
    "        plt.xlabel('Epochs')\n",
    "        plt.legend(['Train', 'Test'], loc='upper left')\n",
    "        plt.show()\n",
    "\n",
    "    def evaluate(self):\n",
    "        loss, recall, precision  = self.model.evaluate(self.test_signals, self.test_labels)\n",
    "        print(f\"Test loss : {loss:.4f} , Test Recall : {recall:.4f} , Test Precision : {precision:.4f}\")\n",
    "\n",
    "        #prediction\n",
    "        y_prediction = ( self.model.predict(self.test_signals) >0.5).astype(int)\n",
    "        y_true = self.test_labels\n",
    "\n",
    "        # plot confusion matrix\n",
    "        cm = confusion_matrix(y_true, y_prediction)\n",
    "        cm_labels = [\"Non-seizure\", \"Seizure\" ]\n",
    "        ConfusionMatrixDisplay(confusion_matrix=cm, display_labels=cm_labels).plot(cmap=plt.cm.Blues)\n",
    "        plt.title('Test set: Confusion Matrix')\n",
    "        plt.show()\n",
    "\n",
    "\n"
   ],
   "id": "25feff818edc6869",
   "outputs": [],
   "execution_count": 6
  },
  {
   "metadata": {
    "ExecuteTime": {
     "end_time": "2025-01-16T06:49:53.163837Z",
     "start_time": "2025-01-16T06:39:29.860892Z"
    }
   },
   "cell_type": "code",
   "source": [
    "bilstm = RnnModel(train_10sec_data, train_10sec_labels, test_10sec_data, test_10sec_labels)\n",
    "bilstm.train()\n"
   ],
   "id": "f63263e491092957",
   "outputs": [
    {
     "name": "stdout",
     "output_type": "stream",
     "text": [
      "Epoch 1/10\n",
      "91/91 [==============================] - 75s 699ms/step - loss: 0.0625 - recall: 0.9556 - precision: 0.9556 - val_loss: 0.0052 - val_recall: 0.9773 - val_precision: 0.9773\n",
      "Epoch 2/10\n",
      "91/91 [==============================] - 61s 672ms/step - loss: 0.0019 - recall: 1.0000 - precision: 0.9677 - val_loss: 0.0070 - val_recall: 0.9091 - val_precision: 0.9756\n",
      "Epoch 3/10\n",
      "91/91 [==============================] - 59s 653ms/step - loss: 4.1719e-04 - recall: 1.0000 - precision: 1.0000 - val_loss: 0.0049 - val_recall: 0.9545 - val_precision: 0.9767\n",
      "Epoch 4/10\n",
      "91/91 [==============================] - 60s 665ms/step - loss: 2.0143e-04 - recall: 1.0000 - precision: 1.0000 - val_loss: 0.0048 - val_recall: 0.9545 - val_precision: 0.9767\n",
      "Epoch 5/10\n",
      "91/91 [==============================] - 60s 658ms/step - loss: 1.2856e-04 - recall: 1.0000 - precision: 1.0000 - val_loss: 0.0052 - val_recall: 0.9545 - val_precision: 0.9767\n",
      "Epoch 6/10\n",
      "91/91 [==============================] - 60s 660ms/step - loss: 8.9286e-05 - recall: 1.0000 - precision: 1.0000 - val_loss: 0.0053 - val_recall: 0.9545 - val_precision: 0.9767\n",
      "Epoch 7/10\n",
      "91/91 [==============================] - 63s 689ms/step - loss: 6.8071e-05 - recall: 1.0000 - precision: 1.0000 - val_loss: 0.0053 - val_recall: 0.9545 - val_precision: 0.9767\n",
      "Epoch 8/10\n",
      "91/91 [==============================] - 63s 690ms/step - loss: 5.2124e-05 - recall: 1.0000 - precision: 1.0000 - val_loss: 0.0054 - val_recall: 0.9545 - val_precision: 0.9767\n",
      "Epoch 9/10\n",
      "91/91 [==============================] - 61s 673ms/step - loss: 4.3450e-05 - recall: 1.0000 - precision: 1.0000 - val_loss: 0.0055 - val_recall: 0.9545 - val_precision: 0.9767\n",
      "Epoch 10/10\n",
      "91/91 [==============================] - 59s 653ms/step - loss: 3.6146e-05 - recall: 1.0000 - precision: 1.0000 - val_loss: 0.0056 - val_recall: 0.9545 - val_precision: 0.9767\n"
     ]
    }
   ],
   "execution_count": 9
  },
  {
   "metadata": {
    "ExecuteTime": {
     "end_time": "2025-01-16T07:05:43.004314Z",
     "start_time": "2025-01-16T07:05:05.807030Z"
    }
   },
   "cell_type": "code",
   "source": "bilstm.evaluate()",
   "id": "2bd61088d19d71c",
   "outputs": [
    {
     "name": "stdout",
     "output_type": "stream",
     "text": [
      "111/111 [==============================] - 18s 156ms/step - loss: 0.0041 - recall: 1.0000 - precision: 0.9636\n",
      "Test loss : 0.0041 , Test Recall : 1.0000 , Test Precision : 0.9636\n",
      "111/111 [==============================] - 19s 169ms/step\n"
     ]
    },
    {
     "data": {
      "text/plain": [
       "<Figure size 640x480 with 2 Axes>"
      ],
      "image/png": "[encoded data removed]"
     },
     "metadata": {},
     "output_type": "display_data"
    },
    {
     "data": {
      "text/plain": [
       "<Figure size 640x480 with 1 Axes>"
      ],
      "image/png": "[encoded data removed]"
     },
     "metadata": {},
     "output_type": "display_data"
    }
   ],
   "execution_count": 11
  },
  {
   "metadata": {},
   "cell_type": "markdown",
   "source": [
    "> During training recall score is **0.9545** and precision is **0.9767** on validation set\n",
    "\n",
    "> Evaluating on reserved test (not used during training) gives recall score of  **1.0000** , and precision of **0.9636**\n",
    ">\n",
    "> Conclusion, high recall score on training validation and test set provides confidence we are able to achieve recall target of **0.8** or 80%\n"
   ],
   "id": "f270d412f651228d"
  },
  {
   "metadata": {
    "ExecuteTime": {
     "end_time": "2024-12-23T15:47:08.767611Z",
     "start_time": "2024-12-23T15:39:03.468783Z"
    }
   },
   "cell_type": "code",
   "source": [
    "# Reattempt with 1 second data\n",
    "sec1_model  = RnnModel(train_signals,train_labels, val_signals,val_labels)\n",
    "sec1_model.train()\n"
   ],
   "id": "7bfb869969cfb51a",
   "outputs": [
    {
     "name": "stdout",
     "output_type": "stream",
     "text": [
      "Epoch 1/10\n",
      "412/412 [==============================] - 60s 125ms/step - loss: 0.4673 - recall: 0.1754 - precision: 0.6271 - val_loss: 0.4491 - val_recall: 0.2640 - val_precision: 0.6643\n",
      "Epoch 2/10\n",
      "412/412 [==============================] - 47s 114ms/step - loss: 0.4354 - recall: 0.2880 - precision: 0.6976 - val_loss: 0.4411 - val_recall: 0.2447 - val_precision: 0.7095\n",
      "Epoch 3/10\n",
      "412/412 [==============================] - 46s 112ms/step - loss: 0.4164 - recall: 0.3207 - precision: 0.7206 - val_loss: 0.4293 - val_recall: 0.3132 - val_precision: 0.6717\n",
      "Epoch 4/10\n",
      "412/412 [==============================] - 46s 113ms/step - loss: 0.4034 - recall: 0.3546 - precision: 0.7440 - val_loss: 0.4256 - val_recall: 0.2574 - val_precision: 0.7333\n",
      "Epoch 5/10\n",
      "412/412 [==============================] - 47s 114ms/step - loss: 0.3888 - recall: 0.3835 - precision: 0.7499 - val_loss: 0.4270 - val_recall: 0.2952 - val_precision: 0.7337\n",
      "Epoch 6/10\n",
      "412/412 [==============================] - 47s 115ms/step - loss: 0.3749 - recall: 0.4078 - precision: 0.7533 - val_loss: 0.4318 - val_recall: 0.2919 - val_precision: 0.7012\n",
      "Epoch 7/10\n",
      "412/412 [==============================] - 48s 116ms/step - loss: 0.3630 - recall: 0.4459 - precision: 0.7639 - val_loss: 0.4296 - val_recall: 0.3087 - val_precision: 0.7203\n",
      "Epoch 8/10\n",
      "412/412 [==============================] - 47s 115ms/step - loss: 0.3482 - recall: 0.4686 - precision: 0.7752 - val_loss: 0.4154 - val_recall: 0.3576 - val_precision: 0.7053\n",
      "Epoch 9/10\n",
      "412/412 [==============================] - 48s 116ms/step - loss: 0.3382 - recall: 0.5009 - precision: 0.7812 - val_loss: 0.4336 - val_recall: 0.3748 - val_precision: 0.6748\n",
      "Epoch 10/10\n",
      "412/412 [==============================] - 48s 116ms/step - loss: 0.3274 - recall: 0.5114 - precision: 0.7918 - val_loss: 0.4249 - val_recall: 0.3904 - val_precision: 0.6650\n"
     ]
    }
   ],
   "execution_count": 15
  },
  {
   "metadata": {
    "ExecuteTime": {
     "end_time": "2024-12-23T15:48:02.372477Z",
     "start_time": "2024-12-23T15:47:47.027363Z"
    }
   },
   "cell_type": "code",
   "source": "sec1_model.evaluate()",
   "id": "9251683fd897c8ee",
   "outputs": [
    {
     "name": "stdout",
     "output_type": "stream",
     "text": [
      "253/253 [==============================] - 7s 26ms/step - loss: 0.4307 - recall: 0.3886 - precision: 0.6709\n",
      "Test loss : 0.4307 , Test Recall : 0.3886 , Test Precision : 0.6709\n",
      "253/253 [==============================] - 8s 25ms/step\n"
     ]
    },
    {
     "data": {
      "text/plain": [
       "<Figure size 640x480 with 2 Axes>"
      ],
      "image/png": "[encoded data removed]"
     },
     "metadata": {},
     "output_type": "display_data"
    },
    {
     "data": {
      "text/plain": [
       "<Figure size 640x480 with 1 Axes>"
      ],
      "image/png": "[encoded data removed]"
     },
     "metadata": {},
     "output_type": "display_data"
    }
   ],
   "execution_count": 17
  },
  {
   "metadata": {},
   "cell_type": "raw",
   "source": [
    "# data extracted from raw EEG edf format data has 23 channels with 256 datapoints per sample (1 second). Frequency is 256 Hz.\n",
    "# feature to be extracted is the power spectral density for each channel\n",
    "def get_psd(data_signal, frequency=256, segment_length=256):\n",
    "    # sample size too large for single step processing. Resulted in out of memory error.\n",
    "    # Batch process data instead.\n",
    "\n",
    "    psd_features = []\n",
    "    for channel in data_signal:\n",
    "        freq, psd = welch(x=channel, fs=frequency, nperseg=segment_length)\n",
    "        psd_features.append(psd)\n",
    "    return np.array(psd_features)\n",
    "\n",
    "# Coding technique to optimise real time data handling and memory efficiency by batch processing.\n",
    "def get_psd_batch(data, batch_size=1000):\n",
    "    batch_size = 100\n",
    "    full_features = []\n",
    "    #pass batch size of samples to get_psd. Store it and concatenate all obtained result into single numpy array.\n",
    "    for start in range(0,train_signals.shape[1],batch_size):\n",
    "        end = min(start + batch_size, train_signals.shape[1])\n",
    "        each_batch = train_signals[:,start:end]\n",
    "        batch_psd = get_psd(each_batch)\n",
    "        full_features.append(batch_psd)\n",
    "\n",
    "    # each batch is appended as a numpy array into full_features. Concatenate the batches into a single batch (row wise).\n",
    "    full_features = np.concatenate(full_features, axis = 1)\n",
    "    return full_features\n",
    "\n",
    "def to_svm_input(data_signal):\n",
    "    \"\"\"convert to n_samples x n_features which is required for SVM model training\"\"\"\n",
    "    if data_signal.ndim == 2:\n",
    "        return\n",
    "    elif data_signal.ndim > 3:\n",
    "        # flatten to 2-D shape of (number samples, number features).  i.e. (number samples , channels X datapoints)\n",
    "        data_signal.reshape(data_signal,-1)\n",
    "    return data_signal\n",
    "\n",
    "\n"
   ],
   "id": "75880c4f11f5342f"
  },
  {
   "metadata": {
    "ExecuteTime": {
     "end_time": "2024-12-19T07:10:50.723781Z",
     "start_time": "2024-12-19T07:10:50.707829Z"
    }
   },
   "cell_type": "code",
   "source": "\n",
   "id": "a4f09996a4293ce1",
   "outputs": [],
   "execution_count": 52
  },
  {
   "metadata": {
    "ExecuteTime": {
     "end_time": "2025-01-16T07:20:06.040201Z",
     "start_time": "2025-01-16T07:20:06.007488Z"
    }
   },
   "cell_type": "code",
   "source": [
    "class PrototypeModel:\n",
    "    \"\"\"\n",
    "    Convolutional Long Short-Term Memory Network\n",
    "    \"\"\"\n",
    "    def __init__(self, train_signals, train_labels, test_signals, test_labels):\n",
    "        self.train_signals = train_signals\n",
    "        self.train_labels = train_labels\n",
    "        self.test_signals = test_signals\n",
    "        self.test_labels = test_labels\n",
    "        self.model = None\n",
    "        self.recall = None\n",
    "\n",
    "    def hybrid(self):\n",
    "        model = Sequential()\n",
    "        # First convolutional layer\n",
    "        model.add(Conv1D(filters=64, kernel_size=3, activation='relu', input_shape=self.train_signals.shape[1:]))\n",
    "        model.add(MaxPooling1D(pool_size=2))\n",
    "\n",
    "        # Second convolutional layer\n",
    "        model.add(Conv1D(filters=128, kernel_size=3, activation='relu'))\n",
    "        model.add(MaxPooling1D(pool_size=2))\n",
    "\n",
    "        # LSTM layer\n",
    "        model.add(LSTM(128, activation='relu', return_sequences=False))\n",
    "\n",
    "        # Output layer for binary classification\n",
    "        model.add(Dense(1, activation='sigmoid'))\n",
    "\n",
    "        # Compile the model\n",
    "        model.compile(loss='binary_crossentropy', optimizer='adam', metrics=['Recall', 'Precision'])\n",
    "        model.summary()\n",
    "\n",
    "        return model\n",
    "\n",
    "    def train(self):\n",
    "        # Instantiate and train the model\n",
    "        self.model = self.hybrid()\n",
    "        history = self.model.fit(self.train_signals, self.train_labels, epochs=10, batch_size=64, validation_split=0.3)\n",
    "        self.recall = history.history['val_recall']\n",
    "\n",
    "        # plot training recall score vs epochs\n",
    "        epochs = range(1, len(self.recall) + 1)\n",
    "        recall = self.recall\n",
    "        plt.plot(epochs, recall)\n",
    "        plt.ylabel('Recall')\n",
    "        plt.xlabel('Epochs')\n",
    "        plt.legend(['Train', 'Test'], loc='upper left')\n",
    "        plt.show()\n",
    "\n",
    "    def evaluate(self):\n",
    "        # Evaluate the model on the test set\n",
    "        loss, recall, precision = self.model.evaluate(self.test_signals, self.test_labels)\n",
    "        print(f\"Test loss: {loss:.4f}, Test Recall: {recall:.4f}, Test Precision: {precision:.4f}\")\n",
    "\n",
    "        # Generate predictions\n",
    "        y_prediction = (self.model.predict(self.test_signals) > 0.5).astype(int)\n",
    "        y_true = self.test_labels\n",
    "\n",
    "        # Plot confusion matrix\n",
    "        cm = confusion_matrix(y_true, y_prediction)\n",
    "        cm_labels = [\"Non-seizure\", \"Seizure\"]\n",
    "        ConfusionMatrixDisplay(confusion_matrix=cm, display_labels=cm_labels).plot(cmap=plt.cm.Blues)\n",
    "        plt.show()\n",
    "\n"
   ],
   "id": "9108aeb4fc5ae10a",
   "outputs": [],
   "execution_count": 12
  },
  {
   "metadata": {
    "ExecuteTime": {
     "end_time": "2025-01-16T07:58:14.588152Z",
     "start_time": "2025-01-16T07:56:50.099870Z"
    }
   },
   "cell_type": "code",
   "source": [
    "conv_lstm = PrototypeModel(train_10sec_data, train_10sec_labels, test_10sec_data, test_10sec_labels)\n",
    "conv_lstm.train()"
   ],
   "id": "4e91a2485c8a3658",
   "outputs": [
    {
     "name": "stdout",
     "output_type": "stream",
     "text": [
      "Model: \"sequential_4\"\n",
      "_________________________________________________________________\n",
      " Layer (type)                Output Shape              Param #   \n",
      "=================================================================\n",
      " conv1d_6 (Conv1D)           (None, 21, 64)            491584    \n",
      "                                                                 \n",
      " max_pooling1d_6 (MaxPooling  (None, 10, 64)           0         \n",
      " 1D)                                                             \n",
      "                                                                 \n",
      " conv1d_7 (Conv1D)           (None, 8, 128)            24704     \n",
      "                                                                 \n",
      " max_pooling1d_7 (MaxPooling  (None, 4, 128)           0         \n",
      " 1D)                                                             \n",
      "                                                                 \n",
      " lstm_6 (LSTM)               (None, 128)               131584    \n",
      "                                                                 \n",
      " dense_4 (Dense)             (None, 1)                 129       \n",
      "                                                                 \n",
      "=================================================================\n",
      "Total params: 648,001\n",
      "Trainable params: 648,001\n",
      "Non-trainable params: 0\n",
      "_________________________________________________________________\n",
      "Epoch 1/10\n",
      "91/91 [==============================] - 12s 97ms/step - loss: 1.9325 - recall: 0.8132 - precision: 0.9610 - val_loss: 0.5054 - val_recall: 1.0000 - val_precision: 0.9545\n",
      "Epoch 2/10\n",
      "91/91 [==============================] - 8s 91ms/step - loss: 0.4249 - recall: 0.9670 - precision: 0.9565 - val_loss: 7.3122 - val_recall: 0.5952 - val_precision: 0.9615\n",
      "Epoch 3/10\n",
      "91/91 [==============================] - 8s 91ms/step - loss: 2.1099 - recall: 0.9231 - precision: 0.9438 - val_loss: 1.6544 - val_recall: 0.9048 - val_precision: 0.9500\n",
      "Epoch 4/10\n",
      "91/91 [==============================] - 8s 89ms/step - loss: 4.8360 - recall: 0.9341 - precision: 0.9444 - val_loss: 1.2128 - val_recall: 1.0000 - val_precision: 0.9545\n",
      "Epoch 5/10\n",
      "91/91 [==============================] - 8s 88ms/step - loss: 0.9781 - recall: 0.9341 - precision: 0.9444 - val_loss: 0.4893 - val_recall: 1.0000 - val_precision: 0.9545\n",
      "Epoch 6/10\n",
      "91/91 [==============================] - 8s 88ms/step - loss: 2.8671 - recall: 0.9670 - precision: 0.9462 - val_loss: 0.7465 - val_recall: 0.9762 - val_precision: 0.9535\n",
      "Epoch 7/10\n",
      "91/91 [==============================] - 8s 87ms/step - loss: 0.2040 - recall: 0.9670 - precision: 0.9670 - val_loss: 0.6864 - val_recall: 1.0000 - val_precision: 0.9545\n",
      "Epoch 8/10\n",
      "91/91 [==============================] - 8s 86ms/step - loss: 0.5886 - recall: 0.9670 - precision: 0.9670 - val_loss: 0.6609 - val_recall: 1.0000 - val_precision: 0.9545\n",
      "Epoch 9/10\n",
      "91/91 [==============================] - 8s 88ms/step - loss: 1.4111 - recall: 0.9670 - precision: 0.9462 - val_loss: 0.6569 - val_recall: 0.9762 - val_precision: 0.9535\n",
      "Epoch 10/10\n",
      "91/91 [==============================] - 8s 85ms/step - loss: 3.7346 - recall: 0.9231 - precision: 0.9545 - val_loss: 1.8236 - val_recall: 1.0000 - val_precision: 0.9545\n"
     ]
    },
    {
     "data": {
      "text/plain": [
       "<Figure size 640x480 with 1 Axes>"
      ],
      "image/png": "[encoded data removed]"
     },
     "metadata": {},
     "output_type": "display_data"
    }
   ],
   "execution_count": 20
  },
  {
   "metadata": {
    "ExecuteTime": {
     "end_time": "2025-01-16T07:59:00.878733Z",
     "start_time": "2025-01-16T07:58:54.362045Z"
    }
   },
   "cell_type": "code",
   "source": "conv_lstm.evaluate()",
   "id": "f12765ca9a8070bf",
   "outputs": [
    {
     "name": "stdout",
     "output_type": "stream",
     "text": [
      "111/111 [==============================] - 3s 25ms/step - loss: 0.7142 - recall: 1.0000 - precision: 0.9818\n",
      "Test loss: 0.7142, Test Recall: 1.0000, Test Precision: 0.9818\n",
      "111/111 [==============================] - 3s 26ms/step\n"
     ]
    },
    {
     "data": {
      "text/plain": [
       "<Figure size 640x480 with 2 Axes>"
      ],
      "image/png": "[encoded data removed]"
     },
     "metadata": {},
     "output_type": "display_data"
    }
   ],
   "execution_count": 21
  },
  {
   "metadata": {},
   "cell_type": "markdown",
   "source": [
    "Results from evaluating test set\n",
    "> Test Recall: 1.0000, Test Precision: 0.9818\n",
    "\n",
    "Recall score using 10-second EEG segmentation window exceeds target score of **80%**\n",
    "Precision, not critical as result will be verified by physician.\n",
    "Higher recall score at the expense is totally acceptable. Physician will sieve through false positive results."
   ],
   "id": "60d790e846008fcf"
  },
  {
   "metadata": {},
   "cell_type": "markdown",
   "source": "",
   "id": "f974c0c6929fb913"
  },
  {
   "metadata": {},
   "cell_type": "markdown",
   "source": "### Loading stored model",
   "id": "bc281fa0e85130c4"
  },
  {
   "metadata": {
    "ExecuteTime": {
     "end_time": "2025-01-16T08:12:46.386788Z",
     "start_time": "2025-01-16T08:12:46.375574Z"
    }
   },
   "cell_type": "code",
   "source": "\n",
   "id": "c8a463b509ca4bfd",
   "outputs": [],
   "execution_count": 27
  },
  {
   "metadata": {
    "ExecuteTime": {
     "end_time": "2024-12-08T04:29:59.678237Z",
     "start_time": "2024-12-08T04:29:59.456601Z"
    }
   },
   "cell_type": "code",
   "outputs": [],
   "execution_count": 14,
   "source": "cnn_lstm_model = load_model('seizure_CNN_LSTM.keras')\n",
   "id": "54881e993282eec4"
  },
  {
   "metadata": {
    "ExecuteTime": {
     "end_time": "2024-12-08T04:58:31.368386Z",
     "start_time": "2024-12-08T04:58:30.870076Z"
    }
   },
   "cell_type": "code",
   "outputs": [
    {
     "name": "stdout",
     "output_type": "stream",
     "text": [
      "111/111 [==============================] - 0s 4ms/step - loss: 0.6659 - accuracy: 0.6672\n",
      "Test accuracy [0.66585373878479, 0.6672306656837463]\n"
     ]
    }
   ],
   "execution_count": 23,
   "source": "print(f\"Test accuracy {cnn_lstm_model.evaluate(val_balanced_signals, val_balanced_labels, verbose=1)}\")",
   "id": "913681756fa18d6d"
  },
  {
   "metadata": {},
   "cell_type": "code",
   "outputs": [],
   "execution_count": null,
   "source": "",
   "id": "b4a19f2eb5fe6b36"
  },
  {
   "metadata": {},
   "cell_type": "markdown",
   "source": [
    "#### Transformers model\n",
    "In seizure prediction, capturing temporal dependencies in EEG data is crucial. While **LSTMs** are effective at learning short- to medium-term dependencies, they can still struggle with very long-range dependencies due to issues like the vanishing gradient problem. LSTMs are well-suited for smaller datasets, as they can effectively learn from fewer data points.\n",
    "\n",
    "**Transformers**, on the other hand, have the advantage of parallelization efficiency. Unlike LSTMs, which process data sequentially, Transformers can process entire sequences simultaneously due to their self-attention mechanism, resulting in faster training and inference, which is important for real-time seizure detection.\n",
    "CHB-MIT dataset is relatively large by traditional standards in seizure prediction, containing recordings from 24 patients and spanning 23 hours of data for each. Consequently, Transformers are better equipped to model complex, long-term dependencies across longer sequences, making them more effective for large datasets like CHB-MIT.\n"
   ],
   "id": "29d7b09db062916c"
  },
  {
   "metadata": {},
   "cell_type": "markdown",
   "source": [
    "Feed forward network represents non-linear transformation for each neuron.\n",
    "\n",
    "if x is input,  f is activation function , w is weight, and b is bias\n",
    "\n",
    "> computation is given by **f(Wx + b)**\n"
   ],
   "id": "243c3b6b4517b192"
  },
  {
   "metadata": {},
   "cell_type": "markdown",
   "source": [
    "##### Transformer pipeline\n",
    "Summary of process pipeline from EEG signal input, to seizure prediction output using a transformer model:\n",
    "\n",
    "1. Input EEG Signals: Shape (size, 23, 2560)\n",
    "2. Self-Attention Mechanism: Generates contextual embeddings for each electrode signal.\n",
    "3. Feed-Forward Neural Network: Transforms the contextual embeddings into higher-level features.\n",
    "4. Pooling Layer: Reduces the dimensionality while retaining important information.\n",
    "5. Prediction Layer: Outputs the probability of each class (seizure or non-seizure) using softmax.\n",
    "6. Loss Function: Measures the difference between predictions and actual labels.\n",
    "7. Backpropagation and Optimization: Updates model parameters to minimize the loss.\n"
   ],
   "id": "8ed5873136af1239"
  },
  {
   "metadata": {
    "ExecuteTime": {
     "end_time": "2025-01-16T10:23:33.145123Z",
     "start_time": "2025-01-16T10:23:33.131988Z"
    }
   },
   "cell_type": "code",
   "source": [
    "# input_shape = (samples,23, 2560)  # (samples, channels, time steps)\n",
    "\n",
    "# Transformer encoder layer\n",
    "class Transformer(Layer):\n",
    "    def __init__(self, embed_dim, num_heads, ff_dim, rate=0.1):\n",
    "        super(Transformer, self).__init__()\n",
    "        self.attention = MultiHeadAttention(num_heads=num_heads, key_dim=embed_dim)\n",
    "        # A feed forward network with non linear transformation of features at each neuron\n",
    "        self.sequential = Sequential([\n",
    "            Dense(ff_dim, activation=\"relu\"),\n",
    "            # Each channel is transformed to a dense representation using Dense(embed_dim).\n",
    "            Dense(embed_dim),\n",
    "        ])\n",
    "        self.normalised1 = LayerNormalization(epsilon=1e-6)\n",
    "        self.normalised2 = LayerNormalization(epsilon=1e-6)\n",
    "        self.dropout1 = Dropout(rate)\n",
    "        self.dropout2 = Dropout(rate)\n",
    "\n",
    "    def call(self, inputs, training):\n",
    "        attn_output = self.attention(inputs, inputs)\n",
    "        attn_output = self.dropout1(attn_output, training=training)\n",
    "        out1 = self.normalised1(inputs + attn_output)\n",
    "        ffn_output = self.sequential(out1)\n",
    "        ffn_output = self.dropout2(ffn_output, training=training)\n",
    "        return self.normalised2(out1 + ffn_output)\n",
    "\n",
    "# Build the model\n",
    "def build_transformer(input_shape, num_heads=4, ff_dim=128, embed_dim=64, num_classes=1):\n",
    "    inputs = Input(shape=input_shape)\n",
    "\n",
    "    # Flatten the time series for embedding\n",
    "    x = Dense(embed_dim)(inputs)  # Create embedding\n",
    "    x = Transformer(embed_dim, num_heads, ff_dim)(x)\n",
    "\n",
    "    # Global pooling\n",
    "    x = GlobalAveragePooling1D()(x)\n",
    "\n",
    "    # Fully connected output\n",
    "    x = Dense(64, activation=\"relu\")(x)\n",
    "    x = Dropout(0.1)(x)\n",
    "    outputs = Dense(num_classes, activation=\"sigmoid\")(x)  # For binary classification\n",
    "\n",
    "    model = Model(inputs=inputs, outputs=outputs)\n",
    "    return model"
   ],
   "id": "317cd49924b9e124",
   "outputs": [],
   "execution_count": 30
  },
  {
   "metadata": {
    "ExecuteTime": {
     "end_time": "2025-01-16T10:25:23.862327Z",
     "start_time": "2025-01-16T10:23:41.245029Z"
    }
   },
   "cell_type": "code",
   "source": [
    "\n",
    "# Load data\n",
    "# train_10sec contains data loaded from 10sec_signals.npy\n",
    "# labels_10sec contains data loaded from 10_sec_labels.npy\n",
    "\n",
    "# input shape is (samples, 23, 2560), however model implicitly handles\n",
    "# (channels, features) for each sample\n",
    "input_shape = train_10sec.shape[1:]\n",
    "\n",
    "# Build  and compile model\n",
    "model = build_transformer(input_shape)\n",
    "model.compile(optimizer='adam', loss='binary_crossentropy', metrics=['Recall','Precision'])\n",
    "\n",
    "# Fit and evaluate model\n",
    "history = model.fit(train_10sec, labels_10sec, epochs=19, batch_size=32, validation_split=0.3)\n",
    "\n",
    "loss, recall, precision = model.evaluate(train_10sec, labels_10sec)\n",
    "print(f'Loss: {loss:.4f}, Recall: {recall:.4f}, Precision: {precision:.4f}')"
   ],
   "id": "359029d8cfd724a",
   "outputs": [
    {
     "name": "stdout",
     "output_type": "stream",
     "text": [
      "Epoch 1/25\n",
      "259/259 [==============================] - 6s 18ms/step - loss: 0.5591 - recall: 0.0039 - precision: 0.2000 - val_loss: 0.6706 - val_recall: 0.0000e+00 - val_precision: 0.0000e+00\n",
      "Epoch 2/25\n",
      "259/259 [==============================] - 4s 15ms/step - loss: 0.5443 - recall: 0.0025 - precision: 0.6250 - val_loss: 0.7211 - val_recall: 0.0000e+00 - val_precision: 0.0000e+00\n",
      "Epoch 3/25\n",
      "259/259 [==============================] - 4s 15ms/step - loss: 0.5290 - recall: 0.0059 - precision: 0.5455 - val_loss: 0.7046 - val_recall: 0.0000e+00 - val_precision: 0.0000e+00\n",
      "Epoch 4/25\n",
      "259/259 [==============================] - 4s 15ms/step - loss: 0.5235 - recall: 0.0039 - precision: 0.7273 - val_loss: 0.6549 - val_recall: 0.0098 - val_precision: 0.7059\n",
      "Epoch 5/25\n",
      "259/259 [==============================] - 4s 15ms/step - loss: 0.5218 - recall: 0.0183 - precision: 0.4933 - val_loss: 0.7127 - val_recall: 0.0057 - val_precision: 0.6364\n",
      "Epoch 6/25\n",
      "259/259 [==============================] - 4s 15ms/step - loss: 0.5271 - recall: 0.0222 - precision: 0.6000 - val_loss: 0.6682 - val_recall: 0.0090 - val_precision: 1.0000\n",
      "Epoch 7/25\n",
      "259/259 [==============================] - 4s 15ms/step - loss: 0.5165 - recall: 0.0483 - precision: 0.6242 - val_loss: 0.7090 - val_recall: 0.0106 - val_precision: 0.6500\n",
      "Epoch 8/25\n",
      "259/259 [==============================] - 4s 15ms/step - loss: 0.5066 - recall: 0.0883 - precision: 0.5665 - val_loss: 0.6965 - val_recall: 0.0269 - val_precision: 0.8462\n",
      "Epoch 9/25\n",
      "259/259 [==============================] - 4s 15ms/step - loss: 0.5089 - recall: 0.0755 - precision: 0.5406 - val_loss: 0.6929 - val_recall: 0.0334 - val_precision: 0.8039\n",
      "Epoch 10/25\n",
      "259/259 [==============================] - 4s 15ms/step - loss: 0.5036 - recall: 0.1209 - precision: 0.6187 - val_loss: 0.6823 - val_recall: 0.0277 - val_precision: 0.7727\n",
      "Epoch 11/25\n",
      "259/259 [==============================] - 4s 15ms/step - loss: 0.4950 - recall: 0.1455 - precision: 0.5728 - val_loss: 0.7466 - val_recall: 0.0456 - val_precision: 0.7368\n",
      "Epoch 12/25\n",
      "259/259 [==============================] - 4s 15ms/step - loss: 0.4953 - recall: 0.1737 - precision: 0.6079 - val_loss: 0.6941 - val_recall: 0.0855 - val_precision: 0.7292\n",
      "Epoch 13/25\n",
      "259/259 [==============================] - 4s 15ms/step - loss: 0.4822 - recall: 0.2052 - precision: 0.6073 - val_loss: 0.7341 - val_recall: 0.1099 - val_precision: 0.7297\n",
      "Epoch 14/25\n",
      "259/259 [==============================] - 4s 15ms/step - loss: 0.4879 - recall: 0.1998 - precision: 0.5947 - val_loss: 0.6944 - val_recall: 0.1230 - val_precision: 0.6711\n",
      "Epoch 15/25\n",
      "259/259 [==============================] - 4s 15ms/step - loss: 0.4820 - recall: 0.2255 - precision: 0.6491 - val_loss: 0.6563 - val_recall: 0.2288 - val_precision: 0.5966\n",
      "Epoch 16/25\n",
      "259/259 [==============================] - 4s 15ms/step - loss: 0.4761 - recall: 0.2570 - precision: 0.6144 - val_loss: 0.7180 - val_recall: 0.0586 - val_precision: 0.8000\n",
      "Epoch 17/25\n",
      "259/259 [==============================] - 4s 15ms/step - loss: 0.4764 - recall: 0.2388 - precision: 0.6603 - val_loss: 0.6678 - val_recall: 0.1238 - val_precision: 0.7238\n",
      "Epoch 18/25\n",
      "259/259 [==============================] - 4s 15ms/step - loss: 0.4688 - recall: 0.2743 - precision: 0.6480 - val_loss: 0.7295 - val_recall: 0.1360 - val_precision: 0.7106\n",
      "Epoch 19/25\n",
      "259/259 [==============================] - 4s 15ms/step - loss: 0.4709 - recall: 0.2669 - precision: 0.6433 - val_loss: 0.6818 - val_recall: 0.1946 - val_precision: 0.6657\n",
      "Epoch 20/25\n",
      "259/259 [==============================] - 4s 15ms/step - loss: 0.4530 - recall: 0.3281 - precision: 0.6849 - val_loss: 0.7795 - val_recall: 0.0863 - val_precision: 0.7910\n",
      "Epoch 21/25\n",
      "259/259 [==============================] - 4s 15ms/step - loss: 0.4533 - recall: 0.3217 - precision: 0.6475 - val_loss: 0.8949 - val_recall: 0.0480 - val_precision: 0.7662\n",
      "Epoch 22/25\n",
      "259/259 [==============================] - 4s 15ms/step - loss: 0.4465 - recall: 0.3305 - precision: 0.6907 - val_loss: 0.7424 - val_recall: 0.1710 - val_precision: 0.6604\n",
      "Epoch 23/25\n",
      "259/259 [==============================] - 4s 15ms/step - loss: 0.4393 - recall: 0.3606 - precision: 0.6949 - val_loss: 0.7341 - val_recall: 0.2020 - val_precision: 0.6093\n",
      "Epoch 24/25\n",
      "259/259 [==============================] - 4s 15ms/step - loss: 0.4558 - recall: 0.2965 - precision: 0.6738 - val_loss: 0.7323 - val_recall: 0.1140 - val_precision: 0.6863\n",
      "Epoch 25/25\n",
      "259/259 [==============================] - 4s 15ms/step - loss: 0.4652 - recall: 0.2610 - precision: 0.6662 - val_loss: 0.7913 - val_recall: 0.1059 - val_precision: 0.6806\n",
      "369/369 [==============================] - 2s 6ms/step - loss: 0.5452 - recall: 0.1846 - precision: 0.7898\n",
      "Loss: 0.5452, Recall: 0.1846, Precision: 0.7898\n"
     ]
    }
   ],
   "execution_count": 31
  },
  {
   "metadata": {},
   "cell_type": "markdown",
   "source": [
    "When trained over 50 epochs validation recall drop after 19th epoch, indicating **overfitting**\n",
    "\n",
    "To improved model robustness:\n",
    " - reduce epoch training to 19 epochs"
   ],
   "id": "dabb0dd70e6b678c"
  },
  {
   "metadata": {},
   "cell_type": "markdown",
   "source": [
    "##### Attention\n",
    "layers.MultiHeadAttention(num_heads=number of attention heads, key_dim=embedding dimensions) -\n",
    "1. EEG data is of shape (samples, channels, features). In MultiHeadAttention embedding dimensions define the vector space where the features are mapped too, during embedding. This helps contextual processing of each feature.\n",
    "\n",
    "2. Number of heads define attention head counts. Each one computes dependencies between time steps, but focuses on different patterns or aspects:\n",
    "    - Short-term dependencies (e.g., relationships between neighbour time steps).\n",
    "    - Long-term dependencies (e.g., relationships between distant time steps).\n",
    "    - Specific signal characteristics (e.g., spikes, rhythms, or repeating patterns).\n",
    "\n",
    "\n"
   ],
   "id": "1a7e5d574d4de68c"
  },
  {
   "metadata": {},
   "cell_type": "markdown",
   "source": [
    "1. LayerNormalization ensures output of any given layer has mean of 0 and a standard deviation of 1. This accelerates convergence by ensuring activation are of consistent scale.\n",
    "2. MultiHeadAttention provides a context-aware representation of the input sequence.\n",
    "3. This representation is then passed through a Feed Forward Network and often a Dense layer to build the final classifier.\n",
    "4. The dense layer's role is to map the transformed features to the desired output space (e.g., binary or multi-class labels)."
   ],
   "id": "7bf8545bf46ddc30"
  },
  {
   "metadata": {},
   "cell_type": "markdown",
   "source": [
    "The MultiHeadAttention layer computes a new representation of the input (channels and features at each time step). This update is based on its relationship with other time steps in the sequence. This forms the self-attention mechanism.\n",
    "- Self-Attention: Captures dependencies between time steps in the EEG data. This allows long term dependency, or put into context the entire EEG data.\n",
    "- Multi-Head: Splits above attention mechanism into multiple subspaces (heads), allowing the model to focus on different types of relationships or features simultaneously.\n",
    "\n",
    "Concept: The output is a contextualized embedding that reflects input’s features and its relationship with the rest of sequence.\n",
    "- The output is normalized and combined with the input using a residual connection.\n",
    "- It is then passed through a Feed Forward Network (Dense layers), which applies transformations to learn non-linear relationships.\n",
    "- This representation is then reduced to a fixed-size vector using pooling layers (GlobalAveragePooling1D).\n",
    "- The reduced vector is passed into an output Dense layers, which act as the classifier to predict the desired target (e.g., seizure or no seizure).\n"
   ],
   "id": "b290f81b6394f0eb"
  },
  {
   "metadata": {},
   "cell_type": "markdown",
   "source": "#### Convolution Model",
   "id": "fae5afd467f1a086"
  },
  {
   "metadata": {
    "ExecuteTime": {
     "end_time": "2025-01-17T01:34:57.304958Z",
     "start_time": "2025-01-17T01:34:57.257389Z"
    }
   },
   "cell_type": "code",
   "source": [
    "# Define the CNN model class\n",
    "class CNN:\n",
    "    def __init__(self, input_shape):\n",
    "        self.input_shape = input_shape\n",
    "        self.model = self.build_cnn()\n",
    "\n",
    "    # Define the CNN architecture\n",
    "    def build_cnn(self):\n",
    "        model = Sequential()\n",
    "\n",
    "        # First convolutional layer (2D)\n",
    "        model.add(Conv2D(filters=64, kernel_size=(3, 3), activation='relu', input_shape=self.input_shape, padding='same'))\n",
    "\n",
    "        # First MaxPooling layer\n",
    "        model.add(MaxPooling2D(pool_size=(2, 2)))\n",
    "\n",
    "        # Second convolutional layer (2D)\n",
    "        model.add(Conv2D(filters=128, kernel_size=(3, 3), activation='relu', padding='same'))\n",
    "\n",
    "        # Second MaxPooling layer\n",
    "        model.add(MaxPooling2D(pool_size=(2, 2)))\n",
    "\n",
    "        # Third convolutional layer (2D)\n",
    "        model.add(Conv2D(filters=256, kernel_size=(3, 3), activation='relu', padding='same'))\n",
    "\n",
    "        # Global Average Pooling (GAP)\n",
    "        model.add(GlobalAveragePooling2D())  # Output shape: (None, 256)\n",
    "\n",
    "        # Dense output layer (binary classification)\n",
    "        model.add(Dense(1, activation='sigmoid'))  # Output shape: (None, 1)\n",
    "\n",
    "        return model\n",
    "\n",
    "    # Compile the model\n",
    "    def compile_model(self):\n",
    "        self.model.compile(optimizer='adam',\n",
    "                           loss='binary_crossentropy',\n",
    "                           metrics=['Recall', 'Precision', 'accuracy'])\n",
    "\n",
    "    # Train the model on training data\n",
    "    def train(self, train_data, train_labels, epochs=50, batch_size=32, validation_split=0.2):\n",
    "        history = self.model.fit(train_data,\n",
    "                                 train_labels,\n",
    "                                 epochs=epochs,\n",
    "                                 batch_size=batch_size,\n",
    "                                 validation_split=validation_split)\n",
    "\n",
    "        # Plot recall during training\n",
    "        recall_train = history.history['recall']\n",
    "        epochs = range(1, len(recall_train) + 1)\n",
    "        plt.plot(epochs, recall_train, label='Training Recall')\n",
    "        plt.xlabel('Epochs')\n",
    "        plt.ylabel('Recall')\n",
    "        plt.legend()\n",
    "        plt.title('Training Recall vs Epochs')\n",
    "        plt.show()\n",
    "\n",
    "        return history\n",
    "\n",
    "    # Evaluate the model on the test data\n",
    "    def evaluate(self, test_data, test_labels):\n",
    "        loss, recall, precision, accuracy = self.model.evaluate(test_data, test_labels)\n",
    "        print(f'Loss: {loss:.4f}, Recall: {recall:.4f}, Precision: {precision:.4f}, Accuracy: {accuracy:.4f}')\n",
    "\n",
    "        # Get predictions for confusion matrix\n",
    "        y_pred = (self.model.predict(test_data) > 0.5).astype(int)\n",
    "\n",
    "        # Confusion Matrix\n",
    "        cm = confusion_matrix(test_labels, y_pred)\n",
    "        cm_labels = [\"Non-seizure\", \"Seizure\"]\n",
    "        disp = ConfusionMatrixDisplay(confusion_matrix=cm, display_labels=cm_labels)\n",
    "        disp.plot(cmap=plt.cm.Blues)\n",
    "        plt.title('Confusion Matrix')\n",
    "        plt.show()\n",
    "\n",
    "        return loss, recall, precision, accuracy"
   ],
   "id": "13d281a60f2e92e6",
   "outputs": [],
   "execution_count": 7
  },
  {
   "metadata": {},
   "cell_type": "raw",
   "source": [
    "train_10sec_data_reshaped = (8261, 23, 2560, 1)\n",
    "test_10sec_data_reshaped = (3541, 23, 2560, 1)\n",
    "train_10sec_labels =(8261, 1)\n",
    "test_10sec_labels = (3541, 1)\n"
   ],
   "id": "a9f938a614a5af33"
  },
  {
   "metadata": {
    "ExecuteTime": {
     "end_time": "2025-01-17T05:08:40.034515Z",
     "start_time": "2025-01-17T01:35:04.323705Z"
    }
   },
   "cell_type": "code",
   "source": [
    "# conv2D input expects batch, channel(height), features(frequency x 20 seconds = 2560) , channel=1 (1D of signal amplitude)\n",
    "# Define the input shape based on the dataset (for EEG data with 23 channels and 2560 time points)\n",
    "conv_input_shape = (23, 2560, 1)  # Reshape to include 1 channel\n",
    "\n",
    "# Initialize the CNN model\n",
    "cnn_model = CNN(conv_input_shape)\n",
    "\n",
    "# Compile the model\n",
    "cnn_model.compile_model()\n",
    "\n",
    "# Reshape training and test data to match the input shape for Conv2D layer\n",
    "train_10sec_data_reshaped = train_10sec_data[..., np.newaxis]  # Add the channel dimension\n",
    "test_10sec_data_reshaped = test_10sec_data[..., np.newaxis]    # Add the channel dimension\n",
    "\n",
    "# Reshape labels if necessary to match the output shape (samples, 1)\n",
    "train_10sec_labels = np.expand_dims(train_10sec_labels, axis=-1)\n",
    "test_10sec_labels = np.expand_dims(test_10sec_labels, axis=-1)\n",
    "\n",
    "# Train the model\n",
    "history = cnn_model.train(train_10sec_data_reshaped, train_10sec_labels, epochs=23, batch_size=32, validation_split=0.2)\n",
    "\n",
    "# Evaluate the model on test data\n",
    "loss, recall, precision, accuracy = cnn_model.evaluate(test_10sec_data_reshaped, test_10sec_labels)"
   ],
   "id": "dd87ba6f2c24faa5",
   "outputs": [
    {
     "name": "stdout",
     "output_type": "stream",
     "text": [
      "Epoch 1/23\n",
      "207/207 [==============================] - 912s 4s/step - loss: 0.9204 - recall: 0.1662 - precision: 0.5348 - accuracy: 0.7327 - val_loss: 0.4888 - val_recall: 0.3427 - val_precision: 0.9034 - val_accuracy: 0.8052\n",
      "Epoch 2/23\n",
      "207/207 [==============================] - 927s 4s/step - loss: 0.4638 - recall: 0.3773 - precision: 0.8021 - accuracy: 0.8045 - val_loss: 0.4362 - val_recall: 0.3448 - val_precision: 0.9639 - val_accuracy: 0.8125\n",
      "Epoch 3/23\n",
      "207/207 [==============================] - 642s 3s/step - loss: 0.4140 - recall: 0.4510 - precision: 0.8239 - accuracy: 0.8237 - val_loss: 0.3818 - val_recall: 0.4978 - val_precision: 0.8652 - val_accuracy: 0.8373\n",
      "Epoch 4/23\n",
      "207/207 [==============================] - 326s 2s/step - loss: 0.3846 - recall: 0.4942 - precision: 0.8267 - accuracy: 0.8335 - val_loss: 0.3553 - val_recall: 0.5086 - val_precision: 0.8806 - val_accuracy: 0.8427\n",
      "Epoch 5/23\n",
      "207/207 [==============================] - 321s 2s/step - loss: 0.3650 - recall: 0.5230 - precision: 0.8266 - accuracy: 0.8397 - val_loss: 0.3621 - val_recall: 0.7004 - val_precision: 0.7174 - val_accuracy: 0.8385\n",
      "Epoch 6/23\n",
      "207/207 [==============================] - 311s 2s/step - loss: 0.3499 - recall: 0.5562 - precision: 0.8339 - accuracy: 0.8485 - val_loss: 0.3355 - val_recall: 0.5108 - val_precision: 0.9405 - val_accuracy: 0.8536\n",
      "Epoch 7/23\n",
      "207/207 [==============================] - 325s 2s/step - loss: 0.3383 - recall: 0.5906 - precision: 0.8341 - accuracy: 0.8561 - val_loss: 0.4107 - val_recall: 0.3772 - val_precision: 0.9943 - val_accuracy: 0.8246\n",
      "Epoch 8/23\n",
      "207/207 [==============================] - 479s 2s/step - loss: 0.3221 - recall: 0.6083 - precision: 0.8433 - accuracy: 0.8621 - val_loss: 0.3013 - val_recall: 0.5474 - val_precision: 0.9442 - val_accuracy: 0.8639\n",
      "Epoch 9/23\n",
      "207/207 [==============================] - 1004s 5s/step - loss: 0.3090 - recall: 0.6476 - precision: 0.8428 - accuracy: 0.8708 - val_loss: 0.3382 - val_recall: 0.5043 - val_precision: 0.9669 - val_accuracy: 0.8560\n",
      "Epoch 10/23\n",
      "207/207 [==============================] - 528s 3s/step - loss: 0.3170 - recall: 0.6582 - precision: 0.8438 - accuracy: 0.8733 - val_loss: 0.2882 - val_recall: 0.6013 - val_precision: 0.9426 - val_accuracy: 0.8778\n",
      "Epoch 11/23\n",
      "207/207 [==============================] - 528s 3s/step - loss: 0.2935 - recall: 0.6693 - precision: 0.8501 - accuracy: 0.8774 - val_loss: 0.2685 - val_recall: 0.7478 - val_precision: 0.8242 - val_accuracy: 0.8845\n",
      "Epoch 12/23\n",
      "207/207 [==============================] - 391s 2s/step - loss: 0.2863 - recall: 0.6809 - precision: 0.8722 - accuracy: 0.8856 - val_loss: 0.2537 - val_recall: 0.7608 - val_precision: 0.8631 - val_accuracy: 0.8990\n",
      "Epoch 13/23\n",
      "207/207 [==============================] - 307s 1s/step - loss: 0.2769 - recall: 0.7080 - precision: 0.8623 - accuracy: 0.8894 - val_loss: 0.2931 - val_recall: 0.6013 - val_precision: 0.9394 - val_accuracy: 0.8772\n",
      "Epoch 14/23\n",
      "207/207 [==============================] - 314s 2s/step - loss: 0.2810 - recall: 0.6947 - precision: 0.8648 - accuracy: 0.8870 - val_loss: 0.2578 - val_recall: 0.7328 - val_precision: 0.8763 - val_accuracy: 0.8959\n",
      "Epoch 15/23\n",
      "207/207 [==============================] - 534s 3s/step - loss: 0.2806 - recall: 0.6942 - precision: 0.8606 - accuracy: 0.8857 - val_loss: 0.2645 - val_recall: 0.6595 - val_precision: 0.9273 - val_accuracy: 0.8899\n",
      "Epoch 16/23\n",
      "207/207 [==============================] - 989s 5s/step - loss: 0.2702 - recall: 0.7053 - precision: 0.8678 - accuracy: 0.8901 - val_loss: 0.2455 - val_recall: 0.7026 - val_precision: 0.9132 - val_accuracy: 0.8978\n",
      "Epoch 17/23\n",
      "207/207 [==============================] - 918s 4s/step - loss: 0.2642 - recall: 0.7258 - precision: 0.8728 - accuracy: 0.8962 - val_loss: 0.2702 - val_recall: 0.6272 - val_precision: 0.9479 - val_accuracy: 0.8857\n",
      "Epoch 18/23\n",
      "207/207 [==============================] - 921s 4s/step - loss: 0.2545 - recall: 0.7324 - precision: 0.8732 - accuracy: 0.8979 - val_loss: 0.2481 - val_recall: 0.7565 - val_precision: 0.8864 - val_accuracy: 0.9044\n",
      "Epoch 19/23\n",
      "207/207 [==============================] - 545s 3s/step - loss: 0.2507 - recall: 0.7440 - precision: 0.8830 - accuracy: 0.9031 - val_loss: 0.2368 - val_recall: 0.7672 - val_precision: 0.8967 - val_accuracy: 0.9099\n",
      "Epoch 20/23\n",
      "207/207 [==============================] - 406s 2s/step - loss: 0.2444 - recall: 0.7501 - precision: 0.8908 - accuracy: 0.9066 - val_loss: 0.2358 - val_recall: 0.7198 - val_precision: 0.9027 - val_accuracy: 0.8996\n",
      "Epoch 21/23\n",
      "207/207 [==============================] - 321s 2s/step - loss: 0.2568 - recall: 0.7291 - precision: 0.8756 - accuracy: 0.8977 - val_loss: 0.2335 - val_recall: 0.7349 - val_precision: 0.9069 - val_accuracy: 0.9044\n",
      "Epoch 22/23\n",
      "207/207 [==============================] - 318s 2s/step - loss: 0.2465 - recall: 0.7524 - precision: 0.8830 - accuracy: 0.9051 - val_loss: 0.2500 - val_recall: 0.7112 - val_precision: 0.9192 - val_accuracy: 0.9014\n",
      "Epoch 23/23\n",
      "207/207 [==============================] - 423s 2s/step - loss: 0.2417 - recall: 0.7529 - precision: 0.8790 - accuracy: 0.9042 - val_loss: 0.2446 - val_recall: 0.7047 - val_precision: 0.9134 - val_accuracy: 0.8984\n"
     ]
    },
    {
     "data": {
      "text/plain": [
       "<Figure size 640x480 with 1 Axes>"
      ],
      "image/png": "[encoded data removed]"
     },
     "metadata": {},
     "output_type": "display_data"
    },
    {
     "name": "stdout",
     "output_type": "stream",
     "text": [
      "111/111 [==============================] - 71s 638ms/step - loss: 0.2608 - recall: 0.6714 - precision: 0.9194 - accuracy: 0.8921\n",
      "Loss: 0.2608, Recall: 0.6714, Precision: 0.9194, Accuracy: 0.8921\n",
      "111/111 [==============================] - 50s 444ms/step\n"
     ]
    },
    {
     "data": {
      "text/plain": [
       "<Figure size 640x480 with 2 Axes>"
      ],
      "image/png": "[encoded data removed]"
     },
     "metadata": {},
     "output_type": "display_data"
    }
   ],
   "execution_count": 8
  },
  {
   "metadata": {},
   "cell_type": "markdown",
   "source": [
    "> Overfitting beyond 19th epochs as training data recall improves slightly, while validation data recall drops\n",
    "\n",
    "> Best achieved recall score is 75%"
   ],
   "id": "81c30d6eacb0631c"
  },
  {
   "metadata": {
    "ExecuteTime": {
     "end_time": "2025-01-16T14:22:11.104576Z",
     "start_time": "2025-01-16T14:22:11.088732Z"
    }
   },
   "cell_type": "code",
   "source": [
    "print(train_10sec_data_reshaped.shape, test_10sec_data_reshaped.shape)\n",
    "print(train_10sec_labels.shape,test_10sec_labels.shape )"
   ],
   "id": "b07e8aaa38badd6e",
   "outputs": [
    {
     "name": "stdout",
     "output_type": "stream",
     "text": [
      "(8261, 23, 2560, 1) (3541, 23, 2560, 1)\n",
      "(8261, 1) (3541, 1)\n"
     ]
    }
   ],
   "execution_count": 31
  },
  {
   "metadata": {},
   "cell_type": "markdown",
   "source": "#### Hybrid Convolution Transformer model",
   "id": "41cf1797602d559a"
  },
  {
   "metadata": {},
   "cell_type": "markdown",
   "source": [
    "The current state of the art in seizure prediction mainly utilizes Recurrent Neural Networks (RNNs), Long Short-Term Memory (LSTM) networks, and Convolutional Neural Networks (CNNs), which are effective in modeling sequential EEG data by capturing temporal dependencies and extracting relevant features.\n",
    "\n",
    "An emerging frontier in the field is the hybrid convolution-transformer model, which combines the spatial feature extraction capabilities of CNNs with the temporal strengths of transformers. Such hybrid models (Liu, 2023) have shown promise in improving prediction accuracy by integrating both spatial and temporal information [4]."
   ],
   "id": "63d4eff218efe60e"
  },
  {
   "metadata": {
    "ExecuteTime": {
     "end_time": "2025-01-17T09:29:36.585634Z",
     "start_time": "2025-01-17T09:29:36.557194Z"
    }
   },
   "cell_type": "code",
   "source": [
    "# Transformer encoder layer\n",
    "class Transformer(Layer):\n",
    "    def __init__(self, embed_dim, num_heads, ff_dim, rate=0.1):\n",
    "        super(Transformer, self).__init__()\n",
    "        self.attention = MultiHeadAttention(num_heads=num_heads, key_dim=embed_dim)\n",
    "        self.sequential = Sequential([\n",
    "            Dense(ff_dim, activation=\"relu\"),\n",
    "            Dense(embed_dim),\n",
    "        ])\n",
    "        self.normalised1 = LayerNormalization(epsilon=1e-6)\n",
    "        self.normalised2 = LayerNormalization(epsilon=1e-6)\n",
    "        self.dropout1 = Dropout(rate)\n",
    "        self.dropout2 = Dropout(rate)\n",
    "\n",
    "    def call(self, inputs, training):\n",
    "        attn_output = self.attention(inputs, inputs)\n",
    "        attn_output = self.dropout1(attn_output, training=training)\n",
    "        out1 = self.normalised1(inputs + attn_output)\n",
    "        ffn_output = self.sequential(out1)\n",
    "        ffn_output = self.dropout2(ffn_output, training=training)\n",
    "        return self.normalised2(out1 + ffn_output)\n",
    "\n",
    "# CNN-Transformer model\n",
    "class CNN_Transformer:\n",
    "    def __init__(self, input_shape, num_filters=32, kernel_size=(3, 3), embed_dim=64, num_heads=4, ff_dim=128, num_classes=1):\n",
    "        self.input_shape = input_shape\n",
    "        self.num_filters = num_filters\n",
    "        self.kernel_size = kernel_size\n",
    "        self.embed_dim = embed_dim\n",
    "        self.num_heads = num_heads\n",
    "        self.ff_dim = ff_dim\n",
    "        self.num_classes = num_classes\n",
    "        self.model = self.build_model()\n",
    "\n",
    "    def build_model(self):\n",
    "        inputs = Input(shape=self.input_shape)\n",
    "\n",
    "        # CNN Block: Extract spatial-temporal features\n",
    "        x = Conv2D(filters=self.num_filters, kernel_size=self.kernel_size, activation=\"relu\", padding=\"same\")(inputs)\n",
    "        x = Conv2D(filters=self.num_filters * 2, kernel_size=self.kernel_size, activation=\"relu\", padding=\"same\")(x)\n",
    "        x = MaxPooling2D(pool_size=(2, 2))(x)\n",
    "        x = BatchNormalization()(x)\n",
    "\n",
    "        # Additional CNN layers for deeper feature extraction\n",
    "        x = Conv2D(filters=self.num_filters * 4, kernel_size=self.kernel_size, activation=\"relu\", padding=\"same\")(x)\n",
    "        x = MaxPooling2D(pool_size=(2, 2))(x)\n",
    "        x = BatchNormalization()(x)\n",
    "\n",
    "        # Flatten for embedding\n",
    "        x = Dense(self.embed_dim)(x)\n",
    "\n",
    "        # Transformer Block\n",
    "        x = Transformer(embed_dim=self.embed_dim, num_heads=self.num_heads, ff_dim=self.ff_dim)(x)\n",
    "\n",
    "        # Global pooling\n",
    "        x = GlobalAveragePooling2D()(x)\n",
    "\n",
    "        # Fully connected layers for classification\n",
    "        x = Dense(64, activation=\"relu\")(x)\n",
    "        x = Dropout(0.3)(x)\n",
    "        outputs = Dense(self.num_classes, activation=\"sigmoid\")(x)\n",
    "\n",
    "        model = Model(inputs=inputs, outputs=outputs)\n",
    "        return model\n",
    "\n",
    "    def compile(self):\n",
    "        self.model.compile(optimizer='Adam', loss='binary_crossentropy', metrics=['Recall','Precision','accuracy'])\n",
    "\n",
    "    def train(self, X_train, y_train, batch_size=32, epochs=10, validation_split=None, callbacks=None):\n",
    "        history = self.model.fit(X_train, y_train, batch_size=batch_size,\n",
    "                                 epochs=epochs, validation_split=validation_split, callbacks=callbacks)\n",
    "\n",
    "        # Plot recall during training\n",
    "        recall_train = history.history['recall']\n",
    "        epochs = range(1, len(recall_train) + 1)\n",
    "        plt.plot(epochs, recall_train, label='Training Recall')\n",
    "        plt.xlabel('Epochs')\n",
    "        plt.ylabel('Recall')\n",
    "        plt.legend()\n",
    "        plt.title('Training Recall vs Epochs')\n",
    "        plt.show()\n",
    "\n",
    "        return history\n",
    "\n",
    "    def evaluate(self, test_data, test_labels):\n",
    "        loss, recall, precision, accuracy = self.model.evaluate(test_data, test_labels)\n",
    "        print(f'Loss: {loss:.4f}, Recall: {recall:.4f}, Precision: {precision:.4f}, Accuracy: {accuracy:.4f}')\n",
    "\n",
    "        # Get predictions for confusion matrix\n",
    "        y_predict = (self.model.predict(test_data) > 0.5).astype(int)\n",
    "\n",
    "        # confusion matrix\n",
    "        cm = confusion_matrix(test_labels, y_predict)\n",
    "        cm_labels = [\"Non-seizure\", \"Seizure\"]\n",
    "        disp = ConfusionMatrixDisplay(confusion_matrix=cm, display_labels=cm_labels)\n",
    "        disp.plot(cmap=plt.cm.Blues)\n",
    "        plt.title('Confusion Matrix')\n",
    "        plt.show()\n",
    "        return loss, recall, precision, accuracy\n",
    "\n"
   ],
   "id": "812598daeae3c660",
   "outputs": [],
   "execution_count": 29
  },
  {
   "metadata": {
    "ExecuteTime": {
     "end_time": "2025-01-17T10:02:18.601412Z",
     "start_time": "2025-01-17T09:29:42.725413Z"
    }
   },
   "cell_type": "code",
   "source": [
    "# train_10sec contain data from '10sec_signals.npy'\n",
    "# labels_10sec  contain data from '10sec_labels.npy'\n",
    "\n",
    "# 2D convolution needs input (channels=23, timepoints=2560, feature depth=1)\n",
    "conv_input_shape = (23, 2560, 1)\n",
    "\n",
    "# Build  and compile model\n",
    "cnn_t_model = CNN_Transformer(input_shape=conv_input_shape)\n",
    "cnn_t_model.compile()\n",
    "\n",
    "# Fit and evaluate model\n",
    "history = cnn_t_model.train(train_10sec_data_reshaped, train_10sec_labels, epochs=1, batch_size=32, validation_split=0.2)\n",
    "\n",
    "loss, recall, precision, accuracy = cnn_t_model.evaluate(test_10sec_data_reshaped, test_10sec_labels)\n",
    "print(f'Loss: {loss:.4f}, Recall: {recall:.4f}, Precision: {precision:.4f}, Accuracy: {accuracy:.4f}')"
   ],
   "id": "71490a1fd66102c4",
   "outputs": [
    {
     "name": "stdout",
     "output_type": "stream",
     "text": [
      "207/207 [==============================] - 1380s 7s/step - loss: 0.4529 - recall: 0.4399 - precision: 0.7605 - accuracy: 0.8092 - val_loss: 0.5371 - val_recall: 0.3039 - val_precision: 0.9792 - val_accuracy: 0.8028\n"
     ]
    },
    {
     "data": {
      "text/plain": [
       "<Figure size 640x480 with 1 Axes>"
      ],
      "image/png": "[encoded data removed]"
     },
     "metadata": {},
     "output_type": "display_data"
    },
    {
     "name": "stdout",
     "output_type": "stream",
     "text": [
      "111/111 [==============================] - 290s 3s/step - loss: 0.5489 - recall: 0.2698 - precision: 0.9673 - accuracy: 0.7941\n",
      "Loss: 0.5489, Recall: 0.2698, Precision: 0.9673, Accuracy: 0.7941\n",
      "111/111 [==============================] - 285s 3s/step\n"
     ]
    },
    {
     "data": {
      "text/plain": [
       "<Figure size 640x480 with 2 Axes>"
      ],
      "image/png": "[encoded data removed]"
     },
     "metadata": {},
     "output_type": "display_data"
    },
    {
     "name": "stdout",
     "output_type": "stream",
     "text": [
      "Loss: 0.5489, Recall: 0.2698, Precision: 0.9673, Accuracy: 0.7941\n"
     ]
    }
   ],
   "execution_count": 30
  },
  {
   "metadata": {},
   "cell_type": "raw",
   "source": [
    "> Training currently takes 30 minutes per epoch\n",
    "\n",
    "> Recall score of 27% after one epoch. Will continue training and hyperparameter tuning in iteration 3"
   ],
   "id": "c6b902c2ef66ab74"
  },
  {
   "metadata": {},
   "cell_type": "markdown",
   "source": [
    "####Expanation on Convolutional Transformer Model\n",
    "#### Convolutional Layers (CNN Block)\n",
    "The convolutional layers capture spatial and temporal dependencies within the EEG signals.\n",
    "- Multiple layers with increasing filters and pooling reduce dimensionality while retaining essential features.\n",
    "\n",
    "#### Transformer Encoder\n",
    "After the convolutional features are extracted, they are passed through a Transformer encoder to:\n",
    "- Model global dependencies.\n",
    "- Capture long-range temporal relationships.\n",
    "\n",
    "#### Hybrid Structure\n",
    "- The CNN layers act as feature extractors, capturing spatial and temporal information.\n",
    "- The Transformer layers model relationships between features.\n",
    "- Combining these methods leverages the strengths of both architectures.\n",
    "\n",
    "#### Fully Connected Layers\n",
    "- Final dense layers with a dropout layer reduce overfitting.\n",
    "- These layers map the output to a binary classification for seizure prediction.\n",
    "\n",
    "#### Training\n",
    "- Train the model using binary crossentropy, which is suitable for binary classification tasks.\n",
    "- Evaluate metrics like sensitivity (recall) to measure the performance of the model.\n"
   ],
   "id": "ed6399fc3b5c9af1"
  },
  {
   "metadata": {},
   "cell_type": "markdown",
   "source": [
    "#### Iteration 3\n",
    "So far convolution- attention model does best, but still below 80% recall score threshold.\n",
    "I will combine Bi-LSTM with attention, enabling from short to long term dependencies.\n",
    "\n",
    "In iteration 2, 3 BiLSTM layer and 2 dense regression layer did not achieve target recall score.\n",
    "I am using attention to recognise the BiLSTM layers, and an extra dense layer to allow more complex representation.\n"
   ],
   "id": "4f0958d8cadf27bf"
  },
  {
   "metadata": {
    "ExecuteTime": {
     "end_time": "2025-02-10T06:34:50.532757Z",
     "start_time": "2025-02-10T06:34:50.500938Z"
    }
   },
   "cell_type": "code",
   "source": [
    "class BiLSTMAttentionModel:\n",
    "    def __init__(self, train_shape: tuple, initial_lr: float = 0.0001):\n",
    "        self.train_shape = train_shape\n",
    "        self.initial_lr = initial_lr\n",
    "        self.model = self.build_model()\n",
    "\n",
    "    def build_model(self):\n",
    "        inputs = Input(shape=(self.train_shape[1], self.train_shape[2]))\n",
    "        bilstm1 = Bidirectional(LSTM(64, return_sequences=True, kernel_regularizer=L1L2(0, 0.0015)))(inputs)\n",
    "        do1 = Dropout(0.5)(bilstm1)\n",
    "        bilstm2 = Bidirectional(LSTM(32, return_sequences=True, kernel_regularizer=L1L2(0, 0.0015)))(do1)\n",
    "        att = Attention(32)([bilstm2, bilstm2])\n",
    "        flat = Flatten()(att)\n",
    "        dense1 = Dense(128, kernel_regularizer=L1L2(0, 0.0015))(flat)\n",
    "        dropout3 = Dropout(0.5)(dense1)\n",
    "        dense2 = Dense(8, kernel_regularizer=L1L2(0, 0.0001))(dropout3)\n",
    "        outputs = Dense(1, activation='sigmoid')(dense2)\n",
    "\n",
    "        model = Model(inputs=inputs, outputs=outputs)\n",
    "        return model\n",
    "\n",
    "    def compile(self):\n",
    "        opt = Adam(learning_rate=self.initial_lr)\n",
    "        self.model.compile(optimizer=opt, loss='binary_crossentropy', metrics=['Recall'])\n",
    "\n",
    "    def train(self, X_train, y_train, batch_size=32, epochs=10, validation_split=0.2, callbacks=None):\n",
    "        # #Check for the presence of the trained weights file\n",
    "        # model_file_path = 'bilstm_attention_model.h5'\n",
    "        # if os.path.exists(model_file_path):\n",
    "        #     print(f'Loading model weights from {model_file_path}')\n",
    "        #     self.model.load_weights(model_file_path)\n",
    "        #     return self.model  # Return the model directly if weights are loaded\n",
    "\n",
    "        history = self.model.fit(X_train, y_train, batch_size=batch_size,\n",
    "                                 epochs=epochs, validation_split=validation_split, callbacks=callbacks)\n",
    "\n",
    "        # Plot recall during training\n",
    "        recall_train = history.history.get('recall', [])\n",
    "        if recall_train:\n",
    "            epochs_range = range(1, len(recall_train) + 1)\n",
    "            plt.plot(epochs_range, recall_train, label='Training Recall')\n",
    "            plt.xlabel('Epochs')\n",
    "            plt.ylabel('Recall')\n",
    "            plt.legend()\n",
    "            plt.title('Training Recall vs Epochs')\n",
    "            plt.show()\n",
    "\n",
    "        return self.model  # Return the model after training\n",
    "\n",
    "    def evaluate(self, test_data, test_labels):\n",
    "        # Evaluate model\n",
    "        results = self.model.evaluate(test_data, test_labels, verbose=0)\n",
    "        loss = results[0]\n",
    "        recall = results[1]\n",
    "        print(f'Loss: {loss:.4f}')\n",
    "        print(f'Recall: {recall:.4f}')\n",
    "\n",
    "        # Get predictions for metrics calculation\n",
    "        y_pred_prob = self.model.predict(test_data)\n",
    "        y_pred = np.round(y_pred_prob).astype(int)\n",
    "\n",
    "        # Calculate recall\n",
    "        recall = recall_score(test_labels, y_pred)\n",
    "        print(f'Recall: {recall:.4f}')\n",
    "\n",
    "        # Calculate F1 score\n",
    "        f1 = f1_score(test_labels, y_pred)\n",
    "        print(f'F1 Score: {f1:.4f}')\n",
    "\n",
    "        # Confusion matrix\n",
    "        cm = confusion_matrix(test_labels, y_pred)\n",
    "        cm_labels = [\"Class 0\", \"Class 1\"]\n",
    "        disp = ConfusionMatrixDisplay(confusion_matrix=cm, display_labels=cm_labels)\n",
    "        disp.plot(cmap=plt.cm.Blues)\n",
    "        plt.title('Confusion Matrix')\n",
    "        plt.show()\n",
    "\n",
    "        return loss, recall, f1\n",
    "\n",
    "    def save_model(self, file_path):\n",
    "        self.model.save(file_path)\n",
    "        print(f'Model saved to {file_path}')\n"
   ],
   "id": "8730053e3e15f068",
   "outputs": [],
   "execution_count": 13
  },
  {
   "metadata": {},
   "cell_type": "markdown",
   "source": "##### Train and evaluate on 1-second segmentation  window data",
   "id": "aff000e35d0be8b"
  },
  {
   "metadata": {
    "ExecuteTime": {
     "end_time": "2025-02-09T14:35:59.316541Z",
     "start_time": "2025-02-09T13:24:36.310707Z"
    }
   },
   "cell_type": "code",
   "source": [
    "# Instantiate a BiLSTM with attention model\n",
    "# 1-second window segmented data\n",
    "bilstm_attention_model_1 = BiLSTMAttentionModel(train_shape=train_signals.shape, initial_lr=0.0001)\n",
    "\n",
    "# Compile the model\n",
    "bilstm_attention_model_1.compile()\n",
    "\n",
    "# Set up callbacks\n",
    "earlystopper = EarlyStopping(monitor='val_loss', patience=25, restore_best_weights=True, verbose=1)\n",
    "reduce_lr = ReduceLROnPlateau(monitor='val_loss', factor=0.5, patience=5, min_lr=0.0000001, verbose=1, cooldown=10)\n",
    "\n",
    "# Train the model\n",
    "model_1 = bilstm_attention_model_1.train(train_signals_norm, train_labels, batch_size=32, epochs=100, validation_split=0.2, callbacks=[earlystopper, reduce_lr])\n",
    "\n",
    "# Evaluate the model\n",
    "loss, recall, f1 = bilstm_attention_model_1.evaluate(val_signals_norm, val_labels)\n",
    "\n",
    "# Save the model to a file\n",
    "bilstm_attention_model_1.save_model('bilstm_attention_model_1.h5')\n",
    "\n",
    "# Print model summary\n",
    "bilstm_attention_model_1.model.summary()"
   ],
   "id": "4a74e7e8071cc2d6",
   "outputs": [
    {
     "name": "stdout",
     "output_type": "stream",
     "text": [
      "Epoch 1/100\n",
      "942/942 [==============================] - 42s 41ms/step - loss: 1.6279 - recall: 0.2790 - val_loss: 1.3267 - val_recall: 0.3648 - lr: 1.0000e-04\n",
      "Epoch 2/100\n",
      "942/942 [==============================] - 216s 229ms/step - loss: 1.1594 - recall: 0.3644 - val_loss: 1.0246 - val_recall: 0.3267 - lr: 1.0000e-04\n",
      "Epoch 3/100\n",
      "942/942 [==============================] - 221s 235ms/step - loss: 0.9202 - recall: 0.3953 - val_loss: 0.8574 - val_recall: 0.3904 - lr: 1.0000e-04\n",
      "Epoch 4/100\n",
      "942/942 [==============================] - 225s 239ms/step - loss: 0.7763 - recall: 0.4233 - val_loss: 0.7497 - val_recall: 0.4060 - lr: 1.0000e-04\n",
      "Epoch 5/100\n",
      "942/942 [==============================] - 222s 236ms/step - loss: 0.6836 - recall: 0.4554 - val_loss: 0.6835 - val_recall: 0.4347 - lr: 1.0000e-04\n",
      "Epoch 6/100\n",
      "942/942 [==============================] - 225s 239ms/step - loss: 0.6186 - recall: 0.4840 - val_loss: 0.6326 - val_recall: 0.4197 - lr: 1.0000e-04\n",
      "Epoch 7/100\n",
      "942/942 [==============================] - 228s 242ms/step - loss: 0.5693 - recall: 0.5146 - val_loss: 0.6061 - val_recall: 0.4866 - lr: 1.0000e-04\n",
      "Epoch 8/100\n",
      "942/942 [==============================] - 227s 241ms/step - loss: 0.5302 - recall: 0.5535 - val_loss: 0.5755 - val_recall: 0.5109 - lr: 1.0000e-04\n",
      "Epoch 9/100\n",
      "942/942 [==============================] - 116s 123ms/step - loss: 0.4987 - recall: 0.5752 - val_loss: 0.5650 - val_recall: 0.5022 - lr: 1.0000e-04\n",
      "Epoch 10/100\n",
      "942/942 [==============================] - 43s 45ms/step - loss: 0.4748 - recall: 0.6017 - val_loss: 0.5515 - val_recall: 0.5459 - lr: 1.0000e-04\n",
      "Epoch 11/100\n",
      "942/942 [==============================] - 45s 48ms/step - loss: 0.4533 - recall: 0.6170 - val_loss: 0.5354 - val_recall: 0.5303 - lr: 1.0000e-04\n",
      "Epoch 12/100\n",
      "942/942 [==============================] - 45s 48ms/step - loss: 0.4372 - recall: 0.6365 - val_loss: 0.5269 - val_recall: 0.5084 - lr: 1.0000e-04\n",
      "Epoch 13/100\n",
      "942/942 [==============================] - 45s 48ms/step - loss: 0.4197 - recall: 0.6538 - val_loss: 0.5372 - val_recall: 0.5128 - lr: 1.0000e-04\n",
      "Epoch 14/100\n",
      "942/942 [==============================] - 45s 48ms/step - loss: 0.4076 - recall: 0.6632 - val_loss: 0.5281 - val_recall: 0.4703 - lr: 1.0000e-04\n",
      "Epoch 15/100\n",
      "942/942 [==============================] - 45s 48ms/step - loss: 0.3931 - recall: 0.6824 - val_loss: 0.5323 - val_recall: 0.4991 - lr: 1.0000e-04\n",
      "Epoch 16/100\n",
      "942/942 [==============================] - 45s 48ms/step - loss: 0.3834 - recall: 0.6937 - val_loss: 0.5370 - val_recall: 0.5659 - lr: 1.0000e-04\n",
      "Epoch 17/100\n",
      "942/942 [==============================] - 46s 49ms/step - loss: 0.3730 - recall: 0.7020 - val_loss: 0.5184 - val_recall: 0.5572 - lr: 1.0000e-04\n",
      "Epoch 18/100\n",
      "942/942 [==============================] - 46s 49ms/step - loss: 0.3592 - recall: 0.7188 - val_loss: 0.5375 - val_recall: 0.5334 - lr: 1.0000e-04\n",
      "Epoch 19/100\n",
      "942/942 [==============================] - 46s 49ms/step - loss: 0.3529 - recall: 0.7283 - val_loss: 0.5170 - val_recall: 0.5553 - lr: 1.0000e-04\n",
      "Epoch 20/100\n",
      "942/942 [==============================] - 46s 49ms/step - loss: 0.3471 - recall: 0.7340 - val_loss: 0.5125 - val_recall: 0.5315 - lr: 1.0000e-04\n",
      "Epoch 21/100\n",
      "942/942 [==============================] - 46s 49ms/step - loss: 0.3365 - recall: 0.7400 - val_loss: 0.5259 - val_recall: 0.5940 - lr: 1.0000e-04\n",
      "Epoch 22/100\n",
      "942/942 [==============================] - 46s 49ms/step - loss: 0.3306 - recall: 0.7463 - val_loss: 0.5049 - val_recall: 0.5534 - lr: 1.0000e-04\n",
      "Epoch 23/100\n",
      "942/942 [==============================] - 46s 49ms/step - loss: 0.3221 - recall: 0.7596 - val_loss: 0.5725 - val_recall: 0.5609 - lr: 1.0000e-04\n",
      "Epoch 24/100\n",
      "942/942 [==============================] - 46s 49ms/step - loss: 0.3172 - recall: 0.7663 - val_loss: 0.5243 - val_recall: 0.5303 - lr: 1.0000e-04\n",
      "Epoch 25/100\n",
      "942/942 [==============================] - 46s 49ms/step - loss: 0.3090 - recall: 0.7749 - val_loss: 0.5455 - val_recall: 0.5896 - lr: 1.0000e-04\n",
      "Epoch 26/100\n",
      "942/942 [==============================] - 45s 48ms/step - loss: 0.3013 - recall: 0.7811 - val_loss: 0.5562 - val_recall: 0.5928 - lr: 1.0000e-04\n",
      "Epoch 27/100\n",
      "942/942 [==============================] - ETA: 0s - loss: 0.2986 - recall: 0.7896\n",
      "Epoch 27: ReduceLROnPlateau reducing learning rate to 4.999999873689376e-05.\n",
      "942/942 [==============================] - 45s 48ms/step - loss: 0.2986 - recall: 0.7896 - val_loss: 0.5517 - val_recall: 0.6115 - lr: 1.0000e-04\n",
      "Epoch 28/100\n",
      "942/942 [==============================] - 45s 48ms/step - loss: 0.2694 - recall: 0.8225 - val_loss: 0.6021 - val_recall: 0.6259 - lr: 5.0000e-05\n",
      "Epoch 29/100\n",
      "942/942 [==============================] - 45s 48ms/step - loss: 0.2606 - recall: 0.8381 - val_loss: 0.5720 - val_recall: 0.5621 - lr: 5.0000e-05\n",
      "Epoch 30/100\n",
      "942/942 [==============================] - 45s 48ms/step - loss: 0.2572 - recall: 0.8384 - val_loss: 0.6156 - val_recall: 0.6165 - lr: 5.0000e-05\n",
      "Epoch 31/100\n",
      "942/942 [==============================] - 45s 48ms/step - loss: 0.2539 - recall: 0.8353 - val_loss: 0.6136 - val_recall: 0.5796 - lr: 5.0000e-05\n",
      "Epoch 32/100\n",
      "942/942 [==============================] - 45s 48ms/step - loss: 0.2496 - recall: 0.8449 - val_loss: 0.6108 - val_recall: 0.5853 - lr: 5.0000e-05\n",
      "Epoch 33/100\n",
      "942/942 [==============================] - 46s 48ms/step - loss: 0.2448 - recall: 0.8475 - val_loss: 0.6241 - val_recall: 0.6134 - lr: 5.0000e-05\n",
      "Epoch 34/100\n",
      "942/942 [==============================] - 46s 48ms/step - loss: 0.2435 - recall: 0.8495 - val_loss: 0.6394 - val_recall: 0.6184 - lr: 5.0000e-05\n",
      "Epoch 35/100\n",
      "942/942 [==============================] - 45s 48ms/step - loss: 0.2400 - recall: 0.8526 - val_loss: 0.6440 - val_recall: 0.6027 - lr: 5.0000e-05\n",
      "Epoch 36/100\n",
      "942/942 [==============================] - 46s 49ms/step - loss: 0.2363 - recall: 0.8605 - val_loss: 0.6196 - val_recall: 0.5953 - lr: 5.0000e-05\n",
      "Epoch 37/100\n",
      "942/942 [==============================] - 46s 49ms/step - loss: 0.2323 - recall: 0.8656 - val_loss: 0.6407 - val_recall: 0.5903 - lr: 5.0000e-05\n",
      "Epoch 38/100\n",
      "942/942 [==============================] - 79s 83ms/step - loss: 0.2297 - recall: 0.8684 - val_loss: 0.6281 - val_recall: 0.5996 - lr: 5.0000e-05\n",
      "Epoch 39/100\n",
      "942/942 [==============================] - 228s 242ms/step - loss: 0.2290 - recall: 0.8645 - val_loss: 0.6698 - val_recall: 0.6302 - lr: 5.0000e-05\n",
      "Epoch 40/100\n",
      "942/942 [==============================] - 228s 242ms/step - loss: 0.2253 - recall: 0.8698 - val_loss: 0.6342 - val_recall: 0.5865 - lr: 5.0000e-05\n",
      "Epoch 41/100\n",
      "942/942 [==============================] - ETA: 0s - loss: 0.2231 - recall: 0.8738\n",
      "Epoch 41: ReduceLROnPlateau reducing learning rate to 2.499999936844688e-05.\n",
      "942/942 [==============================] - 228s 242ms/step - loss: 0.2231 - recall: 0.8738 - val_loss: 0.6496 - val_recall: 0.6115 - lr: 5.0000e-05\n",
      "Epoch 42/100\n",
      "942/942 [==============================] - 228s 242ms/step - loss: 0.2061 - recall: 0.8939 - val_loss: 0.7084 - val_recall: 0.6052 - lr: 2.5000e-05\n",
      "Epoch 43/100\n",
      "942/942 [==============================] - 107s 114ms/step - loss: 0.2020 - recall: 0.8985 - val_loss: 0.7169 - val_recall: 0.6102 - lr: 2.5000e-05\n",
      "Epoch 44/100\n",
      "942/942 [==============================] - 44s 47ms/step - loss: 0.1995 - recall: 0.9013 - val_loss: 0.7509 - val_recall: 0.6240 - lr: 2.5000e-05\n",
      "Epoch 45/100\n",
      "942/942 [==============================] - 46s 49ms/step - loss: 0.1967 - recall: 0.9055 - val_loss: 0.7252 - val_recall: 0.5946 - lr: 2.5000e-05\n",
      "Epoch 46/100\n",
      "942/942 [==============================] - 46s 48ms/step - loss: 0.1965 - recall: 0.9022 - val_loss: 0.7507 - val_recall: 0.5996 - lr: 2.5000e-05\n",
      "Epoch 47/100\n",
      "942/942 [==============================] - ETA: 0s - loss: 0.1957 - recall: 0.9073Restoring model weights from the end of the best epoch: 22.\n",
      "942/942 [==============================] - 45s 48ms/step - loss: 0.1957 - recall: 0.9073 - val_loss: 0.7587 - val_recall: 0.6034 - lr: 2.5000e-05\n",
      "Epoch 47: early stopping\n"
     ]
    },
    {
     "data": {
      "text/plain": [
       "<Figure size 640x480 with 1 Axes>"
      ],
      "image/png": "[encoded data removed]"
     },
     "metadata": {},
     "output_type": "display_data"
    },
    {
     "name": "stdout",
     "output_type": "stream",
     "text": [
      "Loss: 0.5221\n",
      "Recall: 0.5409\n",
      "253/253 [==============================] - 5s 15ms/step\n",
      "Recall: 0.5409\n",
      "F1 Score: 0.6203\n"
     ]
    },
    {
     "data": {
      "text/plain": [
       "<Figure size 640x480 with 2 Axes>"
      ],
      "image/png": "[encoded data removed]"
     },
     "metadata": {},
     "output_type": "display_data"
    },
    {
     "name": "stdout",
     "output_type": "stream",
     "text": [
      "Model saved to bilstm_attention_model_1.h5\n",
      "Model: \"model_1\"\n",
      "__________________________________________________________________________________________________\n",
      " Layer (type)                   Output Shape         Param #     Connected to                     \n",
      "==================================================================================================\n",
      " input_2 (InputLayer)           [(None, 23, 256)]    0           []                               \n",
      "                                                                                                  \n",
      " bidirectional_2 (Bidirectional  (None, 23, 128)     164352      ['input_2[0][0]']                \n",
      " )                                                                                                \n",
      "                                                                                                  \n",
      " dropout_2 (Dropout)            (None, 23, 128)      0           ['bidirectional_2[0][0]']        \n",
      "                                                                                                  \n",
      " bidirectional_3 (Bidirectional  (None, 23, 64)      41216       ['dropout_2[0][0]']              \n",
      " )                                                                                                \n",
      "                                                                                                  \n",
      " attention_1 (Attention)        (None, 23, 64)       1           ['bidirectional_3[0][0]',        \n",
      "                                                                  'bidirectional_3[0][0]']        \n",
      "                                                                                                  \n",
      " flatten_1 (Flatten)            (None, 1472)         0           ['attention_1[0][0]']            \n",
      "                                                                                                  \n",
      " dense_3 (Dense)                (None, 128)          188544      ['flatten_1[0][0]']              \n",
      "                                                                                                  \n",
      " dropout_3 (Dropout)            (None, 128)          0           ['dense_3[0][0]']                \n",
      "                                                                                                  \n",
      " dense_4 (Dense)                (None, 8)            1032        ['dropout_3[0][0]']              \n",
      "                                                                                                  \n",
      " dense_5 (Dense)                (None, 1)            9           ['dense_4[0][0]']                \n",
      "                                                                                                  \n",
      "==================================================================================================\n",
      "Total params: 395,154\n",
      "Trainable params: 395,154\n",
      "Non-trainable params: 0\n",
      "__________________________________________________________________________________________________\n"
     ]
    }
   ],
   "execution_count": 24
  },
  {
   "metadata": {},
   "cell_type": "markdown",
   "source": "#### Training on 10-second segementation window",
   "id": "76fe5a092af22baf"
  },
  {
   "metadata": {
    "ExecuteTime": {
     "end_time": "2025-02-10T06:47:58.536480Z",
     "start_time": "2025-02-10T06:35:14.586541Z"
    }
   },
   "cell_type": "code",
   "source": [
    "1# Instantiate a BiLSTM with attention model\n",
    "# 10-second window segmented data\n",
    "bilstm_attention_model = BiLSTMAttentionModel(train_shape=train_10sec_norm.shape, initial_lr=0.0001)\n",
    "\n",
    "# Compile the model\n",
    "bilstm_attention_model.compile()\n",
    "\n",
    "# Set up callbacks\n",
    "earlystop = EarlyStopping(monitor='val_loss', patience=25, restore_best_weights=True, verbose=1)\n",
    "reduce_lr = ReduceLROnPlateau(monitor='val_loss', factor=0.5, patience=5, min_lr=0.0000001, verbose=1, cooldown=10)\n",
    "\n",
    "# Train the model\n",
    "model = bilstm_attention_model.train(train_10sec_norm, train_10sec_labels, batch_size=32, epochs=100, validation_split=0.2, callbacks=[earlystop, reduce_lr])\n",
    "\n",
    "# Evaluate the model\n",
    "loss, recall, f1 = bilstm_attention_model.evaluate(test_10sec_norm, test_10sec_labels)\n",
    "\n",
    "# Save the model to a file\n",
    "#bilstm_attention_model.save_model('bilstm_attention_model.h5')\n",
    "\n",
    "# Print model summary\n",
    "bilstm_attention_model.model.summary()\n"
   ],
   "id": "282121ee384eb11e",
   "outputs": [
    {
     "name": "stdout",
     "output_type": "stream",
     "text": [
      "Epoch 1/100\n",
      "462/462 [==============================] - 24s 45ms/step - loss: 2.2153 - recall: 0.2626 - val_loss: 1.9264 - val_recall: 0.3430 - lr: 1.0000e-04\n",
      "Epoch 2/100\n",
      "462/462 [==============================] - 20s 43ms/step - loss: 1.7265 - recall: 0.4228 - val_loss: 1.6174 - val_recall: 0.3884 - lr: 1.0000e-04\n",
      "Epoch 3/100\n",
      "462/462 [==============================] - 20s 44ms/step - loss: 1.4249 - recall: 0.5098 - val_loss: 1.4223 - val_recall: 0.3998 - lr: 1.0000e-04\n",
      "Epoch 4/100\n",
      "462/462 [==============================] - 24s 51ms/step - loss: 1.2113 - recall: 0.5811 - val_loss: 1.3068 - val_recall: 0.4494 - lr: 1.0000e-04\n",
      "Epoch 5/100\n",
      "462/462 [==============================] - 25s 54ms/step - loss: 1.0522 - recall: 0.6490 - val_loss: 1.2412 - val_recall: 0.5041 - lr: 1.0000e-04\n",
      "Epoch 6/100\n",
      "462/462 [==============================] - 25s 54ms/step - loss: 0.9314 - recall: 0.7117 - val_loss: 1.1978 - val_recall: 0.4700 - lr: 1.0000e-04\n",
      "Epoch 7/100\n",
      "462/462 [==============================] - 25s 54ms/step - loss: 0.8276 - recall: 0.7780 - val_loss: 1.2098 - val_recall: 0.4556 - lr: 1.0000e-04\n",
      "Epoch 8/100\n",
      "462/462 [==============================] - 25s 54ms/step - loss: 0.7531 - recall: 0.8045 - val_loss: 1.2519 - val_recall: 0.4308 - lr: 1.0000e-04\n",
      "Epoch 9/100\n",
      "462/462 [==============================] - 25s 54ms/step - loss: 0.6865 - recall: 0.8433 - val_loss: 1.2477 - val_recall: 0.4783 - lr: 1.0000e-04\n",
      "Epoch 10/100\n",
      "462/462 [==============================] - 25s 53ms/step - loss: 0.6315 - recall: 0.8721 - val_loss: 1.2413 - val_recall: 0.4762 - lr: 1.0000e-04\n",
      "Epoch 11/100\n",
      "461/462 [============================>.] - ETA: 0s - loss: 0.5853 - recall: 0.8914\n",
      "Epoch 11: ReduceLROnPlateau reducing learning rate to 4.999999873689376e-05.\n",
      "462/462 [==============================] - 25s 55ms/step - loss: 0.5853 - recall: 0.8915 - val_loss: 1.2865 - val_recall: 0.4814 - lr: 1.0000e-04\n",
      "Epoch 12/100\n",
      "462/462 [==============================] - 25s 53ms/step - loss: 0.5218 - recall: 0.9358 - val_loss: 1.4547 - val_recall: 0.4628 - lr: 5.0000e-05\n",
      "Epoch 13/100\n",
      "462/462 [==============================] - 25s 53ms/step - loss: 0.4899 - recall: 0.9541 - val_loss: 1.5237 - val_recall: 0.4700 - lr: 5.0000e-05\n",
      "Epoch 14/100\n",
      "462/462 [==============================] - 25s 54ms/step - loss: 0.4725 - recall: 0.9588 - val_loss: 1.5455 - val_recall: 0.5000 - lr: 5.0000e-05\n",
      "Epoch 15/100\n",
      "462/462 [==============================] - 25s 54ms/step - loss: 0.4578 - recall: 0.9588 - val_loss: 1.5740 - val_recall: 0.5444 - lr: 5.0000e-05\n",
      "Epoch 16/100\n",
      "462/462 [==============================] - 25s 53ms/step - loss: 0.4380 - recall: 0.9678 - val_loss: 1.6401 - val_recall: 0.4969 - lr: 5.0000e-05\n",
      "Epoch 17/100\n",
      "462/462 [==============================] - 25s 54ms/step - loss: 0.4245 - recall: 0.9706 - val_loss: 1.7180 - val_recall: 0.4804 - lr: 5.0000e-05\n",
      "Epoch 18/100\n",
      "462/462 [==============================] - 25s 54ms/step - loss: 0.4117 - recall: 0.9696 - val_loss: 1.7954 - val_recall: 0.4907 - lr: 5.0000e-05\n",
      "Epoch 19/100\n",
      "462/462 [==============================] - 25s 54ms/step - loss: 0.4045 - recall: 0.9720 - val_loss: 1.7450 - val_recall: 0.4814 - lr: 5.0000e-05\n",
      "Epoch 20/100\n",
      "462/462 [==============================] - 25s 54ms/step - loss: 0.3897 - recall: 0.9769 - val_loss: 1.8357 - val_recall: 0.4835 - lr: 5.0000e-05\n",
      "Epoch 21/100\n",
      "462/462 [==============================] - 25s 53ms/step - loss: 0.3798 - recall: 0.9824 - val_loss: 1.8213 - val_recall: 0.5031 - lr: 5.0000e-05\n",
      "Epoch 22/100\n",
      "462/462 [==============================] - 25s 54ms/step - loss: 0.3734 - recall: 0.9772 - val_loss: 1.8710 - val_recall: 0.5052 - lr: 5.0000e-05\n",
      "Epoch 23/100\n",
      "462/462 [==============================] - 24s 53ms/step - loss: 0.3602 - recall: 0.9837 - val_loss: 1.9031 - val_recall: 0.4979 - lr: 5.0000e-05\n",
      "Epoch 24/100\n",
      "462/462 [==============================] - 25s 53ms/step - loss: 0.3551 - recall: 0.9817 - val_loss: 1.9495 - val_recall: 0.4897 - lr: 5.0000e-05\n",
      "Epoch 25/100\n",
      "461/462 [============================>.] - ETA: 0s - loss: 0.3509 - recall: 0.9811\n",
      "Epoch 25: ReduceLROnPlateau reducing learning rate to 2.499999936844688e-05.\n",
      "462/462 [==============================] - 25s 54ms/step - loss: 0.3508 - recall: 0.9811 - val_loss: 1.8415 - val_recall: 0.4618 - lr: 5.0000e-05\n",
      "Epoch 26/100\n",
      "462/462 [==============================] - 25s 53ms/step - loss: 0.3339 - recall: 0.9919 - val_loss: 1.8667 - val_recall: 0.4824 - lr: 2.5000e-05\n",
      "Epoch 27/100\n",
      "462/462 [==============================] - 25s 53ms/step - loss: 0.3267 - recall: 0.9950 - val_loss: 1.9492 - val_recall: 0.4793 - lr: 2.5000e-05\n",
      "Epoch 28/100\n",
      "462/462 [==============================] - 25s 53ms/step - loss: 0.3197 - recall: 0.9950 - val_loss: 2.0420 - val_recall: 0.5021 - lr: 2.5000e-05\n",
      "Epoch 29/100\n",
      "462/462 [==============================] - 25s 54ms/step - loss: 0.3131 - recall: 0.9979 - val_loss: 2.1216 - val_recall: 0.5000 - lr: 2.5000e-05\n",
      "Epoch 30/100\n",
      "462/462 [==============================] - 25s 53ms/step - loss: 0.3104 - recall: 0.9958 - val_loss: 2.1565 - val_recall: 0.5248 - lr: 2.5000e-05\n",
      "Epoch 31/100\n",
      "461/462 [============================>.] - ETA: 0s - loss: 0.3093 - recall: 0.9927Restoring model weights from the end of the best epoch: 6.\n",
      "462/462 [==============================] - 25s 53ms/step - loss: 0.3093 - recall: 0.9927 - val_loss: 2.1968 - val_recall: 0.4969 - lr: 2.5000e-05\n",
      "Epoch 31: early stopping\n"
     ]
    },
    {
     "data": {
      "text/plain": [
       "<Figure size 640x480 with 1 Axes>"
      ],
      "image/png": "[encoded data removed]"
     },
     "metadata": {},
     "output_type": "display_data"
    },
    {
     "name": "stdout",
     "output_type": "stream",
     "text": [
      "Loss: 1.1920\n",
      "Recall: 0.4891\n",
      "145/145 [==============================] - 3s 15ms/step\n",
      "Recall: 0.4891\n",
      "F1 Score: 0.5516\n"
     ]
    },
    {
     "data": {
      "text/plain": [
       "<Figure size 640x480 with 2 Axes>"
      ],
      "image/png": "[encoded data removed]"
     },
     "metadata": {},
     "output_type": "display_data"
    },
    {
     "name": "stdout",
     "output_type": "stream",
     "text": [
      "Model: \"model\"\n",
      "__________________________________________________________________________________________________\n",
      " Layer (type)                   Output Shape         Param #     Connected to                     \n",
      "==================================================================================================\n",
      " input_1 (InputLayer)           [(None, 23, 1024)]   0           []                               \n",
      "                                                                                                  \n",
      " bidirectional (Bidirectional)  (None, 23, 128)      557568      ['input_1[0][0]']                \n",
      "                                                                                                  \n",
      " dropout (Dropout)              (None, 23, 128)      0           ['bidirectional[0][0]']          \n",
      "                                                                                                  \n",
      " bidirectional_1 (Bidirectional  (None, 23, 64)      41216       ['dropout[0][0]']                \n",
      " )                                                                                                \n",
      "                                                                                                  \n",
      " attention (Attention)          (None, 23, 64)       1           ['bidirectional_1[0][0]',        \n",
      "                                                                  'bidirectional_1[0][0]']        \n",
      "                                                                                                  \n",
      " flatten (Flatten)              (None, 1472)         0           ['attention[0][0]']              \n",
      "                                                                                                  \n",
      " dense (Dense)                  (None, 128)          188544      ['flatten[0][0]']                \n",
      "                                                                                                  \n",
      " dropout_1 (Dropout)            (None, 128)          0           ['dense[0][0]']                  \n",
      "                                                                                                  \n",
      " dense_1 (Dense)                (None, 8)            1032        ['dropout_1[0][0]']              \n",
      "                                                                                                  \n",
      " dense_2 (Dense)                (None, 1)            9           ['dense_1[0][0]']                \n",
      "                                                                                                  \n",
      "==================================================================================================\n",
      "Total params: 788,370\n",
      "Trainable params: 788,370\n",
      "Non-trainable params: 0\n",
      "__________________________________________________________________________________________________\n"
     ]
    }
   ],
   "execution_count": 14
  },
  {
   "metadata": {},
   "cell_type": "markdown",
   "source": [
    "#### Results of hybrid BiLSTM-Attention model\n",
    "|                  | recall  | val_recall |\n",
    "|------------------|---------|------------|\n",
    "| 1-second window  | 0.9073  | 0.6034     |\n",
    "| 10-seconds window| 0.9938  | 0.4695     |\n",
    "\n",
    "\n",
    "10-second window achieve high recall values much quicker than 1-second window despite having poorer validation recall.\n",
    "There is *overfitting*.\n",
    "\n",
    "Despite using adaptive learning rate, a process to lower learning rate as model improves, model still overfits.\n",
    "This is due to *insufficient data*. The model is very good at 'memorising' relatively small samples of seizures.\n",
    "\n",
    "Value dropout has been implemented to reduce overfitting, however model will require many more data samples for robust training.\n",
    "I will now evaluate models that show robustness with less data."
   ],
   "id": "3c7dd3cb63c45a42"
  },
  {
   "metadata": {},
   "cell_type": "markdown",
   "source": [
    "#### Latent Space Clustering\n",
    "\n",
    "Autoencoders, a type of neural network, are valuable in distinguishing between seizure and normal states. By transforming EEG data into a lower-dimensional latent space, the encoder component of the autoencoder captures critical features.\n",
    "\n",
    "Through training on dataset with both classes, the autoencoder minimizes reconstruction error, effectively encoding both seizure and normal samples. In this latent space, clusters corresponding to different types of EEG data naturally form. Using clustering algorithms, these distinct clusters can be identified, enabling binary classification of EEG samples based on their latent space representation."
   ],
   "id": "698a0b8bcb3b495a"
  },
  {
   "metadata": {
    "ExecuteTime": {
     "end_time": "2025-02-10T07:03:31.609994Z",
     "start_time": "2025-02-10T07:03:31.590604Z"
    }
   },
   "cell_type": "code",
   "source": [
    "class AutoencoderModel:\n",
    "    \"\"\"Unsupervised learning\"\"\"\n",
    "    def __init__(self, train_shape: tuple, initial_lr: float = 0.0001):\n",
    "        self.train_shape = train_shape\n",
    "        self.initial_lr = initial_lr\n",
    "        self.autoencoder, self.inputs, self.latent_vector = self.build_model()\n",
    "        #self.autoencoder.compile()\n",
    "\n",
    "    def build_model(self):\n",
    "        inputs = Input(shape=(self.train_shape[1], self.train_shape[2]))\n",
    "        # Encoder\n",
    "        encode1 = Conv1D(filters=24, kernel_size=3, activation='relu', padding='same')(inputs)\n",
    "        encode2 = MaxPooling1D(pool_size=2, padding='same')(encode1)\n",
    "        encode3 = Conv1D(filters=12, kernel_size=3, activation='relu', padding='same')(encode2)\n",
    "        encode4 = MaxPooling1D(pool_size=2, padding='same')(encode3)\n",
    "        latent_vector = Conv1D(filters=6, kernel_size=3, activation='relu', padding='same')(encode4)\n",
    "        # Decoder\n",
    "        decode1 = Conv1D(filters=6, kernel_size=3, activation='relu', padding='same')(latent_vector)\n",
    "        decode2 = UpSampling1D(size=2)(decode1)\n",
    "        decode3 = Conv1D(filters=12, kernel_size=3, activation='relu', padding='same')(decode2)\n",
    "        decode4 = UpSampling1D(size=2)(decode3)\n",
    "        decode5 = Conv1D(filters=24, kernel_size=3, activation='relu', padding='same')(decode4)\n",
    "        ae_outputs = Dense(self.train_shape[2])(decode5)\n",
    "\n",
    "        autoencoder = Model(inputs=inputs, outputs=ae_outputs)\n",
    "        return autoencoder, inputs, latent_vector\n",
    "\n",
    "    def compile(self):\n",
    "        optimiser = Adam(learning_rate=self.initial_lr)\n",
    "        self.autoencoder.compile(optimizer=optimiser, loss='mse')\n",
    "\n",
    "    def train(self, X_train, y_train, batch_size=32, epochs=10, validation_split=0.2, callbacks=None):\n",
    "        history = self.autoencoder.fit(X_train, y_train, batch_size=batch_size,\n",
    "                                       epochs=epochs, validation_split=validation_split, callbacks=callbacks)\n",
    "\n",
    "        # Plot recall during training\n",
    "        recall_train = history.history.get('recall', [])\n",
    "        if recall_train:\n",
    "            epochs_range = range(1, len(recall_train) + 1)\n",
    "            plt.plot(epochs_range, recall_train, label='Training Recall')\n",
    "            plt.xlabel('Epochs')\n",
    "            plt.ylabel('Recall')\n",
    "            plt.legend()\n",
    "            plt.title('Training Recall vs Epochs')\n",
    "            plt.show()\n",
    "\n",
    "        return history\n",
    "\n",
    "    def evaluate(self, test_data, test_labels):\n",
    "        # Evaluate model\n",
    "        results = self.autoencoder.evaluate(test_data, test_labels, verbose=0)\n",
    "        loss = results[0]\n",
    "        print(f'Loss: {loss:.4f}')\n",
    "\n",
    "        # Get predictions for metrics calculation\n",
    "        y_pred_prob = self.autoencoder.predict(test_data)\n",
    "        y_pred = np.round(y_pred_prob).astype(int)\n",
    "\n",
    "        # Calculate recall\n",
    "        recall = recall_score(test_labels, y_pred)\n",
    "        print(f'Recall: {recall:.4f}')\n",
    "\n",
    "        # Calculate F1 score\n",
    "        f1 = f1_score(test_labels, y_pred)\n",
    "        print(f'F1 Score: {f1:.4f}')\n",
    "\n",
    "        # Confusion matrix\n",
    "        cm = confusion_matrix(test_labels, y_pred)\n",
    "        cm_labels = [\"Class 0\", \"Class 1\"]\n",
    "        disp = ConfusionMatrixDisplay(confusion_matrix=cm, display_labels=cm_labels)\n",
    "        disp.plot(cmap=plt.cm.Blues)\n",
    "        plt.title('Confusion Matrix')\n",
    "        plt.show()\n",
    "\n",
    "        return loss, recall, f1\n",
    "\n",
    "    def save_model(self, file_path):\n",
    "        self.autoencoder.save(file_path)\n",
    "        print(f'Model saved to {file_path}')\n"
   ],
   "id": "f758b2bb0c1ee389",
   "outputs": [],
   "execution_count": 23
  },
  {
   "metadata": {
    "ExecuteTime": {
     "end_time": "2025-02-10T07:03:40.234783Z",
     "start_time": "2025-02-10T07:03:40.039151Z"
    }
   },
   "cell_type": "code",
   "source": [
    "# Instantiate the model\n",
    "autoencoder_model = AutoencoderModel(train_10sec_norm.shape, 0.0001)\n",
    "\n",
    "# Ensure the model is compiled correctly\n",
    "autoencoder_model.compile()\n",
    "\n",
    "# Train the model\n",
    "history = autoencoder_model.train(train_10sec_norm, train_10sec_norm, batch_size=32, epochs=10, validation_split=0.2)\n",
    "\n",
    "# Evaluate the model\n",
    "loss, recall, f1 = autoencoder_model.evaluate(test_10sec_norm, test_10sec_norm)\n",
    "\n",
    "# Print evaluation results\n",
    "print(f'Loss: {loss:.4f}')\n",
    "print(f'Recall: {recall:.4f}')\n",
    "print(f'F1 Score: {f1:.4f}')\n",
    "\n",
    "# Save the model\n",
    "file_path = 'autoencoder_model.h5'\n",
    "autoencoder_model.save_model(file_path)\n",
    "\n"
   ],
   "id": "4af65994cedd314c",
   "outputs": [
    {
     "name": "stdout",
     "output_type": "stream",
     "text": [
      "Epoch 1/10\n"
     ]
    },
    {
     "ename": "ValueError",
     "evalue": "in user code:\n\n    File \"C:\\Users\\mspla\\miniconda3\\envs\\seizurePy3.9\\lib\\site-packages\\keras\\engine\\training.py\", line 1160, in train_function  *\n        return step_function(self, iterator)\n    File \"C:\\Users\\mspla\\miniconda3\\envs\\seizurePy3.9\\lib\\site-packages\\keras\\engine\\training.py\", line 1146, in step_function  **\n        outputs = model.distribute_strategy.run(run_step, args=(data,))\n    File \"C:\\Users\\mspla\\miniconda3\\envs\\seizurePy3.9\\lib\\site-packages\\keras\\engine\\training.py\", line 1135, in run_step  **\n        outputs = model.train_step(data)\n    File \"C:\\Users\\mspla\\miniconda3\\envs\\seizurePy3.9\\lib\\site-packages\\keras\\engine\\training.py\", line 994, in train_step\n        loss = self.compute_loss(x, y, y_pred, sample_weight)\n    File \"C:\\Users\\mspla\\miniconda3\\envs\\seizurePy3.9\\lib\\site-packages\\keras\\engine\\training.py\", line 1052, in compute_loss\n        return self.compiled_loss(\n    File \"C:\\Users\\mspla\\miniconda3\\envs\\seizurePy3.9\\lib\\site-packages\\keras\\engine\\compile_utils.py\", line 265, in __call__\n        loss_value = loss_obj(y_t, y_p, sample_weight=sw)\n    File \"C:\\Users\\mspla\\miniconda3\\envs\\seizurePy3.9\\lib\\site-packages\\keras\\losses.py\", line 152, in __call__\n        losses = call_fn(y_true, y_pred)\n    File \"C:\\Users\\mspla\\miniconda3\\envs\\seizurePy3.9\\lib\\site-packages\\keras\\losses.py\", line 272, in call  **\n        return ag_fn(y_true, y_pred, **self._fn_kwargs)\n    File \"C:\\Users\\mspla\\miniconda3\\envs\\seizurePy3.9\\lib\\site-packages\\keras\\losses.py\", line 1486, in mean_squared_error\n        return backend.mean(tf.math.squared_difference(y_pred, y_true), axis=-1)\n\n    ValueError: Dimensions must be equal, but are 24 and 23 for '{{node mean_squared_error/SquaredDifference}} = SquaredDifference[T=DT_FLOAT](model_5/dense_7/BiasAdd, IteratorGetNext:1)' with input shapes: [?,24,1024], [?,23,1024].\n",
     "output_type": "error",
     "traceback": [
      "\u001B[1;31m---------------------------------------------------------------------------\u001B[0m",
      "\u001B[1;31mValueError\u001B[0m                                Traceback (most recent call last)",
      "Cell \u001B[1;32mIn[24], line 8\u001B[0m\n\u001B[0;32m      5\u001B[0m autoencoder_model\u001B[38;5;241m.\u001B[39mcompile()\n\u001B[0;32m      7\u001B[0m \u001B[38;5;66;03m# Train the model\u001B[39;00m\n\u001B[1;32m----> 8\u001B[0m history \u001B[38;5;241m=\u001B[39m \u001B[43mautoencoder_model\u001B[49m\u001B[38;5;241;43m.\u001B[39;49m\u001B[43mtrain\u001B[49m\u001B[43m(\u001B[49m\u001B[43mtrain_10sec_norm\u001B[49m\u001B[43m,\u001B[49m\u001B[43m \u001B[49m\u001B[43mtrain_10sec_norm\u001B[49m\u001B[43m,\u001B[49m\u001B[43m \u001B[49m\u001B[43mbatch_size\u001B[49m\u001B[38;5;241;43m=\u001B[39;49m\u001B[38;5;241;43m32\u001B[39;49m\u001B[43m,\u001B[49m\u001B[43m \u001B[49m\u001B[43mepochs\u001B[49m\u001B[38;5;241;43m=\u001B[39;49m\u001B[38;5;241;43m10\u001B[39;49m\u001B[43m,\u001B[49m\u001B[43m \u001B[49m\u001B[43mvalidation_split\u001B[49m\u001B[38;5;241;43m=\u001B[39;49m\u001B[38;5;241;43m0.2\u001B[39;49m\u001B[43m)\u001B[49m\n\u001B[0;32m     10\u001B[0m \u001B[38;5;66;03m# Evaluate the model\u001B[39;00m\n\u001B[0;32m     11\u001B[0m loss, recall, f1 \u001B[38;5;241m=\u001B[39m autoencoder_model\u001B[38;5;241m.\u001B[39mevaluate(test_10sec_norm, test_10sec_norm)\n",
      "Cell \u001B[1;32mIn[23], line 33\u001B[0m, in \u001B[0;36mAutoencoderModel.train\u001B[1;34m(self, X_train, y_train, batch_size, epochs, validation_split, callbacks)\u001B[0m\n\u001B[0;32m     32\u001B[0m \u001B[38;5;28;01mdef\u001B[39;00m \u001B[38;5;21mtrain\u001B[39m(\u001B[38;5;28mself\u001B[39m, X_train, y_train, batch_size\u001B[38;5;241m=\u001B[39m\u001B[38;5;241m32\u001B[39m, epochs\u001B[38;5;241m=\u001B[39m\u001B[38;5;241m10\u001B[39m, validation_split\u001B[38;5;241m=\u001B[39m\u001B[38;5;241m0.2\u001B[39m, callbacks\u001B[38;5;241m=\u001B[39m\u001B[38;5;28;01mNone\u001B[39;00m):\n\u001B[1;32m---> 33\u001B[0m     history \u001B[38;5;241m=\u001B[39m \u001B[38;5;28;43mself\u001B[39;49m\u001B[38;5;241;43m.\u001B[39;49m\u001B[43mautoencoder\u001B[49m\u001B[38;5;241;43m.\u001B[39;49m\u001B[43mfit\u001B[49m\u001B[43m(\u001B[49m\u001B[43mX_train\u001B[49m\u001B[43m,\u001B[49m\u001B[43m \u001B[49m\u001B[43my_train\u001B[49m\u001B[43m,\u001B[49m\u001B[43m \u001B[49m\u001B[43mbatch_size\u001B[49m\u001B[38;5;241;43m=\u001B[39;49m\u001B[43mbatch_size\u001B[49m\u001B[43m,\u001B[49m\n\u001B[0;32m     34\u001B[0m \u001B[43m                                   \u001B[49m\u001B[43mepochs\u001B[49m\u001B[38;5;241;43m=\u001B[39;49m\u001B[43mepochs\u001B[49m\u001B[43m,\u001B[49m\u001B[43m \u001B[49m\u001B[43mvalidation_split\u001B[49m\u001B[38;5;241;43m=\u001B[39;49m\u001B[43mvalidation_split\u001B[49m\u001B[43m,\u001B[49m\u001B[43m \u001B[49m\u001B[43mcallbacks\u001B[49m\u001B[38;5;241;43m=\u001B[39;49m\u001B[43mcallbacks\u001B[49m\u001B[43m)\u001B[49m\n\u001B[0;32m     36\u001B[0m     \u001B[38;5;66;03m# Plot recall during training\u001B[39;00m\n\u001B[0;32m     37\u001B[0m     recall_train \u001B[38;5;241m=\u001B[39m history\u001B[38;5;241m.\u001B[39mhistory\u001B[38;5;241m.\u001B[39mget(\u001B[38;5;124m'\u001B[39m\u001B[38;5;124mrecall\u001B[39m\u001B[38;5;124m'\u001B[39m, [])\n",
      "File \u001B[1;32m~\\miniconda3\\envs\\seizurePy3.9\\lib\\site-packages\\keras\\utils\\traceback_utils.py:70\u001B[0m, in \u001B[0;36mfilter_traceback.<locals>.error_handler\u001B[1;34m(*args, **kwargs)\u001B[0m\n\u001B[0;32m     67\u001B[0m     filtered_tb \u001B[38;5;241m=\u001B[39m _process_traceback_frames(e\u001B[38;5;241m.\u001B[39m__traceback__)\n\u001B[0;32m     68\u001B[0m     \u001B[38;5;66;03m# To get the full stack trace, call:\u001B[39;00m\n\u001B[0;32m     69\u001B[0m     \u001B[38;5;66;03m# `tf.debugging.disable_traceback_filtering()`\u001B[39;00m\n\u001B[1;32m---> 70\u001B[0m     \u001B[38;5;28;01mraise\u001B[39;00m e\u001B[38;5;241m.\u001B[39mwith_traceback(filtered_tb) \u001B[38;5;28;01mfrom\u001B[39;00m \u001B[38;5;28;01mNone\u001B[39;00m\n\u001B[0;32m     71\u001B[0m \u001B[38;5;28;01mfinally\u001B[39;00m:\n\u001B[0;32m     72\u001B[0m     \u001B[38;5;28;01mdel\u001B[39;00m filtered_tb\n",
      "File \u001B[1;32m~\\AppData\\Local\\Temp\\__autograph_generated_filez8ax9jq5.py:15\u001B[0m, in \u001B[0;36mouter_factory.<locals>.inner_factory.<locals>.tf__train_function\u001B[1;34m(iterator)\u001B[0m\n\u001B[0;32m     13\u001B[0m \u001B[38;5;28;01mtry\u001B[39;00m:\n\u001B[0;32m     14\u001B[0m     do_return \u001B[38;5;241m=\u001B[39m \u001B[38;5;28;01mTrue\u001B[39;00m\n\u001B[1;32m---> 15\u001B[0m     retval_ \u001B[38;5;241m=\u001B[39m ag__\u001B[38;5;241m.\u001B[39mconverted_call(ag__\u001B[38;5;241m.\u001B[39mld(step_function), (ag__\u001B[38;5;241m.\u001B[39mld(\u001B[38;5;28mself\u001B[39m), ag__\u001B[38;5;241m.\u001B[39mld(iterator)), \u001B[38;5;28;01mNone\u001B[39;00m, fscope)\n\u001B[0;32m     16\u001B[0m \u001B[38;5;28;01mexcept\u001B[39;00m:\n\u001B[0;32m     17\u001B[0m     do_return \u001B[38;5;241m=\u001B[39m \u001B[38;5;28;01mFalse\u001B[39;00m\n",
      "\u001B[1;31mValueError\u001B[0m: in user code:\n\n    File \"C:\\Users\\mspla\\miniconda3\\envs\\seizurePy3.9\\lib\\site-packages\\keras\\engine\\training.py\", line 1160, in train_function  *\n        return step_function(self, iterator)\n    File \"C:\\Users\\mspla\\miniconda3\\envs\\seizurePy3.9\\lib\\site-packages\\keras\\engine\\training.py\", line 1146, in step_function  **\n        outputs = model.distribute_strategy.run(run_step, args=(data,))\n    File \"C:\\Users\\mspla\\miniconda3\\envs\\seizurePy3.9\\lib\\site-packages\\keras\\engine\\training.py\", line 1135, in run_step  **\n        outputs = model.train_step(data)\n    File \"C:\\Users\\mspla\\miniconda3\\envs\\seizurePy3.9\\lib\\site-packages\\keras\\engine\\training.py\", line 994, in train_step\n        loss = self.compute_loss(x, y, y_pred, sample_weight)\n    File \"C:\\Users\\mspla\\miniconda3\\envs\\seizurePy3.9\\lib\\site-packages\\keras\\engine\\training.py\", line 1052, in compute_loss\n        return self.compiled_loss(\n    File \"C:\\Users\\mspla\\miniconda3\\envs\\seizurePy3.9\\lib\\site-packages\\keras\\engine\\compile_utils.py\", line 265, in __call__\n        loss_value = loss_obj(y_t, y_p, sample_weight=sw)\n    File \"C:\\Users\\mspla\\miniconda3\\envs\\seizurePy3.9\\lib\\site-packages\\keras\\losses.py\", line 152, in __call__\n        losses = call_fn(y_true, y_pred)\n    File \"C:\\Users\\mspla\\miniconda3\\envs\\seizurePy3.9\\lib\\site-packages\\keras\\losses.py\", line 272, in call  **\n        return ag_fn(y_true, y_pred, **self._fn_kwargs)\n    File \"C:\\Users\\mspla\\miniconda3\\envs\\seizurePy3.9\\lib\\site-packages\\keras\\losses.py\", line 1486, in mean_squared_error\n        return backend.mean(tf.math.squared_difference(y_pred, y_true), axis=-1)\n\n    ValueError: Dimensions must be equal, but are 24 and 23 for '{{node mean_squared_error/SquaredDifference}} = SquaredDifference[T=DT_FLOAT](model_5/dense_7/BiasAdd, IteratorGetNext:1)' with input shapes: [?,24,1024], [?,23,1024].\n"
     ]
    }
   ],
   "execution_count": 24
  },
  {
   "metadata": {},
   "cell_type": "markdown",
   "source": [
    "#### Iteration 4\n",
    "##### Hyperparameter tuning for CNN-Transformer model"
   ],
   "id": "3a25aa69efb53dc2"
  },
  {
   "metadata": {},
   "cell_type": "code",
   "outputs": [],
   "execution_count": null,
   "source": [
    "# Hyperparameter tuning class\n",
    "class HyperparameterTuning:\n",
    "    def __init__(self, input_shape, param_grid):\n",
    "        self.input_shape = input_shape\n",
    "        self.param_grid = param_grid\n",
    "\n",
    "    def tune(self, X_train, y_train, X_val, y_val, batch_size=32, epochs=10):\n",
    "        best_model = None\n",
    "        best_accuracy = 0\n",
    "        best_params = None\n",
    "\n",
    "        for num_heads in self.param_grid['num_heads']:\n",
    "            for ff_dim in self.param_grid['ff_dim']:\n",
    "                print(f\"Training with num_heads={num_heads}, ff_dim={ff_dim}\")\n",
    "                model = CNN_Transformer(\n",
    "                    input_shape=self.input_shape,\n",
    "                    num_heads=num_heads,\n",
    "                    ff_dim=ff_dim\n",
    "                )\n",
    "                model.compile()\n",
    "\n",
    "                callbacks = [\n",
    "                    EarlyStopping(monitor='val_loss', patience=3, restore_best_weights=True),\n",
    "                    ModelCheckpoint(filepath=f'model_heads{num_heads}_ffdim{ff_dim}.h5', save_best_only=True, monitor='val_accuracy', mode='max')\n",
    "                ]\n",
    "\n",
    "                history = model.train(X_train, y_train, batch_size=batch_size, epochs=epochs, validation_data=(X_val, y_val), callbacks=callbacks)\n",
    "                val_accuracy = max(history.history['val_accuracy'])\n",
    "\n",
    "                if val_accuracy > best_accuracy:\n",
    "                    best_accuracy = val_accuracy\n",
    "                    best_model = model.model\n",
    "                    best_params = {'num_heads': num_heads, 'ff_dim': ff_dim}\n",
    "\n",
    "        print(f\"Best Parameters: {best_params}, Best Validation Accuracy: {best_accuracy}\")\n",
    "        return best_model, best_params"
   ],
   "id": "d3742046ce7afc3"
  },
  {
   "metadata": {},
   "cell_type": "code",
   "outputs": [],
   "execution_count": null,
   "source": "",
   "id": "13b1bdb9f5e6a9dd"
  },
  {
   "metadata": {},
   "cell_type": "markdown",
   "source": "### References",
   "id": "6b2b7f9dbfecbe38"
  },
  {
   "metadata": {},
   "cell_type": "markdown",
   "source": [
    "[4] Alzahy, A., Elgammaly, M., Mohammed, H., & Mostafax, H. (2019). 'Optimal EEG Window Size for Neural Seizure Detection'. In 2019 6th International Conference on Modern Control and Automation Systems (MOCAST), pp.  1-6. IEEE.\n",
    "\n",
    "[1] Badea A., Adam, A. 2021. CHB-MIT-Subdataset, EEG Seizure Analysis Dataset. Available from https://www.kaggle.com/datasets/adibadea/chbmitseizuredataset [Accessed 12 November 2024].\n",
    "\n",
    "[3] Deepa, B., & Ramesh, K. (2022). Epileptic seizure detection using deep learning through min max scaler normalization. International Journal of Health Sciences, 6(S1), 10981–10996. https://doi.org/10.53730/ijhs.v6nS1.7801\n",
    "\n",
    "[4] Liu, Z., Li, Y., Zhang, L., & Yang, Y. (2023). Hybrid deep learning model using CNN and Transformer for seizure prediction. IEEE Transactions on Neural Networks and Learning Systems, 34(2), 567-578.\n",
    "\n",
    "[5] Panch, T. (2019). Key challenges for delivering clinical impact with artificial intelligence. BMC Medicine, 17, pp. 1-10.\n",
    "\n",
    "[10] Rajkomar, A. (2023). Revolutionizing healthcare: the role of artificial intelligence in clinical practice. BMC Medical Education, 23, pp. 1-15.\n",
    "\n",
    "[29] [16] Wang, C., Zou, J.Z., Zhang, J., Chen, L.L., & Wang, M. (2011). Recognition of Epileptic EEG Using Support Vector Machines. In Wang, R. & Gu, F. (eds) Advances in Cognitive Neurodynamics (II), Chapter 4, pp. 453-459. Springer, Dordrecht.\n"
   ],
   "id": "31db565f630e47e0"
  }
 ],
 "metadata": {
  "kernelspec": {
   "display_name": "Python 3",
   "language": "python",
   "name": "python3"
  },
  "language_info": {
   "codemirror_mode": {
    "name": "ipython",
    "version": 2
   },
   "file_extension": ".py",
   "mimetype": "text/x-python",
   "name": "python",
   "nbconvert_exporter": "python",
   "pygments_lexer": "ipython2",
   "version": "2.7.6"
  }
 },
 "nbformat": 4,
 "nbformat_minor": 5
}
